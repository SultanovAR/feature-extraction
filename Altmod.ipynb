{
 "cells": [
  {
   "cell_type": "code",
   "execution_count": 8,
   "id": "be32bc21-0130-4c23-8704-f91ecab95147",
   "metadata": {},
   "outputs": [
    {
     "data": {
      "text/html": [
       "<div>\n",
       "<style scoped>\n",
       "    .dataframe tbody tr th:only-of-type {\n",
       "        vertical-align: middle;\n",
       "    }\n",
       "\n",
       "    .dataframe tbody tr th {\n",
       "        vertical-align: top;\n",
       "    }\n",
       "\n",
       "    .dataframe thead th {\n",
       "        text-align: right;\n",
       "    }\n",
       "</style>\n",
       "<table border=\"1\" class=\"dataframe\">\n",
       "  <thead>\n",
       "    <tr style=\"text-align: right;\">\n",
       "      <th></th>\n",
       "      <th>WAP001</th>\n",
       "      <th>WAP002</th>\n",
       "      <th>WAP003</th>\n",
       "      <th>WAP004</th>\n",
       "      <th>WAP005</th>\n",
       "      <th>WAP006</th>\n",
       "      <th>WAP007</th>\n",
       "      <th>WAP008</th>\n",
       "      <th>WAP009</th>\n",
       "      <th>WAP010</th>\n",
       "      <th>...</th>\n",
       "      <th>WAP520</th>\n",
       "      <th>LONGITUDE</th>\n",
       "      <th>LATITUDE</th>\n",
       "      <th>FLOOR</th>\n",
       "      <th>BUILDINGID</th>\n",
       "      <th>SPACEID</th>\n",
       "      <th>RELATIVEPOSITION</th>\n",
       "      <th>USERID</th>\n",
       "      <th>PHONEID</th>\n",
       "      <th>TIMESTAMP</th>\n",
       "    </tr>\n",
       "  </thead>\n",
       "  <tbody>\n",
       "    <tr>\n",
       "      <th>3141</th>\n",
       "      <td>100</td>\n",
       "      <td>100</td>\n",
       "      <td>100</td>\n",
       "      <td>100</td>\n",
       "      <td>100</td>\n",
       "      <td>100</td>\n",
       "      <td>100</td>\n",
       "      <td>100</td>\n",
       "      <td>100</td>\n",
       "      <td>100</td>\n",
       "      <td>...</td>\n",
       "      <td>100</td>\n",
       "      <td>-7316.8672</td>\n",
       "      <td>4.864814e+06</td>\n",
       "      <td>4</td>\n",
       "      <td>2</td>\n",
       "      <td>140</td>\n",
       "      <td>2</td>\n",
       "      <td>6</td>\n",
       "      <td>19</td>\n",
       "      <td>1371720730</td>\n",
       "    </tr>\n",
       "    <tr>\n",
       "      <th>801</th>\n",
       "      <td>100</td>\n",
       "      <td>100</td>\n",
       "      <td>100</td>\n",
       "      <td>100</td>\n",
       "      <td>100</td>\n",
       "      <td>100</td>\n",
       "      <td>100</td>\n",
       "      <td>100</td>\n",
       "      <td>100</td>\n",
       "      <td>100</td>\n",
       "      <td>...</td>\n",
       "      <td>100</td>\n",
       "      <td>-7504.8814</td>\n",
       "      <td>4.864866e+06</td>\n",
       "      <td>2</td>\n",
       "      <td>1</td>\n",
       "      <td>9</td>\n",
       "      <td>2</td>\n",
       "      <td>2</td>\n",
       "      <td>23</td>\n",
       "      <td>1371715555</td>\n",
       "    </tr>\n",
       "    <tr>\n",
       "      <th>14580</th>\n",
       "      <td>100</td>\n",
       "      <td>100</td>\n",
       "      <td>100</td>\n",
       "      <td>100</td>\n",
       "      <td>100</td>\n",
       "      <td>100</td>\n",
       "      <td>100</td>\n",
       "      <td>100</td>\n",
       "      <td>100</td>\n",
       "      <td>100</td>\n",
       "      <td>...</td>\n",
       "      <td>100</td>\n",
       "      <td>-7373.0528</td>\n",
       "      <td>4.864845e+06</td>\n",
       "      <td>1</td>\n",
       "      <td>2</td>\n",
       "      <td>116</td>\n",
       "      <td>2</td>\n",
       "      <td>15</td>\n",
       "      <td>11</td>\n",
       "      <td>1371721710</td>\n",
       "    </tr>\n",
       "    <tr>\n",
       "      <th>18964</th>\n",
       "      <td>100</td>\n",
       "      <td>100</td>\n",
       "      <td>100</td>\n",
       "      <td>100</td>\n",
       "      <td>100</td>\n",
       "      <td>100</td>\n",
       "      <td>100</td>\n",
       "      <td>100</td>\n",
       "      <td>100</td>\n",
       "      <td>100</td>\n",
       "      <td>...</td>\n",
       "      <td>100</td>\n",
       "      <td>-7327.9291</td>\n",
       "      <td>4.864824e+06</td>\n",
       "      <td>1</td>\n",
       "      <td>2</td>\n",
       "      <td>112</td>\n",
       "      <td>2</td>\n",
       "      <td>15</td>\n",
       "      <td>11</td>\n",
       "      <td>1371723315</td>\n",
       "    </tr>\n",
       "    <tr>\n",
       "      <th>1071</th>\n",
       "      <td>100</td>\n",
       "      <td>100</td>\n",
       "      <td>100</td>\n",
       "      <td>100</td>\n",
       "      <td>100</td>\n",
       "      <td>100</td>\n",
       "      <td>100</td>\n",
       "      <td>100</td>\n",
       "      <td>100</td>\n",
       "      <td>100</td>\n",
       "      <td>...</td>\n",
       "      <td>100</td>\n",
       "      <td>-7376.4010</td>\n",
       "      <td>4.864774e+06</td>\n",
       "      <td>3</td>\n",
       "      <td>2</td>\n",
       "      <td>223</td>\n",
       "      <td>2</td>\n",
       "      <td>2</td>\n",
       "      <td>23</td>\n",
       "      <td>1371720963</td>\n",
       "    </tr>\n",
       "  </tbody>\n",
       "</table>\n",
       "<p>5 rows × 529 columns</p>\n",
       "</div>"
      ],
      "text/plain": [
       "       WAP001  WAP002  WAP003  WAP004  WAP005  WAP006  WAP007  WAP008  WAP009  \\\n",
       "3141      100     100     100     100     100     100     100     100     100   \n",
       "801       100     100     100     100     100     100     100     100     100   \n",
       "14580     100     100     100     100     100     100     100     100     100   \n",
       "18964     100     100     100     100     100     100     100     100     100   \n",
       "1071      100     100     100     100     100     100     100     100     100   \n",
       "\n",
       "       WAP010  ...  WAP520  LONGITUDE      LATITUDE  FLOOR  BUILDINGID  \\\n",
       "3141      100  ...     100 -7316.8672  4.864814e+06      4           2   \n",
       "801       100  ...     100 -7504.8814  4.864866e+06      2           1   \n",
       "14580     100  ...     100 -7373.0528  4.864845e+06      1           2   \n",
       "18964     100  ...     100 -7327.9291  4.864824e+06      1           2   \n",
       "1071      100  ...     100 -7376.4010  4.864774e+06      3           2   \n",
       "\n",
       "       SPACEID  RELATIVEPOSITION  USERID  PHONEID   TIMESTAMP  \n",
       "3141       140                 2       6       19  1371720730  \n",
       "801          9                 2       2       23  1371715555  \n",
       "14580      116                 2      15       11  1371721710  \n",
       "18964      112                 2      15       11  1371723315  \n",
       "1071       223                 2       2       23  1371720963  \n",
       "\n",
       "[5 rows x 529 columns]"
      ]
     },
     "execution_count": 8,
     "metadata": {},
     "output_type": "execute_result"
    }
   ],
   "source": [
    "import pandas as pd\n",
    "from sklearn.model_selection import train_test_split\n",
    "\n",
    "train = pd.read_csv('./UJIndoorLoc/trainingData.csv')\n",
    "test = pd.read_csv('./UJIndoorLoc/validationData.csv')\n",
    "train, valid = train_test_split(train, test_size=0.3, random_state=1)\n",
    "train.head()"
   ]
  },
  {
   "cell_type": "code",
   "execution_count": 11,
   "id": "e59bc632-e7b8-468f-859c-4fd3328472a3",
   "metadata": {
    "tags": []
   },
   "outputs": [],
   "source": [
    "never_used_features = ['FLOOR', 'BUILDINGID', 'SPACEID', 'USERID', 'PHONEID']"
   ]
  },
  {
   "cell_type": "code",
   "execution_count": 12,
   "id": "e5a0d3a0-bbe4-454b-9b79-e86c52cb55b9",
   "metadata": {},
   "outputs": [],
   "source": [
    "features = {'current': list(set(train.columns) - set(never_used_features))}\n",
    "target = 'FLOOR'"
   ]
  },
  {
   "cell_type": "code",
   "execution_count": 14,
   "id": "783a8840-0657-4e57-91e2-6e3ffb9a6c59",
   "metadata": {},
   "outputs": [],
   "source": [
    "import category_encoders as ce\n",
    "from sklearn.impute import SimpleImputer\n",
    "from pandas.api.types import is_numeric_dtype\n",
    "from sklearn.compose import ColumnTransformer\n",
    "\n",
    "class FeatureEncoding():\n",
    "    def __init__(self,\n",
    "                 numeric_features=[],\n",
    "                 categorical_threshold=20,\n",
    "                 cat_sigma=1e-4,\n",
    "                 num_strategy='median',\n",
    "                 num_strategy_constant=1e10,\n",
    "                 columns_none_threshold=0.0):\n",
    "        self.categorical_threshold = categorical_threshold\n",
    "        self.cat_sigma = cat_sigma\n",
    "        self.num_strategy = num_strategy\n",
    "        self.columns_none_threshold = columns_none_threshold\n",
    "        self.num_strategy_constant = num_strategy_constant\n",
    "        self.prior_num_features = numeric_features\n",
    "    \n",
    "    def _find_categorical_features(self, df):\n",
    "        cat_features = [col for col, dtype in zip(df.columns, df.dtypes) if not is_numeric_dtype(dtype)]\n",
    "        features_with_little_variety = df.columns[(df.nunique() < self.categorical_threshold)]\n",
    "        return list(set(cat_features) | set(features_with_little_variety) - set(self.prior_num_features))\n",
    "    \n",
    "    def fit(self, df, target=None):\n",
    "        self.cat_features = self._find_categorical_features(df)\n",
    "        self.cat_features = list(set(self.cat_features)) # - set(self.almost_none))\n",
    "        self.num_features = list(set(df.columns) - set(self.cat_features)) # - set(self.almost_none))\n",
    "        \n",
    "        self.cat_encoder = ce.CatBoostEncoder(cols=self.cat_features,\n",
    "                                              return_df=True,\n",
    "                                              random_state=self.random_state)\n",
    "        self.cat_encoder.fit(df[self.cat_features], target)\n",
    "        \n",
    "        self.num_encoder = SimpleImputer(strategy=self.num_strategy,\n",
    "                                         fill_value=self.num_strategy_constant)\n",
    "        self.num_encoder.fit(df[self.num_features], target)\n",
    "        \n",
    "    def transform(self, df):\n",
    "        df_cat = self.cat_encoder.transform(df[self.cat_features])\n",
    "        df_num = pd.DataFrame(self.num_encoder.transform(df[self.num_features]),\n",
    "                              columns=self.num_features,\n",
    "                              index=df.index)\n",
    "        return pd.concat([df_cat, df_num], axis=1)\n",
    "    \n",
    "    def fit_transform(self, df, target=None):\n",
    "        self.fit(df, target)\n",
    "        return self.transform(df)"
   ]
  },
  {
   "cell_type": "code",
   "execution_count": 17,
   "id": "7d4873bc-8e60-4b27-bdb6-a46adeccc4a4",
   "metadata": {},
   "outputs": [],
   "source": [
    "feature_encoder = FeatureEncoding(cat_sigma=None, columns_none_threshold=0.05)\n",
    "encoded_train_x = feature_encoder.fit_transform(train_x, train_y)\n",
    "encoded_oos_x = feature_encoder.transform(oos_x)\n",
    "encoded_oot_x = feature_encoder.transform(oot_x)"
   ]
  },
  {
   "cell_type": "markdown",
   "id": "22cd5c0b-6b21-40ab-b20e-858408a8e7ff",
   "metadata": {},
   "source": [
    "# Feature Selection"
   ]
  },
  {
   "cell_type": "code",
   "execution_count": 18,
   "id": "1b489979-2c3a-48b7-8bcb-4c97fdfd2ea6",
   "metadata": {},
   "outputs": [
    {
     "data": {
      "text/plain": [
       "(4868, 133)"
      ]
     },
     "execution_count": 18,
     "metadata": {},
     "output_type": "execute_result"
    }
   ],
   "source": [
    "from lightgbm.sklearn import LGBMClassifier\n",
    "from sklearn.model_selection import cross_val_score\n",
    "from sklearn.metrics import roc_auc_score, make_scorer\n",
    "from catboost import CatBoostClassifier\n",
    "import numpy as np\n",
    "\n",
    "np.random.seed(1)\n",
    "encoded_train_x.shape"
   ]
  },
  {
   "cell_type": "code",
   "execution_count": 19,
   "id": "3e7eef7e-1213-4981-9060-8cf4a0eee177",
   "metadata": {},
   "outputs": [
    {
     "name": "stdout",
     "output_type": "stream",
     "text": [
      "len(feat): 133 Mean: 0.5185, scores: [0.49028293 0.55721243 0.54090909 0.54856481 0.48386347 0.49983724\n",
      " 0.52503023 0.50244141]\n"
     ]
    }
   ],
   "source": [
    "default_model = LGBMClassifier(max_depth=7, n_estimator=150, learning_rate=0.05, n_jobs=10)\n",
    "scores = cross_val_score(default_model, encoded_train_x, train_y, cv=8, n_jobs=10, scoring=make_scorer(gini_score, needs_proba=True))\n",
    "print(f\"len(feat): {encoded_train_x.shape[1]} Mean: {scores.mean():.4f}, scores: {scores}\")"
   ]
  },
  {
   "cell_type": "code",
   "execution_count": 20,
   "id": "f0e03a05-06b2-46ec-95d7-0219d679abd9",
   "metadata": {},
   "outputs": [
    {
     "data": {
      "text/plain": [
       "116"
      ]
     },
     "execution_count": 20,
     "metadata": {},
     "output_type": "execute_result"
    }
   ],
   "source": [
    "upper = encoded_train_x.corr().abs().where(np.triu(np.ones(len(encoded_train_x.columns)), k=1).astype(np.bool))\n",
    "to_drop = [column for column in upper.columns if any(upper[column] > 0.95)]\n",
    "len(encoded_train_x.columns) - len(to_drop)"
   ]
  },
  {
   "cell_type": "code",
   "execution_count": 21,
   "id": "bff7759f-87d8-4ae6-baca-49f4b0b0a148",
   "metadata": {},
   "outputs": [],
   "source": [
    "encoded_train_x = encoded_train_x.drop(labels=to_drop, axis=1)\n",
    "encoded_oos_x = encoded_oos_x.drop(labels=to_drop, axis=1)\n",
    "encoded_oot_x = encoded_oot_x.drop(labels=to_drop, axis=1)"
   ]
  },
  {
   "cell_type": "code",
   "execution_count": 22,
   "id": "eafa156f-b12e-4316-9fa0-06c4b5af338a",
   "metadata": {},
   "outputs": [
    {
     "name": "stdout",
     "output_type": "stream",
     "text": [
      "len(feat): 116 Mean: 0.5225, scores: [0.50480056 0.555218   0.53910019 0.55203704 0.48211961 0.51453218\n",
      " 0.52898298 0.50297619]\n"
     ]
    }
   ],
   "source": [
    "scores = cross_val_score(default_model, encoded_train_x, train_y, cv=8, n_jobs=10, scoring=make_scorer(gini_score, needs_proba=True))\n",
    "print(f\"len(feat): {encoded_train_x.shape[1]} Mean: {scores.mean():.4f}, scores: {scores}\")"
   ]
  },
  {
   "cell_type": "code",
   "execution_count": null,
   "id": "98c06d7f-9632-4226-bfe2-060557709e55",
   "metadata": {},
   "outputs": [],
   "source": []
  },
  {
   "cell_type": "code",
   "execution_count": 23,
   "id": "3790c731-9240-4b78-a6af-603c32d0c215",
   "metadata": {},
   "outputs": [
    {
     "data": {
      "text/plain": [
       "SelectPercentile(percentile=70,\n",
       "                 score_func=<function mutual_info_classif at 0x7f59d8d386a8>)"
      ]
     },
     "execution_count": 23,
     "metadata": {},
     "output_type": "execute_result"
    }
   ],
   "source": [
    "from sklearn.feature_selection import chi2, SelectPercentile, mutual_info_classif\n",
    "\n",
    "def unvariative_selection(unvariative_selector, df):\n",
    "    transformed = unvariative_selector.transform(df)\n",
    "    transformed = pd.DataFrame(transformed, columns=df.columns[unvariative_selector.get_support()])\n",
    "    return transformed\n",
    "\n",
    "unvariative_selector = SelectPercentile(mutual_info_classif, percentile=70)\n",
    "unvariative_selector.fit(encoded_train_x, train_y)"
   ]
  },
  {
   "cell_type": "code",
   "execution_count": 24,
   "id": "f1d49784-2437-4671-98a3-5cecad3c98d4",
   "metadata": {},
   "outputs": [],
   "source": [
    "encoded_train_x = unvariative_selection(unvariative_selector, encoded_train_x)\n",
    "encoded_oos_x = unvariative_selection(unvariative_selector, encoded_oos_x)\n",
    "encoded_oot_x = unvariative_selection(unvariative_selector, encoded_oot_x)"
   ]
  },
  {
   "cell_type": "code",
   "execution_count": 25,
   "id": "35ea423a-6743-4ae6-89d0-c2df85aa5422",
   "metadata": {},
   "outputs": [
    {
     "name": "stdout",
     "output_type": "stream",
     "text": [
      "len(feat): 81 Mean: 0.5199, scores: [0.5119666  0.5643321  0.53993506 0.55002315 0.48314267 0.4936756\n",
      " 0.51605515 0.50016276]\n"
     ]
    }
   ],
   "source": [
    "scores = cross_val_score(default_model, encoded_train_x, train_y, cv=8, n_jobs=10, scoring=make_scorer(gini_score, needs_proba=True))\n",
    "print(f\"len(feat): {encoded_train_x.shape[1]} Mean: {scores.mean():.4f}, scores: {scores}\")"
   ]
  },
  {
   "cell_type": "code",
   "execution_count": null,
   "id": "b4b36186-bf3c-43f8-a12c-e54b62482185",
   "metadata": {},
   "outputs": [],
   "source": []
  },
  {
   "cell_type": "code",
   "execution_count": 26,
   "id": "639d6fa3-10a6-4740-a865-35c442eb93b4",
   "metadata": {},
   "outputs": [],
   "source": [
    "import boostaroota as br"
   ]
  },
  {
   "cell_type": "code",
   "execution_count": 27,
   "id": "02ab39b7-0efc-4fc8-9b3c-21795749a8be",
   "metadata": {
    "tags": []
   },
   "outputs": [
    {
     "name": "stdout",
     "output_type": "stream",
     "text": [
      "Round:  1  iteration:  1\n",
      "Round:  1  iteration:  2\n",
      "Round:  1  iteration:  3\n",
      "Round:  1  iteration:  4\n",
      "Round:  1  iteration:  5\n",
      "Round:  1  iteration:  6\n",
      "Round:  1  iteration:  7\n",
      "Round:  1  iteration:  8\n",
      "Round:  1  iteration:  9\n",
      "Round:  1  iteration:  10\n",
      "Round:  1  iteration:  11\n",
      "Round:  1  iteration:  12\n",
      "Round:  1  iteration:  13\n",
      "Round:  1  iteration:  14\n",
      "Round:  1  iteration:  15\n",
      "Round:  1  iteration:  16\n",
      "Round:  1  iteration:  17\n",
      "Round:  1  iteration:  18\n",
      "Round:  1  iteration:  19\n",
      "Round:  1  iteration:  20\n",
      "Round:  1  iteration:  21\n",
      "Round:  1  iteration:  22\n",
      "Round:  1  iteration:  23\n",
      "Round:  1  iteration:  24\n",
      "Round:  1  iteration:  25\n",
      "Round:  1  iteration:  26\n",
      "Round:  1  iteration:  27\n",
      "Round:  1  iteration:  28\n",
      "Round:  1  iteration:  29\n",
      "Round:  1  iteration:  30\n",
      "Round:  1  iteration:  31\n",
      "Round:  1  iteration:  32\n",
      "Round:  1  iteration:  33\n",
      "Round:  1  iteration:  34\n",
      "Round:  1  iteration:  35\n",
      "Round:  1  iteration:  36\n",
      "Round:  1  iteration:  37\n",
      "Round:  1  iteration:  38\n",
      "Round:  1  iteration:  39\n",
      "Round:  1  iteration:  40\n",
      "Round:  1  iteration:  41\n",
      "Round:  1  iteration:  42\n",
      "Round:  1  iteration:  43\n",
      "Round:  1  iteration:  44\n",
      "Round:  1  iteration:  45\n",
      "Round:  1  iteration:  46\n",
      "Round:  1  iteration:  47\n",
      "Round:  1  iteration:  48\n",
      "Round:  1  iteration:  49\n",
      "Round:  1  iteration:  50\n",
      "Round:  2  iteration:  1\n",
      "Round:  2  iteration:  2\n",
      "Round:  2  iteration:  3\n",
      "Round:  2  iteration:  4\n",
      "Round:  2  iteration:  5\n",
      "Round:  2  iteration:  6\n",
      "Round:  2  iteration:  7\n",
      "Round:  2  iteration:  8\n",
      "Round:  2  iteration:  9\n",
      "Round:  2  iteration:  10\n",
      "Round:  2  iteration:  11\n",
      "Round:  2  iteration:  12\n",
      "Round:  2  iteration:  13\n",
      "Round:  2  iteration:  14\n",
      "Round:  2  iteration:  15\n",
      "Round:  2  iteration:  16\n",
      "Round:  2  iteration:  17\n",
      "Round:  2  iteration:  18\n",
      "Round:  2  iteration:  19\n",
      "Round:  2  iteration:  20\n",
      "Round:  2  iteration:  21\n",
      "Round:  2  iteration:  22\n",
      "Round:  2  iteration:  23\n",
      "Round:  2  iteration:  24\n",
      "Round:  2  iteration:  25\n",
      "Round:  2  iteration:  26\n",
      "Round:  2  iteration:  27\n",
      "Round:  2  iteration:  28\n",
      "Round:  2  iteration:  29\n",
      "Round:  2  iteration:  30\n",
      "Round:  2  iteration:  31\n",
      "Round:  2  iteration:  32\n",
      "Round:  2  iteration:  33\n",
      "Round:  2  iteration:  34\n",
      "Round:  2  iteration:  35\n",
      "Round:  2  iteration:  36\n",
      "Round:  2  iteration:  37\n",
      "Round:  2  iteration:  38\n",
      "Round:  2  iteration:  39\n",
      "Round:  2  iteration:  40\n",
      "Round:  2  iteration:  41\n",
      "Round:  2  iteration:  42\n",
      "Round:  2  iteration:  43\n",
      "Round:  2  iteration:  44\n",
      "Round:  2  iteration:  45\n",
      "Round:  2  iteration:  46\n",
      "Round:  2  iteration:  47\n",
      "Round:  2  iteration:  48\n",
      "Round:  2  iteration:  49\n",
      "Round:  2  iteration:  50\n",
      "Round:  3  iteration:  1\n",
      "Round:  3  iteration:  2\n",
      "Round:  3  iteration:  3\n",
      "Round:  3  iteration:  4\n",
      "Round:  3  iteration:  5\n",
      "Round:  3  iteration:  6\n",
      "Round:  3  iteration:  7\n",
      "Round:  3  iteration:  8\n",
      "Round:  3  iteration:  9\n",
      "Round:  3  iteration:  10\n",
      "Round:  3  iteration:  11\n",
      "Round:  3  iteration:  12\n",
      "Round:  3  iteration:  13\n",
      "Round:  3  iteration:  14\n",
      "Round:  3  iteration:  15\n",
      "Round:  3  iteration:  16\n",
      "Round:  3  iteration:  17\n",
      "Round:  3  iteration:  18\n",
      "Round:  3  iteration:  19\n",
      "Round:  3  iteration:  20\n",
      "Round:  3  iteration:  21\n",
      "Round:  3  iteration:  22\n",
      "Round:  3  iteration:  23\n",
      "Round:  3  iteration:  24\n",
      "Round:  3  iteration:  25\n",
      "Round:  3  iteration:  26\n",
      "Round:  3  iteration:  27\n",
      "Round:  3  iteration:  28\n",
      "Round:  3  iteration:  29\n",
      "Round:  3  iteration:  30\n",
      "Round:  3  iteration:  31\n",
      "Round:  3  iteration:  32\n",
      "Round:  3  iteration:  33\n",
      "Round:  3  iteration:  34\n",
      "Round:  3  iteration:  35\n",
      "Round:  3  iteration:  36\n",
      "Round:  3  iteration:  37\n",
      "Round:  3  iteration:  38\n",
      "Round:  3  iteration:  39\n",
      "Round:  3  iteration:  40\n",
      "Round:  3  iteration:  41\n",
      "Round:  3  iteration:  42\n",
      "Round:  3  iteration:  43\n",
      "Round:  3  iteration:  44\n",
      "Round:  3  iteration:  45\n",
      "Round:  3  iteration:  46\n",
      "Round:  3  iteration:  47\n",
      "Round:  3  iteration:  48\n",
      "Round:  3  iteration:  49\n",
      "Round:  3  iteration:  50\n",
      "BoostARoota ran successfully! Algorithm went through  3  rounds.\n"
     ]
    },
    {
     "data": {
      "text/plain": [
       "<boostaroota.boostaroota.BoostARoota at 0x7f58343a6748>"
      ]
     },
     "execution_count": 27,
     "metadata": {},
     "output_type": "execute_result"
    }
   ],
   "source": [
    "br_chooser = br.BoostARoota(clf=default_model, metric='logloss', cutoff=4, iters=50, delta=0.01)\n",
    "br_chooser.fit(encoded_train_x, train_y)"
   ]
  },
  {
   "cell_type": "code",
   "execution_count": 28,
   "id": "cbc83870-8d0a-4f94-a776-e9f9be2c4539",
   "metadata": {},
   "outputs": [],
   "source": [
    "encoded_train_x = encoded_train_x[br_chooser.keep_vars_]\n",
    "encoded_oos_x = encoded_oos_x[br_chooser.keep_vars_]\n",
    "encoded_oot_x = encoded_oot_x[br_chooser.keep_vars_]"
   ]
  },
  {
   "cell_type": "code",
   "execution_count": 29,
   "id": "fc7cffab-86d2-4499-bb33-8ab69649dc77",
   "metadata": {},
   "outputs": [
    {
     "name": "stdout",
     "output_type": "stream",
     "text": [
      "len(feat): 47 Mean: 0.5209, scores: [0.50925325 0.55607607 0.55064935 0.55011574 0.48228237 0.48863002\n",
      " 0.52964565 0.5008138 ]\n"
     ]
    }
   ],
   "source": [
    "scores = cross_val_score(default_model, encoded_train_x, train_y, cv=8, n_jobs=10, scoring=make_scorer(gini_score, needs_proba=True))\n",
    "print(f\"len(feat): {encoded_train_x.shape[1]} Mean: {scores.mean():.4f}, scores: {scores}\")"
   ]
  },
  {
   "cell_type": "code",
   "execution_count": null,
   "id": "768e0e47-a7fb-4f07-92ea-b42dc2d9966f",
   "metadata": {},
   "outputs": [],
   "source": []
  },
  {
   "cell_type": "code",
   "execution_count": 30,
   "id": "76a5c4b9-326a-41dd-a3b4-c145756bbd19",
   "metadata": {},
   "outputs": [],
   "source": [
    "from genetic_selection import GeneticSelectionCV"
   ]
  },
  {
   "cell_type": "code",
   "execution_count": 31,
   "id": "ac064347-0b07-4c23-b35c-a20b41431b64",
   "metadata": {},
   "outputs": [],
   "source": [
    "gen_selector = GeneticSelectionCV(estimator=default_model,\n",
    "                                  cv=8,\n",
    "                                  scoring=make_scorer(gini_score, needs_proba=True),\n",
    "                                  n_population=55,\n",
    "                                  max_features=16,\n",
    "                                  crossover_proba=0.4,\n",
    "                                  mutation_proba=0.3,\n",
    "                                  crossover_independent_proba=0.5,\n",
    "                                  mutation_independent_proba=0.15,\n",
    "                                  tournament_size=6,\n",
    "                                  n_gen_no_change=10,\n",
    "                                  caching=True,\n",
    "                                  n_jobs=1, )"
   ]
  },
  {
   "cell_type": "code",
   "execution_count": 32,
   "id": "d2cf63b1-9b7a-46cd-ae6d-f5568d49cfba",
   "metadata": {},
   "outputs": [],
   "source": [
    "['industry', 'sd_stlmnt_type_cd', 'lne_pl_agr_os_qty', 'crd_dc_open_qty',\n",
    "       'crd_ever_nflag', 'srv_ap_p2p_qty', 'srv_sbol_txn_web_1m_qty',\n",
    "       'crd_pos_utilities_3m_qty', 'srv_thanks_nflag', 'crd_cc_act_qty',\n",
    "       'crd_inf_cc_total_qty', 'prd_ap_othr_active_qty',\n",
    "       'crd_otf_trnf_org_rub_amt', 'srv_ap_utl_mnth_1st_txn_qty',\n",
    "       'crd_dc_mnth_payroll_open_qty', 'crd_dc_pos_eat_out_rub_amt',\n",
    "       'crd_dc_mnth_social_open_qty', 'srv_sbol_txn_3m_qty',\n",
    "       'crd_txn_snpd_pos_ever_qty', 'dep_pop_tot_bal_rub_amt', 'lifetime_days',\n",
    "       'crd_trx_dc_cash_6m_spnd_amt', 'crd_dc_mnth_snc_lst_open_qty',\n",
    "       'crd_trx_dc_cash_6m_qty', 'crd_trx_spnd_cash_avg_3m_amt',\n",
    "       'crd_dc_mnth_payroll_act_qty', 'dep_topup_12m_avg_rub_amt',\n",
    "       'srv_ap_tlc_mnth_lst_txn_qty', 'crd_otf_cc_pos_spend_qty',\n",
    "       'crd_pos_telecom_rub_3m_amt', 'crd_dc_lst_bal_rub_amt',\n",
    "       'srv_sbol_txn_atm_3m_amt', 'crd_trx_dc_cash_3m_qty',\n",
    "       'prd_mnth_1st_prod_open_qty']\n",
    "pass"
   ]
  },
  {
   "cell_type": "code",
   "execution_count": 33,
   "id": "6d5d2527-1a6a-40c4-ae3d-2826667f1197",
   "metadata": {},
   "outputs": [],
   "source": [
    "gen_selector = gen_selector.fit(encoded_train_x, train_y)"
   ]
  },
  {
   "cell_type": "code",
   "execution_count": 34,
   "id": "ef1eff99-92d4-40ad-be2a-ef431533a203",
   "metadata": {},
   "outputs": [],
   "source": [
    "encoded_train_x = encoded_train_x[encoded_train_x.columns[gen_selector.get_support()]]\n",
    "encoded_oos_x = encoded_oos_x[encoded_oos_x.columns[gen_selector.get_support()]]\n",
    "encoded_oot_x = encoded_oot_x[encoded_oot_x.columns[gen_selector.get_support()]]"
   ]
  },
  {
   "cell_type": "code",
   "execution_count": 35,
   "id": "39fb1b92-a3a5-400e-9c1f-09c88336e69e",
   "metadata": {},
   "outputs": [
    {
     "data": {
      "text/plain": [
       "['crd_dc_lst_ips_cd',\n",
       " 'sd_name_age_segment_cd',\n",
       " 'srv_thanks_nflag',\n",
       " 'crd_ever_nflag',\n",
       " 'crd_dc_open_qty',\n",
       " 'sd_stlmnt_type_cd',\n",
       " 'industry',\n",
       " 'crd_trx_spnd_pos_avg_3m_amt',\n",
       " 'crd_trx_dc_cash_6m_spnd_amt',\n",
       " 'tp_mnth_lst_grace_end_exp_qty',\n",
       " 'crd_trx_dc_cash_6m_spnd_qty',\n",
       " 'crd_pos_special_rub_3m_amt',\n",
       " 'crd_dc_mnth_social_act_qty',\n",
       " 'lifetime_days']"
      ]
     },
     "execution_count": 35,
     "metadata": {},
     "output_type": "execute_result"
    }
   ],
   "source": [
    "list(encoded_train_x.columns)"
   ]
  },
  {
   "cell_type": "code",
   "execution_count": 37,
   "id": "e8ed64cf-ab6f-4f07-ab71-c07b0702982e",
   "metadata": {},
   "outputs": [
    {
     "name": "stdout",
     "output_type": "stream",
     "text": [
      "Have found new features, with score=0.19462158219900966:\n",
      " ['crd_dc_lst_ips_cd']\n",
      "Have found new features, with score=0.21147552534271283:\n",
      " ['crd_ever_nflag']\n",
      "Have found new features, with score=0.344488236089101:\n",
      " ['industry']\n",
      "Have found new features, with score=0.42146021215758245:\n",
      " ['crd_dc_lst_ips_cd', 'industry']\n",
      "Have found new features, with score=0.4238175681365902:\n",
      " ['crd_ever_nflag', 'industry']\n",
      "Have found new features, with score=0.47170715755624376:\n",
      " ['industry', 'lifetime_days']\n",
      "Have found new features, with score=0.5269491801317275:\n",
      " ['crd_dc_lst_ips_cd', 'industry', 'lifetime_days']\n",
      "Have found new features, with score=0.5346328981748555:\n",
      " ['crd_ever_nflag', 'industry', 'lifetime_days']\n",
      "Have found new features, with score=0.5360243295451861:\n",
      " ['crd_dc_lst_ips_cd', 'sd_name_age_segment_cd', 'industry', 'lifetime_days']\n",
      "Have found new features, with score=0.5365839894245656:\n",
      " ['crd_dc_lst_ips_cd', 'srv_thanks_nflag', 'industry', 'lifetime_days']\n",
      "Have found new features, with score=0.5430302478373767:\n",
      " ['sd_name_age_segment_cd', 'crd_ever_nflag', 'industry', 'lifetime_days']\n",
      "Have found new features, with score=0.5473427681866229:\n",
      " ['srv_thanks_nflag', 'crd_ever_nflag', 'industry', 'lifetime_days']\n",
      "Have found new features, with score=0.5548384810047757:\n",
      " ['sd_name_age_segment_cd', 'srv_thanks_nflag', 'crd_ever_nflag', 'industry', 'lifetime_days']\n",
      "Have found new features, with score=0.5565220242926716:\n",
      " ['sd_name_age_segment_cd', 'srv_thanks_nflag', 'crd_ever_nflag', 'industry', 'tp_mnth_lst_grace_end_exp_qty', 'lifetime_days']\n"
     ]
    }
   ],
   "source": [
    "from itertools import combinations\n",
    "\n",
    "best = {'features': [], 'metric': -1}\n",
    "for repeat in range(1, 8):\n",
    "    for features in combinations(list(encoded_train_x.columns), repeat):\n",
    "        features = list(features)\n",
    "        score = cross_val_score(default_model,\n",
    "                                 encoded_train_x[features],\n",
    "                                 train_y,\n",
    "                                 cv=8,\n",
    "                                 n_jobs=10,\n",
    "                                 scoring=make_scorer(gini_score, needs_proba=True)).mean()\n",
    "        if score > best['metric']:\n",
    "            best['metric'] = score\n",
    "            best['features'] = features\n",
    "            print(f'Have found new features, with score={best[\"metric\"]}:\\n {best[\"features\"]}')\n",
    "        "
   ]
  },
  {
   "cell_type": "code",
   "execution_count": 38,
   "id": "ab16c72e-efaa-4f2a-8ad8-44c48c4c296a",
   "metadata": {},
   "outputs": [],
   "source": [
    "ff = ['sd_name_age_segment_cd', 'srv_thanks_nflag', 'crd_ever_nflag', 'industry', 'tp_mnth_lst_grace_end_exp_qty', 'lifetime_days']"
   ]
  },
  {
   "cell_type": "code",
   "execution_count": 39,
   "id": "e6620f67-393a-410f-b149-31377f638662",
   "metadata": {},
   "outputs": [],
   "source": [
    "encoded_train_x = encoded_train_x[ff]\n",
    "encoded_oos_x = encoded_oos_x[ff]\n",
    "encoded_oot_x = encoded_oot_x[ff]"
   ]
  },
  {
   "cell_type": "code",
   "execution_count": null,
   "id": "a91a03c3-2e47-4b0d-bcd0-60a91916ce50",
   "metadata": {},
   "outputs": [],
   "source": []
  },
  {
   "cell_type": "code",
   "execution_count": 40,
   "id": "63893b5e-85c6-4320-b244-7fb0bea1f23b",
   "metadata": {},
   "outputs": [],
   "source": [
    "from sklearn.pipeline import Pipeline\n",
    "from sklearn.preprocessing import StandardScaler\n",
    "from sklearn.neighbors import KNeighborsRegressor\n",
    "from sklearn.model_selection import GridSearchCV"
   ]
  },
  {
   "cell_type": "code",
   "execution_count": 41,
   "id": "145949c9-11fb-4be0-8848-96e752ac89d7",
   "metadata": {},
   "outputs": [],
   "source": [
    "from sklearn.ensemble import RandomForestClassifier\n",
    "from sklearn.model_selection import cross_val_score\n",
    "import optuna\n",
    "from optuna import Trial"
   ]
  },
  {
   "cell_type": "code",
   "execution_count": 42,
   "id": "86b5d7e4-2dfc-4791-91c5-115de5b1cc60",
   "metadata": {},
   "outputs": [],
   "source": [
    "def objective(trial: Trial):\n",
    "    n_estimators = trial.suggest_int('n_estimators', 50, 400, step=50)\n",
    "    max_depth = trial.suggest_int('max_depth', 2, 32, log=True)\n",
    "    min_samples_split = trial.suggest_categorical('min_samples_split', [2, 4, 8, 16])\n",
    "    max_features = trial.suggest_categorical('max_features', ['auto', 'sqrt', 'log2'])\n",
    "    \n",
    "    rf = RandomForestClassifier(n_estimators=n_estimators,\n",
    "                                max_depth=max_depth,\n",
    "                                min_samples_split=min_samples_split,\n",
    "                                max_features=max_features,\n",
    "                                n_jobs=5)\n",
    "    return cross_val_score(estimator=rf, X=encoded_train_x, y=train_y, scoring=make_scorer(gini_score, needs_proba=True), cv=3, n_jobs=7).mean()"
   ]
  },
  {
   "cell_type": "code",
   "execution_count": 43,
   "id": "2d5053aa-7b84-472d-bc62-9e949f2ebf66",
   "metadata": {
    "tags": []
   },
   "outputs": [
    {
     "name": "stderr",
     "output_type": "stream",
     "text": [
      "\u001b[32m[I 2022-04-29 13:16:31,165]\u001b[0m A new study created in memory with name: no-name-36ec5a86-d40f-422e-b4b5-5c245b3a190a\u001b[0m\n",
      "\u001b[32m[I 2022-04-29 13:16:35,704]\u001b[0m Trial 0 finished with value: 0.47546409572766185 and parameters: {'n_estimators': 100, 'max_depth': 25, 'min_samples_split': 2, 'max_features': 'log2'}. Best is trial 0 with value: 0.47546409572766185.\u001b[0m\n",
      "\u001b[32m[I 2022-04-29 13:16:40,336]\u001b[0m Trial 1 finished with value: 0.49723508643634196 and parameters: {'n_estimators': 250, 'max_depth': 4, 'min_samples_split': 2, 'max_features': 'auto'}. Best is trial 1 with value: 0.49723508643634196.\u001b[0m\n",
      "\u001b[32m[I 2022-04-29 13:16:44,824]\u001b[0m Trial 2 finished with value: 0.5358220665280887 and parameters: {'n_estimators': 250, 'max_depth': 8, 'min_samples_split': 4, 'max_features': 'sqrt'}. Best is trial 2 with value: 0.5358220665280887.\u001b[0m\n",
      "\u001b[32m[I 2022-04-29 13:16:45,430]\u001b[0m Trial 3 finished with value: 0.5086278825948544 and parameters: {'n_estimators': 150, 'max_depth': 5, 'min_samples_split': 2, 'max_features': 'auto'}. Best is trial 2 with value: 0.5358220665280887.\u001b[0m\n",
      "\u001b[32m[I 2022-04-29 13:16:45,911]\u001b[0m Trial 4 finished with value: 0.4853734397850525 and parameters: {'n_estimators': 100, 'max_depth': 26, 'min_samples_split': 4, 'max_features': 'sqrt'}. Best is trial 2 with value: 0.5358220665280887.\u001b[0m\n",
      "\u001b[32m[I 2022-04-29 13:16:47,253]\u001b[0m Trial 5 finished with value: 0.48771703365510155 and parameters: {'n_estimators': 350, 'max_depth': 27, 'min_samples_split': 4, 'max_features': 'auto'}. Best is trial 2 with value: 0.5358220665280887.\u001b[0m\n",
      "\u001b[32m[I 2022-04-29 13:16:48,204]\u001b[0m Trial 6 finished with value: 0.4645890754768121 and parameters: {'n_estimators': 250, 'max_depth': 2, 'min_samples_split': 8, 'max_features': 'auto'}. Best is trial 2 with value: 0.5358220665280887.\u001b[0m\n",
      "\u001b[32m[I 2022-04-29 13:16:48,935]\u001b[0m Trial 7 finished with value: 0.49689706383290955 and parameters: {'n_estimators': 200, 'max_depth': 4, 'min_samples_split': 8, 'max_features': 'auto'}. Best is trial 2 with value: 0.5358220665280887.\u001b[0m\n",
      "\u001b[32m[I 2022-04-29 13:16:49,419]\u001b[0m Trial 8 finished with value: 0.4978622244466844 and parameters: {'n_estimators': 100, 'max_depth': 4, 'min_samples_split': 2, 'max_features': 'auto'}. Best is trial 2 with value: 0.5358220665280887.\u001b[0m\n",
      "\u001b[32m[I 2022-04-29 13:16:50,067]\u001b[0m Trial 9 finished with value: 0.5223125543334223 and parameters: {'n_estimators': 150, 'max_depth': 13, 'min_samples_split': 2, 'max_features': 'auto'}. Best is trial 2 with value: 0.5358220665280887.\u001b[0m\n",
      "\u001b[32m[I 2022-04-29 13:16:51,525]\u001b[0m Trial 10 finished with value: 0.5425870194434116 and parameters: {'n_estimators': 400, 'max_depth': 11, 'min_samples_split': 16, 'max_features': 'sqrt'}. Best is trial 10 with value: 0.5425870194434116.\u001b[0m\n",
      "\u001b[32m[I 2022-04-29 13:16:53,016]\u001b[0m Trial 11 finished with value: 0.5431156106825014 and parameters: {'n_estimators': 400, 'max_depth': 11, 'min_samples_split': 16, 'max_features': 'sqrt'}. Best is trial 11 with value: 0.5431156106825014.\u001b[0m\n",
      "\u001b[32m[I 2022-04-29 13:16:54,456]\u001b[0m Trial 12 finished with value: 0.5436065928431254 and parameters: {'n_estimators': 400, 'max_depth': 13, 'min_samples_split': 16, 'max_features': 'sqrt'}. Best is trial 12 with value: 0.5436065928431254.\u001b[0m\n",
      "\u001b[32m[I 2022-04-29 13:16:55,893]\u001b[0m Trial 13 finished with value: 0.5346060144556337 and parameters: {'n_estimators': 400, 'max_depth': 16, 'min_samples_split': 16, 'max_features': 'sqrt'}. Best is trial 12 with value: 0.5436065928431254.\u001b[0m\n",
      "\u001b[32m[I 2022-04-29 13:16:57,126]\u001b[0m Trial 14 finished with value: 0.534512771049964 and parameters: {'n_estimators': 350, 'max_depth': 17, 'min_samples_split': 16, 'max_features': 'sqrt'}. Best is trial 12 with value: 0.5436065928431254.\u001b[0m\n",
      "\u001b[32m[I 2022-04-29 13:16:58,385]\u001b[0m Trial 15 finished with value: 0.536166880026475 and parameters: {'n_estimators': 350, 'max_depth': 8, 'min_samples_split': 16, 'max_features': 'sqrt'}. Best is trial 12 with value: 0.5436065928431254.\u001b[0m\n",
      "\u001b[32m[I 2022-04-29 13:16:59,480]\u001b[0m Trial 16 finished with value: 0.5426789401958994 and parameters: {'n_estimators': 300, 'max_depth': 10, 'min_samples_split': 16, 'max_features': 'log2'}. Best is trial 12 with value: 0.5436065928431254.\u001b[0m\n",
      "\u001b[32m[I 2022-04-29 13:17:00,830]\u001b[0m Trial 17 finished with value: 0.5324863224498196 and parameters: {'n_estimators': 400, 'max_depth': 18, 'min_samples_split': 16, 'max_features': 'sqrt'}. Best is trial 12 with value: 0.5436065928431254.\u001b[0m\n",
      "\u001b[32m[I 2022-04-29 13:17:01,915]\u001b[0m Trial 18 finished with value: 0.521180825955921 and parameters: {'n_estimators': 300, 'max_depth': 6, 'min_samples_split': 16, 'max_features': 'sqrt'}. Best is trial 12 with value: 0.5436065928431254.\u001b[0m\n",
      "\u001b[32m[I 2022-04-29 13:17:03,257]\u001b[0m Trial 19 finished with value: 0.531268154314457 and parameters: {'n_estimators': 400, 'max_depth': 20, 'min_samples_split': 16, 'max_features': 'log2'}. Best is trial 12 with value: 0.5436065928431254.\u001b[0m\n",
      "\u001b[32m[I 2022-04-29 13:17:04,369]\u001b[0m Trial 20 finished with value: 0.5326738085383912 and parameters: {'n_estimators': 300, 'max_depth': 13, 'min_samples_split': 8, 'max_features': 'sqrt'}. Best is trial 12 with value: 0.5436065928431254.\u001b[0m\n",
      "\u001b[32m[I 2022-04-29 13:17:05,466]\u001b[0m Trial 21 finished with value: 0.5399979285720825 and parameters: {'n_estimators': 300, 'max_depth': 9, 'min_samples_split': 16, 'max_features': 'log2'}. Best is trial 12 with value: 0.5436065928431254.\u001b[0m\n",
      "\u001b[32m[I 2022-04-29 13:17:06,721]\u001b[0m Trial 22 finished with value: 0.5426043988511682 and parameters: {'n_estimators': 350, 'max_depth': 10, 'min_samples_split': 16, 'max_features': 'log2'}. Best is trial 12 with value: 0.5436065928431254.\u001b[0m\n",
      "\u001b[32m[I 2022-04-29 13:17:07,937]\u001b[0m Trial 23 finished with value: 0.521894349979953 and parameters: {'n_estimators': 350, 'max_depth': 6, 'min_samples_split': 16, 'max_features': 'log2'}. Best is trial 12 with value: 0.5436065928431254.\u001b[0m\n",
      "\u001b[32m[I 2022-04-29 13:17:09,027]\u001b[0m Trial 24 finished with value: 0.543371109565283 and parameters: {'n_estimators': 300, 'max_depth': 12, 'min_samples_split': 16, 'max_features': 'log2'}. Best is trial 12 with value: 0.5436065928431254.\u001b[0m\n",
      "\u001b[32m[I 2022-04-29 13:17:10,464]\u001b[0m Trial 25 finished with value: 0.5402882892041303 and parameters: {'n_estimators': 400, 'max_depth': 14, 'min_samples_split': 16, 'max_features': 'sqrt'}. Best is trial 12 with value: 0.5436065928431254.\u001b[0m\n",
      "\u001b[32m[I 2022-04-29 13:17:11,234]\u001b[0m Trial 26 finished with value: 0.5314612489261983 and parameters: {'n_estimators': 200, 'max_depth': 21, 'min_samples_split': 16, 'max_features': 'log2'}. Best is trial 12 with value: 0.5436065928431254.\u001b[0m\n",
      "\u001b[32m[I 2022-04-29 13:17:12,445]\u001b[0m Trial 27 finished with value: 0.5426827760723112 and parameters: {'n_estimators': 350, 'max_depth': 12, 'min_samples_split': 16, 'max_features': 'sqrt'}. Best is trial 12 with value: 0.5436065928431254.\u001b[0m\n",
      "\u001b[32m[I 2022-04-29 13:17:13,783]\u001b[0m Trial 28 finished with value: 0.5205058620089233 and parameters: {'n_estimators': 400, 'max_depth': 6, 'min_samples_split': 16, 'max_features': 'sqrt'}. Best is trial 12 with value: 0.5436065928431254.\u001b[0m\n",
      "\u001b[32m[I 2022-04-29 13:17:14,976]\u001b[0m Trial 29 finished with value: 0.5320366759338925 and parameters: {'n_estimators': 300, 'max_depth': 22, 'min_samples_split': 16, 'max_features': 'log2'}. Best is trial 12 with value: 0.5436065928431254.\u001b[0m\n",
      "\u001b[32m[I 2022-04-29 13:17:16,338]\u001b[0m Trial 30 finished with value: 0.5133371746752543 and parameters: {'n_estimators': 350, 'max_depth': 15, 'min_samples_split': 4, 'max_features': 'log2'}. Best is trial 12 with value: 0.5436065928431254.\u001b[0m\n",
      "\u001b[32m[I 2022-04-29 13:17:17,555]\u001b[0m Trial 31 finished with value: 0.5431754306786946 and parameters: {'n_estimators': 350, 'max_depth': 12, 'min_samples_split': 16, 'max_features': 'sqrt'}. Best is trial 12 with value: 0.5436065928431254.\u001b[0m\n",
      "\u001b[32m[I 2022-04-29 13:17:18,896]\u001b[0m Trial 32 finished with value: 0.5366220895196633 and parameters: {'n_estimators': 400, 'max_depth': 8, 'min_samples_split': 16, 'max_features': 'sqrt'}. Best is trial 12 with value: 0.5436065928431254.\u001b[0m\n",
      "\u001b[32m[I 2022-04-29 13:17:19,763]\u001b[0m Trial 33 finished with value: 0.543430267323967 and parameters: {'n_estimators': 250, 'max_depth': 11, 'min_samples_split': 16, 'max_features': 'sqrt'}. Best is trial 12 with value: 0.5436065928431254.\u001b[0m\n",
      "\u001b[32m[I 2022-04-29 13:17:20,630]\u001b[0m Trial 34 finished with value: 0.5310943210674103 and parameters: {'n_estimators': 250, 'max_depth': 30, 'min_samples_split': 16, 'max_features': 'sqrt'}. Best is trial 12 with value: 0.5436065928431254.\u001b[0m\n",
      "\u001b[32m[I 2022-04-29 13:17:21,497]\u001b[0m Trial 35 finished with value: 0.5326254989041882 and parameters: {'n_estimators': 250, 'max_depth': 7, 'min_samples_split': 2, 'max_features': 'sqrt'}. Best is trial 12 with value: 0.5436065928431254.\u001b[0m\n",
      "\u001b[32m[I 2022-04-29 13:17:22,244]\u001b[0m Trial 36 finished with value: 0.5386567946820962 and parameters: {'n_estimators': 200, 'max_depth': 9, 'min_samples_split': 4, 'max_features': 'sqrt'}. Best is trial 12 with value: 0.5436065928431254.\u001b[0m\n",
      "\u001b[32m[I 2022-04-29 13:17:23,332]\u001b[0m Trial 37 finished with value: 0.5260700380385764 and parameters: {'n_estimators': 300, 'max_depth': 15, 'min_samples_split': 8, 'max_features': 'sqrt'}. Best is trial 12 with value: 0.5436065928431254.\u001b[0m\n",
      "\u001b[32m[I 2022-04-29 13:17:24,207]\u001b[0m Trial 38 finished with value: 0.5335884587396655 and parameters: {'n_estimators': 250, 'max_depth': 18, 'min_samples_split': 16, 'max_features': 'sqrt'}. Best is trial 12 with value: 0.5436065928431254.\u001b[0m\n",
      "\u001b[32m[I 2022-04-29 13:17:25,313]\u001b[0m Trial 39 finished with value: 0.5438998146691437 and parameters: {'n_estimators': 300, 'max_depth': 12, 'min_samples_split': 16, 'max_features': 'log2'}. Best is trial 39 with value: 0.5438998146691437.\u001b[0m\n",
      "\u001b[32m[I 2022-04-29 13:17:25,934]\u001b[0m Trial 40 finished with value: 0.4883396799279502 and parameters: {'n_estimators': 150, 'max_depth': 24, 'min_samples_split': 4, 'max_features': 'log2'}. Best is trial 39 with value: 0.5438998146691437.\u001b[0m\n",
      "\u001b[32m[I 2022-04-29 13:17:26,812]\u001b[0m Trial 41 finished with value: 0.45836947742765277 and parameters: {'n_estimators': 250, 'max_depth': 2, 'min_samples_split': 16, 'max_features': 'log2'}. Best is trial 39 with value: 0.5438998146691437.\u001b[0m\n",
      "\u001b[32m[I 2022-04-29 13:17:27,959]\u001b[0m Trial 42 finished with value: 0.5439887521646264 and parameters: {'n_estimators': 300, 'max_depth': 12, 'min_samples_split': 16, 'max_features': 'log2'}. Best is trial 42 with value: 0.5439887521646264.\u001b[0m\n",
      "\u001b[32m[I 2022-04-29 13:17:28,701]\u001b[0m Trial 43 finished with value: 0.5434930642007383 and parameters: {'n_estimators': 200, 'max_depth': 10, 'min_samples_split': 16, 'max_features': 'log2'}. Best is trial 42 with value: 0.5439887521646264.\u001b[0m\n",
      "\u001b[32m[I 2022-04-29 13:17:29,441]\u001b[0m Trial 44 finished with value: 0.5366433530824946 and parameters: {'n_estimators': 200, 'max_depth': 10, 'min_samples_split': 2, 'max_features': 'log2'}. Best is trial 42 with value: 0.5439887521646264.\u001b[0m\n",
      "\u001b[32m[I 2022-04-29 13:17:30,066]\u001b[0m Trial 45 finished with value: 0.5307191940341783 and parameters: {'n_estimators': 150, 'max_depth': 7, 'min_samples_split': 16, 'max_features': 'log2'}. Best is trial 42 with value: 0.5439887521646264.\u001b[0m\n",
      "\u001b[32m[I 2022-04-29 13:17:30,813]\u001b[0m Trial 46 finished with value: 0.5393229901307938 and parameters: {'n_estimators': 200, 'max_depth': 9, 'min_samples_split': 8, 'max_features': 'log2'}. Best is trial 42 with value: 0.5439887521646264.\u001b[0m\n",
      "\u001b[32m[I 2022-04-29 13:17:31,184]\u001b[0m Trial 47 finished with value: 0.4755995219319264 and parameters: {'n_estimators': 50, 'max_depth': 3, 'min_samples_split': 16, 'max_features': 'auto'}. Best is trial 42 with value: 0.5439887521646264.\u001b[0m\n",
      "\u001b[32m[I 2022-04-29 13:17:32,064]\u001b[0m Trial 48 finished with value: 0.5412676956671586 and parameters: {'n_estimators': 250, 'max_depth': 13, 'min_samples_split': 16, 'max_features': 'log2'}. Best is trial 42 with value: 0.5439887521646264.\u001b[0m\n",
      "\u001b[32m[I 2022-04-29 13:17:32,812]\u001b[0m Trial 49 finished with value: 0.5436959366081114 and parameters: {'n_estimators': 200, 'max_depth': 11, 'min_samples_split': 16, 'max_features': 'log2'}. Best is trial 42 with value: 0.5439887521646264.\u001b[0m\n",
      "\u001b[32m[I 2022-04-29 13:17:33,303]\u001b[0m Trial 50 finished with value: 0.5090942900051008 and parameters: {'n_estimators': 100, 'max_depth': 5, 'min_samples_split': 2, 'max_features': 'log2'}. Best is trial 42 with value: 0.5439887521646264.\u001b[0m\n",
      "\u001b[32m[I 2022-04-29 13:17:34,056]\u001b[0m Trial 51 finished with value: 0.5443000529835553 and parameters: {'n_estimators': 200, 'max_depth': 11, 'min_samples_split': 16, 'max_features': 'log2'}. Best is trial 51 with value: 0.5443000529835553.\u001b[0m\n",
      "\u001b[32m[I 2022-04-29 13:17:34,693]\u001b[0m Trial 52 finished with value: 0.5358054012801771 and parameters: {'n_estimators': 150, 'max_depth': 16, 'min_samples_split': 16, 'max_features': 'log2'}. Best is trial 51 with value: 0.5443000529835553.\u001b[0m\n",
      "\u001b[32m[I 2022-04-29 13:17:35,439]\u001b[0m Trial 53 finished with value: 0.5429670481273139 and parameters: {'n_estimators': 200, 'max_depth': 11, 'min_samples_split': 16, 'max_features': 'log2'}. Best is trial 51 with value: 0.5443000529835553.\u001b[0m\n",
      "\u001b[32m[I 2022-04-29 13:17:36,184]\u001b[0m Trial 54 finished with value: 0.535039387418462 and parameters: {'n_estimators': 200, 'max_depth': 8, 'min_samples_split': 16, 'max_features': 'log2'}. Best is trial 51 with value: 0.5443000529835553.\u001b[0m\n",
      "\u001b[32m[I 2022-04-29 13:17:36,809]\u001b[0m Trial 55 finished with value: 0.5400573914883533 and parameters: {'n_estimators': 150, 'max_depth': 14, 'min_samples_split': 16, 'max_features': 'log2'}. Best is trial 51 with value: 0.5443000529835553.\u001b[0m\n",
      "\u001b[32m[I 2022-04-29 13:17:37,556]\u001b[0m Trial 56 finished with value: 0.5418443032248005 and parameters: {'n_estimators': 200, 'max_depth': 10, 'min_samples_split': 16, 'max_features': 'log2'}. Best is trial 51 with value: 0.5443000529835553.\u001b[0m\n",
      "\u001b[32m[I 2022-04-29 13:17:38,179]\u001b[0m Trial 57 finished with value: 0.5347442216930699 and parameters: {'n_estimators': 150, 'max_depth': 8, 'min_samples_split': 16, 'max_features': 'log2'}. Best is trial 51 with value: 0.5443000529835553.\u001b[0m\n",
      "\u001b[32m[I 2022-04-29 13:17:38,933]\u001b[0m Trial 58 finished with value: 0.532196409078593 and parameters: {'n_estimators': 200, 'max_depth': 18, 'min_samples_split': 16, 'max_features': 'log2'}. Best is trial 51 with value: 0.5443000529835553.\u001b[0m\n",
      "\u001b[32m[I 2022-04-29 13:17:39,557]\u001b[0m Trial 59 finished with value: 0.5328603745996117 and parameters: {'n_estimators': 150, 'max_depth': 13, 'min_samples_split': 8, 'max_features': 'auto'}. Best is trial 51 with value: 0.5443000529835553.\u001b[0m\n",
      "\u001b[32m[I 2022-04-29 13:17:40,427]\u001b[0m Trial 60 finished with value: 0.5396084764397164 and parameters: {'n_estimators': 250, 'max_depth': 9, 'min_samples_split': 16, 'max_features': 'log2'}. Best is trial 51 with value: 0.5443000529835553.\u001b[0m\n",
      "\u001b[32m[I 2022-04-29 13:17:41,296]\u001b[0m Trial 61 finished with value: 0.5444569058050036 and parameters: {'n_estimators': 250, 'max_depth': 11, 'min_samples_split': 16, 'max_features': 'log2'}. Best is trial 61 with value: 0.5444569058050036.\u001b[0m\n",
      "\u001b[32m[I 2022-04-29 13:17:42,384]\u001b[0m Trial 62 finished with value: 0.5433483994643983 and parameters: {'n_estimators': 300, 'max_depth': 12, 'min_samples_split': 16, 'max_features': 'log2'}. Best is trial 61 with value: 0.5444569058050036.\u001b[0m\n",
      "\u001b[32m[I 2022-04-29 13:17:43,248]\u001b[0m Trial 63 finished with value: 0.5422971625491115 and parameters: {'n_estimators': 250, 'max_depth': 11, 'min_samples_split': 16, 'max_features': 'log2'}. Best is trial 61 with value: 0.5444569058050036.\u001b[0m\n",
      "\u001b[32m[I 2022-04-29 13:17:43,987]\u001b[0m Trial 64 finished with value: 0.5411034862705729 and parameters: {'n_estimators': 200, 'max_depth': 14, 'min_samples_split': 16, 'max_features': 'log2'}. Best is trial 61 with value: 0.5444569058050036.\u001b[0m\n",
      "\u001b[32m[I 2022-04-29 13:17:45,170]\u001b[0m Trial 65 finished with value: 0.542577397414787 and parameters: {'n_estimators': 300, 'max_depth': 10, 'min_samples_split': 16, 'max_features': 'log2'}. Best is trial 61 with value: 0.5444569058050036.\u001b[0m\n",
      "\u001b[32m[I 2022-04-29 13:17:45,910]\u001b[0m Trial 66 finished with value: 0.5383875491332181 and parameters: {'n_estimators': 200, 'max_depth': 15, 'min_samples_split': 16, 'max_features': 'log2'}. Best is trial 61 with value: 0.5444569058050036.\u001b[0m\n",
      "\u001b[32m[I 2022-04-29 13:17:46,774]\u001b[0m Trial 67 finished with value: 0.5405330101031299 and parameters: {'n_estimators': 250, 'max_depth': 9, 'min_samples_split': 16, 'max_features': 'log2'}. Best is trial 61 with value: 0.5444569058050036.\u001b[0m\n",
      "\u001b[32m[I 2022-04-29 13:17:47,516]\u001b[0m Trial 68 finished with value: 0.5356524216827855 and parameters: {'n_estimators': 200, 'max_depth': 17, 'min_samples_split': 16, 'max_features': 'log2'}. Best is trial 61 with value: 0.5444569058050036.\u001b[0m\n",
      "\u001b[32m[I 2022-04-29 13:17:48,606]\u001b[0m Trial 69 finished with value: 0.5344779785304786 and parameters: {'n_estimators': 300, 'max_depth': 11, 'min_samples_split': 4, 'max_features': 'log2'}. Best is trial 61 with value: 0.5444569058050036.\u001b[0m\n",
      "\u001b[32m[I 2022-04-29 13:17:49,595]\u001b[0m Trial 70 finished with value: 0.5322107724362902 and parameters: {'n_estimators': 250, 'max_depth': 20, 'min_samples_split': 16, 'max_features': 'auto'}. Best is trial 61 with value: 0.5444569058050036.\u001b[0m\n",
      "\u001b[32m[I 2022-04-29 13:17:50,566]\u001b[0m Trial 71 finished with value: 0.54316100628948 and parameters: {'n_estimators': 250, 'max_depth': 11, 'min_samples_split': 16, 'max_features': 'log2'}. Best is trial 61 with value: 0.5444569058050036.\u001b[0m\n",
      "\u001b[32m[I 2022-04-29 13:17:51,437]\u001b[0m Trial 72 finished with value: 0.5437006578969842 and parameters: {'n_estimators': 250, 'max_depth': 12, 'min_samples_split': 16, 'max_features': 'sqrt'}. Best is trial 61 with value: 0.5444569058050036.\u001b[0m\n",
      "\u001b[32m[I 2022-04-29 13:17:52,178]\u001b[0m Trial 73 finished with value: 0.542158201071431 and parameters: {'n_estimators': 200, 'max_depth': 13, 'min_samples_split': 16, 'max_features': 'log2'}. Best is trial 61 with value: 0.5444569058050036.\u001b[0m\n",
      "\u001b[32m[I 2022-04-29 13:17:53,418]\u001b[0m Trial 74 finished with value: 0.5291636919495193 and parameters: {'n_estimators': 350, 'max_depth': 7, 'min_samples_split': 16, 'max_features': 'sqrt'}. Best is trial 61 with value: 0.5444569058050036.\u001b[0m\n",
      "\u001b[32m[I 2022-04-29 13:17:54,525]\u001b[0m Trial 75 finished with value: 0.5437187387117312 and parameters: {'n_estimators': 300, 'max_depth': 12, 'min_samples_split': 16, 'max_features': 'log2'}. Best is trial 61 with value: 0.5444569058050036.\u001b[0m\n",
      "\u001b[32m[I 2022-04-29 13:17:55,621]\u001b[0m Trial 76 finished with value: 0.5446984785708094 and parameters: {'n_estimators': 300, 'max_depth': 12, 'min_samples_split': 16, 'max_features': 'sqrt'}. Best is trial 76 with value: 0.5446984785708094.\u001b[0m\n",
      "\u001b[32m[I 2022-04-29 13:17:56,726]\u001b[0m Trial 77 finished with value: 0.5431267521226328 and parameters: {'n_estimators': 300, 'max_depth': 12, 'min_samples_split': 16, 'max_features': 'sqrt'}. Best is trial 76 with value: 0.5446984785708094.\u001b[0m\n",
      "\u001b[32m[I 2022-04-29 13:17:57,842]\u001b[0m Trial 78 finished with value: 0.5410455464094817 and parameters: {'n_estimators': 300, 'max_depth': 15, 'min_samples_split': 16, 'max_features': 'log2'}. Best is trial 76 with value: 0.5446984785708094.\u001b[0m\n",
      "\u001b[32m[I 2022-04-29 13:17:58,944]\u001b[0m Trial 79 finished with value: 0.541806838071406 and parameters: {'n_estimators': 300, 'max_depth': 14, 'min_samples_split': 16, 'max_features': 'log2'}. Best is trial 76 with value: 0.5446984785708094.\u001b[0m\n",
      "\u001b[32m[I 2022-04-29 13:18:00,034]\u001b[0m Trial 80 finished with value: 0.5418471234274536 and parameters: {'n_estimators': 300, 'max_depth': 12, 'min_samples_split': 16, 'max_features': 'sqrt'}. Best is trial 76 with value: 0.5446984785708094.\u001b[0m\n",
      "\u001b[32m[I 2022-04-29 13:18:01,386]\u001b[0m Trial 81 finished with value: 0.5347834412748591 and parameters: {'n_estimators': 350, 'max_depth': 16, 'min_samples_split': 16, 'max_features': 'sqrt'}. Best is trial 76 with value: 0.5446984785708094.\u001b[0m\n",
      "\u001b[32m[I 2022-04-29 13:18:02,607]\u001b[0m Trial 82 finished with value: 0.5409199763398115 and parameters: {'n_estimators': 350, 'max_depth': 9, 'min_samples_split': 16, 'max_features': 'sqrt'}. Best is trial 76 with value: 0.5446984785708094.\u001b[0m\n",
      "\u001b[32m[I 2022-04-29 13:18:03,473]\u001b[0m Trial 83 finished with value: 0.5366024473911737 and parameters: {'n_estimators': 250, 'max_depth': 8, 'min_samples_split': 2, 'max_features': 'sqrt'}. Best is trial 76 with value: 0.5446984785708094.\u001b[0m\n",
      "\u001b[32m[I 2022-04-29 13:18:04,566]\u001b[0m Trial 84 finished with value: 0.5427696175450855 and parameters: {'n_estimators': 300, 'max_depth': 10, 'min_samples_split': 16, 'max_features': 'sqrt'}. Best is trial 76 with value: 0.5446984785708094.\u001b[0m\n",
      "\u001b[32m[I 2022-04-29 13:18:05,432]\u001b[0m Trial 85 finished with value: 0.5429970701683454 and parameters: {'n_estimators': 250, 'max_depth': 13, 'min_samples_split': 16, 'max_features': 'sqrt'}. Best is trial 76 with value: 0.5446984785708094.\u001b[0m\n",
      "\u001b[32m[I 2022-04-29 13:18:06,427]\u001b[0m Trial 86 finished with value: 0.46258645011955574 and parameters: {'n_estimators': 300, 'max_depth': 2, 'min_samples_split': 16, 'max_features': 'log2'}. Best is trial 76 with value: 0.5446984785708094.\u001b[0m\n",
      "\u001b[32m[I 2022-04-29 13:18:07,295]\u001b[0m Trial 87 finished with value: 0.5409791668915497 and parameters: {'n_estimators': 250, 'max_depth': 11, 'min_samples_split': 8, 'max_features': 'sqrt'}. Best is trial 76 with value: 0.5446984785708094.\u001b[0m\n",
      "\u001b[32m[I 2022-04-29 13:18:08,508]\u001b[0m Trial 88 finished with value: 0.5202785924802157 and parameters: {'n_estimators': 350, 'max_depth': 14, 'min_samples_split': 4, 'max_features': 'log2'}. Best is trial 76 with value: 0.5446984785708094.\u001b[0m\n",
      "\u001b[32m[I 2022-04-29 13:18:09,603]\u001b[0m Trial 89 finished with value: 0.5424496238340645 and parameters: {'n_estimators': 300, 'max_depth': 12, 'min_samples_split': 16, 'max_features': 'auto'}. Best is trial 76 with value: 0.5446984785708094.\u001b[0m\n",
      "\u001b[32m[I 2022-04-29 13:18:10,566]\u001b[0m Trial 90 finished with value: 0.5368927797847581 and parameters: {'n_estimators': 250, 'max_depth': 16, 'min_samples_split': 16, 'max_features': 'log2'}. Best is trial 76 with value: 0.5446984785708094.\u001b[0m\n",
      "\u001b[32m[I 2022-04-29 13:18:11,309]\u001b[0m Trial 91 finished with value: 0.5424594398882595 and parameters: {'n_estimators': 200, 'max_depth': 10, 'min_samples_split': 16, 'max_features': 'log2'}. Best is trial 76 with value: 0.5446984785708094.\u001b[0m\n",
      "\u001b[32m[I 2022-04-29 13:18:12,051]\u001b[0m Trial 92 finished with value: 0.539878492625366 and parameters: {'n_estimators': 200, 'max_depth': 9, 'min_samples_split': 16, 'max_features': 'log2'}. Best is trial 76 with value: 0.5446984785708094.\u001b[0m\n",
      "\u001b[32m[I 2022-04-29 13:18:12,791]\u001b[0m Trial 93 finished with value: 0.544307008754698 and parameters: {'n_estimators': 200, 'max_depth': 11, 'min_samples_split': 16, 'max_features': 'log2'}. Best is trial 76 with value: 0.5446984785708094.\u001b[0m\n",
      "\u001b[32m[I 2022-04-29 13:18:13,882]\u001b[0m Trial 94 finished with value: 0.5434268322515496 and parameters: {'n_estimators': 300, 'max_depth': 11, 'min_samples_split': 16, 'max_features': 'log2'}. Best is trial 76 with value: 0.5446984785708094.\u001b[0m\n",
      "\u001b[32m[I 2022-04-29 13:18:14,637]\u001b[0m Trial 95 finished with value: 0.5301763897388894 and parameters: {'n_estimators': 200, 'max_depth': 7, 'min_samples_split': 16, 'max_features': 'log2'}. Best is trial 76 with value: 0.5446984785708094.\u001b[0m\n",
      "\u001b[32m[I 2022-04-29 13:18:15,506]\u001b[0m Trial 96 finished with value: 0.5435632686640642 and parameters: {'n_estimators': 250, 'max_depth': 13, 'min_samples_split': 16, 'max_features': 'log2'}. Best is trial 76 with value: 0.5446984785708094.\u001b[0m\n",
      "\u001b[32m[I 2022-04-29 13:18:16,377]\u001b[0m Trial 97 finished with value: 0.5366698298300104 and parameters: {'n_estimators': 250, 'max_depth': 8, 'min_samples_split': 16, 'max_features': 'sqrt'}. Best is trial 76 with value: 0.5446984785708094.\u001b[0m\n",
      "\u001b[32m[I 2022-04-29 13:18:17,001]\u001b[0m Trial 98 finished with value: 0.5455720008167292 and parameters: {'n_estimators': 150, 'max_depth': 12, 'min_samples_split': 16, 'max_features': 'log2'}. Best is trial 98 with value: 0.5455720008167292.\u001b[0m\n",
      "\u001b[32m[I 2022-04-29 13:18:17,631]\u001b[0m Trial 99 finished with value: 0.5396713780720772 and parameters: {'n_estimators': 150, 'max_depth': 9, 'min_samples_split': 16, 'max_features': 'log2'}. Best is trial 98 with value: 0.5455720008167292.\u001b[0m\n"
     ]
    }
   ],
   "source": [
    "study = optuna.create_study(direction='maximize')\n",
    "study.optimize(objective, n_trials=100, timeout=7000)"
   ]
  },
  {
   "cell_type": "code",
   "execution_count": 48,
   "id": "0fbc1d77-be98-4907-b19a-e945799316e4",
   "metadata": {},
   "outputs": [
    {
     "data": {
      "text/plain": [
       "{'n_estimators': 150,\n",
       " 'max_depth': 12,\n",
       " 'min_samples_split': 16,\n",
       " 'max_features': 'log2'}"
      ]
     },
     "execution_count": 48,
     "metadata": {},
     "output_type": "execute_result"
    }
   ],
   "source": [
    "study.best_trial.params"
   ]
  },
  {
   "cell_type": "code",
   "execution_count": 49,
   "id": "5fd3e76d-0ee8-4714-9cb3-0d44f0518722",
   "metadata": {},
   "outputs": [
    {
     "data": {
      "text/plain": [
       "RandomForestClassifier(max_depth=12, max_features='log2', min_samples_split=16,\n",
       "                       n_estimators=150, n_jobs=5)"
      ]
     },
     "execution_count": 49,
     "metadata": {},
     "output_type": "execute_result"
    }
   ],
   "source": [
    "rf_model = RandomForestClassifier(n_jobs=5, **study.best_trial.params)\n",
    "rf_model.fit(encoded_train_x, train_y)"
   ]
  },
  {
   "cell_type": "code",
   "execution_count": 50,
   "id": "20528508-cb61-4e29-927f-24e839d1a056",
   "metadata": {},
   "outputs": [
    {
     "data": {
      "text/plain": [
       "0.5702023014105422"
      ]
     },
     "execution_count": 50,
     "metadata": {},
     "output_type": "execute_result"
    }
   ],
   "source": [
    "make_scorer(gini_score, needs_proba=True)(rf_model, encoded_oos_x, oos_y)"
   ]
  },
  {
   "cell_type": "code",
   "execution_count": 51,
   "id": "5e48467c-a395-4118-8de0-c86a24ee4430",
   "metadata": {},
   "outputs": [
    {
     "data": {
      "text/plain": [
       "0.5003895053188594"
      ]
     },
     "execution_count": 51,
     "metadata": {},
     "output_type": "execute_result"
    }
   ],
   "source": [
    "make_scorer(gini_score, needs_proba=True)(rf_model, encoded_oot_x, oot_y)"
   ]
  },
  {
   "cell_type": "code",
   "execution_count": 123,
   "id": "399b3f56-4d14-45ec-8079-0489ab1ae084",
   "metadata": {},
   "outputs": [],
   "source": [
    "from auto_alt_modAD import AltModAD"
   ]
  },
  {
   "cell_type": "code",
   "execution_count": 124,
   "id": "70e622ae-80c3-4111-a15a-c3dc23d1dc75",
   "metadata": {},
   "outputs": [],
   "source": [
    "autoaltmode = AltModAD(encoded_train_x, train_y, metric='gini', model_type='binary')"
   ]
  },
  {
   "cell_type": "code",
   "execution_count": 126,
   "id": "0838e718-aa3c-4164-b580-ecde680896ec",
   "metadata": {
    "collapsed": true,
    "jupyter": {
     "outputs_hidden": true
    },
    "tags": []
   },
   "outputs": [
    {
     "name": "stdout",
     "output_type": "stream",
     "text": [
      "Start of feature selection...\n"
     ]
    },
    {
     "name": "stderr",
     "output_type": "stream",
     "text": [
      "100%|██████████| 10/10 [00:01<00:00,  7.55it/s]\n"
     ]
    },
    {
     "name": "stdout",
     "output_type": "stream",
     "text": [
      "\n",
      "Stepwise forward feature selection is in process...\n",
      "1 feature out of 6 is selected, gini = 0.301\n",
      "2 features out of 6 are selected, gini = 0.492\n",
      "3 features out of 6 are selected, gini = 0.564\n",
      "4 features out of 6 are selected, gini = 0.582\n",
      "5 features out of 6 are selected, gini = 0.589\n"
     ]
    },
    {
     "name": "stderr",
     "output_type": "stream",
     "text": [
      "\u001b[32m[I 2022-04-28 15:31:34,873]\u001b[0m A new study created in memory with name: no-name-aeb69a84-8a69-4dc8-8042-90412116f3db\u001b[0m\n"
     ]
    },
    {
     "name": "stdout",
     "output_type": "stream",
     "text": [
      "6 features out of 6 are selected, gini = 0.585\n",
      "The maximum number of features selected\n",
      "Forward feature selection is finished! 6 features out of 6 are selected.\n",
      "Run optuna...\n"
     ]
    },
    {
     "name": "stderr",
     "output_type": "stream",
     "text": [
      "\u001b[32m[I 2022-04-28 15:31:35,076]\u001b[0m Trial 0 finished with value: 0.4535123758025099 and parameters: {'min_data_in_leaf': 55, 'min_data_in_bin': 73, 'min_gain_to_split': 2.39, 'max_depth': 8, 'n_estimators': 152, 'boosting_type': 'dart', 'lambda_l1': 2.8458715588354817, 'lambda_l2': 3.4522304778590653, 'num_leaves': 116, 'feature_fraction': 0.6645484014882492, 'bagging_fraction': 0.5655069599897277, 'bagging_freq': 7, 'min_child_samples': 38, 'max_bin': 82}. Best is trial 0 with value: 0.4535123758025099.\u001b[0m\n",
      "\u001b[32m[I 2022-04-28 15:31:35,215]\u001b[0m Trial 1 finished with value: 0.44460018014178004 and parameters: {'min_data_in_leaf': 10, 'min_data_in_bin': 179, 'min_gain_to_split': 3.54, 'max_depth': 5, 'n_estimators': 482, 'boosting_type': 'gbdt', 'lambda_l1': 2.335752053457227, 'lambda_l2': 3.6066335840013757, 'num_leaves': 149, 'feature_fraction': 0.9813892481237547, 'bagging_fraction': 0.8271871202497048, 'bagging_freq': 7, 'min_child_samples': 32, 'max_bin': 106}. Best is trial 1 with value: 0.44460018014178004.\u001b[0m\n"
     ]
    },
    {
     "name": "stdout",
     "output_type": "stream",
     "text": [
      "0.5464876241974901\n",
      "0.55539981985822\n"
     ]
    },
    {
     "name": "stderr",
     "output_type": "stream",
     "text": [
      "\u001b[32m[I 2022-04-28 15:31:35,378]\u001b[0m Trial 2 finished with value: 0.4507682471333656 and parameters: {'min_data_in_leaf': 18, 'min_data_in_bin': 89, 'min_gain_to_split': 2.6100000000000003, 'max_depth': 6, 'n_estimators': 491, 'boosting_type': 'gbdt', 'lambda_l1': 5.769798155707295, 'lambda_l2': 8.579095205220693, 'num_leaves': 95, 'feature_fraction': 0.9778868947958537, 'bagging_fraction': 0.63230689196572, 'bagging_freq': 1, 'min_child_samples': 96, 'max_bin': 134}. Best is trial 1 with value: 0.44460018014178004.\u001b[0m\n",
      "\u001b[32m[I 2022-04-28 15:31:35,504]\u001b[0m Trial 3 finished with value: 0.455752480838546 and parameters: {'min_data_in_leaf': 83, 'min_data_in_bin': 152, 'min_gain_to_split': 1.83, 'max_depth': 3, 'n_estimators': 321, 'boosting_type': 'gbdt', 'lambda_l1': 1.9614415689219862, 'lambda_l2': 6.095040517569636, 'num_leaves': 39, 'feature_fraction': 0.4336150564216978, 'bagging_fraction': 0.7567299619896097, 'bagging_freq': 2, 'min_child_samples': 80, 'max_bin': 41}. Best is trial 1 with value: 0.44460018014178004.\u001b[0m\n"
     ]
    },
    {
     "name": "stdout",
     "output_type": "stream",
     "text": [
      "0.5492317528666344\n",
      "0.544247519161454\n"
     ]
    },
    {
     "name": "stderr",
     "output_type": "stream",
     "text": [
      "\u001b[32m[I 2022-04-28 15:31:36,096]\u001b[0m Trial 4 finished with value: 0.47297639956006843 and parameters: {'min_data_in_leaf': 96, 'min_data_in_bin': 81, 'min_gain_to_split': 0.7, 'max_depth': 4, 'n_estimators': 391, 'boosting_type': 'dart', 'lambda_l1': 9.734357657923356, 'lambda_l2': 0.7263013680832121, 'num_leaves': 183, 'feature_fraction': 0.844975053073285, 'bagging_fraction': 0.4499457579686954, 'bagging_freq': 6, 'min_child_samples': 14, 'max_bin': 103}. Best is trial 1 with value: 0.44460018014178004.\u001b[0m\n",
      "\u001b[32m[I 2022-04-28 15:31:36,194]\u001b[0m Trial 5 finished with value: 0.46817417438906594 and parameters: {'min_data_in_leaf': 74, 'min_data_in_bin': 245, 'min_gain_to_split': 3.4000000000000004, 'max_depth': 8, 'n_estimators': 217, 'boosting_type': 'gbdt', 'lambda_l1': 6.793368666545472, 'lambda_l2': 1.8832966282139787, 'num_leaves': 249, 'feature_fraction': 0.5463684799502655, 'bagging_fraction': 0.639932451252504, 'bagging_freq': 3, 'min_child_samples': 36, 'max_bin': 60}. Best is trial 1 with value: 0.44460018014178004.\u001b[0m\n",
      "\u001b[32m[I 2022-04-28 15:31:36,287]\u001b[0m Trial 6 finished with value: 0.46968780091688744 and parameters: {'min_data_in_leaf': 67, 'min_data_in_bin': 144, 'min_gain_to_split': 4.42, 'max_depth': 3, 'n_estimators': 312, 'boosting_type': 'gbdt', 'lambda_l1': 7.2740259679387735, 'lambda_l2': 3.3505035885076935, 'num_leaves': 237, 'feature_fraction': 0.5216770188288455, 'bagging_fraction': 0.4684998540768347, 'bagging_freq': 4, 'min_child_samples': 79, 'max_bin': 51}. Best is trial 1 with value: 0.44460018014178004.\u001b[0m\n"
     ]
    },
    {
     "name": "stdout",
     "output_type": "stream",
     "text": [
      "0.5270236004399316\n",
      "0.531825825610934\n",
      "0.5303121990831126\n"
     ]
    },
    {
     "name": "stderr",
     "output_type": "stream",
     "text": [
      "\u001b[32m[I 2022-04-28 15:31:37,526]\u001b[0m Trial 7 finished with value: 0.44963730521586687 and parameters: {'min_data_in_leaf': 99, 'min_data_in_bin': 93, 'min_gain_to_split': 2.3000000000000003, 'max_depth': 3, 'n_estimators': 539, 'boosting_type': 'dart', 'lambda_l1': 2.84837783699405, 'lambda_l2': 5.916837057837165, 'num_leaves': 82, 'feature_fraction': 0.7684808640243139, 'bagging_fraction': 0.727253771368329, 'bagging_freq': 2, 'min_child_samples': 18, 'max_bin': 114}. Best is trial 1 with value: 0.44460018014178004.\u001b[0m\n"
     ]
    },
    {
     "name": "stdout",
     "output_type": "stream",
     "text": [
      "0.5503626947841331\n"
     ]
    },
    {
     "name": "stderr",
     "output_type": "stream",
     "text": [
      "\u001b[32m[I 2022-04-28 15:31:37,890]\u001b[0m Trial 8 finished with value: 0.4707767408649606 and parameters: {'min_data_in_leaf': 36, 'min_data_in_bin': 85, 'min_gain_to_split': 4.55, 'max_depth': 7, 'n_estimators': 272, 'boosting_type': 'dart', 'lambda_l1': 3.8974359709193593, 'lambda_l2': 9.745066918430938, 'num_leaves': 245, 'feature_fraction': 0.5373558599198122, 'bagging_fraction': 0.8818194791658373, 'bagging_freq': 5, 'min_child_samples': 72, 'max_bin': 204}. Best is trial 1 with value: 0.44460018014178004.\u001b[0m\n"
     ]
    },
    {
     "name": "stdout",
     "output_type": "stream",
     "text": [
      "0.5292232591350394\n"
     ]
    },
    {
     "name": "stderr",
     "output_type": "stream",
     "text": [
      "\u001b[32m[I 2022-04-28 15:31:38,142]\u001b[0m Trial 9 finished with value: 0.4560822740799626 and parameters: {'min_data_in_leaf': 59, 'min_data_in_bin': 5, 'min_gain_to_split': 3.99, 'max_depth': 7, 'n_estimators': 188, 'boosting_type': 'dart', 'lambda_l1': 7.070076069580215, 'lambda_l2': 3.091815219877036, 'num_leaves': 249, 'feature_fraction': 0.7194781020832204, 'bagging_fraction': 0.8367567270660776, 'bagging_freq': 1, 'min_child_samples': 66, 'max_bin': 34}. Best is trial 1 with value: 0.44460018014178004.\u001b[0m\n"
     ]
    },
    {
     "name": "stdout",
     "output_type": "stream",
     "text": [
      "0.5439177259200374\n"
     ]
    },
    {
     "name": "stderr",
     "output_type": "stream",
     "text": [
      "\u001b[32m[I 2022-04-28 15:31:38,395]\u001b[0m Trial 10 finished with value: 0.48143279607110445 and parameters: {'min_data_in_leaf': 4, 'min_data_in_bin': 222, 'min_gain_to_split': 0.41000000000000003, 'max_depth': 1, 'n_estimators': 599, 'boosting_type': 'gbdt', 'lambda_l1': 0.7754179114140145, 'lambda_l2': 0.16281826157840307, 'num_leaves': 186, 'feature_fraction': 0.9390197973457177, 'bagging_fraction': 0.986291230500663, 'bagging_freq': 7, 'min_child_samples': 40, 'max_bin': 188}. Best is trial 1 with value: 0.44460018014178004.\u001b[0m\n"
     ]
    },
    {
     "name": "stdout",
     "output_type": "stream",
     "text": [
      "0.5185672039288955\n"
     ]
    },
    {
     "name": "stderr",
     "output_type": "stream",
     "text": [
      "\u001b[32m[I 2022-04-28 15:31:39,183]\u001b[0m Trial 11 finished with value: 0.5152630490007419 and parameters: {'min_data_in_leaf': 32, 'min_data_in_bin': 187, 'min_gain_to_split': 3.22, 'max_depth': 1, 'n_estimators': 575, 'boosting_type': 'dart', 'lambda_l1': 0.08656584521585575, 'lambda_l2': 6.068929163774832, 'num_leaves': 57, 'feature_fraction': 0.8195025553282166, 'bagging_fraction': 0.77992550525292, 'bagging_freq': 3, 'min_child_samples': 5, 'max_bin': 148}. Best is trial 1 with value: 0.44460018014178004.\u001b[0m\n"
     ]
    },
    {
     "name": "stdout",
     "output_type": "stream",
     "text": [
      "0.48473695099925806\n"
     ]
    },
    {
     "name": "stderr",
     "output_type": "stream",
     "text": [
      "\u001b[32m[I 2022-04-28 15:31:40,554]\u001b[0m Trial 12 finished with value: 0.4410377908830836 and parameters: {'min_data_in_leaf': 4, 'min_data_in_bin': 18, 'min_gain_to_split': 1.6300000000000001, 'max_depth': 5, 'n_estimators': 475, 'boosting_type': 'dart', 'lambda_l1': 4.050098756528405, 'lambda_l2': 5.713807778940003, 'num_leaves': 160, 'feature_fraction': 0.8571924492943558, 'bagging_fraction': 0.9402116785077667, 'bagging_freq': 5, 'min_child_samples': 22, 'max_bin': 123}. Best is trial 12 with value: 0.4410377908830836.\u001b[0m\n"
     ]
    },
    {
     "name": "stdout",
     "output_type": "stream",
     "text": [
      "0.5589622091169164\n"
     ]
    },
    {
     "name": "stderr",
     "output_type": "stream",
     "text": [
      "\u001b[32m[I 2022-04-28 15:31:40,769]\u001b[0m Trial 13 finished with value: 0.44354701964914356 and parameters: {'min_data_in_leaf': 8, 'min_data_in_bin': 10, 'min_gain_to_split': 1.34, 'max_depth': 5, 'n_estimators': 438, 'boosting_type': 'gbdt', 'lambda_l1': 4.492169764877383, 'lambda_l2': 8.126260406467422, 'num_leaves': 161, 'feature_fraction': 0.901674948298631, 'bagging_fraction': 0.9953284583869444, 'bagging_freq': 6, 'min_child_samples': 22, 'max_bin': 253}. Best is trial 12 with value: 0.4410377908830836.\u001b[0m\n"
     ]
    },
    {
     "name": "stdout",
     "output_type": "stream",
     "text": [
      "0.5564529803508564\n"
     ]
    },
    {
     "name": "stderr",
     "output_type": "stream",
     "text": [
      "\u001b[32m[I 2022-04-28 15:31:41,908]\u001b[0m Trial 14 finished with value: 0.439038808264121 and parameters: {'min_data_in_leaf': 23, 'min_data_in_bin': 1, 'min_gain_to_split': 1.2400000000000002, 'max_depth': 5, 'n_estimators': 413, 'boosting_type': 'dart', 'lambda_l1': 4.693223475776565, 'lambda_l2': 7.918503140143878, 'num_leaves': 166, 'feature_fraction': 0.8950439788761264, 'bagging_fraction': 0.9939751412009973, 'bagging_freq': 5, 'min_child_samples': 20, 'max_bin': 242}. Best is trial 14 with value: 0.439038808264121.\u001b[0m\n"
     ]
    },
    {
     "name": "stdout",
     "output_type": "stream",
     "text": [
      "0.560961191735879\n"
     ]
    },
    {
     "name": "stderr",
     "output_type": "stream",
     "text": [
      "\u001b[32m[I 2022-04-28 15:31:42,944]\u001b[0m Trial 15 finished with value: 0.4422076235130137 and parameters: {'min_data_in_leaf': 27, 'min_data_in_bin': 36, 'min_gain_to_split': 1.2000000000000002, 'max_depth': 6, 'n_estimators': 391, 'boosting_type': 'dart', 'lambda_l1': 5.549710537646952, 'lambda_l2': 7.516503188374623, 'num_leaves': 204, 'feature_fraction': 0.8731272685232427, 'bagging_fraction': 0.9349476702830246, 'bagging_freq': 5, 'min_child_samples': 57, 'max_bin': 250}. Best is trial 14 with value: 0.439038808264121.\u001b[0m\n"
     ]
    },
    {
     "name": "stdout",
     "output_type": "stream",
     "text": [
      "0.5577923764869863\n"
     ]
    },
    {
     "name": "stderr",
     "output_type": "stream",
     "text": [
      "\u001b[32m[I 2022-04-28 15:31:44,192]\u001b[0m Trial 16 finished with value: 0.4310973247856733 and parameters: {'min_data_in_leaf': 39, 'min_data_in_bin': 39, 'min_gain_to_split': 0.18, 'max_depth': 4, 'n_estimators': 446, 'boosting_type': 'dart', 'lambda_l1': 3.959728285785017, 'lambda_l2': 9.459088233660083, 'num_leaves': 139, 'feature_fraction': 0.7799527527860111, 'bagging_fraction': 0.9404531166722089, 'bagging_freq': 5, 'min_child_samples': 5, 'max_bin': 172}. Best is trial 16 with value: 0.4310973247856733.\u001b[0m\n"
     ]
    },
    {
     "name": "stdout",
     "output_type": "stream",
     "text": [
      "0.5689026752143267\n"
     ]
    },
    {
     "name": "stderr",
     "output_type": "stream",
     "text": [
      "\u001b[32m[I 2022-04-28 15:31:44,657]\u001b[0m Trial 17 finished with value: 0.533843475771864 and parameters: {'min_data_in_leaf': 44, 'min_data_in_bin': 48, 'min_gain_to_split': 0.18, 'max_depth': 2, 'n_estimators': 394, 'boosting_type': 'dart', 'lambda_l1': 8.663011641340518, 'lambda_l2': 9.714277024597305, 'num_leaves': 2, 'feature_fraction': 0.6993539815647425, 'bagging_fraction': 0.9929990457626243, 'bagging_freq': 4, 'min_child_samples': 6, 'max_bin': 216}. Best is trial 16 with value: 0.4310973247856733.\u001b[0m\n"
     ]
    },
    {
     "name": "stdout",
     "output_type": "stream",
     "text": [
      "0.466156524228136\n"
     ]
    },
    {
     "name": "stderr",
     "output_type": "stream",
     "text": [
      "\u001b[32m[I 2022-04-28 15:31:46,007]\u001b[0m Trial 18 finished with value: 0.44052132222199747 and parameters: {'min_data_in_leaf': 45, 'min_data_in_bin': 42, 'min_gain_to_split': 0.8, 'max_depth': 4, 'n_estimators': 516, 'boosting_type': 'dart', 'lambda_l1': 5.430728428890917, 'lambda_l2': 7.312772196736171, 'num_leaves': 125, 'feature_fraction': 0.6329531856882403, 'bagging_fraction': 0.9058942579824769, 'bagging_freq': 6, 'min_child_samples': 50, 'max_bin': 163}. Best is trial 16 with value: 0.4310973247856733.\u001b[0m\n"
     ]
    },
    {
     "name": "stdout",
     "output_type": "stream",
     "text": [
      "0.5594786777780025\n"
     ]
    },
    {
     "name": "stderr",
     "output_type": "stream",
     "text": [
      "\u001b[32m[I 2022-04-28 15:31:47,267]\u001b[0m Trial 19 finished with value: 0.4316169047037539 and parameters: {'min_data_in_leaf': 21, 'min_data_in_bin': 108, 'min_gain_to_split': 0.16, 'max_depth': 4, 'n_estimators': 443, 'boosting_type': 'dart', 'lambda_l1': 1.1278965897955415, 'lambda_l2': 8.966741760869557, 'num_leaves': 202, 'feature_fraction': 0.7714660933411663, 'bagging_fraction': 0.8591258121698649, 'bagging_freq': 5, 'min_child_samples': 13, 'max_bin': 229}. Best is trial 16 with value: 0.4310973247856733.\u001b[0m\n"
     ]
    },
    {
     "name": "stdout",
     "output_type": "stream",
     "text": [
      "0.5683830952962461\n"
     ]
    },
    {
     "name": "stderr",
     "output_type": "stream",
     "text": [
      "\u001b[32m[I 2022-04-28 15:31:47,780]\u001b[0m Trial 20 finished with value: 0.4806658712219618 and parameters: {'min_data_in_leaf': 40, 'min_data_in_bin': 118, 'min_gain_to_split': 0.18, 'max_depth': 2, 'n_estimators': 344, 'boosting_type': 'dart', 'lambda_l1': 0.7127364002337799, 'lambda_l2': 9.09129746203241, 'num_leaves': 201, 'feature_fraction': 0.762522403586951, 'bagging_fraction': 0.8486850078963849, 'bagging_freq': 4, 'min_child_samples': 9, 'max_bin': 176}. Best is trial 16 with value: 0.4310973247856733.\u001b[0m\n"
     ]
    },
    {
     "name": "stdout",
     "output_type": "stream",
     "text": [
      "0.5193341287780382\n"
     ]
    },
    {
     "name": "stderr",
     "output_type": "stream",
     "text": [
      "\u001b[32m[I 2022-04-28 15:31:49,056]\u001b[0m Trial 21 finished with value: 0.4361997862566447 and parameters: {'min_data_in_leaf': 23, 'min_data_in_bin': 59, 'min_gain_to_split': 0.92, 'max_depth': 4, 'n_estimators': 446, 'boosting_type': 'dart', 'lambda_l1': 1.6150381752025815, 'lambda_l2': 9.78942612488236, 'num_leaves': 212, 'feature_fraction': 0.7797689791380207, 'bagging_fraction': 0.9481238768390041, 'bagging_freq': 5, 'min_child_samples': 28, 'max_bin': 226}. Best is trial 16 with value: 0.4310973247856733.\u001b[0m\n"
     ]
    },
    {
     "name": "stdout",
     "output_type": "stream",
     "text": [
      "0.5638002137433553\n"
     ]
    },
    {
     "name": "stderr",
     "output_type": "stream",
     "text": [
      "\u001b[32m[I 2022-04-28 15:31:50,324]\u001b[0m Trial 22 finished with value: 0.43339809933310214 and parameters: {'min_data_in_leaf': 17, 'min_data_in_bin': 122, 'min_gain_to_split': 0.55, 'max_depth': 4, 'n_estimators': 450, 'boosting_type': 'dart', 'lambda_l1': 1.5272697480250668, 'lambda_l2': 9.92079583701339, 'num_leaves': 225, 'feature_fraction': 0.8054666103942525, 'bagging_fraction': 0.9400859247364011, 'bagging_freq': 6, 'min_child_samples': 27, 'max_bin': 229}. Best is trial 16 with value: 0.4310973247856733.\u001b[0m\n"
     ]
    },
    {
     "name": "stdout",
     "output_type": "stream",
     "text": [
      "0.5666019006668979\n"
     ]
    },
    {
     "name": "stderr",
     "output_type": "stream",
     "text": [
      "\u001b[32m[I 2022-04-28 15:31:51,960]\u001b[0m Trial 23 finished with value: 0.4301546139163417 and parameters: {'min_data_in_leaf': 16, 'min_data_in_bin': 121, 'min_gain_to_split': 0.15000000000000002, 'max_depth': 4, 'n_estimators': 542, 'boosting_type': 'dart', 'lambda_l1': 0.056807125321976404, 'lambda_l2': 9.02128957316748, 'num_leaves': 225, 'feature_fraction': 0.6254775565721598, 'bagging_fraction': 0.8803814005902653, 'bagging_freq': 6, 'min_child_samples': 10, 'max_bin': 197}. Best is trial 23 with value: 0.4301546139163417.\u001b[0m\n"
     ]
    },
    {
     "name": "stdout",
     "output_type": "stream",
     "text": [
      "0.5698453860836583\n"
     ]
    },
    {
     "name": "stderr",
     "output_type": "stream",
     "text": [
      "\u001b[32m[I 2022-04-28 15:31:53,010]\u001b[0m Trial 24 finished with value: 0.46378885765532574 and parameters: {'min_data_in_leaf': 31, 'min_data_in_bin': 113, 'min_gain_to_split': 0.21000000000000002, 'max_depth': 2, 'n_estimators': 556, 'boosting_type': 'dart', 'lambda_l1': 0.12428089245669288, 'lambda_l2': 8.933073630614896, 'num_leaves': 142, 'feature_fraction': 0.6089033539743227, 'bagging_fraction': 0.7919637536744861, 'bagging_freq': 6, 'min_child_samples': 5, 'max_bin': 197}. Best is trial 23 with value: 0.4301546139163417.\u001b[0m\n"
     ]
    },
    {
     "name": "stdout",
     "output_type": "stream",
     "text": [
      "0.5362111423446743\n"
     ]
    },
    {
     "name": "stderr",
     "output_type": "stream",
     "text": [
      "\u001b[32m[I 2022-04-28 15:31:54,280]\u001b[0m Trial 25 finished with value: 0.4385721197149466 and parameters: {'min_data_in_leaf': 14, 'min_data_in_bin': 158, 'min_gain_to_split': 0.27, 'max_depth': 3, 'n_estimators': 523, 'boosting_type': 'dart', 'lambda_l1': 3.4248263417180147, 'lambda_l2': 7.020189452823929, 'num_leaves': 193, 'feature_fraction': 0.712675167112854, 'bagging_fraction': 0.8866228054316404, 'bagging_freq': 5, 'min_child_samples': 13, 'max_bin': 168}. Best is trial 23 with value: 0.4301546139163417.\u001b[0m\n"
     ]
    },
    {
     "name": "stdout",
     "output_type": "stream",
     "text": [
      "0.5614278802850534\n"
     ]
    },
    {
     "name": "stderr",
     "output_type": "stream",
     "text": [
      "\u001b[32m[I 2022-04-28 15:31:55,999]\u001b[0m Trial 26 finished with value: 0.4376122969321452 and parameters: {'min_data_in_leaf': 47, 'min_data_in_bin': 176, 'min_gain_to_split': 0.99, 'max_depth': 6, 'n_estimators': 579, 'boosting_type': 'dart', 'lambda_l1': 0.9535575343761336, 'lambda_l2': 8.727149965041534, 'num_leaves': 223, 'feature_fraction': 0.604866441733324, 'bagging_fraction': 0.6781902571545564, 'bagging_freq': 6, 'min_child_samples': 47, 'max_bin': 210}. Best is trial 23 with value: 0.4301546139163417.\u001b[0m\n"
     ]
    },
    {
     "name": "stdout",
     "output_type": "stream",
     "text": [
      "0.5623877030678548\n"
     ]
    },
    {
     "name": "stderr",
     "output_type": "stream",
     "text": [
      "\u001b[32m[I 2022-04-28 15:31:57,385]\u001b[0m Trial 27 finished with value: 0.4403004229753884 and parameters: {'min_data_in_leaf': 36, 'min_data_in_bin': 107, 'min_gain_to_split': 1.7200000000000002, 'max_depth': 4, 'n_estimators': 503, 'boosting_type': 'dart', 'lambda_l1': 0.023654793802383896, 'lambda_l2': 6.93842042126696, 'num_leaves': 104, 'feature_fraction': 0.674695939987549, 'bagging_fraction': 0.8669770036886464, 'bagging_freq': 3, 'min_child_samples': 11, 'max_bin': 183}. Best is trial 23 with value: 0.4301546139163417.\u001b[0m\n"
     ]
    },
    {
     "name": "stdout",
     "output_type": "stream",
     "text": [
      "0.5596995770246116\n"
     ]
    },
    {
     "name": "stderr",
     "output_type": "stream",
     "text": [
      "\u001b[32m[I 2022-04-28 15:31:58,133]\u001b[0m Trial 28 finished with value: 0.44535621559144234 and parameters: {'min_data_in_leaf': 23, 'min_data_in_bin': 202, 'min_gain_to_split': 0.49, 'max_depth': 3, 'n_estimators': 367, 'boosting_type': 'dart', 'lambda_l1': 2.971894260004958, 'lambda_l2': 4.690501162389302, 'num_leaves': 141, 'feature_fraction': 0.7393150154506113, 'bagging_fraction': 0.8080472661083655, 'bagging_freq': 4, 'min_child_samples': 6, 'max_bin': 159}. Best is trial 23 with value: 0.4301546139163417.\u001b[0m\n",
      "\u001b[32m[I 2022-04-28 15:31:58,303]\u001b[0m Trial 29 finished with value: 0.45885440406205724 and parameters: {'min_data_in_leaf': 51, 'min_data_in_bin': 139, 'min_gain_to_split': 2.49, 'max_depth': 4, 'n_estimators': 109, 'boosting_type': 'dart', 'lambda_l1': 2.1527261030971494, 'lambda_l2': 9.33976758966385, 'num_leaves': 179, 'feature_fraction': 0.6516891398780438, 'bagging_fraction': 0.5403654876324321, 'bagging_freq': 7, 'min_child_samples': 15, 'max_bin': 234}. Best is trial 23 with value: 0.4301546139163417.\u001b[0m\n"
     ]
    },
    {
     "name": "stdout",
     "output_type": "stream",
     "text": [
      "0.5546437844085577\n",
      "0.5411455959379428\n"
     ]
    },
    {
     "name": "stderr",
     "output_type": "stream",
     "text": [
      "\u001b[32m[I 2022-04-28 15:31:58,991]\u001b[0m Trial 30 finished with value: 0.4620341087104307 and parameters: {'min_data_in_leaf': 12, 'min_data_in_bin': 66, 'min_gain_to_split': 2.14, 'max_depth': 2, 'n_estimators': 426, 'boosting_type': 'dart', 'lambda_l1': 3.538943169869733, 'lambda_l2': 8.232957268346834, 'num_leaves': 224, 'feature_fraction': 0.42640734654076523, 'bagging_fraction': 0.7286263720259634, 'bagging_freq': 5, 'min_child_samples': 44, 'max_bin': 194}. Best is trial 23 with value: 0.4301546139163417.\u001b[0m\n"
     ]
    },
    {
     "name": "stdout",
     "output_type": "stream",
     "text": [
      "0.5379658912895693\n"
     ]
    },
    {
     "name": "stderr",
     "output_type": "stream",
     "text": [
      "\u001b[32m[I 2022-04-28 15:32:00,324]\u001b[0m Trial 31 finished with value: 0.4311191035846349 and parameters: {'min_data_in_leaf': 18, 'min_data_in_bin': 133, 'min_gain_to_split': 0.52, 'max_depth': 4, 'n_estimators': 461, 'boosting_type': 'dart', 'lambda_l1': 1.4570495722246148, 'lambda_l2': 9.74146943843665, 'num_leaves': 227, 'feature_fraction': 0.8094022153021514, 'bagging_fraction': 0.9168376066530852, 'bagging_freq': 6, 'min_child_samples': 27, 'max_bin': 223}. Best is trial 23 with value: 0.4301546139163417.\u001b[0m\n"
     ]
    },
    {
     "name": "stdout",
     "output_type": "stream",
     "text": [
      "0.5688808964153651\n"
     ]
    },
    {
     "name": "stderr",
     "output_type": "stream",
     "text": [
      "\u001b[32m[I 2022-04-28 15:32:01,935]\u001b[0m Trial 32 finished with value: 0.4297299273365929 and parameters: {'min_data_in_leaf': 19, 'min_data_in_bin': 164, 'min_gain_to_split': 0.12000000000000001, 'max_depth': 5, 'n_estimators': 476, 'boosting_type': 'dart', 'lambda_l1': 1.230064936478923, 'lambda_l2': 9.25997565726787, 'num_leaves': 233, 'feature_fraction': 0.8010083782633031, 'bagging_fraction': 0.9074388677720654, 'bagging_freq': 7, 'min_child_samples': 29, 'max_bin': 219}. Best is trial 32 with value: 0.4297299273365929.\u001b[0m\n"
     ]
    },
    {
     "name": "stdout",
     "output_type": "stream",
     "text": [
      "0.5702700726634071\n"
     ]
    },
    {
     "name": "stderr",
     "output_type": "stream",
     "text": [
      "\u001b[32m[I 2022-04-28 15:32:03,618]\u001b[0m Trial 33 finished with value: 0.43283029493160674 and parameters: {'min_data_in_leaf': 9, 'min_data_in_bin': 167, 'min_gain_to_split': 0.59, 'max_depth': 6, 'n_estimators': 475, 'boosting_type': 'dart', 'lambda_l1': 0.4488378881087398, 'lambda_l2': 9.916223290969846, 'num_leaves': 256, 'feature_fraction': 0.8174112931688108, 'bagging_fraction': 0.9211805166266055, 'bagging_freq': 7, 'min_child_samples': 31, 'max_bin': 216}. Best is trial 32 with value: 0.4297299273365929.\u001b[0m\n"
     ]
    },
    {
     "name": "stdout",
     "output_type": "stream",
     "text": [
      "0.5671697050683933\n"
     ]
    },
    {
     "name": "stderr",
     "output_type": "stream",
     "text": [
      "\u001b[32m[I 2022-04-28 15:32:05,257]\u001b[0m Trial 34 finished with value: 0.43640668484677825 and parameters: {'min_data_in_leaf': 29, 'min_data_in_bin': 135, 'min_gain_to_split': 0.12000000000000001, 'max_depth': 5, 'n_estimators': 480, 'boosting_type': 'dart', 'lambda_l1': 2.457872525133725, 'lambda_l2': 9.321769561915382, 'num_leaves': 232, 'feature_fraction': 0.953209028222874, 'bagging_fraction': 0.9658456035061332, 'bagging_freq': 7, 'min_child_samples': 37, 'max_bin': 148}. Best is trial 32 with value: 0.4297299273365929.\u001b[0m\n"
     ]
    },
    {
     "name": "stdout",
     "output_type": "stream",
     "text": [
      "0.5635933151532218\n"
     ]
    },
    {
     "name": "stderr",
     "output_type": "stream",
     "text": [
      "\u001b[32m[I 2022-04-28 15:32:06,980]\u001b[0m Trial 35 finished with value: 0.43509684565209605 and parameters: {'min_data_in_leaf': 3, 'min_data_in_bin': 201, 'min_gain_to_split': 0.91, 'max_depth': 5, 'n_estimators': 547, 'boosting_type': 'dart', 'lambda_l1': 1.5145833368285666, 'lambda_l2': 8.516630666649851, 'num_leaves': 213, 'feature_fraction': 0.6717998997674899, 'bagging_fraction': 0.9085094132578417, 'bagging_freq': 7, 'min_child_samples': 25, 'max_bin': 177}. Best is trial 32 with value: 0.4297299273365929.\u001b[0m\n"
     ]
    },
    {
     "name": "stdout",
     "output_type": "stream",
     "text": [
      "0.564903154347904\n"
     ]
    },
    {
     "name": "stderr",
     "output_type": "stream",
     "text": [
      "\u001b[32m[I 2022-04-28 15:32:08,240]\u001b[0m Trial 36 finished with value: 0.44491286146972686 and parameters: {'min_data_in_leaf': 14, 'min_data_in_bin': 153, 'min_gain_to_split': 2.7600000000000002, 'max_depth': 6, 'n_estimators': 491, 'boosting_type': 'dart', 'lambda_l1': 2.421701586947324, 'lambda_l2': 7.720141666344741, 'num_leaves': 13, 'feature_fraction': 0.8351982543101727, 'bagging_fraction': 0.8132369999101052, 'bagging_freq': 6, 'min_child_samples': 32, 'max_bin': 207}. Best is trial 32 with value: 0.4297299273365929.\u001b[0m\n"
     ]
    },
    {
     "name": "stdout",
     "output_type": "stream",
     "text": [
      "0.5550871385302731\n"
     ]
    },
    {
     "name": "stderr",
     "output_type": "stream",
     "text": [
      "\u001b[32m[I 2022-04-28 15:32:09,289]\u001b[0m Trial 37 finished with value: 0.4531390249631706 and parameters: {'min_data_in_leaf': 57, 'min_data_in_bin': 97, 'min_gain_to_split': 4.97, 'max_depth': 3, 'n_estimators': 520, 'boosting_type': 'dart', 'lambda_l1': 1.7866449315507853, 'lambda_l2': 6.536995656942245, 'num_leaves': 80, 'feature_fraction': 0.4728701499154988, 'bagging_fraction': 0.893323765114379, 'bagging_freq': 6, 'min_child_samples': 56, 'max_bin': 198}. Best is trial 32 with value: 0.4297299273365929.\u001b[0m\n"
     ]
    },
    {
     "name": "stdout",
     "output_type": "stream",
     "text": [
      "0.5468609750368294\n"
     ]
    },
    {
     "name": "stderr",
     "output_type": "stream",
     "text": [
      "\u001b[32m[I 2022-04-28 15:32:09,560]\u001b[0m Trial 38 finished with value: 0.44420971738897097 and parameters: {'min_data_in_leaf': 17, 'min_data_in_bin': 230, 'min_gain_to_split': 0.65, 'max_depth': 4, 'n_estimators': 598, 'boosting_type': 'gbdt', 'lambda_l1': 1.2467667882027695, 'lambda_l2': 8.433890507475818, 'num_leaves': 256, 'feature_fraction': 0.5974432935243624, 'bagging_fraction': 0.9662764795390081, 'bagging_freq': 7, 'min_child_samples': 96, 'max_bin': 221}. Best is trial 32 with value: 0.4297299273365929.\u001b[0m\n"
     ]
    },
    {
     "name": "stdout",
     "output_type": "stream",
     "text": [
      "0.555790282611029\n"
     ]
    },
    {
     "name": "stderr",
     "output_type": "stream",
     "text": [
      "\u001b[32m[I 2022-04-28 15:32:10,854]\u001b[0m Trial 39 finished with value: 0.4390854771190382 and parameters: {'min_data_in_leaf': 40, 'min_data_in_bin': 129, 'min_gain_to_split': 0.39, 'max_depth': 7, 'n_estimators': 458, 'boosting_type': 'dart', 'lambda_l1': 6.50515637829786, 'lambda_l2': 4.532355904124332, 'num_leaves': 239, 'feature_fraction': 0.799025098391391, 'bagging_fraction': 0.7613226473289292, 'bagging_freq': 6, 'min_child_samples': 18, 'max_bin': 136}. Best is trial 32 with value: 0.4297299273365929.\u001b[0m\n"
     ]
    },
    {
     "name": "stdout",
     "output_type": "stream",
     "text": [
      "0.5609145228809618\n"
     ]
    },
    {
     "name": "stderr",
     "output_type": "stream",
     "text": [
      "\u001b[32m[I 2022-04-28 15:32:11,491]\u001b[0m Trial 40 finished with value: 0.44091956311729286 and parameters: {'min_data_in_leaf': 27, 'min_data_in_bin': 184, 'min_gain_to_split': 1.35, 'max_depth': 9, 'n_estimators': 304, 'boosting_type': 'dart', 'lambda_l1': 3.2467757621224935, 'lambda_l2': 9.465691615803296, 'num_leaves': 176, 'feature_fraction': 0.7334340758397242, 'bagging_fraction': 0.8326300773328303, 'bagging_freq': 7, 'min_child_samples': 33, 'max_bin': 240}. Best is trial 32 with value: 0.4297299273365929.\u001b[0m\n"
     ]
    },
    {
     "name": "stdout",
     "output_type": "stream",
     "text": [
      "0.5590804368827071\n"
     ]
    },
    {
     "name": "stderr",
     "output_type": "stream",
     "text": [
      "\u001b[32m[I 2022-04-28 15:32:12,624]\u001b[0m Trial 41 finished with value: 0.4284029762284409 and parameters: {'min_data_in_leaf': 19, 'min_data_in_bin': 103, 'min_gain_to_split': 0.19, 'max_depth': 4, 'n_estimators': 419, 'boosting_type': 'dart', 'lambda_l1': 1.1938768921156129, 'lambda_l2': 8.842606614182479, 'num_leaves': 199, 'feature_fraction': 0.7541498058746657, 'bagging_fraction': 0.8669322306868883, 'bagging_freq': 5, 'min_child_samples': 15, 'max_bin': 253}. Best is trial 41 with value: 0.4284029762284409.\u001b[0m\n"
     ]
    },
    {
     "name": "stdout",
     "output_type": "stream",
     "text": [
      "0.5715970237715591\n"
     ]
    },
    {
     "name": "stderr",
     "output_type": "stream",
     "text": [
      "\u001b[32m[I 2022-04-28 15:32:13,961]\u001b[0m Trial 42 finished with value: 0.4328365174455959 and parameters: {'min_data_in_leaf': 19, 'min_data_in_bin': 77, 'min_gain_to_split': 0.1, 'max_depth': 5, 'n_estimators': 415, 'boosting_type': 'dart', 'lambda_l1': 0.47474566438716664, 'lambda_l2': 9.97297600993186, 'num_leaves': 212, 'feature_fraction': 0.7508926101724025, 'bagging_fraction': 0.868934555758891, 'bagging_freq': 6, 'min_child_samples': 16, 'max_bin': 255}. Best is trial 41 with value: 0.4284029762284409.\u001b[0m\n"
     ]
    },
    {
     "name": "stdout",
     "output_type": "stream",
     "text": [
      "0.5671634825544041\n"
     ]
    },
    {
     "name": "stderr",
     "output_type": "stream",
     "text": [
      "\u001b[32m[I 2022-04-28 15:32:14,703]\u001b[0m Trial 43 finished with value: 0.4483896911610743 and parameters: {'min_data_in_leaf': 7, 'min_data_in_bin': 146, 'min_gain_to_split': 0.73, 'max_depth': 3, 'n_estimators': 361, 'boosting_type': 'dart', 'lambda_l1': 2.3338630175954567, 'lambda_l2': 8.717022495640068, 'num_leaves': 243, 'feature_fraction': 0.7934761416825329, 'bagging_fraction': 0.9676638665044978, 'bagging_freq': 5, 'min_child_samples': 26, 'max_bin': 244}. Best is trial 41 with value: 0.4284029762284409.\u001b[0m\n"
     ]
    },
    {
     "name": "stdout",
     "output_type": "stream",
     "text": [
      "0.5516103088389257\n"
     ]
    },
    {
     "name": "stderr",
     "output_type": "stream",
     "text": [
      "\u001b[32m[I 2022-04-28 15:32:16,007]\u001b[0m Trial 44 finished with value: 0.43068197197690816 and parameters: {'min_data_in_leaf': 64, 'min_data_in_bin': 168, 'min_gain_to_split': 0.36, 'max_depth': 4, 'n_estimators': 465, 'boosting_type': 'dart', 'lambda_l1': 0.028772262401233206, 'lambda_l2': 9.53133192981151, 'num_leaves': 114, 'feature_fraction': 0.6961072143790079, 'bagging_fraction': 0.9134843140685915, 'bagging_freq': 6, 'min_child_samples': 10, 'max_bin': 208}. Best is trial 41 with value: 0.4284029762284409.\u001b[0m\n"
     ]
    },
    {
     "name": "stdout",
     "output_type": "stream",
     "text": [
      "0.5693180280230918\n"
     ]
    },
    {
     "name": "stderr",
     "output_type": "stream",
     "text": [
      "\u001b[32m[I 2022-04-28 15:32:17,020]\u001b[0m Trial 45 finished with value: 0.4376651883010514 and parameters: {'min_data_in_leaf': 69, 'min_data_in_bin': 166, 'min_gain_to_split': 0.36, 'max_depth': 5, 'n_estimators': 396, 'boosting_type': 'dart', 'lambda_l1': 0.14443622953601754, 'lambda_l2': 8.040875713021054, 'num_leaves': 101, 'feature_fraction': 0.579265448203734, 'bagging_fraction': 0.8398731781841977, 'bagging_freq': 4, 'min_child_samples': 9, 'max_bin': 186}. Best is trial 41 with value: 0.4284029762284409.\u001b[0m\n"
     ]
    },
    {
     "name": "stdout",
     "output_type": "stream",
     "text": [
      "0.5623348116989486\n"
     ]
    },
    {
     "name": "stderr",
     "output_type": "stream",
     "text": [
      "\u001b[32m[I 2022-04-28 15:32:17,254]\u001b[0m Trial 46 finished with value: 0.4504555658054188 and parameters: {'min_data_in_leaf': 82, 'min_data_in_bin': 194, 'min_gain_to_split': 0.41000000000000003, 'max_depth': 3, 'n_estimators': 503, 'boosting_type': 'gbdt', 'lambda_l1': 7.775146791439015, 'lambda_l2': 2.305728197035148, 'num_leaves': 82, 'feature_fraction': 0.6959828238719213, 'bagging_fraction': 0.8910676999906381, 'bagging_freq': 5, 'min_child_samples': 9, 'max_bin': 207}. Best is trial 41 with value: 0.4284029762284409.\u001b[0m\n"
     ]
    },
    {
     "name": "stdout",
     "output_type": "stream",
     "text": [
      "0.5495444341945812\n"
     ]
    },
    {
     "name": "stderr",
     "output_type": "stream",
     "text": [
      "\u001b[32m[I 2022-04-28 15:32:18,962]\u001b[0m Trial 47 finished with value: 0.43498328477179715 and parameters: {'min_data_in_leaf': 63, 'min_data_in_bin': 97, 'min_gain_to_split': 1.1, 'max_depth': 4, 'n_estimators': 567, 'boosting_type': 'dart', 'lambda_l1': 0.5862389853068964, 'lambda_l2': 9.290783409369638, 'num_leaves': 109, 'feature_fraction': 0.6315508629920504, 'bagging_fraction': 0.965111459731246, 'bagging_freq': 6, 'min_child_samples': 20, 'max_bin': 80}. Best is trial 41 with value: 0.4284029762284409.\u001b[0m\n"
     ]
    },
    {
     "name": "stdout",
     "output_type": "stream",
     "text": [
      "0.5650167152282028\n"
     ]
    },
    {
     "name": "stderr",
     "output_type": "stream",
     "text": [
      "\u001b[32m[I 2022-04-28 15:32:20,665]\u001b[0m Trial 48 finished with value: 0.44088845054734804 and parameters: {'min_data_in_leaf': 79, 'min_data_in_bin': 216, 'min_gain_to_split': 0.71, 'max_depth': 6, 'n_estimators': 529, 'boosting_type': 'dart', 'lambda_l1': 1.00422807000957, 'lambda_l2': 8.397134196419925, 'num_leaves': 127, 'feature_fraction': 0.6902184998960526, 'bagging_fraction': 0.9232261769690858, 'bagging_freq': 5, 'min_child_samples': 5, 'max_bin': 173}. Best is trial 41 with value: 0.4284029762284409.\u001b[0m\n"
     ]
    },
    {
     "name": "stdout",
     "output_type": "stream",
     "text": [
      "0.559111549452652\n"
     ]
    },
    {
     "name": "stderr",
     "output_type": "stream",
     "text": [
      "\u001b[32m[I 2022-04-28 15:32:21,864]\u001b[0m Trial 49 finished with value: 0.4349630616013327 and parameters: {'min_data_in_leaf': 62, 'min_data_in_bin': 168, 'min_gain_to_split': 0.11, 'max_depth': 5, 'n_estimators': 428, 'boosting_type': 'dart', 'lambda_l1': 6.194771704820796, 'lambda_l2': 7.64086590182853, 'num_leaves': 148, 'feature_fraction': 0.865659734952602, 'bagging_fraction': 0.7809707741090096, 'bagging_freq': 7, 'min_child_samples': 16, 'max_bin': 159}. Best is trial 41 with value: 0.4284029762284409.\u001b[0m\n",
      "\u001b[32m[I 2022-04-28 15:32:22,059]\u001b[0m Trial 50 finished with value: 0.4546339839490252 and parameters: {'min_data_in_leaf': 52, 'min_data_in_bin': 25, 'min_gain_to_split': 3.02, 'max_depth': 4, 'n_estimators': 496, 'boosting_type': 'gbdt', 'lambda_l1': 3.9995910305149245, 'lambda_l2': 9.03696696307076, 'num_leaves': 116, 'feature_fraction': 0.7272307296067616, 'bagging_fraction': 0.5901681540885101, 'bagging_freq': 6, 'min_child_samples': 22, 'max_bin': 196}. Best is trial 41 with value: 0.4284029762284409.\u001b[0m\n"
     ]
    },
    {
     "name": "stdout",
     "output_type": "stream",
     "text": [
      "0.5650369383986673\n",
      "0.5453660160509748\n"
     ]
    },
    {
     "name": "stderr",
     "output_type": "stream",
     "text": [
      "\u001b[32m[I 2022-04-28 15:32:22,915]\u001b[0m Trial 51 finished with value: 0.4606776006608311 and parameters: {'min_data_in_leaf': 26, 'min_data_in_bin': 149, 'min_gain_to_split': 3.7600000000000002, 'max_depth': 4, 'n_estimators': 465, 'boosting_type': 'dart', 'lambda_l1': 1.988177383366126, 'lambda_l2': 9.698763609596545, 'num_leaves': 66, 'feature_fraction': 0.8310856934296618, 'bagging_fraction': 0.4044013146871024, 'bagging_freq': 6, 'min_child_samples': 42, 'max_bin': 218}. Best is trial 41 with value: 0.4284029762284409.\u001b[0m\n"
     ]
    },
    {
     "name": "stdout",
     "output_type": "stream",
     "text": [
      "0.5393223993391689\n"
     ]
    },
    {
     "name": "stderr",
     "output_type": "stream",
     "text": [
      "\u001b[32m[I 2022-04-28 15:32:24,043]\u001b[0m Trial 52 finished with value: 0.4438301440356427 and parameters: {'min_data_in_leaf': 68, 'min_data_in_bin': 133, 'min_gain_to_split': 0.49, 'max_depth': 3, 'n_estimators': 465, 'boosting_type': 'dart', 'lambda_l1': 1.3235706165254988, 'lambda_l2': 9.986977609017048, 'num_leaves': 191, 'feature_fraction': 0.7518897553331172, 'bagging_fraction': 0.9139409383755146, 'bagging_freq': 5, 'min_child_samples': 11, 'max_bin': 238}. Best is trial 41 with value: 0.4284029762284409.\u001b[0m\n"
     ]
    },
    {
     "name": "stdout",
     "output_type": "stream",
     "text": [
      "0.5561698559643573\n"
     ]
    },
    {
     "name": "stderr",
     "output_type": "stream",
     "text": [
      "\u001b[32m[I 2022-04-28 15:32:25,129]\u001b[0m Trial 53 finished with value: 0.4338025627423865 and parameters: {'min_data_in_leaf': 34, 'min_data_in_bin': 127, 'min_gain_to_split': 0.35, 'max_depth': 4, 'n_estimators': 411, 'boosting_type': 'dart', 'lambda_l1': 2.720058987583173, 'lambda_l2': 9.494758672755061, 'num_leaves': 230, 'feature_fraction': 0.7849704231239905, 'bagging_fraction': 0.8692889103213932, 'bagging_freq': 6, 'min_child_samples': 23, 'max_bin': 202}. Best is trial 41 with value: 0.4284029762284409.\u001b[0m\n"
     ]
    },
    {
     "name": "stdout",
     "output_type": "stream",
     "text": [
      "0.5661974372576135\n"
     ]
    },
    {
     "name": "stderr",
     "output_type": "stream",
     "text": [
      "\u001b[32m[I 2022-04-28 15:32:26,215]\u001b[0m Trial 54 finished with value: 0.4356195368271716 and parameters: {'min_data_in_leaf': 91, 'min_data_in_bin': 86, 'min_gain_to_split': 0.79, 'max_depth': 5, 'n_estimators': 378, 'boosting_type': 'dart', 'lambda_l1': 0.5175879455092353, 'lambda_l2': 8.70333610653651, 'num_leaves': 250, 'feature_fraction': 0.8953058835956009, 'bagging_fraction': 0.9998605524484823, 'bagging_freq': 7, 'min_child_samples': 85, 'max_bin': 189}. Best is trial 41 with value: 0.4284029762284409.\u001b[0m\n"
     ]
    },
    {
     "name": "stdout",
     "output_type": "stream",
     "text": [
      "0.5643804631728284\n"
     ]
    },
    {
     "name": "stderr",
     "output_type": "stream",
     "text": [
      "\u001b[32m[I 2022-04-28 15:32:26,872]\u001b[0m Trial 55 finished with value: 0.4413644728675057 and parameters: {'min_data_in_leaf': 12, 'min_data_in_bin': 160, 'min_gain_to_split': 1.4400000000000002, 'max_depth': 3, 'n_estimators': 337, 'boosting_type': 'dart', 'lambda_l1': 0.05467816076903542, 'lambda_l2': 5.4653638115998975, 'num_leaves': 170, 'feature_fraction': 0.6489194192752796, 'bagging_fraction': 0.9464973815435507, 'bagging_freq': 4, 'min_child_samples': 18, 'max_bin': 249}. Best is trial 41 with value: 0.4284029762284409.\u001b[0m\n"
     ]
    },
    {
     "name": "stdout",
     "output_type": "stream",
     "text": [
      "0.5586355271324943\n"
     ]
    },
    {
     "name": "stderr",
     "output_type": "stream",
     "text": [
      "\u001b[32m[I 2022-04-28 15:32:27,744]\u001b[0m Trial 56 finished with value: 0.4558115947214414 and parameters: {'min_data_in_leaf': 74, 'min_data_in_bin': 174, 'min_gain_to_split': 1.9700000000000002, 'max_depth': 4, 'n_estimators': 436, 'boosting_type': 'dart', 'lambda_l1': 4.965385297824737, 'lambda_l2': 9.124015033058278, 'num_leaves': 135, 'feature_fraction': 0.5668892413145927, 'bagging_fraction': 0.9015851173420774, 'bagging_freq': 5, 'min_child_samples': 36, 'max_bin': 225}. Best is trial 41 with value: 0.4284029762284409.\u001b[0m\n"
     ]
    },
    {
     "name": "stdout",
     "output_type": "stream",
     "text": [
      "0.5441884052785586\n"
     ]
    },
    {
     "name": "stderr",
     "output_type": "stream",
     "text": [
      "\u001b[32m[I 2022-04-28 15:32:29,322]\u001b[0m Trial 57 finished with value: 0.43311653057510036 and parameters: {'min_data_in_leaf': 6, 'min_data_in_bin': 106, 'min_gain_to_split': 0.12000000000000001, 'max_depth': 5, 'n_estimators': 478, 'boosting_type': 'dart', 'lambda_l1': 1.8311847848352685, 'lambda_l2': 9.469077666433286, 'num_leaves': 92, 'feature_fraction': 0.8498368935116469, 'bagging_fraction': 0.8480113286885165, 'bagging_freq': 6, 'min_child_samples': 28, 'max_bin': 213}. Best is trial 41 with value: 0.4284029762284409.\u001b[0m\n"
     ]
    },
    {
     "name": "stdout",
     "output_type": "stream",
     "text": [
      "0.5668834694248996\n"
     ]
    },
    {
     "name": "stderr",
     "output_type": "stream",
     "text": [
      "\u001b[32m[I 2022-04-28 15:32:30,842]\u001b[0m Trial 58 finished with value: 0.43979017682829125 and parameters: {'min_data_in_leaf': 19, 'min_data_in_bin': 120, 'min_gain_to_split': 1.06, 'max_depth': 4, 'n_estimators': 545, 'boosting_type': 'dart', 'lambda_l1': 1.113453443119014, 'lambda_l2': 8.042399431761652, 'num_leaves': 217, 'feature_fraction': 0.7131462020680278, 'bagging_fraction': 0.8202875480817743, 'bagging_freq': 6, 'min_child_samples': 13, 'max_bin': 230}. Best is trial 41 with value: 0.4284029762284409.\u001b[0m\n"
     ]
    },
    {
     "name": "stdout",
     "output_type": "stream",
     "text": [
      "0.5602098231717088\n"
     ]
    },
    {
     "name": "stderr",
     "output_type": "stream",
     "text": [
      "\u001b[32m[I 2022-04-28 15:32:31,717]\u001b[0m Trial 59 finished with value: 0.4466909448420804 and parameters: {'min_data_in_leaf': 39, 'min_data_in_bin': 144, 'min_gain_to_split': 0.5700000000000001, 'max_depth': 3, 'n_estimators': 402, 'boosting_type': 'dart', 'lambda_l1': 0.8902554619158458, 'lambda_l2': 7.228933061452247, 'num_leaves': 199, 'feature_fraction': 0.7707011647651973, 'bagging_fraction': 0.9397000411842423, 'bagging_freq': 5, 'min_child_samples': 9, 'max_bin': 181}. Best is trial 41 with value: 0.4284029762284409.\u001b[0m\n"
     ]
    },
    {
     "name": "stdout",
     "output_type": "stream",
     "text": [
      "0.5533090551579196\n"
     ]
    },
    {
     "name": "stderr",
     "output_type": "stream",
     "text": [
      "\u001b[32m[I 2022-04-28 15:32:33,408]\u001b[0m Trial 60 finished with value: 0.43227182430109523 and parameters: {'min_data_in_leaf': 25, 'min_data_in_bin': 158, 'min_gain_to_split': 0.33, 'max_depth': 6, 'n_estimators': 459, 'boosting_type': 'dart', 'lambda_l1': 0.31022521558041016, 'lambda_l2': 8.864891411948728, 'num_leaves': 116, 'feature_fraction': 0.8217524534180162, 'bagging_fraction': 0.9828287389256845, 'bagging_freq': 3, 'min_child_samples': 5, 'max_bin': 204}. Best is trial 41 with value: 0.4284029762284409.\u001b[0m\n"
     ]
    },
    {
     "name": "stdout",
     "output_type": "stream",
     "text": [
      "0.5677281756989048\n"
     ]
    },
    {
     "name": "stderr",
     "output_type": "stream",
     "text": [
      "\u001b[32m[I 2022-04-28 15:32:34,648]\u001b[0m Trial 61 finished with value: 0.43236360638243276 and parameters: {'min_data_in_leaf': 22, 'min_data_in_bin': 113, 'min_gain_to_split': 0.12000000000000001, 'max_depth': 4, 'n_estimators': 443, 'boosting_type': 'dart', 'lambda_l1': 1.4452001363411908, 'lambda_l2': 9.038493829681512, 'num_leaves': 205, 'feature_fraction': 0.7709214084136746, 'bagging_fraction': 0.8662139593806096, 'bagging_freq': 5, 'min_child_samples': 13, 'max_bin': 232}. Best is trial 41 with value: 0.4284029762284409.\u001b[0m\n"
     ]
    },
    {
     "name": "stdout",
     "output_type": "stream",
     "text": [
      "0.5676363936175672\n"
     ]
    },
    {
     "name": "stderr",
     "output_type": "stream",
     "text": [
      "\u001b[32m[I 2022-04-28 15:32:36,145]\u001b[0m Trial 62 finished with value: 0.42970037039514497 and parameters: {'min_data_in_leaf': 20, 'min_data_in_bin': 102, 'min_gain_to_split': 0.26, 'max_depth': 4, 'n_estimators': 507, 'boosting_type': 'dart', 'lambda_l1': 0.7994739768615702, 'lambda_l2': 9.968576872420641, 'num_leaves': 155, 'feature_fraction': 0.7513647152340879, 'bagging_fraction': 0.8823181344336672, 'bagging_freq': 4, 'min_child_samples': 19, 'max_bin': 221}. Best is trial 41 with value: 0.4284029762284409.\u001b[0m\n"
     ]
    },
    {
     "name": "stdout",
     "output_type": "stream",
     "text": [
      "0.570299629604855\n"
     ]
    },
    {
     "name": "stderr",
     "output_type": "stream",
     "text": [
      "\u001b[32m[I 2022-04-28 15:32:37,855]\u001b[0m Trial 63 finished with value: 0.4281836326103292 and parameters: {'min_data_in_leaf': 16, 'min_data_in_bin': 58, 'min_gain_to_split': 0.26, 'max_depth': 5, 'n_estimators': 509, 'boosting_type': 'dart', 'lambda_l1': 0.01046972267106707, 'lambda_l2': 9.735095956538094, 'num_leaves': 150, 'feature_fraction': 0.7436144848233219, 'bagging_fraction': 0.8824877851239604, 'bagging_freq': 2, 'min_child_samples': 18, 'max_bin': 221}. Best is trial 63 with value: 0.4281836326103292.\u001b[0m\n"
     ]
    },
    {
     "name": "stdout",
     "output_type": "stream",
     "text": [
      "0.5718163673896708\n"
     ]
    },
    {
     "name": "stderr",
     "output_type": "stream",
     "text": [
      "\u001b[32m[I 2022-04-28 15:32:39,534]\u001b[0m Trial 64 finished with value: 0.4285554278211712 and parameters: {'min_data_in_leaf': 31, 'min_data_in_bin': 54, 'min_gain_to_split': 0.28, 'max_depth': 5, 'n_estimators': 511, 'boosting_type': 'dart', 'lambda_l1': 0.7469260029575734, 'lambda_l2': 9.9825528239411, 'num_leaves': 156, 'feature_fraction': 0.7451780903968473, 'bagging_fraction': 0.8837070355923223, 'bagging_freq': 1, 'min_child_samples': 19, 'max_bin': 192}. Best is trial 63 with value: 0.4281836326103292.\u001b[0m\n"
     ]
    },
    {
     "name": "stdout",
     "output_type": "stream",
     "text": [
      "0.5714445721788288\n"
     ]
    },
    {
     "name": "stderr",
     "output_type": "stream",
     "text": [
      "\u001b[32m[I 2022-04-28 15:32:41,215]\u001b[0m Trial 65 finished with value: 0.43003483052205316 and parameters: {'min_data_in_leaf': 15, 'min_data_in_bin': 60, 'min_gain_to_split': 0.27, 'max_depth': 5, 'n_estimators': 507, 'boosting_type': 'dart', 'lambda_l1': 0.7943279167503198, 'lambda_l2': 9.98665775068472, 'num_leaves': 165, 'feature_fraction': 0.6834934901739123, 'bagging_fraction': 0.8819534091482375, 'bagging_freq': 1, 'min_child_samples': 19, 'max_bin': 212}. Best is trial 63 with value: 0.4281836326103292.\u001b[0m\n"
     ]
    },
    {
     "name": "stdout",
     "output_type": "stream",
     "text": [
      "0.5699651694779468\n"
     ]
    },
    {
     "name": "stderr",
     "output_type": "stream",
     "text": [
      "\u001b[32m[I 2022-04-28 15:32:42,887]\u001b[0m Trial 66 finished with value: 0.4298481551023836 and parameters: {'min_data_in_leaf': 13, 'min_data_in_bin': 56, 'min_gain_to_split': 0.25, 'max_depth': 5, 'n_estimators': 509, 'boosting_type': 'dart', 'lambda_l1': 0.7567496912828254, 'lambda_l2': 9.886666987497014, 'num_leaves': 153, 'feature_fraction': 0.7498143638738247, 'bagging_fraction': 0.7982245402280614, 'bagging_freq': 1, 'min_child_samples': 19, 'max_bin': 190}. Best is trial 63 with value: 0.4281836326103292.\u001b[0m\n"
     ]
    },
    {
     "name": "stdout",
     "output_type": "stream",
     "text": [
      "0.5701518448976164\n"
     ]
    },
    {
     "name": "stderr",
     "output_type": "stream",
     "text": [
      "\u001b[32m[I 2022-04-28 15:32:44,538]\u001b[0m Trial 67 finished with value: 0.43627290079601533 and parameters: {'min_data_in_leaf': 11, 'min_data_in_bin': 53, 'min_gain_to_split': 0.84, 'max_depth': 7, 'n_estimators': 509, 'boosting_type': 'dart', 'lambda_l1': 0.7820441795087749, 'lambda_l2': 9.907787264796488, 'num_leaves': 156, 'feature_fraction': 0.7454511162022152, 'bagging_fraction': 0.8019806812420063, 'bagging_freq': 1, 'min_child_samples': 19, 'max_bin': 221}. Best is trial 63 with value: 0.4281836326103292.\u001b[0m\n"
     ]
    },
    {
     "name": "stdout",
     "output_type": "stream",
     "text": [
      "0.5637270992039847\n"
     ]
    },
    {
     "name": "stderr",
     "output_type": "stream",
     "text": [
      "\u001b[32m[I 2022-04-28 15:32:46,425]\u001b[0m Trial 68 finished with value: 0.4370756051005946 and parameters: {'min_data_in_leaf': 14, 'min_data_in_bin': 30, 'min_gain_to_split': 0.6799999999999999, 'max_depth': 5, 'n_estimators': 532, 'boosting_type': 'dart', 'lambda_l1': 0.7761811084146186, 'lambda_l2': 0.8760362956760641, 'num_leaves': 158, 'feature_fraction': 0.71623803088307, 'bagging_fraction': 0.7464608276309628, 'bagging_freq': 2, 'min_child_samples': 30, 'max_bin': 248}. Best is trial 63 with value: 0.4281836326103292.\u001b[0m\n"
     ]
    },
    {
     "name": "stdout",
     "output_type": "stream",
     "text": [
      "0.5629243948994054\n"
     ]
    },
    {
     "name": "stderr",
     "output_type": "stream",
     "text": [
      "\u001b[32m[I 2022-04-28 15:32:48,884]\u001b[0m Trial 69 finished with value: 0.431943586688176 and parameters: {'min_data_in_leaf': 30, 'min_data_in_bin': 69, 'min_gain_to_split': 0.25, 'max_depth': 6, 'n_estimators': 580, 'boosting_type': 'dart', 'lambda_l1': 0.35757042213211254, 'lambda_l2': 9.997186985628888, 'num_leaves': 150, 'feature_fraction': 0.7562138495910933, 'bagging_fraction': 0.8260574804377414, 'bagging_freq': 1, 'min_child_samples': 23, 'max_bin': 236}. Best is trial 63 with value: 0.4281836326103292.\u001b[0m\n"
     ]
    },
    {
     "name": "stdout",
     "output_type": "stream",
     "text": [
      "0.568056413311824\n"
     ]
    },
    {
     "name": "stderr",
     "output_type": "stream",
     "text": [
      "\u001b[32m[I 2022-04-28 15:32:50,810]\u001b[0m Trial 70 finished with value: 0.43353032775536793 and parameters: {'min_data_in_leaf': 21, 'min_data_in_bin': 58, 'min_gain_to_split': 0.51, 'max_depth': 6, 'n_estimators': 559, 'boosting_type': 'dart', 'lambda_l1': 2.0182214221679162, 'lambda_l2': 9.689039969946165, 'num_leaves': 168, 'feature_fraction': 0.6755264038722165, 'bagging_fraction': 0.8520203705102634, 'bagging_freq': 2, 'min_child_samples': 24, 'max_bin': 189}. Best is trial 63 with value: 0.4281836326103292.\u001b[0m\n"
     ]
    },
    {
     "name": "stdout",
     "output_type": "stream",
     "text": [
      "0.5664696722446321\n"
     ]
    },
    {
     "name": "stderr",
     "output_type": "stream",
     "text": [
      "\u001b[32m[I 2022-04-28 15:32:52,302]\u001b[0m Trial 71 finished with value: 0.42829874911912547 and parameters: {'min_data_in_leaf': 2, 'min_data_in_bin': 48, 'min_gain_to_split': 0.26, 'max_depth': 5, 'n_estimators': 491, 'boosting_type': 'dart', 'lambda_l1': 1.1209864720174478, 'lambda_l2': 9.316595884073447, 'num_leaves': 187, 'feature_fraction': 0.7332677820961829, 'bagging_fraction': 0.8664554425270442, 'bagging_freq': 1, 'min_child_samples': 16, 'max_bin': 193}. Best is trial 63 with value: 0.4281836326103292.\u001b[0m\n"
     ]
    },
    {
     "name": "stdout",
     "output_type": "stream",
     "text": [
      "0.5717012508808745\n"
     ]
    },
    {
     "name": "stderr",
     "output_type": "stream",
     "text": [
      "\u001b[32m[I 2022-04-28 15:32:53,809]\u001b[0m Trial 72 finished with value: 0.42801718036112346 and parameters: {'min_data_in_leaf': 2, 'min_data_in_bin': 45, 'min_gain_to_split': 0.28, 'max_depth': 5, 'n_estimators': 490, 'boosting_type': 'dart', 'lambda_l1': 1.0182129674281581, 'lambda_l2': 9.985790018528611, 'num_leaves': 186, 'feature_fraction': 0.7379865533504489, 'bagging_fraction': 0.8823607455129745, 'bagging_freq': 1, 'min_child_samples': 20, 'max_bin': 166}. Best is trial 72 with value: 0.42801718036112346.\u001b[0m\n"
     ]
    },
    {
     "name": "stdout",
     "output_type": "stream",
     "text": [
      "0.5719828196388765\n"
     ]
    },
    {
     "name": "stderr",
     "output_type": "stream",
     "text": [
      "\u001b[32m[I 2022-04-28 15:32:55,330]\u001b[0m Trial 73 finished with value: 0.42863320924603365 and parameters: {'min_data_in_leaf': 3, 'min_data_in_bin': 43, 'min_gain_to_split': 0.26, 'max_depth': 5, 'n_estimators': 490, 'boosting_type': 'dart', 'lambda_l1': 1.1160866698097662, 'lambda_l2': 9.258786221773573, 'num_leaves': 188, 'feature_fraction': 0.7258871394188651, 'bagging_fraction': 0.8800440271407076, 'bagging_freq': 2, 'min_child_samples': 16, 'max_bin': 151}. Best is trial 72 with value: 0.42801718036112346.\u001b[0m\n"
     ]
    },
    {
     "name": "stdout",
     "output_type": "stream",
     "text": [
      "0.5713667907539663\n"
     ]
    },
    {
     "name": "stderr",
     "output_type": "stream",
     "text": [
      "\u001b[32m[I 2022-04-28 15:32:56,901]\u001b[0m Trial 74 finished with value: 0.431587347762306 and parameters: {'min_data_in_leaf': 2, 'min_data_in_bin': 43, 'min_gain_to_split': 0.47, 'max_depth': 5, 'n_estimators': 489, 'boosting_type': 'dart', 'lambda_l1': 1.7068449797644214, 'lambda_l2': 9.312088301240141, 'num_leaves': 187, 'feature_fraction': 0.7290286925801739, 'bagging_fraction': 0.8816288214379703, 'bagging_freq': 2, 'min_child_samples': 16, 'max_bin': 138}. Best is trial 72 with value: 0.42801718036112346.\u001b[0m\n"
     ]
    },
    {
     "name": "stdout",
     "output_type": "stream",
     "text": [
      "0.568412652237694\n"
     ]
    },
    {
     "name": "stderr",
     "output_type": "stream",
     "text": [
      "\u001b[32m[I 2022-04-28 15:32:58,680]\u001b[0m Trial 75 finished with value: 0.43575487650643163 and parameters: {'min_data_in_leaf': 6, 'min_data_in_bin': 10, 'min_gain_to_split': 0.65, 'max_depth': 6, 'n_estimators': 485, 'boosting_type': 'dart', 'lambda_l1': 1.248544320415605, 'lambda_l2': 8.302057526761303, 'num_leaves': 176, 'feature_fraction': 0.7820590384816379, 'bagging_fraction': 0.8546986173991968, 'bagging_freq': 2, 'min_child_samples': 14, 'max_bin': 165}. Best is trial 72 with value: 0.42801718036112346.\u001b[0m\n"
     ]
    },
    {
     "name": "stdout",
     "output_type": "stream",
     "text": [
      "0.5642451234935684\n"
     ]
    },
    {
     "name": "stderr",
     "output_type": "stream",
     "text": [
      "\u001b[32m[I 2022-04-28 15:33:00,482]\u001b[0m Trial 76 finished with value: 0.43634912659238 and parameters: {'min_data_in_leaf': 2, 'min_data_in_bin': 31, 'min_gain_to_split': 0.96, 'max_depth': 5, 'n_estimators': 538, 'boosting_type': 'dart', 'lambda_l1': 1.2305698456888117, 'lambda_l2': 8.615672814721501, 'num_leaves': 179, 'feature_fraction': 0.6569772463705369, 'bagging_fraction': 0.927086487183691, 'bagging_freq': 1, 'min_child_samples': 22, 'max_bin': 145}. Best is trial 72 with value: 0.42801718036112346.\u001b[0m\n"
     ]
    },
    {
     "name": "stdout",
     "output_type": "stream",
     "text": [
      "0.56365087340762\n"
     ]
    },
    {
     "name": "stderr",
     "output_type": "stream",
     "text": [
      "\u001b[32m[I 2022-04-28 15:33:00,869]\u001b[0m Trial 77 finished with value: 0.42944524732159683 and parameters: {'min_data_in_leaf': 8, 'min_data_in_bin': 48, 'min_gain_to_split': 0.1, 'max_depth': 5, 'n_estimators': 528, 'boosting_type': 'gbdt', 'lambda_l1': 1.7008938052748273, 'lambda_l2': 9.636321365491442, 'num_leaves': 194, 'feature_fraction': 0.7134921540269825, 'bagging_fraction': 0.9012529291547399, 'bagging_freq': 3, 'min_child_samples': 64, 'max_bin': 156}. Best is trial 72 with value: 0.42801718036112346.\u001b[0m\n"
     ]
    },
    {
     "name": "stdout",
     "output_type": "stream",
     "text": [
      "0.5705547526784032\n"
     ]
    },
    {
     "name": "stderr",
     "output_type": "stream",
     "text": [
      "\u001b[32m[I 2022-04-28 15:33:01,177]\u001b[0m Trial 78 finished with value: 0.4338103408848726 and parameters: {'min_data_in_leaf': 9, 'min_data_in_bin': 19, 'min_gain_to_split': 0.28, 'max_depth': 5, 'n_estimators': 517, 'boosting_type': 'gbdt', 'lambda_l1': 2.212985223725617, 'lambda_l2': 8.803554222677816, 'num_leaves': 196, 'feature_fraction': 0.7082514528366579, 'bagging_fraction': 0.8389432638858243, 'bagging_freq': 3, 'min_child_samples': 74, 'max_bin': 121}. Best is trial 72 with value: 0.42801718036112346.\u001b[0m\n"
     ]
    },
    {
     "name": "stdout",
     "output_type": "stream",
     "text": [
      "0.5661896591151274\n"
     ]
    },
    {
     "name": "stderr",
     "output_type": "stream",
     "text": [
      "\u001b[32m[I 2022-04-28 15:33:01,423]\u001b[0m Trial 79 finished with value: 0.44043109576915707 and parameters: {'min_data_in_leaf': 5, 'min_data_in_bin': 48, 'min_gain_to_split': 0.6, 'max_depth': 5, 'n_estimators': 523, 'boosting_type': 'gbdt', 'lambda_l1': 1.6374626242872852, 'lambda_l2': 9.631774631048831, 'num_leaves': 185, 'feature_fraction': 0.7345349120168968, 'bagging_fraction': 0.896768503889909, 'bagging_freq': 2, 'min_child_samples': 61, 'max_bin': 149}. Best is trial 72 with value: 0.42801718036112346.\u001b[0m\n"
     ]
    },
    {
     "name": "stdout",
     "output_type": "stream",
     "text": [
      "0.5595689042308429\n"
     ]
    },
    {
     "name": "stderr",
     "output_type": "stream",
     "text": [
      "\u001b[32m[I 2022-04-28 15:33:01,752]\u001b[0m Trial 80 finished with value: 0.44139402980895337 and parameters: {'min_data_in_leaf': 9, 'min_data_in_bin': 76, 'min_gain_to_split': 0.1, 'max_depth': 6, 'n_estimators': 600, 'boosting_type': 'gbdt', 'lambda_l1': 9.784442120350706, 'lambda_l2': 9.18799361360437, 'num_leaves': 207, 'feature_fraction': 0.7657545471968892, 'bagging_fraction': 0.8748738520768692, 'bagging_freq': 3, 'min_child_samples': 59, 'max_bin': 162}. Best is trial 72 with value: 0.42801718036112346.\u001b[0m\n"
     ]
    },
    {
     "name": "stdout",
     "output_type": "stream",
     "text": [
      "0.5586059701910466\n"
     ]
    },
    {
     "name": "stderr",
     "output_type": "stream",
     "text": [
      "\u001b[32m[I 2022-04-28 15:33:02,087]\u001b[0m Trial 81 finished with value: 0.43453526376458984 and parameters: {'min_data_in_leaf': 20, 'min_data_in_bin': 65, 'min_gain_to_split': 0.44000000000000006, 'max_depth': 5, 'n_estimators': 490, 'boosting_type': 'gbdt', 'lambda_l1': 0.2771741177073799, 'lambda_l2': 9.237835516057904, 'num_leaves': 173, 'feature_fraction': 0.7972257832194048, 'bagging_fraction': 0.9027639165037168, 'bagging_freq': 1, 'min_child_samples': 67, 'max_bin': 152}. Best is trial 72 with value: 0.42801718036112346.\u001b[0m\n"
     ]
    },
    {
     "name": "stdout",
     "output_type": "stream",
     "text": [
      "0.5654647362354102\n"
     ]
    },
    {
     "name": "stderr",
     "output_type": "stream",
     "text": [
      "\u001b[32m[I 2022-04-28 15:33:02,617]\u001b[0m Trial 82 finished with value: 0.4280700717300301 and parameters: {'min_data_in_leaf': 16, 'min_data_in_bin': 38, 'min_gain_to_split': 0.11, 'max_depth': 5, 'n_estimators': 555, 'boosting_type': 'gbdt', 'lambda_l1': 1.0331412642600675, 'lambda_l2': 9.591966520474758, 'num_leaves': 133, 'feature_fraction': 0.7238652283389427, 'bagging_fraction': 0.8579479465973986, 'bagging_freq': 2, 'min_child_samples': 16, 'max_bin': 127}. Best is trial 72 with value: 0.42801718036112346.\u001b[0m\n"
     ]
    },
    {
     "name": "stdout",
     "output_type": "stream",
     "text": [
      "0.5719299282699699\n"
     ]
    },
    {
     "name": "stderr",
     "output_type": "stream",
     "text": [
      "\u001b[32m[I 2022-04-28 15:33:02,968]\u001b[0m Trial 83 finished with value: 0.43803231662640196 and parameters: {'min_data_in_leaf': 2, 'min_data_in_bin': 38, 'min_gain_to_split': 0.24000000000000002, 'max_depth': 6, 'n_estimators': 553, 'boosting_type': 'gbdt', 'lambda_l1': 2.6849009495512757, 'lambda_l2': 9.647154774774814, 'num_leaves': 132, 'feature_fraction': 0.7190224695740519, 'bagging_fraction': 0.8558436265646381, 'bagging_freq': 2, 'min_child_samples': 16, 'max_bin': 126}. Best is trial 72 with value: 0.42801718036112346.\u001b[0m\n"
     ]
    },
    {
     "name": "stdout",
     "output_type": "stream",
     "text": [
      "0.561967683373598\n"
     ]
    },
    {
     "name": "stderr",
     "output_type": "stream",
     "text": [
      "\u001b[32m[I 2022-04-28 15:33:03,235]\u001b[0m Trial 84 finished with value: 0.4421967341135329 and parameters: {'min_data_in_leaf': 10, 'min_data_in_bin': 48, 'min_gain_to_split': 0.83, 'max_depth': 5, 'n_estimators': 573, 'boosting_type': 'gbdt', 'lambda_l1': 0.9557895026717474, 'lambda_l2': 9.978983416554065, 'num_leaves': 145, 'feature_fraction': 0.7385239111214386, 'bagging_fraction': 0.8203249970150054, 'bagging_freq': 3, 'min_child_samples': 21, 'max_bin': 108}. Best is trial 72 with value: 0.42801718036112346.\u001b[0m\n"
     ]
    },
    {
     "name": "stdout",
     "output_type": "stream",
     "text": [
      "0.5578032658864671\n"
     ]
    },
    {
     "name": "stderr",
     "output_type": "stream",
     "text": [
      "\u001b[32m[I 2022-04-28 15:33:03,531]\u001b[0m Trial 85 finished with value: 0.43835122046833774 and parameters: {'min_data_in_leaf': 4, 'min_data_in_bin': 22, 'min_gain_to_split': 0.39, 'max_depth': 5, 'n_estimators': 528, 'boosting_type': 'gbdt', 'lambda_l1': 1.063857633035074, 'lambda_l2': 9.49641571405399, 'num_leaves': 161, 'feature_fraction': 0.7032004341668328, 'bagging_fraction': 0.8898125806207499, 'bagging_freq': 2, 'min_child_samples': 12, 'max_bin': 131}. Best is trial 72 with value: 0.42801718036112346.\u001b[0m\n"
     ]
    },
    {
     "name": "stdout",
     "output_type": "stream",
     "text": [
      "0.5616487795316623\n"
     ]
    },
    {
     "name": "stderr",
     "output_type": "stream",
     "text": [
      "\u001b[32m[I 2022-04-28 15:33:03,923]\u001b[0m Trial 86 finished with value: 0.4308499798546108 and parameters: {'min_data_in_leaf': 17, 'min_data_in_bin': 81, 'min_gain_to_split': 0.1, 'max_depth': 5, 'n_estimators': 498, 'boosting_type': 'gbdt', 'lambda_l1': 1.5198699450142537, 'lambda_l2': 9.033539202359986, 'num_leaves': 191, 'feature_fraction': 0.6676714631591049, 'bagging_fraction': 0.9292519092481154, 'bagging_freq': 1, 'min_child_samples': 25, 'max_bin': 95}. Best is trial 72 with value: 0.42801718036112346.\u001b[0m\n"
     ]
    },
    {
     "name": "stdout",
     "output_type": "stream",
     "text": [
      "0.5691500201453892\n"
     ]
    },
    {
     "name": "stderr",
     "output_type": "stream",
     "text": [
      "\u001b[32m[I 2022-04-28 15:33:04,426]\u001b[0m Trial 87 finished with value: 0.4312404426074199 and parameters: {'min_data_in_leaf': 7, 'min_data_in_bin': 30, 'min_gain_to_split': 0.23, 'max_depth': 6, 'n_estimators': 538, 'boosting_type': 'gbdt', 'lambda_l1': 0.5604561882078034, 'lambda_l2': 9.77460348803714, 'num_leaves': 122, 'feature_fraction': 0.7229898108618161, 'bagging_fraction': 0.8409671614776039, 'bagging_freq': 3, 'min_child_samples': 7, 'max_bin': 168}. Best is trial 72 with value: 0.42801718036112346.\u001b[0m\n"
     ]
    },
    {
     "name": "stdout",
     "output_type": "stream",
     "text": [
      "0.5687595573925801\n"
     ]
    },
    {
     "name": "stderr",
     "output_type": "stream",
     "text": [
      "\u001b[32m[I 2022-04-28 15:33:04,659]\u001b[0m Trial 88 finished with value: 0.4438519228346043 and parameters: {'min_data_in_leaf': 24, 'min_data_in_bin': 11, 'min_gain_to_split': 4.4399999999999995, 'max_depth': 4, 'n_estimators': 562, 'boosting_type': 'gbdt', 'lambda_l1': 0.24569209832183853, 'lambda_l2': 8.517621799619503, 'num_leaves': 141, 'feature_fraction': 0.7601399279059834, 'bagging_fraction': 0.6884271276199642, 'bagging_freq': 2, 'min_child_samples': 33, 'max_bin': 138}. Best is trial 72 with value: 0.42801718036112346.\u001b[0m\n"
     ]
    },
    {
     "name": "stdout",
     "output_type": "stream",
     "text": [
      "0.5561480771653957\n"
     ]
    },
    {
     "name": "stderr",
     "output_type": "stream",
     "text": [
      "\u001b[32m[I 2022-04-28 15:33:04,962]\u001b[0m Trial 89 finished with value: 0.43865301239680354 and parameters: {'min_data_in_leaf': 28, 'min_data_in_bin': 42, 'min_gain_to_split': 0.44000000000000006, 'max_depth': 5, 'n_estimators': 473, 'boosting_type': 'gbdt', 'lambda_l1': 1.9332751010253553, 'lambda_l2': 3.9532267464121533, 'num_leaves': 180, 'feature_fraction': 0.6896414629653226, 'bagging_fraction': 0.9503714543333988, 'bagging_freq': 1, 'min_child_samples': 51, 'max_bin': 154}. Best is trial 72 with value: 0.42801718036112346.\u001b[0m\n"
     ]
    },
    {
     "name": "stdout",
     "output_type": "stream",
     "text": [
      "0.5613469876031965\n"
     ]
    },
    {
     "name": "stderr",
     "output_type": "stream",
     "text": [
      "\u001b[32m[I 2022-04-28 15:33:06,693]\u001b[0m Trial 90 finished with value: 0.4351668489344722 and parameters: {'min_data_in_leaf': 16, 'min_data_in_bin': 70, 'min_gain_to_split': 0.62, 'max_depth': 6, 'n_estimators': 514, 'boosting_type': 'dart', 'lambda_l1': 0.659892495293567, 'lambda_l2': 8.878341266648372, 'num_leaves': 162, 'feature_fraction': 0.7075483357048256, 'bagging_fraction': 0.8611748157282387, 'bagging_freq': 4, 'min_child_samples': 17, 'max_bin': 156}. Best is trial 72 with value: 0.42801718036112346.\u001b[0m\n"
     ]
    },
    {
     "name": "stdout",
     "output_type": "stream",
     "text": [
      "0.5648331510655278\n"
     ]
    },
    {
     "name": "stderr",
     "output_type": "stream",
     "text": [
      "\u001b[32m[I 2022-04-28 15:33:09,016]\u001b[0m Trial 91 finished with value: 0.4310024314473411 and parameters: {'min_data_in_leaf': 11, 'min_data_in_bin': 37, 'min_gain_to_split': 0.1, 'max_depth': 5, 'n_estimators': 589, 'boosting_type': 'dart', 'lambda_l1': 1.217579579803302, 'lambda_l2': 9.337028267621283, 'num_leaves': 219, 'feature_fraction': 0.783021459695625, 'bagging_fraction': 0.9067289381696468, 'bagging_freq': 2, 'min_child_samples': 29, 'max_bin': 176}. Best is trial 72 with value: 0.42801718036112346.\u001b[0m\n"
     ]
    },
    {
     "name": "stdout",
     "output_type": "stream",
     "text": [
      "0.5689975685526589\n"
     ]
    },
    {
     "name": "stderr",
     "output_type": "stream",
     "text": [
      "\u001b[32m[I 2022-04-28 15:33:10,737]\u001b[0m Trial 92 finished with value: 0.43156868022033934 and parameters: {'min_data_in_leaf': 32, 'min_data_in_bin': 50, 'min_gain_to_split': 0.19, 'max_depth': 5, 'n_estimators': 499, 'boosting_type': 'dart', 'lambda_l1': 1.3876924778404374, 'lambda_l2': 9.609544855798172, 'num_leaves': 187, 'feature_fraction': 0.8086706760618223, 'bagging_fraction': 0.8796646392914119, 'bagging_freq': 1, 'min_child_samples': 65, 'max_bin': 143}. Best is trial 72 with value: 0.42801718036112346.\u001b[0m\n"
     ]
    },
    {
     "name": "stdout",
     "output_type": "stream",
     "text": [
      "0.5684313197796607\n"
     ]
    },
    {
     "name": "stderr",
     "output_type": "stream",
     "text": [
      "\u001b[32m[I 2022-04-28 15:33:12,122]\u001b[0m Trial 93 finished with value: 0.431126881727121 and parameters: {'min_data_in_leaf': 19, 'min_data_in_bin': 90, 'min_gain_to_split': 0.33, 'max_depth': 4, 'n_estimators': 473, 'boosting_type': 'dart', 'lambda_l1': 1.7339985749629188, 'lambda_l2': 9.999748901898968, 'num_leaves': 136, 'feature_fraction': 0.7590317556929338, 'bagging_fraction': 0.8909393371913356, 'bagging_freq': 2, 'min_child_samples': 15, 'max_bin': 181}. Best is trial 72 with value: 0.42801718036112346.\u001b[0m\n"
     ]
    },
    {
     "name": "stdout",
     "output_type": "stream",
     "text": [
      "0.568873118272879\n"
     ]
    },
    {
     "name": "stderr",
     "output_type": "stream",
     "text": [
      "\u001b[32m[I 2022-04-28 15:33:13,580]\u001b[0m Trial 94 finished with value: 0.43036617939196686 and parameters: {'min_data_in_leaf': 13, 'min_data_in_bin': 44, 'min_gain_to_split': 0.1, 'max_depth': 5, 'n_estimators': 454, 'boosting_type': 'dart', 'lambda_l1': 0.933553653268034, 'lambda_l2': 9.198656848406506, 'num_leaves': 171, 'feature_fraction': 0.7363620357490226, 'bagging_fraction': 0.9191945905197665, 'bagging_freq': 3, 'min_child_samples': 21, 'max_bin': 120}. Best is trial 72 with value: 0.42801718036112346.\u001b[0m\n"
     ]
    },
    {
     "name": "stdout",
     "output_type": "stream",
     "text": [
      "0.5696338206080331\n"
     ]
    },
    {
     "name": "stderr",
     "output_type": "stream",
     "text": [
      "\u001b[32m[I 2022-04-28 15:33:14,073]\u001b[0m Trial 95 finished with value: 0.42978904121948824 and parameters: {'min_data_in_leaf': 8, 'min_data_in_bin': 61, 'min_gain_to_split': 0.55, 'max_depth': 4, 'n_estimators': 233, 'boosting_type': 'dart', 'lambda_l1': 0.48838799186517035, 'lambda_l2': 7.852125500311808, 'num_leaves': 208, 'feature_fraction': 0.7906462576849421, 'bagging_fraction': 0.8717482679207416, 'bagging_freq': 1, 'min_child_samples': 26, 'max_bin': 200}. Best is trial 72 with value: 0.42801718036112346.\u001b[0m\n"
     ]
    },
    {
     "name": "stdout",
     "output_type": "stream",
     "text": [
      "0.5702109587805118\n"
     ]
    },
    {
     "name": "stderr",
     "output_type": "stream",
     "text": [
      "\u001b[32m[I 2022-04-28 15:33:15,542]\u001b[0m Trial 96 finished with value: 0.4340016831900342 and parameters: {'min_data_in_leaf': 24, 'min_data_in_bin': 34, 'min_gain_to_split': 0.74, 'max_depth': 5, 'n_estimators': 483, 'boosting_type': 'dart', 'lambda_l1': 1.0268654481478645, 'lambda_l2': 9.384936398212481, 'num_leaves': 196, 'feature_fraction': 0.7442964257776669, 'bagging_fraction': 0.8282389568044302, 'bagging_freq': 2, 'min_child_samples': 7, 'max_bin': 131}. Best is trial 72 with value: 0.42801718036112346.\u001b[0m\n"
     ]
    },
    {
     "name": "stdout",
     "output_type": "stream",
     "text": [
      "0.5659983168099658\n"
     ]
    },
    {
     "name": "stderr",
     "output_type": "stream",
     "text": [
      "\u001b[32m[I 2022-04-28 15:33:17,212]\u001b[0m Trial 97 finished with value: 0.4434956839087345 and parameters: {'min_data_in_leaf': 16, 'min_data_in_bin': 98, 'min_gain_to_split': 0.35, 'max_depth': 5, 'n_estimators': 550, 'boosting_type': 'dart', 'lambda_l1': 9.435055291066162, 'lambda_l2': 8.858416203399978, 'num_leaves': 152, 'feature_fraction': 0.77551406682826, 'bagging_fraction': 0.9015379029253867, 'bagging_freq': 3, 'min_child_samples': 11, 'max_bin': 142}. Best is trial 72 with value: 0.42801718036112346.\u001b[0m\n"
     ]
    },
    {
     "name": "stdout",
     "output_type": "stream",
     "text": [
      "0.5565043160912655\n"
     ]
    },
    {
     "name": "stderr",
     "output_type": "stream",
     "text": [
      "\u001b[32m[I 2022-04-28 15:33:18,433]\u001b[0m Trial 98 finished with value: 0.4290905640242242 and parameters: {'min_data_in_leaf': 21, 'min_data_in_bin': 27, 'min_gain_to_split': 0.2, 'max_depth': 4, 'n_estimators': 430, 'boosting_type': 'dart', 'lambda_l1': 0.0017892431241109744, 'lambda_l2': 9.733239592599066, 'num_leaves': 201, 'feature_fraction': 0.7228363921449021, 'bagging_fraction': 0.9315937480135378, 'bagging_freq': 1, 'min_child_samples': 14, 'max_bin': 217}. Best is trial 72 with value: 0.42801718036112346.\u001b[0m\n"
     ]
    },
    {
     "name": "stdout",
     "output_type": "stream",
     "text": [
      "0.5709094359757758\n"
     ]
    },
    {
     "name": "stderr",
     "output_type": "stream",
     "text": [
      "\u001b[32m[I 2022-04-28 15:33:18,718]\u001b[0m Trial 99 finished with value: 0.4366726973198076 and parameters: {'min_data_in_leaf': 22, 'min_data_in_bin': 26, 'min_gain_to_split': 0.47, 'max_depth': 4, 'n_estimators': 422, 'boosting_type': 'gbdt', 'lambda_l1': 0.21913708793891995, 'lambda_l2': 9.775161182133518, 'num_leaves': 198, 'feature_fraction': 0.7229556175379988, 'bagging_fraction': 0.9351798489860039, 'bagging_freq': 1, 'min_child_samples': 84, 'max_bin': 216}. Best is trial 72 with value: 0.42801718036112346.\u001b[0m\n"
     ]
    },
    {
     "name": "stdout",
     "output_type": "stream",
     "text": [
      "0.5633273026801924\n"
     ]
    },
    {
     "name": "stderr",
     "output_type": "stream",
     "text": [
      "\u001b[32m[I 2022-04-28 15:33:19,669]\u001b[0m Trial 100 finished with value: 0.4321924872477356 and parameters: {'min_data_in_leaf': 4, 'min_data_in_bin': 14, 'min_gain_to_split': 0.2, 'max_depth': 4, 'n_estimators': 379, 'boosting_type': 'dart', 'lambda_l1': 0.6054780667642248, 'lambda_l2': 9.51496583386804, 'num_leaves': 184, 'feature_fraction': 0.6829041929024349, 'bagging_fraction': 0.781878227314624, 'bagging_freq': 1, 'min_child_samples': 18, 'max_bin': 167}. Best is trial 72 with value: 0.42801718036112346.\u001b[0m\n"
     ]
    },
    {
     "name": "stdout",
     "output_type": "stream",
     "text": [
      "0.5678075127522644\n"
     ]
    },
    {
     "name": "stderr",
     "output_type": "stream",
     "text": [
      "\u001b[32m[I 2022-04-28 15:33:21,074]\u001b[0m Trial 101 finished with value: 0.42639465983849467 and parameters: {'min_data_in_leaf': 17, 'min_data_in_bin': 54, 'min_gain_to_split': 0.30000000000000004, 'max_depth': 5, 'n_estimators': 434, 'boosting_type': 'dart', 'lambda_l1': 0.012949042492211627, 'lambda_l2': 9.78760835639314, 'num_leaves': 235, 'feature_fraction': 0.6995144036959376, 'bagging_fraction': 0.9548487692330042, 'bagging_freq': 1, 'min_child_samples': 14, 'max_bin': 193}. Best is trial 101 with value: 0.42639465983849467.\u001b[0m\n"
     ]
    },
    {
     "name": "stdout",
     "output_type": "stream",
     "text": [
      "0.5736053401615053\n"
     ]
    },
    {
     "name": "stderr",
     "output_type": "stream",
     "text": [
      "\u001b[32m[I 2022-04-28 15:33:22,709]\u001b[0m Trial 102 finished with value: 0.42908123025324074 and parameters: {'min_data_in_leaf': 26, 'min_data_in_bin': 4, 'min_gain_to_split': 0.32, 'max_depth': 4, 'n_estimators': 528, 'boosting_type': 'dart', 'lambda_l1': 0.41351022869609977, 'lambda_l2': 9.756862819973666, 'num_leaves': 192, 'feature_fraction': 0.7025770443930268, 'bagging_fraction': 0.955300840752184, 'bagging_freq': 1, 'min_child_samples': 14, 'max_bin': 194}. Best is trial 101 with value: 0.42639465983849467.\u001b[0m\n"
     ]
    },
    {
     "name": "stdout",
     "output_type": "stream",
     "text": [
      "0.5709187697467593\n"
     ]
    },
    {
     "name": "stderr",
     "output_type": "stream",
     "text": [
      "\u001b[32m[I 2022-04-28 15:33:24,093]\u001b[0m Trial 103 finished with value: 0.42606953348256993 and parameters: {'min_data_in_leaf': 35, 'min_data_in_bin': 52, 'min_gain_to_split': 0.39, 'max_depth': 5, 'n_estimators': 436, 'boosting_type': 'dart', 'lambda_l1': 0.024380894118511933, 'lambda_l2': 9.766159507246355, 'num_leaves': 190, 'feature_fraction': 0.6989113523760501, 'bagging_fraction': 0.958620597143518, 'bagging_freq': 1, 'min_child_samples': 14, 'max_bin': 172}. Best is trial 103 with value: 0.42606953348256993.\u001b[0m\n"
     ]
    },
    {
     "name": "stdout",
     "output_type": "stream",
     "text": [
      "0.5739304665174301\n"
     ]
    },
    {
     "name": "stderr",
     "output_type": "stream",
     "text": [
      "\u001b[32m[I 2022-04-28 15:33:25,206]\u001b[0m Trial 104 finished with value: 0.43116577243955234 and parameters: {'min_data_in_leaf': 36, 'min_data_in_bin': 6, 'min_gain_to_split': 0.39, 'max_depth': 4, 'n_estimators': 405, 'boosting_type': 'dart', 'lambda_l1': 0.047691560801922876, 'lambda_l2': 9.798445890804553, 'num_leaves': 213, 'feature_fraction': 0.6524858365661022, 'bagging_fraction': 0.9530389197738048, 'bagging_freq': 1, 'min_child_samples': 13, 'max_bin': 172}. Best is trial 103 with value: 0.42606953348256993.\u001b[0m\n"
     ]
    },
    {
     "name": "stdout",
     "output_type": "stream",
     "text": [
      "0.5688342275604477\n"
     ]
    },
    {
     "name": "stderr",
     "output_type": "stream",
     "text": [
      "\u001b[32m[I 2022-04-28 15:33:26,592]\u001b[0m Trial 105 finished with value: 0.4291170097086774 and parameters: {'min_data_in_leaf': 27, 'min_data_in_bin': 53, 'min_gain_to_split': 0.56, 'max_depth': 5, 'n_estimators': 438, 'boosting_type': 'dart', 'lambda_l1': 0.004893243689769136, 'lambda_l2': 9.173727951230763, 'num_leaves': 201, 'feature_fraction': 0.6988784050625438, 'bagging_fraction': 0.9828044639642818, 'bagging_freq': 1, 'min_child_samples': 8, 'max_bin': 191}. Best is trial 103 with value: 0.42606953348256993.\u001b[0m\n"
     ]
    },
    {
     "name": "stdout",
     "output_type": "stream",
     "text": [
      "0.5708829902913226\n"
     ]
    },
    {
     "name": "stderr",
     "output_type": "stream",
     "text": [
      "\u001b[32m[I 2022-04-28 15:33:28,090]\u001b[0m Trial 106 finished with value: 0.4273747057917603 and parameters: {'min_data_in_leaf': 34, 'min_data_in_bin': 3, 'min_gain_to_split': 0.33, 'max_depth': 5, 'n_estimators': 452, 'boosting_type': 'dart', 'lambda_l1': 0.33312030535740367, 'lambda_l2': 8.649051547187248, 'num_leaves': 190, 'feature_fraction': 0.6855016780663463, 'bagging_fraction': 0.9771081041589049, 'bagging_freq': 1, 'min_child_samples': 15, 'max_bin': 185}. Best is trial 103 with value: 0.42606953348256993.\u001b[0m\n"
     ]
    },
    {
     "name": "stdout",
     "output_type": "stream",
     "text": [
      "0.5726252942082397\n"
     ]
    },
    {
     "name": "stderr",
     "output_type": "stream",
     "text": [
      "\u001b[32m[I 2022-04-28 15:33:29,676]\u001b[0m Trial 107 finished with value: 0.42537416754430035 and parameters: {'min_data_in_leaf': 34, 'min_data_in_bin': 66, 'min_gain_to_split': 0.32, 'max_depth': 6, 'n_estimators': 452, 'boosting_type': 'dart', 'lambda_l1': 0.39470951771255375, 'lambda_l2': 8.214121155991775, 'num_leaves': 189, 'feature_fraction': 0.6206989421527523, 'bagging_fraction': 0.9762999325709829, 'bagging_freq': 1, 'min_child_samples': 11, 'max_bin': 186}. Best is trial 107 with value: 0.42537416754430035.\u001b[0m\n"
     ]
    },
    {
     "name": "stdout",
     "output_type": "stream",
     "text": [
      "0.5746258324556996\n"
     ]
    },
    {
     "name": "stderr",
     "output_type": "stream",
     "text": [
      "\u001b[32m[I 2022-04-28 15:33:31,099]\u001b[0m Trial 108 finished with value: 0.4395506100397153 and parameters: {'min_data_in_leaf': 42, 'min_data_in_bin': 64, 'min_gain_to_split': 0.86, 'max_depth': 8, 'n_estimators': 456, 'boosting_type': 'dart', 'lambda_l1': 0.26225085606225634, 'lambda_l2': 8.3703632452472, 'num_leaves': 180, 'feature_fraction': 0.5046902052127451, 'bagging_fraction': 0.9720712392922729, 'bagging_freq': 1, 'min_child_samples': 11, 'max_bin': 180}. Best is trial 107 with value: 0.42537416754430035.\u001b[0m\n"
     ]
    },
    {
     "name": "stdout",
     "output_type": "stream",
     "text": [
      "0.5604493899602847\n"
     ]
    },
    {
     "name": "stderr",
     "output_type": "stream",
     "text": [
      "\u001b[32m[I 2022-04-28 15:33:32,393]\u001b[0m Trial 109 finished with value: 0.4267166749374247 and parameters: {'min_data_in_leaf': 34, 'min_data_in_bin': 80, 'min_gain_to_split': 0.7, 'max_depth': 7, 'n_estimators': 417, 'boosting_type': 'dart', 'lambda_l1': 0.5574088917768151, 'lambda_l2': 8.120648434200112, 'num_leaves': 174, 'feature_fraction': 0.6244084192945467, 'bagging_fraction': 0.95737987753221, 'bagging_freq': 1, 'min_child_samples': 16, 'max_bin': 185}. Best is trial 107 with value: 0.42537416754430035.\u001b[0m\n"
     ]
    },
    {
     "name": "stdout",
     "output_type": "stream",
     "text": [
      "0.5732833250625753\n"
     ]
    },
    {
     "name": "stderr",
     "output_type": "stream",
     "text": [
      "\u001b[32m[I 2022-04-28 15:33:33,743]\u001b[0m Trial 110 finished with value: 0.4283485292310374 and parameters: {'min_data_in_leaf': 38, 'min_data_in_bin': 82, 'min_gain_to_split': 0.69, 'max_depth': 7, 'n_estimators': 417, 'boosting_type': 'dart', 'lambda_l1': 0.5743527458023682, 'lambda_l2': 8.108198428997786, 'num_leaves': 164, 'feature_fraction': 0.640611783155323, 'bagging_fraction': 0.9927983155223364, 'bagging_freq': 1, 'min_child_samples': 20, 'max_bin': 204}. Best is trial 107 with value: 0.42537416754430035.\u001b[0m\n"
     ]
    },
    {
     "name": "stdout",
     "output_type": "stream",
     "text": [
      "0.5716514707689626\n"
     ]
    },
    {
     "name": "stderr",
     "output_type": "stream",
     "text": [
      "\u001b[32m[I 2022-04-28 15:33:34,999]\u001b[0m Trial 111 finished with value: 0.43269806650934073 and parameters: {'min_data_in_leaf': 47, 'min_data_in_bin': 73, 'min_gain_to_split': 1.1800000000000002, 'max_depth': 7, 'n_estimators': 416, 'boosting_type': 'dart', 'lambda_l1': 0.5948571891954132, 'lambda_l2': 7.3398850875630295, 'num_leaves': 164, 'feature_fraction': 0.6231716527454116, 'bagging_fraction': 0.9967853523917477, 'bagging_freq': 1, 'min_child_samples': 20, 'max_bin': 186}. Best is trial 107 with value: 0.42537416754430035.\u001b[0m\n"
     ]
    },
    {
     "name": "stdout",
     "output_type": "stream",
     "text": [
      "0.5673019334906593\n"
     ]
    },
    {
     "name": "stderr",
     "output_type": "stream",
     "text": [
      "\u001b[32m[I 2022-04-28 15:33:36,154]\u001b[0m Trial 112 finished with value: 0.4286580993019895 and parameters: {'min_data_in_leaf': 34, 'min_data_in_bin': 82, 'min_gain_to_split': 0.73, 'max_depth': 7, 'n_estimators': 391, 'boosting_type': 'dart', 'lambda_l1': 0.38964966655469124, 'lambda_l2': 8.20930658631505, 'num_leaves': 171, 'feature_fraction': 0.5873675384196682, 'bagging_fraction': 0.9744610608811309, 'bagging_freq': 1, 'min_child_samples': 10, 'max_bin': 185}. Best is trial 107 with value: 0.42537416754430035.\u001b[0m\n"
     ]
    },
    {
     "name": "stdout",
     "output_type": "stream",
     "text": [
      "0.5713419006980105\n"
     ]
    },
    {
     "name": "stderr",
     "output_type": "stream",
     "text": [
      "\u001b[32m[I 2022-04-28 15:33:37,794]\u001b[0m Trial 113 finished with value: 0.4256464025313187 and parameters: {'min_data_in_leaf': 38, 'min_data_in_bin': 76, 'min_gain_to_split': 0.47, 'max_depth': 9, 'n_estimators': 444, 'boosting_type': 'dart', 'lambda_l1': 0.15052865635662127, 'lambda_l2': 7.781875723072959, 'num_leaves': 174, 'feature_fraction': 0.6156665911235313, 'bagging_fraction': 0.9838388359845115, 'bagging_freq': 1, 'min_child_samples': 24, 'max_bin': 203}. Best is trial 107 with value: 0.42537416754430035.\u001b[0m\n"
     ]
    },
    {
     "name": "stdout",
     "output_type": "stream",
     "text": [
      "0.5743535974686813\n"
     ]
    },
    {
     "name": "stderr",
     "output_type": "stream",
     "text": [
      "\u001b[32m[I 2022-04-28 15:33:39,261]\u001b[0m Trial 114 finished with value: 0.4323776070389078 and parameters: {'min_data_in_leaf': 43, 'min_data_in_bin': 89, 'min_gain_to_split': 1.0, 'max_depth': 9, 'n_estimators': 444, 'boosting_type': 'dart', 'lambda_l1': 0.15035001448544466, 'lambda_l2': 6.714977745864148, 'num_leaves': 175, 'feature_fraction': 0.6399426625199788, 'bagging_fraction': 0.9839131843298361, 'bagging_freq': 1, 'min_child_samples': 17, 'max_bin': 203}. Best is trial 107 with value: 0.42537416754430035.\u001b[0m\n"
     ]
    },
    {
     "name": "stdout",
     "output_type": "stream",
     "text": [
      "0.5676223929610922\n"
     ]
    },
    {
     "name": "stderr",
     "output_type": "stream",
     "text": [
      "\u001b[32m[I 2022-04-28 15:33:40,788]\u001b[0m Trial 115 finished with value: 0.42475969428788773 and parameters: {'min_data_in_leaf': 36, 'min_data_in_bin': 77, 'min_gain_to_split': 0.54, 'max_depth': 8, 'n_estimators': 430, 'boosting_type': 'dart', 'lambda_l1': 0.032602054299253946, 'lambda_l2': 8.020872776058605, 'num_leaves': 181, 'feature_fraction': 0.6176662926377463, 'bagging_fraction': 0.9961190501237189, 'bagging_freq': 1, 'min_child_samples': 23, 'max_bin': 178}. Best is trial 115 with value: 0.42475969428788773.\u001b[0m\n"
     ]
    },
    {
     "name": "stdout",
     "output_type": "stream",
     "text": [
      "0.5752403057121123\n"
     ]
    },
    {
     "name": "stderr",
     "output_type": "stream",
     "text": [
      "\u001b[32m[I 2022-04-28 15:33:42,261]\u001b[0m Trial 116 finished with value: 0.4257366289841591 and parameters: {'min_data_in_leaf': 37, 'min_data_in_bin': 77, 'min_gain_to_split': 0.66, 'max_depth': 8, 'n_estimators': 430, 'boosting_type': 'dart', 'lambda_l1': 0.046091838843295235, 'lambda_l2': 7.79462034593505, 'num_leaves': 166, 'feature_fraction': 0.5987152016607211, 'bagging_fraction': 0.9934639000659076, 'bagging_freq': 1, 'min_child_samples': 24, 'max_bin': 174}. Best is trial 115 with value: 0.42475969428788773.\u001b[0m\n"
     ]
    },
    {
     "name": "stdout",
     "output_type": "stream",
     "text": [
      "0.5742633710158409\n"
     ]
    },
    {
     "name": "stderr",
     "output_type": "stream",
     "text": [
      "\u001b[32m[I 2022-04-28 15:33:43,738]\u001b[0m Trial 117 finished with value: 0.4369682667342847 and parameters: {'min_data_in_leaf': 34, 'min_data_in_bin': 75, 'min_gain_to_split': 0.5, 'max_depth': 8, 'n_estimators': 449, 'boosting_type': 'dart', 'lambda_l1': 0.0446343344353205, 'lambda_l2': 7.392977512545548, 'num_leaves': 168, 'feature_fraction': 0.5645778332411385, 'bagging_fraction': 0.9976886729118623, 'bagging_freq': 1, 'min_child_samples': 22, 'max_bin': 176}. Best is trial 115 with value: 0.42475969428788773.\u001b[0m\n"
     ]
    },
    {
     "name": "stdout",
     "output_type": "stream",
     "text": [
      "0.5630317332657153\n"
     ]
    },
    {
     "name": "stderr",
     "output_type": "stream",
     "text": [
      "\u001b[32m[I 2022-04-28 15:33:45,249]\u001b[0m Trial 118 finished with value: 0.4233238491849285 and parameters: {'min_data_in_leaf': 41, 'min_data_in_bin': 69, 'min_gain_to_split': 0.62, 'max_depth': 9, 'n_estimators': 435, 'boosting_type': 'dart', 'lambda_l1': 0.0007407066340911535, 'lambda_l2': 7.789528530420854, 'num_leaves': 182, 'feature_fraction': 0.6130833564839158, 'bagging_fraction': 0.9593063441115661, 'bagging_freq': 1, 'min_child_samples': 25, 'max_bin': 172}. Best is trial 118 with value: 0.4233238491849285.\u001b[0m\n"
     ]
    },
    {
     "name": "stdout",
     "output_type": "stream",
     "text": [
      "0.5766761508150715\n"
     ]
    },
    {
     "name": "stderr",
     "output_type": "stream",
     "text": [
      "\u001b[32m[I 2022-04-28 15:33:46,639]\u001b[0m Trial 119 finished with value: 0.42660466968562316 and parameters: {'min_data_in_leaf': 41, 'min_data_in_bin': 68, 'min_gain_to_split': 0.89, 'max_depth': 9, 'n_estimators': 429, 'boosting_type': 'dart', 'lambda_l1': 0.3086299168348361, 'lambda_l2': 7.675261984153075, 'num_leaves': 180, 'feature_fraction': 0.62017211196348, 'bagging_fraction': 0.9615787130435804, 'bagging_freq': 1, 'min_child_samples': 24, 'max_bin': 169}. Best is trial 118 with value: 0.4233238491849285.\u001b[0m\n"
     ]
    },
    {
     "name": "stdout",
     "output_type": "stream",
     "text": [
      "0.5733953303143768\n"
     ]
    },
    {
     "name": "stderr",
     "output_type": "stream",
     "text": [
      "\u001b[32m[I 2022-04-28 15:33:48,032]\u001b[0m Trial 120 finished with value: 0.4270962482907532 and parameters: {'min_data_in_leaf': 45, 'min_data_in_bin': 69, 'min_gain_to_split': 0.82, 'max_depth': 9, 'n_estimators': 433, 'boosting_type': 'dart', 'lambda_l1': 0.3684383310495415, 'lambda_l2': 7.6799896110408055, 'num_leaves': 178, 'feature_fraction': 0.5996776428689646, 'bagging_fraction': 0.9756577250917192, 'bagging_freq': 1, 'min_child_samples': 24, 'max_bin': 173}. Best is trial 118 with value: 0.4233238491849285.\u001b[0m\n"
     ]
    },
    {
     "name": "stdout",
     "output_type": "stream",
     "text": [
      "0.5729037517092468\n"
     ]
    },
    {
     "name": "stderr",
     "output_type": "stream",
     "text": [
      "\u001b[32m[I 2022-04-28 15:33:49,384]\u001b[0m Trial 121 finished with value: 0.42758782689588326 and parameters: {'min_data_in_leaf': 46, 'min_data_in_bin': 69, 'min_gain_to_split': 1.07, 'max_depth': 9, 'n_estimators': 429, 'boosting_type': 'dart', 'lambda_l1': 0.3593700348919705, 'lambda_l2': 7.619907050458825, 'num_leaves': 182, 'feature_fraction': 0.606485932573709, 'bagging_fraction': 0.9583934290585572, 'bagging_freq': 1, 'min_child_samples': 24, 'max_bin': 168}. Best is trial 118 with value: 0.4233238491849285.\u001b[0m\n"
     ]
    },
    {
     "name": "stdout",
     "output_type": "stream",
     "text": [
      "0.5724121731041167\n"
     ]
    },
    {
     "name": "stderr",
     "output_type": "stream",
     "text": [
      "\u001b[32m[I 2022-04-28 15:33:50,768]\u001b[0m Trial 122 finished with value: 0.42879343898125 and parameters: {'min_data_in_leaf': 48, 'min_data_in_bin': 71, 'min_gain_to_split': 0.94, 'max_depth': 9, 'n_estimators': 432, 'boosting_type': 'dart', 'lambda_l1': 0.28714229955599924, 'lambda_l2': 7.823676408116357, 'num_leaves': 179, 'feature_fraction': 0.599108475602059, 'bagging_fraction': 0.9601108600392627, 'bagging_freq': 1, 'min_child_samples': 24, 'max_bin': 173}. Best is trial 118 with value: 0.4233238491849285.\u001b[0m\n"
     ]
    },
    {
     "name": "stdout",
     "output_type": "stream",
     "text": [
      "0.57120656101875\n"
     ]
    },
    {
     "name": "stderr",
     "output_type": "stream",
     "text": [
      "\u001b[32m[I 2022-04-28 15:33:51,989]\u001b[0m Trial 123 finished with value: 0.43153290076490247 and parameters: {'min_data_in_leaf': 37, 'min_data_in_bin': 67, 'min_gain_to_split': 1.08, 'max_depth': 9, 'n_estimators': 407, 'boosting_type': 'dart', 'lambda_l1': 0.3971294611019059, 'lambda_l2': 7.633932284892115, 'num_leaves': 182, 'feature_fraction': 0.6135638448659348, 'bagging_fraction': 0.9770731457295776, 'bagging_freq': 1, 'min_child_samples': 27, 'max_bin': 170}. Best is trial 118 with value: 0.4233238491849285.\u001b[0m\n"
     ]
    },
    {
     "name": "stdout",
     "output_type": "stream",
     "text": [
      "0.5684670992350975\n"
     ]
    },
    {
     "name": "stderr",
     "output_type": "stream",
     "text": [
      "\u001b[32m[I 2022-04-28 15:33:53,397]\u001b[0m Trial 124 finished with value: 0.42672600870840816 and parameters: {'min_data_in_leaf': 45, 'min_data_in_bin': 78, 'min_gain_to_split': 0.77, 'max_depth': 8, 'n_estimators': 427, 'boosting_type': 'dart', 'lambda_l1': 0.16525341135386837, 'lambda_l2': 7.070069636920717, 'num_leaves': 175, 'feature_fraction': 0.6154107824985441, 'bagging_fraction': 0.9648386695206457, 'bagging_freq': 1, 'min_child_samples': 35, 'max_bin': 162}. Best is trial 118 with value: 0.4233238491849285.\u001b[0m\n"
     ]
    },
    {
     "name": "stdout",
     "output_type": "stream",
     "text": [
      "0.5732739912915918\n"
     ]
    },
    {
     "name": "stderr",
     "output_type": "stream",
     "text": [
      "\u001b[32m[I 2022-04-28 15:33:54,483]\u001b[0m Trial 125 finished with value: 0.4310957691571762 and parameters: {'min_data_in_leaf': 41, 'min_data_in_bin': 80, 'min_gain_to_split': 1.26, 'max_depth': 8, 'n_estimators': 381, 'boosting_type': 'dart', 'lambda_l1': 0.15262890507519752, 'lambda_l2': 7.564430272519594, 'num_leaves': 176, 'feature_fraction': 0.6173213797237913, 'bagging_fraction': 0.9630533713385478, 'bagging_freq': 1, 'min_child_samples': 25, 'max_bin': 161}. Best is trial 118 with value: 0.4233238491849285.\u001b[0m\n"
     ]
    },
    {
     "name": "stdout",
     "output_type": "stream",
     "text": [
      "0.5689042308428238\n"
     ]
    },
    {
     "name": "stderr",
     "output_type": "stream",
     "text": [
      "\u001b[32m[I 2022-04-28 15:33:55,924]\u001b[0m Trial 126 finished with value: 0.4286689887014701 and parameters: {'min_data_in_leaf': 53, 'min_data_in_bin': 86, 'min_gain_to_split': 0.79, 'max_depth': 8, 'n_estimators': 429, 'boosting_type': 'dart', 'lambda_l1': 0.08117481335321101, 'lambda_l2': 7.106323117541706, 'num_leaves': 191, 'feature_fraction': 0.5848261383004936, 'bagging_fraction': 0.9996696267481268, 'bagging_freq': 1, 'min_child_samples': 33, 'max_bin': 175}. Best is trial 118 with value: 0.4233238491849285.\u001b[0m\n"
     ]
    },
    {
     "name": "stdout",
     "output_type": "stream",
     "text": [
      "0.5713310112985299\n"
     ]
    },
    {
     "name": "stderr",
     "output_type": "stream",
     "text": [
      "\u001b[32m[I 2022-04-28 15:33:57,134]\u001b[0m Trial 127 finished with value: 0.4454837771282165 and parameters: {'min_data_in_leaf': 45, 'min_data_in_bin': 92, 'min_gain_to_split': 1.4400000000000002, 'max_depth': 9, 'n_estimators': 441, 'boosting_type': 'dart', 'lambda_l1': 0.39982243516559063, 'lambda_l2': 6.890336307691442, 'num_leaves': 171, 'feature_fraction': 0.5457953354429823, 'bagging_fraction': 0.9489288229095313, 'bagging_freq': 1, 'min_child_samples': 31, 'max_bin': 181}. Best is trial 118 with value: 0.4233238491849285.\u001b[0m\n"
     ]
    },
    {
     "name": "stdout",
     "output_type": "stream",
     "text": [
      "0.5545162228717835\n"
     ]
    },
    {
     "name": "stderr",
     "output_type": "stream",
     "text": [
      "\u001b[32m[I 2022-04-28 15:33:58,276]\u001b[0m Trial 128 finished with value: 0.4370398256451582 and parameters: {'min_data_in_leaf': 48, 'min_data_in_bin': 65, 'min_gain_to_split': 0.88, 'max_depth': 9, 'n_estimators': 401, 'boosting_type': 'dart', 'lambda_l1': 0.010904180550111303, 'lambda_l2': 7.882533457112756, 'num_leaves': 182, 'feature_fraction': 0.5649793438213921, 'bagging_fraction': 0.9829244445604035, 'bagging_freq': 1, 'min_child_samples': 23, 'max_bin': 178}. Best is trial 118 with value: 0.4233238491849285.\u001b[0m\n"
     ]
    },
    {
     "name": "stdout",
     "output_type": "stream",
     "text": [
      "0.5629601743548418\n"
     ]
    },
    {
     "name": "stderr",
     "output_type": "stream",
     "text": [
      "\u001b[32m[I 2022-04-28 15:33:59,579]\u001b[0m Trial 129 finished with value: 0.43334987484968734 and parameters: {'min_data_in_leaf': 40, 'min_data_in_bin': 77, 'min_gain_to_split': 1.1500000000000001, 'max_depth': 8, 'n_estimators': 424, 'boosting_type': 'dart', 'lambda_l1': 0.6703986994808029, 'lambda_l2': 6.218417454172994, 'num_leaves': 176, 'feature_fraction': 0.6055948051594258, 'bagging_fraction': 0.9712092469584602, 'bagging_freq': 1, 'min_child_samples': 40, 'max_bin': 186}. Best is trial 118 with value: 0.4233238491849285.\u001b[0m\n"
     ]
    },
    {
     "name": "stdout",
     "output_type": "stream",
     "text": [
      "0.5666501251503127\n"
     ]
    },
    {
     "name": "stderr",
     "output_type": "stream",
     "text": [
      "\u001b[32m[I 2022-04-28 15:34:01,168]\u001b[0m Trial 130 finished with value: 0.42811829621344444 and parameters: {'min_data_in_leaf': 45, 'min_data_in_bin': 72, 'min_gain_to_split': 0.63, 'max_depth': 9, 'n_estimators': 451, 'boosting_type': 'dart', 'lambda_l1': 0.22720341320600748, 'lambda_l2': 7.540052610135836, 'num_leaves': 168, 'feature_fraction': 0.6319687177668282, 'bagging_fraction': 0.9447351201318371, 'bagging_freq': 1, 'min_child_samples': 29, 'max_bin': 164}. Best is trial 118 with value: 0.4233238491849285.\u001b[0m\n"
     ]
    },
    {
     "name": "stdout",
     "output_type": "stream",
     "text": [
      "0.5718817037865556\n"
     ]
    },
    {
     "name": "stderr",
     "output_type": "stream",
     "text": [
      "\u001b[32m[I 2022-04-28 15:34:02,567]\u001b[0m Trial 131 finished with value: 0.42894122368848864 and parameters: {'min_data_in_leaf': 36, 'min_data_in_bin': 60, 'min_gain_to_split': 0.99, 'max_depth': 8, 'n_estimators': 437, 'boosting_type': 'dart', 'lambda_l1': 0.4688871558459248, 'lambda_l2': 8.104188062118805, 'num_leaves': 185, 'feature_fraction': 0.5914998760103853, 'bagging_fraction': 0.9883747606721136, 'bagging_freq': 1, 'min_child_samples': 26, 'max_bin': 169}. Best is trial 118 with value: 0.4233238491849285.\u001b[0m\n"
     ]
    },
    {
     "name": "stdout",
     "output_type": "stream",
     "text": [
      "0.5710587763115114\n"
     ]
    },
    {
     "name": "stderr",
     "output_type": "stream",
     "text": [
      "\u001b[32m[I 2022-04-28 15:34:04,192]\u001b[0m Trial 132 finished with value: 0.42626554267322314 and parameters: {'min_data_in_leaf': 33, 'min_data_in_bin': 63, 'min_gain_to_split': 0.79, 'max_depth': 9, 'n_estimators': 461, 'boosting_type': 'dart', 'lambda_l1': 0.0350552559624428, 'lambda_l2': 7.749523980236212, 'num_leaves': 189, 'feature_fraction': 0.6104811136873148, 'bagging_fraction': 0.9610270446954945, 'bagging_freq': 1, 'min_child_samples': 24, 'max_bin': 164}. Best is trial 118 with value: 0.4233238491849285.\u001b[0m\n"
     ]
    },
    {
     "name": "stdout",
     "output_type": "stream",
     "text": [
      "0.5737344573267769\n"
     ]
    },
    {
     "name": "stderr",
     "output_type": "stream",
     "text": [
      "\u001b[32m[I 2022-04-28 15:34:05,373]\u001b[0m Trial 133 finished with value: 0.43622156505560583 and parameters: {'min_data_in_leaf': 33, 'min_data_in_bin': 77, 'min_gain_to_split': 0.79, 'max_depth': 9, 'n_estimators': 411, 'boosting_type': 'dart', 'lambda_l1': 0.21018045748608757, 'lambda_l2': 7.202994782075144, 'num_leaves': 192, 'feature_fraction': 0.5773984053949627, 'bagging_fraction': 0.9608884963598813, 'bagging_freq': 1, 'min_child_samples': 34, 'max_bin': 160}. Best is trial 118 with value: 0.4233238491849285.\u001b[0m\n"
     ]
    },
    {
     "name": "stdout",
     "output_type": "stream",
     "text": [
      "0.5637784349443942\n"
     ]
    },
    {
     "name": "stderr",
     "output_type": "stream",
     "text": [
      "\u001b[32m[I 2022-04-28 15:34:07,036]\u001b[0m Trial 134 finished with value: 0.42543794831268755 and parameters: {'min_data_in_leaf': 38, 'min_data_in_bin': 63, 'min_gain_to_split': 0.66, 'max_depth': 9, 'n_estimators': 465, 'boosting_type': 'dart', 'lambda_l1': 0.028099559686074138, 'lambda_l2': 7.715634284323144, 'num_leaves': 206, 'feature_fraction': 0.6111313885614338, 'bagging_fraction': 0.9401982135709873, 'bagging_freq': 1, 'min_child_samples': 27, 'max_bin': 182}. Best is trial 118 with value: 0.4233238491849285.\u001b[0m\n"
     ]
    },
    {
     "name": "stdout",
     "output_type": "stream",
     "text": [
      "0.5745620516873124\n"
     ]
    },
    {
     "name": "stderr",
     "output_type": "stream",
     "text": [
      "\u001b[32m[I 2022-04-28 15:34:08,720]\u001b[0m Trial 135 finished with value: 0.42600886397117743 and parameters: {'min_data_in_leaf': 38, 'min_data_in_bin': 62, 'min_gain_to_split': 0.66, 'max_depth': 9, 'n_estimators': 462, 'boosting_type': 'dart', 'lambda_l1': 0.05103160042217897, 'lambda_l2': 7.951331097509702, 'num_leaves': 210, 'feature_fraction': 0.6265587542262243, 'bagging_fraction': 0.9996673902067768, 'bagging_freq': 1, 'min_child_samples': 30, 'max_bin': 179}. Best is trial 118 with value: 0.4233238491849285.\u001b[0m\n"
     ]
    },
    {
     "name": "stdout",
     "output_type": "stream",
     "text": [
      "0.5739911360288226\n"
     ]
    },
    {
     "name": "stderr",
     "output_type": "stream",
     "text": [
      "\u001b[32m[I 2022-04-28 15:34:10,419]\u001b[0m Trial 136 finished with value: 0.4268971278431055 and parameters: {'min_data_in_leaf': 43, 'min_data_in_bin': 63, 'min_gain_to_split': 0.67, 'max_depth': 9, 'n_estimators': 466, 'boosting_type': 'dart', 'lambda_l1': 0.1074342045445032, 'lambda_l2': 7.8673128254625375, 'num_leaves': 238, 'feature_fraction': 0.6223215057031393, 'bagging_fraction': 0.9999193144379327, 'bagging_freq': 1, 'min_child_samples': 27, 'max_bin': 179}. Best is trial 118 with value: 0.4233238491849285.\u001b[0m\n"
     ]
    },
    {
     "name": "stdout",
     "output_type": "stream",
     "text": [
      "0.5731028721568945\n"
     ]
    },
    {
     "name": "stderr",
     "output_type": "stream",
     "text": [
      "\u001b[32m[I 2022-04-28 15:34:12,127]\u001b[0m Trial 137 finished with value: 0.4252979417479352 and parameters: {'min_data_in_leaf': 38, 'min_data_in_bin': 62, 'min_gain_to_split': 0.54, 'max_depth': 9, 'n_estimators': 464, 'boosting_type': 'dart', 'lambda_l1': 0.009773398766935063, 'lambda_l2': 8.01471027157158, 'num_leaves': 247, 'feature_fraction': 0.6245670498867116, 'bagging_fraction': 0.9381890651509022, 'bagging_freq': 1, 'min_child_samples': 35, 'max_bin': 197}. Best is trial 118 with value: 0.4233238491849285.\u001b[0m\n"
     ]
    },
    {
     "name": "stdout",
     "output_type": "stream",
     "text": [
      "0.5747020582520648\n"
     ]
    },
    {
     "name": "stderr",
     "output_type": "stream",
     "text": [
      "\u001b[32m[I 2022-04-28 15:34:13,836]\u001b[0m Trial 138 finished with value: 0.4265953359146395 and parameters: {'min_data_in_leaf': 39, 'min_data_in_bin': 54, 'min_gain_to_split': 0.56, 'max_depth': 8, 'n_estimators': 466, 'boosting_type': 'dart', 'lambda_l1': 0.021046926581057654, 'lambda_l2': 7.425190559126697, 'num_leaves': 251, 'feature_fraction': 0.6608351005328916, 'bagging_fraction': 0.9341869333013689, 'bagging_freq': 1, 'min_child_samples': 34, 'max_bin': 195}. Best is trial 118 with value: 0.4233238491849285.\u001b[0m\n"
     ]
    },
    {
     "name": "stdout",
     "output_type": "stream",
     "text": [
      "0.5734046640853605\n"
     ]
    },
    {
     "name": "stderr",
     "output_type": "stream",
     "text": [
      "\u001b[32m[I 2022-04-28 15:34:15,608]\u001b[0m Trial 139 finished with value: 0.42545661585465466 and parameters: {'min_data_in_leaf': 38, 'min_data_in_bin': 55, 'min_gain_to_split': 0.61, 'max_depth': 8, 'n_estimators': 474, 'boosting_type': 'dart', 'lambda_l1': 0.014276051843997717, 'lambda_l2': 8.035207857161751, 'num_leaves': 252, 'feature_fraction': 0.6591780997314947, 'bagging_fraction': 0.942514811690306, 'bagging_freq': 1, 'min_child_samples': 39, 'max_bin': 196}. Best is trial 118 with value: 0.4233238491849285.\u001b[0m\n"
     ]
    },
    {
     "name": "stdout",
     "output_type": "stream",
     "text": [
      "0.5745433841453453\n"
     ]
    },
    {
     "name": "stderr",
     "output_type": "stream",
     "text": [
      "\u001b[32m[I 2022-04-28 15:34:17,305]\u001b[0m Trial 140 finished with value: 0.42596375074475734 and parameters: {'min_data_in_leaf': 37, 'min_data_in_bin': 54, 'min_gain_to_split': 0.53, 'max_depth': 8, 'n_estimators': 467, 'boosting_type': 'dart', 'lambda_l1': 0.08383745936328003, 'lambda_l2': 7.434763509021418, 'num_leaves': 248, 'feature_fraction': 0.6402252808686413, 'bagging_fraction': 0.9370373724501468, 'bagging_freq': 1, 'min_child_samples': 40, 'max_bin': 196}. Best is trial 118 with value: 0.4233238491849285.\u001b[0m\n"
     ]
    },
    {
     "name": "stdout",
     "output_type": "stream",
     "text": [
      "0.5740362492552427\n"
     ]
    },
    {
     "name": "stderr",
     "output_type": "stream",
     "text": [
      "\u001b[32m[I 2022-04-28 15:34:19,012]\u001b[0m Trial 141 finished with value: 0.42533994371736106 and parameters: {'min_data_in_leaf': 38, 'min_data_in_bin': 55, 'min_gain_to_split': 0.5700000000000001, 'max_depth': 8, 'n_estimators': 464, 'boosting_type': 'dart', 'lambda_l1': 0.09036638167372193, 'lambda_l2': 7.402539524169839, 'num_leaves': 252, 'feature_fraction': 0.644652410395695, 'bagging_fraction': 0.9411570878315234, 'bagging_freq': 1, 'min_child_samples': 38, 'max_bin': 198}. Best is trial 118 with value: 0.4233238491849285.\u001b[0m\n"
     ]
    },
    {
     "name": "stdout",
     "output_type": "stream",
     "text": [
      "0.5746600562826389\n"
     ]
    },
    {
     "name": "stderr",
     "output_type": "stream",
     "text": [
      "\u001b[32m[I 2022-04-28 15:34:20,727]\u001b[0m Trial 142 finished with value: 0.4255561760784783 and parameters: {'min_data_in_leaf': 37, 'min_data_in_bin': 56, 'min_gain_to_split': 0.55, 'max_depth': 8, 'n_estimators': 468, 'boosting_type': 'dart', 'lambda_l1': 0.01894598750563682, 'lambda_l2': 6.84406925349565, 'num_leaves': 251, 'feature_fraction': 0.66117675665402, 'bagging_fraction': 0.9374373137659261, 'bagging_freq': 1, 'min_child_samples': 38, 'max_bin': 195}. Best is trial 118 with value: 0.4233238491849285.\u001b[0m\n"
     ]
    },
    {
     "name": "stdout",
     "output_type": "stream",
     "text": [
      "0.5744438239215217\n"
     ]
    },
    {
     "name": "stderr",
     "output_type": "stream",
     "text": [
      "\u001b[32m[I 2022-04-28 15:34:22,446]\u001b[0m Trial 143 finished with value: 0.4268473477311936 and parameters: {'min_data_in_leaf': 30, 'min_data_in_bin': 57, 'min_gain_to_split': 0.53, 'max_depth': 8, 'n_estimators': 474, 'boosting_type': 'dart', 'lambda_l1': 0.0059923134376238165, 'lambda_l2': 8.017038430348675, 'num_leaves': 245, 'feature_fraction': 0.6435296097459751, 'bagging_fraction': 0.940376620156071, 'bagging_freq': 1, 'min_child_samples': 38, 'max_bin': 210}. Best is trial 118 with value: 0.4233238491849285.\u001b[0m\n"
     ]
    },
    {
     "name": "stdout",
     "output_type": "stream",
     "text": [
      "0.5731526522688064\n"
     ]
    },
    {
     "name": "stderr",
     "output_type": "stream",
     "text": [
      "\u001b[32m[I 2022-04-28 15:34:24,130]\u001b[0m Trial 144 finished with value: 0.42601353085666904 and parameters: {'min_data_in_leaf': 37, 'min_data_in_bin': 53, 'min_gain_to_split': 0.45000000000000007, 'max_depth': 8, 'n_estimators': 462, 'boosting_type': 'dart', 'lambda_l1': 0.014894629348982433, 'lambda_l2': 8.29672676531504, 'num_leaves': 251, 'feature_fraction': 0.6680052867103963, 'bagging_fraction': 0.9203600335092593, 'bagging_freq': 1, 'min_child_samples': 38, 'max_bin': 198}. Best is trial 118 with value: 0.4233238491849285.\u001b[0m\n"
     ]
    },
    {
     "name": "stdout",
     "output_type": "stream",
     "text": [
      "0.573986469143331\n"
     ]
    },
    {
     "name": "stderr",
     "output_type": "stream",
     "text": [
      "\u001b[32m[I 2022-04-28 15:34:25,801]\u001b[0m Trial 145 finished with value: 0.426761788163845 and parameters: {'min_data_in_leaf': 37, 'min_data_in_bin': 63, 'min_gain_to_split': 0.45000000000000007, 'max_depth': 8, 'n_estimators': 461, 'boosting_type': 'dart', 'lambda_l1': 0.7860840218988729, 'lambda_l2': 6.737296693639598, 'num_leaves': 253, 'feature_fraction': 0.664471502801245, 'bagging_fraction': 0.9220396364840816, 'bagging_freq': 1, 'min_child_samples': 46, 'max_bin': 200}. Best is trial 118 with value: 0.4233238491849285.\u001b[0m\n"
     ]
    },
    {
     "name": "stdout",
     "output_type": "stream",
     "text": [
      "0.573238211836155\n"
     ]
    },
    {
     "name": "stderr",
     "output_type": "stream",
     "text": [
      "\u001b[32m[I 2022-04-28 15:34:27,543]\u001b[0m Trial 146 finished with value: 0.4272611449114616 and parameters: {'min_data_in_leaf': 38, 'min_data_in_bin': 59, 'min_gain_to_split': 0.61, 'max_depth': 8, 'n_estimators': 478, 'boosting_type': 'dart', 'lambda_l1': 0.04479365717240093, 'lambda_l2': 8.262922128065808, 'num_leaves': 244, 'feature_fraction': 0.6347324292515782, 'bagging_fraction': 0.9428058544964859, 'bagging_freq': 1, 'min_child_samples': 39, 'max_bin': 199}. Best is trial 118 with value: 0.4233238491849285.\u001b[0m\n"
     ]
    },
    {
     "name": "stdout",
     "output_type": "stream",
     "text": [
      "0.5727388550885384\n"
     ]
    },
    {
     "name": "stderr",
     "output_type": "stream",
     "text": [
      "\u001b[32m[I 2022-04-28 15:34:29,281]\u001b[0m Trial 147 finished with value: 0.4258844136913975 and parameters: {'min_data_in_leaf': 36, 'min_data_in_bin': 52, 'min_gain_to_split': 0.48, 'max_depth': 8, 'n_estimators': 466, 'boosting_type': 'dart', 'lambda_l1': 0.011590765940408393, 'lambda_l2': 8.447349713680454, 'num_leaves': 256, 'feature_fraction': 0.6470571525653208, 'bagging_fraction': 0.9242121058905162, 'bagging_freq': 1, 'min_child_samples': 43, 'max_bin': 206}. Best is trial 118 with value: 0.4233238491849285.\u001b[0m\n"
     ]
    },
    {
     "name": "stdout",
     "output_type": "stream",
     "text": [
      "0.5741155863086025\n"
     ]
    },
    {
     "name": "stderr",
     "output_type": "stream",
     "text": [
      "\u001b[32m[I 2022-04-28 15:34:30,922]\u001b[0m Trial 148 finished with value: 0.42573040647017013 and parameters: {'min_data_in_leaf': 36, 'min_data_in_bin': 50, 'min_gain_to_split': 0.43000000000000005, 'max_depth': 8, 'n_estimators': 451, 'boosting_type': 'dart', 'lambda_l1': 0.594255072367626, 'lambda_l2': 8.459338577411572, 'num_leaves': 256, 'feature_fraction': 0.6492536966889475, 'bagging_fraction': 0.9157966113625905, 'bagging_freq': 1, 'min_child_samples': 44, 'max_bin': 208}. Best is trial 118 with value: 0.4233238491849285.\u001b[0m\n"
     ]
    },
    {
     "name": "stdout",
     "output_type": "stream",
     "text": [
      "0.5742695935298299\n"
     ]
    },
    {
     "name": "stderr",
     "output_type": "stream",
     "text": [
      "\u001b[32m[I 2022-04-28 15:34:32,467]\u001b[0m Trial 149 finished with value: 0.4271942528860797 and parameters: {'min_data_in_leaf': 39, 'min_data_in_bin': 48, 'min_gain_to_split': 0.49, 'max_depth': 8, 'n_estimators': 448, 'boosting_type': 'dart', 'lambda_l1': 0.6489450580548118, 'lambda_l2': 8.450285956485436, 'num_leaves': 254, 'feature_fraction': 0.6516228171670203, 'bagging_fraction': 0.9145174839964803, 'bagging_freq': 1, 'min_child_samples': 42, 'max_bin': 209}. Best is trial 118 with value: 0.4233238491849285.\u001b[0m\n"
     ]
    },
    {
     "name": "stdout",
     "output_type": "stream",
     "text": [
      "0.5728057471139203\n"
     ]
    },
    {
     "name": "stderr",
     "output_type": "stream",
     "text": [
      "\u001b[32m[I 2022-04-28 15:34:33,761]\u001b[0m Trial 150 finished with value: 0.4410984603944761 and parameters: {'min_data_in_leaf': 31, 'min_data_in_bin': 56, 'min_gain_to_split': 0.61, 'max_depth': 8, 'n_estimators': 469, 'boosting_type': 'dart', 'lambda_l1': 7.786816826087131, 'lambda_l2': 8.263853357550213, 'num_leaves': 250, 'feature_fraction': 0.6710880433789242, 'bagging_fraction': 0.9308087905846125, 'bagging_freq': 1, 'min_child_samples': 41, 'max_bin': 203}. Best is trial 118 with value: 0.4233238491849285.\u001b[0m\n"
     ]
    },
    {
     "name": "stdout",
     "output_type": "stream",
     "text": [
      "0.5589015396055239\n"
     ]
    },
    {
     "name": "stderr",
     "output_type": "stream",
     "text": [
      "\u001b[32m[I 2022-04-28 15:34:35,552]\u001b[0m Trial 151 finished with value: 0.42652222137526885 and parameters: {'min_data_in_leaf': 36, 'min_data_in_bin': 50, 'min_gain_to_split': 0.45000000000000007, 'max_depth': 8, 'n_estimators': 480, 'boosting_type': 'dart', 'lambda_l1': 0.028828118943276422, 'lambda_l2': 7.92919754613277, 'num_leaves': 243, 'feature_fraction': 0.6504077518581729, 'bagging_fraction': 0.919917558803791, 'bagging_freq': 1, 'min_child_samples': 43, 'max_bin': 207}. Best is trial 118 with value: 0.4233238491849285.\u001b[0m\n"
     ]
    },
    {
     "name": "stdout",
     "output_type": "stream",
     "text": [
      "0.5734777786247311\n"
     ]
    },
    {
     "name": "stderr",
     "output_type": "stream",
     "text": [
      "\u001b[32m[I 2022-04-28 15:34:37,323]\u001b[0m Trial 152 finished with value: 0.4236738655968091 and parameters: {'min_data_in_leaf': 36, 'min_data_in_bin': 43, 'min_gain_to_split': 0.41000000000000003, 'max_depth': 8, 'n_estimators': 458, 'boosting_type': 'dart', 'lambda_l1': 0.0005961370194625983, 'lambda_l2': 7.328095496727585, 'num_leaves': 255, 'feature_fraction': 0.6391016808513403, 'bagging_fraction': 0.9420758060221351, 'bagging_freq': 1, 'min_child_samples': 37, 'max_bin': 199}. Best is trial 118 with value: 0.4233238491849285.\u001b[0m\n"
     ]
    },
    {
     "name": "stdout",
     "output_type": "stream",
     "text": [
      "0.5763261344031909\n"
     ]
    },
    {
     "name": "stderr",
     "output_type": "stream",
     "text": [
      "\u001b[32m[I 2022-04-28 15:34:38,956]\u001b[0m Trial 153 finished with value: 0.4259855295437187 and parameters: {'min_data_in_leaf': 41, 'min_data_in_bin': 42, 'min_gain_to_split': 0.56, 'max_depth': 8, 'n_estimators': 454, 'boosting_type': 'dart', 'lambda_l1': 0.49265726969498086, 'lambda_l2': 7.332193375589611, 'num_leaves': 255, 'feature_fraction': 0.6353224013474342, 'bagging_fraction': 0.9401925049953095, 'bagging_freq': 1, 'min_child_samples': 45, 'max_bin': 197}. Best is trial 118 with value: 0.4233238491849285.\u001b[0m\n"
     ]
    },
    {
     "name": "stdout",
     "output_type": "stream",
     "text": [
      "0.5740144704562813\n"
     ]
    },
    {
     "name": "stderr",
     "output_type": "stream",
     "text": [
      "\u001b[32m[I 2022-04-28 15:34:40,525]\u001b[0m Trial 154 finished with value: 0.42593108254631495 and parameters: {'min_data_in_leaf': 41, 'min_data_in_bin': 42, 'min_gain_to_split': 0.65, 'max_depth': 8, 'n_estimators': 445, 'boosting_type': 'dart', 'lambda_l1': 0.5385939421994572, 'lambda_l2': 7.4699378317692045, 'num_leaves': 255, 'feature_fraction': 0.6377784625196934, 'bagging_fraction': 0.939070021944036, 'bagging_freq': 1, 'min_child_samples': 45, 'max_bin': 190}. Best is trial 118 with value: 0.4233238491849285.\u001b[0m\n"
     ]
    },
    {
     "name": "stdout",
     "output_type": "stream",
     "text": [
      "0.574068917453685\n"
     ]
    },
    {
     "name": "stderr",
     "output_type": "stream",
     "text": [
      "\u001b[32m[I 2022-04-28 15:34:42,093]\u001b[0m Trial 155 finished with value: 0.42677423319182317 and parameters: {'min_data_in_leaf': 42, 'min_data_in_bin': 39, 'min_gain_to_split': 0.62, 'max_depth': 8, 'n_estimators': 449, 'boosting_type': 'dart', 'lambda_l1': 0.5212577189371209, 'lambda_l2': 7.272609757652238, 'num_leaves': 246, 'feature_fraction': 0.6381844319234601, 'bagging_fraction': 0.9429429610629431, 'bagging_freq': 1, 'min_child_samples': 46, 'max_bin': 189}. Best is trial 118 with value: 0.4233238491849285.\u001b[0m\n"
     ]
    },
    {
     "name": "stdout",
     "output_type": "stream",
     "text": [
      "0.5732257668081768\n"
     ]
    },
    {
     "name": "stderr",
     "output_type": "stream",
     "text": [
      "\u001b[32m[I 2022-04-28 15:34:43,709]\u001b[0m Trial 156 finished with value: 0.42790206385232743 and parameters: {'min_data_in_leaf': 40, 'min_data_in_bin': 34, 'min_gain_to_split': 0.55, 'max_depth': 8, 'n_estimators': 453, 'boosting_type': 'dart', 'lambda_l1': 0.8756137445247252, 'lambda_l2': 6.405711441556612, 'num_leaves': 256, 'feature_fraction': 0.6565296116074112, 'bagging_fraction': 0.9321255871557382, 'bagging_freq': 1, 'min_child_samples': 48, 'max_bin': 213}. Best is trial 118 with value: 0.4233238491849285.\u001b[0m\n"
     ]
    },
    {
     "name": "stdout",
     "output_type": "stream",
     "text": [
      "0.5720979361476726\n"
     ]
    },
    {
     "name": "stderr",
     "output_type": "stream",
     "text": [
      "\u001b[32m[I 2022-04-28 15:34:45,417]\u001b[0m Trial 157 finished with value: 0.4272082535425552 and parameters: {'min_data_in_leaf': 41, 'min_data_in_bin': 40, 'min_gain_to_split': 0.53, 'max_depth': 8, 'n_estimators': 481, 'boosting_type': 'dart', 'lambda_l1': 0.7159601467648189, 'lambda_l2': 6.953477691036105, 'num_leaves': 256, 'feature_fraction': 0.6333277498605955, 'bagging_fraction': 0.9424610398912426, 'bagging_freq': 1, 'min_child_samples': 45, 'max_bin': 197}. Best is trial 118 with value: 0.4233238491849285.\u001b[0m\n"
     ]
    },
    {
     "name": "stdout",
     "output_type": "stream",
     "text": [
      "0.5727917464574448\n"
     ]
    },
    {
     "name": "stderr",
     "output_type": "stream",
     "text": [
      "\u001b[32m[I 2022-04-28 15:34:46,866]\u001b[0m Trial 158 finished with value: 0.43359877540924674 and parameters: {'min_data_in_leaf': 29, 'min_data_in_bin': 43, 'min_gain_to_split': 0.7, 'max_depth': 8, 'n_estimators': 472, 'boosting_type': 'dart', 'lambda_l1': 0.26790743622896684, 'lambda_l2': 7.367840220120323, 'num_leaves': 238, 'feature_fraction': 0.6488280495416646, 'bagging_fraction': 0.5141258001822424, 'bagging_freq': 1, 'min_child_samples': 36, 'max_bin': 191}. Best is trial 118 with value: 0.4233238491849285.\u001b[0m\n"
     ]
    },
    {
     "name": "stdout",
     "output_type": "stream",
     "text": [
      "0.5664012245907533\n"
     ]
    },
    {
     "name": "stderr",
     "output_type": "stream",
     "text": [
      "\u001b[32m[I 2022-04-28 15:34:48,456]\u001b[0m Trial 159 finished with value: 0.42562929061784893 and parameters: {'min_data_in_leaf': 32, 'min_data_in_bin': 48, 'min_gain_to_split': 0.39, 'max_depth': 8, 'n_estimators': 443, 'boosting_type': 'dart', 'lambda_l1': 0.5184278957986683, 'lambda_l2': 7.515538070584531, 'num_leaves': 228, 'feature_fraction': 0.597973868924997, 'bagging_fraction': 0.9084018099160587, 'bagging_freq': 1, 'min_child_samples': 48, 'max_bin': 206}. Best is trial 118 with value: 0.4233238491849285.\u001b[0m\n"
     ]
    },
    {
     "name": "stdout",
     "output_type": "stream",
     "text": [
      "0.5743707093821511\n"
     ]
    },
    {
     "name": "stderr",
     "output_type": "stream",
     "text": [
      "\u001b[32m[I 2022-04-28 15:34:49,916]\u001b[0m Trial 160 finished with value: 0.4383154410129009 and parameters: {'min_data_in_leaf': 31, 'min_data_in_bin': 58, 'min_gain_to_split': 0.4, 'max_depth': 8, 'n_estimators': 448, 'boosting_type': 'dart', 'lambda_l1': 0.26503793220589156, 'lambda_l2': 6.789642222007686, 'num_leaves': 232, 'feature_fraction': 0.5775904115077225, 'bagging_fraction': 0.9266002119976617, 'bagging_freq': 1, 'min_child_samples': 49, 'max_bin': 205}. Best is trial 118 with value: 0.4233238491849285.\u001b[0m\n"
     ]
    },
    {
     "name": "stdout",
     "output_type": "stream",
     "text": [
      "0.5616845589870991\n"
     ]
    },
    {
     "name": "stderr",
     "output_type": "stream",
     "text": [
      "\u001b[32m[I 2022-04-28 15:34:51,451]\u001b[0m Trial 161 finished with value: 0.42594663883128736 and parameters: {'min_data_in_leaf': 35, 'min_data_in_bin': 43, 'min_gain_to_split': 0.53, 'max_depth': 8, 'n_estimators': 445, 'boosting_type': 'dart', 'lambda_l1': 0.512688193221049, 'lambda_l2': 7.43596719529835, 'num_leaves': 227, 'feature_fraction': 0.5969733692167427, 'bagging_fraction': 0.9102950781616171, 'bagging_freq': 1, 'min_child_samples': 40, 'max_bin': 196}. Best is trial 118 with value: 0.4233238491849285.\u001b[0m\n"
     ]
    },
    {
     "name": "stdout",
     "output_type": "stream",
     "text": [
      "0.5740533611687126\n"
     ]
    },
    {
     "name": "stderr",
     "output_type": "stream",
     "text": [
      "\u001b[32m[I 2022-04-28 15:34:52,880]\u001b[0m Trial 162 finished with value: 0.4261504261644269 and parameters: {'min_data_in_leaf': 35, 'min_data_in_bin': 45, 'min_gain_to_split': 0.41000000000000003, 'max_depth': 7, 'n_estimators': 441, 'boosting_type': 'dart', 'lambda_l1': 0.5270708473879105, 'lambda_l2': 7.51319942138612, 'num_leaves': 227, 'feature_fraction': 0.5949464260588547, 'bagging_fraction': 0.9048222653944022, 'bagging_freq': 1, 'min_child_samples': 54, 'max_bin': 202}. Best is trial 118 with value: 0.4233238491849285.\u001b[0m\n"
     ]
    },
    {
     "name": "stdout",
     "output_type": "stream",
     "text": [
      "0.5738495738355731\n"
     ]
    },
    {
     "name": "stderr",
     "output_type": "stream",
     "text": [
      "\u001b[32m[I 2022-04-28 15:34:54,442]\u001b[0m Trial 163 finished with value: 0.4289101111185436 and parameters: {'min_data_in_leaf': 32, 'min_data_in_bin': 52, 'min_gain_to_split': 0.66, 'max_depth': 8, 'n_estimators': 469, 'boosting_type': 'dart', 'lambda_l1': 0.7679998071148688, 'lambda_l2': 7.128833824614559, 'num_leaves': 241, 'feature_fraction': 0.6049047705457026, 'bagging_fraction': 0.9282428306836573, 'bagging_freq': 1, 'min_child_samples': 41, 'max_bin': 193}. Best is trial 118 with value: 0.4233238491849285.\u001b[0m\n"
     ]
    },
    {
     "name": "stdout",
     "output_type": "stream",
     "text": [
      "0.5710898888814564\n"
     ]
    },
    {
     "name": "stderr",
     "output_type": "stream",
     "text": [
      "\u001b[32m[I 2022-04-28 15:34:56,007]\u001b[0m Trial 164 finished with value: 0.4249463697075573 and parameters: {'min_data_in_leaf': 36, 'min_data_in_bin': 48, 'min_gain_to_split': 0.48, 'max_depth': 8, 'n_estimators': 443, 'boosting_type': 'dart', 'lambda_l1': 0.21715564256078104, 'lambda_l2': 8.491460551544188, 'num_leaves': 247, 'feature_fraction': 0.612809624277333, 'bagging_fraction': 0.9106507241411452, 'bagging_freq': 1, 'min_child_samples': 37, 'max_bin': 211}. Best is trial 118 with value: 0.4233238491849285.\u001b[0m\n"
     ]
    },
    {
     "name": "stdout",
     "output_type": "stream",
     "text": [
      "0.5750536302924427\n"
     ]
    },
    {
     "name": "stderr",
     "output_type": "stream",
     "text": [
      "\u001b[32m[I 2022-04-28 15:34:57,581]\u001b[0m Trial 165 finished with value: 0.42588596931989486 and parameters: {'min_data_in_leaf': 35, 'min_data_in_bin': 32, 'min_gain_to_split': 0.39, 'max_depth': 7, 'n_estimators': 442, 'boosting_type': 'dart', 'lambda_l1': 0.41814745090198757, 'lambda_l2': 8.561729285006196, 'num_leaves': 221, 'feature_fraction': 0.6146690110683759, 'bagging_fraction': 0.9135499089597683, 'bagging_freq': 1, 'min_child_samples': 43, 'max_bin': 209}. Best is trial 118 with value: 0.4233238491849285.\u001b[0m\n"
     ]
    },
    {
     "name": "stdout",
     "output_type": "stream",
     "text": [
      "0.5741140306801051\n"
     ]
    },
    {
     "name": "stderr",
     "output_type": "stream",
     "text": [
      "\u001b[32m[I 2022-04-28 15:34:59,235]\u001b[0m Trial 166 finished with value: 0.4256324018748432 and parameters: {'min_data_in_leaf': 33, 'min_data_in_bin': 32, 'min_gain_to_split': 0.36, 'max_depth': 7, 'n_estimators': 458, 'boosting_type': 'dart', 'lambda_l1': 0.2561989953078787, 'lambda_l2': 8.542036763639752, 'num_leaves': 219, 'feature_fraction': 0.6191678177554618, 'bagging_fraction': 0.9102123382832734, 'bagging_freq': 1, 'min_child_samples': 44, 'max_bin': 212}. Best is trial 118 with value: 0.4233238491849285.\u001b[0m\n"
     ]
    },
    {
     "name": "stdout",
     "output_type": "stream",
     "text": [
      "0.5743675981251568\n"
     ]
    },
    {
     "name": "stderr",
     "output_type": "stream",
     "text": [
      "\u001b[32m[I 2022-04-28 15:35:01,004]\u001b[0m Trial 167 finished with value: 0.425383501315284 and parameters: {'min_data_in_leaf': 32, 'min_data_in_bin': 30, 'min_gain_to_split': 0.35, 'max_depth': 7, 'n_estimators': 484, 'boosting_type': 'dart', 'lambda_l1': 0.23141203302792163, 'lambda_l2': 8.490374676180387, 'num_leaves': 218, 'feature_fraction': 0.6159237182337832, 'bagging_fraction': 0.9116073178630502, 'bagging_freq': 1, 'min_child_samples': 43, 'max_bin': 213}. Best is trial 118 with value: 0.4233238491849285.\u001b[0m\n"
     ]
    },
    {
     "name": "stdout",
     "output_type": "stream",
     "text": [
      "0.574616498684716\n"
     ]
    },
    {
     "name": "stderr",
     "output_type": "stream",
     "text": [
      "\u001b[32m[I 2022-04-28 15:35:02,591]\u001b[0m Trial 168 finished with value: 0.43583421355979146 and parameters: {'min_data_in_leaf': 29, 'min_data_in_bin': 20, 'min_gain_to_split': 0.36, 'max_depth': 7, 'n_estimators': 497, 'boosting_type': 'dart', 'lambda_l1': 0.1985154719196612, 'lambda_l2': 8.531324012299795, 'num_leaves': 235, 'feature_fraction': 0.5708129215421184, 'bagging_fraction': 0.9006106135892099, 'bagging_freq': 1, 'min_child_samples': 37, 'max_bin': 214}. Best is trial 118 with value: 0.4233238491849285.\u001b[0m\n"
     ]
    },
    {
     "name": "stdout",
     "output_type": "stream",
     "text": [
      "0.5641657864402085\n"
     ]
    },
    {
     "name": "stderr",
     "output_type": "stream",
     "text": [
      "\u001b[32m[I 2022-04-28 15:35:03,760]\u001b[0m Trial 169 finished with value: 0.44603913650173377 and parameters: {'min_data_in_leaf': 33, 'min_data_in_bin': 26, 'min_gain_to_split': 4.16, 'max_depth': 7, 'n_estimators': 487, 'boosting_type': 'dart', 'lambda_l1': 0.2871686106649127, 'lambda_l2': 8.085883780828027, 'num_leaves': 241, 'feature_fraction': 0.5896239118047948, 'bagging_fraction': 0.9150827506523542, 'bagging_freq': 1, 'min_child_samples': 36, 'max_bin': 226}. Best is trial 118 with value: 0.4233238491849285.\u001b[0m\n"
     ]
    },
    {
     "name": "stdout",
     "output_type": "stream",
     "text": [
      "0.5539608634982662\n"
     ]
    },
    {
     "name": "stderr",
     "output_type": "stream",
     "text": [
      "\u001b[32m[I 2022-04-28 15:35:05,217]\u001b[0m Trial 170 finished with value: 0.42975948427804056 and parameters: {'min_data_in_leaf': 32, 'min_data_in_bin': 35, 'min_gain_to_split': 0.44000000000000006, 'max_depth': 7, 'n_estimators': 457, 'boosting_type': 'dart', 'lambda_l1': 0.22505389835530543, 'lambda_l2': 7.827392249585028, 'num_leaves': 219, 'feature_fraction': 0.6237613741114052, 'bagging_fraction': 0.6620322272332029, 'bagging_freq': 1, 'min_child_samples': 43, 'max_bin': 218}. Best is trial 118 with value: 0.4233238491849285.\u001b[0m\n"
     ]
    },
    {
     "name": "stdout",
     "output_type": "stream",
     "text": [
      "0.5702405157219594\n"
     ]
    },
    {
     "name": "stderr",
     "output_type": "stream",
     "text": [
      "\u001b[32m[I 2022-04-28 15:35:06,860]\u001b[0m Trial 171 finished with value: 0.42679134510529293 and parameters: {'min_data_in_leaf': 36, 'min_data_in_bin': 48, 'min_gain_to_split': 0.41000000000000003, 'max_depth': 7, 'n_estimators': 476, 'boosting_type': 'dart', 'lambda_l1': 0.3947106897616221, 'lambda_l2': 8.577715572573714, 'num_leaves': 231, 'feature_fraction': 0.6156781972460309, 'bagging_fraction': 0.9126782342745842, 'bagging_freq': 1, 'min_child_samples': 50, 'max_bin': 210}. Best is trial 118 with value: 0.4233238491849285.\u001b[0m\n"
     ]
    },
    {
     "name": "stdout",
     "output_type": "stream",
     "text": [
      "0.5732086548947071\n"
     ]
    },
    {
     "name": "stderr",
     "output_type": "stream",
     "text": [
      "\u001b[32m[I 2022-04-28 15:35:08,542]\u001b[0m Trial 172 finished with value: 0.4249463697075575 and parameters: {'min_data_in_leaf': 39, 'min_data_in_bin': 32, 'min_gain_to_split': 0.33, 'max_depth': 7, 'n_estimators': 458, 'boosting_type': 'dart', 'lambda_l1': 0.014144341868733706, 'lambda_l2': 8.447680997702395, 'num_leaves': 221, 'feature_fraction': 0.6097175818651048, 'bagging_fraction': 0.8982435928499085, 'bagging_freq': 1, 'min_child_samples': 43, 'max_bin': 206}. Best is trial 118 with value: 0.4233238491849285.\u001b[0m\n"
     ]
    },
    {
     "name": "stdout",
     "output_type": "stream",
     "text": [
      "0.5750536302924425\n"
     ]
    },
    {
     "name": "stderr",
     "output_type": "stream",
     "text": [
      "\u001b[32m[I 2022-04-28 15:35:10,231]\u001b[0m Trial 173 finished with value: 0.4273560382497934 and parameters: {'min_data_in_leaf': 38, 'min_data_in_bin': 254, 'min_gain_to_split': 0.32, 'max_depth': 9, 'n_estimators': 459, 'boosting_type': 'dart', 'lambda_l1': 0.014671536654443268, 'lambda_l2': 8.394791837603467, 'num_leaves': 217, 'feature_fraction': 0.6050547972152664, 'bagging_fraction': 0.8944876416607686, 'bagging_freq': 1, 'min_child_samples': 47, 'max_bin': 206}. Best is trial 118 with value: 0.4233238491849285.\u001b[0m\n"
     ]
    },
    {
     "name": "stdout",
     "output_type": "stream",
     "text": [
      "0.5726439617502066\n"
     ]
    },
    {
     "name": "stderr",
     "output_type": "stream",
     "text": [
      "\u001b[32m[I 2022-04-28 15:35:12,021]\u001b[0m Trial 174 finished with value: 0.4274695991300923 and parameters: {'min_data_in_leaf': 39, 'min_data_in_bin': 73, 'min_gain_to_split': 0.2, 'max_depth': 8, 'n_estimators': 484, 'boosting_type': 'dart', 'lambda_l1': 0.25375696283931654, 'lambda_l2': 8.731533233848884, 'num_leaves': 225, 'feature_fraction': 0.6265017116511257, 'bagging_fraction': 0.9253151737809278, 'bagging_freq': 1, 'min_child_samples': 52, 'max_bin': 213}. Best is trial 118 with value: 0.4233238491849285.\u001b[0m\n"
     ]
    },
    {
     "name": "stdout",
     "output_type": "stream",
     "text": [
      "0.5725304008699077\n"
     ]
    },
    {
     "name": "stderr",
     "output_type": "stream",
     "text": [
      "\u001b[32m[I 2022-04-28 15:35:13,384]\u001b[0m Trial 175 finished with value: 0.43721250040835247 and parameters: {'min_data_in_leaf': 34, 'min_data_in_bin': 30, 'min_gain_to_split': 2.31, 'max_depth': 7, 'n_estimators': 458, 'boosting_type': 'dart', 'lambda_l1': 0.007800262370404973, 'lambda_l2': 8.15014640700658, 'num_leaves': 204, 'feature_fraction': 0.5873329823737728, 'bagging_fraction': 0.9484933572221607, 'bagging_freq': 1, 'min_child_samples': 37, 'max_bin': 204}. Best is trial 118 with value: 0.4233238491849285.\u001b[0m\n"
     ]
    },
    {
     "name": "stdout",
     "output_type": "stream",
     "text": [
      "0.5627874995916475\n"
     ]
    },
    {
     "name": "stderr",
     "output_type": "stream",
     "text": [
      "\u001b[32m[I 2022-04-28 15:35:15,082]\u001b[0m Trial 176 finished with value: 0.42740892961870003 and parameters: {'min_data_in_leaf': 31, 'min_data_in_bin': 36, 'min_gain_to_split': 0.48, 'max_depth': 9, 'n_estimators': 473, 'boosting_type': 'dart', 'lambda_l1': 0.6879399284025245, 'lambda_l2': 8.395348448033607, 'num_leaves': 211, 'feature_fraction': 0.6105577583502467, 'bagging_fraction': 0.9734994581859507, 'bagging_freq': 1, 'min_child_samples': 39, 'max_bin': 201}. Best is trial 118 with value: 0.4233238491849285.\u001b[0m\n"
     ]
    },
    {
     "name": "stdout",
     "output_type": "stream",
     "text": [
      "0.5725910703813\n"
     ]
    },
    {
     "name": "stderr",
     "output_type": "stream",
     "text": [
      "\u001b[32m[I 2022-04-28 15:35:16,529]\u001b[0m Trial 177 finished with value: 0.4344201472557936 and parameters: {'min_data_in_leaf': 39, 'min_data_in_bin': 67, 'min_gain_to_split': 0.32, 'max_depth': 8, 'n_estimators': 421, 'boosting_type': 'dart', 'lambda_l1': 0.006115194576168784, 'lambda_l2': 7.7762755508349946, 'num_leaves': 247, 'feature_fraction': 0.558724012879992, 'bagging_fraction': 0.9868566567839491, 'bagging_freq': 1, 'min_child_samples': 42, 'max_bin': 208}. Best is trial 118 with value: 0.4233238491849285.\u001b[0m\n"
     ]
    },
    {
     "name": "stdout",
     "output_type": "stream",
     "text": [
      "0.5655798527442064\n"
     ]
    },
    {
     "name": "stderr",
     "output_type": "stream",
     "text": [
      "\u001b[32m[I 2022-04-28 15:35:17,969]\u001b[0m Trial 178 finished with value: 0.42578329783907654 and parameters: {'min_data_in_leaf': 43, 'min_data_in_bin': 47, 'min_gain_to_split': 0.72, 'max_depth': 7, 'n_estimators': 438, 'boosting_type': 'dart', 'lambda_l1': 0.2087962758977018, 'lambda_l2': 8.021321521109574, 'num_leaves': 216, 'feature_fraction': 0.66041527939458, 'bagging_fraction': 0.8988983334295101, 'bagging_freq': 1, 'min_child_samples': 44, 'max_bin': 201}. Best is trial 118 with value: 0.4233238491849285.\u001b[0m\n"
     ]
    },
    {
     "name": "stdout",
     "output_type": "stream",
     "text": [
      "0.5742167021609235\n"
     ]
    },
    {
     "name": "stderr",
     "output_type": "stream",
     "text": [
      "\u001b[32m[I 2022-04-28 15:35:19,405]\u001b[0m Trial 179 finished with value: 0.4263324346986048 and parameters: {'min_data_in_leaf': 43, 'min_data_in_bin': 59, 'min_gain_to_split': 0.71, 'max_depth': 7, 'n_estimators': 436, 'boosting_type': 'dart', 'lambda_l1': 0.24180286329581402, 'lambda_l2': 7.989148652378124, 'num_leaves': 220, 'feature_fraction': 0.6604228284113085, 'bagging_fraction': 0.909309049451981, 'bagging_freq': 1, 'min_child_samples': 32, 'max_bin': 216}. Best is trial 118 with value: 0.4233238491849285.\u001b[0m\n"
     ]
    },
    {
     "name": "stdout",
     "output_type": "stream",
     "text": [
      "0.5736675653013952\n"
     ]
    },
    {
     "name": "stderr",
     "output_type": "stream",
     "text": [
      "\u001b[32m[I 2022-04-28 15:35:20,932]\u001b[0m Trial 180 finished with value: 0.4262079844188249 and parameters: {'min_data_in_leaf': 43, 'min_data_in_bin': 23, 'min_gain_to_split': 0.78, 'max_depth': 7, 'n_estimators': 453, 'boosting_type': 'dart', 'lambda_l1': 0.37771090953118597, 'lambda_l2': 5.2410544503531895, 'num_leaves': 215, 'feature_fraction': 0.6001478865262078, 'bagging_fraction': 0.8979701836608633, 'bagging_freq': 1, 'min_child_samples': 47, 'max_bin': 200}. Best is trial 118 with value: 0.4233238491849285.\u001b[0m\n"
     ]
    },
    {
     "name": "stdout",
     "output_type": "stream",
     "text": [
      "0.5737920155811751\n"
     ]
    },
    {
     "name": "stderr",
     "output_type": "stream",
     "text": [
      "\u001b[32m[I 2022-04-28 15:35:22,446]\u001b[0m Trial 181 finished with value: 0.4262982108716653 and parameters: {'min_data_in_leaf': 37, 'min_data_in_bin': 48, 'min_gain_to_split': 0.58, 'max_depth': 7, 'n_estimators': 468, 'boosting_type': 'dart', 'lambda_l1': 0.18454123049166427, 'lambda_l2': 8.255584474547105, 'num_leaves': 230, 'feature_fraction': 0.6478121449563102, 'bagging_fraction': 0.9265726828155583, 'bagging_freq': 1, 'min_child_samples': 44, 'max_bin': 223}. Best is trial 118 with value: 0.4233238491849285.\u001b[0m\n"
     ]
    },
    {
     "name": "stdout",
     "output_type": "stream",
     "text": [
      "0.5737017891283347\n"
     ]
    },
    {
     "name": "stderr",
     "output_type": "stream",
     "text": [
      "\u001b[32m[I 2022-04-28 15:35:23,975]\u001b[0m Trial 182 finished with value: 0.4242867832247246 and parameters: {'min_data_in_leaf': 36, 'min_data_in_bin': 47, 'min_gain_to_split': 0.5, 'max_depth': 8, 'n_estimators': 444, 'boosting_type': 'dart', 'lambda_l1': 0.002231340557303646, 'lambda_l2': 8.049160250690594, 'num_leaves': 223, 'feature_fraction': 0.6221980854338963, 'bagging_fraction': 0.9503177667890575, 'bagging_freq': 1, 'min_child_samples': 39, 'max_bin': 206}. Best is trial 118 with value: 0.4233238491849285.\u001b[0m\n"
     ]
    },
    {
     "name": "stdout",
     "output_type": "stream",
     "text": [
      "0.5757132167752754\n"
     ]
    },
    {
     "name": "stderr",
     "output_type": "stream",
     "text": [
      "\u001b[32m[I 2022-04-28 15:35:25,670]\u001b[0m Trial 183 finished with value: 0.4234871901771393 and parameters: {'min_data_in_leaf': 33, 'min_data_in_bin': 16, 'min_gain_to_split': 0.21000000000000002, 'max_depth': 8, 'n_estimators': 438, 'boosting_type': 'dart', 'lambda_l1': 0.002509757366402821, 'lambda_l2': 7.720163680805587, 'num_leaves': 223, 'feature_fraction': 0.6772599535927901, 'bagging_fraction': 0.9523923582056147, 'bagging_freq': 1, 'min_child_samples': 38, 'max_bin': 213}. Best is trial 118 with value: 0.4233238491849285.\u001b[0m\n"
     ]
    },
    {
     "name": "stdout",
     "output_type": "stream",
     "text": [
      "0.5765128098228607\n"
     ]
    },
    {
     "name": "stderr",
     "output_type": "stream",
     "text": [
      "\u001b[32m[I 2022-04-28 15:35:27,234]\u001b[0m Trial 184 finished with value: 0.4220855689011196 and parameters: {'min_data_in_leaf': 28, 'min_data_in_bin': 29, 'min_gain_to_split': 0.18, 'max_depth': 8, 'n_estimators': 420, 'boosting_type': 'dart', 'lambda_l1': 0.0203419265477651, 'lambda_l2': 7.78057966374369, 'num_leaves': 224, 'feature_fraction': 0.6289745848103869, 'bagging_fraction': 0.9496705203935263, 'bagging_freq': 1, 'min_child_samples': 38, 'max_bin': 212}. Best is trial 184 with value: 0.4220855689011196.\u001b[0m\n"
     ]
    },
    {
     "name": "stdout",
     "output_type": "stream",
     "text": [
      "0.5779144310988804\n"
     ]
    },
    {
     "name": "stderr",
     "output_type": "stream",
     "text": [
      "\u001b[32m[I 2022-04-28 15:35:29,028]\u001b[0m Trial 185 finished with value: 0.4237952046195945 and parameters: {'min_data_in_leaf': 29, 'min_data_in_bin': 30, 'min_gain_to_split': 0.16, 'max_depth': 8, 'n_estimators': 449, 'boosting_type': 'dart', 'lambda_l1': 0.44831929569036133, 'lambda_l2': 7.7223118222746745, 'num_leaves': 222, 'feature_fraction': 0.6230241708096949, 'bagging_fraction': 0.9512068730543826, 'bagging_freq': 1, 'min_child_samples': 38, 'max_bin': 212}. Best is trial 184 with value: 0.4220855689011196.\u001b[0m\n"
     ]
    },
    {
     "name": "stdout",
     "output_type": "stream",
     "text": [
      "0.5762047953804055\n"
     ]
    },
    {
     "name": "stderr",
     "output_type": "stream",
     "text": [
      "\u001b[32m[I 2022-04-28 15:35:30,849]\u001b[0m Trial 186 finished with value: 0.42349185706263137 and parameters: {'min_data_in_leaf': 28, 'min_data_in_bin': 20, 'min_gain_to_split': 0.17, 'max_depth': 9, 'n_estimators': 443, 'boosting_type': 'dart', 'lambda_l1': 0.3981084053218304, 'lambda_l2': 7.668602715252269, 'num_leaves': 221, 'feature_fraction': 0.6262503696741728, 'bagging_fraction': 0.9503435166797628, 'bagging_freq': 1, 'min_child_samples': 39, 'max_bin': 214}. Best is trial 184 with value: 0.4220855689011196.\u001b[0m\n"
     ]
    },
    {
     "name": "stdout",
     "output_type": "stream",
     "text": [
      "0.5765081429373686\n"
     ]
    },
    {
     "name": "stderr",
     "output_type": "stream",
     "text": [
      "\u001b[32m[I 2022-04-28 15:35:32,358]\u001b[0m Trial 187 finished with value: 0.4240736621206018 and parameters: {'min_data_in_leaf': 27, 'min_data_in_bin': 17, 'min_gain_to_split': 0.15000000000000002, 'max_depth': 8, 'n_estimators': 422, 'boosting_type': 'dart', 'lambda_l1': 0.9151106481350282, 'lambda_l2': 7.623712066737564, 'num_leaves': 224, 'feature_fraction': 0.63129172569733, 'bagging_fraction': 0.952212015074142, 'bagging_freq': 1, 'min_child_samples': 36, 'max_bin': 219}. Best is trial 184 with value: 0.4220855689011196.\u001b[0m\n"
     ]
    },
    {
     "name": "stdout",
     "output_type": "stream",
     "text": [
      "0.5759263378793982\n"
     ]
    },
    {
     "name": "stderr",
     "output_type": "stream",
     "text": [
      "\u001b[32m[I 2022-04-28 15:35:33,906]\u001b[0m Trial 188 finished with value: 0.42374853576467686 and parameters: {'min_data_in_leaf': 28, 'min_data_in_bin': 17, 'min_gain_to_split': 0.14, 'max_depth': 8, 'n_estimators': 422, 'boosting_type': 'dart', 'lambda_l1': 0.7906280840620011, 'lambda_l2': 7.6485513985244395, 'num_leaves': 226, 'feature_fraction': 0.627044352089209, 'bagging_fraction': 0.9493549526515569, 'bagging_freq': 1, 'min_child_samples': 36, 'max_bin': 229}. Best is trial 184 with value: 0.4220855689011196.\u001b[0m\n"
     ]
    },
    {
     "name": "stdout",
     "output_type": "stream",
     "text": [
      "0.5762514642353231\n"
     ]
    },
    {
     "name": "stderr",
     "output_type": "stream",
     "text": [
      "\u001b[32m[I 2022-04-28 15:35:35,417]\u001b[0m Trial 189 finished with value: 0.4238169834185559 and parameters: {'min_data_in_leaf': 26, 'min_data_in_bin': 13, 'min_gain_to_split': 0.17, 'max_depth': 8, 'n_estimators': 412, 'boosting_type': 'dart', 'lambda_l1': 0.7455526537814648, 'lambda_l2': 7.626976457604076, 'num_leaves': 224, 'feature_fraction': 0.62630190824726, 'bagging_fraction': 0.9554284589814025, 'bagging_freq': 1, 'min_child_samples': 35, 'max_bin': 224}. Best is trial 184 with value: 0.4220855689011196.\u001b[0m\n"
     ]
    },
    {
     "name": "stdout",
     "output_type": "stream",
     "text": [
      "0.5761830165814441\n"
     ]
    },
    {
     "name": "stderr",
     "output_type": "stream",
     "text": [
      "\u001b[32m[I 2022-04-28 15:35:36,942]\u001b[0m Trial 190 finished with value: 0.42327251344451944 and parameters: {'min_data_in_leaf': 27, 'min_data_in_bin': 15, 'min_gain_to_split': 0.1, 'max_depth': 8, 'n_estimators': 408, 'boosting_type': 'dart', 'lambda_l1': 0.8875703048443012, 'lambda_l2': 7.671843626168477, 'num_leaves': 222, 'feature_fraction': 0.6297597140203834, 'bagging_fraction': 0.9531575394468882, 'bagging_freq': 1, 'min_child_samples': 35, 'max_bin': 227}. Best is trial 184 with value: 0.4220855689011196.\u001b[0m\n"
     ]
    },
    {
     "name": "stdout",
     "output_type": "stream",
     "text": [
      "0.5767274865554806\n"
     ]
    },
    {
     "name": "stderr",
     "output_type": "stream",
     "text": [
      "\u001b[32m[I 2022-04-28 15:35:38,465]\u001b[0m Trial 191 finished with value: 0.4242696713112548 and parameters: {'min_data_in_leaf': 27, 'min_data_in_bin': 13, 'min_gain_to_split': 0.1, 'max_depth': 8, 'n_estimators': 411, 'boosting_type': 'dart', 'lambda_l1': 0.867230408227492, 'lambda_l2': 7.691131667732838, 'num_leaves': 221, 'feature_fraction': 0.6297793153200308, 'bagging_fraction': 0.9497504120316341, 'bagging_freq': 1, 'min_child_samples': 37, 'max_bin': 229}. Best is trial 184 with value: 0.4220855689011196.\u001b[0m\n"
     ]
    },
    {
     "name": "stdout",
     "output_type": "stream",
     "text": [
      "0.5757303286887452\n"
     ]
    },
    {
     "name": "stderr",
     "output_type": "stream",
     "text": [
      "\u001b[32m[I 2022-04-28 15:35:39,723]\u001b[0m Trial 192 finished with value: 0.4293332420697946 and parameters: {'min_data_in_leaf': 26, 'min_data_in_bin': 18, 'min_gain_to_split': 0.11, 'max_depth': 8, 'n_estimators': 400, 'boosting_type': 'dart', 'lambda_l1': 4.368490117875864, 'lambda_l2': 7.661513726558367, 'num_leaves': 225, 'feature_fraction': 0.6276642086943472, 'bagging_fraction': 0.9551046089124702, 'bagging_freq': 1, 'min_child_samples': 34, 'max_bin': 228}. Best is trial 184 with value: 0.4220855689011196.\u001b[0m\n"
     ]
    },
    {
     "name": "stdout",
     "output_type": "stream",
     "text": [
      "0.5706667579302054\n"
     ]
    },
    {
     "name": "stderr",
     "output_type": "stream",
     "text": [
      "\u001b[32m[I 2022-04-28 15:35:41,242]\u001b[0m Trial 193 finished with value: 0.4261939837623496 and parameters: {'min_data_in_leaf': 28, 'min_data_in_bin': 13, 'min_gain_to_split': 0.17, 'max_depth': 8, 'n_estimators': 412, 'boosting_type': 'dart', 'lambda_l1': 0.9737618957721369, 'lambda_l2': 7.714970989588298, 'num_leaves': 223, 'feature_fraction': 0.6296271276417164, 'bagging_fraction': 0.9709956670376882, 'bagging_freq': 1, 'min_child_samples': 35, 'max_bin': 222}. Best is trial 184 with value: 0.4220855689011196.\u001b[0m\n"
     ]
    },
    {
     "name": "stdout",
     "output_type": "stream",
     "text": [
      "0.5738060162376504\n"
     ]
    },
    {
     "name": "stderr",
     "output_type": "stream",
     "text": [
      "\u001b[32m[I 2022-04-28 15:35:42,919]\u001b[0m Trial 194 finished with value: 0.4245014599573447 and parameters: {'min_data_in_leaf': 24, 'min_data_in_bin': 8, 'min_gain_to_split': 0.15000000000000002, 'max_depth': 9, 'n_estimators': 419, 'boosting_type': 'dart', 'lambda_l1': 0.7762585068818139, 'lambda_l2': 7.908816369349388, 'num_leaves': 208, 'feature_fraction': 0.6279413183946025, 'bagging_fraction': 0.9675498715713937, 'bagging_freq': 1, 'min_child_samples': 36, 'max_bin': 233}. Best is trial 184 with value: 0.4220855689011196.\u001b[0m\n"
     ]
    },
    {
     "name": "stdout",
     "output_type": "stream",
     "text": [
      "0.5754985400426553\n"
     ]
    },
    {
     "name": "stderr",
     "output_type": "stream",
     "text": [
      "\u001b[32m[I 2022-04-28 15:35:44,407]\u001b[0m Trial 195 finished with value: 0.424370787163576 and parameters: {'min_data_in_leaf': 23, 'min_data_in_bin': 16, 'min_gain_to_split': 0.1, 'max_depth': 8, 'n_estimators': 397, 'boosting_type': 'dart', 'lambda_l1': 0.9292808135752877, 'lambda_l2': 8.039115630974864, 'num_leaves': 211, 'feature_fraction': 0.6277569903986218, 'bagging_fraction': 0.9543574432743873, 'bagging_freq': 1, 'min_child_samples': 37, 'max_bin': 231}. Best is trial 184 with value: 0.4220855689011196.\u001b[0m\n"
     ]
    },
    {
     "name": "stdout",
     "output_type": "stream",
     "text": [
      "0.575629212836424\n"
     ]
    },
    {
     "name": "stderr",
     "output_type": "stream",
     "text": [
      "\u001b[32m[I 2022-04-28 15:35:45,938]\u001b[0m Trial 196 finished with value: 0.424641466522097 and parameters: {'min_data_in_leaf': 25, 'min_data_in_bin': 7, 'min_gain_to_split': 0.18, 'max_depth': 8, 'n_estimators': 419, 'boosting_type': 'dart', 'lambda_l1': 0.8667159835994498, 'lambda_l2': 7.960898879742875, 'num_leaves': 234, 'feature_fraction': 0.6329080044158604, 'bagging_fraction': 0.9519268904171448, 'bagging_freq': 1, 'min_child_samples': 36, 'max_bin': 235}. Best is trial 184 with value: 0.4220855689011196.\u001b[0m\n"
     ]
    },
    {
     "name": "stdout",
     "output_type": "stream",
     "text": [
      "0.575358533477903\n"
     ]
    },
    {
     "name": "stderr",
     "output_type": "stream",
     "text": [
      "\u001b[32m[I 2022-04-28 15:35:47,282]\u001b[0m Trial 197 finished with value: 0.42519215901012264 and parameters: {'min_data_in_leaf': 25, 'min_data_in_bin': 11, 'min_gain_to_split': 0.12000000000000001, 'max_depth': 8, 'n_estimators': 389, 'boosting_type': 'dart', 'lambda_l1': 1.3829554212849542, 'lambda_l2': 7.8736767336589, 'num_leaves': 234, 'feature_fraction': 0.6344710473925258, 'bagging_fraction': 0.9496433591165641, 'bagging_freq': 1, 'min_child_samples': 36, 'max_bin': 234}. Best is trial 184 with value: 0.4220855689011196.\u001b[0m\n"
     ]
    },
    {
     "name": "stdout",
     "output_type": "stream",
     "text": [
      "0.5748078409898774\n"
     ]
    },
    {
     "name": "stderr",
     "output_type": "stream",
     "text": [
      "\u001b[32m[I 2022-04-28 15:35:48,637]\u001b[0m Trial 198 finished with value: 0.4265206657467715 and parameters: {'min_data_in_leaf': 25, 'min_data_in_bin': 9, 'min_gain_to_split': 0.16, 'max_depth': 8, 'n_estimators': 387, 'boosting_type': 'dart', 'lambda_l1': 1.3499294887730429, 'lambda_l2': 7.886558488018677, 'num_leaves': 234, 'feature_fraction': 0.6315781745656056, 'bagging_fraction': 0.9542750777789407, 'bagging_freq': 1, 'min_child_samples': 32, 'max_bin': 234}. Best is trial 184 with value: 0.4220855689011196.\u001b[0m\n"
     ]
    },
    {
     "name": "stdout",
     "output_type": "stream",
     "text": [
      "0.5734793342532285\n"
     ]
    },
    {
     "name": "stderr",
     "output_type": "stream",
     "text": [
      "\u001b[32m[I 2022-04-28 15:35:50,166]\u001b[0m Trial 199 finished with value: 0.4258035210095408 and parameters: {'min_data_in_leaf': 23, 'min_data_in_bin': 1, 'min_gain_to_split': 0.1, 'max_depth': 8, 'n_estimators': 408, 'boosting_type': 'dart', 'lambda_l1': 1.195842729256952, 'lambda_l2': 7.947864370245017, 'num_leaves': 224, 'feature_fraction': 0.6318989501055808, 'bagging_fraction': 0.9625884031216594, 'bagging_freq': 1, 'min_child_samples': 35, 'max_bin': 243}. Best is trial 184 with value: 0.4220855689011196.\u001b[0m\n"
     ]
    },
    {
     "name": "stdout",
     "output_type": "stream",
     "text": [
      "0.5741964789904592\n"
     ]
    },
    {
     "name": "stderr",
     "output_type": "stream",
     "text": [
      "\u001b[32m[I 2022-04-28 15:35:51,385]\u001b[0m Trial 200 finished with value: 0.4276142725803367 and parameters: {'min_data_in_leaf': 27, 'min_data_in_bin': 12, 'min_gain_to_split': 0.21000000000000002, 'max_depth': 8, 'n_estimators': 358, 'boosting_type': 'dart', 'lambda_l1': 0.9529929856731439, 'lambda_l2': 7.6733615714643895, 'num_leaves': 212, 'feature_fraction': 0.6374634901066547, 'bagging_fraction': 0.9507031612511845, 'bagging_freq': 1, 'min_child_samples': 36, 'max_bin': 238}. Best is trial 184 with value: 0.4220855689011196.\u001b[0m\n"
     ]
    },
    {
     "name": "stdout",
     "output_type": "stream",
     "text": [
      "0.5723857274196633\n"
     ]
    },
    {
     "name": "stderr",
     "output_type": "stream",
     "text": [
      "\u001b[32m[I 2022-04-28 15:35:52,851]\u001b[0m Trial 201 finished with value: 0.425240383493537 and parameters: {'min_data_in_leaf': 24, 'min_data_in_bin': 14, 'min_gain_to_split': 0.13, 'max_depth': 8, 'n_estimators': 400, 'boosting_type': 'dart', 'lambda_l1': 0.8996829829054754, 'lambda_l2': 7.556381410884808, 'num_leaves': 235, 'feature_fraction': 0.6270822766289332, 'bagging_fraction': 0.9636117305744923, 'bagging_freq': 1, 'min_child_samples': 37, 'max_bin': 231}. Best is trial 184 with value: 0.4220855689011196.\u001b[0m\n"
     ]
    },
    {
     "name": "stdout",
     "output_type": "stream",
     "text": [
      "0.574759616506463\n"
     ]
    },
    {
     "name": "stderr",
     "output_type": "stream",
     "text": [
      "\u001b[32m[I 2022-04-28 15:35:54,293]\u001b[0m Trial 202 finished with value: 0.4254426151981794 and parameters: {'min_data_in_leaf': 26, 'min_data_in_bin': 15, 'min_gain_to_split': 0.14, 'max_depth': 8, 'n_estimators': 393, 'boosting_type': 'dart', 'lambda_l1': 0.917453264624056, 'lambda_l2': 7.608739011668077, 'num_leaves': 231, 'feature_fraction': 0.6257436382017777, 'bagging_fraction': 0.9668553273381841, 'bagging_freq': 1, 'min_child_samples': 37, 'max_bin': 231}. Best is trial 184 with value: 0.4220855689011196.\u001b[0m\n"
     ]
    },
    {
     "name": "stdout",
     "output_type": "stream",
     "text": [
      "0.5745573848018206\n"
     ]
    },
    {
     "name": "stderr",
     "output_type": "stream",
     "text": [
      "\u001b[32m[I 2022-04-28 15:35:55,572]\u001b[0m Trial 203 finished with value: 0.4268022345047735 and parameters: {'min_data_in_leaf': 24, 'min_data_in_bin': 8, 'min_gain_to_split': 0.22, 'max_depth': 8, 'n_estimators': 374, 'boosting_type': 'dart', 'lambda_l1': 1.1596717532257135, 'lambda_l2': 7.199798679815606, 'num_leaves': 223, 'feature_fraction': 0.608700546026234, 'bagging_fraction': 0.9531643692729417, 'bagging_freq': 1, 'min_child_samples': 34, 'max_bin': 229}. Best is trial 184 with value: 0.4220855689011196.\u001b[0m\n"
     ]
    },
    {
     "name": "stdout",
     "output_type": "stream",
     "text": [
      "0.5731977654952265\n"
     ]
    },
    {
     "name": "stderr",
     "output_type": "stream",
     "text": [
      "\u001b[32m[I 2022-04-28 15:35:57,099]\u001b[0m Trial 204 finished with value: 0.42432411830865835 and parameters: {'min_data_in_leaf': 23, 'min_data_in_bin': 17, 'min_gain_to_split': 0.1, 'max_depth': 8, 'n_estimators': 399, 'boosting_type': 'dart', 'lambda_l1': 0.8390872948994424, 'lambda_l2': 8.09246071437043, 'num_leaves': 237, 'feature_fraction': 0.6405416133172336, 'bagging_fraction': 0.9698359197245783, 'bagging_freq': 1, 'min_child_samples': 32, 'max_bin': 235}. Best is trial 184 with value: 0.4220855689011196.\u001b[0m\n"
     ]
    },
    {
     "name": "stdout",
     "output_type": "stream",
     "text": [
      "0.5756758816913417\n"
     ]
    },
    {
     "name": "stderr",
     "output_type": "stream",
     "text": [
      "\u001b[32m[I 2022-04-28 15:35:58,579]\u001b[0m Trial 205 finished with value: 0.42472702608944557 and parameters: {'min_data_in_leaf': 22, 'min_data_in_bin': 17, 'min_gain_to_split': 0.11, 'max_depth': 8, 'n_estimators': 399, 'boosting_type': 'dart', 'lambda_l1': 0.9116580155491103, 'lambda_l2': 8.174507695862486, 'num_leaves': 235, 'feature_fraction': 0.6446158705876974, 'bagging_fraction': 0.9704523596608011, 'bagging_freq': 1, 'min_child_samples': 31, 'max_bin': 235}. Best is trial 184 with value: 0.4220855689011196.\u001b[0m\n"
     ]
    },
    {
     "name": "stdout",
     "output_type": "stream",
     "text": [
      "0.5752729739105544\n"
     ]
    },
    {
     "name": "stderr",
     "output_type": "stream",
     "text": [
      "\u001b[32m[I 2022-04-28 15:36:00,091]\u001b[0m Trial 206 finished with value: 0.4259559726022708 and parameters: {'min_data_in_leaf': 28, 'min_data_in_bin': 19, 'min_gain_to_split': 0.1, 'max_depth': 8, 'n_estimators': 417, 'boosting_type': 'dart', 'lambda_l1': 1.4366925523431022, 'lambda_l2': 8.176062395311344, 'num_leaves': 229, 'feature_fraction': 0.6737925569062724, 'bagging_fraction': 0.9727862579634347, 'bagging_freq': 1, 'min_child_samples': 31, 'max_bin': 239}. Best is trial 184 with value: 0.4220855689011196.\u001b[0m\n"
     ]
    },
    {
     "name": "stdout",
     "output_type": "stream",
     "text": [
      "0.5740440273977292\n"
     ]
    },
    {
     "name": "stderr",
     "output_type": "stream",
     "text": [
      "\u001b[32m[I 2022-04-28 15:36:01,556]\u001b[0m Trial 207 finished with value: 0.4240549945786347 and parameters: {'min_data_in_leaf': 22, 'min_data_in_bin': 22, 'min_gain_to_split': 0.1, 'max_depth': 8, 'n_estimators': 392, 'boosting_type': 'dart', 'lambda_l1': 1.0612176364643908, 'lambda_l2': 7.863259912008165, 'num_leaves': 238, 'feature_fraction': 0.6426796288211787, 'bagging_fraction': 0.9843004187115232, 'bagging_freq': 1, 'min_child_samples': 33, 'max_bin': 245}. Best is trial 184 with value: 0.4220855689011196.\u001b[0m\n"
     ]
    },
    {
     "name": "stdout",
     "output_type": "stream",
     "text": [
      "0.5759450054213653\n"
     ]
    },
    {
     "name": "stderr",
     "output_type": "stream",
     "text": [
      "\u001b[32m[I 2022-04-28 15:36:03,095]\u001b[0m Trial 208 finished with value: 0.4248296975702639 and parameters: {'min_data_in_leaf': 21, 'min_data_in_bin': 22, 'min_gain_to_split': 0.22, 'max_depth': 8, 'n_estimators': 408, 'boosting_type': 'dart', 'lambda_l1': 0.7917015772546466, 'lambda_l2': 8.085318122537553, 'num_leaves': 215, 'feature_fraction': 0.6447003677472182, 'bagging_fraction': 0.9813739885357197, 'bagging_freq': 1, 'min_child_samples': 33, 'max_bin': 246}. Best is trial 184 with value: 0.4220855689011196.\u001b[0m\n"
     ]
    },
    {
     "name": "stdout",
     "output_type": "stream",
     "text": [
      "0.5751703024297361\n"
     ]
    },
    {
     "name": "stderr",
     "output_type": "stream",
     "text": [
      "\u001b[32m[I 2022-04-28 15:36:04,607]\u001b[0m Trial 209 finished with value: 0.4259061924903589 and parameters: {'min_data_in_leaf': 22, 'min_data_in_bin': 23, 'min_gain_to_split': 0.24000000000000002, 'max_depth': 8, 'n_estimators': 407, 'boosting_type': 'dart', 'lambda_l1': 1.0741484906572165, 'lambda_l2': 8.12624676241515, 'num_leaves': 239, 'feature_fraction': 0.6450804905236879, 'bagging_fraction': 0.9863714682670693, 'bagging_freq': 1, 'min_child_samples': 32, 'max_bin': 244}. Best is trial 184 with value: 0.4220855689011196.\u001b[0m\n"
     ]
    },
    {
     "name": "stdout",
     "output_type": "stream",
     "text": [
      "0.5740938075096411\n"
     ]
    },
    {
     "name": "stderr",
     "output_type": "stream",
     "text": [
      "\u001b[32m[I 2022-04-28 15:36:06,302]\u001b[0m Trial 210 finished with value: 0.4236054179429303 and parameters: {'min_data_in_leaf': 20, 'min_data_in_bin': 18, 'min_gain_to_split': 0.1, 'max_depth': 8, 'n_estimators': 420, 'boosting_type': 'dart', 'lambda_l1': 0.8207499008549346, 'lambda_l2': 7.806101167744451, 'num_leaves': 208, 'feature_fraction': 0.6771053652937822, 'bagging_fraction': 0.9745990550969024, 'bagging_freq': 1, 'min_child_samples': 30, 'max_bin': 249}. Best is trial 184 with value: 0.4220855689011196.\u001b[0m\n"
     ]
    },
    {
     "name": "stdout",
     "output_type": "stream",
     "text": [
      "0.5763945820570697\n"
     ]
    },
    {
     "name": "stderr",
     "output_type": "stream",
     "text": [
      "\u001b[32m[I 2022-04-28 15:36:07,964]\u001b[0m Trial 211 finished with value: 0.4243132289091778 and parameters: {'min_data_in_leaf': 21, 'min_data_in_bin': 17, 'min_gain_to_split': 0.1, 'max_depth': 8, 'n_estimators': 415, 'boosting_type': 'dart', 'lambda_l1': 0.8401565464925433, 'lambda_l2': 7.861690409631551, 'num_leaves': 210, 'feature_fraction': 0.6715714316887389, 'bagging_fraction': 0.9741919828517467, 'bagging_freq': 1, 'min_child_samples': 30, 'max_bin': 250}. Best is trial 184 with value: 0.4220855689011196.\u001b[0m\n"
     ]
    },
    {
     "name": "stdout",
     "output_type": "stream",
     "text": [
      "0.5756867710908222\n"
     ]
    },
    {
     "name": "stderr",
     "output_type": "stream",
     "text": [
      "\u001b[32m[I 2022-04-28 15:36:09,618]\u001b[0m Trial 212 finished with value: 0.42428211633923274 and parameters: {'min_data_in_leaf': 20, 'min_data_in_bin': 18, 'min_gain_to_split': 0.11, 'max_depth': 8, 'n_estimators': 420, 'boosting_type': 'dart', 'lambda_l1': 0.8336171888323493, 'lambda_l2': 7.832946934849364, 'num_leaves': 208, 'feature_fraction': 0.6797477279297122, 'bagging_fraction': 0.98396139114802, 'bagging_freq': 1, 'min_child_samples': 30, 'max_bin': 251}. Best is trial 184 with value: 0.4220855689011196.\u001b[0m\n"
     ]
    },
    {
     "name": "stdout",
     "output_type": "stream",
     "text": [
      "0.5757178836607673\n"
     ]
    },
    {
     "name": "stderr",
     "output_type": "stream",
     "text": [
      "\u001b[32m[I 2022-04-28 15:36:11,203]\u001b[0m Trial 213 finished with value: 0.4240285488941815 and parameters: {'min_data_in_leaf': 19, 'min_data_in_bin': 16, 'min_gain_to_split': 0.11, 'max_depth': 8, 'n_estimators': 421, 'boosting_type': 'dart', 'lambda_l1': 0.8900002924857262, 'lambda_l2': 7.840991721022813, 'num_leaves': 206, 'feature_fraction': 0.6800932643895131, 'bagging_fraction': 0.9730206790128642, 'bagging_freq': 1, 'min_child_samples': 29, 'max_bin': 253}. Best is trial 184 with value: 0.4220855689011196.\u001b[0m\n"
     ]
    },
    {
     "name": "stdout",
     "output_type": "stream",
     "text": [
      "0.5759714511058185\n"
     ]
    },
    {
     "name": "stderr",
     "output_type": "stream",
     "text": [
      "\u001b[32m[I 2022-04-28 15:36:12,818]\u001b[0m Trial 214 finished with value: 0.4238885423294292 and parameters: {'min_data_in_leaf': 19, 'min_data_in_bin': 5, 'min_gain_to_split': 0.1, 'max_depth': 8, 'n_estimators': 420, 'boosting_type': 'dart', 'lambda_l1': 0.8858370821674902, 'lambda_l2': 7.789128980668859, 'num_leaves': 211, 'feature_fraction': 0.6833548191465991, 'bagging_fraction': 0.9716977277909337, 'bagging_freq': 1, 'min_child_samples': 29, 'max_bin': 226}. Best is trial 184 with value: 0.4220855689011196.\u001b[0m\n"
     ]
    },
    {
     "name": "stdout",
     "output_type": "stream",
     "text": [
      "0.5761114576705708\n"
     ]
    },
    {
     "name": "stderr",
     "output_type": "stream",
     "text": [
      "\u001b[32m[I 2022-04-28 15:36:14,429]\u001b[0m Trial 215 finished with value: 0.4252186046945756 and parameters: {'min_data_in_leaf': 20, 'min_data_in_bin': 1, 'min_gain_to_split': 0.1, 'max_depth': 8, 'n_estimators': 420, 'boosting_type': 'dart', 'lambda_l1': 1.1296116305159054, 'lambda_l2': 7.764425990223693, 'num_leaves': 207, 'feature_fraction': 0.6842529857375005, 'bagging_fraction': 0.9778276470992455, 'bagging_freq': 1, 'min_child_samples': 30, 'max_bin': 252}. Best is trial 184 with value: 0.4220855689011196.\u001b[0m\n"
     ]
    },
    {
     "name": "stdout",
     "output_type": "stream",
     "text": [
      "0.5747813953054244\n"
     ]
    },
    {
     "name": "stderr",
     "output_type": "stream",
     "text": [
      "\u001b[32m[I 2022-04-28 15:36:16,073]\u001b[0m Trial 216 finished with value: 0.4232445121315689 and parameters: {'min_data_in_leaf': 19, 'min_data_in_bin': 5, 'min_gain_to_split': 0.1, 'max_depth': 8, 'n_estimators': 419, 'boosting_type': 'dart', 'lambda_l1': 0.8519789308086785, 'lambda_l2': 7.642661872141418, 'num_leaves': 211, 'feature_fraction': 0.6807899313397372, 'bagging_fraction': 0.9668204980947745, 'bagging_freq': 1, 'min_child_samples': 30, 'max_bin': 255}. Best is trial 184 with value: 0.4220855689011196.\u001b[0m\n"
     ]
    },
    {
     "name": "stdout",
     "output_type": "stream",
     "text": [
      "0.5767554878684311\n"
     ]
    },
    {
     "name": "stderr",
     "output_type": "stream",
     "text": [
      "\u001b[32m[I 2022-04-28 15:36:17,781]\u001b[0m Trial 217 finished with value: 0.42250247733838187 and parameters: {'min_data_in_leaf': 19, 'min_data_in_bin': 16, 'min_gain_to_split': 0.11, 'max_depth': 8, 'n_estimators': 423, 'boosting_type': 'dart', 'lambda_l1': 0.7171301786811616, 'lambda_l2': 7.590348636957052, 'num_leaves': 212, 'feature_fraction': 0.6765182887806557, 'bagging_fraction': 0.9667999573530602, 'bagging_freq': 1, 'min_child_samples': 28, 'max_bin': 254}. Best is trial 184 with value: 0.4220855689011196.\u001b[0m\n"
     ]
    },
    {
     "name": "stdout",
     "output_type": "stream",
     "text": [
      "0.5774975226616181\n"
     ]
    },
    {
     "name": "stderr",
     "output_type": "stream",
     "text": [
      "\u001b[32m[I 2022-04-28 15:36:19,360]\u001b[0m Trial 218 finished with value: 0.4255623985924675 and parameters: {'min_data_in_leaf': 18, 'min_data_in_bin': 18, 'min_gain_to_split': 0.1, 'max_depth': 8, 'n_estimators': 410, 'boosting_type': 'dart', 'lambda_l1': 1.213779524131208, 'lambda_l2': 7.273950307830618, 'num_leaves': 210, 'feature_fraction': 0.6808091376158989, 'bagging_fraction': 0.9904695960544259, 'bagging_freq': 1, 'min_child_samples': 29, 'max_bin': 255}. Best is trial 184 with value: 0.4220855689011196.\u001b[0m\n"
     ]
    },
    {
     "name": "stdout",
     "output_type": "stream",
     "text": [
      "0.5744376014075325\n"
     ]
    },
    {
     "name": "stderr",
     "output_type": "stream",
     "text": [
      "\u001b[32m[I 2022-04-28 15:36:21,045]\u001b[0m Trial 219 finished with value: 0.4222815780917728 and parameters: {'min_data_in_leaf': 19, 'min_data_in_bin': 26, 'min_gain_to_split': 0.1, 'max_depth': 8, 'n_estimators': 423, 'boosting_type': 'dart', 'lambda_l1': 0.7317260540898654, 'lambda_l2': 7.588417431381204, 'num_leaves': 201, 'feature_fraction': 0.6743212121648041, 'bagging_fraction': 0.9646978841219367, 'bagging_freq': 1, 'min_child_samples': 28, 'max_bin': 249}. Best is trial 184 with value: 0.4220855689011196.\u001b[0m\n"
     ]
    },
    {
     "name": "stdout",
     "output_type": "stream",
     "text": [
      "0.5777184219082272\n"
     ]
    },
    {
     "name": "stderr",
     "output_type": "stream",
     "text": [
      "\u001b[32m[I 2022-04-28 15:36:22,667]\u001b[0m Trial 220 finished with value: 0.42511437758526016 and parameters: {'min_data_in_leaf': 19, 'min_data_in_bin': 26, 'min_gain_to_split': 0.23, 'max_depth': 8, 'n_estimators': 427, 'boosting_type': 'dart', 'lambda_l1': 1.0590000875039731, 'lambda_l2': 7.557799274897622, 'num_leaves': 214, 'feature_fraction': 0.6772672554271663, 'bagging_fraction': 0.9780409469765884, 'bagging_freq': 1, 'min_child_samples': 29, 'max_bin': 252}. Best is trial 184 with value: 0.4220855689011196.\u001b[0m\n"
     ]
    },
    {
     "name": "stdout",
     "output_type": "stream",
     "text": [
      "0.5748856224147398\n"
     ]
    },
    {
     "name": "stderr",
     "output_type": "stream",
     "text": [
      "\u001b[32m[I 2022-04-28 15:36:24,202]\u001b[0m Trial 221 finished with value: 0.4236972000242678 and parameters: {'min_data_in_leaf': 20, 'min_data_in_bin': 15, 'min_gain_to_split': 0.1, 'max_depth': 8, 'n_estimators': 395, 'boosting_type': 'dart', 'lambda_l1': 0.8711237866493067, 'lambda_l2': 7.690885040664642, 'num_leaves': 204, 'feature_fraction': 0.6927845278414276, 'bagging_fraction': 0.9635338501200692, 'bagging_freq': 1, 'min_child_samples': 27, 'max_bin': 249}. Best is trial 184 with value: 0.4220855689011196.\u001b[0m\n"
     ]
    },
    {
     "name": "stdout",
     "output_type": "stream",
     "text": [
      "0.5763027999757322\n"
     ]
    },
    {
     "name": "stderr",
     "output_type": "stream",
     "text": [
      "\u001b[32m[I 2022-04-28 15:36:25,915]\u001b[0m Trial 222 finished with value: 0.42267826335857084 and parameters: {'min_data_in_leaf': 20, 'min_data_in_bin': 22, 'min_gain_to_split': 0.1, 'max_depth': 8, 'n_estimators': 422, 'boosting_type': 'dart', 'lambda_l1': 0.7003202550832753, 'lambda_l2': 7.598321277879406, 'num_leaves': 214, 'feature_fraction': 0.6903627019271396, 'bagging_fraction': 0.9671867734581212, 'bagging_freq': 1, 'min_child_samples': 28, 'max_bin': 249}. Best is trial 184 with value: 0.4220855689011196.\u001b[0m\n"
     ]
    },
    {
     "name": "stdout",
     "output_type": "stream",
     "text": [
      "0.5773217366414292\n"
     ]
    },
    {
     "name": "stderr",
     "output_type": "stream",
     "text": [
      "\u001b[32m[I 2022-04-28 15:36:27,581]\u001b[0m Trial 223 finished with value: 0.4234202981517581 and parameters: {'min_data_in_leaf': 19, 'min_data_in_bin': 24, 'min_gain_to_split': 0.24000000000000002, 'max_depth': 8, 'n_estimators': 424, 'boosting_type': 'dart', 'lambda_l1': 0.6786956231603002, 'lambda_l2': 7.56101536943726, 'num_leaves': 203, 'feature_fraction': 0.6920676058958214, 'bagging_fraction': 0.9627464418886672, 'bagging_freq': 1, 'min_child_samples': 27, 'max_bin': 249}. Best is trial 184 with value: 0.4220855689011196.\u001b[0m\n"
     ]
    },
    {
     "name": "stdout",
     "output_type": "stream",
     "text": [
      "0.5765797018482419\n"
     ]
    },
    {
     "name": "stderr",
     "output_type": "stream",
     "text": [
      "\u001b[32m[I 2022-04-28 15:36:29,254]\u001b[0m Trial 224 finished with value: 0.42533994371736106 and parameters: {'min_data_in_leaf': 15, 'min_data_in_bin': 25, 'min_gain_to_split': 0.25, 'max_depth': 8, 'n_estimators': 423, 'boosting_type': 'dart', 'lambda_l1': 0.6635219670285826, 'lambda_l2': 7.316250710616308, 'num_leaves': 199, 'feature_fraction': 0.6919138140519882, 'bagging_fraction': 0.9617923341536814, 'bagging_freq': 1, 'min_child_samples': 28, 'max_bin': 255}. Best is trial 184 with value: 0.4220855689011196.\u001b[0m\n"
     ]
    },
    {
     "name": "stdout",
     "output_type": "stream",
     "text": [
      "0.5746600562826389\n"
     ]
    },
    {
     "name": "stderr",
     "output_type": "stream",
     "text": [
      "\u001b[32m[I 2022-04-28 15:36:30,967]\u001b[0m Trial 225 finished with value: 0.4248421425982418 and parameters: {'min_data_in_leaf': 18, 'min_data_in_bin': 22, 'min_gain_to_split': 0.24000000000000002, 'max_depth': 8, 'n_estimators': 424, 'boosting_type': 'dart', 'lambda_l1': 0.6322437301658139, 'lambda_l2': 7.596709534385203, 'num_leaves': 204, 'feature_fraction': 0.692221471350911, 'bagging_fraction': 0.9873365797536252, 'bagging_freq': 1, 'min_child_samples': 27, 'max_bin': 248}. Best is trial 184 with value: 0.4220855689011196.\u001b[0m\n"
     ]
    },
    {
     "name": "stdout",
     "output_type": "stream",
     "text": [
      "0.5751578574017582\n"
     ]
    },
    {
     "name": "stderr",
     "output_type": "stream",
     "text": [
      "\u001b[32m[I 2022-04-28 15:36:32,659]\u001b[0m Trial 226 finished with value: 0.423050058569413 and parameters: {'min_data_in_leaf': 19, 'min_data_in_bin': 3, 'min_gain_to_split': 0.1, 'max_depth': 8, 'n_estimators': 431, 'boosting_type': 'dart', 'lambda_l1': 0.6925693923879171, 'lambda_l2': 7.096351400187367, 'num_leaves': 200, 'feature_fraction': 0.7065717222845178, 'bagging_fraction': 0.9627992686597834, 'bagging_freq': 1, 'min_child_samples': 28, 'max_bin': 242}. Best is trial 184 with value: 0.4220855689011196.\u001b[0m\n"
     ]
    },
    {
     "name": "stdout",
     "output_type": "stream",
     "text": [
      "0.576949941430587\n"
     ]
    },
    {
     "name": "stderr",
     "output_type": "stream",
     "text": [
      "\u001b[32m[I 2022-04-28 15:36:34,286]\u001b[0m Trial 227 finished with value: 0.4235120802330954 and parameters: {'min_data_in_leaf': 20, 'min_data_in_bin': 4, 'min_gain_to_split': 0.1, 'max_depth': 8, 'n_estimators': 410, 'boosting_type': 'dart', 'lambda_l1': 0.7194365211924191, 'lambda_l2': 7.08415459287221, 'num_leaves': 201, 'feature_fraction': 0.7032931703275522, 'bagging_fraction': 0.9626410430729206, 'bagging_freq': 1, 'min_child_samples': 28, 'max_bin': 243}. Best is trial 184 with value: 0.4220855689011196.\u001b[0m\n"
     ]
    },
    {
     "name": "stdout",
     "output_type": "stream",
     "text": [
      "0.5764879197669046\n"
     ]
    },
    {
     "name": "stderr",
     "output_type": "stream",
     "text": [
      "\u001b[32m[I 2022-04-28 15:36:35,901]\u001b[0m Trial 228 finished with value: 0.42522638283706193 and parameters: {'min_data_in_leaf': 17, 'min_data_in_bin': 2, 'min_gain_to_split': 0.21000000000000002, 'max_depth': 8, 'n_estimators': 411, 'boosting_type': 'dart', 'lambda_l1': 0.7107641131601772, 'lambda_l2': 7.113673588775234, 'num_leaves': 201, 'feature_fraction': 0.7044140687679162, 'bagging_fraction': 0.9618324983085865, 'bagging_freq': 1, 'min_child_samples': 28, 'max_bin': 242}. Best is trial 184 with value: 0.4220855689011196.\u001b[0m\n"
     ]
    },
    {
     "name": "stdout",
     "output_type": "stream",
     "text": [
      "0.5747736171629381\n"
     ]
    },
    {
     "name": "stderr",
     "output_type": "stream",
     "text": [
      "\u001b[32m[I 2022-04-28 15:36:37,560]\u001b[0m Trial 229 finished with value: 0.4249992610764639 and parameters: {'min_data_in_leaf': 18, 'min_data_in_bin': 5, 'min_gain_to_split': 0.27, 'max_depth': 8, 'n_estimators': 432, 'boosting_type': 'dart', 'lambda_l1': 1.094150991056232, 'lambda_l2': 7.081800230759813, 'num_leaves': 198, 'feature_fraction': 0.6902012101326549, 'bagging_fraction': 0.9630318879365437, 'bagging_freq': 1, 'min_child_samples': 26, 'max_bin': 246}. Best is trial 184 with value: 0.4220855689011196.\u001b[0m\n"
     ]
    },
    {
     "name": "stdout",
     "output_type": "stream",
     "text": [
      "0.5750007389235361\n"
     ]
    },
    {
     "name": "stderr",
     "output_type": "stream",
     "text": [
      "\u001b[32m[I 2022-04-28 15:36:39,057]\u001b[0m Trial 230 finished with value: 0.4255406197935059 and parameters: {'min_data_in_leaf': 14, 'min_data_in_bin': 12, 'min_gain_to_split': 0.1, 'max_depth': 8, 'n_estimators': 385, 'boosting_type': 'dart', 'lambda_l1': 0.6535466015781151, 'lambda_l2': 7.423312754871295, 'num_leaves': 204, 'feature_fraction': 0.712207747242098, 'bagging_fraction': 0.949528894226056, 'bagging_freq': 1, 'min_child_samples': 28, 'max_bin': 255}. Best is trial 184 with value: 0.4220855689011196.\u001b[0m\n"
     ]
    },
    {
     "name": "stdout",
     "output_type": "stream",
     "text": [
      "0.5744593802064941\n"
     ]
    },
    {
     "name": "stderr",
     "output_type": "stream",
     "text": [
      "\u001b[32m[I 2022-04-28 15:36:40,696]\u001b[0m Trial 231 finished with value: 0.4241078859475411 and parameters: {'min_data_in_leaf': 20, 'min_data_in_bin': 21, 'min_gain_to_split': 0.18, 'max_depth': 8, 'n_estimators': 424, 'boosting_type': 'dart', 'lambda_l1': 1.0019998338927023, 'lambda_l2': 7.539845742358852, 'num_leaves': 215, 'feature_fraction': 0.6798406912456295, 'bagging_fraction': 0.9802702409576882, 'bagging_freq': 1, 'min_child_samples': 30, 'max_bin': 247}. Best is trial 184 with value: 0.4220855689011196.\u001b[0m\n"
     ]
    },
    {
     "name": "stdout",
     "output_type": "stream",
     "text": [
      "0.5758921140524589\n"
     ]
    },
    {
     "name": "stderr",
     "output_type": "stream",
     "text": [
      "\u001b[32m[I 2022-04-28 15:36:42,317]\u001b[0m Trial 232 finished with value: 0.4245854638961961 and parameters: {'min_data_in_leaf': 20, 'min_data_in_bin': 26, 'min_gain_to_split': 0.19, 'max_depth': 8, 'n_estimators': 429, 'boosting_type': 'dart', 'lambda_l1': 1.1281401409746954, 'lambda_l2': 7.548134874849107, 'num_leaves': 216, 'feature_fraction': 0.6987744495960738, 'bagging_fraction': 0.9695464818401645, 'bagging_freq': 1, 'min_child_samples': 26, 'max_bin': 241}. Best is trial 184 with value: 0.4220855689011196.\u001b[0m\n"
     ]
    },
    {
     "name": "stdout",
     "output_type": "stream",
     "text": [
      "0.5754145361038039\n"
     ]
    },
    {
     "name": "stderr",
     "output_type": "stream",
     "text": [
      "\u001b[32m[I 2022-04-28 15:36:43,838]\u001b[0m Trial 233 finished with value: 0.42571951707068934 and parameters: {'min_data_in_leaf': 29, 'min_data_in_bin': 6, 'min_gain_to_split': 0.1, 'max_depth': 8, 'n_estimators': 407, 'boosting_type': 'dart', 'lambda_l1': 1.3654003215125248, 'lambda_l2': 7.295096912634056, 'num_leaves': 216, 'feature_fraction': 0.6825747506314712, 'bagging_fraction': 0.999205420031289, 'bagging_freq': 1, 'min_child_samples': 29, 'max_bin': 248}. Best is trial 184 with value: 0.4220855689011196.\u001b[0m\n"
     ]
    },
    {
     "name": "stdout",
     "output_type": "stream",
     "text": [
      "0.5742804829293107\n"
     ]
    },
    {
     "name": "stderr",
     "output_type": "stream",
     "text": [
      "\u001b[32m[I 2022-04-28 15:36:45,415]\u001b[0m Trial 234 finished with value: 0.4247472492599096 and parameters: {'min_data_in_leaf': 19, 'min_data_in_bin': 11, 'min_gain_to_split': 0.2, 'max_depth': 8, 'n_estimators': 414, 'boosting_type': 'dart', 'lambda_l1': 0.9985481502093077, 'lambda_l2': 7.640666791979401, 'num_leaves': 205, 'feature_fraction': 0.6710862583604358, 'bagging_fraction': 0.9595990689308761, 'bagging_freq': 1, 'min_child_samples': 31, 'max_bin': 225}. Best is trial 184 with value: 0.4220855689011196.\u001b[0m\n"
     ]
    },
    {
     "name": "stdout",
     "output_type": "stream",
     "text": [
      "0.5752527507400904\n"
     ]
    },
    {
     "name": "stderr",
     "output_type": "stream",
     "text": [
      "\u001b[32m[I 2022-04-28 15:36:47,033]\u001b[0m Trial 235 finished with value: 0.4256121787043792 and parameters: {'min_data_in_leaf': 27, 'min_data_in_bin': 1, 'min_gain_to_split': 0.28, 'max_depth': 8, 'n_estimators': 427, 'boosting_type': 'dart', 'lambda_l1': 0.6945391187174008, 'lambda_l2': 7.419399839917374, 'num_leaves': 220, 'feature_fraction': 0.6901839652729502, 'bagging_fraction': 0.9807164487026486, 'bagging_freq': 1, 'min_child_samples': 27, 'max_bin': 255}. Best is trial 184 with value: 0.4220855689011196.\u001b[0m\n"
     ]
    },
    {
     "name": "stdout",
     "output_type": "stream",
     "text": [
      "0.5743878212956208\n"
     ]
    },
    {
     "name": "stderr",
     "output_type": "stream",
     "text": [
      "\u001b[32m[I 2022-04-28 15:36:48,610]\u001b[0m Trial 236 finished with value: 0.424779917458352 and parameters: {'min_data_in_leaf': 16, 'min_data_in_bin': 21, 'min_gain_to_split': 0.18, 'max_depth': 8, 'n_estimators': 407, 'boosting_type': 'dart', 'lambda_l1': 0.7028774738405241, 'lambda_l2': 7.703750771370683, 'num_leaves': 196, 'feature_fraction': 0.6676855554368394, 'bagging_fraction': 0.9665610822380677, 'bagging_freq': 1, 'min_child_samples': 33, 'max_bin': 246}. Best is trial 184 with value: 0.4220855689011196.\u001b[0m\n"
     ]
    },
    {
     "name": "stdout",
     "output_type": "stream",
     "text": [
      "0.575220082541648\n"
     ]
    },
    {
     "name": "stderr",
     "output_type": "stream",
     "text": [
      "\u001b[32m[I 2022-04-28 15:36:50,351]\u001b[0m Trial 237 finished with value: 0.42364741991235566 and parameters: {'min_data_in_leaf': 21, 'min_data_in_bin': 13, 'min_gain_to_split': 0.11, 'max_depth': 8, 'n_estimators': 433, 'boosting_type': 'dart', 'lambda_l1': 0.9998866471766399, 'lambda_l2': 6.983703198452916, 'num_leaves': 212, 'feature_fraction': 0.7088974529622317, 'bagging_fraction': 0.9482476598803293, 'bagging_freq': 1, 'min_child_samples': 33, 'max_bin': 219}. Best is trial 184 with value: 0.4220855689011196.\u001b[0m\n"
     ]
    },
    {
     "name": "stdout",
     "output_type": "stream",
     "text": [
      "0.5763525800876443\n"
     ]
    },
    {
     "name": "stderr",
     "output_type": "stream",
     "text": [
      "\u001b[32m[I 2022-04-28 15:36:51,981]\u001b[0m Trial 238 finished with value: 0.42713202774618986 and parameters: {'min_data_in_leaf': 21, 'min_data_in_bin': 27, 'min_gain_to_split': 0.28, 'max_depth': 8, 'n_estimators': 434, 'boosting_type': 'dart', 'lambda_l1': 1.5797569638554698, 'lambda_l2': 7.118999512057231, 'num_leaves': 202, 'feature_fraction': 0.7079665473585717, 'bagging_fraction': 0.9776771997904996, 'bagging_freq': 1, 'min_child_samples': 33, 'max_bin': 221}. Best is trial 184 with value: 0.4220855689011196.\u001b[0m\n"
     ]
    },
    {
     "name": "stdout",
     "output_type": "stream",
     "text": [
      "0.5728679722538101\n"
     ]
    },
    {
     "name": "stderr",
     "output_type": "stream",
     "text": [
      "\u001b[32m[I 2022-04-28 15:36:52,986]\u001b[0m Trial 239 finished with value: 0.44602358021676136 and parameters: {'min_data_in_leaf': 18, 'min_data_in_bin': 22, 'min_gain_to_split': 4.91, 'max_depth': 8, 'n_estimators': 423, 'boosting_type': 'dart', 'lambda_l1': 1.1693354716853708, 'lambda_l2': 7.020752091952919, 'num_leaves': 215, 'feature_fraction': 0.700591018764658, 'bagging_fraction': 0.9567273973163473, 'bagging_freq': 1, 'min_child_samples': 30, 'max_bin': 242}. Best is trial 184 with value: 0.4220855689011196.\u001b[0m\n"
     ]
    },
    {
     "name": "stdout",
     "output_type": "stream",
     "text": [
      "0.5539764197832386\n"
     ]
    },
    {
     "name": "stderr",
     "output_type": "stream",
     "text": [
      "\u001b[32m[I 2022-04-28 15:36:54,735]\u001b[0m Trial 240 finished with value: 0.42503970741739217 and parameters: {'min_data_in_leaf': 22, 'min_data_in_bin': 8, 'min_gain_to_split': 0.1, 'max_depth': 8, 'n_estimators': 434, 'boosting_type': 'dart', 'lambda_l1': 0.9951879628683354, 'lambda_l2': 7.37545159727045, 'num_leaves': 212, 'feature_fraction': 0.6804864584241699, 'bagging_fraction': 0.9459258122366652, 'bagging_freq': 1, 'min_child_samples': 26, 'max_bin': 250}. Best is trial 184 with value: 0.4220855689011196.\u001b[0m\n"
     ]
    },
    {
     "name": "stdout",
     "output_type": "stream",
     "text": [
      "0.5749602925826078\n"
     ]
    },
    {
     "name": "stderr",
     "output_type": "stream",
     "text": [
      "\u001b[32m[I 2022-04-28 15:36:55,893]\u001b[0m Trial 241 finished with value: 0.4376916339855048 and parameters: {'min_data_in_leaf': 20, 'min_data_in_bin': 14, 'min_gain_to_split': 2.6500000000000004, 'max_depth': 8, 'n_estimators': 418, 'boosting_type': 'dart', 'lambda_l1': 0.8199237233951967, 'lambda_l2': 7.600915725095239, 'num_leaves': 220, 'feature_fraction': 0.7133119573448008, 'bagging_fraction': 0.9517103257117983, 'bagging_freq': 1, 'min_child_samples': 28, 'max_bin': 226}. Best is trial 184 with value: 0.4220855689011196.\u001b[0m\n"
     ]
    },
    {
     "name": "stdout",
     "output_type": "stream",
     "text": [
      "0.5623083660144952\n"
     ]
    },
    {
     "name": "stderr",
     "output_type": "stream",
     "text": [
      "\u001b[32m[I 2022-04-28 15:36:57,367]\u001b[0m Trial 242 finished with value: 0.424201223657376 and parameters: {'min_data_in_leaf': 29, 'min_data_in_bin': 13, 'min_gain_to_split': 0.11, 'max_depth': 8, 'n_estimators': 394, 'boosting_type': 'dart', 'lambda_l1': 0.5671840830663674, 'lambda_l2': 7.2438977342595345, 'num_leaves': 209, 'feature_fraction': 0.6903066162758688, 'bagging_fraction': 0.965365452446423, 'bagging_freq': 1, 'min_child_samples': 34, 'max_bin': 239}. Best is trial 184 with value: 0.4220855689011196.\u001b[0m\n"
     ]
    },
    {
     "name": "stdout",
     "output_type": "stream",
     "text": [
      "0.575798776342624\n"
     ]
    },
    {
     "name": "stderr",
     "output_type": "stream",
     "text": [
      "\u001b[32m[I 2022-04-28 15:36:58,850]\u001b[0m Trial 243 finished with value: 0.4234171868947634 and parameters: {'min_data_in_leaf': 29, 'min_data_in_bin': 21, 'min_gain_to_split': 0.1, 'max_depth': 8, 'n_estimators': 390, 'boosting_type': 'dart', 'lambda_l1': 0.546850802919919, 'lambda_l2': 7.257889076287115, 'num_leaves': 207, 'feature_fraction': 0.6997372817505735, 'bagging_fraction': 0.9695546210730127, 'bagging_freq': 1, 'min_child_samples': 34, 'max_bin': 218}. Best is trial 184 with value: 0.4220855689011196.\u001b[0m\n"
     ]
    },
    {
     "name": "stdout",
     "output_type": "stream",
     "text": [
      "0.5765828131052366\n"
     ]
    },
    {
     "name": "stderr",
     "output_type": "stream",
     "text": [
      "\u001b[32m[I 2022-04-28 15:37:00,226]\u001b[0m Trial 244 finished with value: 0.4251610464401776 and parameters: {'min_data_in_leaf': 18, 'min_data_in_bin': 22, 'min_gain_to_split': 0.19, 'max_depth': 8, 'n_estimators': 371, 'boosting_type': 'dart', 'lambda_l1': 0.5980311682886941, 'lambda_l2': 6.640878196033632, 'num_leaves': 205, 'feature_fraction': 0.7015785538786429, 'bagging_fraction': 0.9872356475916638, 'bagging_freq': 1, 'min_child_samples': 31, 'max_bin': 221}. Best is trial 184 with value: 0.4220855689011196.\u001b[0m\n"
     ]
    },
    {
     "name": "stdout",
     "output_type": "stream",
     "text": [
      "0.5748389535598224\n"
     ]
    },
    {
     "name": "stderr",
     "output_type": "stream",
     "text": [
      "\u001b[32m[I 2022-04-28 15:37:01,239]\u001b[0m Trial 245 finished with value: 0.42660466968562316 and parameters: {'min_data_in_leaf': 22, 'min_data_in_bin': 27, 'min_gain_to_split': 0.29000000000000004, 'max_depth': 8, 'n_estimators': 325, 'boosting_type': 'dart', 'lambda_l1': 1.0560172357250615, 'lambda_l2': 7.51831691729284, 'num_leaves': 200, 'feature_fraction': 0.6771698329518361, 'bagging_fraction': 0.9716246664726362, 'bagging_freq': 1, 'min_child_samples': 29, 'max_bin': 217}. Best is trial 184 with value: 0.4220855689011196.\u001b[0m\n"
     ]
    },
    {
     "name": "stdout",
     "output_type": "stream",
     "text": [
      "0.5733953303143768\n"
     ]
    },
    {
     "name": "stderr",
     "output_type": "stream",
     "text": [
      "\u001b[32m[I 2022-04-28 15:37:02,903]\u001b[0m Trial 246 finished with value: 0.4235540822025212 and parameters: {'min_data_in_leaf': 20, 'min_data_in_bin': 6, 'min_gain_to_split': 0.1, 'max_depth': 8, 'n_estimators': 426, 'boosting_type': 'dart', 'lambda_l1': 1.275145818462863, 'lambda_l2': 6.966405581379985, 'num_leaves': 212, 'feature_fraction': 0.7179435904289424, 'bagging_fraction': 0.9602793946146024, 'bagging_freq': 1, 'min_child_samples': 32, 'max_bin': 246}. Best is trial 184 with value: 0.4220855689011196.\u001b[0m\n"
     ]
    },
    {
     "name": "stdout",
     "output_type": "stream",
     "text": [
      "0.5764459177974788\n"
     ]
    },
    {
     "name": "stderr",
     "output_type": "stream",
     "text": [
      "\u001b[32m[I 2022-04-28 15:37:04,416]\u001b[0m Trial 247 finished with value: 0.4244299010464714 and parameters: {'min_data_in_leaf': 16, 'min_data_in_bin': 3, 'min_gain_to_split': 0.1, 'max_depth': 8, 'n_estimators': 401, 'boosting_type': 'dart', 'lambda_l1': 1.275263746790841, 'lambda_l2': 7.203493504861506, 'num_leaves': 207, 'feature_fraction': 0.7179610154427016, 'bagging_fraction': 0.9373596535196933, 'bagging_freq': 1, 'min_child_samples': 33, 'max_bin': 218}. Best is trial 184 with value: 0.4220855689011196.\u001b[0m\n"
     ]
    },
    {
     "name": "stdout",
     "output_type": "stream",
     "text": [
      "0.5755700989535286\n"
     ]
    },
    {
     "name": "stderr",
     "output_type": "stream",
     "text": [
      "\u001b[32m[I 2022-04-28 15:37:06,135]\u001b[0m Trial 248 finished with value: 0.4241078859475409 and parameters: {'min_data_in_leaf': 26, 'min_data_in_bin': 9, 'min_gain_to_split': 0.2, 'max_depth': 8, 'n_estimators': 435, 'boosting_type': 'dart', 'lambda_l1': 0.7049697993159776, 'lambda_l2': 6.808347206036815, 'num_leaves': 213, 'feature_fraction': 0.6925636102783074, 'bagging_fraction': 0.9577410602155533, 'bagging_freq': 1, 'min_child_samples': 32, 'max_bin': 255}. Best is trial 184 with value: 0.4220855689011196.\u001b[0m\n"
     ]
    },
    {
     "name": "stdout",
     "output_type": "stream",
     "text": [
      "0.5758921140524591\n"
     ]
    },
    {
     "name": "stderr",
     "output_type": "stream",
     "text": [
      "\u001b[32m[I 2022-04-28 15:37:07,584]\u001b[0m Trial 249 finished with value: 0.4240456608076515 and parameters: {'min_data_in_leaf': 23, 'min_data_in_bin': 16, 'min_gain_to_split': 0.1, 'max_depth': 8, 'n_estimators': 383, 'boosting_type': 'dart', 'lambda_l1': 0.6010854354213699, 'lambda_l2': 6.994997684856703, 'num_leaves': 196, 'feature_fraction': 0.7103120723181698, 'bagging_fraction': 0.9665644344683795, 'bagging_freq': 1, 'min_child_samples': 34, 'max_bin': 225}. Best is trial 184 with value: 0.4220855689011196.\u001b[0m\n"
     ]
    },
    {
     "name": "stdout",
     "output_type": "stream",
     "text": [
      "0.5759543391923485\n"
     ]
    },
    {
     "name": "stderr",
     "output_type": "stream",
     "text": [
      "\u001b[32m[I 2022-04-28 15:37:09,015]\u001b[0m Trial 250 finished with value: 0.4246119095806493 and parameters: {'min_data_in_leaf': 23, 'min_data_in_bin': 1, 'min_gain_to_split': 0.29000000000000004, 'max_depth': 8, 'n_estimators': 390, 'boosting_type': 'dart', 'lambda_l1': 0.5313761370142573, 'lambda_l2': 6.902334114500252, 'num_leaves': 198, 'feature_fraction': 0.711951997358913, 'bagging_fraction': 0.9685128661482036, 'bagging_freq': 1, 'min_child_samples': 34, 'max_bin': 251}. Best is trial 184 with value: 0.4220855689011196.\u001b[0m\n"
     ]
    },
    {
     "name": "stdout",
     "output_type": "stream",
     "text": [
      "0.5753880904193507\n"
     ]
    },
    {
     "name": "stderr",
     "output_type": "stream",
     "text": [
      "\u001b[32m[I 2022-04-28 15:37:10,507]\u001b[0m Trial 251 finished with value: 0.42506148621635376 and parameters: {'min_data_in_leaf': 19, 'min_data_in_bin': 6, 'min_gain_to_split': 0.11, 'max_depth': 8, 'n_estimators': 380, 'boosting_type': 'dart', 'lambda_l1': 0.5255791780239347, 'lambda_l2': 7.030571086776091, 'num_leaves': 202, 'feature_fraction': 0.7272472724053608, 'bagging_fraction': 0.9938569204056376, 'bagging_freq': 1, 'min_child_samples': 26, 'max_bin': 225}. Best is trial 184 with value: 0.4220855689011196.\u001b[0m\n"
     ]
    },
    {
     "name": "stdout",
     "output_type": "stream",
     "text": [
      "0.5749385137836462\n"
     ]
    },
    {
     "name": "stderr",
     "output_type": "stream",
     "text": [
      "\u001b[32m[I 2022-04-28 15:37:12,093]\u001b[0m Trial 252 finished with value: 0.4250848206438125 and parameters: {'min_data_in_leaf': 24, 'min_data_in_bin': 14, 'min_gain_to_split': 0.1, 'max_depth': 8, 'n_estimators': 402, 'boosting_type': 'dart', 'lambda_l1': 0.5044098456833319, 'lambda_l2': 7.24026336716878, 'num_leaves': 194, 'feature_fraction': 0.6995162305476182, 'bagging_fraction': 0.9626197066317345, 'bagging_freq': 1, 'min_child_samples': 28, 'max_bin': 243}. Best is trial 184 with value: 0.4220855689011196.\u001b[0m\n"
     ]
    },
    {
     "name": "stdout",
     "output_type": "stream",
     "text": [
      "0.5749151793561875\n"
     ]
    },
    {
     "name": "stderr",
     "output_type": "stream",
     "text": [
      "\u001b[32m[I 2022-04-28 15:37:13,695]\u001b[0m Trial 253 finished with value: 0.4228307149513011 and parameters: {'min_data_in_leaf': 22, 'min_data_in_bin': 29, 'min_gain_to_split': 0.1, 'max_depth': 8, 'n_estimators': 412, 'boosting_type': 'dart', 'lambda_l1': 0.721895092962069, 'lambda_l2': 6.558071069424517, 'num_leaves': 209, 'feature_fraction': 0.7157297918859592, 'bagging_fraction': 0.9422411584739777, 'bagging_freq': 1, 'min_child_samples': 31, 'max_bin': 255}. Best is trial 184 with value: 0.4220855689011196.\u001b[0m\n"
     ]
    },
    {
     "name": "stdout",
     "output_type": "stream",
     "text": [
      "0.5771692850486989\n"
     ]
    },
    {
     "name": "stderr",
     "output_type": "stream",
     "text": [
      "\u001b[32m[I 2022-04-28 15:37:13,988]\u001b[0m Trial 254 finished with value: 0.43837611052429337 and parameters: {'min_data_in_leaf': 15, 'min_data_in_bin': 29, 'min_gain_to_split': 3.29, 'max_depth': 8, 'n_estimators': 132, 'boosting_type': 'dart', 'lambda_l1': 0.7247087976564912, 'lambda_l2': 6.52041627360448, 'num_leaves': 207, 'feature_fraction': 0.7211301082357371, 'bagging_fraction': 0.9428007650316401, 'bagging_freq': 1, 'min_child_samples': 31, 'max_bin': 255}. Best is trial 184 with value: 0.4220855689011196.\u001b[0m\n"
     ]
    },
    {
     "name": "stdout",
     "output_type": "stream",
     "text": [
      "0.5616238894757066\n"
     ]
    },
    {
     "name": "stderr",
     "output_type": "stream",
     "text": [
      "\u001b[32m[I 2022-04-28 15:37:15,469]\u001b[0m Trial 255 finished with value: 0.42651444323278254 and parameters: {'min_data_in_leaf': 17, 'min_data_in_bin': 10, 'min_gain_to_split': 0.27, 'max_depth': 8, 'n_estimators': 418, 'boosting_type': 'dart', 'lambda_l1': 0.4527695625297465, 'lambda_l2': 6.992755301235382, 'num_leaves': 210, 'feature_fraction': 0.7097116130984575, 'bagging_fraction': 0.6067901989275271, 'bagging_freq': 1, 'min_child_samples': 28, 'max_bin': 252}. Best is trial 184 with value: 0.4220855689011196.\u001b[0m\n"
     ]
    },
    {
     "name": "stdout",
     "output_type": "stream",
     "text": [
      "0.5734855567672175\n"
     ]
    },
    {
     "name": "stderr",
     "output_type": "stream",
     "text": [
      "\u001b[32m[I 2022-04-28 15:37:17,195]\u001b[0m Trial 256 finished with value: 0.42362252985640003 and parameters: {'min_data_in_leaf': 21, 'min_data_in_bin': 18, 'min_gain_to_split': 0.2, 'max_depth': 8, 'n_estimators': 433, 'boosting_type': 'dart', 'lambda_l1': 0.7338467540636553, 'lambda_l2': 5.734743805475076, 'num_leaves': 196, 'feature_fraction': 0.6946857773599238, 'bagging_fraction': 0.9345541749195496, 'bagging_freq': 1, 'min_child_samples': 26, 'max_bin': 223}. Best is trial 184 with value: 0.4220855689011196.\u001b[0m\n"
     ]
    },
    {
     "name": "stdout",
     "output_type": "stream",
     "text": [
      "0.5763774701436\n"
     ]
    },
    {
     "name": "stderr",
     "output_type": "stream",
     "text": [
      "\u001b[32m[I 2022-04-28 15:37:18,952]\u001b[0m Trial 257 finished with value: 0.4248405869697447 and parameters: {'min_data_in_leaf': 20, 'min_data_in_bin': 27, 'min_gain_to_split': 0.21000000000000002, 'max_depth': 8, 'n_estimators': 438, 'boosting_type': 'dart', 'lambda_l1': 0.8199409059889405, 'lambda_l2': 5.489385630243683, 'num_leaves': 203, 'feature_fraction': 0.6922583295754269, 'bagging_fraction': 0.93159043511931, 'bagging_freq': 1, 'min_child_samples': 27, 'max_bin': 219}. Best is trial 184 with value: 0.4220855689011196.\u001b[0m\n"
     ]
    },
    {
     "name": "stdout",
     "output_type": "stream",
     "text": [
      "0.5751594130302553\n"
     ]
    },
    {
     "name": "stderr",
     "output_type": "stream",
     "text": [
      "\u001b[32m[I 2022-04-28 15:37:20,117]\u001b[0m Trial 258 finished with value: 0.44132558215507434 and parameters: {'min_data_in_leaf': 29, 'min_data_in_bin': 19, 'min_gain_to_split': 2.96, 'max_depth': 8, 'n_estimators': 429, 'boosting_type': 'dart', 'lambda_l1': 0.7550412651008219, 'lambda_l2': 6.472032024095668, 'num_leaves': 212, 'feature_fraction': 0.6631899031420139, 'bagging_fraction': 0.9442329337985931, 'bagging_freq': 1, 'min_child_samples': 26, 'max_bin': 250}. Best is trial 184 with value: 0.4220855689011196.\u001b[0m\n"
     ]
    },
    {
     "name": "stdout",
     "output_type": "stream",
     "text": [
      "0.5586744178449257\n"
     ]
    },
    {
     "name": "stderr",
     "output_type": "stream",
     "text": [
      "\u001b[32m[I 2022-04-28 15:37:21,689]\u001b[0m Trial 259 finished with value: 0.42452323875630604 and parameters: {'min_data_in_leaf': 21, 'min_data_in_bin': 5, 'min_gain_to_split': 0.27, 'max_depth': 8, 'n_estimators': 410, 'boosting_type': 'dart', 'lambda_l1': 0.4344456405516965, 'lambda_l2': 6.128458384892746, 'num_leaves': 205, 'feature_fraction': 0.6886093072157846, 'bagging_fraction': 0.9338300805265765, 'bagging_freq': 1, 'min_child_samples': 25, 'max_bin': 239}. Best is trial 184 with value: 0.4220855689011196.\u001b[0m\n"
     ]
    },
    {
     "name": "stdout",
     "output_type": "stream",
     "text": [
      "0.575476761243694\n"
     ]
    },
    {
     "name": "stderr",
     "output_type": "stream",
     "text": [
      "\u001b[32m[I 2022-04-28 15:37:23,419]\u001b[0m Trial 260 finished with value: 0.42312939562277263 and parameters: {'min_data_in_leaf': 18, 'min_data_in_bin': 11, 'min_gain_to_split': 0.1, 'max_depth': 8, 'n_estimators': 432, 'boosting_type': 'dart', 'lambda_l1': 0.8684298696830646, 'lambda_l2': 7.413146513533768, 'num_leaves': 218, 'feature_fraction': 0.7021170422833487, 'bagging_fraction': 0.9509718956712998, 'bagging_freq': 1, 'min_child_samples': 29, 'max_bin': 223}. Best is trial 184 with value: 0.4220855689011196.\u001b[0m\n"
     ]
    },
    {
     "name": "stdout",
     "output_type": "stream",
     "text": [
      "0.5768706043772274\n"
     ]
    },
    {
     "name": "stderr",
     "output_type": "stream",
     "text": [
      "\u001b[32m[I 2022-04-28 15:37:25,123]\u001b[0m Trial 261 finished with value: 0.426937574184034 and parameters: {'min_data_in_leaf': 13, 'min_data_in_bin': 10, 'min_gain_to_split': 0.31, 'max_depth': 8, 'n_estimators': 438, 'boosting_type': 'dart', 'lambda_l1': 0.6966653209682919, 'lambda_l2': 7.359284817684787, 'num_leaves': 216, 'feature_fraction': 0.708438540080401, 'bagging_fraction': 0.9450988923590627, 'bagging_freq': 1, 'min_child_samples': 32, 'max_bin': 223}. Best is trial 184 with value: 0.4220855689011196.\u001b[0m\n"
     ]
    },
    {
     "name": "stdout",
     "output_type": "stream",
     "text": [
      "0.573062425815966\n"
     ]
    },
    {
     "name": "stderr",
     "output_type": "stream",
     "text": [
      "\u001b[32m[I 2022-04-28 15:37:26,808]\u001b[0m Trial 262 finished with value: 0.425749074012137 and parameters: {'min_data_in_leaf': 17, 'min_data_in_bin': 24, 'min_gain_to_split': 0.18, 'max_depth': 9, 'n_estimators': 430, 'boosting_type': 'dart', 'lambda_l1': 1.3534644927524657, 'lambda_l2': 6.690141960721177, 'num_leaves': 218, 'feature_fraction': 0.6982447936585572, 'bagging_fraction': 0.9548130767810106, 'bagging_freq': 1, 'min_child_samples': 22, 'max_bin': 215}. Best is trial 184 with value: 0.4220855689011196.\u001b[0m\n"
     ]
    },
    {
     "name": "stdout",
     "output_type": "stream",
     "text": [
      "0.574250925987863\n"
     ]
    },
    {
     "name": "stderr",
     "output_type": "stream",
     "text": [
      "\u001b[32m[I 2022-04-28 15:37:28,368]\u001b[0m Trial 263 finished with value: 0.423252290274055 and parameters: {'min_data_in_leaf': 24, 'min_data_in_bin': 32, 'min_gain_to_split': 0.1, 'max_depth': 8, 'n_estimators': 413, 'boosting_type': 'dart', 'lambda_l1': 0.44741986987644217, 'lambda_l2': 7.4049226418939025, 'num_leaves': 226, 'feature_fraction': 0.7004594427804915, 'bagging_fraction': 0.9332183370128773, 'bagging_freq': 1, 'min_child_samples': 30, 'max_bin': 227}. Best is trial 184 with value: 0.4220855689011196.\u001b[0m\n"
     ]
    },
    {
     "name": "stdout",
     "output_type": "stream",
     "text": [
      "0.576747709725945\n"
     ]
    },
    {
     "name": "stderr",
     "output_type": "stream",
     "text": [
      "\u001b[32m[I 2022-04-28 15:37:29,784]\u001b[0m Trial 264 finished with value: 0.4235540822025212 and parameters: {'min_data_in_leaf': 26, 'min_data_in_bin': 30, 'min_gain_to_split': 0.2, 'max_depth': 8, 'n_estimators': 410, 'boosting_type': 'dart', 'lambda_l1': 0.4219424079358746, 'lambda_l2': 7.1951212581465915, 'num_leaves': 229, 'feature_fraction': 0.7334274555399709, 'bagging_fraction': 0.9371997543571476, 'bagging_freq': 1, 'min_child_samples': 31, 'max_bin': 221}. Best is trial 184 with value: 0.4220855689011196.\u001b[0m\n"
     ]
    },
    {
     "name": "stdout",
     "output_type": "stream",
     "text": [
      "0.5764459177974788\n"
     ]
    },
    {
     "name": "stderr",
     "output_type": "stream",
     "text": [
      "\u001b[32m[I 2022-04-28 15:37:31,079]\u001b[0m Trial 265 finished with value: 0.4362044531421361 and parameters: {'min_data_in_leaf': 25, 'min_data_in_bin': 32, 'min_gain_to_split': 1.6300000000000001, 'max_depth': 8, 'n_estimators': 437, 'boosting_type': 'dart', 'lambda_l1': 0.41785643224456565, 'lambda_l2': 6.9082515853862825, 'num_leaves': 225, 'feature_fraction': 0.7368985673743568, 'bagging_fraction': 0.9316219324681597, 'bagging_freq': 1, 'min_child_samples': 31, 'max_bin': 217}. Best is trial 184 with value: 0.4220855689011196.\u001b[0m\n"
     ]
    },
    {
     "name": "stdout",
     "output_type": "stream",
     "text": [
      "0.5637955468578639\n"
     ]
    },
    {
     "name": "stderr",
     "output_type": "stream",
     "text": [
      "\u001b[32m[I 2022-04-28 15:37:32,491]\u001b[0m Trial 266 finished with value: 0.4246119095806493 and parameters: {'min_data_in_leaf': 30, 'min_data_in_bin': 35, 'min_gain_to_split': 0.33, 'max_depth': 8, 'n_estimators': 404, 'boosting_type': 'dart', 'lambda_l1': 0.4357298753103256, 'lambda_l2': 6.279040450755116, 'num_leaves': 226, 'feature_fraction': 0.7194925000762079, 'bagging_fraction': 0.9391325067607729, 'bagging_freq': 1, 'min_child_samples': 25, 'max_bin': 220}. Best is trial 184 with value: 0.4220855689011196.\u001b[0m\n"
     ]
    },
    {
     "name": "stdout",
     "output_type": "stream",
     "text": [
      "0.5753880904193507\n"
     ]
    },
    {
     "name": "stderr",
     "output_type": "stream",
     "text": [
      "\u001b[32m[I 2022-04-28 15:37:34,186]\u001b[0m Trial 267 finished with value: 0.4232227333326073 and parameters: {'min_data_in_leaf': 22, 'min_data_in_bin': 30, 'min_gain_to_split': 0.22, 'max_depth': 8, 'n_estimators': 428, 'boosting_type': 'dart', 'lambda_l1': 0.5911975115083794, 'lambda_l2': 4.702978653108232, 'num_leaves': 219, 'feature_fraction': 0.7315072113134177, 'bagging_fraction': 0.9336080415562018, 'bagging_freq': 1, 'min_child_samples': 30, 'max_bin': 247}. Best is trial 184 with value: 0.4220855689011196.\u001b[0m\n"
     ]
    },
    {
     "name": "stdout",
     "output_type": "stream",
     "text": [
      "0.5767772666673927\n"
     ]
    },
    {
     "name": "stderr",
     "output_type": "stream",
     "text": [
      "\u001b[32m[I 2022-04-28 15:37:35,965]\u001b[0m Trial 268 finished with value: 0.42225046552182777 and parameters: {'min_data_in_leaf': 22, 'min_data_in_bin': 28, 'min_gain_to_split': 0.24000000000000002, 'max_depth': 9, 'n_estimators': 428, 'boosting_type': 'dart', 'lambda_l1': 0.5694149617155342, 'lambda_l2': 4.401889624457554, 'num_leaves': 219, 'feature_fraction': 0.7308896857558489, 'bagging_fraction': 0.9290927281759199, 'bagging_freq': 1, 'min_child_samples': 30, 'max_bin': 246}. Best is trial 184 with value: 0.4220855689011196.\u001b[0m\n"
     ]
    },
    {
     "name": "stdout",
     "output_type": "stream",
     "text": [
      "0.5777495344781722\n"
     ]
    },
    {
     "name": "stderr",
     "output_type": "stream",
     "text": [
      "\u001b[32m[I 2022-04-28 15:37:37,656]\u001b[0m Trial 269 finished with value: 0.42130153213850696 and parameters: {'min_data_in_leaf': 22, 'min_data_in_bin': 34, 'min_gain_to_split': 0.33999999999999997, 'max_depth': 9, 'n_estimators': 433, 'boosting_type': 'dart', 'lambda_l1': 0.5846927725879659, 'lambda_l2': 3.8652149466836674, 'num_leaves': 217, 'feature_fraction': 0.7299417821016143, 'bagging_fraction': 0.9496766878447873, 'bagging_freq': 1, 'min_child_samples': 30, 'max_bin': 246}. Best is trial 269 with value: 0.42130153213850696.\u001b[0m\n"
     ]
    },
    {
     "name": "stdout",
     "output_type": "stream",
     "text": [
      "0.578698467861493\n"
     ]
    },
    {
     "name": "stderr",
     "output_type": "stream",
     "text": [
      "\u001b[32m[I 2022-04-28 15:37:39,326]\u001b[0m Trial 270 finished with value: 0.4232118439331267 and parameters: {'min_data_in_leaf': 22, 'min_data_in_bin': 32, 'min_gain_to_split': 0.33999999999999997, 'max_depth': 9, 'n_estimators': 431, 'boosting_type': 'dart', 'lambda_l1': 0.588858239428925, 'lambda_l2': 4.364384356751423, 'num_leaves': 218, 'feature_fraction': 0.7378255986629649, 'bagging_fraction': 0.9273940576183911, 'bagging_freq': 1, 'min_child_samples': 30, 'max_bin': 244}. Best is trial 269 with value: 0.42130153213850696.\u001b[0m\n"
     ]
    },
    {
     "name": "stdout",
     "output_type": "stream",
     "text": [
      "0.5767881560668733\n"
     ]
    },
    {
     "name": "stderr",
     "output_type": "stream",
     "text": [
      "\u001b[32m[I 2022-04-28 15:37:41,044]\u001b[0m Trial 271 finished with value: 0.42263003887515627 and parameters: {'min_data_in_leaf': 22, 'min_data_in_bin': 30, 'min_gain_to_split': 0.32, 'max_depth': 9, 'n_estimators': 430, 'boosting_type': 'dart', 'lambda_l1': 0.5581194696565609, 'lambda_l2': 4.298569412281839, 'num_leaves': 219, 'feature_fraction': 0.7365606504682077, 'bagging_fraction': 0.9331017423806282, 'bagging_freq': 1, 'min_child_samples': 30, 'max_bin': 244}. Best is trial 269 with value: 0.42130153213850696.\u001b[0m\n"
     ]
    },
    {
     "name": "stdout",
     "output_type": "stream",
     "text": [
      "0.5773699611248437\n"
     ]
    },
    {
     "name": "stderr",
     "output_type": "stream",
     "text": [
      "\u001b[32m[I 2022-04-28 15:37:42,341]\u001b[0m Trial 272 finished with value: 0.43228893621456477 and parameters: {'min_data_in_leaf': 24, 'min_data_in_bin': 36, 'min_gain_to_split': 0.33999999999999997, 'max_depth': 9, 'n_estimators': 428, 'boosting_type': 'dart', 'lambda_l1': 5.757805450778962, 'lambda_l2': 4.405560882958404, 'num_leaves': 219, 'feature_fraction': 0.7340047592533807, 'bagging_fraction': 0.9247364208138996, 'bagging_freq': 1, 'min_child_samples': 30, 'max_bin': 244}. Best is trial 269 with value: 0.42130153213850696.\u001b[0m\n"
     ]
    },
    {
     "name": "stdout",
     "output_type": "stream",
     "text": [
      "0.5677110637854352\n"
     ]
    },
    {
     "name": "stderr",
     "output_type": "stream",
     "text": [
      "\u001b[32m[I 2022-04-28 15:37:43,904]\u001b[0m Trial 273 finished with value: 0.4245776857537098 and parameters: {'min_data_in_leaf': 22, 'min_data_in_bin': 30, 'min_gain_to_split': 0.29000000000000004, 'max_depth': 9, 'n_estimators': 414, 'boosting_type': 'dart', 'lambda_l1': 0.5604214921024707, 'lambda_l2': 4.145775239034448, 'num_leaves': 228, 'feature_fraction': 0.7308802367906583, 'bagging_fraction': 0.9224739599318871, 'bagging_freq': 1, 'min_child_samples': 29, 'max_bin': 240}. Best is trial 269 with value: 0.42130153213850696.\u001b[0m\n"
     ]
    },
    {
     "name": "stdout",
     "output_type": "stream",
     "text": [
      "0.5754223142462902\n"
     ]
    },
    {
     "name": "stderr",
     "output_type": "stream",
     "text": [
      "\u001b[32m[I 2022-04-28 15:37:45,826]\u001b[0m Trial 274 finished with value: 0.42878410521026655 and parameters: {'min_data_in_leaf': 24, 'min_data_in_bin': 36, 'min_gain_to_split': 0.35, 'max_depth': 9, 'n_estimators': 440, 'boosting_type': 'dart', 'lambda_l1': 0.37749390880849265, 'lambda_l2': 4.767708976888608, 'num_leaves': 218, 'feature_fraction': 0.7530402294254271, 'bagging_fraction': 0.9296296547141416, 'bagging_freq': 1, 'min_child_samples': 31, 'max_bin': 246}. Best is trial 269 with value: 0.42130153213850696.\u001b[0m\n"
     ]
    },
    {
     "name": "stdout",
     "output_type": "stream",
     "text": [
      "0.5712158947897334\n"
     ]
    },
    {
     "name": "stderr",
     "output_type": "stream",
     "text": [
      "\u001b[32m[I 2022-04-28 15:37:47,269]\u001b[0m Trial 275 finished with value: 0.42491370150911534 and parameters: {'min_data_in_leaf': 22, 'min_data_in_bin': 28, 'min_gain_to_split': 0.24000000000000002, 'max_depth': 9, 'n_estimators': 428, 'boosting_type': 'dart', 'lambda_l1': 0.5866556630876767, 'lambda_l2': 4.4498643113792316, 'num_leaves': 21, 'feature_fraction': 0.7445396980858761, 'bagging_fraction': 0.9289358120575356, 'bagging_freq': 1, 'min_child_samples': 28, 'max_bin': 242}. Best is trial 269 with value: 0.42130153213850696.\u001b[0m\n"
     ]
    },
    {
     "name": "stdout",
     "output_type": "stream",
     "text": [
      "0.5750862984908847\n"
     ]
    },
    {
     "name": "stderr",
     "output_type": "stream",
     "text": [
      "\u001b[32m[I 2022-04-28 15:37:48,891]\u001b[0m Trial 276 finished with value: 0.4217713319446754 and parameters: {'min_data_in_leaf': 24, 'min_data_in_bin': 31, 'min_gain_to_split': 0.24000000000000002, 'max_depth': 9, 'n_estimators': 413, 'boosting_type': 'dart', 'lambda_l1': 0.45239967607541043, 'lambda_l2': 3.4250564189840573, 'num_leaves': 219, 'feature_fraction': 0.729024724485689, 'bagging_fraction': 0.9342755912459022, 'bagging_freq': 1, 'min_child_samples': 30, 'max_bin': 237}. Best is trial 269 with value: 0.42130153213850696.\u001b[0m\n"
     ]
    },
    {
     "name": "stdout",
     "output_type": "stream",
     "text": [
      "0.5782286680553246\n"
     ]
    },
    {
     "name": "stderr",
     "output_type": "stream",
     "text": [
      "\u001b[32m[I 2022-04-28 15:37:50,528]\u001b[0m Trial 277 finished with value: 0.4224091396285472 and parameters: {'min_data_in_leaf': 25, 'min_data_in_bin': 32, 'min_gain_to_split': 0.33999999999999997, 'max_depth': 9, 'n_estimators': 415, 'boosting_type': 'dart', 'lambda_l1': 0.4082081146355776, 'lambda_l2': 3.9293680010036596, 'num_leaves': 220, 'feature_fraction': 0.730362487229223, 'bagging_fraction': 0.9362114984260494, 'bagging_freq': 1, 'min_child_samples': 30, 'max_bin': 239}. Best is trial 269 with value: 0.42130153213850696.\u001b[0m\n"
     ]
    },
    {
     "name": "stdout",
     "output_type": "stream",
     "text": [
      "0.5775908603714528\n"
     ]
    },
    {
     "name": "stderr",
     "output_type": "stream",
     "text": [
      "\u001b[32m[I 2022-04-28 15:37:52,104]\u001b[0m Trial 278 finished with value: 0.42372831259421284 and parameters: {'min_data_in_leaf': 26, 'min_data_in_bin': 38, 'min_gain_to_split': 0.35, 'max_depth': 9, 'n_estimators': 415, 'boosting_type': 'dart', 'lambda_l1': 0.45761882391316067, 'lambda_l2': 4.059885980151578, 'num_leaves': 229, 'feature_fraction': 0.7257856131740226, 'bagging_fraction': 0.9336356186583418, 'bagging_freq': 1, 'min_child_samples': 31, 'max_bin': 237}. Best is trial 269 with value: 0.42130153213850696.\u001b[0m\n"
     ]
    },
    {
     "name": "stdout",
     "output_type": "stream",
     "text": [
      "0.5762716874057872\n"
     ]
    },
    {
     "name": "stderr",
     "output_type": "stream",
     "text": [
      "\u001b[32m[I 2022-04-28 15:37:53,782]\u001b[0m Trial 279 finished with value: 0.42215557218349575 and parameters: {'min_data_in_leaf': 25, 'min_data_in_bin': 33, 'min_gain_to_split': 0.26, 'max_depth': 9, 'n_estimators': 407, 'boosting_type': 'dart', 'lambda_l1': 0.347446094744125, 'lambda_l2': 3.4777839625733673, 'num_leaves': 221, 'feature_fraction': 0.7434038380367685, 'bagging_fraction': 0.9218209444842835, 'bagging_freq': 1, 'min_child_samples': 29, 'max_bin': 238}. Best is trial 269 with value: 0.42130153213850696.\u001b[0m\n"
     ]
    },
    {
     "name": "stdout",
     "output_type": "stream",
     "text": [
      "0.5778444278165042\n"
     ]
    },
    {
     "name": "stderr",
     "output_type": "stream",
     "text": [
      "\u001b[32m[I 2022-04-28 15:37:55,435]\u001b[0m Trial 280 finished with value: 0.42279960238135605 and parameters: {'min_data_in_leaf': 23, 'min_data_in_bin': 33, 'min_gain_to_split': 0.38, 'max_depth': 9, 'n_estimators': 404, 'boosting_type': 'dart', 'lambda_l1': 0.2879948441421147, 'lambda_l2': 3.3590285413252423, 'num_leaves': 220, 'feature_fraction': 0.7498559468599051, 'bagging_fraction': 0.9247243108169035, 'bagging_freq': 1, 'min_child_samples': 28, 'max_bin': 240}. Best is trial 269 with value: 0.42130153213850696.\u001b[0m\n"
     ]
    },
    {
     "name": "stdout",
     "output_type": "stream",
     "text": [
      "0.577200397618644\n"
     ]
    },
    {
     "name": "stderr",
     "output_type": "stream",
     "text": [
      "\u001b[32m[I 2022-04-28 15:37:57,201]\u001b[0m Trial 281 finished with value: 0.42759871629536406 and parameters: {'min_data_in_leaf': 24, 'min_data_in_bin': 37, 'min_gain_to_split': 0.37, 'max_depth': 9, 'n_estimators': 403, 'boosting_type': 'dart', 'lambda_l1': 0.3132788185669406, 'lambda_l2': 3.3076053851224136, 'num_leaves': 219, 'feature_fraction': 0.7646217466185947, 'bagging_fraction': 0.9282823671228055, 'bagging_freq': 1, 'min_child_samples': 28, 'max_bin': 238}. Best is trial 269 with value: 0.42130153213850696.\u001b[0m\n"
     ]
    },
    {
     "name": "stdout",
     "output_type": "stream",
     "text": [
      "0.5724012837046359\n"
     ]
    },
    {
     "name": "stderr",
     "output_type": "stream",
     "text": [
      "\u001b[32m[I 2022-04-28 15:37:58,962]\u001b[0m Trial 282 finished with value: 0.42744782033113093 and parameters: {'min_data_in_leaf': 23, 'min_data_in_bin': 34, 'min_gain_to_split': 0.39, 'max_depth': 9, 'n_estimators': 411, 'boosting_type': 'dart', 'lambda_l1': 0.31685708901272747, 'lambda_l2': 3.6387726502753712, 'num_leaves': 222, 'feature_fraction': 0.7517076657218862, 'bagging_fraction': 0.9422038201798238, 'bagging_freq': 1, 'min_child_samples': 29, 'max_bin': 241}. Best is trial 269 with value: 0.42130153213850696.\u001b[0m\n"
     ]
    },
    {
     "name": "stdout",
     "output_type": "stream",
     "text": [
      "0.5725521796688691\n"
     ]
    },
    {
     "name": "stderr",
     "output_type": "stream",
     "text": [
      "\u001b[32m[I 2022-04-28 15:38:00,488]\u001b[0m Trial 283 finished with value: 0.42270470904302404 and parameters: {'min_data_in_leaf': 25, 'min_data_in_bin': 33, 'min_gain_to_split': 0.29000000000000004, 'max_depth': 9, 'n_estimators': 398, 'boosting_type': 'dart', 'lambda_l1': 0.571673425288389, 'lambda_l2': 3.706977050565229, 'num_leaves': 216, 'feature_fraction': 0.7462940586053679, 'bagging_fraction': 0.9245675658776717, 'bagging_freq': 1, 'min_child_samples': 25, 'max_bin': 234}. Best is trial 269 with value: 0.42130153213850696.\u001b[0m\n"
     ]
    },
    {
     "name": "stdout",
     "output_type": "stream",
     "text": [
      "0.577295290956976\n"
     ]
    },
    {
     "name": "stderr",
     "output_type": "stream",
     "text": [
      "\u001b[32m[I 2022-04-28 15:38:02,088]\u001b[0m Trial 284 finished with value: 0.423214955190121 and parameters: {'min_data_in_leaf': 25, 'min_data_in_bin': 33, 'min_gain_to_split': 0.30000000000000004, 'max_depth': 9, 'n_estimators': 402, 'boosting_type': 'dart', 'lambda_l1': 0.3551506610125947, 'lambda_l2': 3.6430849286392117, 'num_leaves': 217, 'feature_fraction': 0.7434216115519717, 'bagging_fraction': 0.9194335555031824, 'bagging_freq': 1, 'min_child_samples': 24, 'max_bin': 235}. Best is trial 269 with value: 0.42130153213850696.\u001b[0m\n"
     ]
    },
    {
     "name": "stdout",
     "output_type": "stream",
     "text": [
      "0.576785044809879\n"
     ]
    },
    {
     "name": "stderr",
     "output_type": "stream",
     "text": [
      "\u001b[32m[I 2022-04-28 15:38:03,314]\u001b[0m Trial 285 finished with value: 0.43310875243261404 and parameters: {'min_data_in_leaf': 25, 'min_data_in_bin': 33, 'min_gain_to_split': 1.9800000000000002, 'max_depth': 9, 'n_estimators': 396, 'boosting_type': 'dart', 'lambda_l1': 0.30981338948728976, 'lambda_l2': 3.6378601197338165, 'num_leaves': 216, 'feature_fraction': 0.7439990060992999, 'bagging_fraction': 0.9185964708701848, 'bagging_freq': 1, 'min_child_samples': 23, 'max_bin': 235}. Best is trial 269 with value: 0.42130153213850696.\u001b[0m\n"
     ]
    },
    {
     "name": "stdout",
     "output_type": "stream",
     "text": [
      "0.566891247567386\n"
     ]
    },
    {
     "name": "stderr",
     "output_type": "stream",
     "text": [
      "\u001b[32m[I 2022-04-28 15:38:04,894]\u001b[0m Trial 286 finished with value: 0.42408610714857975 and parameters: {'min_data_in_leaf': 25, 'min_data_in_bin': 28, 'min_gain_to_split': 0.41000000000000003, 'max_depth': 9, 'n_estimators': 401, 'boosting_type': 'dart', 'lambda_l1': 0.5722819567612635, 'lambda_l2': 2.6657478013568574, 'num_leaves': 222, 'feature_fraction': 0.741366162935428, 'bagging_fraction': 0.9229867011207096, 'bagging_freq': 1, 'min_child_samples': 25, 'max_bin': 237}. Best is trial 269 with value: 0.42130153213850696.\u001b[0m\n"
     ]
    },
    {
     "name": "stdout",
     "output_type": "stream",
     "text": [
      "0.5759138928514203\n"
     ]
    },
    {
     "name": "stderr",
     "output_type": "stream",
     "text": [
      "\u001b[32m[I 2022-04-28 15:38:06,723]\u001b[0m Trial 287 finished with value: 0.42707446949179184 and parameters: {'min_data_in_leaf': 23, 'min_data_in_bin': 34, 'min_gain_to_split': 0.30000000000000004, 'max_depth': 9, 'n_estimators': 417, 'boosting_type': 'dart', 'lambda_l1': 0.2871763035377193, 'lambda_l2': 3.814974835067482, 'num_leaves': 216, 'feature_fraction': 0.7578952280576, 'bagging_fraction': 0.9253278856349741, 'bagging_freq': 1, 'min_child_samples': 24, 'max_bin': 232}. Best is trial 269 with value: 0.42130153213850696.\u001b[0m\n"
     ]
    },
    {
     "name": "stdout",
     "output_type": "stream",
     "text": [
      "0.5729255305082082\n"
     ]
    },
    {
     "name": "stderr",
     "output_type": "stream",
     "text": [
      "\u001b[32m[I 2022-04-28 15:38:08,329]\u001b[0m Trial 288 finished with value: 0.42739492896222475 and parameters: {'min_data_in_leaf': 27, 'min_data_in_bin': 38, 'min_gain_to_split': 0.32, 'max_depth': 9, 'n_estimators': 386, 'boosting_type': 'dart', 'lambda_l1': 0.5905021737535969, 'lambda_l2': 3.3452725180548835, 'num_leaves': 226, 'feature_fraction': 0.7759129034784802, 'bagging_fraction': 0.9191902678067502, 'bagging_freq': 1, 'min_child_samples': 26, 'max_bin': 238}. Best is trial 269 with value: 0.42130153213850696.\u001b[0m\n"
     ]
    },
    {
     "name": "stdout",
     "output_type": "stream",
     "text": [
      "0.5726050710377752\n"
     ]
    },
    {
     "name": "stderr",
     "output_type": "stream",
     "text": [
      "\u001b[32m[I 2022-04-28 15:38:09,810]\u001b[0m Trial 289 finished with value: 0.42634954661207436 and parameters: {'min_data_in_leaf': 23, 'min_data_in_bin': 28, 'min_gain_to_split': 0.39, 'max_depth': 9, 'n_estimators': 402, 'boosting_type': 'dart', 'lambda_l1': 0.4624931064609638, 'lambda_l2': 4.311087050947338, 'num_leaves': 216, 'feature_fraction': 0.7321155543558282, 'bagging_fraction': 0.9177854846012731, 'bagging_freq': 2, 'min_child_samples': 22, 'max_bin': 233}. Best is trial 269 with value: 0.42130153213850696.\u001b[0m\n"
     ]
    },
    {
     "name": "stdout",
     "output_type": "stream",
     "text": [
      "0.5736504533879256\n"
     ]
    },
    {
     "name": "stderr",
     "output_type": "stream",
     "text": [
      "\u001b[32m[I 2022-04-28 15:38:11,173]\u001b[0m Trial 290 finished with value: 0.4283220835465842 and parameters: {'min_data_in_leaf': 25, 'min_data_in_bin': 25, 'min_gain_to_split': 0.28, 'max_depth': 9, 'n_estimators': 423, 'boosting_type': 'dart', 'lambda_l1': 3.542285983619966, 'lambda_l2': 2.982838600907018, 'num_leaves': 222, 'feature_fraction': 0.7432180142621769, 'bagging_fraction': 0.9332228359197772, 'bagging_freq': 1, 'min_child_samples': 27, 'max_bin': 244}. Best is trial 269 with value: 0.42130153213850696.\u001b[0m\n"
     ]
    },
    {
     "name": "stdout",
     "output_type": "stream",
     "text": [
      "0.5716779164534158\n"
     ]
    },
    {
     "name": "stderr",
     "output_type": "stream",
     "text": [
      "\u001b[32m[I 2022-04-28 15:38:12,798]\u001b[0m Trial 291 finished with value: 0.4257599634116178 and parameters: {'min_data_in_leaf': 22, 'min_data_in_bin': 40, 'min_gain_to_split': 0.27, 'max_depth': 9, 'n_estimators': 392, 'boosting_type': 'dart', 'lambda_l1': 0.26700654130318335, 'lambda_l2': 4.735496003787789, 'num_leaves': 213, 'feature_fraction': 0.7649749100401976, 'bagging_fraction': 0.9399786864632524, 'bagging_freq': 1, 'min_child_samples': 29, 'max_bin': 32}. Best is trial 269 with value: 0.42130153213850696.\u001b[0m\n"
     ]
    },
    {
     "name": "stdout",
     "output_type": "stream",
     "text": [
      "0.5742400365883822\n"
     ]
    },
    {
     "name": "stderr",
     "output_type": "stream",
     "text": [
      "\u001b[32m[I 2022-04-28 15:38:14,302]\u001b[0m Trial 292 finished with value: 0.43005972057800923 and parameters: {'min_data_in_leaf': 18, 'min_data_in_bin': 32, 'min_gain_to_split': 0.42000000000000004, 'max_depth': 9, 'n_estimators': 368, 'boosting_type': 'dart', 'lambda_l1': 0.4681140214383709, 'lambda_l2': 3.909394040914144, 'num_leaves': 220, 'feature_fraction': 0.7501836268606344, 'bagging_fraction': 0.9215743252297974, 'bagging_freq': 1, 'min_child_samples': 27, 'max_bin': 41}. Best is trial 269 with value: 0.42130153213850696.\u001b[0m\n"
     ]
    },
    {
     "name": "stdout",
     "output_type": "stream",
     "text": [
      "0.5699402794219908\n"
     ]
    },
    {
     "name": "stderr",
     "output_type": "stream",
     "text": [
      "\u001b[32m[I 2022-04-28 15:38:15,978]\u001b[0m Trial 293 finished with value: 0.4218568915120242 and parameters: {'min_data_in_leaf': 26, 'min_data_in_bin': 27, 'min_gain_to_split': 0.27, 'max_depth': 9, 'n_estimators': 406, 'boosting_type': 'dart', 'lambda_l1': 0.6405501994900915, 'lambda_l2': 3.1287534473079845, 'num_leaves': 226, 'feature_fraction': 0.7260623327620442, 'bagging_fraction': 0.9391685571608529, 'bagging_freq': 1, 'min_child_samples': 25, 'max_bin': 239}. Best is trial 269 with value: 0.42130153213850696.\u001b[0m\n"
     ]
    },
    {
     "name": "stdout",
     "output_type": "stream",
     "text": [
      "0.5781431084879758\n"
     ]
    },
    {
     "name": "stderr",
     "output_type": "stream",
     "text": [
      "\u001b[32m[I 2022-04-28 15:38:17,558]\u001b[0m Trial 294 finished with value: 0.4243816765630566 and parameters: {'min_data_in_leaf': 25, 'min_data_in_bin': 31, 'min_gain_to_split': 0.36, 'max_depth': 9, 'n_estimators': 404, 'boosting_type': 'dart', 'lambda_l1': 0.6196165989588484, 'lambda_l2': 3.163561410091331, 'num_leaves': 227, 'feature_fraction': 0.7268100314958332, 'bagging_fraction': 0.935505954899395, 'bagging_freq': 1, 'min_child_samples': 24, 'max_bin': 240}. Best is trial 269 with value: 0.42130153213850696.\u001b[0m\n"
     ]
    },
    {
     "name": "stdout",
     "output_type": "stream",
     "text": [
      "0.5756183234369434\n"
     ]
    },
    {
     "name": "stderr",
     "output_type": "stream",
     "text": [
      "\u001b[32m[I 2022-04-28 15:38:19,272]\u001b[0m Trial 295 finished with value: 0.421799333257626 and parameters: {'min_data_in_leaf': 22, 'min_data_in_bin': 39, 'min_gain_to_split': 0.26, 'max_depth': 9, 'n_estimators': 412, 'boosting_type': 'dart', 'lambda_l1': 0.5983116397666515, 'lambda_l2': 3.5521452333177543, 'num_leaves': 215, 'feature_fraction': 0.7389000502607111, 'bagging_fraction': 0.9080261630553276, 'bagging_freq': 1, 'min_child_samples': 22, 'max_bin': 231}. Best is trial 269 with value: 0.42130153213850696.\u001b[0m\n"
     ]
    },
    {
     "name": "stdout",
     "output_type": "stream",
     "text": [
      "0.578200666742374\n"
     ]
    },
    {
     "name": "stderr",
     "output_type": "stream",
     "text": [
      "\u001b[32m[I 2022-04-28 15:38:20,324]\u001b[0m Trial 296 finished with value: 0.44153248074520834 and parameters: {'min_data_in_leaf': 27, 'min_data_in_bin': 39, 'min_gain_to_split': 3.58, 'max_depth': 9, 'n_estimators': 410, 'boosting_type': 'dart', 'lambda_l1': 0.5944740218952277, 'lambda_l2': 3.5569539461846262, 'num_leaves': 215, 'feature_fraction': 0.7393011075223311, 'bagging_fraction': 0.9156234004346313, 'bagging_freq': 1, 'min_child_samples': 23, 'max_bin': 232}. Best is trial 269 with value: 0.42130153213850696.\u001b[0m\n"
     ]
    },
    {
     "name": "stdout",
     "output_type": "stream",
     "text": [
      "0.5584675192547917\n"
     ]
    },
    {
     "name": "stderr",
     "output_type": "stream",
     "text": [
      "\u001b[32m[I 2022-04-28 15:38:21,890]\u001b[0m Trial 297 finished with value: 0.423320737927934 and parameters: {'min_data_in_leaf': 23, 'min_data_in_bin': 35, 'min_gain_to_split': 0.43000000000000005, 'max_depth': 9, 'n_estimators': 399, 'boosting_type': 'dart', 'lambda_l1': 0.35198185408662125, 'lambda_l2': 3.7887501656684175, 'num_leaves': 218, 'feature_fraction': 0.7252498353361728, 'bagging_fraction': 0.9122187043995729, 'bagging_freq': 1, 'min_child_samples': 25, 'max_bin': 236}. Best is trial 269 with value: 0.42130153213850696.\u001b[0m\n"
     ]
    },
    {
     "name": "stdout",
     "output_type": "stream",
     "text": [
      "0.576679262072066\n"
     ]
    },
    {
     "name": "stderr",
     "output_type": "stream",
     "text": [
      "\u001b[32m[I 2022-04-28 15:38:23,832]\u001b[0m Trial 298 finished with value: 0.42783983871243736 and parameters: {'min_data_in_leaf': 23, 'min_data_in_bin': 36, 'min_gain_to_split': 0.43000000000000005, 'max_depth': 9, 'n_estimators': 399, 'boosting_type': 'dart', 'lambda_l1': 0.29149140432205545, 'lambda_l2': 2.9171230989373917, 'num_leaves': 230, 'feature_fraction': 0.7584451661828406, 'bagging_fraction': 0.9029432114511973, 'bagging_freq': 1, 'min_child_samples': 22, 'max_bin': 235}. Best is trial 269 with value: 0.42130153213850696.\u001b[0m\n"
     ]
    },
    {
     "name": "stdout",
     "output_type": "stream",
     "text": [
      "0.5721601612875626\n"
     ]
    },
    {
     "name": "stderr",
     "output_type": "stream",
     "text": [
      "\u001b[32m[I 2022-04-28 15:38:25,706]\u001b[0m Trial 299 finished with value: 0.42123308448462815 and parameters: {'min_data_in_leaf': 22, 'min_data_in_bin': 40, 'min_gain_to_split': 0.4, 'max_depth': 9, 'n_estimators': 414, 'boosting_type': 'dart', 'lambda_l1': 0.21640017597591787, 'lambda_l2': 3.792856384163781, 'num_leaves': 220, 'feature_fraction': 0.7264110199705672, 'bagging_fraction': 0.9082967052696642, 'bagging_freq': 1, 'min_child_samples': 25, 'max_bin': 238}. Best is trial 299 with value: 0.42123308448462815.\u001b[0m\n"
     ]
    },
    {
     "name": "stdout",
     "output_type": "stream",
     "text": [
      "0.5787669155153718\n",
      "Fit best model...\n",
      "Calculate metrics...\n",
      "0.6434085500298097\n"
     ]
    },
    {
     "data": {
      "text/plain": [
       "{'best_features': array(['industry', 'crd_ever_nflag', 'lifetime_days',\n",
       "        'sd_name_age_segment_cd', 'srv_thanks_nflag', 'crd_dc_lst_ips_cd'],\n",
       "       dtype=object),\n",
       " 'best_params': {'boosting_type': 'dart',\n",
       "  'class_weight': None,\n",
       "  'colsample_bytree': 1.0,\n",
       "  'importance_type': 'split',\n",
       "  'learning_rate': 0.03,\n",
       "  'max_depth': 9,\n",
       "  'min_child_samples': 25,\n",
       "  'min_child_weight': 0.001,\n",
       "  'min_split_gain': 0.0,\n",
       "  'n_estimators': 414,\n",
       "  'n_jobs': 4,\n",
       "  'num_leaves': 220,\n",
       "  'objective': 'binary',\n",
       "  'random_state': 42,\n",
       "  'reg_alpha': 0.0,\n",
       "  'reg_lambda': 0.0,\n",
       "  'silent': True,\n",
       "  'subsample': 1.0,\n",
       "  'subsample_for_bin': 200000,\n",
       "  'subsample_freq': 0,\n",
       "  'min_data_in_leaf': 22,\n",
       "  'min_data_in_bin': 40,\n",
       "  'min_gain_to_split': 0.4,\n",
       "  'metric': 'binary_logloss',\n",
       "  'verbosity': -1,\n",
       "  'lambda_l1': 0.21640017597591787,\n",
       "  'lambda_l2': 3.792856384163781,\n",
       "  'feature_fraction': 0.7264110199705672,\n",
       "  'bagging_fraction': 0.9082967052696642,\n",
       "  'bagging_freq': 1,\n",
       "  'max_bin': 238,\n",
       "  'verbose': -1,\n",
       "  'verbose_eval': -1},\n",
       " 'result_metrics': {'train metric': 0.6434085500298097}}"
      ]
     },
     "execution_count": 126,
     "metadata": {},
     "output_type": "execute_result"
    },
    {
     "data": {
      "image/png": "[encoded data removed]",
      "text/plain": [
       "<Figure size 1008x720 with 1 Axes>"
      ]
     },
     "metadata": {
      "needs_background": "light"
     },
     "output_type": "display_data"
    }
   ],
   "source": [
    "autoaltmode.alternative_modeling(max_feature=6)"
   ]
  },
  {
   "cell_type": "code",
   "execution_count": 127,
   "id": "8c084fcd-c62b-40b1-ad10-2c67a7dd4971",
   "metadata": {},
   "outputs": [
    {
     "data": {
      "text/plain": [
       "0.42358711926523474"
      ]
     },
     "execution_count": 127,
     "metadata": {},
     "output_type": "execute_result"
    }
   ],
   "source": [
    "make_scorer(gini_score, needs_proba=True)(autoaltmode.model, encoded_oos_x, oos_y)"
   ]
  },
  {
   "cell_type": "code",
   "execution_count": 128,
   "id": "ec3e5609-bcd8-4136-b601-8e5c364d3b11",
   "metadata": {},
   "outputs": [],
   "source": [
    "import catboost as cb"
   ]
  },
  {
   "cell_type": "code",
   "execution_count": 131,
   "id": "18121433-6af9-4aea-99ce-6b3ce578f8df",
   "metadata": {},
   "outputs": [
    {
     "data": {
      "text/plain": [
       "<catboost.core.CatBoostClassifier at 0x7fa8b69b65f8>"
      ]
     },
     "execution_count": 131,
     "metadata": {},
     "output_type": "execute_result"
    }
   ],
   "source": [
    "cb_model = cb.CatBoostClassifier(verbose=0)\n",
    "cb_model.fit(encoded_train_x, train_y)"
   ]
  },
  {
   "cell_type": "code",
   "execution_count": 136,
   "id": "c35e8380-0445-45fa-b691-323d36605bd2",
   "metadata": {},
   "outputs": [],
   "source": [
    "from sklearn.model_selection import train_test_split\n",
    "\n",
    "encoded_cb_train_x, encoded_cb_valid_x, cb_train_y, cb_valid_y = train_test_split(encoded_train_x, train_y)"
   ]
  },
  {
   "cell_type": "code",
   "execution_count": 146,
   "id": "50ad297c-bed0-4796-84bf-b1f8095dcd26",
   "metadata": {},
   "outputs": [],
   "source": [
    "import optuna\n",
    "\n",
    "def cb_params(trial) -> dict:\n",
    "    grow_policy = ['SymmetricTree', 'Depthwise', 'Lossguide']\n",
    "    param = {\n",
    "        'iterations': trial.suggest_int('iterations', 100, 500),\n",
    "        \"learning_rate\": trial.suggest_float(\"learning_rate\", 0.001, 0.1),\n",
    "        # \"rsm\": trial.suggest_uniform(\"rsm\", 0.4, 1.0),  # same 'colsample_bylevel'\n",
    "        \"l2_leaf_reg\": trial.suggest_float(\"l2_leaf_reg\", 1e-8, 10.0),\n",
    "        \"min_data_in_leaf\": trial.suggest_int('min_data_in_leaf', 1, 100),\n",
    "        \"random_strength\": trial.suggest_uniform(\"random_strength\", 0., 10.0),\n",
    "        \"bootstrap_type\": trial.suggest_categorical(\"bootstrap_type\", ['Bayesian', 'Bernoulli']),  # Poisson - only GPU\n",
    "        \"grow_policy\": trial.suggest_categorical(\"grow_policy\", grow_policy),\n",
    "        #'loss_function': trial.suggest_categorical('loss_function', ['Logloss', 'CrossEntropy']),\n",
    "        \"leaf_estimation_method\": trial.suggest_categorical(\"leaf_estimation_method\", ['Newton', 'Gradient']),\n",
    "        \"leaf_estimation_iterations\": trial.suggest_int(\"leaf_estimation_iterations\", 1, 7),\n",
    "#         \"nan_mode\": trial.suggest_categorical(\"nan_mode\", ['Min', 'Max']),\n",
    "        \"fold_permutation_block\": trial.suggest_int(\"fold_permutation_block\", 1, 10),\n",
    "        'verbose': 0,  # same 'logging_level'\n",
    "    }\n",
    "\n",
    "    # TODO: Понять как, а главное зачем, нужно в корячить еще 2 гиперпараметра \"sampling_frequency\" и \"sampling_unit\"\n",
    "    #     param[\"sampling_frequency\"] = trial.suggest_categorical(\"sampling_frequency\", ['PerTree'])\n",
    "\n",
    "    if param[\"grow_policy\"] == 'Lossguide':\n",
    "        param[\"max_leaves\"] = trial.suggest_int(\"max_leaves\", 16, 256)\n",
    "        param[\"depth\"] = trial.suggest_int(\"depth\", 6, 24)\n",
    "    else:\n",
    "        param[\"depth\"] = trial.suggest_int(\"depth\", 1, 10)\n",
    "    #     param[\"sampling_frequency\"] = trial.suggest_categorical(\"sampling_frequency\", ['PerTree'])\n",
    "    # else:\n",
    "    #     choice = np.random.choice([0, 1])\n",
    "    #     if choice == 0:\n",
    "    #         param[\"sampling_frequency\"] = trial.suggest_categorical(\"sampling_frequency\", ['PerTreeLevel'])\n",
    "    #     else:\n",
    "    #         param[\"sampling_frequency\"] = trial.suggest_categorical(\"sampling_frequency\", ['PerTree'])\n",
    "\n",
    "    if param[\"bootstrap_type\"] == 'Bayesian':\n",
    "        param[\"bagging_temperature\"] = trial.suggest_uniform(\"bagging_temperature\", 0., 10.)\n",
    "    else:\n",
    "        param[\"subsample\"] = trial.suggest_uniform(\"subsample\", 0.4, 1.0)\n",
    "\n",
    "    return param\n",
    "\n",
    "def objective(trial):\n",
    "    params = cb_params(trial)\n",
    "    model = cb.CatBoostClassifier(**params, random_seed=0)\n",
    "    return cross_val_score(estimator=model, X=encoded_train_x, y=train_y, scoring=make_scorer(gini_score, needs_proba=True), cv=3, n_jobs=7).mean()"
   ]
  },
  {
   "cell_type": "code",
   "execution_count": 152,
   "id": "da8db5c0-f188-4ca6-8fa1-eb5b67a5d3a9",
   "metadata": {
    "collapsed": true,
    "jupyter": {
     "outputs_hidden": true
    },
    "tags": []
   },
   "outputs": [
    {
     "name": "stderr",
     "output_type": "stream",
     "text": [
      "\u001b[32m[I 2022-04-28 16:18:05,025]\u001b[0m A new study created in memory with name: no-name-d71c4eca-3dd0-4c01-89be-4a1d21a7915d\u001b[0m\n",
      "\u001b[32m[I 2022-04-28 16:18:06,156]\u001b[0m Trial 0 finished with value: 0.5862318039534858 and parameters: {'iterations': 452, 'learning_rate': 0.04942105114986946, 'l2_leaf_reg': 1.1333917088034557, 'min_data_in_leaf': 81, 'random_strength': 8.7670335532897, 'bootstrap_type': 'Bernoulli', 'grow_policy': 'SymmetricTree', 'leaf_estimation_method': 'Newton', 'leaf_estimation_iterations': 1, 'fold_permutation_block': 2, 'depth': 7, 'subsample': 0.7789002717077218}. Best is trial 0 with value: 0.5862318039534858.\u001b[0m\n",
      "\u001b[32m[I 2022-04-28 16:18:10,256]\u001b[0m Trial 1 finished with value: 0.5960396286613445 and parameters: {'iterations': 238, 'learning_rate': 0.03251979464781557, 'l2_leaf_reg': 8.249699672007326, 'min_data_in_leaf': 53, 'random_strength': 0.08442572908141988, 'bootstrap_type': 'Bayesian', 'grow_policy': 'Lossguide', 'leaf_estimation_method': 'Gradient', 'leaf_estimation_iterations': 2, 'fold_permutation_block': 2, 'max_leaves': 205, 'depth': 17, 'bagging_temperature': 5.758921485840548}. Best is trial 0 with value: 0.5862318039534858.\u001b[0m\n",
      "\u001b[32m[I 2022-04-28 16:18:11,065]\u001b[0m Trial 2 finished with value: 0.5926710959979231 and parameters: {'iterations': 124, 'learning_rate': 0.033990709151776224, 'l2_leaf_reg': 4.277908536096963, 'min_data_in_leaf': 89, 'random_strength': 0.7163029990067027, 'bootstrap_type': 'Bernoulli', 'grow_policy': 'Lossguide', 'leaf_estimation_method': 'Newton', 'leaf_estimation_iterations': 4, 'fold_permutation_block': 7, 'max_leaves': 35, 'depth': 24, 'subsample': 0.8138728312299854}. Best is trial 0 with value: 0.5862318039534858.\u001b[0m\n",
      "\u001b[32m[I 2022-04-28 16:18:13,930]\u001b[0m Trial 3 finished with value: 0.5824659744792047 and parameters: {'iterations': 492, 'learning_rate': 0.022940145059321508, 'l2_leaf_reg': 4.084780696698928, 'min_data_in_leaf': 55, 'random_strength': 6.41603697989567, 'bootstrap_type': 'Bernoulli', 'grow_policy': 'Lossguide', 'leaf_estimation_method': 'Gradient', 'leaf_estimation_iterations': 3, 'fold_permutation_block': 3, 'max_leaves': 32, 'depth': 16, 'subsample': 0.805771442185137}. Best is trial 3 with value: 0.5824659744792047.\u001b[0m\n",
      "\u001b[32m[I 2022-04-28 16:18:16,053]\u001b[0m Trial 4 finished with value: 0.5860849676648494 and parameters: {'iterations': 392, 'learning_rate': 0.03719998282893473, 'l2_leaf_reg': 0.41395145872004646, 'min_data_in_leaf': 66, 'random_strength': 3.789273372095768, 'bootstrap_type': 'Bayesian', 'grow_policy': 'Lossguide', 'leaf_estimation_method': 'Gradient', 'leaf_estimation_iterations': 2, 'fold_permutation_block': 8, 'max_leaves': 26, 'depth': 10, 'bagging_temperature': 2.713218936419912}. Best is trial 3 with value: 0.5824659744792047.\u001b[0m\n",
      "\u001b[32m[I 2022-04-28 16:18:16,431]\u001b[0m Trial 5 finished with value: 0.4083173047050163 and parameters: {'iterations': 149, 'learning_rate': 0.08432831388010091, 'l2_leaf_reg': 9.003363959384991, 'min_data_in_leaf': 31, 'random_strength': 8.820220412155411, 'bootstrap_type': 'Bayesian', 'grow_policy': 'Depthwise', 'leaf_estimation_method': 'Gradient', 'leaf_estimation_iterations': 4, 'fold_permutation_block': 7, 'depth': 1, 'bagging_temperature': 9.641629194345121}. Best is trial 5 with value: 0.4083173047050163.\u001b[0m\n",
      "\u001b[32m[I 2022-04-28 16:18:17,241]\u001b[0m Trial 6 finished with value: 0.5391363969154218 and parameters: {'iterations': 340, 'learning_rate': 0.06038723140738083, 'l2_leaf_reg': 7.8094361180538465, 'min_data_in_leaf': 48, 'random_strength': 7.1408574523889525, 'bootstrap_type': 'Bayesian', 'grow_policy': 'SymmetricTree', 'leaf_estimation_method': 'Newton', 'leaf_estimation_iterations': 5, 'fold_permutation_block': 5, 'depth': 2, 'bagging_temperature': 5.648211299782919}. Best is trial 5 with value: 0.4083173047050163.\u001b[0m\n",
      "\u001b[32m[I 2022-04-28 16:18:19,091]\u001b[0m Trial 7 finished with value: 0.5883171063566947 and parameters: {'iterations': 472, 'learning_rate': 0.057438970948818925, 'l2_leaf_reg': 8.311365256411326, 'min_data_in_leaf': 24, 'random_strength': 8.385329845857232, 'bootstrap_type': 'Bernoulli', 'grow_policy': 'SymmetricTree', 'leaf_estimation_method': 'Gradient', 'leaf_estimation_iterations': 1, 'fold_permutation_block': 9, 'depth': 10, 'subsample': 0.44497998061077815}. Best is trial 5 with value: 0.4083173047050163.\u001b[0m\n",
      "\u001b[32m[I 2022-04-28 16:18:20,348]\u001b[0m Trial 8 finished with value: 0.5850166579456307 and parameters: {'iterations': 199, 'learning_rate': 0.05167359333583526, 'l2_leaf_reg': 3.230170722605379, 'min_data_in_leaf': 22, 'random_strength': 2.5266943080257054, 'bootstrap_type': 'Bayesian', 'grow_policy': 'Lossguide', 'leaf_estimation_method': 'Newton', 'leaf_estimation_iterations': 1, 'fold_permutation_block': 3, 'max_leaves': 40, 'depth': 6, 'bagging_temperature': 5.242602010650722}. Best is trial 5 with value: 0.4083173047050163.\u001b[0m\n",
      "\u001b[32m[I 2022-04-28 16:18:23,835]\u001b[0m Trial 9 finished with value: 0.5951255492986953 and parameters: {'iterations': 237, 'learning_rate': 0.04156328122627487, 'l2_leaf_reg': 4.297060266877103, 'min_data_in_leaf': 49, 'random_strength': 2.2383194170908807, 'bootstrap_type': 'Bayesian', 'grow_policy': 'Lossguide', 'leaf_estimation_method': 'Gradient', 'leaf_estimation_iterations': 2, 'fold_permutation_block': 2, 'max_leaves': 136, 'depth': 12, 'bagging_temperature': 4.076744265194387}. Best is trial 5 with value: 0.4083173047050163.\u001b[0m\n",
      "\u001b[32m[I 2022-04-28 16:18:24,222]\u001b[0m Trial 10 finished with value: 0.4129137586889427 and parameters: {'iterations': 112, 'learning_rate': 0.09290352187250317, 'l2_leaf_reg': 9.786092758745173, 'min_data_in_leaf': 7, 'random_strength': 9.625727789335158, 'bootstrap_type': 'Bayesian', 'grow_policy': 'Depthwise', 'leaf_estimation_method': 'Gradient', 'leaf_estimation_iterations': 7, 'fold_permutation_block': 10, 'depth': 1, 'bagging_temperature': 9.857435406951303}. Best is trial 5 with value: 0.4083173047050163.\u001b[0m\n",
      "\u001b[32m[I 2022-04-28 16:18:24,582]\u001b[0m Trial 11 finished with value: 0.41975881377676433 and parameters: {'iterations': 115, 'learning_rate': 0.09733273415794749, 'l2_leaf_reg': 9.847186825660994, 'min_data_in_leaf': 2, 'random_strength': 9.761792116364541, 'bootstrap_type': 'Bayesian', 'grow_policy': 'Depthwise', 'leaf_estimation_method': 'Gradient', 'leaf_estimation_iterations': 7, 'fold_permutation_block': 10, 'depth': 1, 'bagging_temperature': 9.95771129858923}. Best is trial 5 with value: 0.4083173047050163.\u001b[0m\n",
      "\u001b[32m[I 2022-04-28 16:18:24,992]\u001b[0m Trial 12 finished with value: 0.5272627303402757 and parameters: {'iterations': 103, 'learning_rate': 0.0919006398828915, 'l2_leaf_reg': 9.81762864580448, 'min_data_in_leaf': 10, 'random_strength': 9.813131061351212, 'bootstrap_type': 'Bayesian', 'grow_policy': 'Depthwise', 'leaf_estimation_method': 'Gradient', 'leaf_estimation_iterations': 7, 'fold_permutation_block': 7, 'depth': 3, 'bagging_temperature': 9.680246983107}. Best is trial 5 with value: 0.4083173047050163.\u001b[0m\n",
      "\u001b[32m[I 2022-04-28 16:18:25,833]\u001b[0m Trial 13 finished with value: 0.5711360081384833 and parameters: {'iterations': 167, 'learning_rate': 0.0805648839367012, 'l2_leaf_reg': 6.719257090745971, 'min_data_in_leaf': 31, 'random_strength': 5.968263181721983, 'bootstrap_type': 'Bayesian', 'grow_policy': 'Depthwise', 'leaf_estimation_method': 'Gradient', 'leaf_estimation_iterations': 6, 'fold_permutation_block': 10, 'depth': 4, 'bagging_temperature': 8.458793614585664}. Best is trial 5 with value: 0.4083173047050163.\u001b[0m\n",
      "\u001b[32m[I 2022-04-28 16:18:26,274]\u001b[0m Trial 14 finished with value: 0.4201576550887682 and parameters: {'iterations': 160, 'learning_rate': 0.0807722817584686, 'l2_leaf_reg': 6.422920944191031, 'min_data_in_leaf': 2, 'random_strength': 7.935917846597599, 'bootstrap_type': 'Bayesian', 'grow_policy': 'Depthwise', 'leaf_estimation_method': 'Gradient', 'leaf_estimation_iterations': 5, 'fold_permutation_block': 5, 'depth': 1, 'bagging_temperature': 7.795942412396407}. Best is trial 5 with value: 0.4083173047050163.\u001b[0m\n",
      "\u001b[32m[I 2022-04-28 16:18:27,245]\u001b[0m Trial 15 finished with value: 0.5774179964754517 and parameters: {'iterations': 292, 'learning_rate': 0.07342817073338258, 'l2_leaf_reg': 9.87349675390066, 'min_data_in_leaf': 34, 'random_strength': 9.957876239103564, 'bootstrap_type': 'Bayesian', 'grow_policy': 'Depthwise', 'leaf_estimation_method': 'Gradient', 'leaf_estimation_iterations': 6, 'fold_permutation_block': 7, 'depth': 3, 'bagging_temperature': 0.5676226321211839}. Best is trial 5 with value: 0.4083173047050163.\u001b[0m\n",
      "\u001b[32m[I 2022-04-28 16:18:27,536]\u001b[0m Trial 16 finished with value: 0.40988009654357777 and parameters: {'iterations': 100, 'learning_rate': 0.0946158755847081, 'l2_leaf_reg': 9.027311780471232, 'min_data_in_leaf': 15, 'random_strength': 4.7659957750873145, 'bootstrap_type': 'Bayesian', 'grow_policy': 'Depthwise', 'leaf_estimation_method': 'Gradient', 'leaf_estimation_iterations': 4, 'fold_permutation_block': 9, 'depth': 1, 'bagging_temperature': 7.799750156045417}. Best is trial 5 with value: 0.4083173047050163.\u001b[0m\n",
      "\u001b[32m[I 2022-04-28 16:18:28,316]\u001b[0m Trial 17 finished with value: 0.5599095139797589 and parameters: {'iterations': 170, 'learning_rate': 0.07044089501601702, 'l2_leaf_reg': 6.142791968278193, 'min_data_in_leaf': 16, 'random_strength': 4.678812037316864, 'bootstrap_type': 'Bayesian', 'grow_policy': 'Depthwise', 'leaf_estimation_method': 'Gradient', 'leaf_estimation_iterations': 4, 'fold_permutation_block': 8, 'depth': 4, 'bagging_temperature': 7.119849072462701}. Best is trial 5 with value: 0.4083173047050163.\u001b[0m\n",
      "\u001b[32m[I 2022-04-28 16:18:28,942]\u001b[0m Trial 18 finished with value: 0.5027807502879037 and parameters: {'iterations': 244, 'learning_rate': 0.09814722729924306, 'l2_leaf_reg': 8.678690399543429, 'min_data_in_leaf': 39, 'random_strength': 4.853317217829314, 'bootstrap_type': 'Bayesian', 'grow_policy': 'Depthwise', 'leaf_estimation_method': 'Gradient', 'leaf_estimation_iterations': 3, 'fold_permutation_block': 6, 'depth': 2, 'bagging_temperature': 8.682301277365307}. Best is trial 5 with value: 0.4083173047050163.\u001b[0m\n",
      "\u001b[32m[I 2022-04-28 16:18:30,476]\u001b[0m Trial 19 finished with value: 0.5476669107735445 and parameters: {'iterations': 293, 'learning_rate': 0.007546406459716777, 'l2_leaf_reg': 7.335949521949317, 'min_data_in_leaf': 19, 'random_strength': 3.8234510730361446, 'bootstrap_type': 'Bayesian', 'grow_policy': 'Depthwise', 'leaf_estimation_method': 'Gradient', 'leaf_estimation_iterations': 5, 'fold_permutation_block': 9, 'depth': 5, 'bagging_temperature': 6.904697068295674}. Best is trial 5 with value: 0.4083173047050163.\u001b[0m\n",
      "\u001b[32m[I 2022-04-28 16:18:31,008]\u001b[0m Trial 20 finished with value: 0.52208593939218 and parameters: {'iterations': 196, 'learning_rate': 0.08439488697133607, 'l2_leaf_reg': 5.630030316910819, 'min_data_in_leaf': 67, 'random_strength': 5.931680674234029, 'bootstrap_type': 'Bayesian', 'grow_policy': 'Depthwise', 'leaf_estimation_method': 'Newton', 'leaf_estimation_iterations': 3, 'fold_permutation_block': 6, 'depth': 2, 'bagging_temperature': 8.969065245912056}. Best is trial 5 with value: 0.4083173047050163.\u001b[0m\n",
      "\u001b[32m[I 2022-04-28 16:18:31,328]\u001b[0m Trial 21 finished with value: 0.4174687098364906 and parameters: {'iterations': 107, 'learning_rate': 0.09172570248346293, 'l2_leaf_reg': 9.14859576292158, 'min_data_in_leaf': 6, 'random_strength': 9.056754228209376, 'bootstrap_type': 'Bayesian', 'grow_policy': 'Depthwise', 'leaf_estimation_method': 'Gradient', 'leaf_estimation_iterations': 6, 'fold_permutation_block': 9, 'depth': 1, 'bagging_temperature': 9.912753061975565}. Best is trial 5 with value: 0.4083173047050163.\u001b[0m\n",
      "\u001b[32m[I 2022-04-28 16:18:31,689]\u001b[0m Trial 22 finished with value: 0.41131873508457373 and parameters: {'iterations': 137, 'learning_rate': 0.09859408553568355, 'l2_leaf_reg': 9.039757662078841, 'min_data_in_leaf': 13, 'random_strength': 6.883440786323781, 'bootstrap_type': 'Bayesian', 'grow_policy': 'Depthwise', 'leaf_estimation_method': 'Gradient', 'leaf_estimation_iterations': 4, 'fold_permutation_block': 10, 'depth': 1, 'bagging_temperature': 9.85086358977346}. Best is trial 5 with value: 0.4083173047050163.\u001b[0m\n",
      "\u001b[32m[I 2022-04-28 16:18:32,181]\u001b[0m Trial 23 finished with value: 0.5274216061770196 and parameters: {'iterations': 144, 'learning_rate': 0.0709225763504613, 'l2_leaf_reg': 9.082895790892636, 'min_data_in_leaf': 28, 'random_strength': 7.68189035140662, 'bootstrap_type': 'Bayesian', 'grow_policy': 'Depthwise', 'leaf_estimation_method': 'Gradient', 'leaf_estimation_iterations': 4, 'fold_permutation_block': 8, 'depth': 3, 'bagging_temperature': 7.666170129761107}. Best is trial 5 with value: 0.4083173047050163.\u001b[0m\n",
      "\u001b[32m[I 2022-04-28 16:18:32,824]\u001b[0m Trial 24 finished with value: 0.49028758368525094 and parameters: {'iterations': 200, 'learning_rate': 0.08417869126326269, 'l2_leaf_reg': 7.787120310338657, 'min_data_in_leaf': 14, 'random_strength': 6.876062866011118, 'bootstrap_type': 'Bayesian', 'grow_policy': 'Depthwise', 'leaf_estimation_method': 'Gradient', 'leaf_estimation_iterations': 3, 'fold_permutation_block': 9, 'depth': 2, 'bagging_temperature': 9.01408141073356}. Best is trial 5 with value: 0.4083173047050163.\u001b[0m\n",
      "\u001b[32m[I 2022-04-28 16:18:33,218]\u001b[0m Trial 25 finished with value: 0.42488768080145095 and parameters: {'iterations': 140, 'learning_rate': 0.09765949474447463, 'l2_leaf_reg': 7.254768362606571, 'min_data_in_leaf': 40, 'random_strength': 5.459210254442017, 'bootstrap_type': 'Bayesian', 'grow_policy': 'Depthwise', 'leaf_estimation_method': 'Gradient', 'leaf_estimation_iterations': 5, 'fold_permutation_block': 10, 'depth': 1, 'bagging_temperature': 6.556779202204293}. Best is trial 5 with value: 0.4083173047050163.\u001b[0m\n",
      "\u001b[32m[I 2022-04-28 16:18:33,572]\u001b[0m Trial 26 finished with value: 0.4825884379111305 and parameters: {'iterations': 102, 'learning_rate': 0.0991294769222701, 'l2_leaf_reg': 9.249326586812286, 'min_data_in_leaf': 37, 'random_strength': 7.007218506195792, 'bootstrap_type': 'Bayesian', 'grow_policy': 'Depthwise', 'leaf_estimation_method': 'Gradient', 'leaf_estimation_iterations': 4, 'fold_permutation_block': 8, 'depth': 2, 'bagging_temperature': 8.190666270391493}. Best is trial 5 with value: 0.4083173047050163.\u001b[0m\n",
      "\u001b[32m[I 2022-04-28 16:18:34,042]\u001b[0m Trial 27 finished with value: 0.5763371673396597 and parameters: {'iterations': 182, 'learning_rate': 0.08840876199994364, 'l2_leaf_reg': 2.2279402539800675, 'min_data_in_leaf': 25, 'random_strength': 4.017454040222388, 'bootstrap_type': 'Bernoulli', 'grow_policy': 'SymmetricTree', 'leaf_estimation_method': 'Gradient', 'leaf_estimation_iterations': 4, 'fold_permutation_block': 7, 'depth': 4, 'subsample': 0.45425725377806553}. Best is trial 5 with value: 0.4083173047050163.\u001b[0m\n",
      "\u001b[32m[I 2022-04-28 16:18:34,881]\u001b[0m Trial 28 finished with value: 0.5455200383606263 and parameters: {'iterations': 223, 'learning_rate': 0.07549510813121854, 'l2_leaf_reg': 9.10231936438178, 'min_data_in_leaf': 16, 'random_strength': 7.8835400507526385, 'bootstrap_type': 'Bayesian', 'grow_policy': 'Depthwise', 'leaf_estimation_method': 'Gradient', 'leaf_estimation_iterations': 5, 'fold_permutation_block': 9, 'depth': 3, 'bagging_temperature': 9.346502790164065}. Best is trial 5 with value: 0.4083173047050163.\u001b[0m\n",
      "\u001b[32m[I 2022-04-28 16:18:35,485]\u001b[0m Trial 29 finished with value: 0.5737696649490369 and parameters: {'iterations': 144, 'learning_rate': 0.06236389814660712, 'l2_leaf_reg': 5.328316769577466, 'min_data_in_leaf': 12, 'random_strength': 8.666617747600052, 'bootstrap_type': 'Bernoulli', 'grow_policy': 'SymmetricTree', 'leaf_estimation_method': 'Newton', 'leaf_estimation_iterations': 3, 'fold_permutation_block': 6, 'depth': 8, 'subsample': 0.976181763228033}. Best is trial 5 with value: 0.4083173047050163.\u001b[0m\n",
      "\u001b[32m[I 2022-04-28 16:18:36,262]\u001b[0m Trial 30 finished with value: 0.4795700018848475 and parameters: {'iterations': 350, 'learning_rate': 0.0657011595618089, 'l2_leaf_reg': 7.087103135880547, 'min_data_in_leaf': 1, 'random_strength': 2.8525058151245326, 'bootstrap_type': 'Bayesian', 'grow_policy': 'Depthwise', 'leaf_estimation_method': 'Gradient', 'leaf_estimation_iterations': 4, 'fold_permutation_block': 4, 'depth': 1, 'bagging_temperature': 3.7708828232542064}. Best is trial 5 with value: 0.4083173047050163.\u001b[0m\n",
      "\u001b[32m[I 2022-04-28 16:18:36,601]\u001b[0m Trial 31 finished with value: 0.4186479729347738 and parameters: {'iterations': 100, 'learning_rate': 0.091778810303714, 'l2_leaf_reg': 9.659245494130667, 'min_data_in_leaf': 7, 'random_strength': 9.193913895065213, 'bootstrap_type': 'Bayesian', 'grow_policy': 'Depthwise', 'leaf_estimation_method': 'Gradient', 'leaf_estimation_iterations': 6, 'fold_permutation_block': 10, 'depth': 1, 'bagging_temperature': 9.866795187423866}. Best is trial 5 with value: 0.4083173047050163.\u001b[0m\n",
      "\u001b[32m[I 2022-04-28 16:18:37,035]\u001b[0m Trial 32 finished with value: 0.4834936819282789 and parameters: {'iterations': 132, 'learning_rate': 0.09966087394817866, 'l2_leaf_reg': 8.487710382162419, 'min_data_in_leaf': 19, 'random_strength': 9.254209894824802, 'bootstrap_type': 'Bayesian', 'grow_policy': 'Depthwise', 'leaf_estimation_method': 'Gradient', 'leaf_estimation_iterations': 5, 'fold_permutation_block': 10, 'depth': 2, 'bagging_temperature': 9.899669309608534}. Best is trial 5 with value: 0.4083173047050163.\u001b[0m\n",
      "\u001b[32m[I 2022-04-28 16:18:37,430]\u001b[0m Trial 33 finished with value: 0.4137293520453745 and parameters: {'iterations': 124, 'learning_rate': 0.0880433258987602, 'l2_leaf_reg': 7.972787557807113, 'min_data_in_leaf': 9, 'random_strength': 5.207443253359164, 'bootstrap_type': 'Bayesian', 'grow_policy': 'Depthwise', 'leaf_estimation_method': 'Gradient', 'leaf_estimation_iterations': 3, 'fold_permutation_block': 9, 'depth': 1, 'bagging_temperature': 9.136381123620748}. Best is trial 5 with value: 0.4083173047050163.\u001b[0m\n",
      "\u001b[32m[I 2022-04-28 16:18:37,870]\u001b[0m Trial 34 finished with value: 0.46023620628038 and parameters: {'iterations': 157, 'learning_rate': 0.09336044559360406, 'l2_leaf_reg': 9.962360811781434, 'min_data_in_leaf': 1, 'random_strength': 6.270781633504937, 'bootstrap_type': 'Bayesian', 'grow_policy': 'Depthwise', 'leaf_estimation_method': 'Gradient', 'leaf_estimation_iterations': 2, 'fold_permutation_block': 8, 'depth': 2, 'bagging_temperature': 8.18154268406613}. Best is trial 5 with value: 0.4083173047050163.\u001b[0m\n",
      "\u001b[32m[I 2022-04-28 16:18:38,516]\u001b[0m Trial 35 finished with value: 0.43178354976316147 and parameters: {'iterations': 273, 'learning_rate': 0.07868366787576239, 'l2_leaf_reg': 8.793410286743555, 'min_data_in_leaf': 44, 'random_strength': 7.522940441348394, 'bootstrap_type': 'Bayesian', 'grow_policy': 'Depthwise', 'leaf_estimation_method': 'Gradient', 'leaf_estimation_iterations': 4, 'fold_permutation_block': 10, 'depth': 1, 'bagging_temperature': 7.427039844986719}. Best is trial 5 with value: 0.4083173047050163.\u001b[0m\n",
      "\u001b[32m[I 2022-04-28 16:18:38,885]\u001b[0m Trial 36 finished with value: 0.5154506430853188 and parameters: {'iterations': 100, 'learning_rate': 0.02503407435715615, 'l2_leaf_reg': 9.389952069373459, 'min_data_in_leaf': 29, 'random_strength': 8.4413737960431, 'bootstrap_type': 'Bernoulli', 'grow_policy': 'Depthwise', 'leaf_estimation_method': 'Gradient', 'leaf_estimation_iterations': 7, 'fold_permutation_block': 7, 'depth': 3, 'subsample': 0.5657393531070154}. Best is trial 5 with value: 0.4083173047050163.\u001b[0m\n",
      "\u001b[32m[I 2022-04-28 16:18:49,612]\u001b[0m Trial 37 finished with value: 0.5411984572890473 and parameters: {'iterations': 437, 'learning_rate': 0.08586764215968667, 'l2_leaf_reg': 8.184265841402535, 'min_data_in_leaf': 23, 'random_strength': 4.345387915709337, 'bootstrap_type': 'Bayesian', 'grow_policy': 'Lossguide', 'leaf_estimation_method': 'Newton', 'leaf_estimation_iterations': 5, 'fold_permutation_block': 8, 'max_leaves': 241, 'depth': 20, 'bagging_temperature': 6.198324656216338}. Best is trial 5 with value: 0.4083173047050163.\u001b[0m\n",
      "\u001b[32m[I 2022-04-28 16:18:50,150]\u001b[0m Trial 38 finished with value: 0.5687081147171501 and parameters: {'iterations': 126, 'learning_rate': 0.09459966810946108, 'l2_leaf_reg': 7.625635163488291, 'min_data_in_leaf': 66, 'random_strength': 3.1682053721544587, 'bootstrap_type': 'Bayesian', 'grow_policy': 'SymmetricTree', 'leaf_estimation_method': 'Gradient', 'leaf_estimation_iterations': 3, 'fold_permutation_block': 9, 'depth': 8, 'bagging_temperature': 9.411465865159856}. Best is trial 5 with value: 0.4083173047050163.\u001b[0m\n",
      "\u001b[32m[I 2022-04-28 16:18:50,605]\u001b[0m Trial 39 finished with value: 0.5375148444564902 and parameters: {'iterations': 187, 'learning_rate': 0.07772970628772055, 'l2_leaf_reg': 8.727387969404383, 'min_data_in_leaf': 19, 'random_strength': 1.5567515706047699, 'bootstrap_type': 'Bernoulli', 'grow_policy': 'Depthwise', 'leaf_estimation_method': 'Gradient', 'leaf_estimation_iterations': 2, 'fold_permutation_block': 10, 'depth': 2, 'subsample': 0.964441382176097}. Best is trial 5 with value: 0.4083173047050163.\u001b[0m\n",
      "\u001b[32m[I 2022-04-28 16:18:54,082]\u001b[0m Trial 40 finished with value: 0.5851912543700505 and parameters: {'iterations': 222, 'learning_rate': 0.0665917732919815, 'l2_leaf_reg': 0.17063775161185113, 'min_data_in_leaf': 6, 'random_strength': 5.596308612900083, 'bootstrap_type': 'Bayesian', 'grow_policy': 'Lossguide', 'leaf_estimation_method': 'Gradient', 'leaf_estimation_iterations': 4, 'fold_permutation_block': 9, 'max_leaves': 124, 'depth': 22, 'bagging_temperature': 1.4017053265978858}. Best is trial 5 with value: 0.4083173047050163.\u001b[0m\n",
      "\u001b[32m[I 2022-04-28 16:18:54,410]\u001b[0m Trial 41 finished with value: 0.4133246743819688 and parameters: {'iterations': 123, 'learning_rate': 0.0883401227286451, 'l2_leaf_reg': 7.9208867815473445, 'min_data_in_leaf': 9, 'random_strength': 5.141711292257781, 'bootstrap_type': 'Bayesian', 'grow_policy': 'Depthwise', 'leaf_estimation_method': 'Gradient', 'leaf_estimation_iterations': 3, 'fold_permutation_block': 9, 'depth': 1, 'bagging_temperature': 9.154571311935346}. Best is trial 5 with value: 0.4083173047050163.\u001b[0m\n",
      "\u001b[32m[I 2022-04-28 16:18:54,709]\u001b[0m Trial 42 finished with value: 0.40482271749412524 and parameters: {'iterations': 120, 'learning_rate': 0.08761787996979035, 'l2_leaf_reg': 8.26047750622681, 'min_data_in_leaf': 13, 'random_strength': 3.338039067655007, 'bootstrap_type': 'Bayesian', 'grow_policy': 'Depthwise', 'leaf_estimation_method': 'Gradient', 'leaf_estimation_iterations': 2, 'fold_permutation_block': 10, 'depth': 1, 'bagging_temperature': 9.960462610141146}. Best is trial 42 with value: 0.40482271749412524.\u001b[0m\n",
      "\u001b[32m[I 2022-04-28 16:18:55,071]\u001b[0m Trial 43 finished with value: 0.4078996580763732 and parameters: {'iterations': 152, 'learning_rate': 0.08368982438423583, 'l2_leaf_reg': 9.462751535297569, 'min_data_in_leaf': 23, 'random_strength': 3.4077827519120074, 'bootstrap_type': 'Bayesian', 'grow_policy': 'Depthwise', 'leaf_estimation_method': 'Gradient', 'leaf_estimation_iterations': 2, 'fold_permutation_block': 10, 'depth': 1, 'bagging_temperature': 9.939534583282473}. Best is trial 42 with value: 0.40482271749412524.\u001b[0m\n",
      "\u001b[32m[I 2022-04-28 16:18:55,437]\u001b[0m Trial 44 finished with value: 0.4473003170216574 and parameters: {'iterations': 152, 'learning_rate': 0.05312005789421513, 'l2_leaf_reg': 8.509571468860969, 'min_data_in_leaf': 96, 'random_strength': 1.1746001621743383, 'bootstrap_type': 'Bayesian', 'grow_policy': 'Depthwise', 'leaf_estimation_method': 'Gradient', 'leaf_estimation_iterations': 1, 'fold_permutation_block': 10, 'depth': 2, 'bagging_temperature': 8.4455387801393}. Best is trial 42 with value: 0.40482271749412524.\u001b[0m\n",
      "\u001b[32m[I 2022-04-28 16:18:55,873]\u001b[0m Trial 45 finished with value: 0.4402065733724067 and parameters: {'iterations': 175, 'learning_rate': 0.0826395177894668, 'l2_leaf_reg': 9.507064457270573, 'min_data_in_leaf': 26, 'random_strength': 3.044965368831987, 'bootstrap_type': 'Bayesian', 'grow_policy': 'Depthwise', 'leaf_estimation_method': 'Gradient', 'leaf_estimation_iterations': 2, 'fold_permutation_block': 8, 'depth': 1, 'bagging_temperature': 4.599269044995395}. Best is trial 42 with value: 0.40482271749412524.\u001b[0m\n",
      "\u001b[32m[I 2022-04-28 16:18:56,483]\u001b[0m Trial 46 finished with value: 0.5398254509775638 and parameters: {'iterations': 219, 'learning_rate': 0.09967473309747743, 'l2_leaf_reg': 9.988819184383404, 'min_data_in_leaf': 56, 'random_strength': 3.606139841858654, 'bootstrap_type': 'Bayesian', 'grow_policy': 'Depthwise', 'leaf_estimation_method': 'Newton', 'leaf_estimation_iterations': 2, 'fold_permutation_block': 5, 'depth': 2, 'bagging_temperature': 9.494565909825578}. Best is trial 42 with value: 0.40482271749412524.\u001b[0m\n",
      "\u001b[32m[I 2022-04-28 16:18:56,788]\u001b[0m Trial 47 finished with value: 0.40306432983626445 and parameters: {'iterations': 133, 'learning_rate': 0.08875155450555833, 'l2_leaf_reg': 8.263787433318702, 'min_data_in_leaf': 21, 'random_strength': 2.2252885324982854, 'bootstrap_type': 'Bayesian', 'grow_policy': 'Depthwise', 'leaf_estimation_method': 'Gradient', 'leaf_estimation_iterations': 1, 'fold_permutation_block': 10, 'depth': 1, 'bagging_temperature': 9.959163765651894}. Best is trial 47 with value: 0.40306432983626445.\u001b[0m\n",
      "\u001b[32m[I 2022-04-28 16:18:59,065]\u001b[0m Trial 48 finished with value: 0.5917378942557366 and parameters: {'iterations': 161, 'learning_rate': 0.07699997457129375, 'l2_leaf_reg': 6.6441180368036825, 'min_data_in_leaf': 33, 'random_strength': 2.0558679881631963, 'bootstrap_type': 'Bayesian', 'grow_policy': 'Lossguide', 'leaf_estimation_method': 'Gradient', 'leaf_estimation_iterations': 1, 'fold_permutation_block': 10, 'max_leaves': 110, 'depth': 14, 'bagging_temperature': 5.774052904017519}. Best is trial 47 with value: 0.40306432983626445.\u001b[0m\n",
      "\u001b[32m[I 2022-04-28 16:18:59,725]\u001b[0m Trial 49 finished with value: 0.49930274513738704 and parameters: {'iterations': 265, 'learning_rate': 0.04251514593474798, 'l2_leaf_reg': 8.257730142680133, 'min_data_in_leaf': 21, 'random_strength': 0.09957280780252198, 'bootstrap_type': 'Bayesian', 'grow_policy': 'Depthwise', 'leaf_estimation_method': 'Gradient', 'leaf_estimation_iterations': 1, 'fold_permutation_block': 7, 'depth': 3, 'bagging_temperature': 8.700649241627085}. Best is trial 47 with value: 0.40306432983626445.\u001b[0m\n",
      "\u001b[32m[I 2022-04-28 16:19:00,009]\u001b[0m Trial 50 finished with value: 0.43967901217798566 and parameters: {'iterations': 117, 'learning_rate': 0.08186897588942399, 'l2_leaf_reg': 7.513140329363681, 'min_data_in_leaf': 32, 'random_strength': 2.1471896417433776, 'bootstrap_type': 'Bayesian', 'grow_policy': 'SymmetricTree', 'leaf_estimation_method': 'Gradient', 'leaf_estimation_iterations': 1, 'fold_permutation_block': 1, 'depth': 2, 'bagging_temperature': 7.969011844198681}. Best is trial 47 with value: 0.40306432983626445.\u001b[0m\n",
      "\u001b[32m[I 2022-04-28 16:19:00,371]\u001b[0m Trial 51 finished with value: 0.4090577767709946 and parameters: {'iterations': 137, 'learning_rate': 0.08907963832139916, 'l2_leaf_reg': 8.920379953190935, 'min_data_in_leaf': 14, 'random_strength': 3.3274157205031023, 'bootstrap_type': 'Bayesian', 'grow_policy': 'Depthwise', 'leaf_estimation_method': 'Gradient', 'leaf_estimation_iterations': 2, 'fold_permutation_block': 10, 'depth': 1, 'bagging_temperature': 9.942846016031336}. Best is trial 47 with value: 0.40306432983626445.\u001b[0m\n",
      "\u001b[32m[I 2022-04-28 16:19:00,833]\u001b[0m Trial 52 finished with value: 0.4075355491253661 and parameters: {'iterations': 153, 'learning_rate': 0.0887178859829124, 'l2_leaf_reg': 8.346335608497023, 'min_data_in_leaf': 16, 'random_strength': 3.462137173362347, 'bootstrap_type': 'Bayesian', 'grow_policy': 'Depthwise', 'leaf_estimation_method': 'Gradient', 'leaf_estimation_iterations': 2, 'fold_permutation_block': 9, 'depth': 1, 'bagging_temperature': 9.594826726274945}. Best is trial 47 with value: 0.40306432983626445.\u001b[0m\n",
      "\u001b[32m[I 2022-04-28 16:19:01,283]\u001b[0m Trial 53 finished with value: 0.41549229378095104 and parameters: {'iterations': 204, 'learning_rate': 0.08959999609851302, 'l2_leaf_reg': 8.222870775418887, 'min_data_in_leaf': 23, 'random_strength': 3.3264702347010084, 'bootstrap_type': 'Bayesian', 'grow_policy': 'Depthwise', 'leaf_estimation_method': 'Gradient', 'leaf_estimation_iterations': 2, 'fold_permutation_block': 10, 'depth': 1, 'bagging_temperature': 9.911927250798295}. Best is trial 47 with value: 0.40306432983626445.\u001b[0m\n",
      "\u001b[32m[I 2022-04-28 16:19:01,684]\u001b[0m Trial 54 finished with value: 0.410006323229327 and parameters: {'iterations': 174, 'learning_rate': 0.08553812439941319, 'l2_leaf_reg': 7.028142741357787, 'min_data_in_leaf': 18, 'random_strength': 2.6966927568726318, 'bootstrap_type': 'Bayesian', 'grow_policy': 'Depthwise', 'leaf_estimation_method': 'Gradient', 'leaf_estimation_iterations': 2, 'fold_permutation_block': 9, 'depth': 1, 'bagging_temperature': 9.390182049097525}. Best is trial 47 with value: 0.40306432983626445.\u001b[0m\n",
      "\u001b[32m[I 2022-04-28 16:19:02,555]\u001b[0m Trial 55 finished with value: 0.5653763285321671 and parameters: {'iterations': 147, 'learning_rate': 0.08061548135721056, 'l2_leaf_reg': 8.679216281802264, 'min_data_in_leaf': 12, 'random_strength': 1.5992781473656035, 'bootstrap_type': 'Bayesian', 'grow_policy': 'Depthwise', 'leaf_estimation_method': 'Gradient', 'leaf_estimation_iterations': 1, 'fold_permutation_block': 10, 'depth': 6, 'bagging_temperature': 8.787058029901486}. Best is trial 47 with value: 0.40306432983626445.\u001b[0m\n",
      "\u001b[32m[I 2022-04-28 16:19:03,085]\u001b[0m Trial 56 finished with value: 0.4665061216178911 and parameters: {'iterations': 188, 'learning_rate': 0.06894979764124397, 'l2_leaf_reg': 4.657683306237547, 'min_data_in_leaf': 28, 'random_strength': 4.117509406680551, 'bootstrap_type': 'Bayesian', 'grow_policy': 'Depthwise', 'leaf_estimation_method': 'Gradient', 'leaf_estimation_iterations': 2, 'fold_permutation_block': 9, 'depth': 2, 'bagging_temperature': 9.98993128807608}. Best is trial 47 with value: 0.40306432983626445.\u001b[0m\n",
      "\u001b[32m[I 2022-04-28 16:19:03,437]\u001b[0m Trial 57 finished with value: 0.4021529855776142 and parameters: {'iterations': 166, 'learning_rate': 0.07372747705266719, 'l2_leaf_reg': 5.874777108821149, 'min_data_in_leaf': 5, 'random_strength': 2.4447569944347873, 'bootstrap_type': 'Bayesian', 'grow_policy': 'Depthwise', 'leaf_estimation_method': 'Gradient', 'leaf_estimation_iterations': 1, 'fold_permutation_block': 10, 'depth': 1, 'bagging_temperature': 9.556815062467626}. Best is trial 57 with value: 0.4021529855776142.\u001b[0m\n",
      "\u001b[32m[I 2022-04-28 16:19:03,827]\u001b[0m Trial 58 finished with value: 0.4523734086711149 and parameters: {'iterations': 163, 'learning_rate': 0.07398534387277073, 'l2_leaf_reg': 0.96639437472568, 'min_data_in_leaf': 36, 'random_strength': 2.2917237159366284, 'bootstrap_type': 'Bayesian', 'grow_policy': 'Depthwise', 'leaf_estimation_method': 'Gradient', 'leaf_estimation_iterations': 1, 'fold_permutation_block': 8, 'depth': 2, 'bagging_temperature': 9.562312860955377}. Best is trial 57 with value: 0.4021529855776142.\u001b[0m\n",
      "\u001b[32m[I 2022-04-28 16:19:06,010]\u001b[0m Trial 59 finished with value: 0.581678515648477 and parameters: {'iterations': 115, 'learning_rate': 0.060720247417931056, 'l2_leaf_reg': 6.076090060965264, 'min_data_in_leaf': 4, 'random_strength': 4.445519680607154, 'bootstrap_type': 'Bayesian', 'grow_policy': 'Depthwise', 'leaf_estimation_method': 'Gradient', 'leaf_estimation_iterations': 1, 'fold_permutation_block': 4, 'depth': 10, 'bagging_temperature': 8.710482770236837}. Best is trial 57 with value: 0.4021529855776142.\u001b[0m\n",
      "\u001b[32m[I 2022-04-28 16:19:06,597]\u001b[0m Trial 60 finished with value: 0.5531815306586498 and parameters: {'iterations': 210, 'learning_rate': 0.07302396033707675, 'l2_leaf_reg': 3.4186112838167784, 'min_data_in_leaf': 25, 'random_strength': 0.36914817489099105, 'bootstrap_type': 'Bayesian', 'grow_policy': 'Depthwise', 'leaf_estimation_method': 'Gradient', 'leaf_estimation_iterations': 1, 'fold_permutation_block': 6, 'depth': 3, 'bagging_temperature': 2.5928683996600923}. Best is trial 57 with value: 0.4021529855776142.\u001b[0m\n",
      "\u001b[32m[I 2022-04-28 16:19:06,986]\u001b[0m Trial 61 finished with value: 0.4096056108125404 and parameters: {'iterations': 145, 'learning_rate': 0.0951235071402368, 'l2_leaf_reg': 9.475009482891783, 'min_data_in_leaf': 16, 'random_strength': 3.487198996865389, 'bootstrap_type': 'Bayesian', 'grow_policy': 'Depthwise', 'leaf_estimation_method': 'Gradient', 'leaf_estimation_iterations': 2, 'fold_permutation_block': 10, 'depth': 1, 'bagging_temperature': 9.665740102531846}. Best is trial 57 with value: 0.4021529855776142.\u001b[0m\n",
      "\u001b[32m[I 2022-04-28 16:19:07,391]\u001b[0m Trial 62 finished with value: 0.40806252349116673 and parameters: {'iterations': 171, 'learning_rate': 0.08621819557351953, 'l2_leaf_reg': 7.889065022987756, 'min_data_in_leaf': 10, 'random_strength': 2.538576934560631, 'bootstrap_type': 'Bayesian', 'grow_policy': 'Depthwise', 'leaf_estimation_method': 'Gradient', 'leaf_estimation_iterations': 2, 'fold_permutation_block': 10, 'depth': 1, 'bagging_temperature': 9.957295853939732}. Best is trial 57 with value: 0.4021529855776142.\u001b[0m\n",
      "\u001b[32m[I 2022-04-28 16:19:07,852]\u001b[0m Trial 63 finished with value: 0.41572203250924006 and parameters: {'iterations': 164, 'learning_rate': 0.08633145146762036, 'l2_leaf_reg': 6.7820982530183755, 'min_data_in_leaf': 9, 'random_strength': 2.4736432027469264, 'bootstrap_type': 'Bayesian', 'grow_policy': 'Depthwise', 'leaf_estimation_method': 'Gradient', 'leaf_estimation_iterations': 3, 'fold_permutation_block': 9, 'depth': 1, 'bagging_temperature': 9.047661019479609}. Best is trial 57 with value: 0.4021529855776142.\u001b[0m\n",
      "\u001b[32m[I 2022-04-28 16:19:08,377]\u001b[0m Trial 64 finished with value: 0.4140769181168835 and parameters: {'iterations': 239, 'learning_rate': 0.0826212460932967, 'l2_leaf_reg': 5.965252039394452, 'min_data_in_leaf': 21, 'random_strength': 1.749843213134107, 'bootstrap_type': 'Bayesian', 'grow_policy': 'Depthwise', 'leaf_estimation_method': 'Gradient', 'leaf_estimation_iterations': 2, 'fold_permutation_block': 10, 'depth': 1, 'bagging_temperature': 9.515849680470945}. Best is trial 57 with value: 0.4021529855776142.\u001b[0m\n",
      "\u001b[32m[I 2022-04-28 16:19:08,815]\u001b[0m Trial 65 finished with value: 0.4597201374166713 and parameters: {'iterations': 182, 'learning_rate': 0.09054543815256604, 'l2_leaf_reg': 7.976676894418107, 'min_data_in_leaf': 3, 'random_strength': 1.0417162452603292, 'bootstrap_type': 'Bayesian', 'grow_policy': 'Depthwise', 'leaf_estimation_method': 'Gradient', 'leaf_estimation_iterations': 1, 'fold_permutation_block': 9, 'depth': 2, 'bagging_temperature': 8.47211374944202}. Best is trial 57 with value: 0.4021529855776142.\u001b[0m\n",
      "\u001b[32m[I 2022-04-28 16:19:09,528]\u001b[0m Trial 66 finished with value: 0.46601918873691556 and parameters: {'iterations': 339, 'learning_rate': 0.07842198366327087, 'l2_leaf_reg': 7.435333304300535, 'min_data_in_leaf': 10, 'random_strength': 1.8897299953515958, 'bootstrap_type': 'Bayesian', 'grow_policy': 'Depthwise', 'leaf_estimation_method': 'Newton', 'leaf_estimation_iterations': 3, 'fold_permutation_block': 10, 'depth': 1, 'bagging_temperature': 9.178223240610805}. Best is trial 57 with value: 0.4021529855776142.\u001b[0m\n",
      "\u001b[32m[I 2022-04-28 16:19:09,938]\u001b[0m Trial 67 finished with value: 0.46380677671018006 and parameters: {'iterations': 131, 'learning_rate': 0.09559545037989417, 'l2_leaf_reg': 8.453063522063303, 'min_data_in_leaf': 5, 'random_strength': 2.9293133855342726, 'bootstrap_type': 'Bayesian', 'grow_policy': 'Depthwise', 'leaf_estimation_method': 'Gradient', 'leaf_estimation_iterations': 2, 'fold_permutation_block': 9, 'depth': 2, 'bagging_temperature': 9.991082737230471}. Best is trial 57 with value: 0.4021529855776142.\u001b[0m\n",
      "\u001b[32m[I 2022-04-28 16:19:10,225]\u001b[0m Trial 68 finished with value: 0.4720992837112576 and parameters: {'iterations': 112, 'learning_rate': 0.08334175609164841, 'l2_leaf_reg': 3.77656356031721, 'min_data_in_leaf': 16, 'random_strength': 2.6231333515742974, 'bootstrap_type': 'Bernoulli', 'grow_policy': 'Depthwise', 'leaf_estimation_method': 'Gradient', 'leaf_estimation_iterations': 2, 'fold_permutation_block': 10, 'depth': 1, 'subsample': 0.5857678592991207}. Best is trial 57 with value: 0.4021529855776142.\u001b[0m\n",
      "\u001b[32m[I 2022-04-28 16:19:11,054]\u001b[0m Trial 69 finished with value: 0.5332859203350264 and parameters: {'iterations': 194, 'learning_rate': 0.0048579934970852945, 'l2_leaf_reg': 2.496784290778903, 'min_data_in_leaf': 11, 'random_strength': 2.4345273335281226, 'bootstrap_type': 'Bayesian', 'grow_policy': 'Depthwise', 'leaf_estimation_method': 'Gradient', 'leaf_estimation_iterations': 1, 'fold_permutation_block': 8, 'depth': 5, 'bagging_temperature': 9.649422589528257}. Best is trial 57 with value: 0.4021529855776142.\u001b[0m\n",
      "\u001b[32m[I 2022-04-28 16:19:11,473]\u001b[0m Trial 70 finished with value: 0.42280015027315 and parameters: {'iterations': 173, 'learning_rate': 0.09176081679648171, 'l2_leaf_reg': 5.0462350638247795, 'min_data_in_leaf': 45, 'random_strength': 3.7923522772065166, 'bootstrap_type': 'Bayesian', 'grow_policy': 'Depthwise', 'leaf_estimation_method': 'Gradient', 'leaf_estimation_iterations': 3, 'fold_permutation_block': 10, 'depth': 1, 'bagging_temperature': 8.407143657415109}. Best is trial 57 with value: 0.4021529855776142.\u001b[0m\n",
      "\u001b[32m[I 2022-04-28 16:19:11,856]\u001b[0m Trial 71 finished with value: 0.40757577333094397 and parameters: {'iterations': 155, 'learning_rate': 0.08690088395399052, 'l2_leaf_reg': 8.843820695073035, 'min_data_in_leaf': 14, 'random_strength': 3.2838390094653476, 'bootstrap_type': 'Bayesian', 'grow_policy': 'Depthwise', 'leaf_estimation_method': 'Gradient', 'leaf_estimation_iterations': 2, 'fold_permutation_block': 10, 'depth': 1, 'bagging_temperature': 9.73676726832042}. Best is trial 57 with value: 0.4021529855776142.\u001b[0m\n",
      "\u001b[32m[I 2022-04-28 16:19:12,253]\u001b[0m Trial 72 finished with value: 0.40744566168816715 and parameters: {'iterations': 155, 'learning_rate': 0.07992005163353624, 'l2_leaf_reg': 9.307723493009188, 'min_data_in_leaf': 18, 'random_strength': 3.6535530580751137, 'bootstrap_type': 'Bayesian', 'grow_policy': 'Depthwise', 'leaf_estimation_method': 'Gradient', 'leaf_estimation_iterations': 2, 'fold_permutation_block': 10, 'depth': 1, 'bagging_temperature': 9.968794452409185}. Best is trial 57 with value: 0.4021529855776142.\u001b[0m\n",
      "\u001b[32m[I 2022-04-28 16:19:12,621]\u001b[0m Trial 73 finished with value: 0.408920842434429 and parameters: {'iterations': 155, 'learning_rate': 0.07926866511257827, 'l2_leaf_reg': 9.210267595656784, 'min_data_in_leaf': 20, 'random_strength': 4.110061996760053, 'bootstrap_type': 'Bayesian', 'grow_policy': 'Depthwise', 'leaf_estimation_method': 'Gradient', 'leaf_estimation_iterations': 2, 'fold_permutation_block': 10, 'depth': 1, 'bagging_temperature': 8.912747437747035}. Best is trial 57 with value: 0.4021529855776142.\u001b[0m\n",
      "\u001b[32m[I 2022-04-28 16:19:13,002]\u001b[0m Trial 74 finished with value: 0.46102109621259774 and parameters: {'iterations': 136, 'learning_rate': 0.08602343821473327, 'l2_leaf_reg': 9.629062924057568, 'min_data_in_leaf': 13, 'random_strength': 2.8611181293575845, 'bootstrap_type': 'Bayesian', 'grow_policy': 'Depthwise', 'leaf_estimation_method': 'Gradient', 'leaf_estimation_iterations': 2, 'fold_permutation_block': 10, 'depth': 2, 'bagging_temperature': 9.68088919457488}. Best is trial 57 with value: 0.4021529855776142.\u001b[0m\n",
      "\u001b[32m[I 2022-04-28 16:19:13,357]\u001b[0m Trial 75 finished with value: 0.40619768518695376 and parameters: {'iterations': 152, 'learning_rate': 0.07537512858026899, 'l2_leaf_reg': 7.708112443497076, 'min_data_in_leaf': 17, 'random_strength': 3.6388588444877032, 'bootstrap_type': 'Bayesian', 'grow_policy': 'Depthwise', 'leaf_estimation_method': 'Gradient', 'leaf_estimation_iterations': 2, 'fold_permutation_block': 10, 'depth': 1, 'bagging_temperature': 9.98072832141245}. Best is trial 57 with value: 0.4021529855776142.\u001b[0m\n",
      "\u001b[32m[I 2022-04-28 16:19:13,807]\u001b[0m Trial 76 finished with value: 0.4577296120804306 and parameters: {'iterations': 152, 'learning_rate': 0.07188106441451335, 'l2_leaf_reg': 8.938114602091385, 'min_data_in_leaf': 18, 'random_strength': 3.578358508343394, 'bootstrap_type': 'Bayesian', 'grow_policy': 'Depthwise', 'leaf_estimation_method': 'Gradient', 'leaf_estimation_iterations': 2, 'fold_permutation_block': 9, 'depth': 2, 'bagging_temperature': 9.267349678330175}. Best is trial 57 with value: 0.4021529855776142.\u001b[0m\n",
      "\u001b[32m[I 2022-04-28 16:19:16,117]\u001b[0m Trial 77 finished with value: 0.5930002032430329 and parameters: {'iterations': 125, 'learning_rate': 0.07539707804395962, 'l2_leaf_reg': 7.667910309118847, 'min_data_in_leaf': 28, 'random_strength': 4.442010022317035, 'bootstrap_type': 'Bayesian', 'grow_policy': 'Lossguide', 'leaf_estimation_method': 'Gradient', 'leaf_estimation_iterations': 1, 'fold_permutation_block': 10, 'max_leaves': 181, 'depth': 17, 'bagging_temperature': 9.996162058993825}. Best is trial 57 with value: 0.4021529855776142.\u001b[0m\n",
      "\u001b[32m[I 2022-04-28 16:19:16,387]\u001b[0m Trial 78 finished with value: 0.403101386761967 and parameters: {'iterations': 107, 'learning_rate': 0.06565815850201863, 'l2_leaf_reg': 8.49765450821042, 'min_data_in_leaf': 17, 'random_strength': 3.1676585848916625, 'bootstrap_type': 'Bayesian', 'grow_policy': 'SymmetricTree', 'leaf_estimation_method': 'Gradient', 'leaf_estimation_iterations': 2, 'fold_permutation_block': 9, 'depth': 1, 'bagging_temperature': 9.211676970860182}. Best is trial 57 with value: 0.4021529855776142.\u001b[0m\n",
      "\u001b[32m[I 2022-04-28 16:19:16,680]\u001b[0m Trial 79 finished with value: 0.45412655644380395 and parameters: {'iterations': 100, 'learning_rate': 0.06405838210816073, 'l2_leaf_reg': 7.142590954730113, 'min_data_in_leaf': 15, 'random_strength': 3.120623422854237, 'bootstrap_type': 'Bayesian', 'grow_policy': 'SymmetricTree', 'leaf_estimation_method': 'Gradient', 'leaf_estimation_iterations': 3, 'fold_permutation_block': 9, 'depth': 2, 'bagging_temperature': 8.99831919445698}. Best is trial 57 with value: 0.4021529855776142.\u001b[0m\n",
      "\u001b[32m[I 2022-04-28 16:19:16,928]\u001b[0m Trial 80 finished with value: 0.4001800697560259 and parameters: {'iterations': 112, 'learning_rate': 0.05786570915951344, 'l2_leaf_reg': 8.500379367760267, 'min_data_in_leaf': 7, 'random_strength': 3.954246962141799, 'bootstrap_type': 'Bayesian', 'grow_policy': 'SymmetricTree', 'leaf_estimation_method': 'Gradient', 'leaf_estimation_iterations': 1, 'fold_permutation_block': 9, 'depth': 1, 'bagging_temperature': 9.380859490951968}. Best is trial 80 with value: 0.4001800697560259.\u001b[0m\n",
      "\u001b[32m[I 2022-04-28 16:19:17,176]\u001b[0m Trial 81 finished with value: 0.4001548786902569 and parameters: {'iterations': 112, 'learning_rate': 0.05735707950302356, 'l2_leaf_reg': 8.157951587058774, 'min_data_in_leaf': 7, 'random_strength': 3.8088884784871504, 'bootstrap_type': 'Bayesian', 'grow_policy': 'SymmetricTree', 'leaf_estimation_method': 'Gradient', 'leaf_estimation_iterations': 1, 'fold_permutation_block': 9, 'depth': 1, 'bagging_temperature': 9.313437951913219}. Best is trial 81 with value: 0.4001548786902569.\u001b[0m\n",
      "\u001b[32m[I 2022-04-28 16:19:17,430]\u001b[0m Trial 82 finished with value: 0.39990742106386357 and parameters: {'iterations': 110, 'learning_rate': 0.05259656559279065, 'l2_leaf_reg': 8.109525262163498, 'min_data_in_leaf': 7, 'random_strength': 3.8351177445935356, 'bootstrap_type': 'Bayesian', 'grow_policy': 'SymmetricTree', 'leaf_estimation_method': 'Gradient', 'leaf_estimation_iterations': 1, 'fold_permutation_block': 9, 'depth': 1, 'bagging_temperature': 9.333016706659844}. Best is trial 82 with value: 0.39990742106386357.\u001b[0m\n",
      "\u001b[32m[I 2022-04-28 16:19:17,668]\u001b[0m Trial 83 finished with value: 0.3969962388720403 and parameters: {'iterations': 109, 'learning_rate': 0.05637785506983016, 'l2_leaf_reg': 8.101922524140042, 'min_data_in_leaf': 7, 'random_strength': 3.941089272032108, 'bootstrap_type': 'Bayesian', 'grow_policy': 'SymmetricTree', 'leaf_estimation_method': 'Gradient', 'leaf_estimation_iterations': 1, 'fold_permutation_block': 8, 'depth': 1, 'bagging_temperature': 9.310490545974545}. Best is trial 83 with value: 0.3969962388720403.\u001b[0m\n",
      "\u001b[32m[I 2022-04-28 16:19:17,932]\u001b[0m Trial 84 finished with value: 0.39818889981156064 and parameters: {'iterations': 108, 'learning_rate': 0.055432056244608605, 'l2_leaf_reg': 8.144657535311628, 'min_data_in_leaf': 1, 'random_strength': 4.1436509943712325, 'bootstrap_type': 'Bayesian', 'grow_policy': 'SymmetricTree', 'leaf_estimation_method': 'Gradient', 'leaf_estimation_iterations': 1, 'fold_permutation_block': 8, 'depth': 1, 'bagging_temperature': 8.174965926933286}. Best is trial 83 with value: 0.3969962388720403.\u001b[0m\n",
      "\u001b[32m[I 2022-04-28 16:19:18,188]\u001b[0m Trial 85 finished with value: 0.4359918448096067 and parameters: {'iterations': 108, 'learning_rate': 0.056259644776139046, 'l2_leaf_reg': 8.151130356441659, 'min_data_in_leaf': 1, 'random_strength': 4.721714819599778, 'bootstrap_type': 'Bayesian', 'grow_policy': 'SymmetricTree', 'leaf_estimation_method': 'Gradient', 'leaf_estimation_iterations': 1, 'fold_permutation_block': 8, 'depth': 2, 'bagging_temperature': 8.061679695346138}. Best is trial 83 with value: 0.3969962388720403.\u001b[0m\n",
      "\u001b[32m[I 2022-04-28 16:19:18,445]\u001b[0m Trial 86 finished with value: 0.39880698211321897 and parameters: {'iterations': 117, 'learning_rate': 0.046685832912022544, 'l2_leaf_reg': 8.477085029923943, 'min_data_in_leaf': 7, 'random_strength': 4.026309677883619, 'bootstrap_type': 'Bayesian', 'grow_policy': 'SymmetricTree', 'leaf_estimation_method': 'Gradient', 'leaf_estimation_iterations': 1, 'fold_permutation_block': 8, 'depth': 1, 'bagging_temperature': 7.689249076770217}. Best is trial 83 with value: 0.3969962388720403.\u001b[0m\n",
      "\u001b[32m[I 2022-04-28 16:19:18,666]\u001b[0m Trial 87 finished with value: 0.4683697355248899 and parameters: {'iterations': 101, 'learning_rate': 0.04582814728293938, 'l2_leaf_reg': 6.892962184159656, 'min_data_in_leaf': 7, 'random_strength': 3.935067511293989, 'bootstrap_type': 'Bernoulli', 'grow_policy': 'SymmetricTree', 'leaf_estimation_method': 'Gradient', 'leaf_estimation_iterations': 1, 'fold_permutation_block': 8, 'depth': 1, 'subsample': 0.6603145623240405}. Best is trial 83 with value: 0.3969962388720403.\u001b[0m\n",
      "\u001b[32m[I 2022-04-28 16:19:18,945]\u001b[0m Trial 88 finished with value: 0.43478654958349966 and parameters: {'iterations': 110, 'learning_rate': 0.04923511717457768, 'l2_leaf_reg': 8.628768794846545, 'min_data_in_leaf': 3, 'random_strength': 4.202576449337867, 'bootstrap_type': 'Bayesian', 'grow_policy': 'SymmetricTree', 'leaf_estimation_method': 'Gradient', 'leaf_estimation_iterations': 1, 'fold_permutation_block': 7, 'depth': 2, 'bagging_temperature': 8.542233491315724}. Best is trial 83 with value: 0.3969962388720403.\u001b[0m\n",
      "\u001b[32m[I 2022-04-28 16:19:19,214]\u001b[0m Trial 89 finished with value: 0.4161766836736744 and parameters: {'iterations': 129, 'learning_rate': 0.05695189024341079, 'l2_leaf_reg': 6.534846636722691, 'min_data_in_leaf': 1, 'random_strength': 4.923914722478443, 'bootstrap_type': 'Bayesian', 'grow_policy': 'SymmetricTree', 'leaf_estimation_method': 'Newton', 'leaf_estimation_iterations': 1, 'fold_permutation_block': 8, 'depth': 1, 'bagging_temperature': 7.828017696559657}. Best is trial 83 with value: 0.3969962388720403.\u001b[0m\n",
      "\u001b[32m[I 2022-04-28 16:19:19,481]\u001b[0m Trial 90 finished with value: 0.4004838231075669 and parameters: {'iterations': 118, 'learning_rate': 0.053981289261016606, 'l2_leaf_reg': 7.282290613069055, 'min_data_in_leaf': 7, 'random_strength': 4.545750155109858, 'bootstrap_type': 'Bayesian', 'grow_policy': 'SymmetricTree', 'leaf_estimation_method': 'Gradient', 'leaf_estimation_iterations': 1, 'fold_permutation_block': 8, 'depth': 1, 'bagging_temperature': 8.272484278755284}. Best is trial 83 with value: 0.3969962388720403.\u001b[0m\n",
      "\u001b[32m[I 2022-04-28 16:19:19,739]\u001b[0m Trial 91 finished with value: 0.39870786348504755 and parameters: {'iterations': 119, 'learning_rate': 0.05228261115350628, 'l2_leaf_reg': 8.019128528244437, 'min_data_in_leaf': 6, 'random_strength': 4.528656038447365, 'bootstrap_type': 'Bayesian', 'grow_policy': 'SymmetricTree', 'leaf_estimation_method': 'Gradient', 'leaf_estimation_iterations': 1, 'fold_permutation_block': 8, 'depth': 1, 'bagging_temperature': 7.33798886373829}. Best is trial 83 with value: 0.3969962388720403.\u001b[0m\n",
      "\u001b[32m[I 2022-04-28 16:19:19,990]\u001b[0m Trial 92 finished with value: 0.39888395940016497 and parameters: {'iterations': 119, 'learning_rate': 0.052735503860143085, 'l2_leaf_reg': 7.40835891425575, 'min_data_in_leaf': 7, 'random_strength': 5.527690487396321, 'bootstrap_type': 'Bayesian', 'grow_policy': 'SymmetricTree', 'leaf_estimation_method': 'Gradient', 'leaf_estimation_iterations': 1, 'fold_permutation_block': 8, 'depth': 1, 'bagging_temperature': 7.317135216341371}. Best is trial 83 with value: 0.3969962388720403.\u001b[0m\n",
      "\u001b[32m[I 2022-04-28 16:19:20,237]\u001b[0m Trial 93 finished with value: 0.3995927913136191 and parameters: {'iterations': 117, 'learning_rate': 0.053931358772296926, 'l2_leaf_reg': 7.336891048231367, 'min_data_in_leaf': 5, 'random_strength': 5.412559164854732, 'bootstrap_type': 'Bayesian', 'grow_policy': 'SymmetricTree', 'leaf_estimation_method': 'Gradient', 'leaf_estimation_iterations': 1, 'fold_permutation_block': 7, 'depth': 1, 'bagging_temperature': 7.273060911977497}. Best is trial 83 with value: 0.3969962388720403.\u001b[0m\n",
      "\u001b[32m[I 2022-04-28 16:19:20,542]\u001b[0m Trial 94 finished with value: 0.43672111682375836 and parameters: {'iterations': 120, 'learning_rate': 0.053607296442308626, 'l2_leaf_reg': 6.347481125046738, 'min_data_in_leaf': 7, 'random_strength': 5.420390548624567, 'bootstrap_type': 'Bayesian', 'grow_policy': 'SymmetricTree', 'leaf_estimation_method': 'Gradient', 'leaf_estimation_iterations': 1, 'fold_permutation_block': 7, 'depth': 2, 'bagging_temperature': 7.380464555711323}. Best is trial 83 with value: 0.3969962388720403.\u001b[0m\n",
      "\u001b[32m[I 2022-04-28 16:19:20,789]\u001b[0m Trial 95 finished with value: 0.3990667969429444 and parameters: {'iterations': 100, 'learning_rate': 0.04816050537120602, 'l2_leaf_reg': 7.206179109528336, 'min_data_in_leaf': 8, 'random_strength': 5.744297332812182, 'bootstrap_type': 'Bayesian', 'grow_policy': 'SymmetricTree', 'leaf_estimation_method': 'Gradient', 'leaf_estimation_iterations': 1, 'fold_permutation_block': 8, 'depth': 1, 'bagging_temperature': 6.850901873927045}. Best is trial 83 with value: 0.3969962388720403.\u001b[0m\n",
      "\u001b[32m[I 2022-04-28 16:19:21,038]\u001b[0m Trial 96 finished with value: 0.3983594552224113 and parameters: {'iterations': 101, 'learning_rate': 0.04939160188090573, 'l2_leaf_reg': 7.998858395181888, 'min_data_in_leaf': 3, 'random_strength': 6.441243061201272, 'bootstrap_type': 'Bayesian', 'grow_policy': 'SymmetricTree', 'leaf_estimation_method': 'Gradient', 'leaf_estimation_iterations': 1, 'fold_permutation_block': 7, 'depth': 1, 'bagging_temperature': 6.813164226819254}. Best is trial 83 with value: 0.3969962388720403.\u001b[0m\n",
      "\u001b[32m[I 2022-04-28 16:19:21,299]\u001b[0m Trial 97 finished with value: 0.4356103347062356 and parameters: {'iterations': 101, 'learning_rate': 0.049311713457345, 'l2_leaf_reg': 7.42246156719752, 'min_data_in_leaf': 3, 'random_strength': 5.828911932116515, 'bootstrap_type': 'Bayesian', 'grow_policy': 'SymmetricTree', 'leaf_estimation_method': 'Gradient', 'leaf_estimation_iterations': 1, 'fold_permutation_block': 7, 'depth': 2, 'bagging_temperature': 6.78245860488856}. Best is trial 83 with value: 0.3969962388720403.\u001b[0m\n",
      "\u001b[32m[I 2022-04-28 16:19:21,579]\u001b[0m Trial 98 finished with value: 0.399373289662281 and parameters: {'iterations': 136, 'learning_rate': 0.037077318738007584, 'l2_leaf_reg': 7.958323144402369, 'min_data_in_leaf': 1, 'random_strength': 6.02639617989219, 'bootstrap_type': 'Bayesian', 'grow_policy': 'SymmetricTree', 'leaf_estimation_method': 'Gradient', 'leaf_estimation_iterations': 1, 'fold_permutation_block': 8, 'depth': 1, 'bagging_temperature': 7.233664320535311}. Best is trial 83 with value: 0.3969962388720403.\u001b[0m\n",
      "\u001b[32m[I 2022-04-28 16:19:21,861]\u001b[0m Trial 99 finished with value: 0.39934814803590785 and parameters: {'iterations': 138, 'learning_rate': 0.03982649428977656, 'l2_leaf_reg': 7.926954643000035, 'min_data_in_leaf': 1, 'random_strength': 6.215968980871017, 'bootstrap_type': 'Bayesian', 'grow_policy': 'SymmetricTree', 'leaf_estimation_method': 'Gradient', 'leaf_estimation_iterations': 1, 'fold_permutation_block': 7, 'depth': 1, 'bagging_temperature': 6.2939483611070735}. Best is trial 83 with value: 0.3969962388720403.\u001b[0m\n",
      "\u001b[32m[I 2022-04-28 16:19:22,175]\u001b[0m Trial 100 finished with value: 0.44246145362416617 and parameters: {'iterations': 136, 'learning_rate': 0.03477718651964665, 'l2_leaf_reg': 7.814952814386128, 'min_data_in_leaf': 1, 'random_strength': 6.430124873471675, 'bootstrap_type': 'Bayesian', 'grow_policy': 'SymmetricTree', 'leaf_estimation_method': 'Gradient', 'leaf_estimation_iterations': 1, 'fold_permutation_block': 7, 'depth': 2, 'bagging_temperature': 6.36094584776013}. Best is trial 83 with value: 0.3969962388720403.\u001b[0m\n",
      "\u001b[32m[I 2022-04-28 16:19:22,439]\u001b[0m Trial 101 finished with value: 0.4007567980603594 and parameters: {'iterations': 126, 'learning_rate': 0.04024285478571924, 'l2_leaf_reg': 8.033978490058946, 'min_data_in_leaf': 5, 'random_strength': 6.236098290799052, 'bootstrap_type': 'Bayesian', 'grow_policy': 'SymmetricTree', 'leaf_estimation_method': 'Gradient', 'leaf_estimation_iterations': 1, 'fold_permutation_block': 6, 'depth': 1, 'bagging_temperature': 7.128356639827242}. Best is trial 83 with value: 0.3969962388720403.\u001b[0m\n",
      "\u001b[32m[I 2022-04-28 16:19:22,738]\u001b[0m Trial 102 finished with value: 0.40082523168836387 and parameters: {'iterations': 141, 'learning_rate': 0.045689804801127144, 'l2_leaf_reg': 7.605717492570897, 'min_data_in_leaf': 73, 'random_strength': 6.678553627457451, 'bootstrap_type': 'Bayesian', 'grow_policy': 'SymmetricTree', 'leaf_estimation_method': 'Gradient', 'leaf_estimation_iterations': 1, 'fold_permutation_block': 8, 'depth': 1, 'bagging_temperature': 7.336099631457398}. Best is trial 83 with value: 0.3969962388720403.\u001b[0m\n",
      "\u001b[32m[I 2022-04-28 16:19:22,993]\u001b[0m Trial 103 finished with value: 0.39546476882252773 and parameters: {'iterations': 103, 'learning_rate': 0.029664342658860275, 'l2_leaf_reg': 7.02599498766976, 'min_data_in_leaf': 1, 'random_strength': 5.192664691965673, 'bootstrap_type': 'Bayesian', 'grow_policy': 'SymmetricTree', 'leaf_estimation_method': 'Gradient', 'leaf_estimation_iterations': 1, 'fold_permutation_block': 7, 'depth': 1, 'bagging_temperature': 6.796763612255896}. Best is trial 103 with value: 0.39546476882252773.\u001b[0m\n",
      "\u001b[32m[I 2022-04-28 16:19:23,235]\u001b[0m Trial 104 finished with value: 0.40332070264834435 and parameters: {'iterations': 101, 'learning_rate': 0.02801255695106411, 'l2_leaf_reg': 7.187501014077648, 'min_data_in_leaf': 1, 'random_strength': 5.810808090942223, 'bootstrap_type': 'Bayesian', 'grow_policy': 'SymmetricTree', 'leaf_estimation_method': 'Gradient', 'leaf_estimation_iterations': 1, 'fold_permutation_block': 7, 'depth': 1, 'bagging_temperature': 6.0343300021320045}. Best is trial 103 with value: 0.39546476882252773.\u001b[0m\n",
      "\u001b[32m[I 2022-04-28 16:19:23,504]\u001b[0m Trial 105 finished with value: 0.3985677020055382 and parameters: {'iterations': 122, 'learning_rate': 0.038338921357662016, 'l2_leaf_reg': 7.807182745465905, 'min_data_in_leaf': 4, 'random_strength': 5.2316854310849035, 'bootstrap_type': 'Bayesian', 'grow_policy': 'SymmetricTree', 'leaf_estimation_method': 'Gradient', 'leaf_estimation_iterations': 1, 'fold_permutation_block': 7, 'depth': 1, 'bagging_temperature': 6.816270121539798}. Best is trial 103 with value: 0.39546476882252773.\u001b[0m\n",
      "\u001b[32m[I 2022-04-28 16:19:23,816]\u001b[0m Trial 106 finished with value: 0.43536201464322427 and parameters: {'iterations': 129, 'learning_rate': 0.030663147079513935, 'l2_leaf_reg': 7.022477866226842, 'min_data_in_leaf': 9, 'random_strength': 5.06968398369964, 'bootstrap_type': 'Bayesian', 'grow_policy': 'SymmetricTree', 'leaf_estimation_method': 'Gradient', 'leaf_estimation_iterations': 1, 'fold_permutation_block': 8, 'depth': 2, 'bagging_temperature': 6.735790543729154}. Best is trial 103 with value: 0.39546476882252773.\u001b[0m\n",
      "\u001b[32m[I 2022-04-28 16:19:24,103]\u001b[0m Trial 107 finished with value: 0.4046567048670902 and parameters: {'iterations': 143, 'learning_rate': 0.01653820252274213, 'l2_leaf_reg': 7.885864541891384, 'min_data_in_leaf': 4, 'random_strength': 6.032469296315142, 'bootstrap_type': 'Bayesian', 'grow_policy': 'SymmetricTree', 'leaf_estimation_method': 'Gradient', 'leaf_estimation_iterations': 1, 'fold_permutation_block': 6, 'depth': 1, 'bagging_temperature': 5.384701935241331}. Best is trial 103 with value: 0.39546476882252773.\u001b[0m\n",
      "\u001b[32m[I 2022-04-28 16:19:24,339]\u001b[0m Trial 108 finished with value: 0.397873903228717 and parameters: {'iterations': 100, 'learning_rate': 0.03849944311920123, 'l2_leaf_reg': 7.576437589758368, 'min_data_in_leaf': 3, 'random_strength': 7.338286762642108, 'bootstrap_type': 'Bayesian', 'grow_policy': 'SymmetricTree', 'leaf_estimation_method': 'Gradient', 'leaf_estimation_iterations': 1, 'fold_permutation_block': 8, 'depth': 1, 'bagging_temperature': 7.56481659796402}. Best is trial 103 with value: 0.39546476882252773.\u001b[0m\n",
      "\u001b[32m[I 2022-04-28 16:19:25,187]\u001b[0m Trial 109 finished with value: 0.463933149711641 and parameters: {'iterations': 494, 'learning_rate': 0.04567332065803997, 'l2_leaf_reg': 7.473975085677398, 'min_data_in_leaf': 3, 'random_strength': 5.211284824908958, 'bootstrap_type': 'Bayesian', 'grow_policy': 'SymmetricTree', 'leaf_estimation_method': 'Gradient', 'leaf_estimation_iterations': 1, 'fold_permutation_block': 7, 'depth': 2, 'bagging_temperature': 7.610222562186543}. Best is trial 103 with value: 0.39546476882252773.\u001b[0m\n",
      "\u001b[32m[I 2022-04-28 16:19:25,440]\u001b[0m Trial 110 finished with value: 0.39857508998188 and parameters: {'iterations': 100, 'learning_rate': 0.043038445705386875, 'l2_leaf_reg': 6.3815690200276975, 'min_data_in_leaf': 11, 'random_strength': 6.555369448289382, 'bootstrap_type': 'Bayesian', 'grow_policy': 'SymmetricTree', 'leaf_estimation_method': 'Gradient', 'leaf_estimation_iterations': 1, 'fold_permutation_block': 8, 'depth': 1, 'bagging_temperature': 6.894105816215128}. Best is trial 103 with value: 0.39546476882252773.\u001b[0m\n",
      "\u001b[32m[I 2022-04-28 16:19:25,685]\u001b[0m Trial 111 finished with value: 0.39912912755996444 and parameters: {'iterations': 101, 'learning_rate': 0.04282552229260568, 'l2_leaf_reg': 6.910592142536423, 'min_data_in_leaf': 11, 'random_strength': 7.345061298791047, 'bootstrap_type': 'Bayesian', 'grow_policy': 'SymmetricTree', 'leaf_estimation_method': 'Gradient', 'leaf_estimation_iterations': 1, 'fold_permutation_block': 8, 'depth': 1, 'bagging_temperature': 6.947614427649932}. Best is trial 103 with value: 0.39546476882252773.\u001b[0m\n",
      "\u001b[32m[I 2022-04-28 16:19:25,915]\u001b[0m Trial 112 finished with value: 0.4000813402020678 and parameters: {'iterations': 100, 'learning_rate': 0.04779415640393844, 'l2_leaf_reg': 6.359140542353109, 'min_data_in_leaf': 12, 'random_strength': 7.175824340425406, 'bootstrap_type': 'Bayesian', 'grow_policy': 'SymmetricTree', 'leaf_estimation_method': 'Gradient', 'leaf_estimation_iterations': 1, 'fold_permutation_block': 8, 'depth': 1, 'bagging_temperature': 7.017947710050916}. Best is trial 103 with value: 0.39546476882252773.\u001b[0m\n",
      "\u001b[32m[I 2022-04-28 16:19:26,288]\u001b[0m Trial 113 finished with value: 0.5410049340686925 and parameters: {'iterations': 100, 'learning_rate': 0.04298927267757059, 'l2_leaf_reg': 6.71931457104774, 'min_data_in_leaf': 11, 'random_strength': 7.337547055150335, 'bootstrap_type': 'Bayesian', 'grow_policy': 'SymmetricTree', 'leaf_estimation_method': 'Gradient', 'leaf_estimation_iterations': 1, 'fold_permutation_block': 8, 'depth': 7, 'bagging_temperature': 6.527505010580668}. Best is trial 103 with value: 0.39546476882252773.\u001b[0m\n",
      "\u001b[32m[I 2022-04-28 16:19:26,544]\u001b[0m Trial 114 finished with value: 0.39893381769134656 and parameters: {'iterations': 120, 'learning_rate': 0.05142417578953059, 'l2_leaf_reg': 6.938919127623438, 'min_data_in_leaf': 9, 'random_strength': 8.054226776665967, 'bootstrap_type': 'Bayesian', 'grow_policy': 'SymmetricTree', 'leaf_estimation_method': 'Gradient', 'leaf_estimation_iterations': 1, 'fold_permutation_block': 8, 'depth': 1, 'bagging_temperature': 7.57436803643354}. Best is trial 103 with value: 0.39546476882252773.\u001b[0m\n",
      "\u001b[32m[I 2022-04-28 16:19:26,813]\u001b[0m Trial 115 finished with value: 0.3989365625298231 and parameters: {'iterations': 121, 'learning_rate': 0.0501446704703253, 'l2_leaf_reg': 5.756811420308989, 'min_data_in_leaf': 9, 'random_strength': 5.678288385516033, 'bootstrap_type': 'Bayesian', 'grow_policy': 'SymmetricTree', 'leaf_estimation_method': 'Gradient', 'leaf_estimation_iterations': 1, 'fold_permutation_block': 8, 'depth': 1, 'bagging_temperature': 7.601404889980197}. Best is trial 103 with value: 0.39546476882252773.\u001b[0m\n",
      "\u001b[32m[I 2022-04-28 16:19:27,096]\u001b[0m Trial 116 finished with value: 0.45428861781931795 and parameters: {'iterations': 123, 'learning_rate': 0.03510449522815779, 'l2_leaf_reg': 5.717846004291371, 'min_data_in_leaf': 9, 'random_strength': 6.591421209080076, 'bootstrap_type': 'Bernoulli', 'grow_policy': 'SymmetricTree', 'leaf_estimation_method': 'Gradient', 'leaf_estimation_iterations': 1, 'fold_permutation_block': 8, 'depth': 1, 'subsample': 0.9093900291783263}. Best is trial 103 with value: 0.39546476882252773.\u001b[0m\n",
      "\u001b[32m[I 2022-04-28 16:19:27,393]\u001b[0m Trial 117 finished with value: 0.41198616495875245 and parameters: {'iterations': 119, 'learning_rate': 0.05133507767231796, 'l2_leaf_reg': 6.5290159209176455, 'min_data_in_leaf': 5, 'random_strength': 8.037703789708154, 'bootstrap_type': 'Bayesian', 'grow_policy': 'SymmetricTree', 'leaf_estimation_method': 'Newton', 'leaf_estimation_iterations': 1, 'fold_permutation_block': 7, 'depth': 1, 'bagging_temperature': 7.685774914740486}. Best is trial 103 with value: 0.39546476882252773.\u001b[0m\n",
      "\u001b[32m[I 2022-04-28 16:19:27,697]\u001b[0m Trial 118 finished with value: 0.4340865139934708 and parameters: {'iterations': 108, 'learning_rate': 0.03765894850646977, 'l2_leaf_reg': 7.538775699811878, 'min_data_in_leaf': 3, 'random_strength': 5.616757949414959, 'bootstrap_type': 'Bayesian', 'grow_policy': 'SymmetricTree', 'leaf_estimation_method': 'Gradient', 'leaf_estimation_iterations': 1, 'fold_permutation_block': 8, 'depth': 2, 'bagging_temperature': 7.5246644176456385}. Best is trial 103 with value: 0.39546476882252773.\u001b[0m\n",
      "\u001b[32m[I 2022-04-28 16:19:27,963]\u001b[0m Trial 119 finished with value: 0.4011244392182336 and parameters: {'iterations': 128, 'learning_rate': 0.06014746998673628, 'l2_leaf_reg': 5.537095415788675, 'min_data_in_leaf': 9, 'random_strength': 4.8757334649447355, 'bootstrap_type': 'Bayesian', 'grow_policy': 'SymmetricTree', 'leaf_estimation_method': 'Gradient', 'leaf_estimation_iterations': 1, 'fold_permutation_block': 8, 'depth': 1, 'bagging_temperature': 7.863630007482055}. Best is trial 103 with value: 0.39546476882252773.\u001b[0m\n",
      "\u001b[32m[I 2022-04-28 16:19:28,225]\u001b[0m Trial 120 finished with value: 0.3995476375049805 and parameters: {'iterations': 118, 'learning_rate': 0.050795716504088456, 'l2_leaf_reg': 6.225331420380649, 'min_data_in_leaf': 5, 'random_strength': 8.246739441922953, 'bootstrap_type': 'Bayesian', 'grow_policy': 'SymmetricTree', 'leaf_estimation_method': 'Gradient', 'leaf_estimation_iterations': 1, 'fold_permutation_block': 8, 'depth': 1, 'bagging_temperature': 6.605992159079179}. Best is trial 103 with value: 0.39546476882252773.\u001b[0m\n",
      "\u001b[32m[I 2022-04-28 16:19:28,746]\u001b[0m Trial 121 finished with value: 0.5539762333176362 and parameters: {'iterations': 106, 'learning_rate': 0.04750452160315913, 'l2_leaf_reg': 7.7313452240158576, 'min_data_in_leaf': 9, 'random_strength': 5.6656181207164735, 'bootstrap_type': 'Bayesian', 'grow_policy': 'SymmetricTree', 'leaf_estimation_method': 'Gradient', 'leaf_estimation_iterations': 1, 'fold_permutation_block': 8, 'depth': 9, 'bagging_temperature': 6.794456869445753}. Best is trial 103 with value: 0.39546476882252773.\u001b[0m\n",
      "\u001b[32m[I 2022-04-28 16:19:29,007]\u001b[0m Trial 122 finished with value: 0.3988673493591222 and parameters: {'iterations': 115, 'learning_rate': 0.044254153620695666, 'l2_leaf_reg': 6.8440074723501505, 'min_data_in_leaf': 13, 'random_strength': 7.666927024707048, 'bootstrap_type': 'Bayesian', 'grow_policy': 'SymmetricTree', 'leaf_estimation_method': 'Gradient', 'leaf_estimation_iterations': 1, 'fold_permutation_block': 7, 'depth': 1, 'bagging_temperature': 5.970699081754538}. Best is trial 103 with value: 0.39546476882252773.\u001b[0m\n",
      "\u001b[32m[I 2022-04-28 16:19:29,264]\u001b[0m Trial 123 finished with value: 0.40042512270280234 and parameters: {'iterations': 113, 'learning_rate': 0.04471870054150256, 'l2_leaf_reg': 6.749904960324098, 'min_data_in_leaf': 13, 'random_strength': 5.257993598080507, 'bootstrap_type': 'Bayesian', 'grow_policy': 'SymmetricTree', 'leaf_estimation_method': 'Gradient', 'leaf_estimation_iterations': 1, 'fold_permutation_block': 7, 'depth': 1, 'bagging_temperature': 7.047073518441532}. Best is trial 103 with value: 0.39546476882252773.\u001b[0m\n",
      "\u001b[32m[I 2022-04-28 16:19:29,547]\u001b[0m Trial 124 finished with value: 0.40190359507141005 and parameters: {'iterations': 123, 'learning_rate': 0.05559248808071601, 'l2_leaf_reg': 6.929665373414253, 'min_data_in_leaf': 11, 'random_strength': 7.695705059499744, 'bootstrap_type': 'Bayesian', 'grow_policy': 'SymmetricTree', 'leaf_estimation_method': 'Gradient', 'leaf_estimation_iterations': 1, 'fold_permutation_block': 7, 'depth': 1, 'bagging_temperature': 6.085634537476299}. Best is trial 103 with value: 0.39546476882252773.\u001b[0m\n",
      "\u001b[32m[I 2022-04-28 16:19:30,361]\u001b[0m Trial 125 finished with value: 0.4150482269761228 and parameters: {'iterations': 457, 'learning_rate': 0.03178789524970874, 'l2_leaf_reg': 6.560873913957352, 'min_data_in_leaf': 3, 'random_strength': 6.855638986641891, 'bootstrap_type': 'Bayesian', 'grow_policy': 'SymmetricTree', 'leaf_estimation_method': 'Gradient', 'leaf_estimation_iterations': 1, 'fold_permutation_block': 8, 'depth': 1, 'bagging_temperature': 5.891066209845707}. Best is trial 103 with value: 0.39546476882252773.\u001b[0m\n",
      "\u001b[32m[I 2022-04-28 16:19:30,639]\u001b[0m Trial 126 finished with value: 0.3971687827715015 and parameters: {'iterations': 131, 'learning_rate': 0.03966209997682527, 'l2_leaf_reg': 6.239905798017761, 'min_data_in_leaf': 6, 'random_strength': 7.6722070375427105, 'bootstrap_type': 'Bayesian', 'grow_policy': 'SymmetricTree', 'leaf_estimation_method': 'Gradient', 'leaf_estimation_iterations': 1, 'fold_permutation_block': 7, 'depth': 1, 'bagging_temperature': 8.056753843283474}. Best is trial 103 with value: 0.39546476882252773.\u001b[0m\n",
      "\u001b[32m[I 2022-04-28 16:19:30,936]\u001b[0m Trial 127 finished with value: 0.39701211029489364 and parameters: {'iterations': 131, 'learning_rate': 0.03827238883343065, 'l2_leaf_reg': 7.103350220633878, 'min_data_in_leaf': 5, 'random_strength': 8.768130502690443, 'bootstrap_type': 'Bayesian', 'grow_policy': 'SymmetricTree', 'leaf_estimation_method': 'Gradient', 'leaf_estimation_iterations': 1, 'fold_permutation_block': 6, 'depth': 1, 'bagging_temperature': 8.08241944883686}. Best is trial 103 with value: 0.39546476882252773.\u001b[0m\n",
      "\u001b[32m[I 2022-04-28 16:19:31,244]\u001b[0m Trial 128 finished with value: 0.43139288267316994 and parameters: {'iterations': 132, 'learning_rate': 0.04018692426866404, 'l2_leaf_reg': 8.36767723830748, 'min_data_in_leaf': 6, 'random_strength': 4.275930433326148, 'bootstrap_type': 'Bayesian', 'grow_policy': 'SymmetricTree', 'leaf_estimation_method': 'Gradient', 'leaf_estimation_iterations': 1, 'fold_permutation_block': 6, 'depth': 2, 'bagging_temperature': 8.097990492226668}. Best is trial 103 with value: 0.39546476882252773.\u001b[0m\n",
      "\u001b[32m[I 2022-04-28 16:19:31,549]\u001b[0m Trial 129 finished with value: 0.41685950509588876 and parameters: {'iterations': 145, 'learning_rate': 0.03759584441983972, 'l2_leaf_reg': 6.111304304749595, 'min_data_in_leaf': 1, 'random_strength': 8.573087125492044, 'bootstrap_type': 'Bayesian', 'grow_policy': 'SymmetricTree', 'leaf_estimation_method': 'Gradient', 'leaf_estimation_iterations': 1, 'fold_permutation_block': 6, 'depth': 1, 'bagging_temperature': 4.913113825955418}. Best is trial 103 with value: 0.39546476882252773.\u001b[0m\n",
      "\u001b[32m[I 2022-04-28 16:19:31,798]\u001b[0m Trial 130 finished with value: 0.4016390829734535 and parameters: {'iterations': 108, 'learning_rate': 0.02813295044683818, 'l2_leaf_reg': 7.324075850837331, 'min_data_in_leaf': 4, 'random_strength': 4.552595773821666, 'bootstrap_type': 'Bayesian', 'grow_policy': 'SymmetricTree', 'leaf_estimation_method': 'Gradient', 'leaf_estimation_iterations': 1, 'fold_permutation_block': 7, 'depth': 1, 'bagging_temperature': 5.551269956200605}. Best is trial 103 with value: 0.39546476882252773.\u001b[0m\n",
      "\u001b[32m[I 2022-04-28 16:19:32,488]\u001b[0m Trial 131 finished with value: 0.40730026206394027 and parameters: {'iterations': 412, 'learning_rate': 0.01807626409568075, 'l2_leaf_reg': 7.077806492417021, 'min_data_in_leaf': 6, 'random_strength': 8.899293132967866, 'bootstrap_type': 'Bayesian', 'grow_policy': 'SymmetricTree', 'leaf_estimation_method': 'Gradient', 'leaf_estimation_iterations': 1, 'fold_permutation_block': 5, 'depth': 1, 'bagging_temperature': 7.433945334062298}. Best is trial 103 with value: 0.39546476882252773.\u001b[0m\n",
      "\u001b[32m[I 2022-04-28 16:19:32,741]\u001b[0m Trial 132 finished with value: 0.4004923997843324 and parameters: {'iterations': 115, 'learning_rate': 0.04384397800097058, 'l2_leaf_reg': 7.626570982551652, 'min_data_in_leaf': 14, 'random_strength': 9.437567344005599, 'bootstrap_type': 'Bayesian', 'grow_policy': 'SymmetricTree', 'leaf_estimation_method': 'Gradient', 'leaf_estimation_iterations': 1, 'fold_permutation_block': 7, 'depth': 1, 'bagging_temperature': 6.431335782338168}. Best is trial 103 with value: 0.39546476882252773.\u001b[0m\n",
      "\u001b[32m[I 2022-04-28 16:19:33,025]\u001b[0m Trial 133 finished with value: 0.39953793269275867 and parameters: {'iterations': 129, 'learning_rate': 0.04142075403309763, 'l2_leaf_reg': 6.841120308564743, 'min_data_in_leaf': 3, 'random_strength': 8.074272151984893, 'bootstrap_type': 'Bayesian', 'grow_policy': 'SymmetricTree', 'leaf_estimation_method': 'Gradient', 'leaf_estimation_iterations': 1, 'fold_permutation_block': 6, 'depth': 1, 'bagging_temperature': 7.973563393531964}. Best is trial 103 with value: 0.39546476882252773.\u001b[0m\n",
      "\u001b[32m[I 2022-04-28 16:19:33,293]\u001b[0m Trial 134 finished with value: 0.39956773127106254 and parameters: {'iterations': 107, 'learning_rate': 0.05965569953391417, 'l2_leaf_reg': 7.389469215460768, 'min_data_in_leaf': 8, 'random_strength': 7.723796801269205, 'bootstrap_type': 'Bayesian', 'grow_policy': 'SymmetricTree', 'leaf_estimation_method': 'Gradient', 'leaf_estimation_iterations': 1, 'fold_permutation_block': 7, 'depth': 1, 'bagging_temperature': 8.237296309607476}. Best is trial 103 with value: 0.39546476882252773.\u001b[0m\n",
      "\u001b[32m[I 2022-04-28 16:19:33,535]\u001b[0m Trial 135 finished with value: 0.3982170395522768 and parameters: {'iterations': 100, 'learning_rate': 0.038714995945241096, 'l2_leaf_reg': 7.122383122711476, 'min_data_in_leaf': 11, 'random_strength': 7.473431224064093, 'bootstrap_type': 'Bayesian', 'grow_policy': 'SymmetricTree', 'leaf_estimation_method': 'Gradient', 'leaf_estimation_iterations': 1, 'fold_permutation_block': 7, 'depth': 1, 'bagging_temperature': 7.763527359370219}. Best is trial 103 with value: 0.39546476882252773.\u001b[0m\n",
      "\u001b[32m[I 2022-04-28 16:19:33,824]\u001b[0m Trial 136 finished with value: 0.43168464948424917 and parameters: {'iterations': 113, 'learning_rate': 0.036495363337609166, 'l2_leaf_reg': 7.76664830008863, 'min_data_in_leaf': 11, 'random_strength': 7.142644268272977, 'bootstrap_type': 'Bayesian', 'grow_policy': 'SymmetricTree', 'leaf_estimation_method': 'Gradient', 'leaf_estimation_iterations': 1, 'fold_permutation_block': 7, 'depth': 2, 'bagging_temperature': 7.807515543517522}. Best is trial 103 with value: 0.39546476882252773.\u001b[0m\n",
      "\u001b[32m[I 2022-04-28 16:19:34,117]\u001b[0m Trial 137 finished with value: 0.3991310654832827 and parameters: {'iterations': 134, 'learning_rate': 0.04000592169443723, 'l2_leaf_reg': 8.269973942640798, 'min_data_in_leaf': 1, 'random_strength': 7.343033038438608, 'bootstrap_type': 'Bayesian', 'grow_policy': 'SymmetricTree', 'leaf_estimation_method': 'Gradient', 'leaf_estimation_iterations': 1, 'fold_permutation_block': 7, 'depth': 1, 'bagging_temperature': 7.127814254368202}. Best is trial 103 with value: 0.39546476882252773.\u001b[0m\n",
      "\u001b[32m[I 2022-04-28 16:19:34,364]\u001b[0m Trial 138 finished with value: 0.3985721910051733 and parameters: {'iterations': 101, 'learning_rate': 0.04652939599323503, 'l2_leaf_reg': 7.224000280776289, 'min_data_in_leaf': 5, 'random_strength': 7.585790224896333, 'bootstrap_type': 'Bayesian', 'grow_policy': 'SymmetricTree', 'leaf_estimation_method': 'Gradient', 'leaf_estimation_iterations': 1, 'fold_permutation_block': 6, 'depth': 1, 'bagging_temperature': 6.6324907695211355}. Best is trial 103 with value: 0.39546476882252773.\u001b[0m\n",
      "\u001b[32m[I 2022-04-28 16:19:34,613]\u001b[0m Trial 139 finished with value: 0.39807709502775723 and parameters: {'iterations': 102, 'learning_rate': 0.033407363856847914, 'l2_leaf_reg': 7.217626109415271, 'min_data_in_leaf': 5, 'random_strength': 7.604021669606372, 'bootstrap_type': 'Bayesian', 'grow_policy': 'SymmetricTree', 'leaf_estimation_method': 'Gradient', 'leaf_estimation_iterations': 1, 'fold_permutation_block': 6, 'depth': 1, 'bagging_temperature': 6.585391063064718}. Best is trial 103 with value: 0.39546476882252773.\u001b[0m\n",
      "\u001b[32m[I 2022-04-28 16:19:34,876]\u001b[0m Trial 140 finished with value: 0.43473012030862196 and parameters: {'iterations': 103, 'learning_rate': 0.032257377575410036, 'l2_leaf_reg': 8.680899026898544, 'min_data_in_leaf': 5, 'random_strength': 8.398707288356631, 'bootstrap_type': 'Bayesian', 'grow_policy': 'SymmetricTree', 'leaf_estimation_method': 'Gradient', 'leaf_estimation_iterations': 1, 'fold_permutation_block': 6, 'depth': 2, 'bagging_temperature': 6.6220219477397295}. Best is trial 103 with value: 0.39546476882252773.\u001b[0m\n",
      "\u001b[32m[I 2022-04-28 16:19:35,125]\u001b[0m Trial 141 finished with value: 0.39745614260028783 and parameters: {'iterations': 106, 'learning_rate': 0.03372280939602514, 'l2_leaf_reg': 7.145300705266325, 'min_data_in_leaf': 3, 'random_strength': 7.5124225868908425, 'bootstrap_type': 'Bayesian', 'grow_policy': 'SymmetricTree', 'leaf_estimation_method': 'Gradient', 'leaf_estimation_iterations': 1, 'fold_permutation_block': 5, 'depth': 1, 'bagging_temperature': 6.218586691828363}. Best is trial 103 with value: 0.39546476882252773.\u001b[0m\n",
      "\u001b[32m[I 2022-04-28 16:19:35,356]\u001b[0m Trial 142 finished with value: 0.3975010875353 and parameters: {'iterations': 100, 'learning_rate': 0.036640522639627304, 'l2_leaf_reg': 7.112280773868335, 'min_data_in_leaf': 2, 'random_strength': 7.528201278805274, 'bootstrap_type': 'Bayesian', 'grow_policy': 'SymmetricTree', 'leaf_estimation_method': 'Gradient', 'leaf_estimation_iterations': 1, 'fold_permutation_block': 5, 'depth': 1, 'bagging_temperature': 6.214388422883834}. Best is trial 103 with value: 0.39546476882252773.\u001b[0m\n",
      "\u001b[32m[I 2022-04-28 16:19:35,593]\u001b[0m Trial 143 finished with value: 0.39833531800675875 and parameters: {'iterations': 101, 'learning_rate': 0.029774414363814915, 'l2_leaf_reg': 7.110449048001538, 'min_data_in_leaf': 2, 'random_strength': 6.83486105600807, 'bootstrap_type': 'Bayesian', 'grow_policy': 'SymmetricTree', 'leaf_estimation_method': 'Gradient', 'leaf_estimation_iterations': 1, 'fold_permutation_block': 5, 'depth': 1, 'bagging_temperature': 6.217569973743622}. Best is trial 103 with value: 0.39546476882252773.\u001b[0m\n",
      "\u001b[32m[I 2022-04-28 16:19:35,841]\u001b[0m Trial 144 finished with value: 0.3966809921417025 and parameters: {'iterations': 100, 'learning_rate': 0.02944656361667047, 'l2_leaf_reg': 7.183122005237488, 'min_data_in_leaf': 1, 'random_strength': 6.946325457534294, 'bootstrap_type': 'Bayesian', 'grow_policy': 'SymmetricTree', 'leaf_estimation_method': 'Gradient', 'leaf_estimation_iterations': 1, 'fold_permutation_block': 5, 'depth': 1, 'bagging_temperature': 6.237486876471281}. Best is trial 103 with value: 0.39546476882252773.\u001b[0m\n",
      "\u001b[32m[I 2022-04-28 16:19:36,080]\u001b[0m Trial 145 finished with value: 0.39640278087516395 and parameters: {'iterations': 100, 'learning_rate': 0.028612786929681146, 'l2_leaf_reg': 7.166342770266404, 'min_data_in_leaf': 1, 'random_strength': 6.985938481638068, 'bootstrap_type': 'Bayesian', 'grow_policy': 'SymmetricTree', 'leaf_estimation_method': 'Gradient', 'leaf_estimation_iterations': 1, 'fold_permutation_block': 5, 'depth': 1, 'bagging_temperature': 6.207616800187024}. Best is trial 103 with value: 0.39546476882252773.\u001b[0m\n",
      "\u001b[32m[I 2022-04-28 16:19:39,921]\u001b[0m Trial 146 finished with value: 0.5750764599343888 and parameters: {'iterations': 322, 'learning_rate': 0.02433234168756984, 'l2_leaf_reg': 7.11009796175471, 'min_data_in_leaf': 1, 'random_strength': 6.932552198953023, 'bootstrap_type': 'Bayesian', 'grow_policy': 'Lossguide', 'leaf_estimation_method': 'Gradient', 'leaf_estimation_iterations': 1, 'fold_permutation_block': 5, 'max_leaves': 84, 'depth': 17, 'bagging_temperature': 5.643285331761112}. Best is trial 103 with value: 0.39546476882252773.\u001b[0m\n",
      "\u001b[32m[I 2022-04-28 16:19:40,162]\u001b[0m Trial 147 finished with value: 0.3972206174745066 and parameters: {'iterations': 100, 'learning_rate': 0.0303159030317355, 'l2_leaf_reg': 7.56642336855138, 'min_data_in_leaf': 2, 'random_strength': 6.7988164935207775, 'bootstrap_type': 'Bayesian', 'grow_policy': 'SymmetricTree', 'leaf_estimation_method': 'Gradient', 'leaf_estimation_iterations': 1, 'fold_permutation_block': 4, 'depth': 1, 'bagging_temperature': 6.26539362807881}. Best is trial 103 with value: 0.39546476882252773.\u001b[0m\n",
      "\u001b[32m[I 2022-04-28 16:19:40,417]\u001b[0m Trial 148 finished with value: 0.3967865218794617 and parameters: {'iterations': 108, 'learning_rate': 0.030547014606118195, 'l2_leaf_reg': 6.622745974113458, 'min_data_in_leaf': 1, 'random_strength': 7.044877004117979, 'bootstrap_type': 'Bayesian', 'grow_policy': 'SymmetricTree', 'leaf_estimation_method': 'Gradient', 'leaf_estimation_iterations': 1, 'fold_permutation_block': 4, 'depth': 1, 'bagging_temperature': 6.214961586990832}. Best is trial 103 with value: 0.39546476882252773.\u001b[0m\n",
      "\u001b[32m[I 2022-04-28 16:19:40,668]\u001b[0m Trial 149 finished with value: 0.4425660797451318 and parameters: {'iterations': 108, 'learning_rate': 0.02993867167136692, 'l2_leaf_reg': 6.52805899554561, 'min_data_in_leaf': 1, 'random_strength': 7.840736792564573, 'bootstrap_type': 'Bernoulli', 'grow_policy': 'SymmetricTree', 'leaf_estimation_method': 'Gradient', 'leaf_estimation_iterations': 1, 'fold_permutation_block': 4, 'depth': 1, 'subsample': 0.5253170886579553}. Best is trial 103 with value: 0.39546476882252773.\u001b[0m\n",
      "\u001b[32m[I 2022-04-28 16:19:40,902]\u001b[0m Trial 150 finished with value: 0.4020317313409196 and parameters: {'iterations': 100, 'learning_rate': 0.02717488566570458, 'l2_leaf_reg': 6.695642847916818, 'min_data_in_leaf': 1, 'random_strength': 6.807476937302675, 'bootstrap_type': 'Bayesian', 'grow_policy': 'SymmetricTree', 'leaf_estimation_method': 'Newton', 'leaf_estimation_iterations': 1, 'fold_permutation_block': 4, 'depth': 1, 'bagging_temperature': 6.240955676239764}. Best is trial 103 with value: 0.39546476882252773.\u001b[0m\n",
      "\u001b[32m[I 2022-04-28 16:19:41,158]\u001b[0m Trial 151 finished with value: 0.40246483799559973 and parameters: {'iterations': 107, 'learning_rate': 0.03393833595456339, 'l2_leaf_reg': 7.126497786574911, 'min_data_in_leaf': 2, 'random_strength': 7.113656552023587, 'bootstrap_type': 'Bayesian', 'grow_policy': 'SymmetricTree', 'leaf_estimation_method': 'Gradient', 'leaf_estimation_iterations': 1, 'fold_permutation_block': 5, 'depth': 1, 'bagging_temperature': 5.821343419863457}. Best is trial 103 with value: 0.39546476882252773.\u001b[0m\n",
      "\u001b[32m[I 2022-04-28 16:19:41,393]\u001b[0m Trial 152 finished with value: 0.39728903650555886 and parameters: {'iterations': 101, 'learning_rate': 0.020908938229550464, 'l2_leaf_reg': 7.511745672365948, 'min_data_in_leaf': 3, 'random_strength': 7.423917210746995, 'bootstrap_type': 'Bayesian', 'grow_policy': 'SymmetricTree', 'leaf_estimation_method': 'Gradient', 'leaf_estimation_iterations': 1, 'fold_permutation_block': 3, 'depth': 1, 'bagging_temperature': 6.277032095005102}. Best is trial 103 with value: 0.39546476882252773.\u001b[0m\n",
      "\u001b[32m[I 2022-04-28 16:19:41,653]\u001b[0m Trial 153 finished with value: 0.3983202418589788 and parameters: {'iterations': 108, 'learning_rate': 0.020365251137016607, 'l2_leaf_reg': 7.568008902666268, 'min_data_in_leaf': 3, 'random_strength': 7.41307106837315, 'bootstrap_type': 'Bayesian', 'grow_policy': 'SymmetricTree', 'leaf_estimation_method': 'Gradient', 'leaf_estimation_iterations': 1, 'fold_permutation_block': 3, 'depth': 1, 'bagging_temperature': 6.175162950962025}. Best is trial 103 with value: 0.39546476882252773.\u001b[0m\n",
      "\u001b[32m[I 2022-04-28 16:19:41,892]\u001b[0m Trial 154 finished with value: 0.3955128156131497 and parameters: {'iterations': 109, 'learning_rate': 0.017217544365193196, 'l2_leaf_reg': 7.536945964993774, 'min_data_in_leaf': 3, 'random_strength': 7.450833485755452, 'bootstrap_type': 'Bayesian', 'grow_policy': 'SymmetricTree', 'leaf_estimation_method': 'Gradient', 'leaf_estimation_iterations': 1, 'fold_permutation_block': 3, 'depth': 1, 'bagging_temperature': 6.410807867153961}. Best is trial 103 with value: 0.39546476882252773.\u001b[0m\n",
      "\u001b[32m[I 2022-04-28 16:19:42,148]\u001b[0m Trial 155 finished with value: 0.4335689886438597 and parameters: {'iterations': 111, 'learning_rate': 0.01309949844599986, 'l2_leaf_reg': 7.370525032634435, 'min_data_in_leaf': 58, 'random_strength': 7.486897019756544, 'bootstrap_type': 'Bayesian', 'grow_policy': 'SymmetricTree', 'leaf_estimation_method': 'Gradient', 'leaf_estimation_iterations': 1, 'fold_permutation_block': 3, 'depth': 2, 'bagging_temperature': 6.398040689160859}. Best is trial 103 with value: 0.39546476882252773.\u001b[0m\n",
      "\u001b[32m[I 2022-04-28 16:19:42,386]\u001b[0m Trial 156 finished with value: 0.407923786864477 and parameters: {'iterations': 100, 'learning_rate': 0.02255384237228393, 'l2_leaf_reg': 7.583103710146317, 'min_data_in_leaf': 1, 'random_strength': 7.188628257869721, 'bootstrap_type': 'Bayesian', 'grow_policy': 'SymmetricTree', 'leaf_estimation_method': 'Gradient', 'leaf_estimation_iterations': 1, 'fold_permutation_block': 2, 'depth': 1, 'bagging_temperature': 5.306939308062276}. Best is trial 103 with value: 0.39546476882252773.\u001b[0m\n",
      "\u001b[32m[I 2022-04-28 16:19:42,622]\u001b[0m Trial 157 finished with value: 0.4029750447885585 and parameters: {'iterations': 100, 'learning_rate': 0.03295902554391032, 'l2_leaf_reg': 7.303807507402524, 'min_data_in_leaf': 5, 'random_strength': 7.82395295516349, 'bootstrap_type': 'Bayesian', 'grow_policy': 'SymmetricTree', 'leaf_estimation_method': 'Gradient', 'leaf_estimation_iterations': 1, 'fold_permutation_block': 4, 'depth': 1, 'bagging_temperature': 5.53576711411208}. Best is trial 103 with value: 0.39546476882252773.\u001b[0m\n",
      "\u001b[32m[I 2022-04-28 16:19:42,976]\u001b[0m Trial 158 finished with value: 0.5031111764737624 and parameters: {'iterations': 127, 'learning_rate': 0.027225332249902316, 'l2_leaf_reg': 7.031581220279568, 'min_data_in_leaf': 3, 'random_strength': 7.466690918475519, 'bootstrap_type': 'Bayesian', 'grow_policy': 'SymmetricTree', 'leaf_estimation_method': 'Gradient', 'leaf_estimation_iterations': 1, 'fold_permutation_block': 3, 'depth': 4, 'bagging_temperature': 5.844334466154024}. Best is trial 103 with value: 0.39546476882252773.\u001b[0m\n",
      "\u001b[32m[I 2022-04-28 16:19:43,271]\u001b[0m Trial 159 finished with value: 0.4004193144194092 and parameters: {'iterations': 111, 'learning_rate': 0.025531136218872173, 'l2_leaf_reg': 6.7239208920140126, 'min_data_in_leaf': 1, 'random_strength': 8.191352827247353, 'bootstrap_type': 'Bayesian', 'grow_policy': 'SymmetricTree', 'leaf_estimation_method': 'Gradient', 'leaf_estimation_iterations': 1, 'fold_permutation_block': 5, 'depth': 1, 'bagging_temperature': 6.058241653661467}. Best is trial 103 with value: 0.39546476882252773.\u001b[0m\n",
      "\u001b[32m[I 2022-04-28 16:19:43,528]\u001b[0m Trial 160 finished with value: 0.39745673568882883 and parameters: {'iterations': 100, 'learning_rate': 0.03485120712475768, 'l2_leaf_reg': 7.533736740601432, 'min_data_in_leaf': 7, 'random_strength': 7.046870539634536, 'bootstrap_type': 'Bayesian', 'grow_policy': 'SymmetricTree', 'leaf_estimation_method': 'Gradient', 'leaf_estimation_iterations': 1, 'fold_permutation_block': 5, 'depth': 1, 'bagging_temperature': 6.472871282204643}. Best is trial 103 with value: 0.39546476882252773.\u001b[0m\n",
      "\u001b[32m[I 2022-04-28 16:19:43,775]\u001b[0m Trial 161 finished with value: 0.39851123988751685 and parameters: {'iterations': 107, 'learning_rate': 0.03511037179479526, 'l2_leaf_reg': 7.565620381225724, 'min_data_in_leaf': 7, 'random_strength': 6.996181569289043, 'bootstrap_type': 'Bayesian', 'grow_policy': 'SymmetricTree', 'leaf_estimation_method': 'Gradient', 'leaf_estimation_iterations': 1, 'fold_permutation_block': 5, 'depth': 1, 'bagging_temperature': 6.358086933515041}. Best is trial 103 with value: 0.39546476882252773.\u001b[0m\n",
      "\u001b[32m[I 2022-04-28 16:19:44,046]\u001b[0m Trial 162 finished with value: 0.39672201005657975 and parameters: {'iterations': 113, 'learning_rate': 0.013987932985625114, 'l2_leaf_reg': 7.266421862978383, 'min_data_in_leaf': 4, 'random_strength': 7.312093789639638, 'bootstrap_type': 'Bayesian', 'grow_policy': 'SymmetricTree', 'leaf_estimation_method': 'Gradient', 'leaf_estimation_iterations': 1, 'fold_permutation_block': 4, 'depth': 1, 'bagging_temperature': 6.48779156207369}. Best is trial 103 with value: 0.39546476882252773.\u001b[0m\n",
      "\u001b[32m[I 2022-04-28 16:19:44,313]\u001b[0m Trial 163 finished with value: 0.3956949363426523 and parameters: {'iterations': 116, 'learning_rate': 0.008251860437939622, 'l2_leaf_reg': 7.73038777632471, 'min_data_in_leaf': 5, 'random_strength': 7.2688412047801965, 'bootstrap_type': 'Bayesian', 'grow_policy': 'SymmetricTree', 'leaf_estimation_method': 'Gradient', 'leaf_estimation_iterations': 1, 'fold_permutation_block': 4, 'depth': 1, 'bagging_temperature': 6.4441210597384995}. Best is trial 103 with value: 0.39546476882252773.\u001b[0m\n",
      "\u001b[32m[I 2022-04-28 16:19:44,614]\u001b[0m Trial 164 finished with value: 0.39599553901057044 and parameters: {'iterations': 128, 'learning_rate': 0.011738976423327167, 'l2_leaf_reg': 7.455161488230899, 'min_data_in_leaf': 88, 'random_strength': 7.155063256048714, 'bootstrap_type': 'Bayesian', 'grow_policy': 'SymmetricTree', 'leaf_estimation_method': 'Gradient', 'leaf_estimation_iterations': 1, 'fold_permutation_block': 4, 'depth': 1, 'bagging_temperature': 6.449305560636783}. Best is trial 103 with value: 0.39546476882252773.\u001b[0m\n",
      "\u001b[32m[I 2022-04-28 16:19:44,884]\u001b[0m Trial 165 finished with value: 0.39716671356294997 and parameters: {'iterations': 127, 'learning_rate': 0.010397873418442987, 'l2_leaf_reg': 7.722621881856058, 'min_data_in_leaf': 95, 'random_strength': 7.212862627032813, 'bootstrap_type': 'Bayesian', 'grow_policy': 'SymmetricTree', 'leaf_estimation_method': 'Gradient', 'leaf_estimation_iterations': 1, 'fold_permutation_block': 4, 'depth': 1, 'bagging_temperature': 6.5043617785941095}. Best is trial 103 with value: 0.39546476882252773.\u001b[0m\n",
      "\u001b[32m[I 2022-04-28 16:19:45,183]\u001b[0m Trial 166 finished with value: 0.3965401258351866 and parameters: {'iterations': 142, 'learning_rate': 0.009771272424899568, 'l2_leaf_reg': 7.411617780772208, 'min_data_in_leaf': 90, 'random_strength': 6.661926970946647, 'bootstrap_type': 'Bayesian', 'grow_policy': 'SymmetricTree', 'leaf_estimation_method': 'Gradient', 'leaf_estimation_iterations': 1, 'fold_permutation_block': 4, 'depth': 1, 'bagging_temperature': 6.370875412806195}. Best is trial 103 with value: 0.39546476882252773.\u001b[0m\n",
      "\u001b[32m[I 2022-04-28 16:19:45,513]\u001b[0m Trial 167 finished with value: 0.39561443666748125 and parameters: {'iterations': 135, 'learning_rate': 0.010913573022455134, 'l2_leaf_reg': 7.851758511964643, 'min_data_in_leaf': 89, 'random_strength': 7.0192007426259115, 'bootstrap_type': 'Bayesian', 'grow_policy': 'SymmetricTree', 'leaf_estimation_method': 'Gradient', 'leaf_estimation_iterations': 1, 'fold_permutation_block': 4, 'depth': 1, 'bagging_temperature': 6.521370151050657}. Best is trial 103 with value: 0.39546476882252773.\u001b[0m\n",
      "\u001b[32m[I 2022-04-28 16:19:45,863]\u001b[0m Trial 168 finished with value: 0.44495695916139283 and parameters: {'iterations': 140, 'learning_rate': 0.011308322225266194, 'l2_leaf_reg': 7.783931930935047, 'min_data_in_leaf': 90, 'random_strength': 6.6866850982184385, 'bootstrap_type': 'Bayesian', 'grow_policy': 'SymmetricTree', 'leaf_estimation_method': 'Gradient', 'leaf_estimation_iterations': 1, 'fold_permutation_block': 4, 'depth': 2, 'bagging_temperature': 5.7514458088505656}. Best is trial 103 with value: 0.39546476882252773.\u001b[0m\n",
      "\u001b[32m[I 2022-04-28 16:19:46,167]\u001b[0m Trial 169 finished with value: 0.3984201739242499 and parameters: {'iterations': 144, 'learning_rate': 0.009804933706520575, 'l2_leaf_reg': 7.781441023521306, 'min_data_in_leaf': 93, 'random_strength': 7.2381545208557245, 'bootstrap_type': 'Bayesian', 'grow_policy': 'SymmetricTree', 'leaf_estimation_method': 'Gradient', 'leaf_estimation_iterations': 1, 'fold_permutation_block': 4, 'depth': 1, 'bagging_temperature': 6.012082631335909}. Best is trial 103 with value: 0.39546476882252773.\u001b[0m\n",
      "\u001b[32m[I 2022-04-28 16:19:46,454]\u001b[0m Trial 170 finished with value: 0.39512640909922303 and parameters: {'iterations': 133, 'learning_rate': 0.003197997801776981, 'l2_leaf_reg': 7.385872879950671, 'min_data_in_leaf': 91, 'random_strength': 6.779633869939157, 'bootstrap_type': 'Bayesian', 'grow_policy': 'SymmetricTree', 'leaf_estimation_method': 'Gradient', 'leaf_estimation_iterations': 1, 'fold_permutation_block': 4, 'depth': 1, 'bagging_temperature': 6.4362497179012905}. Best is trial 170 with value: 0.39512640909922303.\u001b[0m\n",
      "\u001b[32m[I 2022-04-28 16:19:46,748]\u001b[0m Trial 171 finished with value: 0.3953483337605332 and parameters: {'iterations': 133, 'learning_rate': 0.0028350552851310095, 'l2_leaf_reg': 7.369101121473723, 'min_data_in_leaf': 83, 'random_strength': 6.736121115456205, 'bootstrap_type': 'Bayesian', 'grow_policy': 'SymmetricTree', 'leaf_estimation_method': 'Gradient', 'leaf_estimation_iterations': 1, 'fold_permutation_block': 4, 'depth': 1, 'bagging_temperature': 6.460321816484357}. Best is trial 170 with value: 0.39512640909922303.\u001b[0m\n",
      "\u001b[32m[I 2022-04-28 16:19:47,025]\u001b[0m Trial 172 finished with value: 0.3968136484357234 and parameters: {'iterations': 132, 'learning_rate': 0.0010527805691063815, 'l2_leaf_reg': 7.394622317496901, 'min_data_in_leaf': 86, 'random_strength': 6.618518202745916, 'bootstrap_type': 'Bayesian', 'grow_policy': 'SymmetricTree', 'leaf_estimation_method': 'Gradient', 'leaf_estimation_iterations': 1, 'fold_permutation_block': 4, 'depth': 1, 'bagging_temperature': 6.456205322434498}. Best is trial 170 with value: 0.39512640909922303.\u001b[0m\n",
      "\u001b[32m[I 2022-04-28 16:19:47,333]\u001b[0m Trial 173 finished with value: 0.3954388692836904 and parameters: {'iterations': 148, 'learning_rate': 0.0029977284042107893, 'l2_leaf_reg': 7.359752145067145, 'min_data_in_leaf': 82, 'random_strength': 6.3242242354315845, 'bootstrap_type': 'Bayesian', 'grow_policy': 'SymmetricTree', 'leaf_estimation_method': 'Gradient', 'leaf_estimation_iterations': 1, 'fold_permutation_block': 4, 'depth': 1, 'bagging_temperature': 6.551868328733977}. Best is trial 170 with value: 0.39512640909922303.\u001b[0m\n",
      "\u001b[32m[I 2022-04-28 16:19:47,653]\u001b[0m Trial 174 finished with value: 0.39574442154131445 and parameters: {'iterations': 147, 'learning_rate': 0.0024803748473032784, 'l2_leaf_reg': 7.344283304584131, 'min_data_in_leaf': 82, 'random_strength': 6.4877809389291174, 'bootstrap_type': 'Bayesian', 'grow_policy': 'SymmetricTree', 'leaf_estimation_method': 'Gradient', 'leaf_estimation_iterations': 1, 'fold_permutation_block': 4, 'depth': 1, 'bagging_temperature': 6.520698230333439}. Best is trial 170 with value: 0.39512640909922303.\u001b[0m\n",
      "\u001b[32m[I 2022-04-28 16:19:47,978]\u001b[0m Trial 175 finished with value: 0.39403936669241446 and parameters: {'iterations': 148, 'learning_rate': 0.0012102501244384187, 'l2_leaf_reg': 7.353710289314434, 'min_data_in_leaf': 84, 'random_strength': 6.389002154931026, 'bootstrap_type': 'Bayesian', 'grow_policy': 'SymmetricTree', 'leaf_estimation_method': 'Gradient', 'leaf_estimation_iterations': 1, 'fold_permutation_block': 4, 'depth': 1, 'bagging_temperature': 6.584517527189521}. Best is trial 175 with value: 0.39403936669241446.\u001b[0m\n",
      "\u001b[32m[I 2022-04-28 16:19:48,295]\u001b[0m Trial 176 finished with value: 0.39637495323165034 and parameters: {'iterations': 151, 'learning_rate': 0.0013206865748335243, 'l2_leaf_reg': 7.34257237969869, 'min_data_in_leaf': 82, 'random_strength': 6.416080533151683, 'bootstrap_type': 'Bayesian', 'grow_policy': 'SymmetricTree', 'leaf_estimation_method': 'Gradient', 'leaf_estimation_iterations': 1, 'fold_permutation_block': 4, 'depth': 1, 'bagging_temperature': 6.44231692940732}. Best is trial 175 with value: 0.39403936669241446.\u001b[0m\n",
      "\u001b[32m[I 2022-04-28 16:19:48,634]\u001b[0m Trial 177 finished with value: 0.3946445241595271 and parameters: {'iterations': 161, 'learning_rate': 0.0016015988941155347, 'l2_leaf_reg': 7.320513779812393, 'min_data_in_leaf': 83, 'random_strength': 6.291082218328104, 'bootstrap_type': 'Bayesian', 'grow_policy': 'SymmetricTree', 'leaf_estimation_method': 'Gradient', 'leaf_estimation_iterations': 1, 'fold_permutation_block': 4, 'depth': 1, 'bagging_temperature': 6.662976094682361}. Best is trial 175 with value: 0.39403936669241446.\u001b[0m\n",
      "\u001b[32m[I 2022-04-28 16:19:48,943]\u001b[0m Trial 178 finished with value: 0.3952715351989167 and parameters: {'iterations': 156, 'learning_rate': 0.0027238562110247218, 'l2_leaf_reg': 7.373954633410448, 'min_data_in_leaf': 81, 'random_strength': 6.189001750004455, 'bootstrap_type': 'Bayesian', 'grow_policy': 'SymmetricTree', 'leaf_estimation_method': 'Gradient', 'leaf_estimation_iterations': 1, 'fold_permutation_block': 4, 'depth': 1, 'bagging_temperature': 6.60402160057094}. Best is trial 175 with value: 0.39403936669241446.\u001b[0m\n",
      "\u001b[32m[I 2022-04-28 16:19:50,852]\u001b[0m Trial 179 finished with value: 0.5696616453456108 and parameters: {'iterations': 150, 'learning_rate': 0.0037296969117527373, 'l2_leaf_reg': 7.320194210448661, 'min_data_in_leaf': 83, 'random_strength': 6.262157365414531, 'bootstrap_type': 'Bayesian', 'grow_policy': 'Lossguide', 'leaf_estimation_method': 'Gradient', 'leaf_estimation_iterations': 1, 'fold_permutation_block': 4, 'max_leaves': 231, 'depth': 12, 'bagging_temperature': 6.680104857886488}. Best is trial 175 with value: 0.39403936669241446.\u001b[0m\n",
      "\u001b[32m[I 2022-04-28 16:19:51,173]\u001b[0m Trial 180 finished with value: 0.395394078920434 and parameters: {'iterations': 162, 'learning_rate': 0.005589335164164461, 'l2_leaf_reg': 6.9155014102414905, 'min_data_in_leaf': 78, 'random_strength': 6.415252143350955, 'bootstrap_type': 'Bayesian', 'grow_policy': 'SymmetricTree', 'leaf_estimation_method': 'Gradient', 'leaf_estimation_iterations': 1, 'fold_permutation_block': 4, 'depth': 1, 'bagging_temperature': 6.732003383707905}. Best is trial 175 with value: 0.39403936669241446.\u001b[0m\n",
      "\u001b[32m[I 2022-04-28 16:19:51,490]\u001b[0m Trial 181 finished with value: 0.39434148944270603 and parameters: {'iterations': 167, 'learning_rate': 0.005733004208671174, 'l2_leaf_reg': 6.88982259239482, 'min_data_in_leaf': 78, 'random_strength': 6.408241027944216, 'bootstrap_type': 'Bayesian', 'grow_policy': 'SymmetricTree', 'leaf_estimation_method': 'Gradient', 'leaf_estimation_iterations': 1, 'fold_permutation_block': 4, 'depth': 1, 'bagging_temperature': 6.906165307591482}. Best is trial 175 with value: 0.39403936669241446.\u001b[0m\n",
      "\u001b[32m[I 2022-04-28 16:19:51,820]\u001b[0m Trial 182 finished with value: 0.39490527797253133 and parameters: {'iterations': 162, 'learning_rate': 0.006326093748850415, 'l2_leaf_reg': 6.898024943641019, 'min_data_in_leaf': 78, 'random_strength': 6.090390884258652, 'bootstrap_type': 'Bayesian', 'grow_policy': 'SymmetricTree', 'leaf_estimation_method': 'Gradient', 'leaf_estimation_iterations': 1, 'fold_permutation_block': 4, 'depth': 1, 'bagging_temperature': 6.906041995095182}. Best is trial 175 with value: 0.39403936669241446.\u001b[0m\n",
      "\u001b[32m[I 2022-04-28 16:19:52,165]\u001b[0m Trial 183 finished with value: 0.3952773173357886 and parameters: {'iterations': 164, 'learning_rate': 0.00598444805112431, 'l2_leaf_reg': 6.980197617478785, 'min_data_in_leaf': 78, 'random_strength': 6.088776475915079, 'bootstrap_type': 'Bayesian', 'grow_policy': 'SymmetricTree', 'leaf_estimation_method': 'Gradient', 'leaf_estimation_iterations': 1, 'fold_permutation_block': 4, 'depth': 1, 'bagging_temperature': 7.016298077333566}. Best is trial 175 with value: 0.39403936669241446.\u001b[0m\n",
      "\u001b[32m[I 2022-04-28 16:19:52,549]\u001b[0m Trial 184 finished with value: 0.3943675942964479 and parameters: {'iterations': 180, 'learning_rate': 0.006184974273842201, 'l2_leaf_reg': 6.802137731946532, 'min_data_in_leaf': 77, 'random_strength': 6.0162974861872875, 'bootstrap_type': 'Bayesian', 'grow_policy': 'SymmetricTree', 'leaf_estimation_method': 'Gradient', 'leaf_estimation_iterations': 1, 'fold_permutation_block': 4, 'depth': 1, 'bagging_temperature': 6.952202077457148}. Best is trial 175 with value: 0.39403936669241446.\u001b[0m\n",
      "\u001b[32m[I 2022-04-28 16:19:52,885]\u001b[0m Trial 185 finished with value: 0.39526805851350894 and parameters: {'iterations': 164, 'learning_rate': 0.005852603432395943, 'l2_leaf_reg': 6.872852701451322, 'min_data_in_leaf': 77, 'random_strength': 6.181571815677596, 'bootstrap_type': 'Bayesian', 'grow_policy': 'SymmetricTree', 'leaf_estimation_method': 'Gradient', 'leaf_estimation_iterations': 1, 'fold_permutation_block': 4, 'depth': 1, 'bagging_temperature': 7.020054542903913}. Best is trial 175 with value: 0.39403936669241446.\u001b[0m\n",
      "\u001b[32m[I 2022-04-28 16:19:53,236]\u001b[0m Trial 186 finished with value: 0.39507367172746405 and parameters: {'iterations': 180, 'learning_rate': 0.006285215233713377, 'l2_leaf_reg': 6.819938011410742, 'min_data_in_leaf': 77, 'random_strength': 6.0553228756097965, 'bootstrap_type': 'Bayesian', 'grow_policy': 'SymmetricTree', 'leaf_estimation_method': 'Gradient', 'leaf_estimation_iterations': 1, 'fold_permutation_block': 4, 'depth': 1, 'bagging_temperature': 7.030588611594752}. Best is trial 175 with value: 0.39403936669241446.\u001b[0m\n",
      "\u001b[32m[I 2022-04-28 16:19:53,577]\u001b[0m Trial 187 finished with value: 0.39511766264554304 and parameters: {'iterations': 177, 'learning_rate': 0.006286307698525303, 'l2_leaf_reg': 6.843463597694328, 'min_data_in_leaf': 77, 'random_strength': 6.0917680220421175, 'bootstrap_type': 'Bayesian', 'grow_policy': 'SymmetricTree', 'leaf_estimation_method': 'Gradient', 'leaf_estimation_iterations': 1, 'fold_permutation_block': 3, 'depth': 1, 'bagging_temperature': 7.026693127271625}. Best is trial 175 with value: 0.39403936669241446.\u001b[0m\n",
      "\u001b[32m[I 2022-04-28 16:19:53,941]\u001b[0m Trial 188 finished with value: 0.3957067528473545 and parameters: {'iterations': 185, 'learning_rate': 0.007077832269914501, 'l2_leaf_reg': 6.907971536855352, 'min_data_in_leaf': 76, 'random_strength': 6.139366391089833, 'bootstrap_type': 'Bayesian', 'grow_policy': 'SymmetricTree', 'leaf_estimation_method': 'Gradient', 'leaf_estimation_iterations': 1, 'fold_permutation_block': 3, 'depth': 1, 'bagging_temperature': 6.997441984931967}. Best is trial 175 with value: 0.39403936669241446.\u001b[0m\n",
      "\u001b[32m[I 2022-04-28 16:19:54,396]\u001b[0m Trial 189 finished with value: 0.4329138198795841 and parameters: {'iterations': 181, 'learning_rate': 0.006647348931725614, 'l2_leaf_reg': 6.8842866787382, 'min_data_in_leaf': 76, 'random_strength': 6.051803985625215, 'bootstrap_type': 'Bayesian', 'grow_policy': 'SymmetricTree', 'leaf_estimation_method': 'Gradient', 'leaf_estimation_iterations': 1, 'fold_permutation_block': 3, 'depth': 2, 'bagging_temperature': 7.021973191542446}. Best is trial 175 with value: 0.39403936669241446.\u001b[0m\n",
      "\u001b[32m[I 2022-04-28 16:19:54,750]\u001b[0m Trial 190 finished with value: 0.3942829677632706 and parameters: {'iterations': 168, 'learning_rate': 0.006469998849443411, 'l2_leaf_reg': 6.846598570656201, 'min_data_in_leaf': 77, 'random_strength': 6.143054656113926, 'bootstrap_type': 'Bayesian', 'grow_policy': 'SymmetricTree', 'leaf_estimation_method': 'Gradient', 'leaf_estimation_iterations': 1, 'fold_permutation_block': 3, 'depth': 1, 'bagging_temperature': 6.9180392536290505}. Best is trial 175 with value: 0.39403936669241446.\u001b[0m\n",
      "\u001b[32m[I 2022-04-28 16:19:55,071]\u001b[0m Trial 191 finished with value: 0.39472095901056453 and parameters: {'iterations': 167, 'learning_rate': 0.006808323695050486, 'l2_leaf_reg': 6.459308923354576, 'min_data_in_leaf': 76, 'random_strength': 6.138237439677954, 'bootstrap_type': 'Bayesian', 'grow_policy': 'SymmetricTree', 'leaf_estimation_method': 'Gradient', 'leaf_estimation_iterations': 1, 'fold_permutation_block': 3, 'depth': 1, 'bagging_temperature': 6.9758002860023645}. Best is trial 175 with value: 0.39403936669241446.\u001b[0m\n",
      "\u001b[32m[I 2022-04-28 16:19:55,399]\u001b[0m Trial 192 finished with value: 0.39460365412295945 and parameters: {'iterations': 167, 'learning_rate': 0.004439835481316581, 'l2_leaf_reg': 6.660686025298891, 'min_data_in_leaf': 77, 'random_strength': 5.990053059632821, 'bootstrap_type': 'Bayesian', 'grow_policy': 'SymmetricTree', 'leaf_estimation_method': 'Gradient', 'leaf_estimation_iterations': 1, 'fold_permutation_block': 3, 'depth': 1, 'bagging_temperature': 7.124100896579813}. Best is trial 175 with value: 0.39403936669241446.\u001b[0m\n",
      "\u001b[32m[I 2022-04-28 16:19:55,755]\u001b[0m Trial 193 finished with value: 0.3946157198207645 and parameters: {'iterations': 166, 'learning_rate': 0.0052334956659614296, 'l2_leaf_reg': 6.63723972637782, 'min_data_in_leaf': 79, 'random_strength': 5.92591919192886, 'bootstrap_type': 'Bayesian', 'grow_policy': 'SymmetricTree', 'leaf_estimation_method': 'Gradient', 'leaf_estimation_iterations': 1, 'fold_permutation_block': 3, 'depth': 1, 'bagging_temperature': 7.166279166304958}. Best is trial 175 with value: 0.39403936669241446.\u001b[0m\n",
      "\u001b[32m[I 2022-04-28 16:19:56,078]\u001b[0m Trial 194 finished with value: 0.3947894986411566 and parameters: {'iterations': 166, 'learning_rate': 0.005353713999945474, 'l2_leaf_reg': 6.407135025558312, 'min_data_in_leaf': 79, 'random_strength': 6.289099337267021, 'bootstrap_type': 'Bayesian', 'grow_policy': 'SymmetricTree', 'leaf_estimation_method': 'Gradient', 'leaf_estimation_iterations': 1, 'fold_permutation_block': 3, 'depth': 1, 'bagging_temperature': 7.2149928873081555}. Best is trial 175 with value: 0.39403936669241446.\u001b[0m\n",
      "\u001b[32m[I 2022-04-28 16:19:56,433]\u001b[0m Trial 195 finished with value: 0.3952876812690234 and parameters: {'iterations': 169, 'learning_rate': 0.004539938693454037, 'l2_leaf_reg': 6.482660093567803, 'min_data_in_leaf': 79, 'random_strength': 5.922313244976376, 'bootstrap_type': 'Bayesian', 'grow_policy': 'SymmetricTree', 'leaf_estimation_method': 'Gradient', 'leaf_estimation_iterations': 1, 'fold_permutation_block': 3, 'depth': 1, 'bagging_temperature': 7.1925086955400985}. Best is trial 175 with value: 0.39403936669241446.\u001b[0m\n",
      "\u001b[32m[I 2022-04-28 16:19:56,819]\u001b[0m Trial 196 finished with value: 0.39504425370848456 and parameters: {'iterations': 168, 'learning_rate': 0.005190563218131867, 'l2_leaf_reg': 6.343881059566386, 'min_data_in_leaf': 79, 'random_strength': 5.832713108961649, 'bootstrap_type': 'Bayesian', 'grow_policy': 'SymmetricTree', 'leaf_estimation_method': 'Gradient', 'leaf_estimation_iterations': 1, 'fold_permutation_block': 3, 'depth': 1, 'bagging_temperature': 7.147502090209564}. Best is trial 175 with value: 0.39403936669241446.\u001b[0m\n",
      "\u001b[32m[I 2022-04-28 16:19:57,158]\u001b[0m Trial 197 finished with value: 0.394499438198277 and parameters: {'iterations': 168, 'learning_rate': 0.005230973957930717, 'l2_leaf_reg': 6.38970952229681, 'min_data_in_leaf': 78, 'random_strength': 5.912846358152049, 'bootstrap_type': 'Bayesian', 'grow_policy': 'SymmetricTree', 'leaf_estimation_method': 'Gradient', 'leaf_estimation_iterations': 1, 'fold_permutation_block': 3, 'depth': 1, 'bagging_temperature': 7.057192715859811}. Best is trial 175 with value: 0.39403936669241446.\u001b[0m\n",
      "\u001b[32m[I 2022-04-28 16:19:57,511]\u001b[0m Trial 198 finished with value: 0.39531288693174504 and parameters: {'iterations': 169, 'learning_rate': 0.0047944651232470735, 'l2_leaf_reg': 6.034799918276389, 'min_data_in_leaf': 79, 'random_strength': 5.8915965389225615, 'bootstrap_type': 'Bayesian', 'grow_policy': 'SymmetricTree', 'leaf_estimation_method': 'Gradient', 'leaf_estimation_iterations': 1, 'fold_permutation_block': 3, 'depth': 1, 'bagging_temperature': 7.215738682605962}. Best is trial 175 with value: 0.39403936669241446.\u001b[0m\n",
      "\u001b[32m[I 2022-04-28 16:19:57,803]\u001b[0m Trial 199 finished with value: 0.444568278906897 and parameters: {'iterations': 169, 'learning_rate': 0.004694356687344116, 'l2_leaf_reg': 6.064023558849262, 'min_data_in_leaf': 79, 'random_strength': 5.8904833355593205, 'bootstrap_type': 'Bernoulli', 'grow_policy': 'SymmetricTree', 'leaf_estimation_method': 'Gradient', 'leaf_estimation_iterations': 1, 'fold_permutation_block': 3, 'depth': 1, 'subsample': 0.6909510045180727}. Best is trial 175 with value: 0.39403936669241446.\u001b[0m\n",
      "\u001b[32m[I 2022-04-28 16:19:58,135]\u001b[0m Trial 200 finished with value: 0.39984693912897934 and parameters: {'iterations': 177, 'learning_rate': 0.007945947653388998, 'l2_leaf_reg': 6.405399776851066, 'min_data_in_leaf': 71, 'random_strength': 5.879199578386455, 'bootstrap_type': 'Bayesian', 'grow_policy': 'SymmetricTree', 'leaf_estimation_method': 'Newton', 'leaf_estimation_iterations': 1, 'fold_permutation_block': 2, 'depth': 1, 'bagging_temperature': 7.219458549535077}. Best is trial 175 with value: 0.39403936669241446.\u001b[0m\n",
      "\u001b[32m[I 2022-04-28 16:19:58,501]\u001b[0m Trial 201 finished with value: 0.39538582303044095 and parameters: {'iterations': 193, 'learning_rate': 0.005279484213844678, 'l2_leaf_reg': 6.314167866626124, 'min_data_in_leaf': 79, 'random_strength': 6.080023287826469, 'bootstrap_type': 'Bayesian', 'grow_policy': 'SymmetricTree', 'leaf_estimation_method': 'Gradient', 'leaf_estimation_iterations': 1, 'fold_permutation_block': 3, 'depth': 1, 'bagging_temperature': 7.189383426063619}. Best is trial 175 with value: 0.39403936669241446.\u001b[0m\n",
      "\u001b[32m[I 2022-04-28 16:19:58,829]\u001b[0m Trial 202 finished with value: 0.3932566550028393 and parameters: {'iterations': 165, 'learning_rate': 0.0012552598233584126, 'l2_leaf_reg': 6.587034126508129, 'min_data_in_leaf': 73, 'random_strength': 6.156837784106819, 'bootstrap_type': 'Bayesian', 'grow_policy': 'SymmetricTree', 'leaf_estimation_method': 'Gradient', 'leaf_estimation_iterations': 1, 'fold_permutation_block': 3, 'depth': 1, 'bagging_temperature': 6.994043103273172}. Best is trial 202 with value: 0.3932566550028393.\u001b[0m\n",
      "\u001b[32m[I 2022-04-28 16:19:59,170]\u001b[0m Trial 203 finished with value: 0.39558019078740814 and parameters: {'iterations': 170, 'learning_rate': 0.006606516929303322, 'l2_leaf_reg': 5.901969489461673, 'min_data_in_leaf': 74, 'random_strength': 5.936477666897531, 'bootstrap_type': 'Bayesian', 'grow_policy': 'SymmetricTree', 'leaf_estimation_method': 'Gradient', 'leaf_estimation_iterations': 1, 'fold_permutation_block': 3, 'depth': 1, 'bagging_temperature': 7.032602014910586}. Best is trial 202 with value: 0.3932566550028393.\u001b[0m\n",
      "\u001b[32m[I 2022-04-28 16:19:59,513]\u001b[0m Trial 204 finished with value: 0.39549447148208355 and parameters: {'iterations': 162, 'learning_rate': 0.0013931756455039467, 'l2_leaf_reg': 6.5014441692252, 'min_data_in_leaf': 76, 'random_strength': 6.1755081895229145, 'bootstrap_type': 'Bayesian', 'grow_policy': 'SymmetricTree', 'leaf_estimation_method': 'Gradient', 'leaf_estimation_iterations': 1, 'fold_permutation_block': 3, 'depth': 1, 'bagging_temperature': 7.347156141605159}. Best is trial 202 with value: 0.3932566550028393.\u001b[0m\n",
      "\u001b[32m[I 2022-04-28 16:19:59,878]\u001b[0m Trial 205 finished with value: 0.39360276650040515 and parameters: {'iterations': 177, 'learning_rate': 0.0043244011656456095, 'l2_leaf_reg': 6.602600926687774, 'min_data_in_leaf': 80, 'random_strength': 5.720769109727179, 'bootstrap_type': 'Bayesian', 'grow_policy': 'SymmetricTree', 'leaf_estimation_method': 'Gradient', 'leaf_estimation_iterations': 1, 'fold_permutation_block': 3, 'depth': 1, 'bagging_temperature': 6.9071945030348925}. Best is trial 202 with value: 0.3932566550028393.\u001b[0m\n",
      "\u001b[32m[I 2022-04-28 16:20:00,202]\u001b[0m Trial 206 finished with value: 0.3958994250091555 and parameters: {'iterations': 175, 'learning_rate': 0.008596908472710947, 'l2_leaf_reg': 6.637379241329969, 'min_data_in_leaf': 85, 'random_strength': 6.261242890308141, 'bootstrap_type': 'Bayesian', 'grow_policy': 'SymmetricTree', 'leaf_estimation_method': 'Gradient', 'leaf_estimation_iterations': 1, 'fold_permutation_block': 3, 'depth': 1, 'bagging_temperature': 6.920820288147333}. Best is trial 202 with value: 0.3932566550028393.\u001b[0m\n",
      "\u001b[32m[I 2022-04-28 16:20:00,515]\u001b[0m Trial 207 finished with value: 0.3940006055724925 and parameters: {'iterations': 161, 'learning_rate': 0.0032955335654368976, 'l2_leaf_reg': 6.262577349337203, 'min_data_in_leaf': 70, 'random_strength': 5.513430806969166, 'bootstrap_type': 'Bayesian', 'grow_policy': 'SymmetricTree', 'leaf_estimation_method': 'Gradient', 'leaf_estimation_iterations': 1, 'fold_permutation_block': 2, 'depth': 1, 'bagging_temperature': 6.920566075417208}. Best is trial 202 with value: 0.3932566550028393.\u001b[0m\n",
      "\u001b[32m[I 2022-04-28 16:20:00,857]\u001b[0m Trial 208 finished with value: 0.3935662401958451 and parameters: {'iterations': 158, 'learning_rate': 0.0028301783237146654, 'l2_leaf_reg': 6.256635101218098, 'min_data_in_leaf': 72, 'random_strength': 5.456516288909256, 'bootstrap_type': 'Bayesian', 'grow_policy': 'SymmetricTree', 'leaf_estimation_method': 'Gradient', 'leaf_estimation_iterations': 1, 'fold_permutation_block': 2, 'depth': 1, 'bagging_temperature': 6.90633490482264}. Best is trial 202 with value: 0.3932566550028393.\u001b[0m\n",
      "\u001b[32m[I 2022-04-28 16:20:01,267]\u001b[0m Trial 209 finished with value: 0.39372069062942466 and parameters: {'iterations': 187, 'learning_rate': 0.0018343496941256921, 'l2_leaf_reg': 6.349946657166241, 'min_data_in_leaf': 70, 'random_strength': 5.594387640382944, 'bootstrap_type': 'Bayesian', 'grow_policy': 'SymmetricTree', 'leaf_estimation_method': 'Gradient', 'leaf_estimation_iterations': 1, 'fold_permutation_block': 2, 'depth': 1, 'bagging_temperature': 6.870693749822295}. Best is trial 202 with value: 0.3932566550028393.\u001b[0m\n",
      "\u001b[32m[I 2022-04-28 16:20:01,811]\u001b[0m Trial 210 finished with value: 0.5011537328264583 and parameters: {'iterations': 189, 'learning_rate': 0.0019284137576435223, 'l2_leaf_reg': 6.202053264252865, 'min_data_in_leaf': 70, 'random_strength': 5.42966425989289, 'bootstrap_type': 'Bayesian', 'grow_policy': 'SymmetricTree', 'leaf_estimation_method': 'Gradient', 'leaf_estimation_iterations': 1, 'fold_permutation_block': 2, 'depth': 5, 'bagging_temperature': 6.838681411585762}. Best is trial 202 with value: 0.3932566550028393.\u001b[0m\n",
      "\u001b[32m[I 2022-04-28 16:20:02,151]\u001b[0m Trial 211 finished with value: 0.3953606008619836 and parameters: {'iterations': 158, 'learning_rate': 0.00339050569705124, 'l2_leaf_reg': 6.303901090043622, 'min_data_in_leaf': 74, 'random_strength': 5.700231052647231, 'bootstrap_type': 'Bayesian', 'grow_policy': 'SymmetricTree', 'leaf_estimation_method': 'Gradient', 'leaf_estimation_iterations': 1, 'fold_permutation_block': 2, 'depth': 1, 'bagging_temperature': 7.4391682159532815}. Best is trial 202 with value: 0.3932566550028393.\u001b[0m\n",
      "\u001b[32m[I 2022-04-28 16:20:02,500]\u001b[0m Trial 212 finished with value: 0.3927172856375721 and parameters: {'iterations': 177, 'learning_rate': 0.0012061194558965482, 'l2_leaf_reg': 6.695987526075604, 'min_data_in_leaf': 68, 'random_strength': 5.551714747524177, 'bootstrap_type': 'Bayesian', 'grow_policy': 'SymmetricTree', 'leaf_estimation_method': 'Gradient', 'leaf_estimation_iterations': 1, 'fold_permutation_block': 2, 'depth': 1, 'bagging_temperature': 6.9165664270582505}. Best is trial 212 with value: 0.3927172856375721.\u001b[0m\n",
      "\u001b[32m[I 2022-04-28 16:20:02,902]\u001b[0m Trial 213 finished with value: 0.39416724795195485 and parameters: {'iterations': 207, 'learning_rate': 0.001089083366095759, 'l2_leaf_reg': 6.700071794696823, 'min_data_in_leaf': 71, 'random_strength': 5.597098512804799, 'bootstrap_type': 'Bayesian', 'grow_policy': 'SymmetricTree', 'leaf_estimation_method': 'Gradient', 'leaf_estimation_iterations': 1, 'fold_permutation_block': 2, 'depth': 1, 'bagging_temperature': 6.908548893187891}. Best is trial 212 with value: 0.3927172856375721.\u001b[0m\n",
      "\u001b[32m[I 2022-04-28 16:20:03,288]\u001b[0m Trial 214 finished with value: 0.3939115733607754 and parameters: {'iterations': 199, 'learning_rate': 0.00131714828035198, 'l2_leaf_reg': 6.6981099646812625, 'min_data_in_leaf': 65, 'random_strength': 5.643305190317238, 'bootstrap_type': 'Bayesian', 'grow_policy': 'SymmetricTree', 'leaf_estimation_method': 'Gradient', 'leaf_estimation_iterations': 1, 'fold_permutation_block': 1, 'depth': 1, 'bagging_temperature': 6.852747938671634}. Best is trial 212 with value: 0.3927172856375721.\u001b[0m\n",
      "\u001b[32m[I 2022-04-28 16:20:03,666]\u001b[0m Trial 215 finished with value: 0.3937855839723749 and parameters: {'iterations': 200, 'learning_rate': 0.0012446319266490899, 'l2_leaf_reg': 6.697306603624238, 'min_data_in_leaf': 65, 'random_strength': 5.506909578901818, 'bootstrap_type': 'Bayesian', 'grow_policy': 'SymmetricTree', 'leaf_estimation_method': 'Gradient', 'leaf_estimation_iterations': 1, 'fold_permutation_block': 1, 'depth': 1, 'bagging_temperature': 6.860339442203652}. Best is trial 212 with value: 0.3927172856375721.\u001b[0m\n",
      "\u001b[32m[I 2022-04-28 16:20:04,049]\u001b[0m Trial 216 finished with value: 0.3945786476930788 and parameters: {'iterations': 207, 'learning_rate': 0.001912399910584137, 'l2_leaf_reg': 6.663432089873444, 'min_data_in_leaf': 68, 'random_strength': 5.519113875526552, 'bootstrap_type': 'Bayesian', 'grow_policy': 'SymmetricTree', 'leaf_estimation_method': 'Gradient', 'leaf_estimation_iterations': 1, 'fold_permutation_block': 1, 'depth': 1, 'bagging_temperature': 6.854833883889947}. Best is trial 212 with value: 0.3927172856375721.\u001b[0m\n",
      "\u001b[32m[I 2022-04-28 16:20:04,437]\u001b[0m Trial 217 finished with value: 0.39350007335294235 and parameters: {'iterations': 204, 'learning_rate': 0.0014004272807023855, 'l2_leaf_reg': 6.510183479100388, 'min_data_in_leaf': 61, 'random_strength': 5.603071502458796, 'bootstrap_type': 'Bayesian', 'grow_policy': 'SymmetricTree', 'leaf_estimation_method': 'Gradient', 'leaf_estimation_iterations': 1, 'fold_permutation_block': 1, 'depth': 1, 'bagging_temperature': 6.808325369381589}. Best is trial 212 with value: 0.3927172856375721.\u001b[0m\n",
      "\u001b[32m[I 2022-04-28 16:20:04,814]\u001b[0m Trial 218 finished with value: 0.39471800825215314 and parameters: {'iterations': 207, 'learning_rate': 0.0013935239958657586, 'l2_leaf_reg': 6.5360853768207265, 'min_data_in_leaf': 63, 'random_strength': 5.449085614121231, 'bootstrap_type': 'Bayesian', 'grow_policy': 'SymmetricTree', 'leaf_estimation_method': 'Gradient', 'leaf_estimation_iterations': 1, 'fold_permutation_block': 1, 'depth': 1, 'bagging_temperature': 6.819385194589589}. Best is trial 212 with value: 0.3927172856375721.\u001b[0m\n",
      "\u001b[32m[I 2022-04-28 16:20:05,197]\u001b[0m Trial 219 finished with value: 0.39578213220151315 and parameters: {'iterations': 209, 'learning_rate': 0.0015430472779782288, 'l2_leaf_reg': 6.646628272116041, 'min_data_in_leaf': 63, 'random_strength': 5.46714672511391, 'bootstrap_type': 'Bayesian', 'grow_policy': 'SymmetricTree', 'leaf_estimation_method': 'Gradient', 'leaf_estimation_iterations': 1, 'fold_permutation_block': 1, 'depth': 1, 'bagging_temperature': 6.8135186428905605}. Best is trial 212 with value: 0.3927172856375721.\u001b[0m\n",
      "\u001b[32m[I 2022-04-28 16:20:05,586]\u001b[0m Trial 220 finished with value: 0.39408680614372815 and parameters: {'iterations': 202, 'learning_rate': 0.001386474761526589, 'l2_leaf_reg': 6.509462527856081, 'min_data_in_leaf': 67, 'random_strength': 5.507571528189, 'bootstrap_type': 'Bayesian', 'grow_policy': 'SymmetricTree', 'leaf_estimation_method': 'Gradient', 'leaf_estimation_iterations': 1, 'fold_permutation_block': 1, 'depth': 1, 'bagging_temperature': 6.761608946557884}. Best is trial 212 with value: 0.3927172856375721.\u001b[0m\n",
      "\u001b[32m[I 2022-04-28 16:20:06,020]\u001b[0m Trial 221 finished with value: 0.39407472419903217 and parameters: {'iterations': 206, 'learning_rate': 0.0014264739280745154, 'l2_leaf_reg': 6.499615809838383, 'min_data_in_leaf': 61, 'random_strength': 5.5956075752661185, 'bootstrap_type': 'Bayesian', 'grow_policy': 'SymmetricTree', 'leaf_estimation_method': 'Gradient', 'leaf_estimation_iterations': 1, 'fold_permutation_block': 1, 'depth': 1, 'bagging_temperature': 6.745944529423048}. Best is trial 212 with value: 0.3927172856375721.\u001b[0m\n",
      "\u001b[32m[I 2022-04-28 16:20:06,431]\u001b[0m Trial 222 finished with value: 0.3938253848663266 and parameters: {'iterations': 203, 'learning_rate': 0.001567388449861622, 'l2_leaf_reg': 6.61267820161171, 'min_data_in_leaf': 65, 'random_strength': 5.588927371757966, 'bootstrap_type': 'Bayesian', 'grow_policy': 'SymmetricTree', 'leaf_estimation_method': 'Gradient', 'leaf_estimation_iterations': 1, 'fold_permutation_block': 1, 'depth': 1, 'bagging_temperature': 6.7799979667710435}. Best is trial 212 with value: 0.3927172856375721.\u001b[0m\n",
      "\u001b[32m[I 2022-04-28 16:20:06,824]\u001b[0m Trial 223 finished with value: 0.39755662178926165 and parameters: {'iterations': 218, 'learning_rate': 0.0010411865605920304, 'l2_leaf_reg': 6.613480867142899, 'min_data_in_leaf': 65, 'random_strength': 5.338148096241597, 'bootstrap_type': 'Bayesian', 'grow_policy': 'SymmetricTree', 'leaf_estimation_method': 'Gradient', 'leaf_estimation_iterations': 1, 'fold_permutation_block': 1, 'depth': 1, 'bagging_temperature': 6.793816770816695}. Best is trial 212 with value: 0.3927172856375721.\u001b[0m\n",
      "\u001b[32m[I 2022-04-28 16:20:07,282]\u001b[0m Trial 224 finished with value: 0.3937614148679706 and parameters: {'iterations': 202, 'learning_rate': 0.0013691861573236538, 'l2_leaf_reg': 6.174942699142129, 'min_data_in_leaf': 68, 'random_strength': 5.565435425179177, 'bootstrap_type': 'Bayesian', 'grow_policy': 'SymmetricTree', 'leaf_estimation_method': 'Gradient', 'leaf_estimation_iterations': 1, 'fold_permutation_block': 1, 'depth': 1, 'bagging_temperature': 6.714631327503225}. Best is trial 212 with value: 0.3927172856375721.\u001b[0m\n",
      "\u001b[32m[I 2022-04-28 16:20:07,698]\u001b[0m Trial 225 finished with value: 0.39417291070569954 and parameters: {'iterations': 199, 'learning_rate': 0.003423508444209803, 'l2_leaf_reg': 6.155956618268683, 'min_data_in_leaf': 68, 'random_strength': 5.576580413225597, 'bootstrap_type': 'Bayesian', 'grow_policy': 'SymmetricTree', 'leaf_estimation_method': 'Gradient', 'leaf_estimation_iterations': 1, 'fold_permutation_block': 1, 'depth': 1, 'bagging_temperature': 6.698137024703761}. Best is trial 212 with value: 0.3927172856375721.\u001b[0m\n",
      "\u001b[32m[I 2022-04-28 16:20:08,112]\u001b[0m Trial 226 finished with value: 0.395590483563675 and parameters: {'iterations': 230, 'learning_rate': 0.001045629153572617, 'l2_leaf_reg': 6.15034202436661, 'min_data_in_leaf': 68, 'random_strength': 5.603067099577108, 'bootstrap_type': 'Bayesian', 'grow_policy': 'SymmetricTree', 'leaf_estimation_method': 'Gradient', 'leaf_estimation_iterations': 1, 'fold_permutation_block': 1, 'depth': 1, 'bagging_temperature': 6.747884401760425}. Best is trial 212 with value: 0.3927172856375721.\u001b[0m\n",
      "\u001b[32m[I 2022-04-28 16:20:08,506]\u001b[0m Trial 227 finished with value: 0.3959006377758123 and parameters: {'iterations': 199, 'learning_rate': 0.0036089276602187612, 'l2_leaf_reg': 5.9605290291921635, 'min_data_in_leaf': 68, 'random_strength': 5.037639753258336, 'bootstrap_type': 'Bayesian', 'grow_policy': 'SymmetricTree', 'leaf_estimation_method': 'Gradient', 'leaf_estimation_iterations': 1, 'fold_permutation_block': 1, 'depth': 1, 'bagging_temperature': 7.382825848240477}. Best is trial 212 with value: 0.3927172856375721.\u001b[0m\n",
      "\u001b[32m[I 2022-04-28 16:20:08,886]\u001b[0m Trial 228 finished with value: 0.39393952985669695 and parameters: {'iterations': 199, 'learning_rate': 0.003215610153684711, 'l2_leaf_reg': 6.225777067323162, 'min_data_in_leaf': 71, 'random_strength': 5.667302300310026, 'bootstrap_type': 'Bayesian', 'grow_policy': 'SymmetricTree', 'leaf_estimation_method': 'Gradient', 'leaf_estimation_iterations': 1, 'fold_permutation_block': 1, 'depth': 1, 'bagging_temperature': 6.729241237804284}. Best is trial 212 with value: 0.3927172856375721.\u001b[0m\n",
      "\u001b[32m[I 2022-04-28 16:20:12,130]\u001b[0m Trial 229 finished with value: 0.5737132619175488 and parameters: {'iterations': 201, 'learning_rate': 0.003237217569017942, 'l2_leaf_reg': 5.805681094974172, 'min_data_in_leaf': 70, 'random_strength': 5.548159023906693, 'bootstrap_type': 'Bayesian', 'grow_policy': 'Lossguide', 'leaf_estimation_method': 'Gradient', 'leaf_estimation_iterations': 1, 'fold_permutation_block': 1, 'max_leaves': 164, 'depth': 20, 'bagging_temperature': 6.723735875426684}. Best is trial 212 with value: 0.3927172856375721.\u001b[0m\n",
      "\u001b[32m[I 2022-04-28 16:20:12,529]\u001b[0m Trial 230 finished with value: 0.39540452722284813 and parameters: {'iterations': 214, 'learning_rate': 0.0010878553310238914, 'l2_leaf_reg': 5.495041215803097, 'min_data_in_leaf': 65, 'random_strength': 5.671243221818353, 'bootstrap_type': 'Bayesian', 'grow_policy': 'SymmetricTree', 'leaf_estimation_method': 'Gradient', 'leaf_estimation_iterations': 1, 'fold_permutation_block': 2, 'depth': 1, 'bagging_temperature': 6.883582530562631}. Best is trial 212 with value: 0.3927172856375721.\u001b[0m\n",
      "\u001b[32m[I 2022-04-28 16:20:12,947]\u001b[0m Trial 231 finished with value: 0.39431405730800667 and parameters: {'iterations': 194, 'learning_rate': 0.0010018660916268948, 'l2_leaf_reg': 6.197289680752438, 'min_data_in_leaf': 73, 'random_strength': 5.287202451852602, 'bootstrap_type': 'Bayesian', 'grow_policy': 'SymmetricTree', 'leaf_estimation_method': 'Gradient', 'leaf_estimation_iterations': 1, 'fold_permutation_block': 1, 'depth': 1, 'bagging_temperature': 7.086782363437561}. Best is trial 212 with value: 0.3927172856375721.\u001b[0m\n",
      "\u001b[32m[I 2022-04-28 16:20:13,322]\u001b[0m Trial 232 finished with value: 0.39435217789929183 and parameters: {'iterations': 193, 'learning_rate': 0.0012925929688794625, 'l2_leaf_reg': 6.127042912030749, 'min_data_in_leaf': 72, 'random_strength': 5.285838225416283, 'bootstrap_type': 'Bayesian', 'grow_policy': 'SymmetricTree', 'leaf_estimation_method': 'Gradient', 'leaf_estimation_iterations': 1, 'fold_permutation_block': 1, 'depth': 1, 'bagging_temperature': 6.905915491371766}. Best is trial 212 with value: 0.3927172856375721.\u001b[0m\n",
      "\u001b[32m[I 2022-04-28 16:20:13,683]\u001b[0m Trial 233 finished with value: 0.39334230019432836 and parameters: {'iterations': 197, 'learning_rate': 0.0011849362321703417, 'l2_leaf_reg': 6.149594386884217, 'min_data_in_leaf': 60, 'random_strength': 5.298172281923438, 'bootstrap_type': 'Bayesian', 'grow_policy': 'SymmetricTree', 'leaf_estimation_method': 'Gradient', 'leaf_estimation_iterations': 1, 'fold_permutation_block': 1, 'depth': 1, 'bagging_temperature': 6.703155409946011}. Best is trial 212 with value: 0.3927172856375721.\u001b[0m\n",
      "\u001b[32m[I 2022-04-28 16:20:14,046]\u001b[0m Trial 234 finished with value: 0.39486042539754534 and parameters: {'iterations': 194, 'learning_rate': 0.0013005447895454358, 'l2_leaf_reg': 6.2093610491915925, 'min_data_in_leaf': 60, 'random_strength': 5.209649261736275, 'bootstrap_type': 'Bayesian', 'grow_policy': 'SymmetricTree', 'leaf_estimation_method': 'Gradient', 'leaf_estimation_iterations': 1, 'fold_permutation_block': 1, 'depth': 1, 'bagging_temperature': 6.70932600158542}. Best is trial 212 with value: 0.3927172856375721.\u001b[0m\n",
      "\u001b[32m[I 2022-04-28 16:20:14,427]\u001b[0m Trial 235 finished with value: 0.39548603495480195 and parameters: {'iterations': 191, 'learning_rate': 0.0031761668538645375, 'l2_leaf_reg': 6.022541808326519, 'min_data_in_leaf': 71, 'random_strength': 5.321014814063464, 'bootstrap_type': 'Bayesian', 'grow_policy': 'SymmetricTree', 'leaf_estimation_method': 'Gradient', 'leaf_estimation_iterations': 1, 'fold_permutation_block': 1, 'depth': 1, 'bagging_temperature': 6.92683059406435}. Best is trial 212 with value: 0.3927172856375721.\u001b[0m\n",
      "\u001b[32m[I 2022-04-28 16:20:14,843]\u001b[0m Trial 236 finished with value: 0.3935932108734219 and parameters: {'iterations': 200, 'learning_rate': 0.0010706087360439899, 'l2_leaf_reg': 6.2119188375161825, 'min_data_in_leaf': 72, 'random_strength': 4.964318376389758, 'bootstrap_type': 'Bayesian', 'grow_policy': 'SymmetricTree', 'leaf_estimation_method': 'Gradient', 'leaf_estimation_iterations': 1, 'fold_permutation_block': 2, 'depth': 1, 'bagging_temperature': 6.698178327517092}. Best is trial 212 with value: 0.3927172856375721.\u001b[0m\n",
      "\u001b[32m[I 2022-04-28 16:20:15,251]\u001b[0m Trial 237 finished with value: 0.39398120680842297 and parameters: {'iterations': 202, 'learning_rate': 0.0012741923287295778, 'l2_leaf_reg': 6.202689047466979, 'min_data_in_leaf': 72, 'random_strength': 4.938026942880427, 'bootstrap_type': 'Bayesian', 'grow_policy': 'SymmetricTree', 'leaf_estimation_method': 'Gradient', 'leaf_estimation_iterations': 1, 'fold_permutation_block': 2, 'depth': 1, 'bagging_temperature': 6.670292802368593}. Best is trial 212 with value: 0.3927172856375721.\u001b[0m\n",
      "\u001b[32m[I 2022-04-28 16:20:15,633]\u001b[0m Trial 238 finished with value: 0.39323142918196763 and parameters: {'iterations': 201, 'learning_rate': 0.001298538927221366, 'l2_leaf_reg': 6.174984763518287, 'min_data_in_leaf': 72, 'random_strength': 5.037364482283343, 'bootstrap_type': 'Bayesian', 'grow_policy': 'SymmetricTree', 'leaf_estimation_method': 'Gradient', 'leaf_estimation_iterations': 1, 'fold_permutation_block': 2, 'depth': 1, 'bagging_temperature': 6.67051084895851}. Best is trial 212 with value: 0.3927172856375721.\u001b[0m\n",
      "\u001b[32m[I 2022-04-28 16:20:16,169]\u001b[0m Trial 239 finished with value: 0.40125072384873967 and parameters: {'iterations': 201, 'learning_rate': 0.0010047063913225806, 'l2_leaf_reg': 5.678808501453518, 'min_data_in_leaf': 63, 'random_strength': 4.716572187424234, 'bootstrap_type': 'Bayesian', 'grow_policy': 'SymmetricTree', 'leaf_estimation_method': 'Gradient', 'leaf_estimation_iterations': 6, 'fold_permutation_block': 2, 'depth': 1, 'bagging_temperature': 6.65922098330362}. Best is trial 212 with value: 0.3927172856375721.\u001b[0m\n",
      "\u001b[32m[I 2022-04-28 16:20:16,601]\u001b[0m Trial 240 finished with value: 0.3945747501288701 and parameters: {'iterations': 229, 'learning_rate': 0.001081147855928363, 'l2_leaf_reg': 5.848282098284512, 'min_data_in_leaf': 67, 'random_strength': 4.978542124896008, 'bootstrap_type': 'Bayesian', 'grow_policy': 'SymmetricTree', 'leaf_estimation_method': 'Gradient', 'leaf_estimation_iterations': 1, 'fold_permutation_block': 2, 'depth': 1, 'bagging_temperature': 6.648068732039837}. Best is trial 212 with value: 0.3927172856375721.\u001b[0m\n",
      "\u001b[32m[I 2022-04-28 16:20:17,004]\u001b[0m Trial 241 finished with value: 0.39391145163216307 and parameters: {'iterations': 198, 'learning_rate': 0.0010188464211927277, 'l2_leaf_reg': 6.165794311171416, 'min_data_in_leaf': 73, 'random_strength': 5.120987936149895, 'bootstrap_type': 'Bayesian', 'grow_policy': 'SymmetricTree', 'leaf_estimation_method': 'Gradient', 'leaf_estimation_iterations': 1, 'fold_permutation_block': 1, 'depth': 1, 'bagging_temperature': 6.73232952820357}. Best is trial 212 with value: 0.3927172856375721.\u001b[0m\n",
      "\u001b[32m[I 2022-04-28 16:20:17,405]\u001b[0m Trial 242 finished with value: 0.3966691564332417 and parameters: {'iterations': 214, 'learning_rate': 0.0031208879294294554, 'l2_leaf_reg': 6.238170798338155, 'min_data_in_leaf': 73, 'random_strength': 4.9603720922317835, 'bootstrap_type': 'Bayesian', 'grow_policy': 'SymmetricTree', 'leaf_estimation_method': 'Gradient', 'leaf_estimation_iterations': 1, 'fold_permutation_block': 2, 'depth': 1, 'bagging_temperature': 6.687019644417097}. Best is trial 212 with value: 0.3927172856375721.\u001b[0m\n",
      "\u001b[32m[I 2022-04-28 16:20:17,786]\u001b[0m Trial 243 finished with value: 0.3925620897145004 and parameters: {'iterations': 205, 'learning_rate': 0.0011640953945987035, 'l2_leaf_reg': 6.010636709918253, 'min_data_in_leaf': 69, 'random_strength': 5.655311963020154, 'bootstrap_type': 'Bayesian', 'grow_policy': 'SymmetricTree', 'leaf_estimation_method': 'Gradient', 'leaf_estimation_iterations': 1, 'fold_permutation_block': 1, 'depth': 1, 'bagging_temperature': 6.701359140995973}. Best is trial 243 with value: 0.3925620897145004.\u001b[0m\n",
      "\u001b[32m[I 2022-04-28 16:20:18,190]\u001b[0m Trial 244 finished with value: 0.3951172527144567 and parameters: {'iterations': 202, 'learning_rate': 0.0032073869052195027, 'l2_leaf_reg': 5.9607086288156195, 'min_data_in_leaf': 69, 'random_strength': 5.1428780153574465, 'bootstrap_type': 'Bayesian', 'grow_policy': 'SymmetricTree', 'leaf_estimation_method': 'Gradient', 'leaf_estimation_iterations': 1, 'fold_permutation_block': 1, 'depth': 1, 'bagging_temperature': 6.694094189618728}. Best is trial 243 with value: 0.3925620897145004.\u001b[0m\n",
      "\u001b[32m[I 2022-04-28 16:20:18,574]\u001b[0m Trial 245 finished with value: 0.3938137316197739 and parameters: {'iterations': 201, 'learning_rate': 0.0012078557466588757, 'l2_leaf_reg': 6.176298061894845, 'min_data_in_leaf': 66, 'random_strength': 5.657486816007679, 'bootstrap_type': 'Bayesian', 'grow_policy': 'SymmetricTree', 'leaf_estimation_method': 'Gradient', 'leaf_estimation_iterations': 1, 'fold_permutation_block': 1, 'depth': 1, 'bagging_temperature': 6.635508609102285}. Best is trial 243 with value: 0.3925620897145004.\u001b[0m\n",
      "\u001b[32m[I 2022-04-28 16:20:18,987]\u001b[0m Trial 246 finished with value: 0.39403683846274234 and parameters: {'iterations': 206, 'learning_rate': 0.0010800232137922543, 'l2_leaf_reg': 6.334147179082444, 'min_data_in_leaf': 66, 'random_strength': 5.666331472374769, 'bootstrap_type': 'Bayesian', 'grow_policy': 'SymmetricTree', 'leaf_estimation_method': 'Gradient', 'leaf_estimation_iterations': 1, 'fold_permutation_block': 2, 'depth': 1, 'bagging_temperature': 6.659945289243739}. Best is trial 243 with value: 0.3925620897145004.\u001b[0m\n",
      "\u001b[32m[I 2022-04-28 16:20:19,446]\u001b[0m Trial 247 finished with value: 0.39542081474619173 and parameters: {'iterations': 224, 'learning_rate': 0.0012544425235996243, 'l2_leaf_reg': 5.307084564961764, 'min_data_in_leaf': 66, 'random_strength': 5.639791277100607, 'bootstrap_type': 'Bayesian', 'grow_policy': 'SymmetricTree', 'leaf_estimation_method': 'Gradient', 'leaf_estimation_iterations': 1, 'fold_permutation_block': 2, 'depth': 1, 'bagging_temperature': 6.646294262239337}. Best is trial 243 with value: 0.3925620897145004.\u001b[0m\n",
      "\u001b[32m[I 2022-04-28 16:20:19,887]\u001b[0m Trial 248 finished with value: 0.39712745910033015 and parameters: {'iterations': 211, 'learning_rate': 0.0032994071392137762, 'l2_leaf_reg': 6.042892790676587, 'min_data_in_leaf': 60, 'random_strength': 5.481998667149241, 'bootstrap_type': 'Bayesian', 'grow_policy': 'SymmetricTree', 'leaf_estimation_method': 'Gradient', 'leaf_estimation_iterations': 1, 'fold_permutation_block': 1, 'depth': 1, 'bagging_temperature': 6.638873378407547}. Best is trial 243 with value: 0.3925620897145004.\u001b[0m\n",
      "\u001b[32m[I 2022-04-28 16:20:20,260]\u001b[0m Trial 249 finished with value: 0.392945166644794 and parameters: {'iterations': 204, 'learning_rate': 0.0010403341975995706, 'l2_leaf_reg': 6.345047045788277, 'min_data_in_leaf': 65, 'random_strength': 5.639669180491559, 'bootstrap_type': 'Bayesian', 'grow_policy': 'SymmetricTree', 'leaf_estimation_method': 'Gradient', 'leaf_estimation_iterations': 1, 'fold_permutation_block': 2, 'depth': 1, 'bagging_temperature': 6.736626784621087}. Best is trial 243 with value: 0.3925620897145004.\u001b[0m\n",
      "\u001b[32m[I 2022-04-28 16:20:20,664]\u001b[0m Trial 250 finished with value: 0.39325874289110735 and parameters: {'iterations': 205, 'learning_rate': 0.0012722787367745628, 'l2_leaf_reg': 6.383787790761009, 'min_data_in_leaf': 64, 'random_strength': 5.077635074263273, 'bootstrap_type': 'Bayesian', 'grow_policy': 'SymmetricTree', 'leaf_estimation_method': 'Gradient', 'leaf_estimation_iterations': 1, 'fold_permutation_block': 2, 'depth': 1, 'bagging_temperature': 6.795475176379081}. Best is trial 243 with value: 0.3925620897145004.\u001b[0m\n",
      "\u001b[32m[I 2022-04-28 16:20:21,034]\u001b[0m Trial 251 finished with value: 0.39357761079794557 and parameters: {'iterations': 187, 'learning_rate': 0.001156144774860147, 'l2_leaf_reg': 6.39761023421264, 'min_data_in_leaf': 61, 'random_strength': 4.7640218662737706, 'bootstrap_type': 'Bayesian', 'grow_policy': 'SymmetricTree', 'leaf_estimation_method': 'Gradient', 'leaf_estimation_iterations': 1, 'fold_permutation_block': 2, 'depth': 1, 'bagging_temperature': 6.611639826564894}. Best is trial 243 with value: 0.3925620897145004.\u001b[0m\n",
      "\u001b[32m[I 2022-04-28 16:20:21,418]\u001b[0m Trial 252 finished with value: 0.4224144602231388 and parameters: {'iterations': 188, 'learning_rate': 0.0031014086129479063, 'l2_leaf_reg': 6.306994019129462, 'min_data_in_leaf': 61, 'random_strength': 5.070666862528533, 'bootstrap_type': 'Bayesian', 'grow_policy': 'SymmetricTree', 'leaf_estimation_method': 'Gradient', 'leaf_estimation_iterations': 1, 'fold_permutation_block': 2, 'depth': 1, 'bagging_temperature': 4.0264462280609745}. Best is trial 243 with value: 0.3925620897145004.\u001b[0m\n",
      "\u001b[32m[I 2022-04-28 16:20:21,837]\u001b[0m Trial 253 finished with value: 0.39520960034955605 and parameters: {'iterations': 215, 'learning_rate': 0.0013618393714149067, 'l2_leaf_reg': 5.846326807267334, 'min_data_in_leaf': 64, 'random_strength': 4.722387366228003, 'bootstrap_type': 'Bayesian', 'grow_policy': 'SymmetricTree', 'leaf_estimation_method': 'Gradient', 'leaf_estimation_iterations': 1, 'fold_permutation_block': 2, 'depth': 1, 'bagging_temperature': 6.554263990813777}. Best is trial 243 with value: 0.3925620897145004.\u001b[0m\n",
      "\u001b[32m[I 2022-04-28 16:20:22,173]\u001b[0m Trial 254 finished with value: 0.4508412069557042 and parameters: {'iterations': 184, 'learning_rate': 0.0010331450205436682, 'l2_leaf_reg': 6.3741122442547145, 'min_data_in_leaf': 52, 'random_strength': 4.850644124796154, 'bootstrap_type': 'Bernoulli', 'grow_policy': 'SymmetricTree', 'leaf_estimation_method': 'Gradient', 'leaf_estimation_iterations': 1, 'fold_permutation_block': 2, 'depth': 1, 'subsample': 0.901685431142943}. Best is trial 243 with value: 0.3925620897145004.\u001b[0m\n",
      "\u001b[32m[I 2022-04-28 16:20:22,537]\u001b[0m Trial 255 finished with value: 0.3981306904040087 and parameters: {'iterations': 195, 'learning_rate': 0.003665893601015122, 'l2_leaf_reg': 6.306251468718533, 'min_data_in_leaf': 55, 'random_strength': 5.120436447871249, 'bootstrap_type': 'Bayesian', 'grow_policy': 'SymmetricTree', 'leaf_estimation_method': 'Newton', 'leaf_estimation_iterations': 1, 'fold_permutation_block': 2, 'depth': 1, 'bagging_temperature': 6.559594416599206}. Best is trial 243 with value: 0.3925620897145004.\u001b[0m\n",
      "\u001b[32m[I 2022-04-28 16:20:22,946]\u001b[0m Trial 256 finished with value: 0.39316246563154295 and parameters: {'iterations': 205, 'learning_rate': 0.0030255477199860213, 'l2_leaf_reg': 6.050904524913094, 'min_data_in_leaf': 61, 'random_strength': 5.3289266743409485, 'bootstrap_type': 'Bayesian', 'grow_policy': 'SymmetricTree', 'leaf_estimation_method': 'Gradient', 'leaf_estimation_iterations': 1, 'fold_permutation_block': 2, 'depth': 1, 'bagging_temperature': 6.831135458964476}. Best is trial 243 with value: 0.3925620897145004.\u001b[0m\n",
      "\u001b[32m[I 2022-04-28 16:20:23,359]\u001b[0m Trial 257 finished with value: 0.3975391480888364 and parameters: {'iterations': 221, 'learning_rate': 0.0037356173674532676, 'l2_leaf_reg': 5.552338195042477, 'min_data_in_leaf': 58, 'random_strength': 5.332017723703468, 'bootstrap_type': 'Bayesian', 'grow_policy': 'SymmetricTree', 'leaf_estimation_method': 'Gradient', 'leaf_estimation_iterations': 1, 'fold_permutation_block': 2, 'depth': 1, 'bagging_temperature': 7.324060263813712}. Best is trial 243 with value: 0.3925620897145004.\u001b[0m\n",
      "\u001b[32m[I 2022-04-28 16:20:23,798]\u001b[0m Trial 258 finished with value: 0.48597730519352805 and parameters: {'iterations': 186, 'learning_rate': 0.0028886312089970723, 'l2_leaf_reg': 6.051651400733548, 'min_data_in_leaf': 66, 'random_strength': 4.934529831739778, 'bootstrap_type': 'Bayesian', 'grow_policy': 'SymmetricTree', 'leaf_estimation_method': 'Gradient', 'leaf_estimation_iterations': 1, 'fold_permutation_block': 2, 'depth': 2, 'bagging_temperature': 2.983672557739401}. Best is trial 243 with value: 0.3925620897145004.\u001b[0m\n",
      "\u001b[32m[I 2022-04-28 16:20:24,185]\u001b[0m Trial 259 finished with value: 0.3950157095137152 and parameters: {'iterations': 200, 'learning_rate': 0.0010211750999957335, 'l2_leaf_reg': 5.896567079589494, 'min_data_in_leaf': 62, 'random_strength': 5.74414123168449, 'bootstrap_type': 'Bayesian', 'grow_policy': 'SymmetricTree', 'leaf_estimation_method': 'Gradient', 'leaf_estimation_iterations': 1, 'fold_permutation_block': 2, 'depth': 1, 'bagging_temperature': 6.361088833716293}. Best is trial 243 with value: 0.3925620897145004.\u001b[0m\n",
      "\u001b[32m[I 2022-04-28 16:20:24,582]\u001b[0m Trial 260 finished with value: 0.3954918296051623 and parameters: {'iterations': 208, 'learning_rate': 0.003921697542219613, 'l2_leaf_reg': 6.222945678383444, 'min_data_in_leaf': 65, 'random_strength': 5.3498654666102246, 'bootstrap_type': 'Bayesian', 'grow_policy': 'SymmetricTree', 'leaf_estimation_method': 'Gradient', 'leaf_estimation_iterations': 1, 'fold_permutation_block': 2, 'depth': 1, 'bagging_temperature': 6.811237917336677}. Best is trial 243 with value: 0.3925620897145004.\u001b[0m\n",
      "\u001b[32m[I 2022-04-28 16:20:24,934]\u001b[0m Trial 261 finished with value: 0.3941054320490196 and parameters: {'iterations': 188, 'learning_rate': 0.001094818506080193, 'l2_leaf_reg': 5.6869234422697685, 'min_data_in_leaf': 70, 'random_strength': 5.1379385804683615, 'bootstrap_type': 'Bayesian', 'grow_policy': 'SymmetricTree', 'leaf_estimation_method': 'Gradient', 'leaf_estimation_iterations': 1, 'fold_permutation_block': 2, 'depth': 1, 'bagging_temperature': 7.125290111413725}. Best is trial 243 with value: 0.3925620897145004.\u001b[0m\n",
      "\u001b[32m[I 2022-04-28 16:20:25,311]\u001b[0m Trial 262 finished with value: 0.3947814370310136 and parameters: {'iterations': 197, 'learning_rate': 0.0028908632244846314, 'l2_leaf_reg': 6.049785040135504, 'min_data_in_leaf': 69, 'random_strength': 5.755456776386431, 'bootstrap_type': 'Bayesian', 'grow_policy': 'SymmetricTree', 'leaf_estimation_method': 'Gradient', 'leaf_estimation_iterations': 1, 'fold_permutation_block': 1, 'depth': 1, 'bagging_temperature': 6.573056271878605}. Best is trial 243 with value: 0.3925620897145004.\u001b[0m\n",
      "\u001b[32m[I 2022-04-28 16:20:25,786]\u001b[0m Trial 263 finished with value: 0.43395245100230445 and parameters: {'iterations': 213, 'learning_rate': 0.0042774866455088205, 'l2_leaf_reg': 6.396541140428098, 'min_data_in_leaf': 65, 'random_strength': 4.7843515783573, 'bootstrap_type': 'Bayesian', 'grow_policy': 'SymmetricTree', 'leaf_estimation_method': 'Gradient', 'leaf_estimation_iterations': 1, 'fold_permutation_block': 2, 'depth': 2, 'bagging_temperature': 6.835462075338706}. Best is trial 243 with value: 0.3925620897145004.\u001b[0m\n",
      "\u001b[32m[I 2022-04-28 16:20:26,182]\u001b[0m Trial 264 finished with value: 0.39445299707562054 and parameters: {'iterations': 203, 'learning_rate': 0.0010807690250907872, 'l2_leaf_reg': 6.215665121488118, 'min_data_in_leaf': 73, 'random_strength': 5.308052238962753, 'bootstrap_type': 'Bayesian', 'grow_policy': 'SymmetricTree', 'leaf_estimation_method': 'Gradient', 'leaf_estimation_iterations': 1, 'fold_permutation_block': 1, 'depth': 1, 'bagging_temperature': 7.0508498016542225}. Best is trial 243 with value: 0.3925620897145004.\u001b[0m\n",
      "\u001b[32m[I 2022-04-28 16:20:26,562]\u001b[0m Trial 265 finished with value: 0.39706287168517873 and parameters: {'iterations': 192, 'learning_rate': 0.0012292268253265473, 'l2_leaf_reg': 6.458642193471454, 'min_data_in_leaf': 67, 'random_strength': 4.557112499927694, 'bootstrap_type': 'Bayesian', 'grow_policy': 'SymmetricTree', 'leaf_estimation_method': 'Gradient', 'leaf_estimation_iterations': 1, 'fold_permutation_block': 2, 'depth': 1, 'bagging_temperature': 6.3460466969801}. Best is trial 243 with value: 0.3925620897145004.\u001b[0m\n",
      "\u001b[32m[I 2022-04-28 16:20:26,912]\u001b[0m Trial 266 finished with value: 0.3940495287011381 and parameters: {'iterations': 183, 'learning_rate': 0.0010507948425733976, 'l2_leaf_reg': 5.954753691167674, 'min_data_in_leaf': 63, 'random_strength': 5.755483714391706, 'bootstrap_type': 'Bayesian', 'grow_policy': 'SymmetricTree', 'leaf_estimation_method': 'Gradient', 'leaf_estimation_iterations': 1, 'fold_permutation_block': 1, 'depth': 1, 'bagging_temperature': 6.611238658291633}. Best is trial 243 with value: 0.3925620897145004.\u001b[0m\n",
      "\u001b[32m[I 2022-04-28 16:20:27,344]\u001b[0m Trial 267 finished with value: 0.3970482197192524 and parameters: {'iterations': 223, 'learning_rate': 0.004401148357596138, 'l2_leaf_reg': 4.600953687235491, 'min_data_in_leaf': 59, 'random_strength': 5.012303967838236, 'bootstrap_type': 'Bayesian', 'grow_policy': 'SymmetricTree', 'leaf_estimation_method': 'Gradient', 'leaf_estimation_iterations': 1, 'fold_permutation_block': 2, 'depth': 1, 'bagging_temperature': 6.850132809340893}. Best is trial 243 with value: 0.3925620897145004.\u001b[0m\n",
      "\u001b[32m[I 2022-04-28 16:20:28,647]\u001b[0m Trial 268 finished with value: 0.5505302870212881 and parameters: {'iterations': 197, 'learning_rate': 0.008551377392104861, 'l2_leaf_reg': 6.2372152866201995, 'min_data_in_leaf': 71, 'random_strength': 5.444896041061998, 'bootstrap_type': 'Bayesian', 'grow_policy': 'Lossguide', 'leaf_estimation_method': 'Gradient', 'leaf_estimation_iterations': 1, 'fold_permutation_block': 1, 'max_leaves': 66, 'depth': 6, 'bagging_temperature': 7.078621858275603}. Best is trial 243 with value: 0.3925620897145004.\u001b[0m\n",
      "\u001b[32m[I 2022-04-28 16:20:29,052]\u001b[0m Trial 269 finished with value: 0.3961748936985381 and parameters: {'iterations': 209, 'learning_rate': 0.002768115236948107, 'l2_leaf_reg': 6.5220531121016565, 'min_data_in_leaf': 69, 'random_strength': 5.749694880041958, 'bootstrap_type': 'Bayesian', 'grow_policy': 'SymmetricTree', 'leaf_estimation_method': 'Gradient', 'leaf_estimation_iterations': 1, 'fold_permutation_block': 2, 'depth': 1, 'bagging_temperature': 7.278304551460125}. Best is trial 243 with value: 0.3925620897145004.\u001b[0m\n",
      "\u001b[32m[I 2022-04-28 16:20:29,454]\u001b[0m Trial 270 finished with value: 0.3953322147103511 and parameters: {'iterations': 217, 'learning_rate': 0.0010758369879274626, 'l2_leaf_reg': 5.735740586349525, 'min_data_in_leaf': 74, 'random_strength': 5.17201086087506, 'bootstrap_type': 'Bayesian', 'grow_policy': 'SymmetricTree', 'leaf_estimation_method': 'Gradient', 'leaf_estimation_iterations': 1, 'fold_permutation_block': 1, 'depth': 1, 'bagging_temperature': 6.556719135351471}. Best is trial 243 with value: 0.3925620897145004.\u001b[0m\n",
      "\u001b[32m[I 2022-04-28 16:20:29,829]\u001b[0m Trial 271 finished with value: 0.39399151322407455 and parameters: {'iterations': 185, 'learning_rate': 0.0010211365261873502, 'l2_leaf_reg': 6.146170288812504, 'min_data_in_leaf': 66, 'random_strength': 5.415699300177208, 'bootstrap_type': 'Bayesian', 'grow_policy': 'SymmetricTree', 'leaf_estimation_method': 'Gradient', 'leaf_estimation_iterations': 1, 'fold_permutation_block': 2, 'depth': 1, 'bagging_temperature': 6.81672136253572}. Best is trial 243 with value: 0.3925620897145004.\u001b[0m\n",
      "\u001b[32m[I 2022-04-28 16:20:30,186]\u001b[0m Trial 272 finished with value: 0.39502377746476675 and parameters: {'iterations': 188, 'learning_rate': 0.004445679309461817, 'l2_leaf_reg': 6.34961639173053, 'min_data_in_leaf': 66, 'random_strength': 5.423752095095097, 'bootstrap_type': 'Bayesian', 'grow_policy': 'SymmetricTree', 'leaf_estimation_method': 'Gradient', 'leaf_estimation_iterations': 1, 'fold_permutation_block': 2, 'depth': 1, 'bagging_temperature': 6.916491701529073}. Best is trial 243 with value: 0.3925620897145004.\u001b[0m\n",
      "\u001b[32m[I 2022-04-28 16:20:30,572]\u001b[0m Trial 273 finished with value: 0.3938585643827948 and parameters: {'iterations': 179, 'learning_rate': 0.00302517736473976, 'l2_leaf_reg': 6.098056451872996, 'min_data_in_leaf': 64, 'random_strength': 4.861957248073909, 'bootstrap_type': 'Bayesian', 'grow_policy': 'SymmetricTree', 'leaf_estimation_method': 'Gradient', 'leaf_estimation_iterations': 1, 'fold_permutation_block': 2, 'depth': 1, 'bagging_temperature': 6.78253820888888}. Best is trial 243 with value: 0.3925620897145004.\u001b[0m\n",
      "\u001b[32m[I 2022-04-28 16:20:30,971]\u001b[0m Trial 274 finished with value: 0.39597792194494885 and parameters: {'iterations': 184, 'learning_rate': 0.007952007823074031, 'l2_leaf_reg': 6.086105360654483, 'min_data_in_leaf': 62, 'random_strength': 4.80129177267463, 'bootstrap_type': 'Bayesian', 'grow_policy': 'SymmetricTree', 'leaf_estimation_method': 'Gradient', 'leaf_estimation_iterations': 1, 'fold_permutation_block': 1, 'depth': 1, 'bagging_temperature': 7.22312439952867}. Best is trial 243 with value: 0.3925620897145004.\u001b[0m\n",
      "\u001b[32m[I 2022-04-28 16:20:31,319]\u001b[0m Trial 275 finished with value: 0.39365715019943903 and parameters: {'iterations': 179, 'learning_rate': 0.003463828358713923, 'l2_leaf_reg': 5.8630184774644025, 'min_data_in_leaf': 72, 'random_strength': 5.036813043778158, 'bootstrap_type': 'Bayesian', 'grow_policy': 'SymmetricTree', 'leaf_estimation_method': 'Gradient', 'leaf_estimation_iterations': 1, 'fold_permutation_block': 2, 'depth': 1, 'bagging_temperature': 6.857466576899998}. Best is trial 243 with value: 0.3925620897145004.\u001b[0m\n",
      "\u001b[32m[I 2022-04-28 16:20:31,666]\u001b[0m Trial 276 finished with value: 0.39430150365402067 and parameters: {'iterations': 181, 'learning_rate': 0.004575587261677542, 'l2_leaf_reg': 5.335200171788395, 'min_data_in_leaf': 64, 'random_strength': 5.009314482245285, 'bootstrap_type': 'Bayesian', 'grow_policy': 'SymmetricTree', 'leaf_estimation_method': 'Gradient', 'leaf_estimation_iterations': 1, 'fold_permutation_block': 2, 'depth': 1, 'bagging_temperature': 6.793777501013967}. Best is trial 243 with value: 0.3925620897145004.\u001b[0m\n",
      "\u001b[32m[I 2022-04-28 16:20:32,164]\u001b[0m Trial 277 finished with value: 0.4563561314616793 and parameters: {'iterations': 257, 'learning_rate': 0.002803182987626407, 'l2_leaf_reg': 5.848569722275066, 'min_data_in_leaf': 68, 'random_strength': 4.663572667123379, 'bootstrap_type': 'Bayesian', 'grow_policy': 'SymmetricTree', 'leaf_estimation_method': 'Gradient', 'leaf_estimation_iterations': 1, 'fold_permutation_block': 1, 'depth': 1, 'bagging_temperature': 0.48684818809495756}. Best is trial 243 with value: 0.3925620897145004.\u001b[0m\n",
      "\u001b[32m[I 2022-04-28 16:20:32,612]\u001b[0m Trial 278 finished with value: 0.43554710680697867 and parameters: {'iterations': 194, 'learning_rate': 0.0010340003318483199, 'l2_leaf_reg': 5.939539796019998, 'min_data_in_leaf': 56, 'random_strength': 4.429846865268994, 'bootstrap_type': 'Bayesian', 'grow_policy': 'SymmetricTree', 'leaf_estimation_method': 'Gradient', 'leaf_estimation_iterations': 1, 'fold_permutation_block': 2, 'depth': 2, 'bagging_temperature': 6.364544880990739}. Best is trial 243 with value: 0.3925620897145004.\u001b[0m\n",
      "\u001b[32m[I 2022-04-28 16:20:32,988]\u001b[0m Trial 279 finished with value: 0.3947527737119619 and parameters: {'iterations': 180, 'learning_rate': 0.00458899709752087, 'l2_leaf_reg': 6.0579288506624955, 'min_data_in_leaf': 71, 'random_strength': 5.177458032686614, 'bootstrap_type': 'Bayesian', 'grow_policy': 'SymmetricTree', 'leaf_estimation_method': 'Gradient', 'leaf_estimation_iterations': 1, 'fold_permutation_block': 1, 'depth': 1, 'bagging_temperature': 7.024500208765487}. Best is trial 243 with value: 0.3925620897145004.\u001b[0m\n",
      "\u001b[32m[I 2022-04-28 16:20:33,394]\u001b[0m Trial 280 finished with value: 0.3935204091883315 and parameters: {'iterations': 201, 'learning_rate': 0.0027442905371083065, 'l2_leaf_reg': 6.587135208195474, 'min_data_in_leaf': 74, 'random_strength': 4.8305054014460564, 'bootstrap_type': 'Bayesian', 'grow_policy': 'SymmetricTree', 'leaf_estimation_method': 'Gradient', 'leaf_estimation_iterations': 1, 'fold_permutation_block': 2, 'depth': 1, 'bagging_temperature': 6.80659708221668}. Best is trial 243 with value: 0.3925620897145004.\u001b[0m\n",
      "\u001b[32m[I 2022-04-28 16:20:33,786]\u001b[0m Trial 281 finished with value: 0.3967378668824805 and parameters: {'iterations': 202, 'learning_rate': 0.007839625683213268, 'l2_leaf_reg': 6.614320339602915, 'min_data_in_leaf': 74, 'random_strength': 4.841271191254296, 'bootstrap_type': 'Bayesian', 'grow_policy': 'SymmetricTree', 'leaf_estimation_method': 'Gradient', 'leaf_estimation_iterations': 1, 'fold_permutation_block': 1, 'depth': 1, 'bagging_temperature': 7.41705137327678}. Best is trial 243 with value: 0.3925620897145004.\u001b[0m\n",
      "\u001b[32m[I 2022-04-28 16:20:34,192]\u001b[0m Trial 282 finished with value: 0.39517060211331817 and parameters: {'iterations': 197, 'learning_rate': 0.002854834255913221, 'l2_leaf_reg': 6.502072051416205, 'min_data_in_leaf': 72, 'random_strength': 4.903775819715924, 'bootstrap_type': 'Bayesian', 'grow_policy': 'SymmetricTree', 'leaf_estimation_method': 'Gradient', 'leaf_estimation_iterations': 1, 'fold_permutation_block': 2, 'depth': 1, 'bagging_temperature': 7.1608427926972125}. Best is trial 243 with value: 0.3925620897145004.\u001b[0m\n",
      "\u001b[32m[I 2022-04-28 16:20:34,552]\u001b[0m Trial 283 finished with value: 0.4444070835457787 and parameters: {'iterations': 214, 'learning_rate': 0.005388775415612179, 'l2_leaf_reg': 6.675297194081177, 'min_data_in_leaf': 74, 'random_strength': 5.114637546628243, 'bootstrap_type': 'Bernoulli', 'grow_policy': 'SymmetricTree', 'leaf_estimation_method': 'Gradient', 'leaf_estimation_iterations': 1, 'fold_permutation_block': 1, 'depth': 1, 'subsample': 0.42379330045861074}. Best is trial 243 with value: 0.3925620897145004.\u001b[0m\n",
      "\u001b[32m[I 2022-04-28 16:20:34,898]\u001b[0m Trial 284 finished with value: 0.401900707822129 and parameters: {'iterations': 176, 'learning_rate': 0.0027127379303877276, 'l2_leaf_reg': 6.460204283127894, 'min_data_in_leaf': 61, 'random_strength': 5.201280911303651, 'bootstrap_type': 'Bayesian', 'grow_policy': 'SymmetricTree', 'leaf_estimation_method': 'Newton', 'leaf_estimation_iterations': 1, 'fold_permutation_block': 2, 'depth': 1, 'bagging_temperature': 6.080026599917279}. Best is trial 243 with value: 0.3925620897145004.\u001b[0m\n",
      "\u001b[32m[I 2022-04-28 16:20:35,290]\u001b[0m Trial 285 finished with value: 0.3957384518148628 and parameters: {'iterations': 192, 'learning_rate': 0.004485950990452566, 'l2_leaf_reg': 5.729301924062574, 'min_data_in_leaf': 69, 'random_strength': 4.69539177010162, 'bootstrap_type': 'Bayesian', 'grow_policy': 'SymmetricTree', 'leaf_estimation_method': 'Gradient', 'leaf_estimation_iterations': 1, 'fold_permutation_block': 1, 'depth': 1, 'bagging_temperature': 6.457195245794481}. Best is trial 243 with value: 0.3925620897145004.\u001b[0m\n",
      "\u001b[32m[I 2022-04-28 16:20:35,725]\u001b[0m Trial 286 finished with value: 0.39375359419488604 and parameters: {'iterations': 201, 'learning_rate': 0.00101353241123425, 'l2_leaf_reg': 6.164827184426051, 'min_data_in_leaf': 64, 'random_strength': 4.942412156311357, 'bootstrap_type': 'Bayesian', 'grow_policy': 'SymmetricTree', 'leaf_estimation_method': 'Gradient', 'leaf_estimation_iterations': 1, 'fold_permutation_block': 2, 'depth': 1, 'bagging_temperature': 6.739975630697219}. Best is trial 243 with value: 0.3925620897145004.\u001b[0m\n",
      "\u001b[32m[I 2022-04-28 16:20:36,477]\u001b[0m Trial 287 finished with value: 0.5274377280062126 and parameters: {'iterations': 231, 'learning_rate': 0.0010414071620662953, 'l2_leaf_reg': 6.439874747850321, 'min_data_in_leaf': 64, 'random_strength': 5.284571666006979, 'bootstrap_type': 'Bayesian', 'grow_policy': 'SymmetricTree', 'leaf_estimation_method': 'Gradient', 'leaf_estimation_iterations': 1, 'fold_permutation_block': 2, 'depth': 7, 'bagging_temperature': 6.976897885141568}. Best is trial 243 with value: 0.3925620897145004.\u001b[0m\n",
      "\u001b[32m[I 2022-04-28 16:20:36,907]\u001b[0m Trial 288 finished with value: 0.3976990766434483 and parameters: {'iterations': 210, 'learning_rate': 0.007421452798611146, 'l2_leaf_reg': 6.67699932451536, 'min_data_in_leaf': 62, 'random_strength': 5.741863936738061, 'bootstrap_type': 'Bayesian', 'grow_policy': 'SymmetricTree', 'leaf_estimation_method': 'Gradient', 'leaf_estimation_iterations': 1, 'fold_permutation_block': 1, 'depth': 1, 'bagging_temperature': 6.753211828832241}. Best is trial 243 with value: 0.3925620897145004.\u001b[0m\n",
      "\u001b[32m[I 2022-04-28 16:20:37,445]\u001b[0m Trial 289 finished with value: 0.4330843414897238 and parameters: {'iterations': 190, 'learning_rate': 0.003222495534759376, 'l2_leaf_reg': 5.996720647907536, 'min_data_in_leaf': 58, 'random_strength': 4.361929734480607, 'bootstrap_type': 'Bayesian', 'grow_policy': 'SymmetricTree', 'leaf_estimation_method': 'Gradient', 'leaf_estimation_iterations': 1, 'fold_permutation_block': 2, 'depth': 2, 'bagging_temperature': 7.0509665953292116}. Best is trial 243 with value: 0.3925620897145004.\u001b[0m\n",
      "\u001b[32m[I 2022-04-28 16:20:37,820]\u001b[0m Trial 290 finished with value: 0.3938014553952281 and parameters: {'iterations': 199, 'learning_rate': 0.0010107724282835458, 'l2_leaf_reg': 5.58565775075833, 'min_data_in_leaf': 64, 'random_strength': 4.575549940696927, 'bootstrap_type': 'Bayesian', 'grow_policy': 'SymmetricTree', 'leaf_estimation_method': 'Gradient', 'leaf_estimation_iterations': 1, 'fold_permutation_block': 1, 'depth': 1, 'bagging_temperature': 6.476103795612833}. Best is trial 243 with value: 0.3925620897145004.\u001b[0m\n",
      "\u001b[32m[I 2022-04-28 16:20:38,176]\u001b[0m Trial 291 finished with value: 0.461544287282349 and parameters: {'iterations': 177, 'learning_rate': 0.0011758360846802621, 'l2_leaf_reg': 5.575071094788987, 'min_data_in_leaf': 65, 'random_strength': 4.676409206006007, 'bootstrap_type': 'Bayesian', 'grow_policy': 'SymmetricTree', 'leaf_estimation_method': 'Gradient', 'leaf_estimation_iterations': 1, 'fold_permutation_block': 2, 'depth': 1, 'bagging_temperature': 0.812634808924563}. Best is trial 243 with value: 0.3925620897145004.\u001b[0m\n",
      "\u001b[32m[I 2022-04-28 16:20:38,616]\u001b[0m Trial 292 finished with value: 0.39723622380672746 and parameters: {'iterations': 221, 'learning_rate': 0.0055400148066102215, 'l2_leaf_reg': 5.895911719110178, 'min_data_in_leaf': 64, 'random_strength': 4.556161100723136, 'bootstrap_type': 'Bayesian', 'grow_policy': 'SymmetricTree', 'leaf_estimation_method': 'Gradient', 'leaf_estimation_iterations': 1, 'fold_permutation_block': 1, 'depth': 1, 'bagging_temperature': 6.425911538231535}. Best is trial 243 with value: 0.3925620897145004.\u001b[0m\n",
      "\u001b[32m[I 2022-04-28 16:20:39,017]\u001b[0m Trial 293 finished with value: 0.39405272691537374 and parameters: {'iterations': 206, 'learning_rate': 0.0010698224414005045, 'l2_leaf_reg': 5.7495231255956005, 'min_data_in_leaf': 67, 'random_strength': 5.006794533426359, 'bootstrap_type': 'Bayesian', 'grow_policy': 'SymmetricTree', 'leaf_estimation_method': 'Gradient', 'leaf_estimation_iterations': 1, 'fold_permutation_block': 2, 'depth': 1, 'bagging_temperature': 6.554942790993854}. Best is trial 243 with value: 0.3925620897145004.\u001b[0m\n",
      "\u001b[32m[I 2022-04-28 16:20:39,493]\u001b[0m Trial 294 finished with value: 0.3979084136785566 and parameters: {'iterations': 191, 'learning_rate': 0.002747773215433548, 'l2_leaf_reg': 6.3663497334433705, 'min_data_in_leaf': 59, 'random_strength': 5.338631260573894, 'bootstrap_type': 'Bayesian', 'grow_policy': 'SymmetricTree', 'leaf_estimation_method': 'Gradient', 'leaf_estimation_iterations': 1, 'fold_permutation_block': 1, 'depth': 1, 'bagging_temperature': 6.272615151445375}. Best is trial 243 with value: 0.3925620897145004.\u001b[0m\n",
      "\u001b[32m[I 2022-04-28 16:20:39,908]\u001b[0m Trial 295 finished with value: 0.3940684551477114 and parameters: {'iterations': 199, 'learning_rate': 0.0010819991158723546, 'l2_leaf_reg': 5.211438934929327, 'min_data_in_leaf': 62, 'random_strength': 4.871744659908115, 'bootstrap_type': 'Bayesian', 'grow_policy': 'SymmetricTree', 'leaf_estimation_method': 'Gradient', 'leaf_estimation_iterations': 1, 'fold_permutation_block': 2, 'depth': 1, 'bagging_temperature': 6.932973961053675}. Best is trial 243 with value: 0.3925620897145004.\u001b[0m\n",
      "\u001b[32m[I 2022-04-28 16:20:40,316]\u001b[0m Trial 296 finished with value: 0.397857385631865 and parameters: {'iterations': 214, 'learning_rate': 0.004840450010141186, 'l2_leaf_reg': 6.093747368209155, 'min_data_in_leaf': 69, 'random_strength': 4.262022843950219, 'bootstrap_type': 'Bayesian', 'grow_policy': 'SymmetricTree', 'leaf_estimation_method': 'Gradient', 'leaf_estimation_iterations': 1, 'fold_permutation_block': 1, 'depth': 1, 'bagging_temperature': 7.304385260445845}. Best is trial 243 with value: 0.3925620897145004.\u001b[0m\n",
      "\u001b[32m[I 2022-04-28 16:20:43,890]\u001b[0m Trial 297 finished with value: 0.5767228438344504 and parameters: {'iterations': 187, 'learning_rate': 0.001026486764291564, 'l2_leaf_reg': 6.566017574937202, 'min_data_in_leaf': 64, 'random_strength': 5.100343012815238, 'bootstrap_type': 'Bayesian', 'grow_policy': 'Lossguide', 'leaf_estimation_method': 'Gradient', 'leaf_estimation_iterations': 1, 'fold_permutation_block': 2, 'max_leaves': 207, 'depth': 23, 'bagging_temperature': 6.776601017333218}. Best is trial 243 with value: 0.3925620897145004.\u001b[0m\n",
      "\u001b[32m[I 2022-04-28 16:20:44,312]\u001b[0m Trial 298 finished with value: 0.3950939802809072 and parameters: {'iterations': 202, 'learning_rate': 0.0028839253094703303, 'l2_leaf_reg': 5.433040852584047, 'min_data_in_leaf': 60, 'random_strength': 5.396777750651105, 'bootstrap_type': 'Bayesian', 'grow_policy': 'SymmetricTree', 'leaf_estimation_method': 'Gradient', 'leaf_estimation_iterations': 1, 'fold_permutation_block': 1, 'depth': 1, 'bagging_temperature': 7.167214827835256}. Best is trial 243 with value: 0.3925620897145004.\u001b[0m\n",
      "\u001b[32m[I 2022-04-28 16:20:44,665]\u001b[0m Trial 299 finished with value: 0.3958982095508281 and parameters: {'iterations': 175, 'learning_rate': 0.007088939296113306, 'l2_leaf_reg': 5.865151664446517, 'min_data_in_leaf': 68, 'random_strength': 5.554209833086882, 'bootstrap_type': 'Bayesian', 'grow_policy': 'SymmetricTree', 'leaf_estimation_method': 'Gradient', 'leaf_estimation_iterations': 1, 'fold_permutation_block': 2, 'depth': 1, 'bagging_temperature': 6.540523891113716}. Best is trial 243 with value: 0.3925620897145004.\u001b[0m\n",
      "\u001b[32m[I 2022-04-28 16:20:45,077]\u001b[0m Trial 300 finished with value: 0.43209309055710304 and parameters: {'iterations': 195, 'learning_rate': 0.004988482912289352, 'l2_leaf_reg': 6.745374872986499, 'min_data_in_leaf': 66, 'random_strength': 4.5738689653866285, 'bootstrap_type': 'Bayesian', 'grow_policy': 'SymmetricTree', 'leaf_estimation_method': 'Gradient', 'leaf_estimation_iterations': 1, 'fold_permutation_block': 1, 'depth': 2, 'bagging_temperature': 7.538789792205918}. Best is trial 243 with value: 0.3925620897145004.\u001b[0m\n",
      "\u001b[32m[I 2022-04-28 16:20:45,492]\u001b[0m Trial 301 finished with value: 0.39321236467255066 and parameters: {'iterations': 204, 'learning_rate': 0.0028879181383796746, 'l2_leaf_reg': 6.292147631236191, 'min_data_in_leaf': 56, 'random_strength': 5.177946489630182, 'bootstrap_type': 'Bayesian', 'grow_policy': 'SymmetricTree', 'leaf_estimation_method': 'Gradient', 'leaf_estimation_iterations': 1, 'fold_permutation_block': 2, 'depth': 1, 'bagging_temperature': 6.88601135445216}. Best is trial 243 with value: 0.3925620897145004.\u001b[0m\n",
      "\u001b[32m[I 2022-04-28 16:20:45,939]\u001b[0m Trial 302 finished with value: 0.39644830786366225 and parameters: {'iterations': 208, 'learning_rate': 0.0029484126622784245, 'l2_leaf_reg': 6.10300793204599, 'min_data_in_leaf': 56, 'random_strength': 4.8826158631933225, 'bootstrap_type': 'Bayesian', 'grow_policy': 'SymmetricTree', 'leaf_estimation_method': 'Gradient', 'leaf_estimation_iterations': 1, 'fold_permutation_block': 2, 'depth': 1, 'bagging_temperature': 7.004289678945051}. Best is trial 243 with value: 0.3925620897145004.\u001b[0m\n",
      "\u001b[32m[I 2022-04-28 16:20:46,364]\u001b[0m Trial 303 finished with value: 0.39739835050963906 and parameters: {'iterations': 218, 'learning_rate': 0.004523595446215752, 'l2_leaf_reg': 5.622418230141914, 'min_data_in_leaf': 61, 'random_strength': 5.174119958871117, 'bootstrap_type': 'Bayesian', 'grow_policy': 'SymmetricTree', 'leaf_estimation_method': 'Gradient', 'leaf_estimation_iterations': 1, 'fold_permutation_block': 2, 'depth': 1, 'bagging_temperature': 6.323139489867428}. Best is trial 243 with value: 0.3925620897145004.\u001b[0m\n",
      "\u001b[32m[I 2022-04-28 16:20:46,832]\u001b[0m Trial 304 finished with value: 0.39759966902991567 and parameters: {'iterations': 244, 'learning_rate': 0.006779114559310994, 'l2_leaf_reg': 6.301805726594029, 'min_data_in_leaf': 75, 'random_strength': 5.055552861646137, 'bootstrap_type': 'Bayesian', 'grow_policy': 'SymmetricTree', 'leaf_estimation_method': 'Gradient', 'leaf_estimation_iterations': 1, 'fold_permutation_block': 2, 'depth': 1, 'bagging_temperature': 6.566319822570002}. Best is trial 243 with value: 0.3925620897145004.\u001b[0m\n",
      "\u001b[32m[I 2022-04-28 16:20:47,200]\u001b[0m Trial 305 finished with value: 0.39396924937134986 and parameters: {'iterations': 185, 'learning_rate': 0.00278232031503456, 'l2_leaf_reg': 6.423622010461017, 'min_data_in_leaf': 57, 'random_strength': 4.761345839239348, 'bootstrap_type': 'Bayesian', 'grow_policy': 'SymmetricTree', 'leaf_estimation_method': 'Gradient', 'leaf_estimation_iterations': 1, 'fold_permutation_block': 2, 'depth': 1, 'bagging_temperature': 6.749970708914149}. Best is trial 243 with value: 0.3925620897145004.\u001b[0m\n",
      "\u001b[32m[I 2022-04-28 16:20:47,661]\u001b[0m Trial 306 finished with value: 0.43322704197193923 and parameters: {'iterations': 206, 'learning_rate': 0.009192140773703575, 'l2_leaf_reg': 6.157559171963257, 'min_data_in_leaf': 52, 'random_strength': 5.411201725265574, 'bootstrap_type': 'Bayesian', 'grow_policy': 'SymmetricTree', 'leaf_estimation_method': 'Gradient', 'leaf_estimation_iterations': 1, 'fold_permutation_block': 2, 'depth': 2, 'bagging_temperature': 7.160556302934081}. Best is trial 243 with value: 0.3925620897145004.\u001b[0m\n",
      "\u001b[32m[I 2022-04-28 16:20:48,039]\u001b[0m Trial 307 finished with value: 0.4011918329007038 and parameters: {'iterations': 178, 'learning_rate': 0.0028049212823689877, 'l2_leaf_reg': 5.995357424499488, 'min_data_in_leaf': 48, 'random_strength': 5.2872600719918355, 'bootstrap_type': 'Bayesian', 'grow_policy': 'SymmetricTree', 'leaf_estimation_method': 'Gradient', 'leaf_estimation_iterations': 1, 'fold_permutation_block': 2, 'depth': 1, 'bagging_temperature': 6.064649952391303}. Best is trial 243 with value: 0.3925620897145004.\u001b[0m\n",
      "\u001b[32m[I 2022-04-28 16:20:48,449]\u001b[0m Trial 308 finished with value: 0.3957607748382852 and parameters: {'iterations': 212, 'learning_rate': 0.0010081291884322114, 'l2_leaf_reg': 6.316170806709243, 'min_data_in_leaf': 63, 'random_strength': 5.002202910356967, 'bootstrap_type': 'Bayesian', 'grow_policy': 'SymmetricTree', 'leaf_estimation_method': 'Gradient', 'leaf_estimation_iterations': 1, 'fold_permutation_block': 2, 'depth': 1, 'bagging_temperature': 6.906054681679283}. Best is trial 243 with value: 0.3925620897145004.\u001b[0m\n",
      "\u001b[32m[I 2022-04-28 16:20:48,951]\u001b[0m Trial 309 finished with value: 0.3917831218939576 and parameters: {'iterations': 193, 'learning_rate': 0.004810703541184314, 'l2_leaf_reg': 6.520760306514074, 'min_data_in_leaf': 60, 'random_strength': 5.24706451985796, 'bootstrap_type': 'Bayesian', 'grow_policy': 'SymmetricTree', 'leaf_estimation_method': 'Gradient', 'leaf_estimation_iterations': 5, 'fold_permutation_block': 2, 'depth': 1, 'bagging_temperature': 6.650837006654577}. Best is trial 309 with value: 0.3917831218939576.\u001b[0m\n",
      "\u001b[32m[I 2022-04-28 16:20:49,373]\u001b[0m Trial 310 finished with value: 0.40428851996955445 and parameters: {'iterations': 191, 'learning_rate': 0.006047599165872422, 'l2_leaf_reg': 6.59676323120549, 'min_data_in_leaf': 54, 'random_strength': 5.805082719361685, 'bootstrap_type': 'Bayesian', 'grow_policy': 'SymmetricTree', 'leaf_estimation_method': 'Gradient', 'leaf_estimation_iterations': 2, 'fold_permutation_block': 2, 'depth': 1, 'bagging_temperature': 6.425785527731229}. Best is trial 309 with value: 0.3917831218939576.\u001b[0m\n",
      "\u001b[32m[I 2022-04-28 16:20:49,939]\u001b[0m Trial 311 finished with value: 0.4069054363113551 and parameters: {'iterations': 183, 'learning_rate': 0.004643258741902171, 'l2_leaf_reg': 6.493056217683618, 'min_data_in_leaf': 60, 'random_strength': 5.574202257182515, 'bootstrap_type': 'Bayesian', 'grow_policy': 'SymmetricTree', 'leaf_estimation_method': 'Gradient', 'leaf_estimation_iterations': 6, 'fold_permutation_block': 2, 'depth': 1, 'bagging_temperature': 6.627269694853298}. Best is trial 309 with value: 0.3917831218939576.\u001b[0m\n",
      "\u001b[32m[I 2022-04-28 16:20:50,448]\u001b[0m Trial 312 finished with value: 0.4653074653262637 and parameters: {'iterations': 195, 'learning_rate': 0.007586842947492592, 'l2_leaf_reg': 5.797336591764262, 'min_data_in_leaf': 59, 'random_strength': 5.314112117882866, 'bootstrap_type': 'Bernoulli', 'grow_policy': 'SymmetricTree', 'leaf_estimation_method': 'Gradient', 'leaf_estimation_iterations': 5, 'fold_permutation_block': 2, 'depth': 1, 'subsample': 0.6435519093397005}. Best is trial 309 with value: 0.3917831218939576.\u001b[0m\n",
      "\u001b[32m[I 2022-04-28 16:20:51,133]\u001b[0m Trial 313 finished with value: 0.39341907660167097 and parameters: {'iterations': 301, 'learning_rate': 0.0010038853150945294, 'l2_leaf_reg': 6.320675919617703, 'min_data_in_leaf': 62, 'random_strength': 4.81223563877024, 'bootstrap_type': 'Bayesian', 'grow_policy': 'SymmetricTree', 'leaf_estimation_method': 'Gradient', 'leaf_estimation_iterations': 4, 'fold_permutation_block': 2, 'depth': 1, 'bagging_temperature': 6.983484914672009}. Best is trial 309 with value: 0.3917831218939576.\u001b[0m\n",
      "\u001b[32m[I 2022-04-28 16:20:51,791]\u001b[0m Trial 314 finished with value: 0.39649433045300314 and parameters: {'iterations': 292, 'learning_rate': 0.0011386469960631678, 'l2_leaf_reg': 6.7415924474819455, 'min_data_in_leaf': 62, 'random_strength': 4.359411804632609, 'bootstrap_type': 'Bayesian', 'grow_policy': 'SymmetricTree', 'leaf_estimation_method': 'Newton', 'leaf_estimation_iterations': 4, 'fold_permutation_block': 2, 'depth': 1, 'bagging_temperature': 7.377543256292391}. Best is trial 309 with value: 0.3917831218939576.\u001b[0m\n",
      "\u001b[32m[I 2022-04-28 16:20:52,552]\u001b[0m Trial 315 finished with value: 0.3994462505259331 and parameters: {'iterations': 325, 'learning_rate': 0.004566804374980554, 'l2_leaf_reg': 4.85015267201296, 'min_data_in_leaf': 61, 'random_strength': 5.495460262599137, 'bootstrap_type': 'Bayesian', 'grow_policy': 'SymmetricTree', 'leaf_estimation_method': 'Gradient', 'leaf_estimation_iterations': 4, 'fold_permutation_block': 2, 'depth': 1, 'bagging_temperature': 7.058199829362184}. Best is trial 309 with value: 0.3917831218939576.\u001b[0m\n",
      "\u001b[32m[I 2022-04-28 16:20:53,259]\u001b[0m Trial 316 finished with value: 0.39787703906289457 and parameters: {'iterations': 303, 'learning_rate': 0.00100903297257051, 'l2_leaf_reg': 6.429392765860453, 'min_data_in_leaf': 58, 'random_strength': 4.616489611770307, 'bootstrap_type': 'Bayesian', 'grow_policy': 'SymmetricTree', 'leaf_estimation_method': 'Gradient', 'leaf_estimation_iterations': 5, 'fold_permutation_block': 2, 'depth': 1, 'bagging_temperature': 7.230889613404175}. Best is trial 309 with value: 0.3917831218939576.\u001b[0m\n",
      "\u001b[32m[I 2022-04-28 16:20:53,775]\u001b[0m Trial 317 finished with value: 0.4266914541597259 and parameters: {'iterations': 202, 'learning_rate': 0.0028176082548800477, 'l2_leaf_reg': 6.313128574790843, 'min_data_in_leaf': 67, 'random_strength': 5.259105374947215, 'bootstrap_type': 'Bayesian', 'grow_policy': 'SymmetricTree', 'leaf_estimation_method': 'Gradient', 'leaf_estimation_iterations': 3, 'fold_permutation_block': 2, 'depth': 2, 'bagging_temperature': 6.944491597021982}. Best is trial 309 with value: 0.3917831218939576.\u001b[0m\n",
      "\u001b[32m[I 2022-04-28 16:20:54,315]\u001b[0m Trial 318 finished with value: 0.39368511069713596 and parameters: {'iterations': 224, 'learning_rate': 0.006075052121448153, 'l2_leaf_reg': 6.631880527622992, 'min_data_in_leaf': 70, 'random_strength': 5.485794623049791, 'bootstrap_type': 'Bayesian', 'grow_policy': 'SymmetricTree', 'leaf_estimation_method': 'Gradient', 'leaf_estimation_iterations': 4, 'fold_permutation_block': 2, 'depth': 1, 'bagging_temperature': 6.264730279797074}. Best is trial 309 with value: 0.3917831218939576.\u001b[0m\n",
      "\u001b[32m[I 2022-04-28 16:20:54,948]\u001b[0m Trial 319 finished with value: 0.40219631007302786 and parameters: {'iterations': 297, 'learning_rate': 0.005775764389563457, 'l2_leaf_reg': 6.49747827540821, 'min_data_in_leaf': 71, 'random_strength': 5.8128597166818174, 'bootstrap_type': 'Bayesian', 'grow_policy': 'SymmetricTree', 'leaf_estimation_method': 'Gradient', 'leaf_estimation_iterations': 3, 'fold_permutation_block': 2, 'depth': 1, 'bagging_temperature': 6.189763460888183}. Best is trial 309 with value: 0.3917831218939576.\u001b[0m\n",
      "\u001b[32m[I 2022-04-28 16:20:55,650]\u001b[0m Trial 320 finished with value: 0.400226586555116 and parameters: {'iterations': 284, 'learning_rate': 0.007324371203148656, 'l2_leaf_reg': 6.254031694967217, 'min_data_in_leaf': 72, 'random_strength': 4.960760566462067, 'bootstrap_type': 'Bayesian', 'grow_policy': 'SymmetricTree', 'leaf_estimation_method': 'Gradient', 'leaf_estimation_iterations': 4, 'fold_permutation_block': 2, 'depth': 1, 'bagging_temperature': 6.3212030341870085}. Best is trial 309 with value: 0.3917831218939576.\u001b[0m\n",
      "\u001b[32m[I 2022-04-28 16:20:56,168]\u001b[0m Trial 321 finished with value: 0.3916145745216609 and parameters: {'iterations': 225, 'learning_rate': 0.0037714815895046293, 'l2_leaf_reg': 6.771638954396677, 'min_data_in_leaf': 69, 'random_strength': 5.177877163768825, 'bootstrap_type': 'Bayesian', 'grow_policy': 'SymmetricTree', 'leaf_estimation_method': 'Gradient', 'leaf_estimation_iterations': 4, 'fold_permutation_block': 2, 'depth': 1, 'bagging_temperature': 6.523260765601796}. Best is trial 321 with value: 0.3916145745216609.\u001b[0m\n",
      "\u001b[32m[I 2022-04-28 16:20:56,743]\u001b[0m Trial 322 finished with value: 0.3961710178582536 and parameters: {'iterations': 245, 'learning_rate': 0.009539397875607166, 'l2_leaf_reg': 6.83364709884263, 'min_data_in_leaf': 69, 'random_strength': 4.7485699391351925, 'bootstrap_type': 'Bayesian', 'grow_policy': 'SymmetricTree', 'leaf_estimation_method': 'Gradient', 'leaf_estimation_iterations': 4, 'fold_permutation_block': 2, 'depth': 1, 'bagging_temperature': 6.456283328151559}. Best is trial 321 with value: 0.3916145745216609.\u001b[0m\n",
      "\u001b[32m[I 2022-04-28 16:20:57,301]\u001b[0m Trial 323 finished with value: 0.3922975903920534 and parameters: {'iterations': 231, 'learning_rate': 0.004867289995694097, 'l2_leaf_reg': 6.749862676950886, 'min_data_in_leaf': 70, 'random_strength': 5.181968773160028, 'bootstrap_type': 'Bayesian', 'grow_policy': 'SymmetricTree', 'leaf_estimation_method': 'Gradient', 'leaf_estimation_iterations': 4, 'fold_permutation_block': 2, 'depth': 1, 'bagging_temperature': 6.16948549760026}. Best is trial 321 with value: 0.3916145745216609.\u001b[0m\n",
      "\u001b[32m[I 2022-04-28 16:20:58,062]\u001b[0m Trial 324 finished with value: 0.45185081269873234 and parameters: {'iterations': 306, 'learning_rate': 0.00859458443688536, 'l2_leaf_reg': 6.798258454188483, 'min_data_in_leaf': 70, 'random_strength': 5.208397232120772, 'bootstrap_type': 'Bayesian', 'grow_policy': 'SymmetricTree', 'leaf_estimation_method': 'Gradient', 'leaf_estimation_iterations': 4, 'fold_permutation_block': 2, 'depth': 2, 'bagging_temperature': 6.0354114763146285}. Best is trial 321 with value: 0.3916145745216609.\u001b[0m\n",
      "\u001b[32m[I 2022-04-28 16:20:58,601]\u001b[0m Trial 325 finished with value: 0.39365673436414594 and parameters: {'iterations': 232, 'learning_rate': 0.0057207853490627465, 'l2_leaf_reg': 6.666370442351793, 'min_data_in_leaf': 72, 'random_strength': 5.154042836350514, 'bootstrap_type': 'Bayesian', 'grow_policy': 'SymmetricTree', 'leaf_estimation_method': 'Gradient', 'leaf_estimation_iterations': 4, 'fold_permutation_block': 2, 'depth': 1, 'bagging_temperature': 6.270226529418586}. Best is trial 321 with value: 0.3916145745216609.\u001b[0m\n",
      "\u001b[32m[I 2022-04-28 16:20:59,143]\u001b[0m Trial 326 finished with value: 0.4035360334761379 and parameters: {'iterations': 229, 'learning_rate': 0.0070031682135588925, 'l2_leaf_reg': 6.9818184523953635, 'min_data_in_leaf': 100, 'random_strength': 5.138068847338115, 'bootstrap_type': 'Bayesian', 'grow_policy': 'SymmetricTree', 'leaf_estimation_method': 'Gradient', 'leaf_estimation_iterations': 4, 'fold_permutation_block': 2, 'depth': 1, 'bagging_temperature': 5.073427856654598}. Best is trial 321 with value: 0.3916145745216609.\u001b[0m\n",
      "\u001b[32m[I 2022-04-28 16:20:59,747]\u001b[0m Trial 327 finished with value: 0.39233418090764277 and parameters: {'iterations': 237, 'learning_rate': 0.005678581800615162, 'l2_leaf_reg': 6.614318822219026, 'min_data_in_leaf': 75, 'random_strength': 4.988200811738851, 'bootstrap_type': 'Bayesian', 'grow_policy': 'SymmetricTree', 'leaf_estimation_method': 'Gradient', 'leaf_estimation_iterations': 4, 'fold_permutation_block': 2, 'depth': 1, 'bagging_temperature': 6.255253808589068}. Best is trial 321 with value: 0.3916145745216609.\u001b[0m\n",
      "\u001b[32m[I 2022-04-28 16:21:02,869]\u001b[0m Trial 328 finished with value: 0.5794994383276996 and parameters: {'iterations': 235, 'learning_rate': 0.010262532043726309, 'l2_leaf_reg': 6.691726472837674, 'min_data_in_leaf': 74, 'random_strength': 5.009547887609917, 'bootstrap_type': 'Bayesian', 'grow_policy': 'Lossguide', 'leaf_estimation_method': 'Gradient', 'leaf_estimation_iterations': 4, 'fold_permutation_block': 2, 'max_leaves': 153, 'depth': 11, 'bagging_temperature': 5.757785992680935}. Best is trial 321 with value: 0.3916145745216609.\u001b[0m\n",
      "\u001b[32m[I 2022-04-28 16:21:03,432]\u001b[0m Trial 329 finished with value: 0.39423972390045764 and parameters: {'iterations': 227, 'learning_rate': 0.005996430902208553, 'l2_leaf_reg': 6.5566662213395155, 'min_data_in_leaf': 75, 'random_strength': 4.9315828007167095, 'bootstrap_type': 'Bayesian', 'grow_policy': 'SymmetricTree', 'leaf_estimation_method': 'Gradient', 'leaf_estimation_iterations': 4, 'fold_permutation_block': 2, 'depth': 1, 'bagging_temperature': 6.207142362349881}. Best is trial 321 with value: 0.3916145745216609.\u001b[0m\n",
      "\u001b[32m[I 2022-04-28 16:21:04,027]\u001b[0m Trial 330 finished with value: 0.3973215342226977 and parameters: {'iterations': 253, 'learning_rate': 0.008171292728728598, 'l2_leaf_reg': 6.972680543837192, 'min_data_in_leaf': 72, 'random_strength': 5.225686303535366, 'bootstrap_type': 'Bayesian', 'grow_policy': 'SymmetricTree', 'leaf_estimation_method': 'Gradient', 'leaf_estimation_iterations': 4, 'fold_permutation_block': 2, 'depth': 1, 'bagging_temperature': 6.094534528110347}. Best is trial 321 with value: 0.3916145745216609.\u001b[0m\n",
      "\u001b[32m[I 2022-04-28 16:21:04,620]\u001b[0m Trial 331 finished with value: 0.3956356715223859 and parameters: {'iterations': 246, 'learning_rate': 0.005225366134239752, 'l2_leaf_reg': 6.782039260902605, 'min_data_in_leaf': 73, 'random_strength': 5.066818437589673, 'bootstrap_type': 'Bayesian', 'grow_policy': 'SymmetricTree', 'leaf_estimation_method': 'Gradient', 'leaf_estimation_iterations': 4, 'fold_permutation_block': 2, 'depth': 1, 'bagging_temperature': 6.006061226081452}. Best is trial 321 with value: 0.3916145745216609.\u001b[0m\n",
      "\u001b[32m[I 2022-04-28 16:21:05,242]\u001b[0m Trial 332 finished with value: 0.39253845488047695 and parameters: {'iterations': 239, 'learning_rate': 0.004870485007282508, 'l2_leaf_reg': 6.526553075205747, 'min_data_in_leaf': 75, 'random_strength': 4.723301583608942, 'bootstrap_type': 'Bayesian', 'grow_policy': 'SymmetricTree', 'leaf_estimation_method': 'Gradient', 'leaf_estimation_iterations': 4, 'fold_permutation_block': 2, 'depth': 1, 'bagging_temperature': 6.329092814629501}. Best is trial 321 with value: 0.3916145745216609.\u001b[0m\n",
      "\u001b[32m[I 2022-04-28 16:21:05,827]\u001b[0m Trial 333 finished with value: 0.3985737216890757 and parameters: {'iterations': 243, 'learning_rate': 0.011395494786071693, 'l2_leaf_reg': 6.501823619254624, 'min_data_in_leaf': 75, 'random_strength': 4.848460711819964, 'bootstrap_type': 'Bayesian', 'grow_policy': 'SymmetricTree', 'leaf_estimation_method': 'Gradient', 'leaf_estimation_iterations': 4, 'fold_permutation_block': 2, 'depth': 1, 'bagging_temperature': 6.094283654692139}. Best is trial 321 with value: 0.3916145745216609.\u001b[0m\n",
      "\u001b[32m[I 2022-04-28 16:21:06,434]\u001b[0m Trial 334 finished with value: 0.3975162936677364 and parameters: {'iterations': 236, 'learning_rate': 0.00884220098966268, 'l2_leaf_reg': 6.585075155118849, 'min_data_in_leaf': 72, 'random_strength': 5.353889263986899, 'bootstrap_type': 'Bayesian', 'grow_policy': 'SymmetricTree', 'leaf_estimation_method': 'Gradient', 'leaf_estimation_iterations': 4, 'fold_permutation_block': 2, 'depth': 1, 'bagging_temperature': 5.880809775026416}. Best is trial 321 with value: 0.3916145745216609.\u001b[0m\n",
      "\u001b[32m[I 2022-04-28 16:21:07,086]\u001b[0m Trial 335 finished with value: 0.39645363923228133 and parameters: {'iterations': 253, 'learning_rate': 0.0061034369842861876, 'l2_leaf_reg': 6.760681028201739, 'min_data_in_leaf': 70, 'random_strength': 4.712681239116168, 'bootstrap_type': 'Bayesian', 'grow_policy': 'SymmetricTree', 'leaf_estimation_method': 'Gradient', 'leaf_estimation_iterations': 4, 'fold_permutation_block': 2, 'depth': 1, 'bagging_temperature': 6.27174935468995}. Best is trial 321 with value: 0.3916145745216609.\u001b[0m\n",
      "\u001b[32m[I 2022-04-28 16:21:07,729]\u001b[0m Trial 336 finished with value: 0.39224112002116435 and parameters: {'iterations': 236, 'learning_rate': 0.004626469306029154, 'l2_leaf_reg': 6.421849528220228, 'min_data_in_leaf': 75, 'random_strength': 5.174317552953456, 'bootstrap_type': 'Bayesian', 'grow_policy': 'SymmetricTree', 'leaf_estimation_method': 'Gradient', 'leaf_estimation_iterations': 4, 'fold_permutation_block': 2, 'depth': 1, 'bagging_temperature': 6.336698823921498}. Best is trial 321 with value: 0.3916145745216609.\u001b[0m\n",
      "\u001b[32m[I 2022-04-28 16:21:08,289]\u001b[0m Trial 337 finished with value: 0.39483765586649083 and parameters: {'iterations': 233, 'learning_rate': 0.0068901327424440145, 'l2_leaf_reg': 6.871505855026876, 'min_data_in_leaf': 75, 'random_strength': 5.147472118326323, 'bootstrap_type': 'Bayesian', 'grow_policy': 'SymmetricTree', 'leaf_estimation_method': 'Gradient', 'leaf_estimation_iterations': 4, 'fold_permutation_block': 2, 'depth': 1, 'bagging_temperature': 6.282258623094966}. Best is trial 321 with value: 0.3916145745216609.\u001b[0m\n",
      "\u001b[32m[I 2022-04-28 16:21:08,868]\u001b[0m Trial 338 finished with value: 0.3958330475585236 and parameters: {'iterations': 239, 'learning_rate': 0.00472804292140507, 'l2_leaf_reg': 6.5507740956547975, 'min_data_in_leaf': 75, 'random_strength': 4.825777359075421, 'bootstrap_type': 'Bayesian', 'grow_policy': 'SymmetricTree', 'leaf_estimation_method': 'Gradient', 'leaf_estimation_iterations': 4, 'fold_permutation_block': 2, 'depth': 1, 'bagging_temperature': 5.932705273703403}. Best is trial 321 with value: 0.3916145745216609.\u001b[0m\n",
      "\u001b[32m[I 2022-04-28 16:21:09,423]\u001b[0m Trial 339 finished with value: 0.39298067099434136 and parameters: {'iterations': 226, 'learning_rate': 0.004645628422219076, 'l2_leaf_reg': 6.384726364105687, 'min_data_in_leaf': 72, 'random_strength': 5.266428947284091, 'bootstrap_type': 'Bayesian', 'grow_policy': 'SymmetricTree', 'leaf_estimation_method': 'Gradient', 'leaf_estimation_iterations': 4, 'fold_permutation_block': 2, 'depth': 1, 'bagging_temperature': 6.35030359689612}. Best is trial 321 with value: 0.3916145745216609.\u001b[0m\n",
      "\u001b[32m[I 2022-04-28 16:21:10,160]\u001b[0m Trial 340 finished with value: 0.4103183626159819 and parameters: {'iterations': 317, 'learning_rate': 0.013016081319471996, 'l2_leaf_reg': 6.35355132602362, 'min_data_in_leaf': 73, 'random_strength': 5.111423720737197, 'bootstrap_type': 'Bayesian', 'grow_policy': 'SymmetricTree', 'leaf_estimation_method': 'Gradient', 'leaf_estimation_iterations': 4, 'fold_permutation_block': 2, 'depth': 1, 'bagging_temperature': 6.387287973345776}. Best is trial 321 with value: 0.3916145745216609.\u001b[0m\n",
      "\u001b[32m[I 2022-04-28 16:21:10,840]\u001b[0m Trial 341 finished with value: 0.3947619352244001 and parameters: {'iterations': 276, 'learning_rate': 0.004261732723399557, 'l2_leaf_reg': 6.423132343967275, 'min_data_in_leaf': 73, 'random_strength': 4.46291677678311, 'bootstrap_type': 'Bayesian', 'grow_policy': 'SymmetricTree', 'leaf_estimation_method': 'Gradient', 'leaf_estimation_iterations': 4, 'fold_permutation_block': 2, 'depth': 1, 'bagging_temperature': 6.533333421472692}. Best is trial 321 with value: 0.3916145745216609.\u001b[0m\n",
      "\u001b[32m[I 2022-04-28 16:21:11,470]\u001b[0m Trial 342 finished with value: 0.5204548843139106 and parameters: {'iterations': 236, 'learning_rate': 0.00905705760323913, 'l2_leaf_reg': 6.926223580597971, 'min_data_in_leaf': 76, 'random_strength': 5.296913108486694, 'bootstrap_type': 'Bernoulli', 'grow_policy': 'SymmetricTree', 'leaf_estimation_method': 'Gradient', 'leaf_estimation_iterations': 4, 'fold_permutation_block': 2, 'depth': 4, 'subsample': 0.7738339946907941}. Best is trial 321 with value: 0.3916145745216609.\u001b[0m\n",
      "\u001b[32m[I 2022-04-28 16:21:12,149]\u001b[0m Trial 343 finished with value: 0.442551041296618 and parameters: {'iterations': 263, 'learning_rate': 0.0044408058759745, 'l2_leaf_reg': 6.388246670294681, 'min_data_in_leaf': 72, 'random_strength': 4.783571906922644, 'bootstrap_type': 'Bayesian', 'grow_policy': 'SymmetricTree', 'leaf_estimation_method': 'Gradient', 'leaf_estimation_iterations': 4, 'fold_permutation_block': 2, 'depth': 2, 'bagging_temperature': 6.148537122308516}. Best is trial 321 with value: 0.3916145745216609.\u001b[0m\n",
      "\u001b[32m[I 2022-04-28 16:21:13,135]\u001b[0m Trial 344 finished with value: 0.5511995150996509 and parameters: {'iterations': 226, 'learning_rate': 0.007333933420150688, 'l2_leaf_reg': 6.70551280268658, 'min_data_in_leaf': 75, 'random_strength': 5.07536202315579, 'bootstrap_type': 'Bayesian', 'grow_policy': 'SymmetricTree', 'leaf_estimation_method': 'Newton', 'leaf_estimation_iterations': 4, 'fold_permutation_block': 2, 'depth': 8, 'bagging_temperature': 6.37910047568674}. Best is trial 321 with value: 0.3916145745216609.\u001b[0m\n",
      "\u001b[32m[I 2022-04-28 16:21:13,708]\u001b[0m Trial 345 finished with value: 0.391458282782234 and parameters: {'iterations': 228, 'learning_rate': 0.004163269377059176, 'l2_leaf_reg': 6.534093292189405, 'min_data_in_leaf': 57, 'random_strength': 5.342572498640784, 'bootstrap_type': 'Bayesian', 'grow_policy': 'SymmetricTree', 'leaf_estimation_method': 'Gradient', 'leaf_estimation_iterations': 4, 'fold_permutation_block': 2, 'depth': 1, 'bagging_temperature': 6.503271611963904}. Best is trial 345 with value: 0.391458282782234.\u001b[0m\n",
      "\u001b[32m[I 2022-04-28 16:21:14,315]\u001b[0m Trial 346 finished with value: 0.39738350696188557 and parameters: {'iterations': 238, 'learning_rate': 0.004802285961356594, 'l2_leaf_reg': 6.563306201690418, 'min_data_in_leaf': 56, 'random_strength': 5.362288778133526, 'bootstrap_type': 'Bayesian', 'grow_policy': 'SymmetricTree', 'leaf_estimation_method': 'Gradient', 'leaf_estimation_iterations': 5, 'fold_permutation_block': 2, 'depth': 1, 'bagging_temperature': 5.899181819751428}. Best is trial 345 with value: 0.391458282782234.\u001b[0m\n",
      "\u001b[32m[I 2022-04-28 16:21:14,878]\u001b[0m Trial 347 finished with value: 0.4364099149213805 and parameters: {'iterations': 221, 'learning_rate': 0.0035700897280024897, 'l2_leaf_reg': 6.771572853397686, 'min_data_in_leaf': 54, 'random_strength': 5.284699248380349, 'bootstrap_type': 'Bayesian', 'grow_policy': 'SymmetricTree', 'leaf_estimation_method': 'Gradient', 'leaf_estimation_iterations': 4, 'fold_permutation_block': 2, 'depth': 2, 'bagging_temperature': 6.55068999446394}. Best is trial 345 with value: 0.391458282782234.\u001b[0m\n",
      "\u001b[32m[I 2022-04-28 16:21:15,521]\u001b[0m Trial 348 finished with value: 0.3993486259177778 and parameters: {'iterations': 250, 'learning_rate': 0.007007023361383447, 'l2_leaf_reg': 6.435064552985069, 'min_data_in_leaf': 57, 'random_strength': 4.693678053357485, 'bootstrap_type': 'Bayesian', 'grow_policy': 'SymmetricTree', 'leaf_estimation_method': 'Gradient', 'leaf_estimation_iterations': 5, 'fold_permutation_block': 2, 'depth': 1, 'bagging_temperature': 6.227888208423978}. Best is trial 345 with value: 0.391458282782234.\u001b[0m\n",
      "\u001b[32m[I 2022-04-28 16:21:16,076]\u001b[0m Trial 349 finished with value: 0.39281917448055864 and parameters: {'iterations': 223, 'learning_rate': 0.004507192225748903, 'l2_leaf_reg': 7.026364378289115, 'min_data_in_leaf': 60, 'random_strength': 5.246893028328687, 'bootstrap_type': 'Bayesian', 'grow_policy': 'SymmetricTree', 'leaf_estimation_method': 'Gradient', 'leaf_estimation_iterations': 4, 'fold_permutation_block': 2, 'depth': 1, 'bagging_temperature': 6.48529185313189}. Best is trial 345 with value: 0.391458282782234.\u001b[0m\n",
      "\u001b[32m[I 2022-04-28 16:21:16,609]\u001b[0m Trial 350 finished with value: 0.38922101073502197 and parameters: {'iterations': 220, 'learning_rate': 0.0034758397202252302, 'l2_leaf_reg': 7.043877524649774, 'min_data_in_leaf': 59, 'random_strength': 5.419451229092162, 'bootstrap_type': 'Bayesian', 'grow_policy': 'SymmetricTree', 'leaf_estimation_method': 'Gradient', 'leaf_estimation_iterations': 4, 'fold_permutation_block': 2, 'depth': 1, 'bagging_temperature': 6.563519990735439}. Best is trial 350 with value: 0.38922101073502197.\u001b[0m\n",
      "\u001b[32m[I 2022-04-28 16:21:17,157]\u001b[0m Trial 351 finished with value: 0.389416688743168 and parameters: {'iterations': 220, 'learning_rate': 0.0031250645554479948, 'l2_leaf_reg': 6.9978823439407325, 'min_data_in_leaf': 50, 'random_strength': 5.339272655293818, 'bootstrap_type': 'Bayesian', 'grow_policy': 'SymmetricTree', 'leaf_estimation_method': 'Gradient', 'leaf_estimation_iterations': 4, 'fold_permutation_block': 2, 'depth': 1, 'bagging_temperature': 6.465777525123662}. Best is trial 350 with value: 0.38922101073502197.\u001b[0m\n",
      "\u001b[32m[I 2022-04-28 16:21:17,783]\u001b[0m Trial 352 finished with value: 0.40398488921367687 and parameters: {'iterations': 218, 'learning_rate': 0.004479523778897563, 'l2_leaf_reg': 6.788161952218944, 'min_data_in_leaf': 46, 'random_strength': 5.406717865623612, 'bootstrap_type': 'Bayesian', 'grow_policy': 'SymmetricTree', 'leaf_estimation_method': 'Gradient', 'leaf_estimation_iterations': 4, 'fold_permutation_block': 2, 'depth': 1, 'bagging_temperature': 4.5936873596085315}. Best is trial 350 with value: 0.38922101073502197.\u001b[0m\n",
      "\u001b[32m[I 2022-04-28 16:21:18,309]\u001b[0m Trial 353 finished with value: 0.3899498365845507 and parameters: {'iterations': 222, 'learning_rate': 0.003323666591146751, 'l2_leaf_reg': 7.070515480739899, 'min_data_in_leaf': 49, 'random_strength': 5.3474710438355695, 'bootstrap_type': 'Bayesian', 'grow_policy': 'SymmetricTree', 'leaf_estimation_method': 'Gradient', 'leaf_estimation_iterations': 4, 'fold_permutation_block': 2, 'depth': 1, 'bagging_temperature': 6.471690647251345}. Best is trial 350 with value: 0.38922101073502197.\u001b[0m\n",
      "\u001b[32m[I 2022-04-28 16:21:18,846]\u001b[0m Trial 354 finished with value: 0.394571432101158 and parameters: {'iterations': 224, 'learning_rate': 0.008067448584204112, 'l2_leaf_reg': 6.9807045584705305, 'min_data_in_leaf': 50, 'random_strength': 5.369109765934613, 'bootstrap_type': 'Bayesian', 'grow_policy': 'SymmetricTree', 'leaf_estimation_method': 'Gradient', 'leaf_estimation_iterations': 4, 'fold_permutation_block': 2, 'depth': 1, 'bagging_temperature': 6.432126874854255}. Best is trial 350 with value: 0.38922101073502197.\u001b[0m\n",
      "\u001b[32m[I 2022-04-28 16:21:19,364]\u001b[0m Trial 355 finished with value: 0.3909289240696472 and parameters: {'iterations': 228, 'learning_rate': 0.0033620406836794856, 'l2_leaf_reg': 7.0323553904101574, 'min_data_in_leaf': 51, 'random_strength': 5.45297709578887, 'bootstrap_type': 'Bayesian', 'grow_policy': 'SymmetricTree', 'leaf_estimation_method': 'Gradient', 'leaf_estimation_iterations': 4, 'fold_permutation_block': 2, 'depth': 1, 'bagging_temperature': 6.459415812655319}. Best is trial 350 with value: 0.38922101073502197.\u001b[0m\n",
      "\u001b[32m[I 2022-04-28 16:21:19,950]\u001b[0m Trial 356 finished with value: 0.44404180039760816 and parameters: {'iterations': 229, 'learning_rate': 0.006049597996280067, 'l2_leaf_reg': 6.984992479980169, 'min_data_in_leaf': 47, 'random_strength': 5.23383892588678, 'bootstrap_type': 'Bayesian', 'grow_policy': 'SymmetricTree', 'leaf_estimation_method': 'Gradient', 'leaf_estimation_iterations': 4, 'fold_permutation_block': 2, 'depth': 2, 'bagging_temperature': 6.079552747682043}. Best is trial 350 with value: 0.38922101073502197.\u001b[0m\n",
      "\u001b[32m[I 2022-04-28 16:21:22,567]\u001b[0m Trial 357 finished with value: 0.5729510904238754 and parameters: {'iterations': 218, 'learning_rate': 0.0035074484143865015, 'l2_leaf_reg': 7.09962413310874, 'min_data_in_leaf': 50, 'random_strength': 5.47215062177596, 'bootstrap_type': 'Bayesian', 'grow_policy': 'Lossguide', 'leaf_estimation_method': 'Gradient', 'leaf_estimation_iterations': 4, 'fold_permutation_block': 2, 'max_leaves': 93, 'depth': 11, 'bagging_temperature': 5.722198885667447}. Best is trial 350 with value: 0.38922101073502197.\u001b[0m\n",
      "\u001b[32m[I 2022-04-28 16:21:23,176]\u001b[0m Trial 358 finished with value: 0.3964142121263956 and parameters: {'iterations': 223, 'learning_rate': 0.010283835297911308, 'l2_leaf_reg': 6.994583785537586, 'min_data_in_leaf': 53, 'random_strength': 5.249023286376448, 'bootstrap_type': 'Bayesian', 'grow_policy': 'SymmetricTree', 'leaf_estimation_method': 'Gradient', 'leaf_estimation_iterations': 4, 'fold_permutation_block': 2, 'depth': 1, 'bagging_temperature': 6.362314130071875}. Best is trial 350 with value: 0.38922101073502197.\u001b[0m\n",
      "\u001b[32m[I 2022-04-28 16:21:23,771]\u001b[0m Trial 359 finished with value: 0.38997735760471874 and parameters: {'iterations': 239, 'learning_rate': 0.0032673766254434334, 'l2_leaf_reg': 7.082358575776082, 'min_data_in_leaf': 50, 'random_strength': 5.508067153847195, 'bootstrap_type': 'Bayesian', 'grow_policy': 'SymmetricTree', 'leaf_estimation_method': 'Gradient', 'leaf_estimation_iterations': 4, 'fold_permutation_block': 2, 'depth': 1, 'bagging_temperature': 6.520352271795396}. Best is trial 350 with value: 0.38922101073502197.\u001b[0m\n",
      "\u001b[32m[I 2022-04-28 16:21:24,345]\u001b[0m Trial 360 finished with value: 0.3938690978372754 and parameters: {'iterations': 240, 'learning_rate': 0.005728545873657351, 'l2_leaf_reg': 7.212776143926812, 'min_data_in_leaf': 53, 'random_strength': 5.795944475635845, 'bootstrap_type': 'Bayesian', 'grow_policy': 'SymmetricTree', 'leaf_estimation_method': 'Gradient', 'leaf_estimation_iterations': 4, 'fold_permutation_block': 2, 'depth': 1, 'bagging_temperature': 6.477846870018655}. Best is trial 350 with value: 0.38922101073502197.\u001b[0m\n",
      "\u001b[32m[I 2022-04-28 16:21:24,922]\u001b[0m Trial 361 finished with value: 0.3928535110675437 and parameters: {'iterations': 232, 'learning_rate': 0.0038989246198809177, 'l2_leaf_reg': 7.029547913195068, 'min_data_in_leaf': 49, 'random_strength': 5.540629673635487, 'bootstrap_type': 'Bayesian', 'grow_policy': 'SymmetricTree', 'leaf_estimation_method': 'Gradient', 'leaf_estimation_iterations': 4, 'fold_permutation_block': 2, 'depth': 1, 'bagging_temperature': 6.12656649803478}. Best is trial 350 with value: 0.38922101073502197.\u001b[0m\n",
      "\u001b[32m[I 2022-04-28 16:21:25,517]\u001b[0m Trial 362 finished with value: 0.3967790646549354 and parameters: {'iterations': 233, 'learning_rate': 0.007387526126079975, 'l2_leaf_reg': 7.116521188201534, 'min_data_in_leaf': 40, 'random_strength': 5.444442070579609, 'bootstrap_type': 'Bayesian', 'grow_policy': 'SymmetricTree', 'leaf_estimation_method': 'Gradient', 'leaf_estimation_iterations': 4, 'fold_permutation_block': 2, 'depth': 1, 'bagging_temperature': 5.97223946810983}. Best is trial 350 with value: 0.38922101073502197.\u001b[0m\n",
      "\u001b[32m[I 2022-04-28 16:21:26,079]\u001b[0m Trial 363 finished with value: 0.39199037051675584 and parameters: {'iterations': 240, 'learning_rate': 0.004041853318049408, 'l2_leaf_reg': 7.0815432462643955, 'min_data_in_leaf': 49, 'random_strength': 5.5862608852685405, 'bootstrap_type': 'Bayesian', 'grow_policy': 'SymmetricTree', 'leaf_estimation_method': 'Gradient', 'leaf_estimation_iterations': 4, 'fold_permutation_block': 2, 'depth': 1, 'bagging_temperature': 6.138367757379331}. Best is trial 350 with value: 0.38922101073502197.\u001b[0m\n",
      "\u001b[32m[I 2022-04-28 16:21:26,674]\u001b[0m Trial 364 finished with value: 0.40107305328418136 and parameters: {'iterations': 243, 'learning_rate': 0.00965929257332716, 'l2_leaf_reg': 7.124049752487455, 'min_data_in_leaf': 44, 'random_strength': 5.7697675763720895, 'bootstrap_type': 'Bayesian', 'grow_policy': 'SymmetricTree', 'leaf_estimation_method': 'Gradient', 'leaf_estimation_iterations': 4, 'fold_permutation_block': 2, 'depth': 1, 'bagging_temperature': 5.631860201637578}. Best is trial 350 with value: 0.38922101073502197.\u001b[0m\n",
      "\u001b[32m[I 2022-04-28 16:21:27,321]\u001b[0m Trial 365 finished with value: 0.3958281723446742 and parameters: {'iterations': 260, 'learning_rate': 0.004850095109686347, 'l2_leaf_reg': 7.154148803253347, 'min_data_in_leaf': 48, 'random_strength': 5.545740790445261, 'bootstrap_type': 'Bayesian', 'grow_policy': 'SymmetricTree', 'leaf_estimation_method': 'Gradient', 'leaf_estimation_iterations': 4, 'fold_permutation_block': 2, 'depth': 1, 'bagging_temperature': 6.1651045021877415}. Best is trial 350 with value: 0.38922101073502197.\u001b[0m\n",
      "\u001b[32m[I 2022-04-28 16:21:27,898]\u001b[0m Trial 366 finished with value: 0.3966200994118567 and parameters: {'iterations': 229, 'learning_rate': 0.006918365648563131, 'l2_leaf_reg': 6.995676062720078, 'min_data_in_leaf': 51, 'random_strength': 5.352355630950371, 'bootstrap_type': 'Bayesian', 'grow_policy': 'SymmetricTree', 'leaf_estimation_method': 'Gradient', 'leaf_estimation_iterations': 4, 'fold_permutation_block': 2, 'depth': 1, 'bagging_temperature': 5.907793783279214}. Best is trial 350 with value: 0.38922101073502197.\u001b[0m\n",
      "\u001b[32m[I 2022-04-28 16:21:28,470]\u001b[0m Trial 367 finished with value: 0.3920375791116741 and parameters: {'iterations': 237, 'learning_rate': 0.0038606573155784757, 'l2_leaf_reg': 7.020513221055758, 'min_data_in_leaf': 49, 'random_strength': 5.9060173119890225, 'bootstrap_type': 'Bayesian', 'grow_policy': 'SymmetricTree', 'leaf_estimation_method': 'Gradient', 'leaf_estimation_iterations': 4, 'fold_permutation_block': 2, 'depth': 1, 'bagging_temperature': 6.2999178156123365}. Best is trial 350 with value: 0.38922101073502197.\u001b[0m\n",
      "\u001b[32m[I 2022-04-28 16:21:29,250]\u001b[0m Trial 368 finished with value: 0.4843057478625062 and parameters: {'iterations': 239, 'learning_rate': 0.008627180058807093, 'l2_leaf_reg': 7.155413787852203, 'min_data_in_leaf': 44, 'random_strength': 5.9310086213237225, 'bootstrap_type': 'Bayesian', 'grow_policy': 'SymmetricTree', 'leaf_estimation_method': 'Gradient', 'leaf_estimation_iterations': 4, 'fold_permutation_block': 2, 'depth': 3, 'bagging_temperature': 5.987044845032864}. Best is trial 350 with value: 0.38922101073502197.\u001b[0m\n",
      "\u001b[32m[I 2022-04-28 16:21:29,894]\u001b[0m Trial 369 finished with value: 0.4430335649403318 and parameters: {'iterations': 246, 'learning_rate': 0.004332878338257785, 'l2_leaf_reg': 6.983305091274719, 'min_data_in_leaf': 49, 'random_strength': 5.789762311450645, 'bootstrap_type': 'Bayesian', 'grow_policy': 'SymmetricTree', 'leaf_estimation_method': 'Gradient', 'leaf_estimation_iterations': 4, 'fold_permutation_block': 2, 'depth': 2, 'bagging_temperature': 6.1531711470302115}. Best is trial 350 with value: 0.38922101073502197.\u001b[0m\n",
      "\u001b[32m[I 2022-04-28 16:21:30,468]\u001b[0m Trial 370 finished with value: 0.3937984891728126 and parameters: {'iterations': 233, 'learning_rate': 0.006280704995871878, 'l2_leaf_reg': 7.0332691974430155, 'min_data_in_leaf': 51, 'random_strength': 5.938795410445647, 'bootstrap_type': 'Bayesian', 'grow_policy': 'SymmetricTree', 'leaf_estimation_method': 'Gradient', 'leaf_estimation_iterations': 4, 'fold_permutation_block': 2, 'depth': 1, 'bagging_temperature': 6.212598064814207}. Best is trial 350 with value: 0.38922101073502197.\u001b[0m\n",
      "\u001b[32m[I 2022-04-28 16:21:31,068]\u001b[0m Trial 371 finished with value: 0.3925036765609942 and parameters: {'iterations': 225, 'learning_rate': 0.0035401625570672876, 'l2_leaf_reg': 6.953845382574183, 'min_data_in_leaf': 45, 'random_strength': 5.5929639586507784, 'bootstrap_type': 'Bayesian', 'grow_policy': 'SymmetricTree', 'leaf_estimation_method': 'Gradient', 'leaf_estimation_iterations': 4, 'fold_permutation_block': 2, 'depth': 1, 'bagging_temperature': 6.36297467478061}. Best is trial 350 with value: 0.38922101073502197.\u001b[0m\n",
      "\u001b[32m[I 2022-04-28 16:21:31,632]\u001b[0m Trial 372 finished with value: 0.39483575887085554 and parameters: {'iterations': 225, 'learning_rate': 0.004127098576047724, 'l2_leaf_reg': 7.144920430559024, 'min_data_in_leaf': 46, 'random_strength': 5.63902782348281, 'bootstrap_type': 'Bayesian', 'grow_policy': 'SymmetricTree', 'leaf_estimation_method': 'Gradient', 'leaf_estimation_iterations': 4, 'fold_permutation_block': 2, 'depth': 1, 'bagging_temperature': 5.775828842313607}. Best is trial 350 with value: 0.38922101073502197.\u001b[0m\n",
      "\u001b[32m[I 2022-04-28 16:21:32,168]\u001b[0m Trial 373 finished with value: 0.460945880048304 and parameters: {'iterations': 249, 'learning_rate': 0.005983707506830925, 'l2_leaf_reg': 6.902432977602338, 'min_data_in_leaf': 45, 'random_strength': 5.638767836598149, 'bootstrap_type': 'Bernoulli', 'grow_policy': 'SymmetricTree', 'leaf_estimation_method': 'Gradient', 'leaf_estimation_iterations': 4, 'fold_permutation_block': 2, 'depth': 1, 'subsample': 0.5000807747314702}. Best is trial 350 with value: 0.38922101073502197.\u001b[0m\n",
      "\u001b[32m[I 2022-04-28 16:21:32,739]\u001b[0m Trial 374 finished with value: 0.4083765237351249 and parameters: {'iterations': 237, 'learning_rate': 0.007886571704704762, 'l2_leaf_reg': 7.22136493926277, 'min_data_in_leaf': 48, 'random_strength': 5.868337309076857, 'bootstrap_type': 'Bayesian', 'grow_policy': 'SymmetricTree', 'leaf_estimation_method': 'Newton', 'leaf_estimation_iterations': 4, 'fold_permutation_block': 2, 'depth': 1, 'bagging_temperature': 6.321828860389362}. Best is trial 350 with value: 0.38922101073502197.\u001b[0m\n",
      "\u001b[32m[I 2022-04-28 16:21:33,361]\u001b[0m Trial 375 finished with value: 0.40155630468888653 and parameters: {'iterations': 223, 'learning_rate': 0.0035080556358881103, 'l2_leaf_reg': 6.886301567517936, 'min_data_in_leaf': 50, 'random_strength': 5.502555966214773, 'bootstrap_type': 'Bayesian', 'grow_policy': 'SymmetricTree', 'leaf_estimation_method': 'Gradient', 'leaf_estimation_iterations': 7, 'fold_permutation_block': 2, 'depth': 1, 'bagging_temperature': 6.0886431348182795}. Best is trial 350 with value: 0.38922101073502197.\u001b[0m\n",
      "\u001b[32m[I 2022-04-28 16:21:33,965]\u001b[0m Trial 376 finished with value: 0.3933554964667674 and parameters: {'iterations': 231, 'learning_rate': 0.005337419024960997, 'l2_leaf_reg': 7.2145655559297746, 'min_data_in_leaf': 49, 'random_strength': 5.707895443923268, 'bootstrap_type': 'Bayesian', 'grow_policy': 'SymmetricTree', 'leaf_estimation_method': 'Gradient', 'leaf_estimation_iterations': 4, 'fold_permutation_block': 2, 'depth': 1, 'bagging_temperature': 6.381310981187734}. Best is trial 350 with value: 0.38922101073502197.\u001b[0m\n",
      "\u001b[32m[I 2022-04-28 16:21:34,548]\u001b[0m Trial 377 finished with value: 0.39228284319657375 and parameters: {'iterations': 219, 'learning_rate': 0.003535806709374424, 'l2_leaf_reg': 7.033583424153669, 'min_data_in_leaf': 54, 'random_strength': 5.509605672799231, 'bootstrap_type': 'Bayesian', 'grow_policy': 'SymmetricTree', 'leaf_estimation_method': 'Gradient', 'leaf_estimation_iterations': 4, 'fold_permutation_block': 2, 'depth': 1, 'bagging_temperature': 6.097057136389412}. Best is trial 350 with value: 0.38922101073502197.\u001b[0m\n",
      "\u001b[32m[I 2022-04-28 16:21:35,084]\u001b[0m Trial 378 finished with value: 0.39826460360172966 and parameters: {'iterations': 219, 'learning_rate': 0.011450141870054003, 'l2_leaf_reg': 6.979033710439188, 'min_data_in_leaf': 52, 'random_strength': 5.469744789809288, 'bootstrap_type': 'Bayesian', 'grow_policy': 'SymmetricTree', 'leaf_estimation_method': 'Gradient', 'leaf_estimation_iterations': 4, 'fold_permutation_block': 2, 'depth': 1, 'bagging_temperature': 5.969789644477004}. Best is trial 350 with value: 0.38922101073502197.\u001b[0m\n",
      "\u001b[32m[I 2022-04-28 16:21:35,639]\u001b[0m Trial 379 finished with value: 0.4007691253742391 and parameters: {'iterations': 217, 'learning_rate': 0.008380965112897782, 'l2_leaf_reg': 7.242773329091289, 'min_data_in_leaf': 55, 'random_strength': 5.62371143999578, 'bootstrap_type': 'Bayesian', 'grow_policy': 'SymmetricTree', 'leaf_estimation_method': 'Gradient', 'leaf_estimation_iterations': 4, 'fold_permutation_block': 2, 'depth': 1, 'bagging_temperature': 5.420915307950824}. Best is trial 350 with value: 0.38922101073502197.\u001b[0m\n",
      "\u001b[32m[I 2022-04-28 16:21:36,225]\u001b[0m Trial 380 finished with value: 0.39401443602948377 and parameters: {'iterations': 239, 'learning_rate': 0.0040751775870734724, 'l2_leaf_reg': 6.8880278718708965, 'min_data_in_leaf': 54, 'random_strength': 5.370652276566986, 'bootstrap_type': 'Bayesian', 'grow_policy': 'SymmetricTree', 'leaf_estimation_method': 'Gradient', 'leaf_estimation_iterations': 4, 'fold_permutation_block': 2, 'depth': 1, 'bagging_temperature': 5.8516448116123785}. Best is trial 350 with value: 0.38922101073502197.\u001b[0m\n",
      "\u001b[32m[I 2022-04-28 16:21:36,793]\u001b[0m Trial 381 finished with value: 0.3950902839488392 and parameters: {'iterations': 225, 'learning_rate': 0.006626692626132966, 'l2_leaf_reg': 7.02821803505195, 'min_data_in_leaf': 50, 'random_strength': 5.275077917822168, 'bootstrap_type': 'Bayesian', 'grow_policy': 'SymmetricTree', 'leaf_estimation_method': 'Gradient', 'leaf_estimation_iterations': 4, 'fold_permutation_block': 2, 'depth': 1, 'bagging_temperature': 6.141616145790633}. Best is trial 350 with value: 0.38922101073502197.\u001b[0m\n",
      "\u001b[32m[I 2022-04-28 16:21:37,371]\u001b[0m Trial 382 finished with value: 0.3971594071736008 and parameters: {'iterations': 233, 'learning_rate': 0.003521883463253452, 'l2_leaf_reg': 6.834637021510497, 'min_data_in_leaf': 47, 'random_strength': 5.867239347811083, 'bootstrap_type': 'Bayesian', 'grow_policy': 'SymmetricTree', 'leaf_estimation_method': 'Gradient', 'leaf_estimation_iterations': 4, 'fold_permutation_block': 2, 'depth': 1, 'bagging_temperature': 5.5399365216290954}. Best is trial 350 with value: 0.38922101073502197.\u001b[0m\n",
      "\u001b[32m[I 2022-04-28 16:21:37,992]\u001b[0m Trial 383 finished with value: 0.3944694255313346 and parameters: {'iterations': 248, 'learning_rate': 0.005490642284961427, 'l2_leaf_reg': 1.8224456501890711, 'min_data_in_leaf': 43, 'random_strength': 5.471007058375613, 'bootstrap_type': 'Bayesian', 'grow_policy': 'SymmetricTree', 'leaf_estimation_method': 'Gradient', 'leaf_estimation_iterations': 4, 'fold_permutation_block': 2, 'depth': 1, 'bagging_temperature': 6.321337717398067}. Best is trial 350 with value: 0.38922101073502197.\u001b[0m\n",
      "\u001b[32m[I 2022-04-28 16:21:38,897]\u001b[0m Trial 384 finished with value: 0.3978151885763612 and parameters: {'iterations': 373, 'learning_rate': 0.003067921034419456, 'l2_leaf_reg': 7.065125257461056, 'min_data_in_leaf': 41, 'random_strength': 5.655379615595023, 'bootstrap_type': 'Bayesian', 'grow_policy': 'SymmetricTree', 'leaf_estimation_method': 'Gradient', 'leaf_estimation_iterations': 4, 'fold_permutation_block': 2, 'depth': 1, 'bagging_temperature': 6.445606749542988}. Best is trial 350 with value: 0.38922101073502197.\u001b[0m\n",
      "\u001b[32m[I 2022-04-28 16:21:39,425]\u001b[0m Trial 385 finished with value: 0.3962031958303524 and parameters: {'iterations': 217, 'learning_rate': 0.009742711749885868, 'l2_leaf_reg': 6.802969685459444, 'min_data_in_leaf': 51, 'random_strength': 5.207457646226745, 'bootstrap_type': 'Bayesian', 'grow_policy': 'SymmetricTree', 'leaf_estimation_method': 'Gradient', 'leaf_estimation_iterations': 4, 'fold_permutation_block': 2, 'depth': 1, 'bagging_temperature': 6.108022378615777}. Best is trial 350 with value: 0.38922101073502197.\u001b[0m\n",
      "\u001b[32m[I 2022-04-28 16:21:40,010]\u001b[0m Trial 386 finished with value: 0.39010512817070153 and parameters: {'iterations': 228, 'learning_rate': 0.003095735989765496, 'l2_leaf_reg': 7.307270784796134, 'min_data_in_leaf': 53, 'random_strength': 5.39672008969522, 'bootstrap_type': 'Bayesian', 'grow_policy': 'SymmetricTree', 'leaf_estimation_method': 'Gradient', 'leaf_estimation_iterations': 4, 'fold_permutation_block': 2, 'depth': 1, 'bagging_temperature': 6.296282813283167}. Best is trial 350 with value: 0.38922101073502197.\u001b[0m\n",
      "\u001b[32m[I 2022-04-28 16:21:40,587]\u001b[0m Trial 387 finished with value: 0.4482975871105976 and parameters: {'iterations': 229, 'learning_rate': 0.006881676943637521, 'l2_leaf_reg': 7.462246665840319, 'min_data_in_leaf': 53, 'random_strength': 5.5466473878181235, 'bootstrap_type': 'Bayesian', 'grow_policy': 'SymmetricTree', 'leaf_estimation_method': 'Gradient', 'leaf_estimation_iterations': 4, 'fold_permutation_block': 2, 'depth': 2, 'bagging_temperature': 5.833477073733796}. Best is trial 350 with value: 0.38922101073502197.\u001b[0m\n",
      "\u001b[32m[I 2022-04-28 16:21:42,996]\u001b[0m Trial 388 finished with value: 0.5694209832184006 and parameters: {'iterations': 239, 'learning_rate': 0.004722450692737154, 'l2_leaf_reg': 7.232247222186895, 'min_data_in_leaf': 56, 'random_strength': 5.802704239446216, 'bootstrap_type': 'Bayesian', 'grow_policy': 'Lossguide', 'leaf_estimation_method': 'Gradient', 'leaf_estimation_iterations': 4, 'fold_permutation_block': 2, 'max_leaves': 64, 'depth': 10, 'bagging_temperature': 6.223342063552358}. Best is trial 350 with value: 0.38922101073502197.\u001b[0m\n",
      "\u001b[32m[I 2022-04-28 16:21:43,588]\u001b[0m Trial 389 finished with value: 0.39560245308071074 and parameters: {'iterations': 254, 'learning_rate': 0.003323933122017366, 'l2_leaf_reg': 7.285755762530023, 'min_data_in_leaf': 48, 'random_strength': 5.411449880993174, 'bootstrap_type': 'Bayesian', 'grow_policy': 'SymmetricTree', 'leaf_estimation_method': 'Gradient', 'leaf_estimation_iterations': 4, 'fold_permutation_block': 2, 'depth': 1, 'bagging_temperature': 6.026120851028683}. Best is trial 350 with value: 0.38922101073502197.\u001b[0m\n",
      "\u001b[32m[I 2022-04-28 16:21:44,164]\u001b[0m Trial 390 finished with value: 0.3944088528053744 and parameters: {'iterations': 225, 'learning_rate': 0.007292763911036419, 'l2_leaf_reg': 7.535846522380771, 'min_data_in_leaf': 52, 'random_strength': 5.238392464421795, 'bootstrap_type': 'Bayesian', 'grow_policy': 'SymmetricTree', 'leaf_estimation_method': 'Gradient', 'leaf_estimation_iterations': 4, 'fold_permutation_block': 2, 'depth': 1, 'bagging_temperature': 6.37408404542421}. Best is trial 350 with value: 0.38922101073502197.\u001b[0m\n",
      "\u001b[32m[I 2022-04-28 16:21:44,746]\u001b[0m Trial 391 finished with value: 0.44147721123128303 and parameters: {'iterations': 216, 'learning_rate': 0.005556536339165984, 'l2_leaf_reg': 7.099189847385595, 'min_data_in_leaf': 42, 'random_strength': 5.961902566164579, 'bootstrap_type': 'Bayesian', 'grow_policy': 'SymmetricTree', 'leaf_estimation_method': 'Gradient', 'leaf_estimation_iterations': 4, 'fold_permutation_block': 3, 'depth': 2, 'bagging_temperature': 6.227736377207826}. Best is trial 350 with value: 0.38922101073502197.\u001b[0m\n",
      "\u001b[32m[I 2022-04-28 16:21:45,306]\u001b[0m Trial 392 finished with value: 0.38994342469207566 and parameters: {'iterations': 231, 'learning_rate': 0.0028892439186511566, 'l2_leaf_reg': 6.845594821399346, 'min_data_in_leaf': 55, 'random_strength': 5.613712982969952, 'bootstrap_type': 'Bayesian', 'grow_policy': 'SymmetricTree', 'leaf_estimation_method': 'Gradient', 'leaf_estimation_iterations': 4, 'fold_permutation_block': 2, 'depth': 1, 'bagging_temperature': 6.484630310142106}. Best is trial 350 with value: 0.38922101073502197.\u001b[0m\n",
      "\u001b[32m[I 2022-04-28 16:21:45,854]\u001b[0m Trial 393 finished with value: 0.3902769268426916 and parameters: {'iterations': 235, 'learning_rate': 0.003105166577501999, 'l2_leaf_reg': 7.349168467645676, 'min_data_in_leaf': 54, 'random_strength': 5.680303225140374, 'bootstrap_type': 'Bayesian', 'grow_policy': 'SymmetricTree', 'leaf_estimation_method': 'Gradient', 'leaf_estimation_iterations': 4, 'fold_permutation_block': 2, 'depth': 1, 'bagging_temperature': 6.452729342049063}. Best is trial 350 with value: 0.38922101073502197.\u001b[0m\n",
      "\u001b[32m[I 2022-04-28 16:21:46,444]\u001b[0m Trial 394 finished with value: 0.39390120213224017 and parameters: {'iterations': 244, 'learning_rate': 0.005351353834784037, 'l2_leaf_reg': 7.30381547584801, 'min_data_in_leaf': 53, 'random_strength': 5.749256051373333, 'bootstrap_type': 'Bayesian', 'grow_policy': 'SymmetricTree', 'leaf_estimation_method': 'Gradient', 'leaf_estimation_iterations': 4, 'fold_permutation_block': 2, 'depth': 1, 'bagging_temperature': 6.444107874514676}. Best is trial 350 with value: 0.38922101073502197.\u001b[0m\n",
      "\u001b[32m[I 2022-04-28 16:21:47,019]\u001b[0m Trial 395 finished with value: 0.39596294033117535 and parameters: {'iterations': 235, 'learning_rate': 0.008437755507796662, 'l2_leaf_reg': 7.3850281318348285, 'min_data_in_leaf': 54, 'random_strength': 5.625247301619983, 'bootstrap_type': 'Bayesian', 'grow_policy': 'SymmetricTree', 'leaf_estimation_method': 'Gradient', 'leaf_estimation_iterations': 4, 'fold_permutation_block': 2, 'depth': 1, 'bagging_temperature': 6.03445480876891}. Best is trial 350 with value: 0.38922101073502197.\u001b[0m\n",
      "\u001b[32m[I 2022-04-28 16:21:47,641]\u001b[0m Trial 396 finished with value: 0.3899129893185375 and parameters: {'iterations': 230, 'learning_rate': 0.002943777694436592, 'l2_leaf_reg': 7.040928774724276, 'min_data_in_leaf': 50, 'random_strength': 5.876022830169609, 'bootstrap_type': 'Bayesian', 'grow_policy': 'SymmetricTree', 'leaf_estimation_method': 'Gradient', 'leaf_estimation_iterations': 4, 'fold_permutation_block': 2, 'depth': 1, 'bagging_temperature': 6.241386327660038}. Best is trial 350 with value: 0.38922101073502197.\u001b[0m\n",
      "\u001b[32m[I 2022-04-28 16:21:48,274]\u001b[0m Trial 397 finished with value: 0.3966277106872727 and parameters: {'iterations': 269, 'learning_rate': 0.0029204930011535253, 'l2_leaf_reg': 7.063814719326266, 'min_data_in_leaf': 49, 'random_strength': 5.943918108266426, 'bootstrap_type': 'Bayesian', 'grow_policy': 'SymmetricTree', 'leaf_estimation_method': 'Gradient', 'leaf_estimation_iterations': 4, 'fold_permutation_block': 2, 'depth': 1, 'bagging_temperature': 5.815456150154926}. Best is trial 350 with value: 0.38922101073502197.\u001b[0m\n",
      "\u001b[32m[I 2022-04-28 16:21:48,864]\u001b[0m Trial 398 finished with value: 0.39117387849016955 and parameters: {'iterations': 241, 'learning_rate': 0.0030574543156574848, 'l2_leaf_reg': 7.265349324276877, 'min_data_in_leaf': 46, 'random_strength': 5.809278211859737, 'bootstrap_type': 'Bayesian', 'grow_policy': 'SymmetricTree', 'leaf_estimation_method': 'Gradient', 'leaf_estimation_iterations': 4, 'fold_permutation_block': 2, 'depth': 1, 'bagging_temperature': 6.190242778132997}. Best is trial 350 with value: 0.38922101073502197.\u001b[0m\n",
      "\u001b[32m[I 2022-04-28 16:21:49,487]\u001b[0m Trial 399 finished with value: 0.39763433309394314 and parameters: {'iterations': 255, 'learning_rate': 0.003156841698606312, 'l2_leaf_reg': 7.5510322660060325, 'min_data_in_leaf': 46, 'random_strength': 5.982863292622099, 'bootstrap_type': 'Bayesian', 'grow_policy': 'SymmetricTree', 'leaf_estimation_method': 'Gradient', 'leaf_estimation_iterations': 4, 'fold_permutation_block': 2, 'depth': 1, 'bagging_temperature': 5.707746674379675}. Best is trial 350 with value: 0.38922101073502197.\u001b[0m\n",
      "\u001b[32m[I 2022-04-28 16:21:50,054]\u001b[0m Trial 400 finished with value: 0.3942444009263743 and parameters: {'iterations': 244, 'learning_rate': 0.006357058812026532, 'l2_leaf_reg': 7.293896058199978, 'min_data_in_leaf': 46, 'random_strength': 5.840951014201473, 'bootstrap_type': 'Bayesian', 'grow_policy': 'SymmetricTree', 'leaf_estimation_method': 'Gradient', 'leaf_estimation_iterations': 4, 'fold_permutation_block': 2, 'depth': 1, 'bagging_temperature': 6.139834700335757}. Best is trial 350 with value: 0.38922101073502197.\u001b[0m\n",
      "\u001b[32m[I 2022-04-28 16:21:50,616]\u001b[0m Trial 401 finished with value: 0.3945881670055371 and parameters: {'iterations': 236, 'learning_rate': 0.004657146877838509, 'l2_leaf_reg': 7.112992869695522, 'min_data_in_leaf': 51, 'random_strength': 6.110888269407591, 'bootstrap_type': 'Bayesian', 'grow_policy': 'SymmetricTree', 'leaf_estimation_method': 'Gradient', 'leaf_estimation_iterations': 4, 'fold_permutation_block': 2, 'depth': 1, 'bagging_temperature': 5.980303022081768}. Best is trial 350 with value: 0.38922101073502197.\u001b[0m\n",
      "\u001b[32m[I 2022-04-28 16:21:51,219]\u001b[0m Trial 402 finished with value: 0.4004485934116251 and parameters: {'iterations': 230, 'learning_rate': 0.014694903187456197, 'l2_leaf_reg': 7.508833223759249, 'min_data_in_leaf': 49, 'random_strength': 5.7410072890017725, 'bootstrap_type': 'Bayesian', 'grow_policy': 'SymmetricTree', 'leaf_estimation_method': 'Gradient', 'leaf_estimation_iterations': 4, 'fold_permutation_block': 2, 'depth': 1, 'bagging_temperature': 6.2704112715583875}. Best is trial 350 with value: 0.38922101073502197.\u001b[0m\n",
      "\u001b[32m[I 2022-04-28 16:21:51,745]\u001b[0m Trial 403 finished with value: 0.4610934409727358 and parameters: {'iterations': 248, 'learning_rate': 0.008486265427215704, 'l2_leaf_reg': 6.9545460581988685, 'min_data_in_leaf': 38, 'random_strength': 5.993165366606593, 'bootstrap_type': 'Bernoulli', 'grow_policy': 'SymmetricTree', 'leaf_estimation_method': 'Gradient', 'leaf_estimation_iterations': 4, 'fold_permutation_block': 3, 'depth': 1, 'subsample': 0.8847801766859424}. Best is trial 350 with value: 0.38922101073502197.\u001b[0m\n",
      "\u001b[32m[I 2022-04-28 16:21:52,380]\u001b[0m Trial 404 finished with value: 0.4394309613693588 and parameters: {'iterations': 239, 'learning_rate': 0.0024742534107993243, 'l2_leaf_reg': 7.221322648907163, 'min_data_in_leaf': 51, 'random_strength': 5.596398166090141, 'bootstrap_type': 'Bayesian', 'grow_policy': 'SymmetricTree', 'leaf_estimation_method': 'Gradient', 'leaf_estimation_iterations': 5, 'fold_permutation_block': 2, 'depth': 2, 'bagging_temperature': 6.4875741394057425}. Best is trial 350 with value: 0.38922101073502197.\u001b[0m\n",
      "\u001b[32m[I 2022-04-28 16:21:52,935]\u001b[0m Trial 405 finished with value: 0.40477643258363455 and parameters: {'iterations': 231, 'learning_rate': 0.006403128190709608, 'l2_leaf_reg': 7.6696414331604945, 'min_data_in_leaf': 47, 'random_strength': 5.474189886043078, 'bootstrap_type': 'Bayesian', 'grow_policy': 'SymmetricTree', 'leaf_estimation_method': 'Newton', 'leaf_estimation_iterations': 4, 'fold_permutation_block': 2, 'depth': 1, 'bagging_temperature': 6.160252315682521}. Best is trial 350 with value: 0.38922101073502197.\u001b[0m\n",
      "\u001b[32m[I 2022-04-28 16:21:53,500]\u001b[0m Trial 406 finished with value: 0.39028327061605417 and parameters: {'iterations': 223, 'learning_rate': 0.0030892416914490646, 'l2_leaf_reg': 6.863187966885965, 'min_data_in_leaf': 54, 'random_strength': 5.7918191120550215, 'bootstrap_type': 'Bayesian', 'grow_policy': 'SymmetricTree', 'leaf_estimation_method': 'Gradient', 'leaf_estimation_iterations': 4, 'fold_permutation_block': 2, 'depth': 1, 'bagging_temperature': 6.486565112880939}. Best is trial 350 with value: 0.38922101073502197.\u001b[0m\n",
      "\u001b[32m[I 2022-04-28 16:21:54,056]\u001b[0m Trial 407 finished with value: 0.39005435131323635 and parameters: {'iterations': 225, 'learning_rate': 0.0026131415201018464, 'l2_leaf_reg': 6.850753778628678, 'min_data_in_leaf': 53, 'random_strength': 5.856423448501954, 'bootstrap_type': 'Bayesian', 'grow_policy': 'SymmetricTree', 'leaf_estimation_method': 'Gradient', 'leaf_estimation_iterations': 4, 'fold_permutation_block': 2, 'depth': 1, 'bagging_temperature': 6.505278747249362}. Best is trial 350 with value: 0.38922101073502197.\u001b[0m\n",
      "\u001b[32m[I 2022-04-28 16:21:54,593]\u001b[0m Trial 408 finished with value: 0.3892618042217524 and parameters: {'iterations': 222, 'learning_rate': 0.0025616574093841864, 'l2_leaf_reg': 6.836688943160181, 'min_data_in_leaf': 56, 'random_strength': 6.052619178118568, 'bootstrap_type': 'Bayesian', 'grow_policy': 'SymmetricTree', 'leaf_estimation_method': 'Gradient', 'leaf_estimation_iterations': 4, 'fold_permutation_block': 2, 'depth': 1, 'bagging_temperature': 6.494355248347659}. Best is trial 350 with value: 0.38922101073502197.\u001b[0m\n",
      "\u001b[32m[I 2022-04-28 16:21:55,140]\u001b[0m Trial 409 finished with value: 0.3896387442561859 and parameters: {'iterations': 218, 'learning_rate': 0.0028001820249922314, 'l2_leaf_reg': 6.855883923404878, 'min_data_in_leaf': 55, 'random_strength': 6.081171817631605, 'bootstrap_type': 'Bayesian', 'grow_policy': 'SymmetricTree', 'leaf_estimation_method': 'Gradient', 'leaf_estimation_iterations': 4, 'fold_permutation_block': 2, 'depth': 1, 'bagging_temperature': 6.486188846035594}. Best is trial 350 with value: 0.38922101073502197.\u001b[0m\n",
      "\u001b[32m[I 2022-04-28 16:21:55,785]\u001b[0m Trial 410 finished with value: 0.39038927562500136 and parameters: {'iterations': 241, 'learning_rate': 0.00249364613035802, 'l2_leaf_reg': 6.855320860363162, 'min_data_in_leaf': 55, 'random_strength': 6.24855622219823, 'bootstrap_type': 'Bayesian', 'grow_policy': 'SymmetricTree', 'leaf_estimation_method': 'Gradient', 'leaf_estimation_iterations': 4, 'fold_permutation_block': 2, 'depth': 1, 'bagging_temperature': 6.290604162368079}. Best is trial 350 with value: 0.38922101073502197.\u001b[0m\n",
      "\u001b[32m[I 2022-04-28 16:21:56,372]\u001b[0m Trial 411 finished with value: 0.39073262525431257 and parameters: {'iterations': 222, 'learning_rate': 0.0033145699924714326, 'l2_leaf_reg': 6.862424288629779, 'min_data_in_leaf': 55, 'random_strength': 5.9907211724515355, 'bootstrap_type': 'Bayesian', 'grow_policy': 'SymmetricTree', 'leaf_estimation_method': 'Gradient', 'leaf_estimation_iterations': 4, 'fold_permutation_block': 2, 'depth': 1, 'bagging_temperature': 6.520553238848554}. Best is trial 350 with value: 0.38922101073502197.\u001b[0m\n",
      "\u001b[32m[I 2022-04-28 16:21:56,912]\u001b[0m Trial 412 finished with value: 0.38979025922385335 and parameters: {'iterations': 219, 'learning_rate': 0.002865251668723273, 'l2_leaf_reg': 6.827809954014782, 'min_data_in_leaf': 55, 'random_strength': 6.2408082634726725, 'bootstrap_type': 'Bayesian', 'grow_policy': 'SymmetricTree', 'leaf_estimation_method': 'Gradient', 'leaf_estimation_iterations': 4, 'fold_permutation_block': 2, 'depth': 1, 'bagging_temperature': 6.535728531676189}. Best is trial 350 with value: 0.38922101073502197.\u001b[0m\n",
      "\u001b[32m[I 2022-04-28 16:21:57,522]\u001b[0m Trial 413 finished with value: 0.3893183961465733 and parameters: {'iterations': 217, 'learning_rate': 0.0025915160336116494, 'l2_leaf_reg': 6.855743904597972, 'min_data_in_leaf': 55, 'random_strength': 6.4182103352636215, 'bootstrap_type': 'Bayesian', 'grow_policy': 'SymmetricTree', 'leaf_estimation_method': 'Gradient', 'leaf_estimation_iterations': 4, 'fold_permutation_block': 2, 'depth': 1, 'bagging_temperature': 6.5233528823495766}. Best is trial 350 with value: 0.38922101073502197.\u001b[0m\n",
      "\u001b[32m[I 2022-04-28 16:21:58,080]\u001b[0m Trial 414 finished with value: 0.39049158438604503 and parameters: {'iterations': 217, 'learning_rate': 0.002622512901667949, 'l2_leaf_reg': 7.359068662715056, 'min_data_in_leaf': 55, 'random_strength': 6.417810361422149, 'bootstrap_type': 'Bayesian', 'grow_policy': 'SymmetricTree', 'leaf_estimation_method': 'Gradient', 'leaf_estimation_iterations': 4, 'fold_permutation_block': 2, 'depth': 1, 'bagging_temperature': 6.4220011473105325}. Best is trial 350 with value: 0.38922101073502197.\u001b[0m\n",
      "\u001b[32m[I 2022-04-28 16:21:58,654]\u001b[0m Trial 415 finished with value: 0.4357780224987375 and parameters: {'iterations': 215, 'learning_rate': 0.0025429289111092105, 'l2_leaf_reg': 7.327753818380652, 'min_data_in_leaf': 55, 'random_strength': 6.504557293618421, 'bootstrap_type': 'Bayesian', 'grow_policy': 'SymmetricTree', 'leaf_estimation_method': 'Gradient', 'leaf_estimation_iterations': 4, 'fold_permutation_block': 2, 'depth': 2, 'bagging_temperature': 6.530017533880428}. Best is trial 350 with value: 0.38922101073502197.\u001b[0m\n",
      "\u001b[32m[I 2022-04-28 16:21:59,371]\u001b[0m Trial 416 finished with value: 0.5012583815383996 and parameters: {'iterations': 221, 'learning_rate': 0.002445594025424881, 'l2_leaf_reg': 7.436019990330243, 'min_data_in_leaf': 56, 'random_strength': 6.276633610441258, 'bootstrap_type': 'Bayesian', 'grow_policy': 'SymmetricTree', 'leaf_estimation_method': 'Gradient', 'leaf_estimation_iterations': 3, 'fold_permutation_block': 2, 'depth': 5, 'bagging_temperature': 6.535240910133542}. Best is trial 350 with value: 0.38922101073502197.\u001b[0m\n",
      "\u001b[32m[I 2022-04-28 16:21:59,923]\u001b[0m Trial 417 finished with value: 0.38915647979572165 and parameters: {'iterations': 214, 'learning_rate': 0.0024061375537112856, 'l2_leaf_reg': 6.853286149123954, 'min_data_in_leaf': 57, 'random_strength': 6.376743137873198, 'bootstrap_type': 'Bayesian', 'grow_policy': 'SymmetricTree', 'leaf_estimation_method': 'Gradient', 'leaf_estimation_iterations': 4, 'fold_permutation_block': 2, 'depth': 1, 'bagging_temperature': 6.530491126620095}. Best is trial 417 with value: 0.38915647979572165.\u001b[0m\n",
      "\u001b[32m[I 2022-04-28 16:22:04,032]\u001b[0m Trial 418 finished with value: 0.5745227131662844 and parameters: {'iterations': 217, 'learning_rate': 0.0010670628233167725, 'l2_leaf_reg': 7.224140403297717, 'min_data_in_leaf': 57, 'random_strength': 6.511650499468153, 'bootstrap_type': 'Bayesian', 'grow_policy': 'Lossguide', 'leaf_estimation_method': 'Gradient', 'leaf_estimation_iterations': 4, 'fold_permutation_block': 2, 'max_leaves': 247, 'depth': 18, 'bagging_temperature': 6.481938046467299}. Best is trial 417 with value: 0.38915647979572165.\u001b[0m\n",
      "\u001b[32m[I 2022-04-28 16:22:04,582]\u001b[0m Trial 419 finished with value: 0.3885676523390575 and parameters: {'iterations': 213, 'learning_rate': 0.0021878966326444437, 'l2_leaf_reg': 6.8500529745351795, 'min_data_in_leaf': 54, 'random_strength': 6.300557574706561, 'bootstrap_type': 'Bayesian', 'grow_policy': 'SymmetricTree', 'leaf_estimation_method': 'Gradient', 'leaf_estimation_iterations': 4, 'fold_permutation_block': 2, 'depth': 1, 'bagging_temperature': 6.577867458605942}. Best is trial 419 with value: 0.3885676523390575.\u001b[0m\n",
      "\u001b[32m[I 2022-04-28 16:22:05,109]\u001b[0m Trial 420 finished with value: 0.3896117780075581 and parameters: {'iterations': 213, 'learning_rate': 0.0025707262827471913, 'l2_leaf_reg': 6.849654988677239, 'min_data_in_leaf': 54, 'random_strength': 6.3566252019754526, 'bootstrap_type': 'Bayesian', 'grow_policy': 'SymmetricTree', 'leaf_estimation_method': 'Gradient', 'leaf_estimation_iterations': 4, 'fold_permutation_block': 2, 'depth': 1, 'bagging_temperature': 6.533982890115339}. Best is trial 419 with value: 0.3885676523390575.\u001b[0m\n",
      "\u001b[32m[I 2022-04-28 16:22:05,674]\u001b[0m Trial 421 finished with value: 0.38862474073494835 and parameters: {'iterations': 215, 'learning_rate': 0.0023581789615430846, 'l2_leaf_reg': 6.873159661650237, 'min_data_in_leaf': 55, 'random_strength': 6.433591366855739, 'bootstrap_type': 'Bayesian', 'grow_policy': 'SymmetricTree', 'leaf_estimation_method': 'Gradient', 'leaf_estimation_iterations': 4, 'fold_permutation_block': 2, 'depth': 1, 'bagging_temperature': 6.579906543764389}. Best is trial 419 with value: 0.3885676523390575.\u001b[0m\n",
      "\u001b[32m[I 2022-04-28 16:22:06,244]\u001b[0m Trial 422 finished with value: 0.3898671172150123 and parameters: {'iterations': 212, 'learning_rate': 0.0023270118685269113, 'l2_leaf_reg': 6.834727199920951, 'min_data_in_leaf': 54, 'random_strength': 6.568050122312596, 'bootstrap_type': 'Bayesian', 'grow_policy': 'SymmetricTree', 'leaf_estimation_method': 'Gradient', 'leaf_estimation_iterations': 4, 'fold_permutation_block': 2, 'depth': 1, 'bagging_temperature': 6.543141884035682}. Best is trial 419 with value: 0.3885676523390575.\u001b[0m\n",
      "\u001b[32m[I 2022-04-28 16:22:06,767]\u001b[0m Trial 423 finished with value: 0.3873876958855244 and parameters: {'iterations': 215, 'learning_rate': 0.0010104506721128315, 'l2_leaf_reg': 6.87140094190831, 'min_data_in_leaf': 55, 'random_strength': 6.64433184141369, 'bootstrap_type': 'Bayesian', 'grow_policy': 'SymmetricTree', 'leaf_estimation_method': 'Gradient', 'leaf_estimation_iterations': 4, 'fold_permutation_block': 2, 'depth': 1, 'bagging_temperature': 6.5626712978010096}. Best is trial 423 with value: 0.3873876958855244.\u001b[0m\n",
      "\u001b[32m[I 2022-04-28 16:22:07,337]\u001b[0m Trial 424 finished with value: 0.38854581075622696 and parameters: {'iterations': 213, 'learning_rate': 0.00216478270546094, 'l2_leaf_reg': 6.818561538546597, 'min_data_in_leaf': 54, 'random_strength': 6.511243889762605, 'bootstrap_type': 'Bayesian', 'grow_policy': 'SymmetricTree', 'leaf_estimation_method': 'Gradient', 'leaf_estimation_iterations': 4, 'fold_permutation_block': 3, 'depth': 1, 'bagging_temperature': 6.595736963642098}. Best is trial 423 with value: 0.3873876958855244.\u001b[0m\n",
      "\u001b[32m[I 2022-04-28 16:22:07,853]\u001b[0m Trial 425 finished with value: 0.38786182505553585 and parameters: {'iterations': 212, 'learning_rate': 0.001210617196857456, 'l2_leaf_reg': 6.8292553375886556, 'min_data_in_leaf': 54, 'random_strength': 6.608946652312908, 'bootstrap_type': 'Bayesian', 'grow_policy': 'SymmetricTree', 'leaf_estimation_method': 'Gradient', 'leaf_estimation_iterations': 4, 'fold_permutation_block': 2, 'depth': 1, 'bagging_temperature': 6.603120773946748}. Best is trial 423 with value: 0.3873876958855244.\u001b[0m\n",
      "\u001b[32m[I 2022-04-28 16:22:08,579]\u001b[0m Trial 426 finished with value: 0.5208594416302698 and parameters: {'iterations': 211, 'learning_rate': 0.0011441831268854564, 'l2_leaf_reg': 6.7998402270427505, 'min_data_in_leaf': 54, 'random_strength': 6.6192538850317435, 'bootstrap_type': 'Bayesian', 'grow_policy': 'SymmetricTree', 'leaf_estimation_method': 'Gradient', 'leaf_estimation_iterations': 4, 'fold_permutation_block': 2, 'depth': 6, 'bagging_temperature': 6.601708353080287}. Best is trial 423 with value: 0.3873876958855244.\u001b[0m\n",
      "\u001b[32m[I 2022-04-28 16:22:09,143]\u001b[0m Trial 427 finished with value: 0.38732581455832343 and parameters: {'iterations': 217, 'learning_rate': 0.0011333942834631505, 'l2_leaf_reg': 6.846822824759672, 'min_data_in_leaf': 55, 'random_strength': 6.436490279207701, 'bootstrap_type': 'Bayesian', 'grow_policy': 'SymmetricTree', 'leaf_estimation_method': 'Gradient', 'leaf_estimation_iterations': 4, 'fold_permutation_block': 3, 'depth': 1, 'bagging_temperature': 6.600353613494632}. Best is trial 427 with value: 0.38732581455832343.\u001b[0m\n",
      "\u001b[32m[I 2022-04-28 16:22:09,678]\u001b[0m Trial 428 finished with value: 0.3881548748358483 and parameters: {'iterations': 212, 'learning_rate': 0.0010044948019942955, 'l2_leaf_reg': 6.828126155302993, 'min_data_in_leaf': 53, 'random_strength': 6.418460745922452, 'bootstrap_type': 'Bayesian', 'grow_policy': 'SymmetricTree', 'leaf_estimation_method': 'Gradient', 'leaf_estimation_iterations': 4, 'fold_permutation_block': 3, 'depth': 1, 'bagging_temperature': 6.646012645947582}. Best is trial 427 with value: 0.38732581455832343.\u001b[0m\n",
      "\u001b[32m[I 2022-04-28 16:22:10,187]\u001b[0m Trial 429 finished with value: 0.3888682553563369 and parameters: {'iterations': 214, 'learning_rate': 0.0011575747034058383, 'l2_leaf_reg': 6.83568356377027, 'min_data_in_leaf': 53, 'random_strength': 6.740065363511632, 'bootstrap_type': 'Bayesian', 'grow_policy': 'SymmetricTree', 'leaf_estimation_method': 'Gradient', 'leaf_estimation_iterations': 4, 'fold_permutation_block': 3, 'depth': 1, 'bagging_temperature': 6.497491275537644}. Best is trial 427 with value: 0.38732581455832343.\u001b[0m\n",
      "\u001b[32m[I 2022-04-28 16:22:10,700]\u001b[0m Trial 430 finished with value: 0.38791555910283737 and parameters: {'iterations': 211, 'learning_rate': 0.0010100065410433097, 'l2_leaf_reg': 6.859612470046542, 'min_data_in_leaf': 53, 'random_strength': 6.707070215747676, 'bootstrap_type': 'Bayesian', 'grow_policy': 'SymmetricTree', 'leaf_estimation_method': 'Gradient', 'leaf_estimation_iterations': 4, 'fold_permutation_block': 3, 'depth': 1, 'bagging_temperature': 6.635032419198566}. Best is trial 427 with value: 0.38732581455832343.\u001b[0m\n",
      "\u001b[32m[I 2022-04-28 16:22:11,240]\u001b[0m Trial 431 finished with value: 0.43374725159188404 and parameters: {'iterations': 212, 'learning_rate': 0.00125130484211199, 'l2_leaf_reg': 6.805857663033645, 'min_data_in_leaf': 53, 'random_strength': 6.7477267919757375, 'bootstrap_type': 'Bayesian', 'grow_policy': 'SymmetricTree', 'leaf_estimation_method': 'Gradient', 'leaf_estimation_iterations': 4, 'fold_permutation_block': 3, 'depth': 2, 'bagging_temperature': 6.6601746218696345}. Best is trial 427 with value: 0.38732581455832343.\u001b[0m\n",
      "\u001b[32m[I 2022-04-28 16:22:11,793]\u001b[0m Trial 432 finished with value: 0.38784418340281485 and parameters: {'iterations': 212, 'learning_rate': 0.0011559271873821362, 'l2_leaf_reg': 6.864955804131995, 'min_data_in_leaf': 58, 'random_strength': 6.58900129492782, 'bootstrap_type': 'Bayesian', 'grow_policy': 'SymmetricTree', 'leaf_estimation_method': 'Gradient', 'leaf_estimation_iterations': 4, 'fold_permutation_block': 3, 'depth': 1, 'bagging_temperature': 6.615323128703706}. Best is trial 427 with value: 0.38732581455832343.\u001b[0m\n",
      "\u001b[32m[I 2022-04-28 16:22:12,325]\u001b[0m Trial 433 finished with value: 0.3881881707817521 and parameters: {'iterations': 211, 'learning_rate': 0.0015801837563481534, 'l2_leaf_reg': 6.812104653236063, 'min_data_in_leaf': 57, 'random_strength': 6.62216909956702, 'bootstrap_type': 'Bayesian', 'grow_policy': 'SymmetricTree', 'leaf_estimation_method': 'Gradient', 'leaf_estimation_iterations': 4, 'fold_permutation_block': 3, 'depth': 1, 'bagging_temperature': 6.64631492828713}. Best is trial 427 with value: 0.38732581455832343.\u001b[0m\n",
      "\u001b[32m[I 2022-04-28 16:22:12,789]\u001b[0m Trial 434 finished with value: 0.45506820071434717 and parameters: {'iterations': 210, 'learning_rate': 0.0013944923910478595, 'l2_leaf_reg': 6.817571684704775, 'min_data_in_leaf': 57, 'random_strength': 6.688872773485883, 'bootstrap_type': 'Bernoulli', 'grow_policy': 'SymmetricTree', 'leaf_estimation_method': 'Gradient', 'leaf_estimation_iterations': 4, 'fold_permutation_block': 3, 'depth': 1, 'subsample': 0.40225150414037575}. Best is trial 427 with value: 0.38732581455832343.\u001b[0m\n",
      "\u001b[32m[I 2022-04-28 16:22:13,345]\u001b[0m Trial 435 finished with value: 0.3915436393345473 and parameters: {'iterations': 214, 'learning_rate': 0.0010829528663257875, 'l2_leaf_reg': 6.776504340240224, 'min_data_in_leaf': 58, 'random_strength': 6.51210758794328, 'bootstrap_type': 'Bayesian', 'grow_policy': 'SymmetricTree', 'leaf_estimation_method': 'Newton', 'leaf_estimation_iterations': 4, 'fold_permutation_block': 3, 'depth': 1, 'bagging_temperature': 6.675410402674289}. Best is trial 427 with value: 0.38732581455832343.\u001b[0m\n",
      "\u001b[32m[I 2022-04-28 16:22:13,891]\u001b[0m Trial 436 finished with value: 0.3876710214783521 and parameters: {'iterations': 212, 'learning_rate': 0.001120674351847858, 'l2_leaf_reg': 6.891783891198007, 'min_data_in_leaf': 57, 'random_strength': 6.899165314441789, 'bootstrap_type': 'Bayesian', 'grow_policy': 'SymmetricTree', 'leaf_estimation_method': 'Gradient', 'leaf_estimation_iterations': 4, 'fold_permutation_block': 3, 'depth': 1, 'bagging_temperature': 6.59053196977006}. Best is trial 427 with value: 0.38732581455832343.\u001b[0m\n",
      "\u001b[32m[I 2022-04-28 16:22:14,409]\u001b[0m Trial 437 finished with value: 0.3878794521113041 and parameters: {'iterations': 212, 'learning_rate': 0.0012981295656006179, 'l2_leaf_reg': 6.950040525838442, 'min_data_in_leaf': 58, 'random_strength': 6.896190710881364, 'bootstrap_type': 'Bayesian', 'grow_policy': 'SymmetricTree', 'leaf_estimation_method': 'Gradient', 'leaf_estimation_iterations': 4, 'fold_permutation_block': 3, 'depth': 1, 'bagging_temperature': 6.599325329261099}. Best is trial 427 with value: 0.38732581455832343.\u001b[0m\n",
      "\u001b[32m[I 2022-04-28 16:22:14,926]\u001b[0m Trial 438 finished with value: 0.3883635512715102 and parameters: {'iterations': 211, 'learning_rate': 0.001161320124365531, 'l2_leaf_reg': 6.7494448352331, 'min_data_in_leaf': 58, 'random_strength': 6.865212945222825, 'bootstrap_type': 'Bayesian', 'grow_policy': 'SymmetricTree', 'leaf_estimation_method': 'Gradient', 'leaf_estimation_iterations': 4, 'fold_permutation_block': 3, 'depth': 1, 'bagging_temperature': 6.666250640516186}. Best is trial 427 with value: 0.38732581455832343.\u001b[0m\n",
      "\u001b[32m[I 2022-04-28 16:22:15,430]\u001b[0m Trial 439 finished with value: 0.38918864404109504 and parameters: {'iterations': 209, 'learning_rate': 0.0012506792388763746, 'l2_leaf_reg': 6.753028127918925, 'min_data_in_leaf': 58, 'random_strength': 6.905420876503222, 'bootstrap_type': 'Bayesian', 'grow_policy': 'SymmetricTree', 'leaf_estimation_method': 'Gradient', 'leaf_estimation_iterations': 4, 'fold_permutation_block': 3, 'depth': 1, 'bagging_temperature': 6.685600434035186}. Best is trial 427 with value: 0.38732581455832343.\u001b[0m\n",
      "\u001b[32m[I 2022-04-28 16:22:15,959]\u001b[0m Trial 440 finished with value: 0.38832322853650153 and parameters: {'iterations': 211, 'learning_rate': 0.0010633155473366818, 'l2_leaf_reg': 6.729671773802779, 'min_data_in_leaf': 58, 'random_strength': 6.884485478232274, 'bootstrap_type': 'Bayesian', 'grow_policy': 'SymmetricTree', 'leaf_estimation_method': 'Gradient', 'leaf_estimation_iterations': 4, 'fold_permutation_block': 3, 'depth': 1, 'bagging_temperature': 6.6737137572667775}. Best is trial 427 with value: 0.38732581455832343.\u001b[0m\n",
      "\u001b[32m[I 2022-04-28 16:22:16,487]\u001b[0m Trial 441 finished with value: 0.389622580111393 and parameters: {'iterations': 210, 'learning_rate': 0.0015971624485482802, 'l2_leaf_reg': 6.72840298872475, 'min_data_in_leaf': 57, 'random_strength': 6.937632018998174, 'bootstrap_type': 'Bayesian', 'grow_policy': 'SymmetricTree', 'leaf_estimation_method': 'Gradient', 'leaf_estimation_iterations': 4, 'fold_permutation_block': 3, 'depth': 1, 'bagging_temperature': 6.720971198766196}. Best is trial 427 with value: 0.38732581455832343.\u001b[0m\n",
      "\u001b[32m[I 2022-04-28 16:22:17,110]\u001b[0m Trial 442 finished with value: 0.4429528833241189 and parameters: {'iterations': 211, 'learning_rate': 0.0013136082803972958, 'l2_leaf_reg': 6.715766904459859, 'min_data_in_leaf': 58, 'random_strength': 6.869339433599199, 'bootstrap_type': 'Bayesian', 'grow_policy': 'Depthwise', 'leaf_estimation_method': 'Gradient', 'leaf_estimation_iterations': 4, 'fold_permutation_block': 3, 'depth': 2, 'bagging_temperature': 6.675371458952269}. Best is trial 427 with value: 0.38732581455832343.\u001b[0m\n",
      "\u001b[32m[I 2022-04-28 16:22:17,650]\u001b[0m Trial 443 finished with value: 0.3892791007594465 and parameters: {'iterations': 210, 'learning_rate': 0.0011487970947222721, 'l2_leaf_reg': 6.750804871300375, 'min_data_in_leaf': 58, 'random_strength': 6.975893729724881, 'bootstrap_type': 'Bayesian', 'grow_policy': 'SymmetricTree', 'leaf_estimation_method': 'Gradient', 'leaf_estimation_iterations': 4, 'fold_permutation_block': 3, 'depth': 1, 'bagging_temperature': 6.704894612988473}. Best is trial 427 with value: 0.38732581455832343.\u001b[0m\n",
      "\u001b[32m[I 2022-04-28 16:22:18,161]\u001b[0m Trial 444 finished with value: 0.3893588227975286 and parameters: {'iterations': 210, 'learning_rate': 0.0010328541354603852, 'l2_leaf_reg': 6.69313592795755, 'min_data_in_leaf': 58, 'random_strength': 6.906265901500998, 'bootstrap_type': 'Bayesian', 'grow_policy': 'SymmetricTree', 'leaf_estimation_method': 'Gradient', 'leaf_estimation_iterations': 4, 'fold_permutation_block': 3, 'depth': 1, 'bagging_temperature': 6.7577326440971275}. Best is trial 427 with value: 0.38732581455832343.\u001b[0m\n",
      "\u001b[32m[I 2022-04-28 16:22:18,688]\u001b[0m Trial 445 finished with value: 0.38940499648406773 and parameters: {'iterations': 210, 'learning_rate': 0.001037908488446648, 'l2_leaf_reg': 6.670872416234062, 'min_data_in_leaf': 58, 'random_strength': 6.958221514147596, 'bootstrap_type': 'Bayesian', 'grow_policy': 'SymmetricTree', 'leaf_estimation_method': 'Gradient', 'leaf_estimation_iterations': 4, 'fold_permutation_block': 3, 'depth': 1, 'bagging_temperature': 6.746688166587017}. Best is trial 427 with value: 0.38732581455832343.\u001b[0m\n",
      "\u001b[32m[I 2022-04-28 16:22:19,234]\u001b[0m Trial 446 finished with value: 0.389265655387597 and parameters: {'iterations': 210, 'learning_rate': 0.0011056211917532116, 'l2_leaf_reg': 6.686142139098944, 'min_data_in_leaf': 58, 'random_strength': 6.785484080433068, 'bootstrap_type': 'Bayesian', 'grow_policy': 'SymmetricTree', 'leaf_estimation_method': 'Gradient', 'leaf_estimation_iterations': 4, 'fold_permutation_block': 3, 'depth': 1, 'bagging_temperature': 6.717872465817792}. Best is trial 427 with value: 0.38732581455832343.\u001b[0m\n",
      "\u001b[32m[I 2022-04-28 16:22:19,731]\u001b[0m Trial 447 finished with value: 0.38966882434986977 and parameters: {'iterations': 209, 'learning_rate': 0.0013265639758760768, 'l2_leaf_reg': 6.669190867061267, 'min_data_in_leaf': 57, 'random_strength': 6.846661999336023, 'bootstrap_type': 'Bayesian', 'grow_policy': 'SymmetricTree', 'leaf_estimation_method': 'Gradient', 'leaf_estimation_iterations': 4, 'fold_permutation_block': 3, 'depth': 1, 'bagging_temperature': 6.783453054773416}. Best is trial 427 with value: 0.38732581455832343.\u001b[0m\n",
      "\u001b[32m[I 2022-04-28 16:22:20,259]\u001b[0m Trial 448 finished with value: 0.3888600817488835 and parameters: {'iterations': 209, 'learning_rate': 0.0010665326245892178, 'l2_leaf_reg': 3.5652175613253454, 'min_data_in_leaf': 59, 'random_strength': 6.803730993456407, 'bootstrap_type': 'Bayesian', 'grow_policy': 'SymmetricTree', 'leaf_estimation_method': 'Gradient', 'leaf_estimation_iterations': 4, 'fold_permutation_block': 3, 'depth': 1, 'bagging_temperature': 6.9791952604265495}. Best is trial 427 with value: 0.38732581455832343.\u001b[0m\n",
      "\u001b[32m[I 2022-04-28 16:22:24,265]\u001b[0m Trial 449 finished with value: 0.57777194307155 and parameters: {'iterations': 208, 'learning_rate': 0.0015379474526711358, 'l2_leaf_reg': 4.320748769247871, 'min_data_in_leaf': 59, 'random_strength': 7.0780055487275275, 'bootstrap_type': 'Bayesian', 'grow_policy': 'Lossguide', 'leaf_estimation_method': 'Gradient', 'leaf_estimation_iterations': 4, 'fold_permutation_block': 3, 'max_leaves': 212, 'depth': 21, 'bagging_temperature': 7.025686383170434}. Best is trial 427 with value: 0.38732581455832343.\u001b[0m\n",
      "\u001b[32m[I 2022-04-28 16:22:24,793]\u001b[0m Trial 450 finished with value: 0.3902501613021625 and parameters: {'iterations': 210, 'learning_rate': 0.002978956227831884, 'l2_leaf_reg': 3.82854341135374, 'min_data_in_leaf': 58, 'random_strength': 6.763191846801583, 'bootstrap_type': 'Bayesian', 'grow_policy': 'SymmetricTree', 'leaf_estimation_method': 'Gradient', 'leaf_estimation_iterations': 4, 'fold_permutation_block': 3, 'depth': 1, 'bagging_temperature': 6.940467494111828}. Best is trial 427 with value: 0.38732581455832343.\u001b[0m\n",
      "\u001b[32m[I 2022-04-28 16:22:25,324]\u001b[0m Trial 451 finished with value: 0.3888825176366674 and parameters: {'iterations': 211, 'learning_rate': 0.0011342237569507484, 'l2_leaf_reg': 2.928176773703149, 'min_data_in_leaf': 58, 'random_strength': 7.069926186758577, 'bootstrap_type': 'Bayesian', 'grow_policy': 'SymmetricTree', 'leaf_estimation_method': 'Gradient', 'leaf_estimation_iterations': 4, 'fold_permutation_block': 3, 'depth': 1, 'bagging_temperature': 6.730920642978457}. Best is trial 427 with value: 0.38732581455832343.\u001b[0m\n",
      "\u001b[32m[I 2022-04-28 16:22:25,850]\u001b[0m Trial 452 finished with value: 0.38878159159070025 and parameters: {'iterations': 208, 'learning_rate': 0.001051113474335638, 'l2_leaf_reg': 3.2605120256911397, 'min_data_in_leaf': 59, 'random_strength': 6.650081582177284, 'bootstrap_type': 'Bayesian', 'grow_policy': 'SymmetricTree', 'leaf_estimation_method': 'Gradient', 'leaf_estimation_iterations': 4, 'fold_permutation_block': 3, 'depth': 1, 'bagging_temperature': 7.048865409997131}. Best is trial 427 with value: 0.38732581455832343.\u001b[0m\n",
      "\u001b[32m[I 2022-04-28 16:22:26,889]\u001b[0m Trial 453 finished with value: 0.5501493754803152 and parameters: {'iterations': 208, 'learning_rate': 0.0010580484570268248, 'l2_leaf_reg': 3.361664838459432, 'min_data_in_leaf': 59, 'random_strength': 6.613732759958449, 'bootstrap_type': 'Bayesian', 'grow_policy': 'SymmetricTree', 'leaf_estimation_method': 'Gradient', 'leaf_estimation_iterations': 4, 'fold_permutation_block': 3, 'depth': 9, 'bagging_temperature': 6.973792778772442}. Best is trial 427 with value: 0.38732581455832343.\u001b[0m\n",
      "\u001b[32m[I 2022-04-28 16:22:27,446]\u001b[0m Trial 454 finished with value: 0.4159770318135036 and parameters: {'iterations': 212, 'learning_rate': 0.0687688132482069, 'l2_leaf_reg': 3.657877285295601, 'min_data_in_leaf': 59, 'random_strength': 6.689661453062453, 'bootstrap_type': 'Bayesian', 'grow_policy': 'SymmetricTree', 'leaf_estimation_method': 'Gradient', 'leaf_estimation_iterations': 4, 'fold_permutation_block': 3, 'depth': 1, 'bagging_temperature': 7.179612080811534}. Best is trial 427 with value: 0.38732581455832343.\u001b[0m\n",
      "\u001b[32m[I 2022-04-28 16:22:27,983]\u001b[0m Trial 455 finished with value: 0.3872440600660923 and parameters: {'iterations': 214, 'learning_rate': 0.0010756045666583125, 'l2_leaf_reg': 3.0245562977768428, 'min_data_in_leaf': 57, 'random_strength': 7.028109590879103, 'bootstrap_type': 'Bayesian', 'grow_policy': 'SymmetricTree', 'leaf_estimation_method': 'Gradient', 'leaf_estimation_iterations': 4, 'fold_permutation_block': 3, 'depth': 1, 'bagging_temperature': 7.046501483176658}. Best is trial 455 with value: 0.3872440600660923.\u001b[0m\n",
      "\u001b[32m[I 2022-04-28 16:22:28,542]\u001b[0m Trial 456 finished with value: 0.43239805953847626 and parameters: {'iterations': 207, 'learning_rate': 0.0010223932147072948, 'l2_leaf_reg': 3.045985898352789, 'min_data_in_leaf': 57, 'random_strength': 7.1223129987909815, 'bootstrap_type': 'Bayesian', 'grow_policy': 'SymmetricTree', 'leaf_estimation_method': 'Gradient', 'leaf_estimation_iterations': 4, 'fold_permutation_block': 3, 'depth': 2, 'bagging_temperature': 7.18791167764431}. Best is trial 455 with value: 0.3872440600660923.\u001b[0m\n",
      "\u001b[32m[I 2022-04-28 16:22:29,096]\u001b[0m Trial 457 finished with value: 0.38825045387451196 and parameters: {'iterations': 214, 'learning_rate': 0.0012197043807538066, 'l2_leaf_reg': 3.023541605406051, 'min_data_in_leaf': 58, 'random_strength': 6.779657541113581, 'bootstrap_type': 'Bayesian', 'grow_policy': 'SymmetricTree', 'leaf_estimation_method': 'Gradient', 'leaf_estimation_iterations': 4, 'fold_permutation_block': 3, 'depth': 1, 'bagging_temperature': 7.581240827209383}. Best is trial 455 with value: 0.3872440600660923.\u001b[0m\n",
      "\u001b[32m[I 2022-04-28 16:22:29,632]\u001b[0m Trial 458 finished with value: 0.38920049087195085 and parameters: {'iterations': 215, 'learning_rate': 0.0017887779116560515, 'l2_leaf_reg': 2.969327118635498, 'min_data_in_leaf': 59, 'random_strength': 6.74816582844031, 'bootstrap_type': 'Bayesian', 'grow_policy': 'SymmetricTree', 'leaf_estimation_method': 'Gradient', 'leaf_estimation_iterations': 4, 'fold_permutation_block': 3, 'depth': 1, 'bagging_temperature': 7.468864453326008}. Best is trial 455 with value: 0.3872440600660923.\u001b[0m\n",
      "\u001b[32m[I 2022-04-28 16:22:30,145]\u001b[0m Trial 459 finished with value: 0.38824610058905945 and parameters: {'iterations': 216, 'learning_rate': 0.001153790308078851, 'l2_leaf_reg': 2.9580370663620004, 'min_data_in_leaf': 60, 'random_strength': 6.647911593720045, 'bootstrap_type': 'Bayesian', 'grow_policy': 'SymmetricTree', 'leaf_estimation_method': 'Gradient', 'leaf_estimation_iterations': 4, 'fold_permutation_block': 3, 'depth': 1, 'bagging_temperature': 7.441876315230779}. Best is trial 455 with value: 0.3872440600660923.\u001b[0m\n",
      "\u001b[32m[I 2022-04-28 16:22:30,672]\u001b[0m Trial 460 finished with value: 0.3883040163202798 and parameters: {'iterations': 215, 'learning_rate': 0.0011862945861741696, 'l2_leaf_reg': 2.9054871617215356, 'min_data_in_leaf': 59, 'random_strength': 6.642273712705923, 'bootstrap_type': 'Bayesian', 'grow_policy': 'SymmetricTree', 'leaf_estimation_method': 'Gradient', 'leaf_estimation_iterations': 4, 'fold_permutation_block': 3, 'depth': 1, 'bagging_temperature': 7.677738330127506}. Best is trial 455 with value: 0.3872440600660923.\u001b[0m\n",
      "\u001b[32m[I 2022-04-28 16:22:31,233]\u001b[0m Trial 461 finished with value: 0.4303988574461461 and parameters: {'iterations': 215, 'learning_rate': 0.0012724481337796194, 'l2_leaf_reg': 2.9605633619899256, 'min_data_in_leaf': 60, 'random_strength': 6.6247158309521, 'bootstrap_type': 'Bayesian', 'grow_policy': 'SymmetricTree', 'leaf_estimation_method': 'Gradient', 'leaf_estimation_iterations': 4, 'fold_permutation_block': 3, 'depth': 2, 'bagging_temperature': 7.828292196204731}. Best is trial 455 with value: 0.3872440600660923.\u001b[0m\n",
      "\u001b[32m[I 2022-04-28 16:22:31,742]\u001b[0m Trial 462 finished with value: 0.3892709031730998 and parameters: {'iterations': 206, 'learning_rate': 0.0011322904207449534, 'l2_leaf_reg': 2.567858214449494, 'min_data_in_leaf': 60, 'random_strength': 7.173403927976159, 'bootstrap_type': 'Bayesian', 'grow_policy': 'SymmetricTree', 'leaf_estimation_method': 'Gradient', 'leaf_estimation_iterations': 4, 'fold_permutation_block': 3, 'depth': 1, 'bagging_temperature': 7.513247041256301}. Best is trial 455 with value: 0.3872440600660923.\u001b[0m\n",
      "\u001b[32m[I 2022-04-28 16:22:32,295]\u001b[0m Trial 463 finished with value: 0.38774536740256565 and parameters: {'iterations': 215, 'learning_rate': 0.0011958285877036604, 'l2_leaf_reg': 3.0281470827254613, 'min_data_in_leaf': 57, 'random_strength': 6.802962699329593, 'bootstrap_type': 'Bayesian', 'grow_policy': 'SymmetricTree', 'leaf_estimation_method': 'Gradient', 'leaf_estimation_iterations': 4, 'fold_permutation_block': 3, 'depth': 1, 'bagging_temperature': 7.694711144463102}. Best is trial 455 with value: 0.3872440600660923.\u001b[0m\n",
      "\u001b[32m[I 2022-04-28 16:22:32,789]\u001b[0m Trial 464 finished with value: 0.388394605452937 and parameters: {'iterations': 202, 'learning_rate': 0.001561761490897328, 'l2_leaf_reg': 2.583746273824704, 'min_data_in_leaf': 57, 'random_strength': 6.973576004223655, 'bootstrap_type': 'Bayesian', 'grow_policy': 'SymmetricTree', 'leaf_estimation_method': 'Newton', 'leaf_estimation_iterations': 4, 'fold_permutation_block': 3, 'depth': 1, 'bagging_temperature': 7.9732542095906815}. Best is trial 455 with value: 0.3872440600660923.\u001b[0m\n",
      "\u001b[32m[I 2022-04-28 16:22:33,320]\u001b[0m Trial 465 finished with value: 0.38740665943268554 and parameters: {'iterations': 204, 'learning_rate': 0.001012130684307128, 'l2_leaf_reg': 2.745766777108366, 'min_data_in_leaf': 56, 'random_strength': 6.589858521715884, 'bootstrap_type': 'Bayesian', 'grow_policy': 'SymmetricTree', 'leaf_estimation_method': 'Newton', 'leaf_estimation_iterations': 4, 'fold_permutation_block': 3, 'depth': 1, 'bagging_temperature': 7.7670040392457675}. Best is trial 455 with value: 0.3872440600660923.\u001b[0m\n",
      "\u001b[32m[I 2022-04-28 16:22:33,850]\u001b[0m Trial 466 finished with value: 0.39290201914060696 and parameters: {'iterations': 199, 'learning_rate': 0.0010292708890460277, 'l2_leaf_reg': 2.692158434217077, 'min_data_in_leaf': 56, 'random_strength': 7.234035931350719, 'bootstrap_type': 'Bayesian', 'grow_policy': 'SymmetricTree', 'leaf_estimation_method': 'Newton', 'leaf_estimation_iterations': 4, 'fold_permutation_block': 3, 'depth': 1, 'bagging_temperature': 7.916951898804764}. Best is trial 455 with value: 0.3872440600660923.\u001b[0m\n",
      "\u001b[32m[I 2022-04-28 16:22:34,341]\u001b[0m Trial 467 finished with value: 0.47562208131167055 and parameters: {'iterations': 203, 'learning_rate': 0.0010536257979435143, 'l2_leaf_reg': 2.258157437003681, 'min_data_in_leaf': 56, 'random_strength': 6.582167933784038, 'bootstrap_type': 'Bernoulli', 'grow_policy': 'Depthwise', 'leaf_estimation_method': 'Newton', 'leaf_estimation_iterations': 4, 'fold_permutation_block': 3, 'depth': 1, 'subsample': 0.7253013858351997}. Best is trial 455 with value: 0.3872440600660923.\u001b[0m\n",
      "\u001b[32m[I 2022-04-28 16:22:34,928]\u001b[0m Trial 468 finished with value: 0.393348071998044 and parameters: {'iterations': 196, 'learning_rate': 0.0010585941743768124, 'l2_leaf_reg': 3.2328533142369906, 'min_data_in_leaf': 56, 'random_strength': 7.05698160736047, 'bootstrap_type': 'Bayesian', 'grow_policy': 'SymmetricTree', 'leaf_estimation_method': 'Newton', 'leaf_estimation_iterations': 4, 'fold_permutation_block': 3, 'depth': 1, 'bagging_temperature': 7.970039367305612}. Best is trial 455 with value: 0.3872440600660923.\u001b[0m\n",
      "\u001b[32m[I 2022-04-28 16:22:35,449]\u001b[0m Trial 469 finished with value: 0.38956476325896405 and parameters: {'iterations': 204, 'learning_rate': 0.001356046526794432, 'l2_leaf_reg': 2.799881234569953, 'min_data_in_leaf': 60, 'random_strength': 6.725596743551682, 'bootstrap_type': 'Bayesian', 'grow_policy': 'SymmetricTree', 'leaf_estimation_method': 'Gradient', 'leaf_estimation_iterations': 4, 'fold_permutation_block': 3, 'depth': 1, 'bagging_temperature': 7.69602920151753}. Best is trial 455 with value: 0.3872440600660923.\u001b[0m\n",
      "\u001b[32m[I 2022-04-28 16:22:35,997]\u001b[0m Trial 470 finished with value: 0.3929661742925414 and parameters: {'iterations': 216, 'learning_rate': 0.0011155567543971148, 'l2_leaf_reg': 3.2102587044286404, 'min_data_in_leaf': 57, 'random_strength': 6.847821972699322, 'bootstrap_type': 'Bayesian', 'grow_policy': 'SymmetricTree', 'leaf_estimation_method': 'Newton', 'leaf_estimation_iterations': 4, 'fold_permutation_block': 3, 'depth': 1, 'bagging_temperature': 8.25931752991522}. Best is trial 455 with value: 0.3872440600660923.\u001b[0m\n",
      "\u001b[32m[I 2022-04-28 16:22:36,534]\u001b[0m Trial 471 finished with value: 0.393108717077805 and parameters: {'iterations': 204, 'learning_rate': 0.0010105032878302963, 'l2_leaf_reg': 2.261999822814654, 'min_data_in_leaf': 52, 'random_strength': 6.54800737125203, 'bootstrap_type': 'Bayesian', 'grow_policy': 'SymmetricTree', 'leaf_estimation_method': 'Newton', 'leaf_estimation_iterations': 4, 'fold_permutation_block': 3, 'depth': 1, 'bagging_temperature': 7.623994953434896}. Best is trial 455 with value: 0.3872440600660923.\u001b[0m\n",
      "\u001b[32m[I 2022-04-28 16:22:37,065]\u001b[0m Trial 472 finished with value: 0.39381302540484997 and parameters: {'iterations': 216, 'learning_rate': 0.001383144053554876, 'l2_leaf_reg': 2.512738700849491, 'min_data_in_leaf': 56, 'random_strength': 7.01963527271073, 'bootstrap_type': 'Bayesian', 'grow_policy': 'SymmetricTree', 'leaf_estimation_method': 'Newton', 'leaf_estimation_iterations': 4, 'fold_permutation_block': 3, 'depth': 1, 'bagging_temperature': 7.719527371865149}. Best is trial 455 with value: 0.3872440600660923.\u001b[0m\n",
      "\u001b[32m[I 2022-04-28 16:22:37,533]\u001b[0m Trial 473 finished with value: 0.3974468023688724 and parameters: {'iterations': 196, 'learning_rate': 0.001138217783583714, 'l2_leaf_reg': 2.8096376953059785, 'min_data_in_leaf': 61, 'random_strength': 6.764494937179955, 'bootstrap_type': 'Bayesian', 'grow_policy': 'SymmetricTree', 'leaf_estimation_method': 'Newton', 'leaf_estimation_iterations': 3, 'fold_permutation_block': 3, 'depth': 1, 'bagging_temperature': 8.097419260902686}. Best is trial 455 with value: 0.3872440600660923.\u001b[0m\n",
      "\u001b[32m[I 2022-04-28 16:22:38,133]\u001b[0m Trial 474 finished with value: 0.4417459533266577 and parameters: {'iterations': 205, 'learning_rate': 0.0016790279960977711, 'l2_leaf_reg': 3.174690385401142, 'min_data_in_leaf': 59, 'random_strength': 7.258941760581004, 'bootstrap_type': 'Bayesian', 'grow_policy': 'SymmetricTree', 'leaf_estimation_method': 'Newton', 'leaf_estimation_iterations': 4, 'fold_permutation_block': 3, 'depth': 2, 'bagging_temperature': 7.618446118170456}. Best is trial 455 with value: 0.3872440600660923.\u001b[0m\n",
      "\u001b[32m[I 2022-04-28 16:22:38,688]\u001b[0m Trial 475 finished with value: 0.39334293542696486 and parameters: {'iterations': 215, 'learning_rate': 0.0014615398195220056, 'l2_leaf_reg': 2.8721038136852117, 'min_data_in_leaf': 53, 'random_strength': 6.5501126535745735, 'bootstrap_type': 'Bayesian', 'grow_policy': 'SymmetricTree', 'leaf_estimation_method': 'Newton', 'leaf_estimation_iterations': 4, 'fold_permutation_block': 3, 'depth': 1, 'bagging_temperature': 8.383604268019123}. Best is trial 455 with value: 0.3872440600660923.\u001b[0m\n",
      "\u001b[32m[I 2022-04-28 16:22:39,208]\u001b[0m Trial 476 finished with value: 0.3925950361196043 and parameters: {'iterations': 206, 'learning_rate': 0.0010544282604685786, 'l2_leaf_reg': 3.3576711946493463, 'min_data_in_leaf': 56, 'random_strength': 6.954761222791656, 'bootstrap_type': 'Bayesian', 'grow_policy': 'SymmetricTree', 'leaf_estimation_method': 'Newton', 'leaf_estimation_iterations': 4, 'fold_permutation_block': 3, 'depth': 1, 'bagging_temperature': 8.06455501651058}. Best is trial 455 with value: 0.3872440600660923.\u001b[0m\n",
      "\u001b[32m[I 2022-04-28 16:22:39,671]\u001b[0m Trial 477 finished with value: 0.39300029896486816 and parameters: {'iterations': 196, 'learning_rate': 0.0010208213873463233, 'l2_leaf_reg': 2.6393582489201144, 'min_data_in_leaf': 59, 'random_strength': 6.46055581229154, 'bootstrap_type': 'Bayesian', 'grow_policy': 'SymmetricTree', 'leaf_estimation_method': 'Newton', 'leaf_estimation_iterations': 4, 'fold_permutation_block': 3, 'depth': 1, 'bagging_temperature': 7.810722631615859}. Best is trial 455 with value: 0.3872440600660923.\u001b[0m\n",
      "\u001b[32m[I 2022-04-28 16:22:40,297]\u001b[0m Trial 478 finished with value: 0.39202920583785383 and parameters: {'iterations': 217, 'learning_rate': 0.0010392145286671592, 'l2_leaf_reg': 3.149262943598141, 'min_data_in_leaf': 53, 'random_strength': 6.6912409916660085, 'bootstrap_type': 'Bayesian', 'grow_policy': 'SymmetricTree', 'leaf_estimation_method': 'Newton', 'leaf_estimation_iterations': 4, 'fold_permutation_block': 3, 'depth': 1, 'bagging_temperature': 7.461528535546885}. Best is trial 455 with value: 0.3872440600660923.\u001b[0m\n",
      "\u001b[32m[I 2022-04-28 16:22:40,824]\u001b[0m Trial 479 finished with value: 0.39137301945699826 and parameters: {'iterations': 206, 'learning_rate': 0.0011867817137965516, 'l2_leaf_reg': 3.623302929583773, 'min_data_in_leaf': 57, 'random_strength': 7.06221621889515, 'bootstrap_type': 'Bayesian', 'grow_policy': 'SymmetricTree', 'leaf_estimation_method': 'Newton', 'leaf_estimation_iterations': 4, 'fold_permutation_block': 3, 'depth': 1, 'bagging_temperature': 7.806295962253097}. Best is trial 455 with value: 0.3872440600660923.\u001b[0m\n",
      "\u001b[32m[I 2022-04-28 16:22:41,387]\u001b[0m Trial 480 finished with value: 0.3921658471904588 and parameters: {'iterations': 213, 'learning_rate': 0.0010263807374065084, 'l2_leaf_reg': 3.010694423559043, 'min_data_in_leaf': 61, 'random_strength': 6.748435175726577, 'bootstrap_type': 'Bayesian', 'grow_policy': 'SymmetricTree', 'leaf_estimation_method': 'Newton', 'leaf_estimation_iterations': 4, 'fold_permutation_block': 3, 'depth': 1, 'bagging_temperature': 7.594325552080313}. Best is trial 455 with value: 0.3872440600660923.\u001b[0m\n",
      "\u001b[32m[I 2022-04-28 16:22:44,860]\u001b[0m Trial 481 finished with value: 0.5777858863055628 and parameters: {'iterations': 195, 'learning_rate': 0.001213735433595198, 'l2_leaf_reg': 2.3370232374881303, 'min_data_in_leaf': 55, 'random_strength': 7.32552860336071, 'bootstrap_type': 'Bayesian', 'grow_policy': 'Lossguide', 'leaf_estimation_method': 'Newton', 'leaf_estimation_iterations': 4, 'fold_permutation_block': 3, 'max_leaves': 178, 'depth': 18, 'bagging_temperature': 7.985893830638508}. Best is trial 455 with value: 0.3872440600660923.\u001b[0m\n",
      "\u001b[32m[I 2022-04-28 16:22:45,396]\u001b[0m Trial 482 finished with value: 0.39421969694338305 and parameters: {'iterations': 219, 'learning_rate': 0.004720322615027651, 'l2_leaf_reg': 1.9391510808683239, 'min_data_in_leaf': 52, 'random_strength': 6.41862985103974, 'bootstrap_type': 'Bayesian', 'grow_policy': 'SymmetricTree', 'leaf_estimation_method': 'Newton', 'leaf_estimation_iterations': 4, 'fold_permutation_block': 3, 'depth': 1, 'bagging_temperature': 7.356608125012826}. Best is trial 455 with value: 0.3872440600660923.\u001b[0m\n",
      "\u001b[32m[I 2022-04-28 16:22:45,978]\u001b[0m Trial 483 finished with value: 0.4671522590322415 and parameters: {'iterations': 204, 'learning_rate': 0.0010061788231350375, 'l2_leaf_reg': 2.7550589686391573, 'min_data_in_leaf': 58, 'random_strength': 6.8592923591822785, 'bootstrap_type': 'Bayesian', 'grow_policy': 'SymmetricTree', 'leaf_estimation_method': 'Newton', 'leaf_estimation_iterations': 4, 'fold_permutation_block': 3, 'depth': 3, 'bagging_temperature': 7.687893680396247}. Best is trial 455 with value: 0.3872440600660923.\u001b[0m\n",
      "\u001b[32m[I 2022-04-28 16:22:46,509]\u001b[0m Trial 484 finished with value: 0.39451135627661743 and parameters: {'iterations': 210, 'learning_rate': 0.0011335468771534497, 'l2_leaf_reg': 3.3946811798903473, 'min_data_in_leaf': 56, 'random_strength': 6.585920316650213, 'bootstrap_type': 'Bayesian', 'grow_policy': 'SymmetricTree', 'leaf_estimation_method': 'Newton', 'leaf_estimation_iterations': 4, 'fold_permutation_block': 3, 'depth': 1, 'bagging_temperature': 7.833440941384396}. Best is trial 455 with value: 0.3872440600660923.\u001b[0m\n",
      "\u001b[32m[I 2022-04-28 16:22:47,186]\u001b[0m Trial 485 finished with value: 0.4958487140348898 and parameters: {'iterations': 221, 'learning_rate': 0.0010672655937185949, 'l2_leaf_reg': 2.419756687495161, 'min_data_in_leaf': 60, 'random_strength': 7.127150647693559, 'bootstrap_type': 'Bayesian', 'grow_policy': 'SymmetricTree', 'leaf_estimation_method': 'Newton', 'leaf_estimation_iterations': 4, 'fold_permutation_block': 3, 'depth': 4, 'bagging_temperature': 7.39767063007354}. Best is trial 455 with value: 0.3872440600660923.\u001b[0m\n",
      "\u001b[32m[I 2022-04-28 16:22:47,708]\u001b[0m Trial 486 finished with value: 0.43494282437096077 and parameters: {'iterations': 196, 'learning_rate': 0.004682062921174506, 'l2_leaf_reg': 2.9047026031334178, 'min_data_in_leaf': 53, 'random_strength': 6.886912569331684, 'bootstrap_type': 'Bayesian', 'grow_policy': 'SymmetricTree', 'leaf_estimation_method': 'Gradient', 'leaf_estimation_iterations': 4, 'fold_permutation_block': 3, 'depth': 2, 'bagging_temperature': 7.445246558352401}. Best is trial 455 with value: 0.3872440600660923.\u001b[0m\n",
      "\u001b[32m[I 2022-04-28 16:22:48,245]\u001b[0m Trial 487 finished with value: 0.39230400219718814 and parameters: {'iterations': 212, 'learning_rate': 0.001121735210157903, 'l2_leaf_reg': 3.055025441590562, 'min_data_in_leaf': 57, 'random_strength': 6.586714752021564, 'bootstrap_type': 'Bayesian', 'grow_policy': 'SymmetricTree', 'leaf_estimation_method': 'Newton', 'leaf_estimation_iterations': 4, 'fold_permutation_block': 3, 'depth': 1, 'bagging_temperature': 8.11596330848333}. Best is trial 455 with value: 0.3872440600660923.\u001b[0m\n",
      "\u001b[32m[I 2022-04-28 16:22:48,741]\u001b[0m Trial 488 finished with value: 0.38817405125841137 and parameters: {'iterations': 202, 'learning_rate': 0.0011226487881579258, 'l2_leaf_reg': 2.539217746415173, 'min_data_in_leaf': 55, 'random_strength': 6.354414216336933, 'bootstrap_type': 'Bayesian', 'grow_policy': 'SymmetricTree', 'leaf_estimation_method': 'Gradient', 'leaf_estimation_iterations': 4, 'fold_permutation_block': 3, 'depth': 1, 'bagging_temperature': 7.796149837904871}. Best is trial 455 with value: 0.3872440600660923.\u001b[0m\n",
      "\u001b[32m[I 2022-04-28 16:22:49,814]\u001b[0m Trial 489 finished with value: 0.4003714063840016 and parameters: {'iterations': 484, 'learning_rate': 0.0032327554653750015, 'l2_leaf_reg': 3.553932031401081, 'min_data_in_leaf': 54, 'random_strength': 6.339869242683558, 'bootstrap_type': 'Bayesian', 'grow_policy': 'SymmetricTree', 'leaf_estimation_method': 'Gradient', 'leaf_estimation_iterations': 4, 'fold_permutation_block': 3, 'depth': 1, 'bagging_temperature': 8.16349778749541}. Best is trial 455 with value: 0.3872440600660923.\u001b[0m\n",
      "\u001b[32m[I 2022-04-28 16:22:50,357]\u001b[0m Trial 490 finished with value: 0.39210101675478487 and parameters: {'iterations': 204, 'learning_rate': 0.004782684598748747, 'l2_leaf_reg': 2.6041212929814295, 'min_data_in_leaf': 52, 'random_strength': 6.4340135293388405, 'bootstrap_type': 'Bayesian', 'grow_policy': 'SymmetricTree', 'leaf_estimation_method': 'Gradient', 'leaf_estimation_iterations': 4, 'fold_permutation_block': 3, 'depth': 1, 'bagging_temperature': 8.532126971553001}. Best is trial 455 with value: 0.3872440600660923.\u001b[0m\n",
      "\u001b[32m[I 2022-04-28 16:22:51,131]\u001b[0m Trial 491 finished with value: 0.5298871987867948 and parameters: {'iterations': 194, 'learning_rate': 0.0011047307047617825, 'l2_leaf_reg': 2.716670577518263, 'min_data_in_leaf': 56, 'random_strength': 6.6886262036468285, 'bootstrap_type': 'Bayesian', 'grow_policy': 'SymmetricTree', 'leaf_estimation_method': 'Gradient', 'leaf_estimation_iterations': 4, 'fold_permutation_block': 3, 'depth': 7, 'bagging_temperature': 7.845253113673068}. Best is trial 455 with value: 0.3872440600660923.\u001b[0m\n",
      "\u001b[32m[I 2022-04-28 16:22:51,591]\u001b[0m Trial 492 finished with value: 0.44835810180446073 and parameters: {'iterations': 201, 'learning_rate': 0.0010640184781157943, 'l2_leaf_reg': 3.234122668372809, 'min_data_in_leaf': 55, 'random_strength': 6.850272505429581, 'bootstrap_type': 'Bernoulli', 'grow_policy': 'SymmetricTree', 'leaf_estimation_method': 'Gradient', 'leaf_estimation_iterations': 4, 'fold_permutation_block': 3, 'depth': 1, 'subsample': 0.5981098081649775}. Best is trial 455 with value: 0.3872440600660923.\u001b[0m\n",
      "\u001b[32m[I 2022-04-28 16:22:52,161]\u001b[0m Trial 493 finished with value: 0.3876079844717275 and parameters: {'iterations': 219, 'learning_rate': 0.0010184601844629483, 'l2_leaf_reg': 2.447007832033427, 'min_data_in_leaf': 62, 'random_strength': 6.487170206897091, 'bootstrap_type': 'Bayesian', 'grow_policy': 'SymmetricTree', 'leaf_estimation_method': 'Gradient', 'leaf_estimation_iterations': 4, 'fold_permutation_block': 3, 'depth': 1, 'bagging_temperature': 7.627811136825737}. Best is trial 455 with value: 0.3872440600660923.\u001b[0m\n",
      "\u001b[32m[I 2022-04-28 16:22:52,693]\u001b[0m Trial 494 finished with value: 0.38966691814379867 and parameters: {'iterations': 203, 'learning_rate': 0.0010363760218342927, 'l2_leaf_reg': 1.900329363699634, 'min_data_in_leaf': 61, 'random_strength': 6.339883176303106, 'bootstrap_type': 'Bayesian', 'grow_policy': 'SymmetricTree', 'leaf_estimation_method': 'Gradient', 'leaf_estimation_iterations': 4, 'fold_permutation_block': 3, 'depth': 1, 'bagging_temperature': 7.656104172979305}. Best is trial 455 with value: 0.3872440600660923.\u001b[0m\n",
      "\u001b[32m[I 2022-04-28 16:22:53,227]\u001b[0m Trial 495 finished with value: 0.38862430673762866 and parameters: {'iterations': 222, 'learning_rate': 0.0031210910666471803, 'l2_leaf_reg': 2.44437132677158, 'min_data_in_leaf': 59, 'random_strength': 6.4955479926190085, 'bootstrap_type': 'Bayesian', 'grow_policy': 'SymmetricTree', 'leaf_estimation_method': 'Gradient', 'leaf_estimation_iterations': 4, 'fold_permutation_block': 3, 'depth': 1, 'bagging_temperature': 7.617087233819124}. Best is trial 455 with value: 0.3872440600660923.\u001b[0m\n",
      "\u001b[32m[I 2022-04-28 16:22:53,779]\u001b[0m Trial 496 finished with value: 0.38948565855033673 and parameters: {'iterations': 222, 'learning_rate': 0.004664230266390795, 'l2_leaf_reg': 2.420812777222963, 'min_data_in_leaf': 62, 'random_strength': 6.469635343464583, 'bootstrap_type': 'Bayesian', 'grow_policy': 'SymmetricTree', 'leaf_estimation_method': 'Gradient', 'leaf_estimation_iterations': 4, 'fold_permutation_block': 3, 'depth': 1, 'bagging_temperature': 7.547087633642733}. Best is trial 455 with value: 0.3872440600660923.\u001b[0m\n",
      "\u001b[32m[I 2022-04-28 16:22:54,418]\u001b[0m Trial 497 finished with value: 0.38825376165323244 and parameters: {'iterations': 221, 'learning_rate': 0.003064194676911085, 'l2_leaf_reg': 1.980824561093805, 'min_data_in_leaf': 62, 'random_strength': 6.53766993499999, 'bootstrap_type': 'Bayesian', 'grow_policy': 'Depthwise', 'leaf_estimation_method': 'Gradient', 'leaf_estimation_iterations': 4, 'fold_permutation_block': 3, 'depth': 1, 'bagging_temperature': 7.936771390653794}. Best is trial 455 with value: 0.3872440600660923.\u001b[0m\n",
      "\u001b[32m[I 2022-04-28 16:22:55,107]\u001b[0m Trial 498 finished with value: 0.4390934500065851 and parameters: {'iterations': 221, 'learning_rate': 0.005372703840384033, 'l2_leaf_reg': 2.0484001343639195, 'min_data_in_leaf': 62, 'random_strength': 6.244613323339865, 'bootstrap_type': 'Bayesian', 'grow_policy': 'Depthwise', 'leaf_estimation_method': 'Gradient', 'leaf_estimation_iterations': 4, 'fold_permutation_block': 3, 'depth': 2, 'bagging_temperature': 7.923471458001879}. Best is trial 455 with value: 0.3872440600660923.\u001b[0m\n",
      "\u001b[32m[I 2022-04-28 16:22:55,660]\u001b[0m Trial 499 finished with value: 0.38777198627802156 and parameters: {'iterations': 221, 'learning_rate': 0.0033089175377799054, 'l2_leaf_reg': 2.5199336731990916, 'min_data_in_leaf': 62, 'random_strength': 6.52756109935075, 'bootstrap_type': 'Bayesian', 'grow_policy': 'Depthwise', 'leaf_estimation_method': 'Gradient', 'leaf_estimation_iterations': 4, 'fold_permutation_block': 3, 'depth': 1, 'bagging_temperature': 7.921096468134565}. Best is trial 455 with value: 0.3872440600660923.\u001b[0m\n",
      "\u001b[32m[I 2022-04-28 16:22:56,264]\u001b[0m Trial 500 finished with value: 0.3901276084575498 and parameters: {'iterations': 224, 'learning_rate': 0.004510039127760173, 'l2_leaf_reg': 2.492915243886879, 'min_data_in_leaf': 63, 'random_strength': 6.563444923204946, 'bootstrap_type': 'Bayesian', 'grow_policy': 'Depthwise', 'leaf_estimation_method': 'Gradient', 'leaf_estimation_iterations': 4, 'fold_permutation_block': 3, 'depth': 1, 'bagging_temperature': 8.180223716477284}. Best is trial 455 with value: 0.3872440600660923.\u001b[0m\n",
      "\u001b[32m[I 2022-04-28 16:22:56,945]\u001b[0m Trial 501 finished with value: 0.3977405776488557 and parameters: {'iterations': 221, 'learning_rate': 0.0031720010216192114, 'l2_leaf_reg': 2.17293932759399, 'min_data_in_leaf': 62, 'random_strength': 6.329981706966338, 'bootstrap_type': 'Bayesian', 'grow_policy': 'Depthwise', 'leaf_estimation_method': 'Newton', 'leaf_estimation_iterations': 4, 'fold_permutation_block': 3, 'depth': 1, 'bagging_temperature': 7.731397291874416}. Best is trial 455 with value: 0.3872440600660923.\u001b[0m\n",
      "\u001b[32m[I 2022-04-28 16:22:57,580]\u001b[0m Trial 502 finished with value: 0.39135909942216746 and parameters: {'iterations': 223, 'learning_rate': 0.0056767507820371125, 'l2_leaf_reg': 1.0785045998078062, 'min_data_in_leaf': 60, 'random_strength': 6.584545908096169, 'bootstrap_type': 'Bayesian', 'grow_policy': 'Depthwise', 'leaf_estimation_method': 'Gradient', 'leaf_estimation_iterations': 4, 'fold_permutation_block': 3, 'depth': 1, 'bagging_temperature': 8.470211543390636}. Best is trial 455 with value: 0.3872440600660923.\u001b[0m\n",
      "\u001b[32m[I 2022-04-28 16:22:58,185]\u001b[0m Trial 503 finished with value: 0.38811300977685254 and parameters: {'iterations': 217, 'learning_rate': 0.003149672929888263, 'l2_leaf_reg': 1.7928292448770358, 'min_data_in_leaf': 61, 'random_strength': 6.870532954379179, 'bootstrap_type': 'Bayesian', 'grow_policy': 'Depthwise', 'leaf_estimation_method': 'Gradient', 'leaf_estimation_iterations': 4, 'fold_permutation_block': 3, 'depth': 1, 'bagging_temperature': 7.933479166207931}. Best is trial 455 with value: 0.3872440600660923.\u001b[0m\n",
      "\u001b[32m[I 2022-04-28 16:22:58,797]\u001b[0m Trial 504 finished with value: 0.3886251328565456 and parameters: {'iterations': 216, 'learning_rate': 0.0010254787962934526, 'l2_leaf_reg': 1.5667369680135268, 'min_data_in_leaf': 62, 'random_strength': 6.960745318842411, 'bootstrap_type': 'Bayesian', 'grow_policy': 'Depthwise', 'leaf_estimation_method': 'Gradient', 'leaf_estimation_iterations': 4, 'fold_permutation_block': 3, 'depth': 1, 'bagging_temperature': 8.244799870128663}. Best is trial 455 with value: 0.3872440600660923.\u001b[0m\n",
      "\u001b[32m[I 2022-04-28 16:22:59,358]\u001b[0m Trial 505 finished with value: 0.39013560577249956 and parameters: {'iterations': 198, 'learning_rate': 0.004095638686082858, 'l2_leaf_reg': 1.291976245382716, 'min_data_in_leaf': 57, 'random_strength': 7.237228441191515, 'bootstrap_type': 'Bayesian', 'grow_policy': 'Depthwise', 'leaf_estimation_method': 'Gradient', 'leaf_estimation_iterations': 4, 'fold_permutation_block': 3, 'depth': 1, 'bagging_temperature': 7.73894949061579}. Best is trial 455 with value: 0.3872440600660923.\u001b[0m\n",
      "\u001b[32m[I 2022-04-28 16:22:59,955]\u001b[0m Trial 506 finished with value: 0.39030045402736535 and parameters: {'iterations': 215, 'learning_rate': 0.006004926315017586, 'l2_leaf_reg': 1.6518473631337578, 'min_data_in_leaf': 61, 'random_strength': 6.941656134618982, 'bootstrap_type': 'Bayesian', 'grow_policy': 'Depthwise', 'leaf_estimation_method': 'Gradient', 'leaf_estimation_iterations': 4, 'fold_permutation_block': 3, 'depth': 1, 'bagging_temperature': 7.980790976236295}. Best is trial 455 with value: 0.3872440600660923.\u001b[0m\n",
      "\u001b[32m[I 2022-04-28 16:23:01,343]\u001b[0m Trial 507 finished with value: 0.5509312056200306 and parameters: {'iterations': 191, 'learning_rate': 0.0029028850956394825, 'l2_leaf_reg': 1.6589419566084171, 'min_data_in_leaf': 58, 'random_strength': 6.759311218017119, 'bootstrap_type': 'Bayesian', 'grow_policy': 'Lossguide', 'leaf_estimation_method': 'Gradient', 'leaf_estimation_iterations': 4, 'fold_permutation_block': 3, 'max_leaves': 58, 'depth': 6, 'bagging_temperature': 7.95890326205946}. Best is trial 455 with value: 0.3872440600660923.\u001b[0m\n",
      "\u001b[32m[I 2022-04-28 16:23:01,868]\u001b[0m Trial 508 finished with value: 0.39094393488050166 and parameters: {'iterations': 206, 'learning_rate': 0.003401663972500801, 'l2_leaf_reg': 1.4550025599195708, 'min_data_in_leaf': 60, 'random_strength': 7.091488947905647, 'bootstrap_type': 'Bayesian', 'grow_policy': 'Depthwise', 'leaf_estimation_method': 'Gradient', 'leaf_estimation_iterations': 4, 'fold_permutation_block': 3, 'depth': 1, 'bagging_temperature': 8.367914868063828}. Best is trial 455 with value: 0.3872440600660923.\u001b[0m\n",
      "\u001b[32m[I 2022-04-28 16:23:02,443]\u001b[0m Trial 509 finished with value: 0.38745513735745213 and parameters: {'iterations': 224, 'learning_rate': 0.001053469920832233, 'l2_leaf_reg': 2.63834712535576, 'min_data_in_leaf': 57, 'random_strength': 6.646487587499273, 'bootstrap_type': 'Bayesian', 'grow_policy': 'Depthwise', 'leaf_estimation_method': 'Gradient', 'leaf_estimation_iterations': 4, 'fold_permutation_block': 3, 'depth': 1, 'bagging_temperature': 7.927100461344995}. Best is trial 455 with value: 0.3872440600660923.\u001b[0m\n",
      "\u001b[32m[I 2022-04-28 16:23:03,119]\u001b[0m Trial 510 finished with value: 0.4331000864866426 and parameters: {'iterations': 227, 'learning_rate': 0.001088979682200538, 'l2_leaf_reg': 2.130786019754753, 'min_data_in_leaf': 62, 'random_strength': 6.671132463219784, 'bootstrap_type': 'Bayesian', 'grow_policy': 'Depthwise', 'leaf_estimation_method': 'Gradient', 'leaf_estimation_iterations': 4, 'fold_permutation_block': 3, 'depth': 2, 'bagging_temperature': 8.070399047233382}. Best is trial 455 with value: 0.3872440600660923.\u001b[0m\n",
      "\u001b[32m[I 2022-04-28 16:23:03,721]\u001b[0m Trial 511 finished with value: 0.39002782306052786 and parameters: {'iterations': 226, 'learning_rate': 0.004993558615910303, 'l2_leaf_reg': 2.7286579630187413, 'min_data_in_leaf': 57, 'random_strength': 7.438286576279685, 'bootstrap_type': 'Bayesian', 'grow_policy': 'Depthwise', 'leaf_estimation_method': 'Gradient', 'leaf_estimation_iterations': 4, 'fold_permutation_block': 3, 'depth': 1, 'bagging_temperature': 7.920906299399271}. Best is trial 455 with value: 0.3872440600660923.\u001b[0m\n",
      "\u001b[32m[I 2022-04-28 16:23:04,274]\u001b[0m Trial 512 finished with value: 0.3919268930750348 and parameters: {'iterations': 217, 'learning_rate': 0.003139299014419993, 'l2_leaf_reg': 2.608637168699199, 'min_data_in_leaf': 60, 'random_strength': 6.921670268966604, 'bootstrap_type': 'Bayesian', 'grow_policy': 'Depthwise', 'leaf_estimation_method': 'Newton', 'leaf_estimation_iterations': 4, 'fold_permutation_block': 3, 'depth': 1, 'bagging_temperature': 7.814780631525761}. Best is trial 455 with value: 0.3872440600660923.\u001b[0m\n",
      "\u001b[32m[I 2022-04-28 16:23:04,854]\u001b[0m Trial 513 finished with value: 0.3910022926935813 and parameters: {'iterations': 205, 'learning_rate': 0.0010142119170156423, 'l2_leaf_reg': 2.319099495930434, 'min_data_in_leaf': 57, 'random_strength': 6.782018772621959, 'bootstrap_type': 'Bayesian', 'grow_policy': 'Depthwise', 'leaf_estimation_method': 'Gradient', 'leaf_estimation_iterations': 5, 'fold_permutation_block': 3, 'depth': 1, 'bagging_temperature': 8.24960206782874}. Best is trial 455 with value: 0.3872440600660923.\u001b[0m\n",
      "\u001b[32m[I 2022-04-28 16:23:05,465]\u001b[0m Trial 514 finished with value: 0.3882078275126586 and parameters: {'iterations': 219, 'learning_rate': 0.0011166648105534404, 'l2_leaf_reg': 2.0068088781940334, 'min_data_in_leaf': 59, 'random_strength': 7.225464676063318, 'bootstrap_type': 'Bayesian', 'grow_policy': 'Depthwise', 'leaf_estimation_method': 'Gradient', 'leaf_estimation_iterations': 4, 'fold_permutation_block': 3, 'depth': 1, 'bagging_temperature': 7.6061896356854275}. Best is trial 455 with value: 0.3872440600660923.\u001b[0m\n",
      "\u001b[32m[I 2022-04-28 16:23:06,050]\u001b[0m Trial 515 finished with value: 0.38865072542585205 and parameters: {'iterations': 226, 'learning_rate': 0.0010279767505519252, 'l2_leaf_reg': 1.9923005717113846, 'min_data_in_leaf': 63, 'random_strength': 7.218454122229746, 'bootstrap_type': 'Bayesian', 'grow_policy': 'Depthwise', 'leaf_estimation_method': 'Gradient', 'leaf_estimation_iterations': 4, 'fold_permutation_block': 3, 'depth': 1, 'bagging_temperature': 7.537972867591491}. Best is trial 455 with value: 0.3872440600660923.\u001b[0m\n",
      "\u001b[32m[I 2022-04-28 16:23:06,611]\u001b[0m Trial 516 finished with value: 0.3872233394107583 and parameters: {'iterations': 219, 'learning_rate': 0.001159325261021664, 'l2_leaf_reg': 2.782931807815102, 'min_data_in_leaf': 59, 'random_strength': 7.565530037789017, 'bootstrap_type': 'Bayesian', 'grow_policy': 'Depthwise', 'leaf_estimation_method': 'Gradient', 'leaf_estimation_iterations': 4, 'fold_permutation_block': 3, 'depth': 1, 'bagging_temperature': 7.729582220612502}. Best is trial 516 with value: 0.3872233394107583.\u001b[0m\n",
      "\u001b[32m[I 2022-04-28 16:23:07,267]\u001b[0m Trial 517 finished with value: 0.43549873931374844 and parameters: {'iterations': 224, 'learning_rate': 0.0010136441062805447, 'l2_leaf_reg': 0.7394924668687852, 'min_data_in_leaf': 60, 'random_strength': 7.6854617544547095, 'bootstrap_type': 'Bayesian', 'grow_policy': 'Depthwise', 'leaf_estimation_method': 'Gradient', 'leaf_estimation_iterations': 4, 'fold_permutation_block': 3, 'depth': 2, 'bagging_temperature': 7.694472137602273}. Best is trial 516 with value: 0.3872233394107583.\u001b[0m\n",
      "\u001b[32m[I 2022-04-28 16:23:07,862]\u001b[0m Trial 518 finished with value: 0.3896809686809759 and parameters: {'iterations': 217, 'learning_rate': 0.004573956179722754, 'l2_leaf_reg': 2.147340519549032, 'min_data_in_leaf': 62, 'random_strength': 7.448465485820213, 'bootstrap_type': 'Bayesian', 'grow_policy': 'Depthwise', 'leaf_estimation_method': 'Gradient', 'leaf_estimation_iterations': 4, 'fold_permutation_block': 3, 'depth': 1, 'bagging_temperature': 7.476435170966726}. Best is trial 516 with value: 0.3872233394107583.\u001b[0m\n",
      "\u001b[32m[I 2022-04-28 16:23:08,414]\u001b[0m Trial 519 finished with value: 0.4195081077202045 and parameters: {'iterations': 220, 'learning_rate': 0.0626565458592026, 'l2_leaf_reg': 2.856817472842848, 'min_data_in_leaf': 60, 'random_strength': 7.244704230349962, 'bootstrap_type': 'Bayesian', 'grow_policy': 'Depthwise', 'leaf_estimation_method': 'Gradient', 'leaf_estimation_iterations': 3, 'fold_permutation_block': 3, 'depth': 1, 'bagging_temperature': 7.6626196797091986}. Best is trial 516 with value: 0.3872233394107583.\u001b[0m\n",
      "\u001b[32m[I 2022-04-28 16:23:09,014]\u001b[0m Trial 520 finished with value: 0.45142328296606404 and parameters: {'iterations': 226, 'learning_rate': 0.0033605934976958848, 'l2_leaf_reg': 2.329155944606969, 'min_data_in_leaf': 59, 'random_strength': 7.389623361620081, 'bootstrap_type': 'Bernoulli', 'grow_policy': 'Depthwise', 'leaf_estimation_method': 'Gradient', 'leaf_estimation_iterations': 4, 'fold_permutation_block': 3, 'depth': 1, 'subsample': 0.8634949446385126}. Best is trial 516 with value: 0.3872233394107583.\u001b[0m\n",
      "\u001b[32m[I 2022-04-28 16:23:09,588]\u001b[0m Trial 521 finished with value: 0.38766041982377075 and parameters: {'iterations': 212, 'learning_rate': 0.0010473308637054927, 'l2_leaf_reg': 2.76428684286364, 'min_data_in_leaf': 63, 'random_strength': 7.05906814596907, 'bootstrap_type': 'Bayesian', 'grow_policy': 'Depthwise', 'leaf_estimation_method': 'Gradient', 'leaf_estimation_iterations': 4, 'fold_permutation_block': 3, 'depth': 1, 'bagging_temperature': 7.868821491102703}. Best is trial 516 with value: 0.3872233394107583.\u001b[0m\n",
      "\u001b[32m[I 2022-04-28 16:23:10,231]\u001b[0m Trial 522 finished with value: 0.3877654478786238 and parameters: {'iterations': 228, 'learning_rate': 0.0010591006539677917, 'l2_leaf_reg': 2.7577757300604384, 'min_data_in_leaf': 63, 'random_strength': 7.917359849636635, 'bootstrap_type': 'Bayesian', 'grow_policy': 'Depthwise', 'leaf_estimation_method': 'Gradient', 'leaf_estimation_iterations': 4, 'fold_permutation_block': 3, 'depth': 1, 'bagging_temperature': 7.853667203323285}. Best is trial 516 with value: 0.3872233394107583.\u001b[0m\n",
      "\u001b[32m[I 2022-04-28 16:23:10,832]\u001b[0m Trial 523 finished with value: 0.3910530477397818 and parameters: {'iterations': 228, 'learning_rate': 0.006251483747892778, 'l2_leaf_reg': 2.7549872007191176, 'min_data_in_leaf': 64, 'random_strength': 7.944651541678041, 'bootstrap_type': 'Bayesian', 'grow_policy': 'Depthwise', 'leaf_estimation_method': 'Gradient', 'leaf_estimation_iterations': 4, 'fold_permutation_block': 3, 'depth': 1, 'bagging_temperature': 7.876122221823574}. Best is trial 516 with value: 0.3872233394107583.\u001b[0m\n",
      "\u001b[32m[I 2022-04-28 16:23:11,398]\u001b[0m Trial 524 finished with value: 0.3890970836902221 and parameters: {'iterations': 219, 'learning_rate': 0.003298289968855431, 'l2_leaf_reg': 2.936048995541033, 'min_data_in_leaf': 63, 'random_strength': 7.8442621949945215, 'bootstrap_type': 'Bayesian', 'grow_policy': 'Depthwise', 'leaf_estimation_method': 'Gradient', 'leaf_estimation_iterations': 4, 'fold_permutation_block': 3, 'depth': 1, 'bagging_temperature': 8.108847472339862}. Best is trial 516 with value: 0.3872233394107583.\u001b[0m\n",
      "\u001b[32m[I 2022-04-28 16:23:12,061]\u001b[0m Trial 525 finished with value: 0.3893202310209956 and parameters: {'iterations': 227, 'learning_rate': 0.00298137327954551, 'l2_leaf_reg': 2.601499531033448, 'min_data_in_leaf': 63, 'random_strength': 7.618697942674726, 'bootstrap_type': 'Bayesian', 'grow_policy': 'Depthwise', 'leaf_estimation_method': 'Gradient', 'leaf_estimation_iterations': 4, 'fold_permutation_block': 3, 'depth': 1, 'bagging_temperature': 7.704372591546414}. Best is trial 516 with value: 0.3872233394107583.\u001b[0m\n",
      "\u001b[32m[I 2022-04-28 16:23:13,026]\u001b[0m Trial 526 finished with value: 0.401468689258154 and parameters: {'iterations': 420, 'learning_rate': 0.006033476835349835, 'l2_leaf_reg': 2.7765751239269245, 'min_data_in_leaf': 62, 'random_strength': 7.1103227892061085, 'bootstrap_type': 'Bayesian', 'grow_policy': 'Depthwise', 'leaf_estimation_method': 'Gradient', 'leaf_estimation_iterations': 4, 'fold_permutation_block': 3, 'depth': 1, 'bagging_temperature': 8.644638749446663}. Best is trial 516 with value: 0.3872233394107583.\u001b[0m\n",
      "\u001b[32m[I 2022-04-28 16:23:13,627]\u001b[0m Trial 527 finished with value: 0.3881705154896464 and parameters: {'iterations': 230, 'learning_rate': 0.001157824374385875, 'l2_leaf_reg': 1.7428067186584142, 'min_data_in_leaf': 61, 'random_strength': 8.170296637914477, 'bootstrap_type': 'Bayesian', 'grow_policy': 'Depthwise', 'leaf_estimation_method': 'Gradient', 'leaf_estimation_iterations': 4, 'fold_permutation_block': 4, 'depth': 1, 'bagging_temperature': 7.878536111126302}. Best is trial 516 with value: 0.3872233394107583.\u001b[0m\n",
      "\u001b[32m[I 2022-04-28 16:23:14,276]\u001b[0m Trial 528 finished with value: 0.39022027114354335 and parameters: {'iterations': 227, 'learning_rate': 0.001016065465928777, 'l2_leaf_reg': 1.8017322227270103, 'min_data_in_leaf': 63, 'random_strength': 8.157778389724665, 'bootstrap_type': 'Bayesian', 'grow_policy': 'Depthwise', 'leaf_estimation_method': 'Gradient', 'leaf_estimation_iterations': 4, 'fold_permutation_block': 4, 'depth': 1, 'bagging_temperature': 8.348466680766272}. Best is trial 516 with value: 0.3872233394107583.\u001b[0m\n",
      "\u001b[32m[I 2022-04-28 16:23:14,902]\u001b[0m Trial 529 finished with value: 0.38935676566894006 and parameters: {'iterations': 230, 'learning_rate': 0.004570986653538852, 'l2_leaf_reg': 1.7318106743293291, 'min_data_in_leaf': 62, 'random_strength': 8.538902279290028, 'bootstrap_type': 'Bayesian', 'grow_policy': 'Depthwise', 'leaf_estimation_method': 'Gradient', 'leaf_estimation_iterations': 4, 'fold_permutation_block': 4, 'depth': 1, 'bagging_temperature': 7.950768477066456}. Best is trial 516 with value: 0.3872233394107583.\u001b[0m\n",
      "\u001b[32m[I 2022-04-28 16:23:15,584]\u001b[0m Trial 530 finished with value: 0.43761342237015183 and parameters: {'iterations': 218, 'learning_rate': 0.003034193114204602, 'l2_leaf_reg': 1.3620668953322874, 'min_data_in_leaf': 60, 'random_strength': 7.850605280853981, 'bootstrap_type': 'Bayesian', 'grow_policy': 'Depthwise', 'leaf_estimation_method': 'Gradient', 'leaf_estimation_iterations': 4, 'fold_permutation_block': 3, 'depth': 2, 'bagging_temperature': 8.115716834385832}. Best is trial 516 with value: 0.3872233394107583.\u001b[0m\n",
      "\u001b[32m[I 2022-04-28 16:23:16,206]\u001b[0m Trial 531 finished with value: 0.38898406014503845 and parameters: {'iterations': 232, 'learning_rate': 0.0011587584310445273, 'l2_leaf_reg': 2.071352452047802, 'min_data_in_leaf': 61, 'random_strength': 7.601142537048014, 'bootstrap_type': 'Bayesian', 'grow_policy': 'Depthwise', 'leaf_estimation_method': 'Gradient', 'leaf_estimation_iterations': 4, 'fold_permutation_block': 4, 'depth': 1, 'bagging_temperature': 7.4274056036485465}. Best is trial 516 with value: 0.3872233394107583.\u001b[0m\n",
      "\u001b[32m[I 2022-04-28 16:23:16,792]\u001b[0m Trial 532 finished with value: 0.38726482408193436 and parameters: {'iterations': 222, 'learning_rate': 0.0010828381726167929, 'l2_leaf_reg': 1.9417588328659994, 'min_data_in_leaf': 64, 'random_strength': 7.504020310245616, 'bootstrap_type': 'Bayesian', 'grow_policy': 'Depthwise', 'leaf_estimation_method': 'Gradient', 'leaf_estimation_iterations': 4, 'fold_permutation_block': 3, 'depth': 1, 'bagging_temperature': 7.881218498217126}. Best is trial 516 with value: 0.3872233394107583.\u001b[0m\n",
      "\u001b[32m[I 2022-04-28 16:23:17,391]\u001b[0m Trial 533 finished with value: 0.39036813973622847 and parameters: {'iterations': 231, 'learning_rate': 0.0010806805827955714, 'l2_leaf_reg': 2.36190487377102, 'min_data_in_leaf': 56, 'random_strength': 8.074271831950918, 'bootstrap_type': 'Bayesian', 'grow_policy': 'Depthwise', 'leaf_estimation_method': 'Gradient', 'leaf_estimation_iterations': 4, 'fold_permutation_block': 3, 'depth': 1, 'bagging_temperature': 8.853654084328122}. Best is trial 516 with value: 0.3872233394107583.\u001b[0m\n",
      "\u001b[32m[I 2022-04-28 16:23:17,951]\u001b[0m Trial 534 finished with value: 0.3899990264569431 and parameters: {'iterations': 208, 'learning_rate': 0.00438305653054082, 'l2_leaf_reg': 2.505320529244386, 'min_data_in_leaf': 65, 'random_strength': 8.375637148911167, 'bootstrap_type': 'Bayesian', 'grow_policy': 'Depthwise', 'leaf_estimation_method': 'Gradient', 'leaf_estimation_iterations': 4, 'fold_permutation_block': 3, 'depth': 1, 'bagging_temperature': 7.803255683235811}. Best is trial 516 with value: 0.3872233394107583.\u001b[0m\n",
      "\u001b[32m[I 2022-04-28 16:23:18,577]\u001b[0m Trial 535 finished with value: 0.3940049449565392 and parameters: {'iterations': 218, 'learning_rate': 0.002766421823554163, 'l2_leaf_reg': 3.1219488697599287, 'min_data_in_leaf': 64, 'random_strength': 7.989485679750506, 'bootstrap_type': 'Bayesian', 'grow_policy': 'Depthwise', 'leaf_estimation_method': 'Gradient', 'leaf_estimation_iterations': 3, 'fold_permutation_block': 3, 'depth': 1, 'bagging_temperature': 7.518507205471276}. Best is trial 516 with value: 0.3872233394107583.\u001b[0m\n",
      "\u001b[32m[I 2022-04-28 16:23:19,277]\u001b[0m Trial 536 finished with value: 0.4343350557866063 and parameters: {'iterations': 221, 'learning_rate': 0.00103555970665018, 'l2_leaf_reg': 1.8315465047103088, 'min_data_in_leaf': 60, 'random_strength': 7.6741212043257905, 'bootstrap_type': 'Bayesian', 'grow_policy': 'Depthwise', 'leaf_estimation_method': 'Gradient', 'leaf_estimation_iterations': 4, 'fold_permutation_block': 3, 'depth': 2, 'bagging_temperature': 8.275371515179312}. Best is trial 516 with value: 0.3872233394107583.\u001b[0m\n",
      "\u001b[32m[I 2022-04-28 16:23:19,873]\u001b[0m Trial 537 finished with value: 0.3880588608454736 and parameters: {'iterations': 230, 'learning_rate': 0.001186269158522882, 'l2_leaf_reg': 1.5686960251849191, 'min_data_in_leaf': 55, 'random_strength': 7.556912151881338, 'bootstrap_type': 'Bayesian', 'grow_policy': 'Depthwise', 'leaf_estimation_method': 'Gradient', 'leaf_estimation_iterations': 4, 'fold_permutation_block': 3, 'depth': 1, 'bagging_temperature': 7.7623501043279095}. Best is trial 516 with value: 0.3872233394107583.\u001b[0m\n",
      "\u001b[32m[I 2022-04-28 16:23:20,474]\u001b[0m Trial 538 finished with value: 0.3884857193835181 and parameters: {'iterations': 232, 'learning_rate': 0.0031319190516649782, 'l2_leaf_reg': 1.5944279545125981, 'min_data_in_leaf': 52, 'random_strength': 8.252076474040077, 'bootstrap_type': 'Bayesian', 'grow_policy': 'Depthwise', 'leaf_estimation_method': 'Gradient', 'leaf_estimation_iterations': 4, 'fold_permutation_block': 3, 'depth': 1, 'bagging_temperature': 7.825981354608095}. Best is trial 516 with value: 0.3872233394107583.\u001b[0m\n",
      "\u001b[32m[I 2022-04-28 16:23:21,081]\u001b[0m Trial 539 finished with value: 0.3908016511038069 and parameters: {'iterations': 229, 'learning_rate': 0.006382578750892396, 'l2_leaf_reg': 2.2294852783433097, 'min_data_in_leaf': 55, 'random_strength': 7.50831852890427, 'bootstrap_type': 'Bayesian', 'grow_policy': 'Depthwise', 'leaf_estimation_method': 'Gradient', 'leaf_estimation_iterations': 4, 'fold_permutation_block': 3, 'depth': 1, 'bagging_temperature': 8.083396190676451}. Best is trial 516 with value: 0.3872233394107583.\u001b[0m\n",
      "\u001b[32m[I 2022-04-28 16:23:21,896]\u001b[0m Trial 540 finished with value: 0.3983116982032136 and parameters: {'iterations': 346, 'learning_rate': 0.004622288524345104, 'l2_leaf_reg': 1.517836131453032, 'min_data_in_leaf': 55, 'random_strength': 7.738478836273077, 'bootstrap_type': 'Bayesian', 'grow_policy': 'Depthwise', 'leaf_estimation_method': 'Gradient', 'leaf_estimation_iterations': 4, 'fold_permutation_block': 4, 'depth': 1, 'bagging_temperature': 7.342642865001148}. Best is trial 516 with value: 0.3872233394107583.\u001b[0m\n",
      "\u001b[32m[I 2022-04-28 16:23:22,478]\u001b[0m Trial 541 finished with value: 0.3871903373158665 and parameters: {'iterations': 224, 'learning_rate': 0.001035298314691741, 'l2_leaf_reg': 1.1903170175156643, 'min_data_in_leaf': 56, 'random_strength': 7.338594054609734, 'bootstrap_type': 'Bayesian', 'grow_policy': 'Depthwise', 'leaf_estimation_method': 'Gradient', 'leaf_estimation_iterations': 4, 'fold_permutation_block': 3, 'depth': 1, 'bagging_temperature': 7.84591774465243}. Best is trial 541 with value: 0.3871903373158665.\u001b[0m\n",
      "\u001b[32m[I 2022-04-28 16:23:23,089]\u001b[0m Trial 542 finished with value: 0.3884486463856052 and parameters: {'iterations': 233, 'learning_rate': 0.0010031154882464946, 'l2_leaf_reg': 0.810285536801179, 'min_data_in_leaf': 52, 'random_strength': 7.503636830746205, 'bootstrap_type': 'Bayesian', 'grow_policy': 'Depthwise', 'leaf_estimation_method': 'Gradient', 'leaf_estimation_iterations': 4, 'fold_permutation_block': 3, 'depth': 1, 'bagging_temperature': 8.057610635051006}. Best is trial 541 with value: 0.3871903373158665.\u001b[0m\n",
      "\u001b[32m[I 2022-04-28 16:23:23,693]\u001b[0m Trial 543 finished with value: 0.387540380611878 and parameters: {'iterations': 225, 'learning_rate': 0.0011428690755770638, 'l2_leaf_reg': 1.2174081118020663, 'min_data_in_leaf': 56, 'random_strength': 7.324191643137272, 'bootstrap_type': 'Bayesian', 'grow_policy': 'Depthwise', 'leaf_estimation_method': 'Gradient', 'leaf_estimation_iterations': 4, 'fold_permutation_block': 3, 'depth': 1, 'bagging_temperature': 7.84718969080455}. Best is trial 541 with value: 0.3871903373158665.\u001b[0m\n",
      "\u001b[32m[I 2022-04-28 16:23:24,279]\u001b[0m Trial 544 finished with value: 0.3903515668767621 and parameters: {'iterations': 234, 'learning_rate': 0.0030789796153247936, 'l2_leaf_reg': 1.1354213660120167, 'min_data_in_leaf': 54, 'random_strength': 7.898238324291782, 'bootstrap_type': 'Bayesian', 'grow_policy': 'Depthwise', 'leaf_estimation_method': 'Gradient', 'leaf_estimation_iterations': 4, 'fold_permutation_block': 3, 'depth': 1, 'bagging_temperature': 8.31494335590769}. Best is trial 541 with value: 0.3871903373158665.\u001b[0m\n",
      "\u001b[32m[I 2022-04-28 16:23:24,864]\u001b[0m Trial 545 finished with value: 0.3887307244598488 and parameters: {'iterations': 230, 'learning_rate': 0.002970843725268976, 'l2_leaf_reg': 1.2683342337555878, 'min_data_in_leaf': 56, 'random_strength': 7.75873913033007, 'bootstrap_type': 'Bayesian', 'grow_policy': 'Depthwise', 'leaf_estimation_method': 'Gradient', 'leaf_estimation_iterations': 4, 'fold_permutation_block': 3, 'depth': 1, 'bagging_temperature': 7.983009578125534}. Best is trial 541 with value: 0.3871903373158665.\u001b[0m\n",
      "\u001b[32m[I 2022-04-28 16:23:25,488]\u001b[0m Trial 546 finished with value: 0.38754882912860594 and parameters: {'iterations': 224, 'learning_rate': 0.0011661408122739093, 'l2_leaf_reg': 1.4832418534829273, 'min_data_in_leaf': 52, 'random_strength': 7.332228901645044, 'bootstrap_type': 'Bayesian', 'grow_policy': 'Depthwise', 'leaf_estimation_method': 'Gradient', 'leaf_estimation_iterations': 4, 'fold_permutation_block': 3, 'depth': 1, 'bagging_temperature': 7.868172649978882}. Best is trial 541 with value: 0.3871903373158665.\u001b[0m\n",
      "\u001b[32m[I 2022-04-28 16:23:26,158]\u001b[0m Trial 547 finished with value: 0.4359339266392088 and parameters: {'iterations': 225, 'learning_rate': 0.0011188627423838566, 'l2_leaf_reg': 0.7476114341636189, 'min_data_in_leaf': 52, 'random_strength': 7.404624834356021, 'bootstrap_type': 'Bayesian', 'grow_policy': 'Depthwise', 'leaf_estimation_method': 'Gradient', 'leaf_estimation_iterations': 4, 'fold_permutation_block': 3, 'depth': 2, 'bagging_temperature': 7.898611191613889}. Best is trial 541 with value: 0.3871903373158665.\u001b[0m\n",
      "\u001b[32m[I 2022-04-28 16:23:26,762]\u001b[0m Trial 548 finished with value: 0.391128132285361 and parameters: {'iterations': 234, 'learning_rate': 0.00494492622922002, 'l2_leaf_reg': 0.9803590467293102, 'min_data_in_leaf': 52, 'random_strength': 7.425959375515099, 'bootstrap_type': 'Bayesian', 'grow_policy': 'Depthwise', 'leaf_estimation_method': 'Gradient', 'leaf_estimation_iterations': 4, 'fold_permutation_block': 4, 'depth': 1, 'bagging_temperature': 8.642188349622531}. Best is trial 541 with value: 0.3871903373158665.\u001b[0m\n",
      "\u001b[32m[I 2022-04-28 16:23:27,368]\u001b[0m Trial 549 finished with value: 0.3895511828653029 and parameters: {'iterations': 225, 'learning_rate': 0.0010416163376077273, 'l2_leaf_reg': 1.2215548294910124, 'min_data_in_leaf': 53, 'random_strength': 7.289905697215777, 'bootstrap_type': 'Bayesian', 'grow_policy': 'Depthwise', 'leaf_estimation_method': 'Gradient', 'leaf_estimation_iterations': 4, 'fold_permutation_block': 3, 'depth': 1, 'bagging_temperature': 8.227044430018458}. Best is trial 541 with value: 0.3871903373158665.\u001b[0m\n",
      "\u001b[32m[I 2022-04-28 16:23:27,965]\u001b[0m Trial 550 finished with value: 0.44989576530984876 and parameters: {'iterations': 224, 'learning_rate': 0.0010274157205477405, 'l2_leaf_reg': 1.3813658808489564, 'min_data_in_leaf': 55, 'random_strength': 7.493405366109339, 'bootstrap_type': 'Bernoulli', 'grow_policy': 'Depthwise', 'leaf_estimation_method': 'Gradient', 'leaf_estimation_iterations': 4, 'fold_permutation_block': 3, 'depth': 1, 'subsample': 0.9992617914183699}. Best is trial 541 with value: 0.3871903373158665.\u001b[0m\n",
      "\u001b[32m[I 2022-04-28 16:23:28,597]\u001b[0m Trial 551 finished with value: 0.392232626584506 and parameters: {'iterations': 246, 'learning_rate': 0.0067217727628703546, 'l2_leaf_reg': 1.5659526356592222, 'min_data_in_leaf': 51, 'random_strength': 7.737226013502322, 'bootstrap_type': 'Bayesian', 'grow_policy': 'Depthwise', 'leaf_estimation_method': 'Gradient', 'leaf_estimation_iterations': 4, 'fold_permutation_block': 3, 'depth': 1, 'bagging_temperature': 7.783524417415833}. Best is trial 541 with value: 0.3871903373158665.\u001b[0m\n",
      "\u001b[32m[I 2022-04-28 16:23:29,193]\u001b[0m Trial 552 finished with value: 0.3882090167307722 and parameters: {'iterations': 235, 'learning_rate': 0.003080528722197184, 'l2_leaf_reg': 1.0093321330480483, 'min_data_in_leaf': 54, 'random_strength': 7.614882415891676, 'bootstrap_type': 'Bayesian', 'grow_policy': 'Depthwise', 'leaf_estimation_method': 'Gradient', 'leaf_estimation_iterations': 4, 'fold_permutation_block': 4, 'depth': 1, 'bagging_temperature': 7.794784868410553}. Best is trial 541 with value: 0.3871903373158665.\u001b[0m\n",
      "\u001b[32m[I 2022-04-28 16:23:29,803]\u001b[0m Trial 553 finished with value: 0.38891228789446947 and parameters: {'iterations': 223, 'learning_rate': 0.004596510458138402, 'l2_leaf_reg': 1.7127453441047682, 'min_data_in_leaf': 56, 'random_strength': 8.087981125749225, 'bootstrap_type': 'Bayesian', 'grow_policy': 'Depthwise', 'leaf_estimation_method': 'Gradient', 'leaf_estimation_iterations': 4, 'fold_permutation_block': 3, 'depth': 1, 'bagging_temperature': 8.021178093605412}. Best is trial 541 with value: 0.3871903373158665.\u001b[0m\n",
      "\u001b[32m[I 2022-04-28 16:23:30,390]\u001b[0m Trial 554 finished with value: 0.3905614187164718 and parameters: {'iterations': 208, 'learning_rate': 0.001082732541428325, 'l2_leaf_reg': 1.358679539366133, 'min_data_in_leaf': 53, 'random_strength': 7.276731089855086, 'bootstrap_type': 'Bayesian', 'grow_policy': 'Depthwise', 'leaf_estimation_method': 'Gradient', 'leaf_estimation_iterations': 4, 'fold_permutation_block': 3, 'depth': 1, 'bagging_temperature': 8.501374635383199}. Best is trial 541 with value: 0.3871903373158665.\u001b[0m\n",
      "\u001b[32m[I 2022-04-28 16:23:31,081]\u001b[0m Trial 555 finished with value: 0.3984672674776497 and parameters: {'iterations': 228, 'learning_rate': 0.019119800420117253, 'l2_leaf_reg': 1.4625091199813514, 'min_data_in_leaf': 55, 'random_strength': 8.392869067597589, 'bootstrap_type': 'Bayesian', 'grow_policy': 'Depthwise', 'leaf_estimation_method': 'Gradient', 'leaf_estimation_iterations': 4, 'fold_permutation_block': 3, 'depth': 1, 'bagging_temperature': 7.902871543789494}. Best is trial 541 with value: 0.3871903373158665.\u001b[0m\n",
      "\u001b[32m[I 2022-04-28 16:23:31,736]\u001b[0m Trial 556 finished with value: 0.39754246864306636 and parameters: {'iterations': 242, 'learning_rate': 0.0010070781096483284, 'l2_leaf_reg': 1.7635173736032683, 'min_data_in_leaf': 51, 'random_strength': 7.15014304309577, 'bootstrap_type': 'Bayesian', 'grow_policy': 'Depthwise', 'leaf_estimation_method': 'Gradient', 'leaf_estimation_iterations': 5, 'fold_permutation_block': 3, 'depth': 1, 'bagging_temperature': 8.183833977274515}. Best is trial 541 with value: 0.3871903373158665.\u001b[0m\n",
      "\u001b[32m[I 2022-04-28 16:23:32,387]\u001b[0m Trial 557 finished with value: 0.3878984268682007 and parameters: {'iterations': 220, 'learning_rate': 0.003130124535314564, 'l2_leaf_reg': 2.4907599197189283, 'min_data_in_leaf': 57, 'random_strength': 7.39569658356117, 'bootstrap_type': 'Bayesian', 'grow_policy': 'Depthwise', 'leaf_estimation_method': 'Gradient', 'leaf_estimation_iterations': 4, 'fold_permutation_block': 3, 'depth': 1, 'bagging_temperature': 7.7591854664580815}. Best is trial 541 with value: 0.3871903373158665.\u001b[0m\n",
      "\u001b[32m[I 2022-04-28 16:23:32,999]\u001b[0m Trial 558 finished with value: 0.39213870951497815 and parameters: {'iterations': 237, 'learning_rate': 0.006518653576749632, 'l2_leaf_reg': 1.1636541460267793, 'min_data_in_leaf': 57, 'random_strength': 7.402440226514446, 'bootstrap_type': 'Bayesian', 'grow_policy': 'Depthwise', 'leaf_estimation_method': 'Gradient', 'leaf_estimation_iterations': 4, 'fold_permutation_block': 3, 'depth': 1, 'bagging_temperature': 8.03596692798454}. Best is trial 541 with value: 0.3871903373158665.\u001b[0m\n",
      "\u001b[32m[I 2022-04-28 16:23:34,914]\u001b[0m Trial 559 finished with value: 0.5688933111493891 and parameters: {'iterations': 221, 'learning_rate': 0.0047553787434551804, 'l2_leaf_reg': 0.5428671371244154, 'min_data_in_leaf': 65, 'random_strength': 7.896877440980389, 'bootstrap_type': 'Bayesian', 'grow_policy': 'Depthwise', 'leaf_estimation_method': 'Gradient', 'leaf_estimation_iterations': 4, 'fold_permutation_block': 3, 'depth': 9, 'bagging_temperature': 7.646437309348257}. Best is trial 541 with value: 0.3871903373158665.\u001b[0m\n",
      "\u001b[32m[I 2022-04-28 16:23:35,522]\u001b[0m Trial 560 finished with value: 0.389931859897466 and parameters: {'iterations': 230, 'learning_rate': 0.0010330246197672085, 'l2_leaf_reg': 1.4025288048783568, 'min_data_in_leaf': 58, 'random_strength': 8.794469489743777, 'bootstrap_type': 'Bayesian', 'grow_policy': 'Depthwise', 'leaf_estimation_method': 'Gradient', 'leaf_estimation_iterations': 4, 'fold_permutation_block': 3, 'depth': 1, 'bagging_temperature': 8.39324745537239}. Best is trial 541 with value: 0.3871903373158665.\u001b[0m\n",
      "\u001b[32m[I 2022-04-28 16:23:36,095]\u001b[0m Trial 561 finished with value: 0.38928410517506523 and parameters: {'iterations': 220, 'learning_rate': 0.003312361841328962, 'l2_leaf_reg': 1.9155204671962505, 'min_data_in_leaf': 61, 'random_strength': 7.55371647930382, 'bootstrap_type': 'Bayesian', 'grow_policy': 'Depthwise', 'leaf_estimation_method': 'Gradient', 'leaf_estimation_iterations': 4, 'fold_permutation_block': 3, 'depth': 1, 'bagging_temperature': 8.18548186071012}. Best is trial 541 with value: 0.3871903373158665.\u001b[0m\n",
      "\u001b[32m[I 2022-04-28 16:23:36,728]\u001b[0m Trial 562 finished with value: 0.39111358588532 and parameters: {'iterations': 214, 'learning_rate': 0.006810256136301104, 'l2_leaf_reg': 1.597795110482409, 'min_data_in_leaf': 57, 'random_strength': 7.313699801858169, 'bootstrap_type': 'Bayesian', 'grow_policy': 'Depthwise', 'leaf_estimation_method': 'Gradient', 'leaf_estimation_iterations': 4, 'fold_permutation_block': 4, 'depth': 1, 'bagging_temperature': 7.743203490897394}. Best is trial 541 with value: 0.3871903373158665.\u001b[0m\n",
      "\u001b[32m[I 2022-04-28 16:23:37,391]\u001b[0m Trial 563 finished with value: 0.4336281925529737 and parameters: {'iterations': 227, 'learning_rate': 0.0010243334096533862, 'l2_leaf_reg': 2.3123129123976884, 'min_data_in_leaf': 64, 'random_strength': 7.7304175827616355, 'bootstrap_type': 'Bayesian', 'grow_policy': 'Depthwise', 'leaf_estimation_method': 'Gradient', 'leaf_estimation_iterations': 4, 'fold_permutation_block': 3, 'depth': 2, 'bagging_temperature': 7.903460029653907}. Best is trial 541 with value: 0.3871903373158665.\u001b[0m\n",
      "\u001b[32m[I 2022-04-28 16:23:37,968]\u001b[0m Trial 564 finished with value: 0.3895843392699294 and parameters: {'iterations': 235, 'learning_rate': 0.0031188100063212665, 'l2_leaf_reg': 2.643285549959457, 'min_data_in_leaf': 54, 'random_strength': 7.081534318473855, 'bootstrap_type': 'Bayesian', 'grow_policy': 'Depthwise', 'leaf_estimation_method': 'Gradient', 'leaf_estimation_iterations': 4, 'fold_permutation_block': 3, 'depth': 1, 'bagging_temperature': 7.57911385611133}. Best is trial 541 with value: 0.3871903373158665.\u001b[0m\n",
      "\u001b[32m[I 2022-04-28 16:23:38,597]\u001b[0m Trial 565 finished with value: 0.39051129255247097 and parameters: {'iterations': 218, 'learning_rate': 0.004724812283283367, 'l2_leaf_reg': 1.1074770109450158, 'min_data_in_leaf': 58, 'random_strength': 7.174326581697696, 'bootstrap_type': 'Bayesian', 'grow_policy': 'Depthwise', 'leaf_estimation_method': 'Gradient', 'leaf_estimation_iterations': 4, 'fold_permutation_block': 3, 'depth': 1, 'bagging_temperature': 8.137262493014735}. Best is trial 541 with value: 0.3871903373158665.\u001b[0m\n",
      "\u001b[32m[I 2022-04-28 16:23:39,172]\u001b[0m Trial 566 finished with value: 0.38758089606096185 and parameters: {'iterations': 212, 'learning_rate': 0.0010168443908054386, 'l2_leaf_reg': 0.23143639874444144, 'min_data_in_leaf': 56, 'random_strength': 7.342839963089228, 'bootstrap_type': 'Bayesian', 'grow_policy': 'Depthwise', 'leaf_estimation_method': 'Gradient', 'leaf_estimation_iterations': 4, 'fold_permutation_block': 3, 'depth': 1, 'bagging_temperature': 7.824306523924438}. Best is trial 541 with value: 0.3871903373158665.\u001b[0m\n",
      "\u001b[32m[I 2022-04-28 16:23:39,730]\u001b[0m Trial 567 finished with value: 0.38946828754944596 and parameters: {'iterations': 209, 'learning_rate': 0.003029632130815479, 'l2_leaf_reg': 0.19761582126790744, 'min_data_in_leaf': 53, 'random_strength': 7.385049134694769, 'bootstrap_type': 'Bayesian', 'grow_policy': 'Depthwise', 'leaf_estimation_method': 'Gradient', 'leaf_estimation_iterations': 4, 'fold_permutation_block': 3, 'depth': 1, 'bagging_temperature': 7.380581541200912}. Best is trial 541 with value: 0.3871903373158665.\u001b[0m\n",
      "\u001b[32m[I 2022-04-28 16:23:40,275]\u001b[0m Trial 568 finished with value: 0.44777191170525227 and parameters: {'iterations': 213, 'learning_rate': 0.005315824842018155, 'l2_leaf_reg': 2.4049475145051282, 'min_data_in_leaf': 56, 'random_strength': 7.632628740575649, 'bootstrap_type': 'Bayesian', 'grow_policy': 'Depthwise', 'leaf_estimation_method': 'Gradient', 'leaf_estimation_iterations': 4, 'fold_permutation_block': 3, 'depth': 1, 'bagging_temperature': 3.358021098044518}. Best is trial 541 with value: 0.3871903373158665.\u001b[0m\n",
      "\u001b[32m[I 2022-04-28 16:23:40,847]\u001b[0m Trial 569 finished with value: 0.3893595434379004 and parameters: {'iterations': 203, 'learning_rate': 0.001026497949808562, 'l2_leaf_reg': 0.5407963083834281, 'min_data_in_leaf': 51, 'random_strength': 7.100485502774212, 'bootstrap_type': 'Bayesian', 'grow_policy': 'Depthwise', 'leaf_estimation_method': 'Gradient', 'leaf_estimation_iterations': 4, 'fold_permutation_block': 3, 'depth': 1, 'bagging_temperature': 7.6230462517265645}. Best is trial 541 with value: 0.3871903373158665.\u001b[0m\n",
      "\u001b[32m[I 2022-04-28 16:23:41,470]\u001b[0m Trial 570 finished with value: 0.39508898629531286 and parameters: {'iterations': 220, 'learning_rate': 0.0030557746742179695, 'l2_leaf_reg': 0.15171949406929192, 'min_data_in_leaf': 55, 'random_strength': 7.38129555423252, 'bootstrap_type': 'Bayesian', 'grow_policy': 'Depthwise', 'leaf_estimation_method': 'Gradient', 'leaf_estimation_iterations': 3, 'fold_permutation_block': 3, 'depth': 1, 'bagging_temperature': 7.74741610205631}. Best is trial 541 with value: 0.3871903373158665.\u001b[0m\n",
      "\u001b[32m[I 2022-04-28 16:23:42,090]\u001b[0m Trial 571 finished with value: 0.4416906470627408 and parameters: {'iterations': 209, 'learning_rate': 0.006877691906598402, 'l2_leaf_reg': 2.1776262285439945, 'min_data_in_leaf': 56, 'random_strength': 7.556317990060484, 'bootstrap_type': 'Bayesian', 'grow_policy': 'Depthwise', 'leaf_estimation_method': 'Gradient', 'leaf_estimation_iterations': 4, 'fold_permutation_block': 3, 'depth': 2, 'bagging_temperature': 8.063234839430418}. Best is trial 541 with value: 0.3871903373158665.\u001b[0m\n",
      "\u001b[32m[I 2022-04-28 16:23:42,616]\u001b[0m Trial 572 finished with value: 0.39091306368184875 and parameters: {'iterations': 199, 'learning_rate': 0.004502329812598411, 'l2_leaf_reg': 2.7182706761107114, 'min_data_in_leaf': 58, 'random_strength': 7.102186423456105, 'bootstrap_type': 'Bayesian', 'grow_policy': 'Depthwise', 'leaf_estimation_method': 'Gradient', 'leaf_estimation_iterations': 4, 'fold_permutation_block': 3, 'depth': 1, 'bagging_temperature': 7.516513597942081}. Best is trial 541 with value: 0.3871903373158665.\u001b[0m\n",
      "\u001b[32m[I 2022-04-28 16:23:43,222]\u001b[0m Trial 573 finished with value: 0.3901081765914918 and parameters: {'iterations': 213, 'learning_rate': 0.0029297624896530722, 'l2_leaf_reg': 2.713976737564262, 'min_data_in_leaf': 53, 'random_strength': 7.017421749127414, 'bootstrap_type': 'Bayesian', 'grow_policy': 'Depthwise', 'leaf_estimation_method': 'Gradient', 'leaf_estimation_iterations': 4, 'fold_permutation_block': 3, 'depth': 1, 'bagging_temperature': 8.39149470122346}. Best is trial 541 with value: 0.3871903373158665.\u001b[0m\n",
      "\u001b[32m[I 2022-04-28 16:23:43,799]\u001b[0m Trial 574 finished with value: 0.3875001990680853 and parameters: {'iterations': 221, 'learning_rate': 0.0010372347373986642, 'l2_leaf_reg': 2.431407828126972, 'min_data_in_leaf': 59, 'random_strength': 7.417142235182512, 'bootstrap_type': 'Bayesian', 'grow_policy': 'Depthwise', 'leaf_estimation_method': 'Gradient', 'leaf_estimation_iterations': 4, 'fold_permutation_block': 3, 'depth': 1, 'bagging_temperature': 7.903695963907588}. Best is trial 541 with value: 0.3871903373158665.\u001b[0m\n",
      "\u001b[32m[I 2022-04-28 16:23:44,809]\u001b[0m Trial 575 finished with value: 0.5170042843559808 and parameters: {'iterations': 224, 'learning_rate': 0.002949506611810636, 'l2_leaf_reg': 2.5099300561851456, 'min_data_in_leaf': 59, 'random_strength': 7.24824895013668, 'bootstrap_type': 'Bayesian', 'grow_policy': 'Depthwise', 'leaf_estimation_method': 'Gradient', 'leaf_estimation_iterations': 5, 'fold_permutation_block': 3, 'depth': 4, 'bagging_temperature': 7.9161035237204285}. Best is trial 541 with value: 0.3871903373158665.\u001b[0m\n",
      "\u001b[32m[I 2022-04-28 16:23:45,417]\u001b[0m Trial 576 finished with value: 0.3872208780837855 and parameters: {'iterations': 221, 'learning_rate': 0.001097930435031287, 'l2_leaf_reg': 2.0782626534214312, 'min_data_in_leaf': 59, 'random_strength': 7.4667417396898434, 'bootstrap_type': 'Bayesian', 'grow_policy': 'Depthwise', 'leaf_estimation_method': 'Gradient', 'leaf_estimation_iterations': 4, 'fold_permutation_block': 3, 'depth': 1, 'bagging_temperature': 7.738724937519013}. Best is trial 541 with value: 0.3871903373158665.\u001b[0m\n",
      "\u001b[32m[I 2022-04-28 16:23:45,976]\u001b[0m Trial 577 finished with value: 0.4525236531862136 and parameters: {'iterations': 224, 'learning_rate': 0.0027191446644171634, 'l2_leaf_reg': 2.520159534134476, 'min_data_in_leaf': 58, 'random_strength': 7.590657061829925, 'bootstrap_type': 'Bernoulli', 'grow_policy': 'Depthwise', 'leaf_estimation_method': 'Gradient', 'leaf_estimation_iterations': 4, 'fold_permutation_block': 3, 'depth': 1, 'subsample': 0.726811523939627}. Best is trial 541 with value: 0.3871903373158665.\u001b[0m\n",
      "\u001b[32m[I 2022-04-28 16:23:46,605]\u001b[0m Trial 578 finished with value: 0.38807923751802886 and parameters: {'iterations': 236, 'learning_rate': 0.0011989203281731061, 'l2_leaf_reg': 2.1972050484606998, 'min_data_in_leaf': 56, 'random_strength': 7.501244941524742, 'bootstrap_type': 'Bayesian', 'grow_policy': 'Depthwise', 'leaf_estimation_method': 'Gradient', 'leaf_estimation_iterations': 4, 'fold_permutation_block': 3, 'depth': 1, 'bagging_temperature': 7.700389253912798}. Best is trial 541 with value: 0.3871903373158665.\u001b[0m\n",
      "\u001b[32m[I 2022-04-28 16:23:47,227]\u001b[0m Trial 579 finished with value: 0.3905607926101067 and parameters: {'iterations': 225, 'learning_rate': 0.00479893219664727, 'l2_leaf_reg': 2.109291754990476, 'min_data_in_leaf': 59, 'random_strength': 7.330235664393769, 'bootstrap_type': 'Bayesian', 'grow_policy': 'Depthwise', 'leaf_estimation_method': 'Gradient', 'leaf_estimation_iterations': 4, 'fold_permutation_block': 3, 'depth': 1, 'bagging_temperature': 8.20582226856583}. Best is trial 541 with value: 0.3871903373158665.\u001b[0m\n",
      "\u001b[32m[I 2022-04-28 16:23:48,030]\u001b[0m Trial 580 finished with value: 0.44353323906804887 and parameters: {'iterations': 249, 'learning_rate': 0.0011543056262243194, 'l2_leaf_reg': 2.3828629977733238, 'min_data_in_leaf': 57, 'random_strength': 7.798469074358173, 'bootstrap_type': 'Bayesian', 'grow_policy': 'Depthwise', 'leaf_estimation_method': 'Gradient', 'leaf_estimation_iterations': 4, 'fold_permutation_block': 3, 'depth': 2, 'bagging_temperature': 7.392492170290993}. Best is trial 541 with value: 0.3871903373158665.\u001b[0m\n",
      "\u001b[32m[I 2022-04-28 16:23:48,649]\u001b[0m Trial 581 finished with value: 0.38839814556648683 and parameters: {'iterations': 218, 'learning_rate': 0.0028239619012643815, 'l2_leaf_reg': 2.7819840227705157, 'min_data_in_leaf': 60, 'random_strength': 7.365207828417329, 'bootstrap_type': 'Bayesian', 'grow_policy': 'Depthwise', 'leaf_estimation_method': 'Gradient', 'leaf_estimation_iterations': 4, 'fold_permutation_block': 3, 'depth': 1, 'bagging_temperature': 7.776434586372899}. Best is trial 541 with value: 0.3871903373158665.\u001b[0m\n",
      "\u001b[32m[I 2022-04-28 16:23:49,201]\u001b[0m Trial 582 finished with value: 0.3904205372921374 and parameters: {'iterations': 206, 'learning_rate': 0.005237812741272701, 'l2_leaf_reg': 2.3361472316984906, 'min_data_in_leaf': 55, 'random_strength': 7.815758120480169, 'bootstrap_type': 'Bayesian', 'grow_policy': 'Depthwise', 'leaf_estimation_method': 'Gradient', 'leaf_estimation_iterations': 4, 'fold_permutation_block': 3, 'depth': 1, 'bagging_temperature': 7.515310976713275}. Best is trial 541 with value: 0.3871903373158665.\u001b[0m\n",
      "\u001b[32m[I 2022-04-28 16:23:49,862]\u001b[0m Trial 583 finished with value: 0.3892193178347021 and parameters: {'iterations': 231, 'learning_rate': 0.0027954792488357836, 'l2_leaf_reg': 2.5123448069639323, 'min_data_in_leaf': 57, 'random_strength': 7.5985002578020175, 'bootstrap_type': 'Bayesian', 'grow_policy': 'Depthwise', 'leaf_estimation_method': 'Gradient', 'leaf_estimation_iterations': 4, 'fold_permutation_block': 3, 'depth': 1, 'bagging_temperature': 8.042918468524077}. Best is trial 541 with value: 0.3871903373158665.\u001b[0m\n",
      "\u001b[32m[I 2022-04-28 16:23:50,434]\u001b[0m Trial 584 finished with value: 0.38743841270524065 and parameters: {'iterations': 220, 'learning_rate': 0.002784694417215886, 'l2_leaf_reg': 2.115624024705367, 'min_data_in_leaf': 63, 'random_strength': 9.850579978746406, 'bootstrap_type': 'Bayesian', 'grow_policy': 'Depthwise', 'leaf_estimation_method': 'Gradient', 'leaf_estimation_iterations': 4, 'fold_permutation_block': 3, 'depth': 1, 'bagging_temperature': 7.320805819712767}. Best is trial 541 with value: 0.3871903373158665.\u001b[0m\n",
      "\u001b[32m[I 2022-04-28 16:23:50,974]\u001b[0m Trial 585 finished with value: 0.39207975670457423 and parameters: {'iterations': 209, 'learning_rate': 0.007683107957019054, 'l2_leaf_reg': 2.0696572983395956, 'min_data_in_leaf': 66, 'random_strength': 7.183246825737448, 'bootstrap_type': 'Bayesian', 'grow_policy': 'Depthwise', 'leaf_estimation_method': 'Gradient', 'leaf_estimation_iterations': 4, 'fold_permutation_block': 3, 'depth': 1, 'bagging_temperature': 7.488855895601274}. Best is trial 541 with value: 0.3871903373158665.\u001b[0m\n",
      "\u001b[32m[I 2022-04-28 16:23:51,534]\u001b[0m Trial 586 finished with value: 0.3900388223105635 and parameters: {'iterations': 219, 'learning_rate': 0.0056242832717652395, 'l2_leaf_reg': 2.2446694583267472, 'min_data_in_leaf': 63, 'random_strength': 6.971723119144678, 'bootstrap_type': 'Bayesian', 'grow_policy': 'Depthwise', 'leaf_estimation_method': 'Gradient', 'leaf_estimation_iterations': 4, 'fold_permutation_block': 3, 'depth': 1, 'bagging_temperature': 7.307039562675246}. Best is trial 541 with value: 0.3871903373158665.\u001b[0m\n",
      "\u001b[32m[I 2022-04-28 16:23:52,103]\u001b[0m Trial 587 finished with value: 0.3892282936663442 and parameters: {'iterations': 197, 'learning_rate': 0.0011755179567489867, 'l2_leaf_reg': 2.714822170377825, 'min_data_in_leaf': 63, 'random_strength': 9.872811933698896, 'bootstrap_type': 'Bayesian', 'grow_policy': 'Depthwise', 'leaf_estimation_method': 'Gradient', 'leaf_estimation_iterations': 4, 'fold_permutation_block': 3, 'depth': 1, 'bagging_temperature': 7.3493649158097405}. Best is trial 541 with value: 0.3871903373158665.\u001b[0m\n",
      "\u001b[32m[I 2022-04-28 16:23:52,757]\u001b[0m Trial 588 finished with value: 0.500668156339357 and parameters: {'iterations': 216, 'learning_rate': 0.0044698886943448654, 'l2_leaf_reg': 2.4691747317688257, 'min_data_in_leaf': 61, 'random_strength': 7.200980970495706, 'bootstrap_type': 'Bayesian', 'grow_policy': 'Depthwise', 'leaf_estimation_method': 'Gradient', 'leaf_estimation_iterations': 4, 'fold_permutation_block': 3, 'depth': 2, 'bagging_temperature': 2.3624034936203033}. Best is trial 541 with value: 0.3871903373158665.\u001b[0m\n",
      "\u001b[32m[I 2022-04-28 16:23:53,303]\u001b[0m Trial 589 finished with value: 0.38969665833746786 and parameters: {'iterations': 205, 'learning_rate': 0.00264453949298756, 'l2_leaf_reg': 2.8722096634346648, 'min_data_in_leaf': 64, 'random_strength': 7.035247920231481, 'bootstrap_type': 'Bayesian', 'grow_policy': 'Depthwise', 'leaf_estimation_method': 'Gradient', 'leaf_estimation_iterations': 4, 'fold_permutation_block': 3, 'depth': 1, 'bagging_temperature': 7.553840700373948}. Best is trial 541 with value: 0.3871903373158665.\u001b[0m\n",
      "\u001b[32m[I 2022-04-28 16:23:53,899]\u001b[0m Trial 590 finished with value: 0.41377016377829595 and parameters: {'iterations': 212, 'learning_rate': 0.007181906153292472, 'l2_leaf_reg': 0.8560673330279995, 'min_data_in_leaf': 62, 'random_strength': 7.237926856317528, 'bootstrap_type': 'Bayesian', 'grow_policy': 'Depthwise', 'leaf_estimation_method': 'Gradient', 'leaf_estimation_iterations': 4, 'fold_permutation_block': 3, 'depth': 1, 'bagging_temperature': 4.546586704667824}. Best is trial 541 with value: 0.3871903373158665.\u001b[0m\n",
      "\u001b[32m[I 2022-04-28 16:23:54,778]\u001b[0m Trial 591 finished with value: 0.39299182716161773 and parameters: {'iterations': 362, 'learning_rate': 0.001036431353845323, 'l2_leaf_reg': 2.0443536512334077, 'min_data_in_leaf': 66, 'random_strength': 9.229197885467885, 'bootstrap_type': 'Bayesian', 'grow_policy': 'Depthwise', 'leaf_estimation_method': 'Gradient', 'leaf_estimation_iterations': 4, 'fold_permutation_block': 3, 'depth': 1, 'bagging_temperature': 7.65847437872537}. Best is trial 541 with value: 0.3871903373158665.\u001b[0m\n",
      "\u001b[32m[I 2022-04-28 16:23:55,360]\u001b[0m Trial 592 finished with value: 0.3888000952465133 and parameters: {'iterations': 224, 'learning_rate': 0.004363194879824075, 'l2_leaf_reg': 2.256694464719441, 'min_data_in_leaf': 59, 'random_strength': 7.41156467079511, 'bootstrap_type': 'Bayesian', 'grow_policy': 'Depthwise', 'leaf_estimation_method': 'Gradient', 'leaf_estimation_iterations': 4, 'fold_permutation_block': 3, 'depth': 1, 'bagging_temperature': 7.2547833652036555}. Best is trial 541 with value: 0.3871903373158665.\u001b[0m\n",
      "\u001b[32m[I 2022-04-28 16:23:55,885]\u001b[0m Trial 593 finished with value: 0.38957337269153247 and parameters: {'iterations': 201, 'learning_rate': 0.002841556186919398, 'l2_leaf_reg': 2.6526752992209417, 'min_data_in_leaf': 60, 'random_strength': 7.08791444859567, 'bootstrap_type': 'Bayesian', 'grow_policy': 'Depthwise', 'leaf_estimation_method': 'Gradient', 'leaf_estimation_iterations': 4, 'fold_permutation_block': 3, 'depth': 1, 'bagging_temperature': 7.9668429729370995}. Best is trial 541 with value: 0.3871903373158665.\u001b[0m\n",
      "\u001b[32m[I 2022-04-28 16:23:56,515]\u001b[0m Trial 594 finished with value: 0.3879728766210211 and parameters: {'iterations': 241, 'learning_rate': 0.0010276771071452157, 'l2_leaf_reg': 0.27263083441178626, 'min_data_in_leaf': 63, 'random_strength': 7.322365364618772, 'bootstrap_type': 'Bayesian', 'grow_policy': 'Depthwise', 'leaf_estimation_method': 'Gradient', 'leaf_estimation_iterations': 4, 'fold_permutation_block': 4, 'depth': 1, 'bagging_temperature': 7.828370386353231}. Best is trial 541 with value: 0.3871903373158665.\u001b[0m\n",
      "\u001b[32m[I 2022-04-28 16:23:57,121]\u001b[0m Trial 595 finished with value: 0.3903202541202921 and parameters: {'iterations': 220, 'learning_rate': 0.005073193245277443, 'l2_leaf_reg': 2.958020626184015, 'min_data_in_leaf': 58, 'random_strength': 9.428245849561591, 'bootstrap_type': 'Bayesian', 'grow_policy': 'Depthwise', 'leaf_estimation_method': 'Gradient', 'leaf_estimation_iterations': 4, 'fold_permutation_block': 3, 'depth': 1, 'bagging_temperature': 8.289597097192994}. Best is trial 541 with value: 0.3871903373158665.\u001b[0m\n",
      "\u001b[32m[I 2022-04-28 16:23:57,624]\u001b[0m Trial 596 finished with value: 0.3892080870295484 and parameters: {'iterations': 193, 'learning_rate': 0.0029248914812424476, 'l2_leaf_reg': 2.3341122660386446, 'min_data_in_leaf': 61, 'random_strength': 6.9390863105174425, 'bootstrap_type': 'Bayesian', 'grow_policy': 'Depthwise', 'leaf_estimation_method': 'Gradient', 'leaf_estimation_iterations': 4, 'fold_permutation_block': 3, 'depth': 1, 'bagging_temperature': 7.32662648159205}. Best is trial 541 with value: 0.3871903373158665.\u001b[0m\n",
      "\u001b[32m[I 2022-04-28 16:23:58,260]\u001b[0m Trial 597 finished with value: 0.4399505024053619 and parameters: {'iterations': 211, 'learning_rate': 0.00610671716828203, 'l2_leaf_reg': 4.12760276423286, 'min_data_in_leaf': 59, 'random_strength': 7.021927953198778, 'bootstrap_type': 'Bayesian', 'grow_policy': 'Depthwise', 'leaf_estimation_method': 'Gradient', 'leaf_estimation_iterations': 4, 'fold_permutation_block': 3, 'depth': 2, 'bagging_temperature': 7.650326241298425}. Best is trial 541 with value: 0.3871903373158665.\u001b[0m\n",
      "\u001b[32m[I 2022-04-28 16:23:58,936]\u001b[0m Trial 598 finished with value: 0.38918536502593004 and parameters: {'iterations': 225, 'learning_rate': 0.003053895038063773, 'l2_leaf_reg': 2.5622385348013754, 'min_data_in_leaf': 57, 'random_strength': 7.429635630718085, 'bootstrap_type': 'Bayesian', 'grow_policy': 'Depthwise', 'leaf_estimation_method': 'Gradient', 'leaf_estimation_iterations': 4, 'fold_permutation_block': 3, 'depth': 1, 'bagging_temperature': 8.112770649108434}. Best is trial 541 with value: 0.3871903373158665.\u001b[0m\n",
      "\u001b[32m[I 2022-04-28 16:23:59,525]\u001b[0m Trial 599 finished with value: 0.3872232523499086 and parameters: {'iterations': 217, 'learning_rate': 0.0011891588377742185, 'l2_leaf_reg': 3.053995456755094, 'min_data_in_leaf': 66, 'random_strength': 6.839616460854265, 'bootstrap_type': 'Bayesian', 'grow_policy': 'Depthwise', 'leaf_estimation_method': 'Gradient', 'leaf_estimation_iterations': 4, 'fold_permutation_block': 3, 'depth': 1, 'bagging_temperature': 7.868438546247918}. Best is trial 541 with value: 0.3871903373158665.\u001b[0m\n",
      "\u001b[32m[I 2022-04-28 16:24:00,120]\u001b[0m Trial 600 finished with value: 0.38783132477859766 and parameters: {'iterations': 233, 'learning_rate': 0.0010891964899802436, 'l2_leaf_reg': 3.072196076851751, 'min_data_in_leaf': 65, 'random_strength': 7.211458987611811, 'bootstrap_type': 'Bayesian', 'grow_policy': 'Depthwise', 'leaf_estimation_method': 'Gradient', 'leaf_estimation_iterations': 4, 'fold_permutation_block': 3, 'depth': 1, 'bagging_temperature': 7.84979744646375}. Best is trial 541 with value: 0.3871903373158665.\u001b[0m\n",
      "\u001b[32m[I 2022-04-28 16:24:00,750]\u001b[0m Trial 601 finished with value: 0.38800515599207697 and parameters: {'iterations': 236, 'learning_rate': 0.0010208059219623685, 'l2_leaf_reg': 3.150409539415244, 'min_data_in_leaf': 65, 'random_strength': 6.963313340488053, 'bootstrap_type': 'Bayesian', 'grow_policy': 'Depthwise', 'leaf_estimation_method': 'Gradient', 'leaf_estimation_iterations': 4, 'fold_permutation_block': 4, 'depth': 1, 'bagging_temperature': 7.946205311799244}. Best is trial 541 with value: 0.3871903373158665.\u001b[0m\n",
      "\u001b[32m[I 2022-04-28 16:24:01,419]\u001b[0m Trial 602 finished with value: 0.3888179544656063 and parameters: {'iterations': 230, 'learning_rate': 0.001039737054365834, 'l2_leaf_reg': 3.1599673161410773, 'min_data_in_leaf': 67, 'random_strength': 9.531337680644864, 'bootstrap_type': 'Bayesian', 'grow_policy': 'Depthwise', 'leaf_estimation_method': 'Gradient', 'leaf_estimation_iterations': 4, 'fold_permutation_block': 3, 'depth': 1, 'bagging_temperature': 8.170924483695174}. Best is trial 541 with value: 0.3871903373158665.\u001b[0m\n",
      "\u001b[32m[I 2022-04-28 16:24:02,080]\u001b[0m Trial 603 finished with value: 0.3884848713691722 and parameters: {'iterations': 242, 'learning_rate': 0.0011302422570163679, 'l2_leaf_reg': 3.366061335266565, 'min_data_in_leaf': 65, 'random_strength': 7.194669455502065, 'bootstrap_type': 'Bayesian', 'grow_policy': 'Depthwise', 'leaf_estimation_method': 'Gradient', 'leaf_estimation_iterations': 4, 'fold_permutation_block': 3, 'depth': 1, 'bagging_temperature': 7.5741241269018165}. Best is trial 541 with value: 0.3871903373158665.\u001b[0m\n",
      "\u001b[32m[I 2022-04-28 16:24:02,663]\u001b[0m Trial 604 finished with value: 0.4328704231727661 and parameters: {'iterations': 227, 'learning_rate': 0.09672609929141576, 'l2_leaf_reg': 3.0783087889300864, 'min_data_in_leaf': 65, 'random_strength': 6.8334059393290145, 'bootstrap_type': 'Bayesian', 'grow_policy': 'Depthwise', 'leaf_estimation_method': 'Gradient', 'leaf_estimation_iterations': 4, 'fold_permutation_block': 3, 'depth': 1, 'bagging_temperature': 7.888756736882198}. Best is trial 541 with value: 0.3871903373158665.\u001b[0m\n",
      "\u001b[32m[I 2022-04-28 16:24:03,288]\u001b[0m Trial 605 finished with value: 0.3906979892551181 and parameters: {'iterations': 233, 'learning_rate': 0.001153312334129883, 'l2_leaf_reg': 2.8100300049574156, 'min_data_in_leaf': 67, 'random_strength': 7.097808525671775, 'bootstrap_type': 'Bayesian', 'grow_policy': 'Depthwise', 'leaf_estimation_method': 'Gradient', 'leaf_estimation_iterations': 4, 'fold_permutation_block': 3, 'depth': 1, 'bagging_temperature': 8.489620549893091}. Best is trial 541 with value: 0.3871903373158665.\u001b[0m\n",
      "\u001b[32m[I 2022-04-28 16:24:03,871]\u001b[0m Trial 606 finished with value: 0.4543646180616534 and parameters: {'iterations': 216, 'learning_rate': 0.0010137086274768082, 'l2_leaf_reg': 3.140039020448654, 'min_data_in_leaf': 63, 'random_strength': 6.80453497831589, 'bootstrap_type': 'Bernoulli', 'grow_policy': 'Depthwise', 'leaf_estimation_method': 'Gradient', 'leaf_estimation_iterations': 4, 'fold_permutation_block': 3, 'depth': 1, 'subsample': 0.4951950715051083}. Best is trial 541 with value: 0.3871903373158665.\u001b[0m\n",
      "\u001b[32m[I 2022-04-28 16:24:04,470]\u001b[0m Trial 607 finished with value: 0.38900217159509 and parameters: {'iterations': 223, 'learning_rate': 0.004032834307888721, 'l2_leaf_reg': 2.911035723808851, 'min_data_in_leaf': 67, 'random_strength': 7.289734498046829, 'bootstrap_type': 'Bayesian', 'grow_policy': 'Depthwise', 'leaf_estimation_method': 'Gradient', 'leaf_estimation_iterations': 4, 'fold_permutation_block': 3, 'depth': 1, 'bagging_temperature': 8.045352274941544}. Best is trial 541 with value: 0.3871903373158665.\u001b[0m\n",
      "\u001b[32m[I 2022-04-28 16:24:05,031]\u001b[0m Trial 608 finished with value: 0.390023385409072 and parameters: {'iterations': 203, 'learning_rate': 0.0028007013149912293, 'l2_leaf_reg': 0.44331718501966977, 'min_data_in_leaf': 64, 'random_strength': 6.915180817910843, 'bootstrap_type': 'Bayesian', 'grow_policy': 'Depthwise', 'leaf_estimation_method': 'Gradient', 'leaf_estimation_iterations': 4, 'fold_permutation_block': 3, 'depth': 1, 'bagging_temperature': 7.73021147207394}. Best is trial 541 with value: 0.3871903373158665.\u001b[0m\n",
      "\u001b[32m[I 2022-04-28 16:24:05,776]\u001b[0m Trial 609 finished with value: 0.3888367638745376 and parameters: {'iterations': 241, 'learning_rate': 0.0012140981179878866, 'l2_leaf_reg': 2.9761083177366765, 'min_data_in_leaf': 63, 'random_strength': 7.611956628192685, 'bootstrap_type': 'Bayesian', 'grow_policy': 'Depthwise', 'leaf_estimation_method': 'Gradient', 'leaf_estimation_iterations': 4, 'fold_permutation_block': 3, 'depth': 1, 'bagging_temperature': 7.495554563798061}. Best is trial 541 with value: 0.3871903373158665.\u001b[0m\n",
      "\u001b[32m[I 2022-04-28 16:24:06,361]\u001b[0m Trial 610 finished with value: 0.38946131975635834 and parameters: {'iterations': 217, 'learning_rate': 0.004587572054729152, 'l2_leaf_reg': 3.44477480453663, 'min_data_in_leaf': 66, 'random_strength': 9.046231357891179, 'bootstrap_type': 'Bayesian', 'grow_policy': 'Depthwise', 'leaf_estimation_method': 'Gradient', 'leaf_estimation_iterations': 4, 'fold_permutation_block': 3, 'depth': 1, 'bagging_temperature': 7.834734640459571}. Best is trial 541 with value: 0.3871903373158665.\u001b[0m\n",
      "\u001b[32m[I 2022-04-28 16:24:07,034]\u001b[0m Trial 611 finished with value: 0.43289349289891726 and parameters: {'iterations': 228, 'learning_rate': 0.001153423445771419, 'l2_leaf_reg': 3.824984656674717, 'min_data_in_leaf': 61, 'random_strength': 9.726105051501584, 'bootstrap_type': 'Bayesian', 'grow_policy': 'Depthwise', 'leaf_estimation_method': 'Gradient', 'leaf_estimation_iterations': 4, 'fold_permutation_block': 4, 'depth': 2, 'bagging_temperature': 8.256802297387559}. Best is trial 541 with value: 0.3871903373158665.\u001b[0m\n",
      "\u001b[32m[I 2022-04-28 16:24:07,572]\u001b[0m Trial 612 finished with value: 0.39383948362966287 and parameters: {'iterations': 208, 'learning_rate': 0.0011436489282969343, 'l2_leaf_reg': 2.7994377760288502, 'min_data_in_leaf': 62, 'random_strength': 7.140859750834945, 'bootstrap_type': 'Bayesian', 'grow_policy': 'Depthwise', 'leaf_estimation_method': 'Gradient', 'leaf_estimation_iterations': 3, 'fold_permutation_block': 3, 'depth': 1, 'bagging_temperature': 8.005954773672896}. Best is trial 541 with value: 0.3871903373158665.\u001b[0m\n",
      "\u001b[32m[I 2022-04-28 16:24:08,232]\u001b[0m Trial 613 finished with value: 0.3872536737347007 and parameters: {'iterations': 221, 'learning_rate': 0.0010075188853203403, 'l2_leaf_reg': 2.67510581575871, 'min_data_in_leaf': 64, 'random_strength': 6.668199118876842, 'bootstrap_type': 'Bayesian', 'grow_policy': 'Depthwise', 'leaf_estimation_method': 'Gradient', 'leaf_estimation_iterations': 4, 'fold_permutation_block': 3, 'depth': 1, 'bagging_temperature': 7.3263933894902245}. Best is trial 541 with value: 0.3871903373158665.\u001b[0m\n",
      "\u001b[32m[I 2022-04-28 16:24:08,834]\u001b[0m Trial 614 finished with value: 0.38798719711448154 and parameters: {'iterations': 235, 'learning_rate': 0.0010403227033604849, 'l2_leaf_reg': 2.7969328604599926, 'min_data_in_leaf': 67, 'random_strength': 6.665716988667228, 'bootstrap_type': 'Bayesian', 'grow_policy': 'Depthwise', 'leaf_estimation_method': 'Gradient', 'leaf_estimation_iterations': 4, 'fold_permutation_block': 3, 'depth': 1, 'bagging_temperature': 7.332301291316588}. Best is trial 541 with value: 0.3871903373158665.\u001b[0m\n",
      "\u001b[32m[I 2022-04-28 16:24:09,472]\u001b[0m Trial 615 finished with value: 0.38911279836733925 and parameters: {'iterations': 248, 'learning_rate': 0.001044590334194749, 'l2_leaf_reg': 2.6618152590187836, 'min_data_in_leaf': 65, 'random_strength': 6.734903389908629, 'bootstrap_type': 'Bayesian', 'grow_policy': 'Depthwise', 'leaf_estimation_method': 'Gradient', 'leaf_estimation_iterations': 4, 'fold_permutation_block': 3, 'depth': 1, 'bagging_temperature': 7.624465138784107}. Best is trial 541 with value: 0.3871903373158665.\u001b[0m\n",
      "\u001b[32m[I 2022-04-28 16:24:10,069]\u001b[0m Trial 616 finished with value: 0.3891827240160602 and parameters: {'iterations': 224, 'learning_rate': 0.004449853942809721, 'l2_leaf_reg': 3.0319315274371483, 'min_data_in_leaf': 64, 'random_strength': 6.272374972873257, 'bootstrap_type': 'Bayesian', 'grow_policy': 'Depthwise', 'leaf_estimation_method': 'Gradient', 'leaf_estimation_iterations': 4, 'fold_permutation_block': 3, 'depth': 1, 'bagging_temperature': 7.4580885094315486}. Best is trial 541 with value: 0.3871903373158665.\u001b[0m\n",
      "\u001b[32m[I 2022-04-28 16:24:10,673]\u001b[0m Trial 617 finished with value: 0.38736023334050723 and parameters: {'iterations': 233, 'learning_rate': 0.0010433513301658863, 'l2_leaf_reg': 2.611419211859824, 'min_data_in_leaf': 67, 'random_strength': 6.474256249551653, 'bootstrap_type': 'Bayesian', 'grow_policy': 'Depthwise', 'leaf_estimation_method': 'Gradient', 'leaf_estimation_iterations': 4, 'fold_permutation_block': 3, 'depth': 1, 'bagging_temperature': 7.265255138612648}. Best is trial 541 with value: 0.3871903373158665.\u001b[0m\n",
      "\u001b[32m[I 2022-04-28 16:24:11,295]\u001b[0m Trial 618 finished with value: 0.3888250794347797 and parameters: {'iterations': 249, 'learning_rate': 0.001044231310413219, 'l2_leaf_reg': 2.4264599638192306, 'min_data_in_leaf': 68, 'random_strength': 7.721915354505525, 'bootstrap_type': 'Bayesian', 'grow_policy': 'Depthwise', 'leaf_estimation_method': 'Gradient', 'leaf_estimation_iterations': 4, 'fold_permutation_block': 3, 'depth': 1, 'bagging_temperature': 7.241335410616998}. Best is trial 541 with value: 0.3871903373158665.\u001b[0m\n",
      "\u001b[32m[I 2022-04-28 16:24:11,921]\u001b[0m Trial 619 finished with value: 0.39130314828482876 and parameters: {'iterations': 240, 'learning_rate': 0.007322855399891843, 'l2_leaf_reg': 2.633157629103371, 'min_data_in_leaf': 67, 'random_strength': 6.237405542909001, 'bootstrap_type': 'Bayesian', 'grow_policy': 'Depthwise', 'leaf_estimation_method': 'Gradient', 'leaf_estimation_iterations': 4, 'fold_permutation_block': 3, 'depth': 1, 'bagging_temperature': 7.203109055601185}. Best is trial 541 with value: 0.3871903373158665.\u001b[0m\n",
      "\u001b[32m[I 2022-04-28 16:24:12,625]\u001b[0m Trial 620 finished with value: 0.38925946271143247 and parameters: {'iterations': 234, 'learning_rate': 0.003111450220715184, 'l2_leaf_reg': 2.1494610175393336, 'min_data_in_leaf': 65, 'random_strength': 6.45891902852102, 'bootstrap_type': 'Bayesian', 'grow_policy': 'Depthwise', 'leaf_estimation_method': 'Gradient', 'leaf_estimation_iterations': 4, 'fold_permutation_block': 3, 'depth': 1, 'bagging_temperature': 7.6058601065612725}. Best is trial 541 with value: 0.3871903373158665.\u001b[0m\n",
      "\u001b[32m[I 2022-04-28 16:24:13,355]\u001b[0m Trial 621 finished with value: 0.44275709218958986 and parameters: {'iterations': 231, 'learning_rate': 0.00562957899190621, 'l2_leaf_reg': 2.620095297526722, 'min_data_in_leaf': 66, 'random_strength': 7.412483782854233, 'bootstrap_type': 'Bayesian', 'grow_policy': 'Depthwise', 'leaf_estimation_method': 'Gradient', 'leaf_estimation_iterations': 4, 'fold_permutation_block': 4, 'depth': 2, 'bagging_temperature': 7.433630698703537}. Best is trial 541 with value: 0.3871903373158665.\u001b[0m\n",
      "\u001b[32m[I 2022-04-28 16:24:13,970]\u001b[0m Trial 622 finished with value: 0.3878409512195396 and parameters: {'iterations': 245, 'learning_rate': 0.001023079187809164, 'l2_leaf_reg': 2.889053109422782, 'min_data_in_leaf': 64, 'random_strength': 7.251990223721435, 'bootstrap_type': 'Bayesian', 'grow_policy': 'Depthwise', 'leaf_estimation_method': 'Gradient', 'leaf_estimation_iterations': 4, 'fold_permutation_block': 3, 'depth': 1, 'bagging_temperature': 7.846155987423355}. Best is trial 541 with value: 0.3871903373158665.\u001b[0m\n",
      "\u001b[32m[I 2022-04-28 16:24:14,719]\u001b[0m Trial 623 finished with value: 0.3880731360728183 and parameters: {'iterations': 245, 'learning_rate': 0.0010499674130687244, 'l2_leaf_reg': 3.3578718982991873, 'min_data_in_leaf': 66, 'random_strength': 7.253755568832904, 'bootstrap_type': 'Bayesian', 'grow_policy': 'Depthwise', 'leaf_estimation_method': 'Gradient', 'leaf_estimation_iterations': 4, 'fold_permutation_block': 3, 'depth': 1, 'bagging_temperature': 7.7834985251386675}. Best is trial 541 with value: 0.3871903373158665.\u001b[0m\n",
      "\u001b[32m[I 2022-04-28 16:24:15,369]\u001b[0m Trial 624 finished with value: 0.3994836497003114 and parameters: {'iterations': 242, 'learning_rate': 0.0033271277099739356, 'l2_leaf_reg': 3.0464777938241947, 'min_data_in_leaf': 68, 'random_strength': 7.908651163122705, 'bootstrap_type': 'Bayesian', 'grow_policy': 'Depthwise', 'leaf_estimation_method': 'Gradient', 'leaf_estimation_iterations': 5, 'fold_permutation_block': 3, 'depth': 1, 'bagging_temperature': 7.888784306647605}. Best is trial 541 with value: 0.3871903373158665.\u001b[0m\n",
      "\u001b[32m[I 2022-04-28 16:24:16,488]\u001b[0m Trial 625 finished with value: 0.5369978357329233 and parameters: {'iterations': 236, 'learning_rate': 0.0030960910808004467, 'l2_leaf_reg': 2.9355339624974444, 'min_data_in_leaf': 65, 'random_strength': 7.496393109601765, 'bootstrap_type': 'Bayesian', 'grow_policy': 'Depthwise', 'leaf_estimation_method': 'Gradient', 'leaf_estimation_iterations': 4, 'fold_permutation_block': 3, 'depth': 5, 'bagging_temperature': 7.630414406669497}. Best is trial 541 with value: 0.3871903373158665.\u001b[0m\n",
      "\u001b[32m[I 2022-04-28 16:24:17,151]\u001b[0m Trial 626 finished with value: 0.3992316617098984 and parameters: {'iterations': 231, 'learning_rate': 0.02254825972568193, 'l2_leaf_reg': 3.2342427324517127, 'min_data_in_leaf': 65, 'random_strength': 7.080193880030244, 'bootstrap_type': 'Bayesian', 'grow_policy': 'Depthwise', 'leaf_estimation_method': 'Gradient', 'leaf_estimation_iterations': 4, 'fold_permutation_block': 3, 'depth': 1, 'bagging_temperature': 8.144047816631783}. Best is trial 541 with value: 0.3871903373158665.\u001b[0m\n",
      "\u001b[32m[I 2022-04-28 16:24:17,930]\u001b[0m Trial 627 finished with value: 0.4436889317210356 and parameters: {'iterations': 256, 'learning_rate': 0.005359279229147145, 'l2_leaf_reg': 2.8373946794111564, 'min_data_in_leaf': 62, 'random_strength': 7.702165513939759, 'bootstrap_type': 'Bayesian', 'grow_policy': 'Depthwise', 'leaf_estimation_method': 'Gradient', 'leaf_estimation_iterations': 4, 'fold_permutation_block': 3, 'depth': 2, 'bagging_temperature': 8.373092787230947}. Best is trial 541 with value: 0.3871903373158665.\u001b[0m\n",
      "\u001b[32m[I 2022-04-28 16:24:18,529]\u001b[0m Trial 628 finished with value: 0.3884867812244815 and parameters: {'iterations': 240, 'learning_rate': 0.0010187859991576584, 'l2_leaf_reg': 1.9438095953295915, 'min_data_in_leaf': 63, 'random_strength': 0.7053237089636148, 'bootstrap_type': 'Bayesian', 'grow_policy': 'Depthwise', 'leaf_estimation_method': 'Gradient', 'leaf_estimation_iterations': 4, 'fold_permutation_block': 3, 'depth': 1, 'bagging_temperature': 7.279284716498077}. Best is trial 541 with value: 0.3871903373158665.\u001b[0m\n",
      "\u001b[32m[I 2022-04-28 16:24:19,233]\u001b[0m Trial 629 finished with value: 0.39032607900628974 and parameters: {'iterations': 258, 'learning_rate': 0.0010214720238607283, 'l2_leaf_reg': 2.397786015970974, 'min_data_in_leaf': 68, 'random_strength': 7.521763318641412, 'bootstrap_type': 'Bayesian', 'grow_policy': 'Depthwise', 'leaf_estimation_method': 'Gradient', 'leaf_estimation_iterations': 4, 'fold_permutation_block': 4, 'depth': 1, 'bagging_temperature': 7.746386049938079}. Best is trial 541 with value: 0.3871903373158665.\u001b[0m\n",
      "\u001b[32m[I 2022-04-28 16:24:19,876]\u001b[0m Trial 630 finished with value: 0.393755047377736 and parameters: {'iterations': 249, 'learning_rate': 0.008239558206823571, 'l2_leaf_reg': 2.685038643938322, 'min_data_in_leaf': 63, 'random_strength': 7.317012407882721, 'bootstrap_type': 'Bayesian', 'grow_policy': 'Depthwise', 'leaf_estimation_method': 'Gradient', 'leaf_estimation_iterations': 4, 'fold_permutation_block': 3, 'depth': 1, 'bagging_temperature': 7.456120107420552}. Best is trial 541 with value: 0.3871903373158665.\u001b[0m\n",
      "\u001b[32m[I 2022-04-28 16:24:20,468]\u001b[0m Trial 631 finished with value: 0.3883140450476463 and parameters: {'iterations': 227, 'learning_rate': 0.0010424123411247276, 'l2_leaf_reg': 0.028901546345877133, 'min_data_in_leaf': 64, 'random_strength': 7.178015103693643, 'bootstrap_type': 'Bayesian', 'grow_policy': 'Depthwise', 'leaf_estimation_method': 'Gradient', 'leaf_estimation_iterations': 4, 'fold_permutation_block': 3, 'depth': 1, 'bagging_temperature': 7.914328571527658}. Best is trial 541 with value: 0.3871903373158665.\u001b[0m\n",
      "\u001b[32m[I 2022-04-28 16:24:21,160]\u001b[0m Trial 632 finished with value: 0.39246367426339707 and parameters: {'iterations': 278, 'learning_rate': 0.0031758526254991037, 'l2_leaf_reg': 2.8392361141797138, 'min_data_in_leaf': 67, 'random_strength': 6.965790839522903, 'bootstrap_type': 'Bayesian', 'grow_policy': 'Depthwise', 'leaf_estimation_method': 'Gradient', 'leaf_estimation_iterations': 4, 'fold_permutation_block': 3, 'depth': 1, 'bagging_temperature': 8.059475872631323}. Best is trial 541 with value: 0.3871903373158665.\u001b[0m\n",
      "\u001b[32m[I 2022-04-28 16:24:21,753]\u001b[0m Trial 633 finished with value: 0.38859624180629454 and parameters: {'iterations': 222, 'learning_rate': 0.004249352813531246, 'l2_leaf_reg': 2.542398461431537, 'min_data_in_leaf': 62, 'random_strength': 7.376576226612206, 'bootstrap_type': 'Bayesian', 'grow_policy': 'Depthwise', 'leaf_estimation_method': 'Gradient', 'leaf_estimation_iterations': 4, 'fold_permutation_block': 3, 'depth': 1, 'bagging_temperature': 7.669204336306489}. Best is trial 541 with value: 0.3871903373158665.\u001b[0m\n",
      "\u001b[32m[I 2022-04-28 16:24:22,427]\u001b[0m Trial 634 finished with value: 0.3879654925527625 and parameters: {'iterations': 233, 'learning_rate': 0.002790868054346427, 'l2_leaf_reg': 3.0824736019801238, 'min_data_in_leaf': 64, 'random_strength': 7.03866632154698, 'bootstrap_type': 'Bayesian', 'grow_policy': 'Depthwise', 'leaf_estimation_method': 'Gradient', 'leaf_estimation_iterations': 4, 'fold_permutation_block': 3, 'depth': 1, 'bagging_temperature': 7.8262578681642925}. Best is trial 541 with value: 0.3871903373158665.\u001b[0m\n",
      "\u001b[32m[I 2022-04-28 16:24:23,023]\u001b[0m Trial 635 finished with value: 0.3884076465422379 and parameters: {'iterations': 223, 'learning_rate': 0.0010202409849503506, 'l2_leaf_reg': 2.24867944395477, 'min_data_in_leaf': 61, 'random_strength': 7.625919468946699, 'bootstrap_type': 'Bayesian', 'grow_policy': 'Depthwise', 'leaf_estimation_method': 'Gradient', 'leaf_estimation_iterations': 4, 'fold_permutation_block': 3, 'depth': 1, 'bagging_temperature': 7.532633840802863}. Best is trial 541 with value: 0.3871903373158665.\u001b[0m\n",
      "\u001b[32m[I 2022-04-28 16:24:23,672]\u001b[0m Trial 636 finished with value: 0.4539131935192969 and parameters: {'iterations': 237, 'learning_rate': 0.006218826155287698, 'l2_leaf_reg': 2.704950626974822, 'min_data_in_leaf': 67, 'random_strength': 6.861851064531003, 'bootstrap_type': 'Bernoulli', 'grow_policy': 'Depthwise', 'leaf_estimation_method': 'Gradient', 'leaf_estimation_iterations': 4, 'fold_permutation_block': 3, 'depth': 1, 'subsample': 0.7634323111571037}. Best is trial 541 with value: 0.3871903373158665.\u001b[0m\n",
      "\u001b[32m[I 2022-04-28 16:24:24,278]\u001b[0m Trial 637 finished with value: 0.3898187537235578 and parameters: {'iterations': 230, 'learning_rate': 0.0030228288855868694, 'l2_leaf_reg': 2.4951412355808342, 'min_data_in_leaf': 63, 'random_strength': 7.224913204220044, 'bootstrap_type': 'Bayesian', 'grow_policy': 'Depthwise', 'leaf_estimation_method': 'Gradient', 'leaf_estimation_iterations': 4, 'fold_permutation_block': 3, 'depth': 1, 'bagging_temperature': 8.217999273332632}. Best is trial 541 with value: 0.3871903373158665.\u001b[0m\n",
      "\u001b[32m[I 2022-04-28 16:24:24,930]\u001b[0m Trial 638 finished with value: 0.44312626768060465 and parameters: {'iterations': 221, 'learning_rate': 0.004491997979780469, 'l2_leaf_reg': 2.1353286633362174, 'min_data_in_leaf': 61, 'random_strength': 7.460302445904656, 'bootstrap_type': 'Bayesian', 'grow_policy': 'Depthwise', 'leaf_estimation_method': 'Gradient', 'leaf_estimation_iterations': 4, 'fold_permutation_block': 4, 'depth': 2, 'bagging_temperature': 7.2643569348279105}. Best is trial 541 with value: 0.3871903373158665.\u001b[0m\n",
      "\u001b[32m[I 2022-04-28 16:24:25,532]\u001b[0m Trial 639 finished with value: 0.3903902057472058 and parameters: {'iterations': 226, 'learning_rate': 0.001109565280325249, 'l2_leaf_reg': 3.2321354109235405, 'min_data_in_leaf': 66, 'random_strength': 6.788523362435102, 'bootstrap_type': 'Bayesian', 'grow_policy': 'Depthwise', 'leaf_estimation_method': 'Gradient', 'leaf_estimation_iterations': 4, 'fold_permutation_block': 3, 'depth': 1, 'bagging_temperature': 8.714766491476388}. Best is trial 541 with value: 0.3871903373158665.\u001b[0m\n",
      "\u001b[32m[I 2022-04-28 16:24:26,187]\u001b[0m Trial 640 finished with value: 0.3894926892507005 and parameters: {'iterations': 243, 'learning_rate': 0.0030089049503754825, 'l2_leaf_reg': 2.921105843625841, 'min_data_in_leaf': 64, 'random_strength': 7.851754268380227, 'bootstrap_type': 'Bayesian', 'grow_policy': 'Depthwise', 'leaf_estimation_method': 'Gradient', 'leaf_estimation_iterations': 4, 'fold_permutation_block': 3, 'depth': 1, 'bagging_temperature': 7.984611919305486}. Best is trial 541 with value: 0.3871903373158665.\u001b[0m\n",
      "\u001b[32m[I 2022-04-28 16:24:26,730]\u001b[0m Trial 641 finished with value: 0.3968581625859524 and parameters: {'iterations': 219, 'learning_rate': 0.00613511197760432, 'l2_leaf_reg': 2.3521942046574456, 'min_data_in_leaf': 60, 'random_strength': 7.090828541918748, 'bootstrap_type': 'Bayesian', 'grow_policy': 'Depthwise', 'leaf_estimation_method': 'Gradient', 'leaf_estimation_iterations': 3, 'fold_permutation_block': 3, 'depth': 1, 'bagging_temperature': 7.544196030012725}. Best is trial 541 with value: 0.3871903373158665.\u001b[0m\n",
      "\u001b[32m[I 2022-04-28 16:24:27,347]\u001b[0m Trial 642 finished with value: 0.3890960182841848 and parameters: {'iterations': 235, 'learning_rate': 0.0027411197882609836, 'l2_leaf_reg': 2.7064274670544735, 'min_data_in_leaf': 61, 'random_strength': 7.333512313188991, 'bootstrap_type': 'Bayesian', 'grow_policy': 'Depthwise', 'leaf_estimation_method': 'Gradient', 'leaf_estimation_iterations': 4, 'fold_permutation_block': 3, 'depth': 1, 'bagging_temperature': 7.768246930705242}. Best is trial 541 with value: 0.3871903373158665.\u001b[0m\n",
      "\u001b[32m[I 2022-04-28 16:24:28,040]\u001b[0m Trial 643 finished with value: 0.3886096375672435 and parameters: {'iterations': 227, 'learning_rate': 0.001076248375940261, 'l2_leaf_reg': 1.868670899962489, 'min_data_in_leaf': 63, 'random_strength': 6.971525277579719, 'bootstrap_type': 'Bayesian', 'grow_policy': 'Depthwise', 'leaf_estimation_method': 'Gradient', 'leaf_estimation_iterations': 4, 'fold_permutation_block': 3, 'depth': 1, 'bagging_temperature': 8.103301761363845}. Best is trial 541 with value: 0.3871903373158665.\u001b[0m\n",
      "\u001b[32m[I 2022-04-28 16:24:28,736]\u001b[0m Trial 644 finished with value: 0.3927155914366754 and parameters: {'iterations': 265, 'learning_rate': 0.004588087739320545, 'l2_leaf_reg': 3.1069427130938454, 'min_data_in_leaf': 69, 'random_strength': 7.607357285157291, 'bootstrap_type': 'Bayesian', 'grow_policy': 'Depthwise', 'leaf_estimation_method': 'Gradient', 'leaf_estimation_iterations': 4, 'fold_permutation_block': 3, 'depth': 1, 'bagging_temperature': 7.366056057198035}. Best is trial 541 with value: 0.3871903373158665.\u001b[0m\n",
      "\u001b[32m[I 2022-04-28 16:24:29,302]\u001b[0m Trial 645 finished with value: 0.39022701198831844 and parameters: {'iterations': 217, 'learning_rate': 0.0028469614020268734, 'l2_leaf_reg': 2.491340386408977, 'min_data_in_leaf': 66, 'random_strength': 6.490585436217393, 'bootstrap_type': 'Bayesian', 'grow_policy': 'Depthwise', 'leaf_estimation_method': 'Gradient', 'leaf_estimation_iterations': 4, 'fold_permutation_block': 3, 'depth': 1, 'bagging_temperature': 8.382777452033407}. Best is trial 541 with value: 0.3871903373158665.\u001b[0m\n",
      "\u001b[32m[I 2022-04-28 16:24:29,956]\u001b[0m Trial 646 finished with value: 0.39206332625273627 and parameters: {'iterations': 228, 'learning_rate': 0.00804134152454911, 'l2_leaf_reg': 2.918870590286251, 'min_data_in_leaf': 61, 'random_strength': 6.7654181531530355, 'bootstrap_type': 'Bayesian', 'grow_policy': 'Depthwise', 'leaf_estimation_method': 'Gradient', 'leaf_estimation_iterations': 4, 'fold_permutation_block': 3, 'depth': 1, 'bagging_temperature': 7.697897129452722}. Best is trial 541 with value: 0.3871903373158665.\u001b[0m\n",
      "\u001b[32m[I 2022-04-28 16:24:30,587]\u001b[0m Trial 647 finished with value: 0.38959223179870445 and parameters: {'iterations': 217, 'learning_rate': 0.004427445303151116, 'l2_leaf_reg': 2.022230209912107, 'min_data_in_leaf': 64, 'random_strength': 7.025422650424696, 'bootstrap_type': 'Bayesian', 'grow_policy': 'Depthwise', 'leaf_estimation_method': 'Gradient', 'leaf_estimation_iterations': 4, 'fold_permutation_block': 3, 'depth': 1, 'bagging_temperature': 7.887949017053462}. Best is trial 541 with value: 0.3871903373158665.\u001b[0m\n",
      "\u001b[32m[I 2022-04-28 16:24:31,212]\u001b[0m Trial 648 finished with value: 0.38891173355645486 and parameters: {'iterations': 239, 'learning_rate': 0.0010390358764822128, 'l2_leaf_reg': 3.3497882082424963, 'min_data_in_leaf': 60, 'random_strength': 7.25759880076414, 'bootstrap_type': 'Bayesian', 'grow_policy': 'Depthwise', 'leaf_estimation_method': 'Gradient', 'leaf_estimation_iterations': 4, 'fold_permutation_block': 4, 'depth': 1, 'bagging_temperature': 7.502352567293206}. Best is trial 541 with value: 0.3871903373158665.\u001b[0m\n",
      "\u001b[32m[I 2022-04-28 16:24:31,788]\u001b[0m Trial 649 finished with value: 0.38834276432168285 and parameters: {'iterations': 222, 'learning_rate': 0.002977386705054879, 'l2_leaf_reg': 2.258995613350575, 'min_data_in_leaf': 63, 'random_strength': 8.011435160497399, 'bootstrap_type': 'Bayesian', 'grow_policy': 'Depthwise', 'leaf_estimation_method': 'Gradient', 'leaf_estimation_iterations': 4, 'fold_permutation_block': 3, 'depth': 1, 'bagging_temperature': 8.042492655187218}. Best is trial 541 with value: 0.3871903373158665.\u001b[0m\n",
      "\u001b[32m[I 2022-04-28 16:24:32,519]\u001b[0m Trial 650 finished with value: 0.4466890210897349 and parameters: {'iterations': 231, 'learning_rate': 0.00611573258845478, 'l2_leaf_reg': 2.8419137990923065, 'min_data_in_leaf': 60, 'random_strength': 7.518310082885622, 'bootstrap_type': 'Bayesian', 'grow_policy': 'Depthwise', 'leaf_estimation_method': 'Gradient', 'leaf_estimation_iterations': 4, 'fold_permutation_block': 3, 'depth': 2, 'bagging_temperature': 7.281296609495238}. Best is trial 541 with value: 0.3871903373158665.\u001b[0m\n",
      "\u001b[32m[I 2022-04-28 16:24:33,212]\u001b[0m Trial 651 finished with value: 0.39093916340791884 and parameters: {'iterations': 252, 'learning_rate': 0.0026392258250731, 'l2_leaf_reg': 2.6461060806328156, 'min_data_in_leaf': 66, 'random_strength': 6.670495623617704, 'bootstrap_type': 'Bayesian', 'grow_policy': 'Depthwise', 'leaf_estimation_method': 'Gradient', 'leaf_estimation_iterations': 4, 'fold_permutation_block': 3, 'depth': 1, 'bagging_temperature': 7.678588289451512}. Best is trial 541 with value: 0.3871903373158665.\u001b[0m\n",
      "\u001b[32m[I 2022-04-28 16:24:33,786]\u001b[0m Trial 652 finished with value: 0.38924619571872726 and parameters: {'iterations': 215, 'learning_rate': 0.0011952674848423946, 'l2_leaf_reg': 2.3888255655015813, 'min_data_in_leaf': 68, 'random_strength': 7.25362704160553, 'bootstrap_type': 'Bayesian', 'grow_policy': 'Depthwise', 'leaf_estimation_method': 'Gradient', 'leaf_estimation_iterations': 4, 'fold_permutation_block': 3, 'depth': 1, 'bagging_temperature': 8.20244028694863}. Best is trial 541 with value: 0.3871903373158665.\u001b[0m\n",
      "\u001b[32m[I 2022-04-28 16:24:34,357]\u001b[0m Trial 653 finished with value: 0.3942825532349063 and parameters: {'iterations': 206, 'learning_rate': 0.005150524529194308, 'l2_leaf_reg': 0.98051306010412, 'min_data_in_leaf': 62, 'random_strength': 6.201886296937243, 'bootstrap_type': 'Bayesian', 'grow_policy': 'Depthwise', 'leaf_estimation_method': 'Gradient', 'leaf_estimation_iterations': 5, 'fold_permutation_block': 3, 'depth': 1, 'bagging_temperature': 7.8623933727989925}. Best is trial 541 with value: 0.3871903373158665.\u001b[0m\n",
      "\u001b[32m[I 2022-04-28 16:24:35,045]\u001b[0m Trial 654 finished with value: 0.39310394508435614 and parameters: {'iterations': 223, 'learning_rate': 0.002815743109835383, 'l2_leaf_reg': 3.5263318973990945, 'min_data_in_leaf': 59, 'random_strength': 6.405615390722015, 'bootstrap_type': 'Bayesian', 'grow_policy': 'Depthwise', 'leaf_estimation_method': 'Newton', 'leaf_estimation_iterations': 4, 'fold_permutation_block': 3, 'depth': 1, 'bagging_temperature': 7.514473184828757}. Best is trial 541 with value: 0.3871903373158665.\u001b[0m\n",
      "\u001b[32m[I 2022-04-28 16:24:35,653]\u001b[0m Trial 655 finished with value: 0.38787270362186727 and parameters: {'iterations': 233, 'learning_rate': 0.0010148623962789702, 'l2_leaf_reg': 2.595896072484134, 'min_data_in_leaf': 65, 'random_strength': 6.8018322856706215, 'bootstrap_type': 'Bayesian', 'grow_policy': 'Depthwise', 'leaf_estimation_method': 'Gradient', 'leaf_estimation_iterations': 4, 'fold_permutation_block': 4, 'depth': 1, 'bagging_temperature': 8.003582830451782}. Best is trial 541 with value: 0.3871903373158665.\u001b[0m\n",
      "\u001b[32m[I 2022-04-28 16:24:36,366]\u001b[0m Trial 656 finished with value: 0.39020157937728467 and parameters: {'iterations': 245, 'learning_rate': 0.0045931090668107815, 'l2_leaf_reg': 3.095108782866829, 'min_data_in_leaf': 59, 'random_strength': 7.114463068355526, 'bootstrap_type': 'Bayesian', 'grow_policy': 'Depthwise', 'leaf_estimation_method': 'Gradient', 'leaf_estimation_iterations': 4, 'fold_permutation_block': 3, 'depth': 1, 'bagging_temperature': 7.731625850888548}. Best is trial 541 with value: 0.3871903373158665.\u001b[0m\n",
      "\u001b[32m[I 2022-04-28 16:24:37,015]\u001b[0m Trial 657 finished with value: 0.3895096366779441 and parameters: {'iterations': 215, 'learning_rate': 0.0010454682386200757, 'l2_leaf_reg': 2.8110978367200787, 'min_data_in_leaf': 62, 'random_strength': 7.740444821988457, 'bootstrap_type': 'Bayesian', 'grow_policy': 'Depthwise', 'leaf_estimation_method': 'Gradient', 'leaf_estimation_iterations': 4, 'fold_permutation_block': 3, 'depth': 1, 'bagging_temperature': 8.48408156325979}. Best is trial 541 with value: 0.3871903373158665.\u001b[0m\n",
      "\u001b[32m[I 2022-04-28 16:24:37,670]\u001b[0m Trial 658 finished with value: 0.43963396141189076 and parameters: {'iterations': 226, 'learning_rate': 0.0010466914901986083, 'l2_leaf_reg': 2.006367310197237, 'min_data_in_leaf': 64, 'random_strength': 7.468897033165581, 'bootstrap_type': 'Bayesian', 'grow_policy': 'Depthwise', 'leaf_estimation_method': 'Gradient', 'leaf_estimation_iterations': 4, 'fold_permutation_block': 3, 'depth': 2, 'bagging_temperature': 7.21433268391163}. Best is trial 541 with value: 0.3871903373158665.\u001b[0m\n",
      "\u001b[32m[I 2022-04-28 16:24:38,218]\u001b[0m Trial 659 finished with value: 0.38835759866535274 and parameters: {'iterations': 206, 'learning_rate': 0.00106128546299411, 'l2_leaf_reg': 4.779489649135619, 'min_data_in_leaf': 59, 'random_strength': 6.951832821385172, 'bootstrap_type': 'Bayesian', 'grow_policy': 'Depthwise', 'leaf_estimation_method': 'Gradient', 'leaf_estimation_iterations': 4, 'fold_permutation_block': 3, 'depth': 1, 'bagging_temperature': 7.907012093656264}. Best is trial 541 with value: 0.3871903373158665.\u001b[0m\n",
      "\u001b[32m[I 2022-04-28 16:24:38,788]\u001b[0m Trial 660 finished with value: 0.3880214494228036 and parameters: {'iterations': 218, 'learning_rate': 0.001051594805526921, 'l2_leaf_reg': 0.6550606465225206, 'min_data_in_leaf': 56, 'random_strength': 6.548155108206705, 'bootstrap_type': 'Bayesian', 'grow_policy': 'Depthwise', 'leaf_estimation_method': 'Gradient', 'leaf_estimation_iterations': 4, 'fold_permutation_block': 3, 'depth': 1, 'bagging_temperature': 7.409463312392091}. Best is trial 541 with value: 0.3871903373158665.\u001b[0m\n",
      "\u001b[32m[I 2022-04-28 16:24:39,491]\u001b[0m Trial 661 finished with value: 0.3896761835690079 and parameters: {'iterations': 237, 'learning_rate': 0.0010040535551153215, 'l2_leaf_reg': 2.375354824717087, 'min_data_in_leaf': 68, 'random_strength': 7.234441761147057, 'bootstrap_type': 'Bayesian', 'grow_policy': 'Depthwise', 'leaf_estimation_method': 'Gradient', 'leaf_estimation_iterations': 4, 'fold_permutation_block': 3, 'depth': 1, 'bagging_temperature': 8.25903856548638}. Best is trial 541 with value: 0.3871903373158665.\u001b[0m\n",
      "\u001b[32m[I 2022-04-28 16:24:40,036]\u001b[0m Trial 662 finished with value: 0.39257641620903616 and parameters: {'iterations': 199, 'learning_rate': 0.006581701110222154, 'l2_leaf_reg': 5.097241960152586, 'min_data_in_leaf': 62, 'random_strength': 6.802863916366249, 'bootstrap_type': 'Bayesian', 'grow_policy': 'Depthwise', 'leaf_estimation_method': 'Gradient', 'leaf_estimation_iterations': 4, 'fold_permutation_block': 3, 'depth': 1, 'bagging_temperature': 7.667607642788606}. Best is trial 541 with value: 0.3871903373158665.\u001b[0m\n",
      "\u001b[32m[I 2022-04-28 16:24:40,581]\u001b[0m Trial 663 finished with value: 0.45633004816035677 and parameters: {'iterations': 211, 'learning_rate': 0.004385972425327866, 'l2_leaf_reg': 2.170693139527304, 'min_data_in_leaf': 66, 'random_strength': 7.417795203980849, 'bootstrap_type': 'Bernoulli', 'grow_policy': 'Depthwise', 'leaf_estimation_method': 'Gradient', 'leaf_estimation_iterations': 4, 'fold_permutation_block': 3, 'depth': 1, 'subsample': 0.9340904005392003}. Best is trial 541 with value: 0.3871903373158665.\u001b[0m\n",
      "\u001b[32m[I 2022-04-28 16:24:41,186]\u001b[0m Trial 664 finished with value: 0.3890241568019615 and parameters: {'iterations': 226, 'learning_rate': 0.0028726445982847505, 'l2_leaf_reg': 2.6467124456032396, 'min_data_in_leaf': 60, 'random_strength': 7.080647729764285, 'bootstrap_type': 'Bayesian', 'grow_policy': 'Depthwise', 'leaf_estimation_method': 'Gradient', 'leaf_estimation_iterations': 4, 'fold_permutation_block': 3, 'depth': 1, 'bagging_temperature': 8.08055421693147}. Best is trial 541 with value: 0.3871903373158665.\u001b[0m\n",
      "\u001b[32m[I 2022-04-28 16:24:41,781]\u001b[0m Trial 665 finished with value: 0.3918456720734734 and parameters: {'iterations': 219, 'learning_rate': 0.008965441171485788, 'l2_leaf_reg': 4.441019348798642, 'min_data_in_leaf': 57, 'random_strength': 6.629071615960643, 'bootstrap_type': 'Bayesian', 'grow_policy': 'Depthwise', 'leaf_estimation_method': 'Gradient', 'leaf_estimation_iterations': 4, 'fold_permutation_block': 3, 'depth': 1, 'bagging_temperature': 7.559111224443097}. Best is trial 541 with value: 0.3871903373158665.\u001b[0m\n",
      "\u001b[32m[I 2022-04-28 16:24:42,388]\u001b[0m Trial 666 finished with value: 0.38847562592743246 and parameters: {'iterations': 233, 'learning_rate': 0.002954529293952412, 'l2_leaf_reg': 2.939412284398206, 'min_data_in_leaf': 64, 'random_strength': 7.677730542238455, 'bootstrap_type': 'Bayesian', 'grow_policy': 'Depthwise', 'leaf_estimation_method': 'Gradient', 'leaf_estimation_iterations': 4, 'fold_permutation_block': 3, 'depth': 1, 'bagging_temperature': 7.846376249085958}. Best is trial 541 with value: 0.3871903373158665.\u001b[0m\n",
      "\u001b[32m[I 2022-04-28 16:24:42,971]\u001b[0m Trial 667 finished with value: 0.39589631238368805 and parameters: {'iterations': 211, 'learning_rate': 0.004482726405569258, 'l2_leaf_reg': 2.47141687243983, 'min_data_in_leaf': 62, 'random_strength': 6.275318744346464, 'bootstrap_type': 'Bayesian', 'grow_policy': 'Depthwise', 'leaf_estimation_method': 'Newton', 'leaf_estimation_iterations': 4, 'fold_permutation_block': 4, 'depth': 1, 'bagging_temperature': 7.354384505563184}. Best is trial 541 with value: 0.3871903373158665.\u001b[0m\n",
      "\u001b[32m[I 2022-04-28 16:24:43,637]\u001b[0m Trial 668 finished with value: 0.3874250708158127 and parameters: {'iterations': 223, 'learning_rate': 0.0010291633629772022, 'l2_leaf_reg': 3.3046840435798015, 'min_data_in_leaf': 59, 'random_strength': 6.898268450343845, 'bootstrap_type': 'Bayesian', 'grow_policy': 'Depthwise', 'leaf_estimation_method': 'Gradient', 'leaf_estimation_iterations': 4, 'fold_permutation_block': 3, 'depth': 1, 'bagging_temperature': 7.160167140474211}. Best is trial 541 with value: 0.3871903373158665.\u001b[0m\n",
      "\u001b[32m[I 2022-04-28 16:24:44,264]\u001b[0m Trial 669 finished with value: 0.38945799025688954 and parameters: {'iterations': 207, 'learning_rate': 0.0029610583060034256, 'l2_leaf_reg': 3.2240664217391832, 'min_data_in_leaf': 58, 'random_strength': 6.853444284675823, 'bootstrap_type': 'Bayesian', 'grow_policy': 'Depthwise', 'leaf_estimation_method': 'Gradient', 'leaf_estimation_iterations': 4, 'fold_permutation_block': 3, 'depth': 1, 'bagging_temperature': 7.159591826217713}. Best is trial 541 with value: 0.3871903373158665.\u001b[0m\n",
      "\u001b[32m[I 2022-04-28 16:24:44,855]\u001b[0m Trial 670 finished with value: 0.3871369577655323 and parameters: {'iterations': 218, 'learning_rate': 0.00101548083010459, 'l2_leaf_reg': 3.436028720661099, 'min_data_in_leaf': 56, 'random_strength': 6.5613138031728475, 'bootstrap_type': 'Bayesian', 'grow_policy': 'Depthwise', 'leaf_estimation_method': 'Gradient', 'leaf_estimation_iterations': 4, 'fold_permutation_block': 3, 'depth': 1, 'bagging_temperature': 7.10732507414509}. Best is trial 670 with value: 0.3871369577655323.\u001b[0m\n",
      "\u001b[32m[I 2022-04-28 16:24:45,487]\u001b[0m Trial 671 finished with value: 0.4464850253292278 and parameters: {'iterations': 199, 'learning_rate': 0.005633837258597008, 'l2_leaf_reg': 3.4646556931951347, 'min_data_in_leaf': 55, 'random_strength': 6.388680073599381, 'bootstrap_type': 'Bayesian', 'grow_policy': 'Depthwise', 'leaf_estimation_method': 'Gradient', 'leaf_estimation_iterations': 4, 'fold_permutation_block': 3, 'depth': 2, 'bagging_temperature': 7.2131120568395986}. Best is trial 670 with value: 0.3871369577655323.\u001b[0m\n",
      "\u001b[32m[I 2022-04-28 16:24:46,166]\u001b[0m Trial 672 finished with value: 0.38826102355617714 and parameters: {'iterations': 215, 'learning_rate': 0.0027757325312236236, 'l2_leaf_reg': 3.3717684703420154, 'min_data_in_leaf': 55, 'random_strength': 6.440717488455982, 'bootstrap_type': 'Bayesian', 'grow_policy': 'Depthwise', 'leaf_estimation_method': 'Gradient', 'leaf_estimation_iterations': 4, 'fold_permutation_block': 3, 'depth': 1, 'bagging_temperature': 7.164211301582851}. Best is trial 670 with value: 0.3871369577655323.\u001b[0m\n",
      "\u001b[32m[I 2022-04-28 16:24:46,693]\u001b[0m Trial 673 finished with value: 0.39110266239905833 and parameters: {'iterations': 191, 'learning_rate': 0.007389140439170006, 'l2_leaf_reg': 3.808186575390116, 'min_data_in_leaf': 57, 'random_strength': 6.589648548236072, 'bootstrap_type': 'Bayesian', 'grow_policy': 'Depthwise', 'leaf_estimation_method': 'Gradient', 'leaf_estimation_iterations': 4, 'fold_permutation_block': 3, 'depth': 1, 'bagging_temperature': 7.150328852830393}. Best is trial 670 with value: 0.3871369577655323.\u001b[0m\n",
      "\u001b[32m[I 2022-04-28 16:24:49,249]\u001b[0m Trial 674 finished with value: 0.5715308153018684 and parameters: {'iterations': 205, 'learning_rate': 0.0010533056718098983, 'l2_leaf_reg': 1.9259296266657338, 'min_data_in_leaf': 56, 'random_strength': 6.178317114045923, 'bootstrap_type': 'Bayesian', 'grow_policy': 'Lossguide', 'leaf_estimation_method': 'Gradient', 'leaf_estimation_iterations': 5, 'fold_permutation_block': 3, 'max_leaves': 102, 'depth': 16, 'bagging_temperature': 7.363165295235006}. Best is trial 670 with value: 0.3871369577655323.\u001b[0m\n",
      "\u001b[32m[I 2022-04-28 16:24:49,851]\u001b[0m Trial 675 finished with value: 0.3866703589794911 and parameters: {'iterations': 220, 'learning_rate': 0.0011077745190188034, 'l2_leaf_reg': 1.1606299104370819, 'min_data_in_leaf': 58, 'random_strength': 6.652542880296735, 'bootstrap_type': 'Bayesian', 'grow_policy': 'Depthwise', 'leaf_estimation_method': 'Gradient', 'leaf_estimation_iterations': 4, 'fold_permutation_block': 4, 'depth': 1, 'bagging_temperature': 7.137878733034745}. Best is trial 675 with value: 0.3866703589794911.\u001b[0m\n",
      "\u001b[32m[I 2022-04-28 16:24:50,524]\u001b[0m Trial 676 finished with value: 0.38741138511511103 and parameters: {'iterations': 214, 'learning_rate': 0.0010297058977282046, 'l2_leaf_reg': 1.430592542056758, 'min_data_in_leaf': 54, 'random_strength': 6.698723106233839, 'bootstrap_type': 'Bayesian', 'grow_policy': 'Depthwise', 'leaf_estimation_method': 'Gradient', 'leaf_estimation_iterations': 4, 'fold_permutation_block': 4, 'depth': 1, 'bagging_temperature': 7.075351896051244}. Best is trial 675 with value: 0.3866703589794911.\u001b[0m\n",
      "\u001b[32m[I 2022-04-28 16:24:51,121]\u001b[0m Trial 677 finished with value: 0.38966462389889417 and parameters: {'iterations': 201, 'learning_rate': 0.0029874107477958923, 'l2_leaf_reg': 1.1350564041039775, 'min_data_in_leaf': 52, 'random_strength': 6.730658585625327, 'bootstrap_type': 'Bayesian', 'grow_policy': 'Depthwise', 'leaf_estimation_method': 'Gradient', 'leaf_estimation_iterations': 4, 'fold_permutation_block': 5, 'depth': 1, 'bagging_temperature': 7.180301473487007}. Best is trial 675 with value: 0.3866703589794911.\u001b[0m\n",
      "\u001b[32m[I 2022-04-28 16:24:51,678]\u001b[0m Trial 678 finished with value: 0.3885575475017317 and parameters: {'iterations': 210, 'learning_rate': 0.00114187398320907, 'l2_leaf_reg': 1.3342553498142515, 'min_data_in_leaf': 54, 'random_strength': 6.711641845556215, 'bootstrap_type': 'Bayesian', 'grow_policy': 'Depthwise', 'leaf_estimation_method': 'Gradient', 'leaf_estimation_iterations': 4, 'fold_permutation_block': 3, 'depth': 1, 'bagging_temperature': 7.107394299261707}. Best is trial 675 with value: 0.3866703589794911.\u001b[0m\n",
      "\u001b[32m[I 2022-04-28 16:24:52,224]\u001b[0m Trial 679 finished with value: 0.38847821775675145 and parameters: {'iterations': 192, 'learning_rate': 0.0010540065113276305, 'l2_leaf_reg': 1.374282955712843, 'min_data_in_leaf': 55, 'random_strength': 6.471734620206747, 'bootstrap_type': 'Bayesian', 'grow_policy': 'Depthwise', 'leaf_estimation_method': 'Gradient', 'leaf_estimation_iterations': 4, 'fold_permutation_block': 4, 'depth': 1, 'bagging_temperature': 7.241745741686114}. Best is trial 675 with value: 0.3866703589794911.\u001b[0m\n",
      "\u001b[32m[I 2022-04-28 16:24:52,863]\u001b[0m Trial 680 finished with value: 0.3895346261653871 and parameters: {'iterations': 213, 'learning_rate': 0.0046204056420074, 'l2_leaf_reg': 0.8916170485474992, 'min_data_in_leaf': 52, 'random_strength': 6.781334269849977, 'bootstrap_type': 'Bayesian', 'grow_policy': 'Depthwise', 'leaf_estimation_method': 'Gradient', 'leaf_estimation_iterations': 4, 'fold_permutation_block': 4, 'depth': 1, 'bagging_temperature': 7.0369529478082}. Best is trial 675 with value: 0.3866703589794911.\u001b[0m\n",
      "\u001b[32m[I 2022-04-28 16:24:53,425]\u001b[0m Trial 681 finished with value: 0.4317792426140517 and parameters: {'iterations': 201, 'learning_rate': 0.09975832286948161, 'l2_leaf_reg': 1.0974262125152463, 'min_data_in_leaf': 54, 'random_strength': 6.602500938645147, 'bootstrap_type': 'Bayesian', 'grow_policy': 'Depthwise', 'leaf_estimation_method': 'Gradient', 'leaf_estimation_iterations': 4, 'fold_permutation_block': 4, 'depth': 1, 'bagging_temperature': 7.101887863064938}. Best is trial 675 with value: 0.3866703589794911.\u001b[0m\n",
      "\u001b[32m[I 2022-04-28 16:24:55,085]\u001b[0m Trial 682 finished with value: 0.5624328613239261 and parameters: {'iterations': 217, 'learning_rate': 0.001002530209475326, 'l2_leaf_reg': 1.2129910516807245, 'min_data_in_leaf': 57, 'random_strength': 9.971665969068198, 'bootstrap_type': 'Bayesian', 'grow_policy': 'Depthwise', 'leaf_estimation_method': 'Newton', 'leaf_estimation_iterations': 4, 'fold_permutation_block': 4, 'depth': 8, 'bagging_temperature': 7.322072601128945}. Best is trial 675 with value: 0.3866703589794911.\u001b[0m\n",
      "\u001b[32m[I 2022-04-28 16:24:55,873]\u001b[0m Trial 683 finished with value: 0.4883931285722714 and parameters: {'iterations': 207, 'learning_rate': 0.002687577378310541, 'l2_leaf_reg': 1.5209836535366787, 'min_data_in_leaf': 56, 'random_strength': 6.34410347033887, 'bootstrap_type': 'Bayesian', 'grow_policy': 'Depthwise', 'leaf_estimation_method': 'Gradient', 'leaf_estimation_iterations': 4, 'fold_permutation_block': 4, 'depth': 3, 'bagging_temperature': 7.070233715797678}. Best is trial 675 with value: 0.3866703589794911.\u001b[0m\n",
      "\u001b[32m[I 2022-04-28 16:24:56,401]\u001b[0m Trial 684 finished with value: 0.39636402088431427 and parameters: {'iterations': 218, 'learning_rate': 0.0029023517054299966, 'l2_leaf_reg': 1.724845704104892, 'min_data_in_leaf': 58, 'random_strength': 6.878044713526265, 'bootstrap_type': 'Bayesian', 'grow_policy': 'Depthwise', 'leaf_estimation_method': 'Gradient', 'leaf_estimation_iterations': 3, 'fold_permutation_block': 5, 'depth': 1, 'bagging_temperature': 7.425932620066156}. Best is trial 675 with value: 0.3866703589794911.\u001b[0m\n",
      "\u001b[32m[I 2022-04-28 16:24:57,047]\u001b[0m Trial 685 finished with value: 0.44598986688123726 and parameters: {'iterations': 209, 'learning_rate': 0.004607297259490637, 'l2_leaf_reg': 1.1910553307359169, 'min_data_in_leaf': 51, 'random_strength': 6.635131167519219, 'bootstrap_type': 'Bayesian', 'grow_policy': 'Depthwise', 'leaf_estimation_method': 'Gradient', 'leaf_estimation_iterations': 4, 'fold_permutation_block': 4, 'depth': 2, 'bagging_temperature': 7.322498831265664}. Best is trial 675 with value: 0.3866703589794911.\u001b[0m\n",
      "\u001b[32m[I 2022-04-28 16:24:57,725]\u001b[0m Trial 686 finished with value: 0.3864838010352342 and parameters: {'iterations': 220, 'learning_rate': 0.0011349065965394146, 'l2_leaf_reg': 0.9871521315917045, 'min_data_in_leaf': 54, 'random_strength': 6.919783626740396, 'bootstrap_type': 'Bayesian', 'grow_policy': 'Depthwise', 'leaf_estimation_method': 'Gradient', 'leaf_estimation_iterations': 4, 'fold_permutation_block': 4, 'depth': 1, 'bagging_temperature': 7.119951584701868}. Best is trial 686 with value: 0.3864838010352342.\u001b[0m\n",
      "\u001b[32m[I 2022-04-28 16:24:58,315]\u001b[0m Trial 687 finished with value: 0.38891385168036025 and parameters: {'iterations': 223, 'learning_rate': 0.002880136297945721, 'l2_leaf_reg': 0.8952678856951017, 'min_data_in_leaf': 53, 'random_strength': 6.994930357774582, 'bootstrap_type': 'Bayesian', 'grow_policy': 'Depthwise', 'leaf_estimation_method': 'Gradient', 'leaf_estimation_iterations': 4, 'fold_permutation_block': 5, 'depth': 1, 'bagging_temperature': 7.07041127054229}. Best is trial 686 with value: 0.3864838010352342.\u001b[0m\n",
      "\u001b[32m[I 2022-04-28 16:24:58,915]\u001b[0m Trial 688 finished with value: 0.38742585679310987 and parameters: {'iterations': 223, 'learning_rate': 0.0010151557164626616, 'l2_leaf_reg': 0.7651360263781324, 'min_data_in_leaf': 51, 'random_strength': 6.915171012778211, 'bootstrap_type': 'Bayesian', 'grow_policy': 'Depthwise', 'leaf_estimation_method': 'Gradient', 'leaf_estimation_iterations': 4, 'fold_permutation_block': 4, 'depth': 1, 'bagging_temperature': 7.168277180305765}. Best is trial 686 with value: 0.3864838010352342.\u001b[0m\n",
      "\u001b[32m[I 2022-04-28 16:24:59,563]\u001b[0m Trial 689 finished with value: 0.3869644527039377 and parameters: {'iterations': 223, 'learning_rate': 0.0010566525753560273, 'l2_leaf_reg': 0.3919787362823204, 'min_data_in_leaf': 50, 'random_strength': 6.3000167249501615, 'bootstrap_type': 'Bayesian', 'grow_policy': 'Depthwise', 'leaf_estimation_method': 'Gradient', 'leaf_estimation_iterations': 4, 'fold_permutation_block': 4, 'depth': 1, 'bagging_temperature': 7.125216237629175}. Best is trial 686 with value: 0.3864838010352342.\u001b[0m\n",
      "\u001b[32m[I 2022-04-28 16:25:00,238]\u001b[0m Trial 690 finished with value: 0.4447997396420707 and parameters: {'iterations': 222, 'learning_rate': 0.004795286092905838, 'l2_leaf_reg': 0.3005057918842511, 'min_data_in_leaf': 50, 'random_strength': 6.160535441051817, 'bootstrap_type': 'Bayesian', 'grow_policy': 'Depthwise', 'leaf_estimation_method': 'Gradient', 'leaf_estimation_iterations': 4, 'fold_permutation_block': 4, 'depth': 2, 'bagging_temperature': 7.096913733435353}. Best is trial 686 with value: 0.3864838010352342.\u001b[0m\n",
      "\u001b[32m[I 2022-04-28 16:25:00,800]\u001b[0m Trial 691 finished with value: 0.450088682145287 and parameters: {'iterations': 226, 'learning_rate': 0.0010537170371367917, 'l2_leaf_reg': 0.5801065962031748, 'min_data_in_leaf': 51, 'random_strength': 6.24314744464939, 'bootstrap_type': 'Bernoulli', 'grow_policy': 'Depthwise', 'leaf_estimation_method': 'Gradient', 'leaf_estimation_iterations': 4, 'fold_permutation_block': 4, 'depth': 1, 'subsample': 0.8416350264845034}. Best is trial 686 with value: 0.3864838010352342.\u001b[0m\n",
      "\u001b[32m[I 2022-04-28 16:25:01,402]\u001b[0m Trial 692 finished with value: 0.39142921465659203 and parameters: {'iterations': 228, 'learning_rate': 0.006368171481810394, 'l2_leaf_reg': 0.4163226647414101, 'min_data_in_leaf': 50, 'random_strength': 6.392023134538067, 'bootstrap_type': 'Bayesian', 'grow_policy': 'Depthwise', 'leaf_estimation_method': 'Gradient', 'leaf_estimation_iterations': 4, 'fold_permutation_block': 4, 'depth': 1, 'bagging_temperature': 7.085891124372377}. Best is trial 686 with value: 0.3864838010352342.\u001b[0m\n",
      "\u001b[32m[I 2022-04-28 16:25:02,069]\u001b[0m Trial 693 finished with value: 0.38788016467031255 and parameters: {'iterations': 221, 'learning_rate': 0.003240500570993338, 'l2_leaf_reg': 0.8516148318862728, 'min_data_in_leaf': 48, 'random_strength': 6.447330032162534, 'bootstrap_type': 'Bayesian', 'grow_policy': 'Depthwise', 'leaf_estimation_method': 'Gradient', 'leaf_estimation_iterations': 4, 'fold_permutation_block': 4, 'depth': 1, 'bagging_temperature': 7.301047904550584}. Best is trial 686 with value: 0.3864838010352342.\u001b[0m\n",
      "\u001b[32m[I 2022-04-28 16:25:02,681]\u001b[0m Trial 694 finished with value: 0.3880536039368752 and parameters: {'iterations': 224, 'learning_rate': 0.0029586191609010876, 'l2_leaf_reg': 0.6468321487364557, 'min_data_in_leaf': 50, 'random_strength': 6.59322352882138, 'bootstrap_type': 'Bayesian', 'grow_policy': 'Depthwise', 'leaf_estimation_method': 'Gradient', 'leaf_estimation_iterations': 4, 'fold_permutation_block': 4, 'depth': 1, 'bagging_temperature': 7.212134348378565}. Best is trial 686 with value: 0.3864838010352342.\u001b[0m\n",
      "\u001b[32m[I 2022-04-28 16:25:03,343]\u001b[0m Trial 695 finished with value: 0.3931509561837118 and parameters: {'iterations': 231, 'learning_rate': 0.001034605336755328, 'l2_leaf_reg': 0.03236042037193909, 'min_data_in_leaf': 53, 'random_strength': 6.193625998273962, 'bootstrap_type': 'Bayesian', 'grow_policy': 'Depthwise', 'leaf_estimation_method': 'Newton', 'leaf_estimation_iterations': 4, 'fold_permutation_block': 5, 'depth': 1, 'bagging_temperature': 7.0546566607574945}. Best is trial 686 with value: 0.3864838010352342.\u001b[0m\n",
      "\u001b[32m[I 2022-04-28 16:25:04,031]\u001b[0m Trial 696 finished with value: 0.3893624394577396 and parameters: {'iterations': 221, 'learning_rate': 0.004602129003598769, 'l2_leaf_reg': 1.1583645313948492, 'min_data_in_leaf': 48, 'random_strength': 6.495684856603495, 'bootstrap_type': 'Bayesian', 'grow_policy': 'Depthwise', 'leaf_estimation_method': 'Gradient', 'leaf_estimation_iterations': 4, 'fold_permutation_block': 4, 'depth': 1, 'bagging_temperature': 7.394364138008285}. Best is trial 686 with value: 0.3864838010352342.\u001b[0m\n",
      "\u001b[32m[I 2022-04-28 16:25:04,646]\u001b[0m Trial 697 finished with value: 0.39188958444559185 and parameters: {'iterations': 216, 'learning_rate': 0.006657022958739269, 'l2_leaf_reg': 0.7137364284790877, 'min_data_in_leaf': 52, 'random_strength': 6.721960288143909, 'bootstrap_type': 'Bayesian', 'grow_policy': 'Depthwise', 'leaf_estimation_method': 'Gradient', 'leaf_estimation_iterations': 4, 'fold_permutation_block': 4, 'depth': 1, 'bagging_temperature': 7.049997010379035}. Best is trial 686 with value: 0.3864838010352342.\u001b[0m\n",
      "\u001b[32m[I 2022-04-28 16:25:05,664]\u001b[0m Trial 698 finished with value: 0.39645274612332465 and parameters: {'iterations': 458, 'learning_rate': 0.001011985603220725, 'l2_leaf_reg': 0.29765675705573413, 'min_data_in_leaf': 50, 'random_strength': 6.345942937704213, 'bootstrap_type': 'Bayesian', 'grow_policy': 'Depthwise', 'leaf_estimation_method': 'Gradient', 'leaf_estimation_iterations': 4, 'fold_permutation_block': 4, 'depth': 1, 'bagging_temperature': 7.265147047192248}. Best is trial 686 with value: 0.3864838010352342.\u001b[0m\n",
      "\u001b[32m[I 2022-04-28 16:25:06,311]\u001b[0m Trial 699 finished with value: 0.3881462743548707 and parameters: {'iterations': 236, 'learning_rate': 0.0011273538077990715, 'l2_leaf_reg': 0.9354109863337113, 'min_data_in_leaf': 52, 'random_strength': 6.668199520439412, 'bootstrap_type': 'Bayesian', 'grow_policy': 'Depthwise', 'leaf_estimation_method': 'Gradient', 'leaf_estimation_iterations': 4, 'fold_permutation_block': 4, 'depth': 1, 'bagging_temperature': 7.447825784493904}. Best is trial 686 with value: 0.3864838010352342.\u001b[0m\n",
      "\u001b[32m[I 2022-04-28 16:25:06,983]\u001b[0m Trial 700 finished with value: 0.3895592429970122 and parameters: {'iterations': 226, 'learning_rate': 0.002807848266107822, 'l2_leaf_reg': 0.9741684686196024, 'min_data_in_leaf': 54, 'random_strength': 6.8344973224670245, 'bootstrap_type': 'Bayesian', 'grow_policy': 'Depthwise', 'leaf_estimation_method': 'Gradient', 'leaf_estimation_iterations': 4, 'fold_permutation_block': 4, 'depth': 1, 'bagging_temperature': 6.99283411882454}. Best is trial 686 with value: 0.3864838010352342.\u001b[0m\n",
      "\u001b[32m[I 2022-04-28 16:25:07,577]\u001b[0m Trial 701 finished with value: 0.3944044403492241 and parameters: {'iterations': 217, 'learning_rate': 0.015530473219666913, 'l2_leaf_reg': 0.4011221536746927, 'min_data_in_leaf': 54, 'random_strength': 6.504879618701494, 'bootstrap_type': 'Bayesian', 'grow_policy': 'Depthwise', 'leaf_estimation_method': 'Gradient', 'leaf_estimation_iterations': 4, 'fold_permutation_block': 5, 'depth': 1, 'bagging_temperature': 7.253378828361822}. Best is trial 686 with value: 0.3864838010352342.\u001b[0m\n",
      "\u001b[32m[I 2022-04-28 16:25:09,284]\u001b[0m Trial 702 finished with value: 0.591620773570494 and parameters: {'iterations': 228, 'learning_rate': 0.06578922592816308, 'l2_leaf_reg': 0.5497284582742514, 'min_data_in_leaf': 48, 'random_strength': 6.173880959039877, 'bootstrap_type': 'Bayesian', 'grow_policy': 'Depthwise', 'leaf_estimation_method': 'Gradient', 'leaf_estimation_iterations': 4, 'fold_permutation_block': 4, 'depth': 7, 'bagging_temperature': 7.5107116771548394}. Best is trial 686 with value: 0.3864838010352342.\u001b[0m\n",
      "\u001b[32m[I 2022-04-28 16:25:09,843]\u001b[0m Trial 703 finished with value: 0.3867974100373504 and parameters: {'iterations': 219, 'learning_rate': 0.0010078738872375446, 'l2_leaf_reg': 0.7988543095535539, 'min_data_in_leaf': 51, 'random_strength': 7.016634632596769, 'bootstrap_type': 'Bayesian', 'grow_policy': 'Depthwise', 'leaf_estimation_method': 'Gradient', 'leaf_estimation_iterations': 4, 'fold_permutation_block': 4, 'depth': 1, 'bagging_temperature': 7.15486483466335}. Best is trial 686 with value: 0.3864838010352342.\u001b[0m\n",
      "\u001b[32m[I 2022-04-28 16:25:10,449]\u001b[0m Trial 704 finished with value: 0.4177734680291021 and parameters: {'iterations': 209, 'learning_rate': 0.0763237107633114, 'l2_leaf_reg': 0.9422714536663075, 'min_data_in_leaf': 51, 'random_strength': 6.996588331672272, 'bootstrap_type': 'Bayesian', 'grow_policy': 'Depthwise', 'leaf_estimation_method': 'Gradient', 'leaf_estimation_iterations': 4, 'fold_permutation_block': 4, 'depth': 1, 'bagging_temperature': 6.937267335753675}. Best is trial 686 with value: 0.3864838010352342.\u001b[0m\n",
      "\u001b[32m[I 2022-04-28 16:25:11,269]\u001b[0m Trial 705 finished with value: 0.4462148596006221 and parameters: {'iterations': 237, 'learning_rate': 0.004568034117241547, 'l2_leaf_reg': 1.2784502263633897, 'min_data_in_leaf': 51, 'random_strength': 6.932835249763996, 'bootstrap_type': 'Bayesian', 'grow_policy': 'Depthwise', 'leaf_estimation_method': 'Gradient', 'leaf_estimation_iterations': 4, 'fold_permutation_block': 4, 'depth': 2, 'bagging_temperature': 7.135414260908259}. Best is trial 686 with value: 0.3864838010352342.\u001b[0m\n",
      "\u001b[32m[I 2022-04-28 16:25:11,841]\u001b[0m Trial 706 finished with value: 0.3870902389514143 and parameters: {'iterations': 222, 'learning_rate': 0.001057645632913936, 'l2_leaf_reg': 0.008490131568767961, 'min_data_in_leaf': 48, 'random_strength': 7.032659325091619, 'bootstrap_type': 'Bayesian', 'grow_policy': 'Depthwise', 'leaf_estimation_method': 'Gradient', 'leaf_estimation_iterations': 4, 'fold_permutation_block': 4, 'depth': 1, 'bagging_temperature': 7.071131284247514}. Best is trial 686 with value: 0.3864838010352342.\u001b[0m\n",
      "\u001b[32m[I 2022-04-28 16:25:12,453]\u001b[0m Trial 707 finished with value: 0.38740575250966325 and parameters: {'iterations': 231, 'learning_rate': 0.0010675112313464107, 'l2_leaf_reg': 0.6909075536871745, 'min_data_in_leaf': 48, 'random_strength': 6.93668615226563, 'bootstrap_type': 'Bayesian', 'grow_policy': 'Depthwise', 'leaf_estimation_method': 'Gradient', 'leaf_estimation_iterations': 4, 'fold_permutation_block': 4, 'depth': 1, 'bagging_temperature': 6.935125075133014}. Best is trial 686 with value: 0.3864838010352342.\u001b[0m\n",
      "\u001b[32m[I 2022-04-28 16:25:13,313]\u001b[0m Trial 708 finished with value: 0.405110212254207 and parameters: {'iterations': 330, 'learning_rate': 0.009941952961362787, 'l2_leaf_reg': 0.5624186252647798, 'min_data_in_leaf': 50, 'random_strength': 6.858640768691685, 'bootstrap_type': 'Bayesian', 'grow_policy': 'Depthwise', 'leaf_estimation_method': 'Gradient', 'leaf_estimation_iterations': 4, 'fold_permutation_block': 4, 'depth': 1, 'bagging_temperature': 6.943165186286623}. Best is trial 686 with value: 0.3864838010352342.\u001b[0m\n",
      "\u001b[32m[I 2022-04-28 16:25:13,920]\u001b[0m Trial 709 finished with value: 0.3892116313132022 and parameters: {'iterations': 241, 'learning_rate': 0.003160640017841349, 'l2_leaf_reg': 0.7477076220210643, 'min_data_in_leaf': 45, 'random_strength': 6.7261269324409385, 'bootstrap_type': 'Bayesian', 'grow_policy': 'Depthwise', 'leaf_estimation_method': 'Gradient', 'leaf_estimation_iterations': 4, 'fold_permutation_block': 4, 'depth': 1, 'bagging_temperature': 7.0208511823785}. Best is trial 686 with value: 0.3864838010352342.\u001b[0m\n",
      "\u001b[32m[I 2022-04-28 16:25:14,494]\u001b[0m Trial 710 finished with value: 0.39948089025853023 and parameters: {'iterations': 233, 'learning_rate': 0.001017718747929498, 'l2_leaf_reg': 0.7368931648504028, 'min_data_in_leaf': 48, 'random_strength': 6.971923114485943, 'bootstrap_type': 'Bayesian', 'grow_policy': 'Depthwise', 'leaf_estimation_method': 'Newton', 'leaf_estimation_iterations': 3, 'fold_permutation_block': 4, 'depth': 1, 'bagging_temperature': 6.973216084999617}. Best is trial 686 with value: 0.3864838010352342.\u001b[0m\n",
      "\u001b[32m[I 2022-04-28 16:25:15,107]\u001b[0m Trial 711 finished with value: 0.387221399141955 and parameters: {'iterations': 231, 'learning_rate': 0.0010043344378852697, 'l2_leaf_reg': 0.07850801761991315, 'min_data_in_leaf': 45, 'random_strength': 6.722785190570689, 'bootstrap_type': 'Bayesian', 'grow_policy': 'Depthwise', 'leaf_estimation_method': 'Gradient', 'leaf_estimation_iterations': 4, 'fold_permutation_block': 4, 'depth': 1, 'bagging_temperature': 7.103356413913893}. Best is trial 686 with value: 0.3864838010352342.\u001b[0m\n",
      "\u001b[32m[I 2022-04-28 16:25:15,800]\u001b[0m Trial 712 finished with value: 0.39345944921595283 and parameters: {'iterations': 243, 'learning_rate': 0.0010073662423578469, 'l2_leaf_reg': 0.08312733809400791, 'min_data_in_leaf': 43, 'random_strength': 6.650545316332617, 'bootstrap_type': 'Bayesian', 'grow_policy': 'Depthwise', 'leaf_estimation_method': 'Gradient', 'leaf_estimation_iterations': 5, 'fold_permutation_block': 4, 'depth': 1, 'bagging_temperature': 6.904440105225331}. Best is trial 686 with value: 0.3864838010352342.\u001b[0m\n",
      "\u001b[32m[I 2022-04-28 16:25:16,424]\u001b[0m Trial 713 finished with value: 0.39077970960045266 and parameters: {'iterations': 234, 'learning_rate': 0.005988252819308475, 'l2_leaf_reg': 0.05339075332696119, 'min_data_in_leaf': 45, 'random_strength': 6.765893505755728, 'bootstrap_type': 'Bayesian', 'grow_policy': 'Depthwise', 'leaf_estimation_method': 'Gradient', 'leaf_estimation_iterations': 4, 'fold_permutation_block': 4, 'depth': 1, 'bagging_temperature': 7.1469211789756315}. Best is trial 686 with value: 0.3864838010352342.\u001b[0m\n",
      "\u001b[32m[I 2022-04-28 16:25:17,085]\u001b[0m Trial 714 finished with value: 0.3904016902585761 and parameters: {'iterations': 250, 'learning_rate': 0.0030197439996683204, 'l2_leaf_reg': 0.328557559245369, 'min_data_in_leaf': 44, 'random_strength': 6.625147034075399, 'bootstrap_type': 'Bayesian', 'grow_policy': 'Depthwise', 'leaf_estimation_method': 'Gradient', 'leaf_estimation_iterations': 4, 'fold_permutation_block': 4, 'depth': 1, 'bagging_temperature': 7.157516694113188}. Best is trial 686 with value: 0.3864838010352342.\u001b[0m\n",
      "\u001b[32m[I 2022-04-28 16:25:17,807]\u001b[0m Trial 715 finished with value: 0.3872678922241734 and parameters: {'iterations': 230, 'learning_rate': 0.0010771436985166055, 'l2_leaf_reg': 0.6451512691666599, 'min_data_in_leaf': 48, 'random_strength': 6.892121530233636, 'bootstrap_type': 'Bayesian', 'grow_policy': 'Depthwise', 'leaf_estimation_method': 'Gradient', 'leaf_estimation_iterations': 4, 'fold_permutation_block': 4, 'depth': 1, 'bagging_temperature': 6.9997506933219595}. Best is trial 686 with value: 0.3864838010352342.\u001b[0m\n",
      "\u001b[32m[I 2022-04-28 16:25:18,424]\u001b[0m Trial 716 finished with value: 0.39015924434627763 and parameters: {'iterations': 241, 'learning_rate': 0.004403534181028804, 'l2_leaf_reg': 0.547071915247245, 'min_data_in_leaf': 43, 'random_strength': 6.85707119315836, 'bootstrap_type': 'Bayesian', 'grow_policy': 'Depthwise', 'leaf_estimation_method': 'Gradient', 'leaf_estimation_iterations': 4, 'fold_permutation_block': 4, 'depth': 1, 'bagging_temperature': 6.902772184067371}. Best is trial 686 with value: 0.3864838010352342.\u001b[0m\n",
      "\u001b[32m[I 2022-04-28 16:25:19,123]\u001b[0m Trial 717 finished with value: 0.4419095633575399 and parameters: {'iterations': 233, 'learning_rate': 0.0010813652362348367, 'l2_leaf_reg': 0.7361515225004645, 'min_data_in_leaf': 47, 'random_strength': 6.576519373048093, 'bootstrap_type': 'Bayesian', 'grow_policy': 'Depthwise', 'leaf_estimation_method': 'Gradient', 'leaf_estimation_iterations': 4, 'fold_permutation_block': 4, 'depth': 2, 'bagging_temperature': 7.072763922222711}. Best is trial 686 with value: 0.3864838010352342.\u001b[0m\n",
      "\u001b[32m[I 2022-04-28 16:25:19,765]\u001b[0m Trial 718 finished with value: 0.3891920672043432 and parameters: {'iterations': 229, 'learning_rate': 0.0029809081139835474, 'l2_leaf_reg': 0.5249012584053798, 'min_data_in_leaf': 47, 'random_strength': 6.840228192288059, 'bootstrap_type': 'Bayesian', 'grow_policy': 'Depthwise', 'leaf_estimation_method': 'Gradient', 'leaf_estimation_iterations': 4, 'fold_permutation_block': 4, 'depth': 1, 'bagging_temperature': 6.915245847013822}. Best is trial 686 with value: 0.3864838010352342.\u001b[0m\n",
      "\u001b[32m[I 2022-04-28 16:25:20,446]\u001b[0m Trial 719 finished with value: 0.3964071031420922 and parameters: {'iterations': 257, 'learning_rate': 0.007890898122790497, 'l2_leaf_reg': 0.011462616270884726, 'min_data_in_leaf': 42, 'random_strength': 6.982962449635064, 'bootstrap_type': 'Bayesian', 'grow_policy': 'Depthwise', 'leaf_estimation_method': 'Gradient', 'leaf_estimation_iterations': 4, 'fold_permutation_block': 5, 'depth': 1, 'bagging_temperature': 7.219909778349137}. Best is trial 686 with value: 0.3864838010352342.\u001b[0m\n",
      "\u001b[32m[I 2022-04-28 16:25:21,071]\u001b[0m Trial 720 finished with value: 0.38951870730243776 and parameters: {'iterations': 238, 'learning_rate': 0.00440743761372869, 'l2_leaf_reg': 0.4486986366263841, 'min_data_in_leaf': 45, 'random_strength': 6.39918568889122, 'bootstrap_type': 'Bayesian', 'grow_policy': 'Depthwise', 'leaf_estimation_method': 'Gradient', 'leaf_estimation_iterations': 4, 'fold_permutation_block': 4, 'depth': 1, 'bagging_temperature': 7.068019699152315}. Best is trial 686 with value: 0.3864838010352342.\u001b[0m\n",
      "\u001b[32m[I 2022-04-28 16:25:21,659]\u001b[0m Trial 721 finished with value: 0.45274126600744413 and parameters: {'iterations': 233, 'learning_rate': 0.005705786524439456, 'l2_leaf_reg': 0.8493538055490435, 'min_data_in_leaf': 46, 'random_strength': 6.707562629721122, 'bootstrap_type': 'Bernoulli', 'grow_policy': 'Depthwise', 'leaf_estimation_method': 'Gradient', 'leaf_estimation_iterations': 4, 'fold_permutation_block': 4, 'depth': 1, 'subsample': 0.6152464368534236}. Best is trial 686 with value: 0.3864838010352342.\u001b[0m\n",
      "\u001b[32m[I 2022-04-28 16:25:25,968]\u001b[0m Trial 722 finished with value: 0.5817162675793678 and parameters: {'iterations': 228, 'learning_rate': 0.0027522461621545882, 'l2_leaf_reg': 0.7832657350652016, 'min_data_in_leaf': 47, 'random_strength': 6.954627893136339, 'bootstrap_type': 'Bayesian', 'grow_policy': 'Lossguide', 'leaf_estimation_method': 'Gradient', 'leaf_estimation_iterations': 4, 'fold_permutation_block': 4, 'max_leaves': 254, 'depth': 14, 'bagging_temperature': 6.949549108303783}. Best is trial 686 with value: 0.3864838010352342.\u001b[0m\n",
      "\u001b[32m[I 2022-04-28 16:25:26,604]\u001b[0m Trial 723 finished with value: 0.3885437518030192 and parameters: {'iterations': 244, 'learning_rate': 0.002695251011716554, 'l2_leaf_reg': 0.37199626055541657, 'min_data_in_leaf': 44, 'random_strength': 6.584798772491669, 'bootstrap_type': 'Bayesian', 'grow_policy': 'Depthwise', 'leaf_estimation_method': 'Gradient', 'leaf_estimation_iterations': 4, 'fold_permutation_block': 4, 'depth': 1, 'bagging_temperature': 7.224111293947279}. Best is trial 686 with value: 0.3864838010352342.\u001b[0m\n",
      "\u001b[32m[I 2022-04-28 16:25:27,188]\u001b[0m Trial 724 finished with value: 0.4461424972056756 and parameters: {'iterations': 221, 'learning_rate': 0.05809970641502231, 'l2_leaf_reg': 0.2055413280618894, 'min_data_in_leaf': 40, 'random_strength': 6.372528082270594, 'bootstrap_type': 'Bayesian', 'grow_policy': 'Depthwise', 'leaf_estimation_method': 'Newton', 'leaf_estimation_iterations': 4, 'fold_permutation_block': 4, 'depth': 1, 'bagging_temperature': 6.909389216127547}. Best is trial 686 with value: 0.3864838010352342.\u001b[0m\n",
      "\u001b[32m[I 2022-04-28 16:25:27,896]\u001b[0m Trial 725 finished with value: 0.44118987477635924 and parameters: {'iterations': 230, 'learning_rate': 0.0011132508518500788, 'l2_leaf_reg': 0.9447243912061966, 'min_data_in_leaf': 48, 'random_strength': 6.73907242384616, 'bootstrap_type': 'Bayesian', 'grow_policy': 'Depthwise', 'leaf_estimation_method': 'Gradient', 'leaf_estimation_iterations': 4, 'fold_permutation_block': 5, 'depth': 2, 'bagging_temperature': 7.269046331394718}. Best is trial 686 with value: 0.3864838010352342.\u001b[0m\n",
      "\u001b[32m[I 2022-04-28 16:25:28,523]\u001b[0m Trial 726 finished with value: 0.38940627762868213 and parameters: {'iterations': 238, 'learning_rate': 0.004462946398029218, 'l2_leaf_reg': 0.6738330014494316, 'min_data_in_leaf': 49, 'random_strength': 7.050598410007478, 'bootstrap_type': 'Bayesian', 'grow_policy': 'Depthwise', 'leaf_estimation_method': 'Gradient', 'leaf_estimation_iterations': 4, 'fold_permutation_block': 4, 'depth': 1, 'bagging_temperature': 7.153031078141355}. Best is trial 686 with value: 0.3864838010352342.\u001b[0m\n",
      "\u001b[32m[I 2022-04-28 16:25:29,212]\u001b[0m Trial 727 finished with value: 0.38797085537343157 and parameters: {'iterations': 218, 'learning_rate': 0.0010000152005322203, 'l2_leaf_reg': 1.005121843951503, 'min_data_in_leaf': 47, 'random_strength': 6.803865876957039, 'bootstrap_type': 'Bayesian', 'grow_policy': 'Depthwise', 'leaf_estimation_method': 'Gradient', 'leaf_estimation_iterations': 4, 'fold_permutation_block': 4, 'depth': 1, 'bagging_temperature': 6.885251780896716}. Best is trial 686 with value: 0.3864838010352342.\u001b[0m\n",
      "\u001b[32m[I 2022-04-28 16:25:29,843]\u001b[0m Trial 728 finished with value: 0.38882633877130535 and parameters: {'iterations': 249, 'learning_rate': 0.0010248741515827132, 'l2_leaf_reg': 0.4244320249193898, 'min_data_in_leaf': 49, 'random_strength': 8.988778600372633, 'bootstrap_type': 'Bayesian', 'grow_policy': 'Depthwise', 'leaf_estimation_method': 'Gradient', 'leaf_estimation_iterations': 4, 'fold_permutation_block': 4, 'depth': 1, 'bagging_temperature': 7.32171488877381}. Best is trial 686 with value: 0.3864838010352342.\u001b[0m\n",
      "\u001b[32m[I 2022-04-28 16:25:30,441]\u001b[0m Trial 729 finished with value: 0.3892081509785563 and parameters: {'iterations': 225, 'learning_rate': 0.0029083436489447203, 'l2_leaf_reg': 0.14820712072948383, 'min_data_in_leaf': 46, 'random_strength': 6.500290673779178, 'bootstrap_type': 'Bayesian', 'grow_policy': 'Depthwise', 'leaf_estimation_method': 'Gradient', 'leaf_estimation_iterations': 4, 'fold_permutation_block': 4, 'depth': 1, 'bagging_temperature': 7.077864177223909}. Best is trial 686 with value: 0.3864838010352342.\u001b[0m\n",
      "\u001b[32m[I 2022-04-28 16:25:31,051]\u001b[0m Trial 730 finished with value: 0.3904685711357449 and parameters: {'iterations': 215, 'learning_rate': 0.006289653435515118, 'l2_leaf_reg': 0.6007518314652943, 'min_data_in_leaf': 47, 'random_strength': 7.03592708127391, 'bootstrap_type': 'Bayesian', 'grow_policy': 'Depthwise', 'leaf_estimation_method': 'Gradient', 'leaf_estimation_iterations': 4, 'fold_permutation_block': 4, 'depth': 1, 'bagging_temperature': 7.294347391655077}. Best is trial 686 with value: 0.3864838010352342.\u001b[0m\n",
      "\u001b[32m[I 2022-04-28 16:25:31,658]\u001b[0m Trial 731 finished with value: 0.3878131689294819 and parameters: {'iterations': 227, 'learning_rate': 0.0010971935867707871, 'l2_leaf_reg': 4.000594563376121, 'min_data_in_leaf': 45, 'random_strength': 6.286313701426671, 'bootstrap_type': 'Bayesian', 'grow_policy': 'Depthwise', 'leaf_estimation_method': 'Gradient', 'leaf_estimation_iterations': 4, 'fold_permutation_block': 4, 'depth': 1, 'bagging_temperature': 6.971528448632725}. Best is trial 686 with value: 0.3864838010352342.\u001b[0m\n",
      "\u001b[32m[I 2022-04-28 16:25:32,210]\u001b[0m Trial 732 finished with value: 0.3894990596104624 and parameters: {'iterations': 205, 'learning_rate': 0.0028457103026133905, 'l2_leaf_reg': 0.03144993152208803, 'min_data_in_leaf': 47, 'random_strength': 6.666141601371079, 'bootstrap_type': 'Bayesian', 'grow_policy': 'Depthwise', 'leaf_estimation_method': 'Gradient', 'leaf_estimation_iterations': 4, 'fold_permutation_block': 4, 'depth': 1, 'bagging_temperature': 7.369111719936295}. Best is trial 686 with value: 0.3864838010352342.\u001b[0m\n",
      "\u001b[32m[I 2022-04-28 16:25:32,876]\u001b[0m Trial 733 finished with value: 0.4433069228852738 and parameters: {'iterations': 218, 'learning_rate': 0.004507298383335025, 'l2_leaf_reg': 0.7742445039031931, 'min_data_in_leaf': 49, 'random_strength': 6.903021000861198, 'bootstrap_type': 'Bayesian', 'grow_policy': 'Depthwise', 'leaf_estimation_method': 'Gradient', 'leaf_estimation_iterations': 3, 'fold_permutation_block': 4, 'depth': 2, 'bagging_temperature': 6.907291193437452}. Best is trial 686 with value: 0.3864838010352342.\u001b[0m\n",
      "\u001b[32m[I 2022-04-28 16:25:33,570]\u001b[0m Trial 734 finished with value: 0.3875452724188036 and parameters: {'iterations': 238, 'learning_rate': 0.001152667728948199, 'l2_leaf_reg': 1.1002467991056142, 'min_data_in_leaf': 49, 'random_strength': 6.5582109106595246, 'bootstrap_type': 'Bayesian', 'grow_policy': 'Depthwise', 'leaf_estimation_method': 'Gradient', 'leaf_estimation_iterations': 4, 'fold_permutation_block': 5, 'depth': 1, 'bagging_temperature': 7.165701891921608}. Best is trial 686 with value: 0.3864838010352342.\u001b[0m\n",
      "\u001b[32m[I 2022-04-28 16:25:34,159]\u001b[0m Trial 735 finished with value: 0.38991775453120026 and parameters: {'iterations': 226, 'learning_rate': 0.002732822094730713, 'l2_leaf_reg': 0.26656956200667525, 'min_data_in_leaf': 41, 'random_strength': 0.008441191986658936, 'bootstrap_type': 'Bayesian', 'grow_policy': 'Depthwise', 'leaf_estimation_method': 'Gradient', 'leaf_estimation_iterations': 4, 'fold_permutation_block': 4, 'depth': 1, 'bagging_temperature': 7.089627057407629}. Best is trial 686 with value: 0.3864838010352342.\u001b[0m\n",
      "\u001b[32m[I 2022-04-28 16:25:34,733]\u001b[0m Trial 736 finished with value: 0.3883713910610125 and parameters: {'iterations': 215, 'learning_rate': 0.0011170944421999018, 'l2_leaf_reg': 0.9435045236239751, 'min_data_in_leaf': 49, 'random_strength': 6.819993640285289, 'bootstrap_type': 'Bayesian', 'grow_policy': 'Depthwise', 'leaf_estimation_method': 'Gradient', 'leaf_estimation_iterations': 4, 'fold_permutation_block': 4, 'depth': 1, 'bagging_temperature': 7.328711966810813}. Best is trial 686 with value: 0.3864838010352342.\u001b[0m\n",
      "\u001b[32m[I 2022-04-28 16:25:35,296]\u001b[0m Trial 737 finished with value: 0.4025974590072998 and parameters: {'iterations': 206, 'learning_rate': 0.008342168164291551, 'l2_leaf_reg': 0.4786864423000981, 'min_data_in_leaf': 50, 'random_strength': 7.083595116919526, 'bootstrap_type': 'Bayesian', 'grow_policy': 'Depthwise', 'leaf_estimation_method': 'Newton', 'leaf_estimation_iterations': 4, 'fold_permutation_block': 4, 'depth': 1, 'bagging_temperature': 6.928167058315402}. Best is trial 686 with value: 0.3864838010352342.\u001b[0m\n",
      "\u001b[32m[I 2022-04-28 16:25:35,932]\u001b[0m Trial 738 finished with value: 0.3884893613263749 and parameters: {'iterations': 235, 'learning_rate': 0.0010701983522722332, 'l2_leaf_reg': 0.6410379689169043, 'min_data_in_leaf': 51, 'random_strength': 6.291593969667774, 'bootstrap_type': 'Bayesian', 'grow_policy': 'Depthwise', 'leaf_estimation_method': 'Gradient', 'leaf_estimation_iterations': 4, 'fold_permutation_block': 4, 'depth': 1, 'bagging_temperature': 7.42458777423945}. Best is trial 686 with value: 0.3864838010352342.\u001b[0m\n",
      "\u001b[32m[I 2022-04-28 16:25:36,528]\u001b[0m Trial 739 finished with value: 0.4582112652188672 and parameters: {'iterations': 221, 'learning_rate': 0.0010649171379139546, 'l2_leaf_reg': 1.088884428075961, 'min_data_in_leaf': 43, 'random_strength': 6.670139475819266, 'bootstrap_type': 'Bayesian', 'grow_policy': 'Depthwise', 'leaf_estimation_method': 'Gradient', 'leaf_estimation_iterations': 4, 'fold_permutation_block': 4, 'depth': 1, 'bagging_temperature': 0.16273605120951196}. Best is trial 686 with value: 0.3864838010352342.\u001b[0m\n",
      "\u001b[32m[I 2022-04-28 16:25:37,119]\u001b[0m Trial 740 finished with value: 0.38747002652385865 and parameters: {'iterations': 212, 'learning_rate': 0.001032262017428712, 'l2_leaf_reg': 0.6764657722094236, 'min_data_in_leaf': 51, 'random_strength': 6.10390803517308, 'bootstrap_type': 'Bayesian', 'grow_policy': 'Depthwise', 'leaf_estimation_method': 'Gradient', 'leaf_estimation_iterations': 4, 'fold_permutation_block': 4, 'depth': 1, 'bagging_temperature': 7.137841202519584}. Best is trial 686 with value: 0.3864838010352342.\u001b[0m\n",
      "\u001b[32m[I 2022-04-28 16:25:37,992]\u001b[0m Trial 741 finished with value: 0.4514092995840793 and parameters: {'iterations': 288, 'learning_rate': 0.005946060718201414, 'l2_leaf_reg': 0.8296940513118162, 'min_data_in_leaf': 46, 'random_strength': 6.50267494799404, 'bootstrap_type': 'Bayesian', 'grow_policy': 'Depthwise', 'leaf_estimation_method': 'Gradient', 'leaf_estimation_iterations': 4, 'fold_permutation_block': 5, 'depth': 2, 'bagging_temperature': 6.871223205280968}. Best is trial 686 with value: 0.3864838010352342.\u001b[0m\n",
      "\u001b[32m[I 2022-04-28 16:25:38,547]\u001b[0m Trial 742 finished with value: 0.38956936208510534 and parameters: {'iterations': 197, 'learning_rate': 0.0041037739180280995, 'l2_leaf_reg': 0.0016262238057407896, 'min_data_in_leaf': 48, 'random_strength': 6.886351136391437, 'bootstrap_type': 'Bayesian', 'grow_policy': 'Depthwise', 'leaf_estimation_method': 'Gradient', 'leaf_estimation_iterations': 4, 'fold_permutation_block': 4, 'depth': 1, 'bagging_temperature': 7.360103026050681}. Best is trial 686 with value: 0.3864838010352342.\u001b[0m\n",
      "\u001b[32m[I 2022-04-28 16:25:39,170]\u001b[0m Trial 743 finished with value: 0.38720649563744086 and parameters: {'iterations': 229, 'learning_rate': 0.0010328958642841523, 'l2_leaf_reg': 1.3537445763869167, 'min_data_in_leaf': 50, 'random_strength': 7.033885700155862, 'bootstrap_type': 'Bayesian', 'grow_policy': 'Depthwise', 'leaf_estimation_method': 'Gradient', 'leaf_estimation_iterations': 4, 'fold_permutation_block': 4, 'depth': 1, 'bagging_temperature': 7.106191828342951}. Best is trial 686 with value: 0.3864838010352342.\u001b[0m\n",
      "\u001b[32m[I 2022-04-28 16:25:39,828]\u001b[0m Trial 744 finished with value: 0.39169867052103574 and parameters: {'iterations': 251, 'learning_rate': 0.004298832425963564, 'l2_leaf_reg': 1.2828903106219587, 'min_data_in_leaf': 49, 'random_strength': 6.997924216412861, 'bootstrap_type': 'Bayesian', 'grow_policy': 'Depthwise', 'leaf_estimation_method': 'Gradient', 'leaf_estimation_iterations': 4, 'fold_permutation_block': 4, 'depth': 1, 'bagging_temperature': 7.091205973255389}. Best is trial 686 with value: 0.3864838010352342.\u001b[0m\n",
      "\u001b[32m[I 2022-04-28 16:25:43,520]\u001b[0m Trial 745 finished with value: 0.5793050928996871 and parameters: {'iterations': 240, 'learning_rate': 0.002919707438460692, 'l2_leaf_reg': 1.4560660846151054, 'min_data_in_leaf': 50, 'random_strength': 7.133953420361269, 'bootstrap_type': 'Bayesian', 'grow_policy': 'Lossguide', 'leaf_estimation_method': 'Gradient', 'leaf_estimation_iterations': 4, 'fold_permutation_block': 4, 'max_leaves': 138, 'depth': 14, 'bagging_temperature': 6.8538755432095035}. Best is trial 686 with value: 0.3864838010352342.\u001b[0m\n",
      "\u001b[32m[I 2022-04-28 16:25:44,130]\u001b[0m Trial 746 finished with value: 0.3901123400292199 and parameters: {'iterations': 231, 'learning_rate': 0.006350527452197078, 'l2_leaf_reg': 1.191804093658907, 'min_data_in_leaf': 47, 'random_strength': 7.138088474884141, 'bootstrap_type': 'Bayesian', 'grow_policy': 'Depthwise', 'leaf_estimation_method': 'Gradient', 'leaf_estimation_iterations': 4, 'fold_permutation_block': 4, 'depth': 1, 'bagging_temperature': 7.161691056319926}. Best is trial 686 with value: 0.3864838010352342.\u001b[0m\n",
      "\u001b[32m[I 2022-04-28 16:25:44,899]\u001b[0m Trial 747 finished with value: 0.4624947223087681 and parameters: {'iterations': 312, 'learning_rate': 0.0028051208841244684, 'l2_leaf_reg': 1.4316665244004727, 'min_data_in_leaf': 51, 'random_strength': 6.8427696028707565, 'bootstrap_type': 'Bernoulli', 'grow_policy': 'Depthwise', 'leaf_estimation_method': 'Gradient', 'leaf_estimation_iterations': 4, 'fold_permutation_block': 4, 'depth': 1, 'subsample': 0.8177553559932198}. Best is trial 686 with value: 0.3864838010352342.\u001b[0m\n",
      "\u001b[32m[I 2022-04-28 16:25:45,529]\u001b[0m Trial 748 finished with value: 0.38782307149611106 and parameters: {'iterations': 246, 'learning_rate': 0.0010474367306252826, 'l2_leaf_reg': 0.9341737573709424, 'min_data_in_leaf': 45, 'random_strength': 7.118585995740269, 'bootstrap_type': 'Bayesian', 'grow_policy': 'Depthwise', 'leaf_estimation_method': 'Gradient', 'leaf_estimation_iterations': 4, 'fold_permutation_block': 4, 'depth': 1, 'bagging_temperature': 7.259600131600477}. Best is trial 686 with value: 0.3864838010352342.\u001b[0m\n",
      "\u001b[32m[I 2022-04-28 16:25:46,134]\u001b[0m Trial 749 finished with value: 0.38733412379579524 and parameters: {'iterations': 230, 'learning_rate': 0.0010005946134825554, 'l2_leaf_reg': 1.0817384759872248, 'min_data_in_leaf': 52, 'random_strength': 6.893403764994635, 'bootstrap_type': 'Bayesian', 'grow_policy': 'Depthwise', 'leaf_estimation_method': 'Gradient', 'leaf_estimation_iterations': 4, 'fold_permutation_block': 4, 'depth': 1, 'bagging_temperature': 6.947502777732011}. Best is trial 686 with value: 0.3864838010352342.\u001b[0m\n",
      "\u001b[32m[I 2022-04-28 16:25:46,807]\u001b[0m Trial 750 finished with value: 0.38995878139766815 and parameters: {'iterations': 257, 'learning_rate': 0.0010414250413803637, 'l2_leaf_reg': 1.2361234035948128, 'min_data_in_leaf': 52, 'random_strength': 7.028192710638799, 'bootstrap_type': 'Bayesian', 'grow_policy': 'Depthwise', 'leaf_estimation_method': 'Gradient', 'leaf_estimation_iterations': 4, 'fold_permutation_block': 4, 'depth': 1, 'bagging_temperature': 6.869142748421394}. Best is trial 686 with value: 0.3864838010352342.\u001b[0m\n",
      "\u001b[32m[I 2022-04-28 16:25:47,469]\u001b[0m Trial 751 finished with value: 0.39442754152742543 and parameters: {'iterations': 237, 'learning_rate': 0.004709573096857623, 'l2_leaf_reg': 0.9564296756886473, 'min_data_in_leaf': 34, 'random_strength': 7.153743082938663, 'bootstrap_type': 'Bayesian', 'grow_policy': 'Depthwise', 'leaf_estimation_method': 'Newton', 'leaf_estimation_iterations': 4, 'fold_permutation_block': 4, 'depth': 1, 'bagging_temperature': 6.959854075046356}. Best is trial 686 with value: 0.3864838010352342.\u001b[0m\n",
      "\u001b[32m[I 2022-04-28 16:25:48,427]\u001b[0m Trial 752 finished with value: 0.39904512696164757 and parameters: {'iterations': 395, 'learning_rate': 0.0029846313453929132, 'l2_leaf_reg': 1.0258252193918564, 'min_data_in_leaf': 49, 'random_strength': 6.855723271284739, 'bootstrap_type': 'Bayesian', 'grow_policy': 'Depthwise', 'leaf_estimation_method': 'Gradient', 'leaf_estimation_iterations': 4, 'fold_permutation_block': 4, 'depth': 1, 'bagging_temperature': 6.842077643949687}. Best is trial 686 with value: 0.3864838010352342.\u001b[0m\n",
      "\u001b[32m[I 2022-04-28 16:25:49,109]\u001b[0m Trial 753 finished with value: 0.3870281335422518 and parameters: {'iterations': 231, 'learning_rate': 0.001081058194739767, 'l2_leaf_reg': 1.3914109532120897, 'min_data_in_leaf': 51, 'random_strength': 6.905956467590519, 'bootstrap_type': 'Bayesian', 'grow_policy': 'Depthwise', 'leaf_estimation_method': 'Gradient', 'leaf_estimation_iterations': 4, 'fold_permutation_block': 4, 'depth': 1, 'bagging_temperature': 7.019487027966971}. Best is trial 686 with value: 0.3864838010352342.\u001b[0m\n",
      "\u001b[32m[I 2022-04-28 16:25:49,767]\u001b[0m Trial 754 finished with value: 0.3910279461676882 and parameters: {'iterations': 246, 'learning_rate': 0.004860742798347078, 'l2_leaf_reg': 1.4730268625201859, 'min_data_in_leaf': 53, 'random_strength': 6.707849551717822, 'bootstrap_type': 'Bayesian', 'grow_policy': 'Depthwise', 'leaf_estimation_method': 'Gradient', 'leaf_estimation_iterations': 4, 'fold_permutation_block': 4, 'depth': 1, 'bagging_temperature': 6.854114785697955}. Best is trial 686 with value: 0.3864838010352342.\u001b[0m\n",
      "\u001b[32m[I 2022-04-28 16:25:50,515]\u001b[0m Trial 755 finished with value: 0.4422027069763126 and parameters: {'iterations': 241, 'learning_rate': 0.0010827784526575338, 'l2_leaf_reg': 1.380592650539532, 'min_data_in_leaf': 48, 'random_strength': 7.162582885464125, 'bootstrap_type': 'Bayesian', 'grow_policy': 'Depthwise', 'leaf_estimation_method': 'Gradient', 'leaf_estimation_iterations': 4, 'fold_permutation_block': 4, 'depth': 2, 'bagging_temperature': 7.055709496192671}. Best is trial 686 with value: 0.3864838010352342.\u001b[0m\n",
      "\u001b[32m[I 2022-04-28 16:25:51,168]\u001b[0m Trial 756 finished with value: 0.43132939854435465 and parameters: {'iterations': 232, 'learning_rate': 0.07055352298114632, 'l2_leaf_reg': 1.2162677782048585, 'min_data_in_leaf': 50, 'random_strength': 6.939005687555217, 'bootstrap_type': 'Bayesian', 'grow_policy': 'Depthwise', 'leaf_estimation_method': 'Gradient', 'leaf_estimation_iterations': 5, 'fold_permutation_block': 5, 'depth': 1, 'bagging_temperature': 7.0199061198379304}. Best is trial 686 with value: 0.3864838010352342.\u001b[0m\n",
      "\u001b[32m[I 2022-04-28 16:25:51,806]\u001b[0m Trial 757 finished with value: 0.38773308544214147 and parameters: {'iterations': 232, 'learning_rate': 0.0010145374653756972, 'l2_leaf_reg': 1.7006422801075294, 'min_data_in_leaf': 52, 'random_strength': 6.719342902379088, 'bootstrap_type': 'Bayesian', 'grow_policy': 'Depthwise', 'leaf_estimation_method': 'Gradient', 'leaf_estimation_iterations': 4, 'fold_permutation_block': 4, 'depth': 1, 'bagging_temperature': 6.979435418390363}. Best is trial 686 with value: 0.3864838010352342.\u001b[0m\n",
      "\u001b[32m[I 2022-04-28 16:25:52,495]\u001b[0m Trial 758 finished with value: 0.3966577522924513 and parameters: {'iterations': 269, 'learning_rate': 0.0072774217033205486, 'l2_leaf_reg': 1.2925483696050506, 'min_data_in_leaf': 53, 'random_strength': 7.146937924309274, 'bootstrap_type': 'Bayesian', 'grow_policy': 'Depthwise', 'leaf_estimation_method': 'Gradient', 'leaf_estimation_iterations': 4, 'fold_permutation_block': 4, 'depth': 1, 'bagging_temperature': 6.809122482701606}. Best is trial 686 with value: 0.3864838010352342.\u001b[0m\n",
      "\u001b[32m[I 2022-04-28 16:25:53,244]\u001b[0m Trial 759 finished with value: 0.4075516214246467 and parameters: {'iterations': 240, 'learning_rate': 0.012383279483881156, 'l2_leaf_reg': 1.5612353432103474, 'min_data_in_leaf': 46, 'random_strength': 6.484916357699887, 'bootstrap_type': 'Bayesian', 'grow_policy': 'Depthwise', 'leaf_estimation_method': 'Gradient', 'leaf_estimation_iterations': 7, 'fold_permutation_block': 4, 'depth': 1, 'bagging_temperature': 7.247782688987801}. Best is trial 686 with value: 0.3864838010352342.\u001b[0m\n",
      "\u001b[32m[I 2022-04-28 16:25:53,848]\u001b[0m Trial 760 finished with value: 0.3968791528513842 and parameters: {'iterations': 229, 'learning_rate': 0.003188596950574509, 'l2_leaf_reg': 1.483270580150643, 'min_data_in_leaf': 49, 'random_strength': 6.939516502285454, 'bootstrap_type': 'Bayesian', 'grow_policy': 'Depthwise', 'leaf_estimation_method': 'Gradient', 'leaf_estimation_iterations': 3, 'fold_permutation_block': 5, 'depth': 1, 'bagging_temperature': 7.098916819354317}. Best is trial 686 with value: 0.3864838010352342.\u001b[0m\n",
      "\u001b[32m[I 2022-04-28 16:25:54,483]\u001b[0m Trial 761 finished with value: 0.40381000779614307 and parameters: {'iterations': 249, 'learning_rate': 0.025264573304758352, 'l2_leaf_reg': 1.1404944592429935, 'min_data_in_leaf': 52, 'random_strength': 6.726381914332382, 'bootstrap_type': 'Bayesian', 'grow_policy': 'Depthwise', 'leaf_estimation_method': 'Gradient', 'leaf_estimation_iterations': 4, 'fold_permutation_block': 4, 'depth': 1, 'bagging_temperature': 6.8590002517164415}. Best is trial 686 with value: 0.3864838010352342.\u001b[0m\n",
      "\u001b[32m[I 2022-04-28 16:25:55,087]\u001b[0m Trial 762 finished with value: 0.38848426107617257 and parameters: {'iterations': 234, 'learning_rate': 0.0010091589704702808, 'l2_leaf_reg': 1.0252044775892064, 'min_data_in_leaf': 48, 'random_strength': 7.112845668988449, 'bootstrap_type': 'Bayesian', 'grow_policy': 'Depthwise', 'leaf_estimation_method': 'Gradient', 'leaf_estimation_iterations': 4, 'fold_permutation_block': 4, 'depth': 1, 'bagging_temperature': 7.4323587131978615}. Best is trial 686 with value: 0.3864838010352342.\u001b[0m\n",
      "\u001b[32m[I 2022-04-28 16:25:55,727]\u001b[0m Trial 763 finished with value: 0.38860512901448846 and parameters: {'iterations': 227, 'learning_rate': 0.001067782225099949, 'l2_leaf_reg': 1.3434655530784854, 'min_data_in_leaf': 44, 'random_strength': 6.422044761600173, 'bootstrap_type': 'Bayesian', 'grow_policy': 'Depthwise', 'leaf_estimation_method': 'Gradient', 'leaf_estimation_iterations': 4, 'fold_permutation_block': 4, 'depth': 1, 'bagging_temperature': 7.412693799380525}. Best is trial 686 with value: 0.3864838010352342.\u001b[0m\n",
      "\u001b[32m[I 2022-04-28 16:25:56,359]\u001b[0m Trial 764 finished with value: 0.39758872408492674 and parameters: {'iterations': 242, 'learning_rate': 0.00464126170915449, 'l2_leaf_reg': 0.32783649810663146, 'min_data_in_leaf': 50, 'random_strength': 6.794971404789621, 'bootstrap_type': 'Bayesian', 'grow_policy': 'Depthwise', 'leaf_estimation_method': 'Newton', 'leaf_estimation_iterations': 4, 'fold_permutation_block': 4, 'depth': 1, 'bagging_temperature': 7.087928116847394}. Best is trial 686 with value: 0.3864838010352342.\u001b[0m\n",
      "\u001b[32m[I 2022-04-28 16:25:57,087]\u001b[0m Trial 765 finished with value: 0.4395606677720197 and parameters: {'iterations': 215, 'learning_rate': 0.001027384860430507, 'l2_leaf_reg': 9.783009426030645, 'min_data_in_leaf': 53, 'random_strength': 6.980718882336281, 'bootstrap_type': 'Bayesian', 'grow_policy': 'Depthwise', 'leaf_estimation_method': 'Gradient', 'leaf_estimation_iterations': 4, 'fold_permutation_block': 4, 'depth': 2, 'bagging_temperature': 6.8171628724499715}. Best is trial 686 with value: 0.3864838010352342.\u001b[0m\n",
      "\u001b[32m[I 2022-04-28 16:25:57,712]\u001b[0m Trial 766 finished with value: 0.38805943368852386 and parameters: {'iterations': 225, 'learning_rate': 0.0010188699221385755, 'l2_leaf_reg': 1.0599124897781493, 'min_data_in_leaf': 47, 'random_strength': 6.579011659630899, 'bootstrap_type': 'Bayesian', 'grow_policy': 'Depthwise', 'leaf_estimation_method': 'Gradient', 'leaf_estimation_iterations': 4, 'fold_permutation_block': 4, 'depth': 1, 'bagging_temperature': 7.204457167635573}. Best is trial 686 with value: 0.3864838010352342.\u001b[0m\n",
      "\u001b[32m[I 2022-04-28 16:25:58,357]\u001b[0m Trial 767 finished with value: 0.38962291227940565 and parameters: {'iterations': 234, 'learning_rate': 0.0029737250746985845, 'l2_leaf_reg': 1.5655042473619831, 'min_data_in_leaf': 51, 'random_strength': 7.257108793192808, 'bootstrap_type': 'Bayesian', 'grow_policy': 'Depthwise', 'leaf_estimation_method': 'Gradient', 'leaf_estimation_iterations': 4, 'fold_permutation_block': 4, 'depth': 1, 'bagging_temperature': 7.442008291772191}. Best is trial 686 with value: 0.3864838010352342.\u001b[0m\n",
      "\u001b[32m[I 2022-04-28 16:26:00,193]\u001b[0m Trial 768 finished with value: 0.5579232945857431 and parameters: {'iterations': 261, 'learning_rate': 0.006165265734594553, 'l2_leaf_reg': 3.7195680610770934, 'min_data_in_leaf': 54, 'random_strength': 6.365776739746437, 'bootstrap_type': 'Bayesian', 'grow_policy': 'Lossguide', 'leaf_estimation_method': 'Gradient', 'leaf_estimation_iterations': 4, 'fold_permutation_block': 4, 'max_leaves': 225, 'depth': 6, 'bagging_temperature': 7.018633925581246}. Best is trial 686 with value: 0.3864838010352342.\u001b[0m\n",
      "\u001b[32m[I 2022-04-28 16:26:00,796]\u001b[0m Trial 769 finished with value: 0.3874514906331085 and parameters: {'iterations': 220, 'learning_rate': 0.0028366458022668645, 'l2_leaf_reg': 1.2613126772344903, 'min_data_in_leaf': 53, 'random_strength': 6.79269448665392, 'bootstrap_type': 'Bayesian', 'grow_policy': 'Depthwise', 'leaf_estimation_method': 'Gradient', 'leaf_estimation_iterations': 4, 'fold_permutation_block': 4, 'depth': 1, 'bagging_temperature': 7.2410058103155395}. Best is trial 686 with value: 0.3864838010352342.\u001b[0m\n",
      "\u001b[32m[I 2022-04-28 16:26:01,362]\u001b[0m Trial 770 finished with value: 0.3893916448633381 and parameters: {'iterations': 206, 'learning_rate': 0.0010229142134942446, 'l2_leaf_reg': 0.800899661902506, 'min_data_in_leaf': 42, 'random_strength': 7.200942830721724, 'bootstrap_type': 'Bayesian', 'grow_policy': 'Depthwise', 'leaf_estimation_method': 'Gradient', 'leaf_estimation_iterations': 4, 'fold_permutation_block': 4, 'depth': 1, 'bagging_temperature': 6.835794174149841}. Best is trial 686 with value: 0.3864838010352342.\u001b[0m\n",
      "\u001b[32m[I 2022-04-28 16:26:01,956]\u001b[0m Trial 771 finished with value: 0.3877525722214527 and parameters: {'iterations': 213, 'learning_rate': 0.0010273349314011758, 'l2_leaf_reg': 1.0084578939859197, 'min_data_in_leaf': 50, 'random_strength': 6.640108529624709, 'bootstrap_type': 'Bayesian', 'grow_policy': 'Depthwise', 'leaf_estimation_method': 'Gradient', 'leaf_estimation_iterations': 4, 'fold_permutation_block': 5, 'depth': 1, 'bagging_temperature': 7.029988843879569}. Best is trial 686 with value: 0.3864838010352342.\u001b[0m\n",
      "\u001b[32m[I 2022-04-28 16:26:02,603]\u001b[0m Trial 772 finished with value: 0.39000527152619496 and parameters: {'iterations': 226, 'learning_rate': 0.004466351347696625, 'l2_leaf_reg': 1.7181457376812466, 'min_data_in_leaf': 54, 'random_strength': 7.001773190247643, 'bootstrap_type': 'Bayesian', 'grow_policy': 'Depthwise', 'leaf_estimation_method': 'Gradient', 'leaf_estimation_iterations': 4, 'fold_permutation_block': 4, 'depth': 1, 'bagging_temperature': 7.459661267481894}. Best is trial 686 with value: 0.3864838010352342.\u001b[0m\n",
      "\u001b[32m[I 2022-04-28 16:26:03,514]\u001b[0m Trial 773 finished with value: 0.5248530899095714 and parameters: {'iterations': 236, 'learning_rate': 0.007985662874930487, 'l2_leaf_reg': 0.25235823594175905, 'min_data_in_leaf': 46, 'random_strength': 6.157461422168586, 'bootstrap_type': 'Bayesian', 'grow_policy': 'Depthwise', 'leaf_estimation_method': 'Gradient', 'leaf_estimation_iterations': 4, 'fold_permutation_block': 4, 'depth': 4, 'bagging_temperature': 7.2491342357629165}. Best is trial 686 with value: 0.3864838010352342.\u001b[0m\n",
      "\u001b[32m[I 2022-04-28 16:26:04,104]\u001b[0m Trial 774 finished with value: 0.4236052979346739 and parameters: {'iterations': 220, 'learning_rate': 0.0903267003081291, 'l2_leaf_reg': 0.019846428980198838, 'min_data_in_leaf': 52, 'random_strength': 6.527951491474097, 'bootstrap_type': 'Bayesian', 'grow_policy': 'Depthwise', 'leaf_estimation_method': 'Gradient', 'leaf_estimation_iterations': 4, 'fold_permutation_block': 4, 'depth': 1, 'bagging_temperature': 7.089919174788729}. Best is trial 686 with value: 0.3864838010352342.\u001b[0m\n",
      "\u001b[32m[I 2022-04-28 16:26:04,957]\u001b[0m Trial 775 finished with value: 0.44724631258137104 and parameters: {'iterations': 246, 'learning_rate': 0.002917207475533575, 'l2_leaf_reg': 0.4257056424477663, 'min_data_in_leaf': 48, 'random_strength': 6.84482840696315, 'bootstrap_type': 'Bayesian', 'grow_policy': 'Depthwise', 'leaf_estimation_method': 'Gradient', 'leaf_estimation_iterations': 4, 'fold_permutation_block': 4, 'depth': 2, 'bagging_temperature': 6.823024980474452}. Best is trial 686 with value: 0.3864838010352342.\u001b[0m\n",
      "\u001b[32m[I 2022-04-28 16:26:05,551]\u001b[0m Trial 776 finished with value: 0.3922480009280828 and parameters: {'iterations': 201, 'learning_rate': 0.0057290046040891825, 'l2_leaf_reg': 1.1248800991015462, 'min_data_in_leaf': 54, 'random_strength': 7.272079636635759, 'bootstrap_type': 'Bayesian', 'grow_policy': 'Depthwise', 'leaf_estimation_method': 'Gradient', 'leaf_estimation_iterations': 4, 'fold_permutation_block': 4, 'depth': 1, 'bagging_temperature': 7.378018325982203}. Best is trial 686 with value: 0.3864838010352342.\u001b[0m\n",
      "\u001b[32m[I 2022-04-28 16:26:06,132]\u001b[0m Trial 777 finished with value: 0.45330531015862124 and parameters: {'iterations': 230, 'learning_rate': 0.00104776154781682, 'l2_leaf_reg': 0.5872974866216917, 'min_data_in_leaf': 51, 'random_strength': 6.954390172399673, 'bootstrap_type': 'Bernoulli', 'grow_policy': 'Depthwise', 'leaf_estimation_method': 'Gradient', 'leaf_estimation_iterations': 4, 'fold_permutation_block': 4, 'depth': 1, 'subsample': 0.5525757179885604}. Best is trial 686 with value: 0.3864838010352342.\u001b[0m\n",
      "\u001b[32m[I 2022-04-28 16:26:06,713]\u001b[0m Trial 778 finished with value: 0.39345583254938993 and parameters: {'iterations': 211, 'learning_rate': 0.0010119922427038743, 'l2_leaf_reg': 1.3720456175783475, 'min_data_in_leaf': 44, 'random_strength': 6.687461453201212, 'bootstrap_type': 'Bayesian', 'grow_policy': 'Depthwise', 'leaf_estimation_method': 'Newton', 'leaf_estimation_iterations': 4, 'fold_permutation_block': 5, 'depth': 1, 'bagging_temperature': 6.812509972723067}. Best is trial 686 with value: 0.3864838010352342.\u001b[0m\n",
      "\u001b[32m[I 2022-04-28 16:26:07,318]\u001b[0m Trial 779 finished with value: 0.4158322090372784 and parameters: {'iterations': 222, 'learning_rate': 0.0029764525543822893, 'l2_leaf_reg': 9.19215807528865, 'min_data_in_leaf': 49, 'random_strength': 6.341208712563705, 'bootstrap_type': 'Bayesian', 'grow_policy': 'Depthwise', 'leaf_estimation_method': 'Gradient', 'leaf_estimation_iterations': 4, 'fold_permutation_block': 4, 'depth': 1, 'bagging_temperature': 4.2964671340548675}. Best is trial 686 with value: 0.3864838010352342.\u001b[0m\n",
      "\u001b[32m[I 2022-04-28 16:26:07,910]\u001b[0m Trial 780 finished with value: 0.38943451902720067 and parameters: {'iterations': 215, 'learning_rate': 0.0044727339016501135, 'l2_leaf_reg': 3.5111731853083574, 'min_data_in_leaf': 54, 'random_strength': 7.0914218720868645, 'bootstrap_type': 'Bayesian', 'grow_policy': 'Depthwise', 'leaf_estimation_method': 'Gradient', 'leaf_estimation_iterations': 4, 'fold_permutation_block': 4, 'depth': 1, 'bagging_temperature': 7.4985274875898655}. Best is trial 686 with value: 0.3864838010352342.\u001b[0m\n",
      "\u001b[32m[I 2022-04-28 16:26:08,525]\u001b[0m Trial 781 finished with value: 0.4225506104038503 and parameters: {'iterations': 233, 'learning_rate': 0.08037541399880412, 'l2_leaf_reg': 0.8876875060796774, 'min_data_in_leaf': 52, 'random_strength': 6.805466478421493, 'bootstrap_type': 'Bayesian', 'grow_policy': 'Depthwise', 'leaf_estimation_method': 'Gradient', 'leaf_estimation_iterations': 4, 'fold_permutation_block': 4, 'depth': 1, 'bagging_temperature': 7.198977333021613}. Best is trial 686 with value: 0.3864838010352342.\u001b[0m\n",
      "\u001b[32m[I 2022-04-28 16:26:09,677]\u001b[0m Trial 782 finished with value: 0.5805973315790159 and parameters: {'iterations': 206, 'learning_rate': 0.0935795194961559, 'l2_leaf_reg': 1.5917673382320408, 'min_data_in_leaf': 50, 'random_strength': 7.275631980616882, 'bootstrap_type': 'Bayesian', 'grow_policy': 'Depthwise', 'leaf_estimation_method': 'Gradient', 'leaf_estimation_iterations': 4, 'fold_permutation_block': 4, 'depth': 5, 'bagging_temperature': 7.019695176699684}. Best is trial 686 with value: 0.3864838010352342.\u001b[0m\n",
      "\u001b[32m[I 2022-04-28 16:26:10,336]\u001b[0m Trial 783 finished with value: 0.40376489126594944 and parameters: {'iterations': 241, 'learning_rate': 0.00953748150857479, 'l2_leaf_reg': 0.7544916042305346, 'min_data_in_leaf': 47, 'random_strength': 6.531336318998916, 'bootstrap_type': 'Bayesian', 'grow_policy': 'Depthwise', 'leaf_estimation_method': 'Gradient', 'leaf_estimation_iterations': 5, 'fold_permutation_block': 6, 'depth': 1, 'bagging_temperature': 7.2227355431597715}. Best is trial 686 with value: 0.3864838010352342.\u001b[0m\n",
      "\u001b[32m[I 2022-04-28 16:26:11,120]\u001b[0m Trial 784 finished with value: 0.49641433317851713 and parameters: {'iterations': 227, 'learning_rate': 0.001018395239400258, 'l2_leaf_reg': 1.1220915229769528, 'min_data_in_leaf': 55, 'random_strength': 7.02433426897799, 'bootstrap_type': 'Bayesian', 'grow_policy': 'Depthwise', 'leaf_estimation_method': 'Gradient', 'leaf_estimation_iterations': 4, 'fold_permutation_block': 4, 'depth': 3, 'bagging_temperature': 5.143292188868299}. Best is trial 686 with value: 0.3864838010352342.\u001b[0m\n",
      "\u001b[32m[I 2022-04-28 16:26:11,778]\u001b[0m Trial 785 finished with value: 0.39943357879574903 and parameters: {'iterations': 252, 'learning_rate': 0.001027919221855175, 'l2_leaf_reg': 0.42130093000515245, 'min_data_in_leaf': 52, 'random_strength': 6.660192518523109, 'bootstrap_type': 'Bayesian', 'grow_policy': 'Depthwise', 'leaf_estimation_method': 'Gradient', 'leaf_estimation_iterations': 4, 'fold_permutation_block': 4, 'depth': 1, 'bagging_temperature': 4.944450828719312}. Best is trial 686 with value: 0.3864838010352342.\u001b[0m\n",
      "\u001b[32m[I 2022-04-28 16:26:12,361]\u001b[0m Trial 786 finished with value: 0.4649352339413016 and parameters: {'iterations': 194, 'learning_rate': 0.0028695554379249183, 'l2_leaf_reg': 0.5933581310374642, 'min_data_in_leaf': 45, 'random_strength': 7.4623278723462745, 'bootstrap_type': 'Bayesian', 'grow_policy': 'Depthwise', 'leaf_estimation_method': 'Gradient', 'leaf_estimation_iterations': 4, 'fold_permutation_block': 5, 'depth': 1, 'bagging_temperature': 2.097568742934908}. Best is trial 686 with value: 0.3864838010352342.\u001b[0m\n",
      "\u001b[32m[I 2022-04-28 16:26:12,941]\u001b[0m Trial 787 finished with value: 0.39110841812421154 and parameters: {'iterations': 218, 'learning_rate': 0.004506828107889604, 'l2_leaf_reg': 0.19246129817085877, 'min_data_in_leaf': 49, 'random_strength': 6.305074291112068, 'bootstrap_type': 'Bayesian', 'grow_policy': 'Depthwise', 'leaf_estimation_method': 'Gradient', 'leaf_estimation_iterations': 4, 'fold_permutation_block': 4, 'depth': 1, 'bagging_temperature': 6.933823161354347}. Best is trial 686 with value: 0.3864838010352342.\u001b[0m\n",
      "\u001b[32m[I 2022-04-28 16:26:13,513]\u001b[0m Trial 788 finished with value: 0.38901632431093547 and parameters: {'iterations': 210, 'learning_rate': 0.0010232736133184755, 'l2_leaf_reg': 1.291305886317159, 'min_data_in_leaf': 54, 'random_strength': 6.906446057061616, 'bootstrap_type': 'Bayesian', 'grow_policy': 'Depthwise', 'leaf_estimation_method': 'Gradient', 'leaf_estimation_iterations': 4, 'fold_permutation_block': 4, 'depth': 1, 'bagging_temperature': 7.459960962421556}. Best is trial 686 with value: 0.3864838010352342.\u001b[0m\n",
      "\u001b[32m[I 2022-04-28 16:26:14,205]\u001b[0m Trial 789 finished with value: 0.3920407947892133 and parameters: {'iterations': 228, 'learning_rate': 0.0066679812628383526, 'l2_leaf_reg': 1.7598997055172445, 'min_data_in_leaf': 51, 'random_strength': 7.175390655132784, 'bootstrap_type': 'Bayesian', 'grow_policy': 'Depthwise', 'leaf_estimation_method': 'Gradient', 'leaf_estimation_iterations': 4, 'fold_permutation_block': 4, 'depth': 1, 'bagging_temperature': 6.779854704956349}. Best is trial 686 with value: 0.3864838010352342.\u001b[0m\n",
      "\u001b[32m[I 2022-04-28 16:26:14,784]\u001b[0m Trial 790 finished with value: 0.38714137352155914 and parameters: {'iterations': 220, 'learning_rate': 0.0030413828709582574, 'l2_leaf_reg': 1.0259351413867388, 'min_data_in_leaf': 55, 'random_strength': 6.6167511222503945, 'bootstrap_type': 'Bayesian', 'grow_policy': 'Depthwise', 'leaf_estimation_method': 'Gradient', 'leaf_estimation_iterations': 4, 'fold_permutation_block': 4, 'depth': 1, 'bagging_temperature': 7.243531225996963}. Best is trial 686 with value: 0.3864838010352342.\u001b[0m\n",
      "\u001b[32m[I 2022-04-28 16:26:15,338]\u001b[0m Trial 791 finished with value: 0.3902198453117513 and parameters: {'iterations': 201, 'learning_rate': 0.003503434925746604, 'l2_leaf_reg': 1.1126392041653475, 'min_data_in_leaf': 53, 'random_strength': 6.484636010507733, 'bootstrap_type': 'Bayesian', 'grow_policy': 'Depthwise', 'leaf_estimation_method': 'Gradient', 'leaf_estimation_iterations': 4, 'fold_permutation_block': 4, 'depth': 1, 'bagging_temperature': 7.5247890579213115}. Best is trial 686 with value: 0.3864838010352342.\u001b[0m\n",
      "\u001b[32m[I 2022-04-28 16:26:16,026]\u001b[0m Trial 792 finished with value: 0.4669167873444557 and parameters: {'iterations': 214, 'learning_rate': 0.005525650988712064, 'l2_leaf_reg': 0.743304470611561, 'min_data_in_leaf': 54, 'random_strength': 6.16507873558904, 'bootstrap_type': 'Bayesian', 'grow_policy': 'Depthwise', 'leaf_estimation_method': 'Newton', 'leaf_estimation_iterations': 4, 'fold_permutation_block': 4, 'depth': 2, 'bagging_temperature': 7.313248636206815}. Best is trial 686 with value: 0.3864838010352342.\u001b[0m\n",
      "\u001b[32m[I 2022-04-28 16:26:20,408]\u001b[0m Trial 793 finished with value: 0.5812350873793378 and parameters: {'iterations': 238, 'learning_rate': 0.0027650967292178336, 'l2_leaf_reg': 1.4928792849974832, 'min_data_in_leaf': 38, 'random_strength': 6.535713558852265, 'bootstrap_type': 'Bayesian', 'grow_policy': 'Lossguide', 'leaf_estimation_method': 'Gradient', 'leaf_estimation_iterations': 4, 'fold_permutation_block': 4, 'max_leaves': 186, 'depth': 14, 'bagging_temperature': 7.023621499224781}. Best is trial 686 with value: 0.3864838010352342.\u001b[0m\n",
      "\u001b[32m[I 2022-04-28 16:26:21,045]\u001b[0m Trial 794 finished with value: 0.38875930784184615 and parameters: {'iterations': 219, 'learning_rate': 0.004364978859400275, 'l2_leaf_reg': 0.9631396538470818, 'min_data_in_leaf': 55, 'random_strength': 6.377756241426696, 'bootstrap_type': 'Bayesian', 'grow_policy': 'Depthwise', 'leaf_estimation_method': 'Gradient', 'leaf_estimation_iterations': 4, 'fold_permutation_block': 4, 'depth': 1, 'bagging_temperature': 7.341135861176032}. Best is trial 686 with value: 0.3864838010352342.\u001b[0m\n",
      "\u001b[32m[I 2022-04-28 16:26:21,534]\u001b[0m Trial 795 finished with value: 0.3969002441695882 and parameters: {'iterations': 189, 'learning_rate': 0.002835150635949229, 'l2_leaf_reg': 1.3066682649246892, 'min_data_in_leaf': 51, 'random_strength': 6.7475314650766185, 'bootstrap_type': 'Bayesian', 'grow_policy': 'Depthwise', 'leaf_estimation_method': 'Gradient', 'leaf_estimation_iterations': 3, 'fold_permutation_block': 4, 'depth': 1, 'bagging_temperature': 7.525574903866786}. Best is trial 686 with value: 0.3864838010352342.\u001b[0m\n",
      "\u001b[32m[I 2022-04-28 16:26:22,106]\u001b[0m Trial 796 finished with value: 0.38930873025955853 and parameters: {'iterations': 207, 'learning_rate': 0.0010327537713921006, 'l2_leaf_reg': 0.9999727866819276, 'min_data_in_leaf': 48, 'random_strength': 6.615653846795376, 'bootstrap_type': 'Bayesian', 'grow_policy': 'Depthwise', 'leaf_estimation_method': 'Gradient', 'leaf_estimation_iterations': 4, 'fold_permutation_block': 4, 'depth': 1, 'bagging_temperature': 6.981593008225317}. Best is trial 686 with value: 0.3864838010352342.\u001b[0m\n",
      "\u001b[32m[I 2022-04-28 16:26:22,724]\u001b[0m Trial 797 finished with value: 0.39222408188383273 and parameters: {'iterations': 229, 'learning_rate': 0.006927764670436009, 'l2_leaf_reg': 0.8363918882503182, 'min_data_in_leaf': 52, 'random_strength': 6.062367758065647, 'bootstrap_type': 'Bayesian', 'grow_policy': 'Depthwise', 'leaf_estimation_method': 'Gradient', 'leaf_estimation_iterations': 4, 'fold_permutation_block': 4, 'depth': 1, 'bagging_temperature': 6.812768243623246}. Best is trial 686 with value: 0.3864838010352342.\u001b[0m\n",
      "\u001b[32m[I 2022-04-28 16:26:23,359]\u001b[0m Trial 798 finished with value: 0.3873884174802878 and parameters: {'iterations': 215, 'learning_rate': 0.0010048729235176005, 'l2_leaf_reg': 1.1682015021431211, 'min_data_in_leaf': 55, 'random_strength': 6.213037731634056, 'bootstrap_type': 'Bayesian', 'grow_policy': 'Depthwise', 'leaf_estimation_method': 'Gradient', 'leaf_estimation_iterations': 4, 'fold_permutation_block': 5, 'depth': 1, 'bagging_temperature': 7.212777120444175}. Best is trial 686 with value: 0.3864838010352342.\u001b[0m\n",
      "\u001b[32m[I 2022-04-28 16:26:23,975]\u001b[0m Trial 799 finished with value: 0.3870650477109647 and parameters: {'iterations': 220, 'learning_rate': 0.0010045545449112055, 'l2_leaf_reg': 0.8067179240895231, 'min_data_in_leaf': 55, 'random_strength': 6.359884729768233, 'bootstrap_type': 'Bayesian', 'grow_policy': 'Depthwise', 'leaf_estimation_method': 'Gradient', 'leaf_estimation_iterations': 4, 'fold_permutation_block': 5, 'depth': 1, 'bagging_temperature': 7.285694580714904}. Best is trial 686 with value: 0.3864838010352342.\u001b[0m\n",
      "\u001b[32m[I 2022-04-28 16:26:24,731]\u001b[0m Trial 800 finished with value: 0.44271739738556565 and parameters: {'iterations': 233, 'learning_rate': 0.002721741354830286, 'l2_leaf_reg': 0.6765929800970618, 'min_data_in_leaf': 50, 'random_strength': 6.165868517876871, 'bootstrap_type': 'Bayesian', 'grow_policy': 'Depthwise', 'leaf_estimation_method': 'Gradient', 'leaf_estimation_iterations': 4, 'fold_permutation_block': 6, 'depth': 2, 'bagging_temperature': 7.289789824837495}. Best is trial 686 with value: 0.3864838010352342.\u001b[0m\n",
      "\u001b[32m[I 2022-04-28 16:26:25,356]\u001b[0m Trial 801 finished with value: 0.38722680662370945 and parameters: {'iterations': 223, 'learning_rate': 0.0010013170781881283, 'l2_leaf_reg': 0.548397615749207, 'min_data_in_leaf': 55, 'random_strength': 6.322741022734487, 'bootstrap_type': 'Bayesian', 'grow_policy': 'Depthwise', 'leaf_estimation_method': 'Gradient', 'leaf_estimation_iterations': 4, 'fold_permutation_block': 5, 'depth': 1, 'bagging_temperature': 7.223431566900116}. Best is trial 686 with value: 0.3864838010352342.\u001b[0m\n",
      "\u001b[32m[I 2022-04-28 16:26:25,960]\u001b[0m Trial 802 finished with value: 0.38758710828707016 and parameters: {'iterations': 221, 'learning_rate': 0.0010088108293449826, 'l2_leaf_reg': 0.37230188080736604, 'min_data_in_leaf': 56, 'random_strength': 6.119637074152404, 'bootstrap_type': 'Bayesian', 'grow_policy': 'Depthwise', 'leaf_estimation_method': 'Gradient', 'leaf_estimation_iterations': 4, 'fold_permutation_block': 5, 'depth': 1, 'bagging_temperature': 7.365084249074737}. Best is trial 686 with value: 0.3864838010352342.\u001b[0m\n",
      "\u001b[32m[I 2022-04-28 16:26:26,557]\u001b[0m Trial 803 finished with value: 0.38935664637315326 and parameters: {'iterations': 220, 'learning_rate': 0.004750362930883732, 'l2_leaf_reg': 0.9017588316124001, 'min_data_in_leaf': 55, 'random_strength': 6.086372151862301, 'bootstrap_type': 'Bayesian', 'grow_policy': 'Depthwise', 'leaf_estimation_method': 'Gradient', 'leaf_estimation_iterations': 4, 'fold_permutation_block': 5, 'depth': 1, 'bagging_temperature': 7.478474529371374}. Best is trial 686 with value: 0.3864838010352342.\u001b[0m\n",
      "\u001b[32m[I 2022-04-28 16:26:27,135]\u001b[0m Trial 804 finished with value: 0.5089573876124421 and parameters: {'iterations': 224, 'learning_rate': 0.07277436097874396, 'l2_leaf_reg': 0.5257994187273078, 'min_data_in_leaf': 55, 'random_strength': 6.256595912791996, 'bootstrap_type': 'Bernoulli', 'grow_policy': 'Depthwise', 'leaf_estimation_method': 'Gradient', 'leaf_estimation_iterations': 4, 'fold_permutation_block': 5, 'depth': 1, 'subsample': 0.4509925769267689}. Best is trial 686 with value: 0.3864838010352342.\u001b[0m\n",
      "\u001b[32m[I 2022-04-28 16:26:27,750]\u001b[0m Trial 805 finished with value: 0.38819078172748944 and parameters: {'iterations': 214, 'learning_rate': 0.003086259893418755, 'l2_leaf_reg': 1.058041002535632, 'min_data_in_leaf': 53, 'random_strength': 6.064580244109332, 'bootstrap_type': 'Bayesian', 'grow_policy': 'Depthwise', 'leaf_estimation_method': 'Gradient', 'leaf_estimation_iterations': 4, 'fold_permutation_block': 5, 'depth': 1, 'bagging_temperature': 7.210569975416207}. Best is trial 686 with value: 0.3864838010352342.\u001b[0m\n",
      "\u001b[32m[I 2022-04-28 16:26:28,353]\u001b[0m Trial 806 finished with value: 0.3890167202532755 and parameters: {'iterations': 227, 'learning_rate': 0.0028779726708350693, 'l2_leaf_reg': 0.8520036395133914, 'min_data_in_leaf': 53, 'random_strength': 6.292324619592483, 'bootstrap_type': 'Bayesian', 'grow_policy': 'Depthwise', 'leaf_estimation_method': 'Gradient', 'leaf_estimation_iterations': 4, 'fold_permutation_block': 5, 'depth': 1, 'bagging_temperature': 7.211894556977083}. Best is trial 686 with value: 0.3864838010352342.\u001b[0m\n",
      "\u001b[32m[I 2022-04-28 16:26:28,957]\u001b[0m Trial 807 finished with value: 0.38957747904202705 and parameters: {'iterations': 218, 'learning_rate': 0.005074516655118223, 'l2_leaf_reg': 0.5562273324286108, 'min_data_in_leaf': 55, 'random_strength': 6.313636370590744, 'bootstrap_type': 'Bayesian', 'grow_policy': 'Depthwise', 'leaf_estimation_method': 'Gradient', 'leaf_estimation_iterations': 4, 'fold_permutation_block': 6, 'depth': 1, 'bagging_temperature': 7.540854472642124}. Best is trial 686 with value: 0.3864838010352342.\u001b[0m\n",
      "\u001b[32m[I 2022-04-28 16:26:29,577]\u001b[0m Trial 808 finished with value: 0.38907260353034717 and parameters: {'iterations': 210, 'learning_rate': 0.0029737051996857476, 'l2_leaf_reg': 0.1213159769041865, 'min_data_in_leaf': 56, 'random_strength': 6.025844507110208, 'bootstrap_type': 'Bayesian', 'grow_policy': 'Depthwise', 'leaf_estimation_method': 'Gradient', 'leaf_estimation_iterations': 4, 'fold_permutation_block': 5, 'depth': 1, 'bagging_temperature': 7.3353941305456365}. Best is trial 686 with value: 0.3864838010352342.\u001b[0m\n",
      "\u001b[32m[I 2022-04-28 16:26:30,229]\u001b[0m Trial 809 finished with value: 0.39148930820328137 and parameters: {'iterations': 240, 'learning_rate': 0.007301242221395711, 'l2_leaf_reg': 1.1467931063383505, 'min_data_in_leaf': 52, 'random_strength': 6.33352381341212, 'bootstrap_type': 'Bayesian', 'grow_policy': 'Depthwise', 'leaf_estimation_method': 'Gradient', 'leaf_estimation_iterations': 4, 'fold_permutation_block': 4, 'depth': 1, 'bagging_temperature': 7.099773634612709}. Best is trial 686 with value: 0.3864838010352342.\u001b[0m\n",
      "\u001b[32m[I 2022-04-28 16:26:30,818]\u001b[0m Trial 810 finished with value: 0.3881937397002129 and parameters: {'iterations': 225, 'learning_rate': 0.0010157949822819853, 'l2_leaf_reg': 0.9435950291497806, 'min_data_in_leaf': 54, 'random_strength': 6.323262364312532, 'bootstrap_type': 'Bayesian', 'grow_policy': 'Depthwise', 'leaf_estimation_method': 'Gradient', 'leaf_estimation_iterations': 4, 'fold_permutation_block': 5, 'depth': 1, 'bagging_temperature': 7.512244141878894}. Best is trial 686 with value: 0.3864838010352342.\u001b[0m\n",
      "\u001b[32m[I 2022-04-28 16:26:31,388]\u001b[0m Trial 811 finished with value: 0.38692212175569435 and parameters: {'iterations': 216, 'learning_rate': 0.0010230179813016302, 'l2_leaf_reg': 1.173523821551874, 'min_data_in_leaf': 55, 'random_strength': 6.4033915859475465, 'bootstrap_type': 'Bayesian', 'grow_policy': 'Depthwise', 'leaf_estimation_method': 'Gradient', 'leaf_estimation_iterations': 4, 'fold_permutation_block': 5, 'depth': 1, 'bagging_temperature': 7.143465331809818}. Best is trial 686 with value: 0.3864838010352342.\u001b[0m\n",
      "\u001b[32m[I 2022-04-28 16:26:32,011]\u001b[0m Trial 812 finished with value: 0.3906556620434533 and parameters: {'iterations': 233, 'learning_rate': 0.004706997901746588, 'l2_leaf_reg': 0.37060188506666747, 'min_data_in_leaf': 53, 'random_strength': 6.5092845374429045, 'bootstrap_type': 'Bayesian', 'grow_policy': 'Depthwise', 'leaf_estimation_method': 'Gradient', 'leaf_estimation_iterations': 4, 'fold_permutation_block': 5, 'depth': 1, 'bagging_temperature': 7.064518493897604}. Best is trial 686 with value: 0.3864838010352342.\u001b[0m\n",
      "\u001b[32m[I 2022-04-28 16:26:32,680]\u001b[0m Trial 813 finished with value: 0.4435438882500666 and parameters: {'iterations': 222, 'learning_rate': 0.0030469028193714047, 'l2_leaf_reg': 0.6840129929396447, 'min_data_in_leaf': 56, 'random_strength': 6.404042418015364, 'bootstrap_type': 'Bayesian', 'grow_policy': 'Depthwise', 'leaf_estimation_method': 'Gradient', 'leaf_estimation_iterations': 4, 'fold_permutation_block': 5, 'depth': 2, 'bagging_temperature': 7.37984628832361}. Best is trial 686 with value: 0.3864838010352342.\u001b[0m\n",
      "\u001b[32m[I 2022-04-28 16:26:33,308]\u001b[0m Trial 814 finished with value: 0.3877539475507124 and parameters: {'iterations': 237, 'learning_rate': 0.0010683206994685714, 'l2_leaf_reg': 1.2934890699504642, 'min_data_in_leaf': 52, 'random_strength': 6.474637272067328, 'bootstrap_type': 'Bayesian', 'grow_policy': 'Depthwise', 'leaf_estimation_method': 'Gradient', 'leaf_estimation_iterations': 4, 'fold_permutation_block': 5, 'depth': 1, 'bagging_temperature': 6.814435674376583}. Best is trial 686 with value: 0.3864838010352342.\u001b[0m\n",
      "\u001b[32m[I 2022-04-28 16:26:33,935]\u001b[0m Trial 815 finished with value: 0.3918138823085367 and parameters: {'iterations': 228, 'learning_rate': 0.0057510017060745655, 'l2_leaf_reg': 0.009812344205183843, 'min_data_in_leaf': 50, 'random_strength': 6.4840848721475455, 'bootstrap_type': 'Bayesian', 'grow_policy': 'Depthwise', 'leaf_estimation_method': 'Gradient', 'leaf_estimation_iterations': 4, 'fold_permutation_block': 4, 'depth': 1, 'bagging_temperature': 7.079767866884261}. Best is trial 686 with value: 0.3864838010352342.\u001b[0m\n",
      "\u001b[32m[I 2022-04-28 16:26:34,517]\u001b[0m Trial 816 finished with value: 0.38879653480330867 and parameters: {'iterations': 210, 'learning_rate': 0.0028350497443428544, 'l2_leaf_reg': 0.7338508747031611, 'min_data_in_leaf': 56, 'random_strength': 6.06998655623278, 'bootstrap_type': 'Bayesian', 'grow_policy': 'Depthwise', 'leaf_estimation_method': 'Gradient', 'leaf_estimation_iterations': 4, 'fold_permutation_block': 6, 'depth': 1, 'bagging_temperature': 7.2849162825561935}. Best is trial 686 with value: 0.3864838010352342.\u001b[0m\n",
      "\u001b[32m[I 2022-04-28 16:26:35,143]\u001b[0m Trial 817 finished with value: 0.38873653309577966 and parameters: {'iterations': 220, 'learning_rate': 0.004216270621147475, 'l2_leaf_reg': 0.8856593439164306, 'min_data_in_leaf': 54, 'random_strength': 7.558506338692933, 'bootstrap_type': 'Bayesian', 'grow_policy': 'Depthwise', 'leaf_estimation_method': 'Gradient', 'leaf_estimation_iterations': 4, 'fold_permutation_block': 5, 'depth': 1, 'bagging_temperature': 7.567763595219658}. Best is trial 686 with value: 0.3864838010352342.\u001b[0m\n",
      "\u001b[32m[I 2022-04-28 16:26:35,820]\u001b[0m Trial 818 finished with value: 0.4400542172521682 and parameters: {'iterations': 228, 'learning_rate': 0.002778623508403015, 'l2_leaf_reg': 0.5533882385297916, 'min_data_in_leaf': 51, 'random_strength': 6.570113611608681, 'bootstrap_type': 'Bayesian', 'grow_policy': 'Depthwise', 'leaf_estimation_method': 'Gradient', 'leaf_estimation_iterations': 4, 'fold_permutation_block': 5, 'depth': 2, 'bagging_temperature': 6.937159683312648}. Best is trial 686 with value: 0.3864838010352342.\u001b[0m\n",
      "\u001b[32m[I 2022-04-28 16:26:36,470]\u001b[0m Trial 819 finished with value: 0.3869608873077417 and parameters: {'iterations': 247, 'learning_rate': 0.0010320158189052067, 'l2_leaf_reg': 0.2514033152337253, 'min_data_in_leaf': 57, 'random_strength': 6.280859132526547, 'bootstrap_type': 'Bayesian', 'grow_policy': 'Depthwise', 'leaf_estimation_method': 'Gradient', 'leaf_estimation_iterations': 4, 'fold_permutation_block': 5, 'depth': 1, 'bagging_temperature': 7.141192692893757}. Best is trial 686 with value: 0.3864838010352342.\u001b[0m\n",
      "\u001b[32m[I 2022-04-28 16:26:37,151]\u001b[0m Trial 820 finished with value: 0.39451643975906264 and parameters: {'iterations': 251, 'learning_rate': 0.009815380688313327, 'l2_leaf_reg': 0.22250186057396895, 'min_data_in_leaf': 58, 'random_strength': 6.076868291885396, 'bootstrap_type': 'Bayesian', 'grow_policy': 'Depthwise', 'leaf_estimation_method': 'Gradient', 'leaf_estimation_iterations': 4, 'fold_permutation_block': 5, 'depth': 1, 'bagging_temperature': 7.320276823390659}. Best is trial 686 with value: 0.3864838010352342.\u001b[0m\n",
      "\u001b[32m[I 2022-04-28 16:26:37,787]\u001b[0m Trial 821 finished with value: 0.38863592157984056 and parameters: {'iterations': 246, 'learning_rate': 0.0028625858704926974, 'l2_leaf_reg': 0.26009586146376373, 'min_data_in_leaf': 31, 'random_strength': 6.173300302941199, 'bootstrap_type': 'Bayesian', 'grow_policy': 'Depthwise', 'leaf_estimation_method': 'Gradient', 'leaf_estimation_iterations': 4, 'fold_permutation_block': 5, 'depth': 1, 'bagging_temperature': 7.119157451958809}. Best is trial 686 with value: 0.3864838010352342.\u001b[0m\n",
      "\u001b[32m[I 2022-04-28 16:26:38,543]\u001b[0m Trial 822 finished with value: 0.39610787059477354 and parameters: {'iterations': 243, 'learning_rate': 0.0010062678650929345, 'l2_leaf_reg': 0.4440102022353757, 'min_data_in_leaf': 57, 'random_strength': 6.305344694341414, 'bootstrap_type': 'Bayesian', 'grow_policy': 'Depthwise', 'leaf_estimation_method': 'Gradient', 'leaf_estimation_iterations': 5, 'fold_permutation_block': 5, 'depth': 1, 'bagging_temperature': 7.485294357235949}. Best is trial 686 with value: 0.3864838010352342.\u001b[0m\n",
      "\u001b[32m[I 2022-04-28 16:26:39,196]\u001b[0m Trial 823 finished with value: 0.3905410715840068 and parameters: {'iterations': 239, 'learning_rate': 0.0063010429780526265, 'l2_leaf_reg': 0.017147021004880136, 'min_data_in_leaf': 57, 'random_strength': 6.3930889416966865, 'bootstrap_type': 'Bayesian', 'grow_policy': 'Depthwise', 'leaf_estimation_method': 'Gradient', 'leaf_estimation_iterations': 4, 'fold_permutation_block': 5, 'depth': 1, 'bagging_temperature': 7.18519258112033}. Best is trial 686 with value: 0.3864838010352342.\u001b[0m\n",
      "\u001b[32m[I 2022-04-28 16:26:39,812]\u001b[0m Trial 824 finished with value: 0.3884385564040769 and parameters: {'iterations': 232, 'learning_rate': 0.0010257974518563463, 'l2_leaf_reg': 0.4336703551007816, 'min_data_in_leaf': 53, 'random_strength': 6.275346828417028, 'bootstrap_type': 'Bayesian', 'grow_policy': 'Depthwise', 'leaf_estimation_method': 'Gradient', 'leaf_estimation_iterations': 4, 'fold_permutation_block': 5, 'depth': 1, 'bagging_temperature': 7.513303309830883}. Best is trial 686 with value: 0.3864838010352342.\u001b[0m\n",
      "\u001b[32m[I 2022-04-28 16:26:40,535]\u001b[0m Trial 825 finished with value: 0.43500280644755757 and parameters: {'iterations': 255, 'learning_rate': 0.004494067581150426, 'l2_leaf_reg': 0.1829170569296109, 'min_data_in_leaf': 56, 'random_strength': 7.337404454825189, 'bootstrap_type': 'Bayesian', 'grow_policy': 'Depthwise', 'leaf_estimation_method': 'Gradient', 'leaf_estimation_iterations': 4, 'fold_permutation_block': 6, 'depth': 1, 'bagging_temperature': 3.7513235887241168}. Best is trial 686 with value: 0.3864838010352342.\u001b[0m\n",
      "\u001b[32m[I 2022-04-28 16:26:41,211]\u001b[0m Trial 826 finished with value: 0.38923963941932405 and parameters: {'iterations': 235, 'learning_rate': 0.0010025643918720312, 'l2_leaf_reg': 1.1031552239417064, 'min_data_in_leaf': 50, 'random_strength': 1.538299633716738, 'bootstrap_type': 'Bayesian', 'grow_policy': 'Depthwise', 'leaf_estimation_method': 'Gradient', 'leaf_estimation_iterations': 4, 'fold_permutation_block': 5, 'depth': 1, 'bagging_temperature': 7.324880515394355}. Best is trial 686 with value: 0.3864838010352342.\u001b[0m\n",
      "\u001b[32m[I 2022-04-28 16:26:41,839]\u001b[0m Trial 827 finished with value: 0.3892430151424761 and parameters: {'iterations': 247, 'learning_rate': 0.0027692884472260318, 'l2_leaf_reg': 0.001055872099433558, 'min_data_in_leaf': 53, 'random_strength': 6.4591294000389565, 'bootstrap_type': 'Bayesian', 'grow_policy': 'Depthwise', 'leaf_estimation_method': 'Gradient', 'leaf_estimation_iterations': 4, 'fold_permutation_block': 5, 'depth': 1, 'bagging_temperature': 7.034421702139681}. Best is trial 686 with value: 0.3864838010352342.\u001b[0m\n",
      "\u001b[32m[I 2022-04-28 16:26:44,111]\u001b[0m Trial 828 finished with value: 0.5763941261875961 and parameters: {'iterations': 239, 'learning_rate': 0.007992464781994621, 'l2_leaf_reg': 0.7814472759645744, 'min_data_in_leaf': 55, 'random_strength': 6.715815488370519, 'bootstrap_type': 'Bayesian', 'grow_policy': 'Depthwise', 'leaf_estimation_method': 'Gradient', 'leaf_estimation_iterations': 4, 'fold_permutation_block': 5, 'depth': 10, 'bagging_temperature': 7.216795543449191}. Best is trial 686 with value: 0.3864838010352342.\u001b[0m\n",
      "\u001b[32m[I 2022-04-28 16:26:44,737]\u001b[0m Trial 829 finished with value: 0.40981166005239783 and parameters: {'iterations': 228, 'learning_rate': 0.04177563658349145, 'l2_leaf_reg': 0.6223431930958487, 'min_data_in_leaf': 57, 'random_strength': 6.127344694904016, 'bootstrap_type': 'Bayesian', 'grow_policy': 'Depthwise', 'leaf_estimation_method': 'Gradient', 'leaf_estimation_iterations': 4, 'fold_permutation_block': 5, 'depth': 1, 'bagging_temperature': 6.970314365127099}. Best is trial 686 with value: 0.3864838010352342.\u001b[0m\n",
      "\u001b[32m[I 2022-04-28 16:26:45,396]\u001b[0m Trial 830 finished with value: 0.388640456806335 and parameters: {'iterations': 225, 'learning_rate': 0.001011575341447605, 'l2_leaf_reg': 1.3361059609933559, 'min_data_in_leaf': 47, 'random_strength': 7.513746294744534, 'bootstrap_type': 'Bayesian', 'grow_policy': 'Depthwise', 'leaf_estimation_method': 'Gradient', 'leaf_estimation_iterations': 4, 'fold_permutation_block': 5, 'depth': 1, 'bagging_temperature': 7.605409634798484}. Best is trial 686 with value: 0.3864838010352342.\u001b[0m\n",
      "\u001b[32m[I 2022-04-28 16:26:46,045]\u001b[0m Trial 831 finished with value: 0.38941348088497113 and parameters: {'iterations': 236, 'learning_rate': 0.004653383425389111, 'l2_leaf_reg': 1.0473813889209498, 'min_data_in_leaf': 51, 'random_strength': 6.737518641340934, 'bootstrap_type': 'Bayesian', 'grow_policy': 'Depthwise', 'leaf_estimation_method': 'Gradient', 'leaf_estimation_iterations': 4, 'fold_permutation_block': 5, 'depth': 1, 'bagging_temperature': 7.376207247114917}. Best is trial 686 with value: 0.3864838010352342.\u001b[0m\n",
      "\u001b[32m[I 2022-04-28 16:26:46,750]\u001b[0m Trial 832 finished with value: 0.48770014453947924 and parameters: {'iterations': 262, 'learning_rate': 0.0028509078074483727, 'l2_leaf_reg': 0.23216994282628678, 'min_data_in_leaf': 58, 'random_strength': 7.313476034488765, 'bootstrap_type': 'Bernoulli', 'grow_policy': 'Depthwise', 'leaf_estimation_method': 'Gradient', 'leaf_estimation_iterations': 4, 'fold_permutation_block': 5, 'depth': 2, 'subsample': 0.6817097172040275}. Best is trial 686 with value: 0.3864838010352342.\u001b[0m\n",
      "\u001b[32m[I 2022-04-28 16:26:47,377]\u001b[0m Trial 833 finished with value: 0.3880873475226598 and parameters: {'iterations': 222, 'learning_rate': 0.001045951089187265, 'l2_leaf_reg': 0.4617954190914164, 'min_data_in_leaf': 49, 'random_strength': 6.487640799928316, 'bootstrap_type': 'Bayesian', 'grow_policy': 'Depthwise', 'leaf_estimation_method': 'Gradient', 'leaf_estimation_iterations': 4, 'fold_permutation_block': 6, 'depth': 1, 'bagging_temperature': 6.840477923028866}. Best is trial 686 with value: 0.3864838010352342.\u001b[0m\n",
      "\u001b[32m[I 2022-04-28 16:26:48,023]\u001b[0m Trial 834 finished with value: 0.3910007420230335 and parameters: {'iterations': 232, 'learning_rate': 0.005996004522732009, 'l2_leaf_reg': 0.9082805751509437, 'min_data_in_leaf': 54, 'random_strength': 6.059190509337439, 'bootstrap_type': 'Bayesian', 'grow_policy': 'Depthwise', 'leaf_estimation_method': 'Gradient', 'leaf_estimation_iterations': 4, 'fold_permutation_block': 5, 'depth': 1, 'bagging_temperature': 7.0918662461306985}. Best is trial 686 with value: 0.3864838010352342.\u001b[0m\n",
      "\u001b[32m[I 2022-04-28 16:26:48,697]\u001b[0m Trial 835 finished with value: 0.3895642327283379 and parameters: {'iterations': 243, 'learning_rate': 0.0028427831759646792, 'l2_leaf_reg': 1.6534022514092084, 'min_data_in_leaf': 52, 'random_strength': 7.061607604925482, 'bootstrap_type': 'Bayesian', 'grow_policy': 'Depthwise', 'leaf_estimation_method': 'Gradient', 'leaf_estimation_iterations': 4, 'fold_permutation_block': 5, 'depth': 1, 'bagging_temperature': 7.567415208550042}. Best is trial 686 with value: 0.3864838010352342.\u001b[0m\n",
      "\u001b[32m[I 2022-04-28 16:26:49,295]\u001b[0m Trial 836 finished with value: 0.3871788201328574 and parameters: {'iterations': 216, 'learning_rate': 0.0010538304173035467, 'l2_leaf_reg': 1.1886675059107392, 'min_data_in_leaf': 42, 'random_strength': 7.829417201039821, 'bootstrap_type': 'Bayesian', 'grow_policy': 'Depthwise', 'leaf_estimation_method': 'Gradient', 'leaf_estimation_iterations': 4, 'fold_permutation_block': 5, 'depth': 1, 'bagging_temperature': 7.207439378073119}. Best is trial 686 with value: 0.3864838010352342.\u001b[0m\n",
      "\u001b[32m[I 2022-04-28 16:26:49,894]\u001b[0m Trial 837 finished with value: 0.39043704429063636 and parameters: {'iterations': 205, 'learning_rate': 0.004278911229071132, 'l2_leaf_reg': 1.2448786979470556, 'min_data_in_leaf': 44, 'random_strength': 7.774380293813114, 'bootstrap_type': 'Bayesian', 'grow_policy': 'Depthwise', 'leaf_estimation_method': 'Gradient', 'leaf_estimation_iterations': 4, 'fold_permutation_block': 5, 'depth': 1, 'bagging_temperature': 6.818846029049157}. Best is trial 686 with value: 0.3864838010352342.\u001b[0m\n",
      "\u001b[32m[I 2022-04-28 16:26:50,486]\u001b[0m Trial 838 finished with value: 0.395771779562178 and parameters: {'iterations': 213, 'learning_rate': 0.0010720423717693675, 'l2_leaf_reg': 1.3895124325071768, 'min_data_in_leaf': 45, 'random_strength': 7.956169137652397, 'bootstrap_type': 'Bayesian', 'grow_policy': 'Depthwise', 'leaf_estimation_method': 'Gradient', 'leaf_estimation_iterations': 3, 'fold_permutation_block': 5, 'depth': 1, 'bagging_temperature': 7.128247150187008}. Best is trial 686 with value: 0.3864838010352342.\u001b[0m\n",
      "\u001b[32m[I 2022-04-28 16:26:51,182]\u001b[0m Trial 839 finished with value: 0.4466518837998044 and parameters: {'iterations': 217, 'learning_rate': 0.00435195721419712, 'l2_leaf_reg': 1.2440592706882394, 'min_data_in_leaf': 42, 'random_strength': 7.792931628054982, 'bootstrap_type': 'Bayesian', 'grow_policy': 'Depthwise', 'leaf_estimation_method': 'Gradient', 'leaf_estimation_iterations': 4, 'fold_permutation_block': 5, 'depth': 2, 'bagging_temperature': 7.389436095463734}. Best is trial 686 with value: 0.3864838010352342.\u001b[0m\n",
      "\u001b[32m[I 2022-04-28 16:26:51,780]\u001b[0m Trial 840 finished with value: 0.3897758752149103 and parameters: {'iterations': 209, 'learning_rate': 0.0027635872701547858, 'l2_leaf_reg': 1.0720618692277835, 'min_data_in_leaf': 45, 'random_strength': 8.014906869665923, 'bootstrap_type': 'Bayesian', 'grow_policy': 'Depthwise', 'leaf_estimation_method': 'Gradient', 'leaf_estimation_iterations': 4, 'fold_permutation_block': 5, 'depth': 1, 'bagging_temperature': 6.995496899836904}. Best is trial 686 with value: 0.3864838010352342.\u001b[0m\n",
      "\u001b[32m[I 2022-04-28 16:26:54,998]\u001b[0m Trial 841 finished with value: 0.5806969937721681 and parameters: {'iterations': 219, 'learning_rate': 0.0061583236220025955, 'l2_leaf_reg': 0.7210089093088247, 'min_data_in_leaf': 37, 'random_strength': 7.629916864812635, 'bootstrap_type': 'Bayesian', 'grow_policy': 'Lossguide', 'leaf_estimation_method': 'Gradient', 'leaf_estimation_iterations': 4, 'fold_permutation_block': 6, 'max_leaves': 121, 'depth': 15, 'bagging_temperature': 7.195812498684398}. Best is trial 686 with value: 0.3864838010352342.\u001b[0m\n",
      "\u001b[32m[I 2022-04-28 16:26:55,565]\u001b[0m Trial 842 finished with value: 0.39013942974373866 and parameters: {'iterations': 204, 'learning_rate': 0.003047465128159069, 'l2_leaf_reg': 1.5659174294713156, 'min_data_in_leaf': 44, 'random_strength': 7.84790079244633, 'bootstrap_type': 'Bayesian', 'grow_policy': 'Depthwise', 'leaf_estimation_method': 'Gradient', 'leaf_estimation_iterations': 4, 'fold_permutation_block': 5, 'depth': 1, 'bagging_temperature': 7.565900877495776}. Best is trial 686 with value: 0.3864838010352342.\u001b[0m\n",
      "\u001b[32m[I 2022-04-28 16:26:56,169]\u001b[0m Trial 843 finished with value: 0.388313452651476 and parameters: {'iterations': 216, 'learning_rate': 0.0010071804331933903, 'l2_leaf_reg': 0.9699660010379281, 'min_data_in_leaf': 41, 'random_strength': 8.217993364323783, 'bootstrap_type': 'Bayesian', 'grow_policy': 'Depthwise', 'leaf_estimation_method': 'Gradient', 'leaf_estimation_iterations': 4, 'fold_permutation_block': 5, 'depth': 1, 'bagging_temperature': 6.813397858056305}. Best is trial 686 with value: 0.3864838010352342.\u001b[0m\n",
      "\u001b[32m[I 2022-04-28 16:26:56,826]\u001b[0m Trial 844 finished with value: 0.38864381037203705 and parameters: {'iterations': 221, 'learning_rate': 0.0027359993742431003, 'l2_leaf_reg': 0.8545168546651556, 'min_data_in_leaf': 40, 'random_strength': 8.103844055407706, 'bootstrap_type': 'Bayesian', 'grow_policy': 'Depthwise', 'leaf_estimation_method': 'Gradient', 'leaf_estimation_iterations': 4, 'fold_permutation_block': 5, 'depth': 1, 'bagging_temperature': 7.35715640610154}. Best is trial 686 with value: 0.3864838010352342.\u001b[0m\n",
      "\u001b[32m[I 2022-04-28 16:26:57,387]\u001b[0m Trial 845 finished with value: 0.3932616446500006 and parameters: {'iterations': 198, 'learning_rate': 0.00799348132566256, 'l2_leaf_reg': 1.4456003358201577, 'min_data_in_leaf': 47, 'random_strength': 7.633128292025095, 'bootstrap_type': 'Bayesian', 'grow_policy': 'Depthwise', 'leaf_estimation_method': 'Gradient', 'leaf_estimation_iterations': 4, 'fold_permutation_block': 5, 'depth': 1, 'bagging_temperature': 6.967984243402187}. Best is trial 686 with value: 0.3864838010352342.\u001b[0m\n",
      "\u001b[32m[I 2022-04-28 16:26:57,973]\u001b[0m Trial 846 finished with value: 0.38959720527996305 and parameters: {'iterations': 211, 'learning_rate': 0.004471521196363525, 'l2_leaf_reg': 1.2552283366391683, 'min_data_in_leaf': 42, 'random_strength': 7.617394721340954, 'bootstrap_type': 'Bayesian', 'grow_policy': 'Depthwise', 'leaf_estimation_method': 'Gradient', 'leaf_estimation_iterations': 4, 'fold_permutation_block': 5, 'depth': 1, 'bagging_temperature': 7.181741896671764}. Best is trial 686 with value: 0.3864838010352342.\u001b[0m\n",
      "\u001b[32m[I 2022-04-28 16:26:58,577]\u001b[0m Trial 847 finished with value: 0.3879454271071825 and parameters: {'iterations': 222, 'learning_rate': 0.0010070088042659132, 'l2_leaf_reg': 1.106256551437224, 'min_data_in_leaf': 41, 'random_strength': 7.425847696360709, 'bootstrap_type': 'Bayesian', 'grow_policy': 'Depthwise', 'leaf_estimation_method': 'Gradient', 'leaf_estimation_iterations': 4, 'fold_permutation_block': 5, 'depth': 1, 'bagging_temperature': 6.7854325430424645}. Best is trial 686 with value: 0.3864838010352342.\u001b[0m\n",
      "\u001b[32m[I 2022-04-28 16:26:59,211]\u001b[0m Trial 848 finished with value: 0.38913144225997626 and parameters: {'iterations': 225, 'learning_rate': 0.0028275759129801426, 'l2_leaf_reg': 0.5699461013381479, 'min_data_in_leaf': 46, 'random_strength': 7.213416784834536, 'bootstrap_type': 'Bayesian', 'grow_policy': 'Depthwise', 'leaf_estimation_method': 'Gradient', 'leaf_estimation_iterations': 4, 'fold_permutation_block': 5, 'depth': 1, 'bagging_temperature': 7.618148930097636}. Best is trial 686 with value: 0.3864838010352342.\u001b[0m\n",
      "\u001b[32m[I 2022-04-28 16:26:59,907]\u001b[0m Trial 849 finished with value: 0.39491439412833734 and parameters: {'iterations': 279, 'learning_rate': 0.006025292675926226, 'l2_leaf_reg': 0.8224325114051788, 'min_data_in_leaf': 49, 'random_strength': 7.4619240002948235, 'bootstrap_type': 'Bayesian', 'grow_policy': 'Depthwise', 'leaf_estimation_method': 'Gradient', 'leaf_estimation_iterations': 4, 'fold_permutation_block': 6, 'depth': 1, 'bagging_temperature': 7.389688319947727}. Best is trial 686 with value: 0.3864838010352342.\u001b[0m\n",
      "\u001b[32m[I 2022-04-28 16:27:00,577]\u001b[0m Trial 850 finished with value: 0.44305379130175204 and parameters: {'iterations': 210, 'learning_rate': 0.0010883929918184454, 'l2_leaf_reg': 0.3568388156649839, 'min_data_in_leaf': 43, 'random_strength': 7.876846447130157, 'bootstrap_type': 'Bayesian', 'grow_policy': 'Depthwise', 'leaf_estimation_method': 'Gradient', 'leaf_estimation_iterations': 4, 'fold_permutation_block': 5, 'depth': 2, 'bagging_temperature': 7.048879110026847}. Best is trial 686 with value: 0.3864838010352342.\u001b[0m\n",
      "\u001b[32m[I 2022-04-28 16:27:01,210]\u001b[0m Trial 851 finished with value: 0.3883708707825541 and parameters: {'iterations': 215, 'learning_rate': 0.002680487582896225, 'l2_leaf_reg': 1.1761792848796278, 'min_data_in_leaf': 55, 'random_strength': 7.127973823977588, 'bootstrap_type': 'Bayesian', 'grow_policy': 'Depthwise', 'leaf_estimation_method': 'Gradient', 'leaf_estimation_iterations': 4, 'fold_permutation_block': 4, 'depth': 1, 'bagging_temperature': 7.263760834989061}. Best is trial 686 with value: 0.3864838010352342.\u001b[0m\n",
      "\u001b[32m[I 2022-04-28 16:27:01,883]\u001b[0m Trial 852 finished with value: 0.39004853363837455 and parameters: {'iterations': 227, 'learning_rate': 0.004542091022801218, 'l2_leaf_reg': 1.427322746989601, 'min_data_in_leaf': 57, 'random_strength': 7.3640158308304695, 'bootstrap_type': 'Bayesian', 'grow_policy': 'Depthwise', 'leaf_estimation_method': 'Gradient', 'leaf_estimation_iterations': 4, 'fold_permutation_block': 5, 'depth': 1, 'bagging_temperature': 7.074375942157115}. Best is trial 686 with value: 0.3864838010352342.\u001b[0m\n",
      "\u001b[32m[I 2022-04-28 16:27:02,473]\u001b[0m Trial 853 finished with value: 0.38958435734143954 and parameters: {'iterations': 201, 'learning_rate': 0.001186987714524696, 'l2_leaf_reg': 0.007767745846577412, 'min_data_in_leaf': 51, 'random_strength': 6.863265585872735, 'bootstrap_type': 'Bayesian', 'grow_policy': 'Depthwise', 'leaf_estimation_method': 'Gradient', 'leaf_estimation_iterations': 4, 'fold_permutation_block': 5, 'depth': 1, 'bagging_temperature': 6.792231670423449}. Best is trial 686 with value: 0.3864838010352342.\u001b[0m\n",
      "\u001b[32m[I 2022-04-28 16:27:03,097]\u001b[0m Trial 854 finished with value: 0.38822654343249124 and parameters: {'iterations': 218, 'learning_rate': 0.0010316972101675882, 'l2_leaf_reg': 0.5862070868961073, 'min_data_in_leaf': 53, 'random_strength': 7.047947124566021, 'bootstrap_type': 'Bayesian', 'grow_policy': 'Depthwise', 'leaf_estimation_method': 'Gradient', 'leaf_estimation_iterations': 4, 'fold_permutation_block': 4, 'depth': 1, 'bagging_temperature': 7.581800359881751}. Best is trial 686 with value: 0.3864838010352342.\u001b[0m\n",
      "\u001b[32m[I 2022-04-28 16:27:03,763]\u001b[0m Trial 855 finished with value: 0.3934108311448785 and parameters: {'iterations': 228, 'learning_rate': 0.001095460856718559, 'l2_leaf_reg': 0.9905087842920681, 'min_data_in_leaf': 56, 'random_strength': 7.763949171301985, 'bootstrap_type': 'Bayesian', 'grow_policy': 'Depthwise', 'leaf_estimation_method': 'Gradient', 'leaf_estimation_iterations': 5, 'fold_permutation_block': 4, 'depth': 1, 'bagging_temperature': 7.3972652474474625}. Best is trial 686 with value: 0.3864838010352342.\u001b[0m\n",
      "\u001b[32m[I 2022-04-28 16:27:04,350]\u001b[0m Trial 856 finished with value: 0.3909913163775305 and parameters: {'iterations': 210, 'learning_rate': 0.004361301224838643, 'l2_leaf_reg': 1.612127353045345, 'min_data_in_leaf': 40, 'random_strength': 7.2739460860694445, 'bootstrap_type': 'Bayesian', 'grow_policy': 'Depthwise', 'leaf_estimation_method': 'Gradient', 'leaf_estimation_iterations': 4, 'fold_permutation_block': 5, 'depth': 1, 'bagging_temperature': 6.949316245449787}. Best is trial 686 with value: 0.3864838010352342.\u001b[0m\n",
      "\u001b[32m[I 2022-04-28 16:27:04,985]\u001b[0m Trial 857 finished with value: 0.3880373389171669 and parameters: {'iterations': 221, 'learning_rate': 0.0027364089730069663, 'l2_leaf_reg': 0.8222615507769309, 'min_data_in_leaf': 39, 'random_strength': 6.796655918936079, 'bootstrap_type': 'Bayesian', 'grow_policy': 'Depthwise', 'leaf_estimation_method': 'Gradient', 'leaf_estimation_iterations': 4, 'fold_permutation_block': 4, 'depth': 1, 'bagging_temperature': 7.143854800535906}. Best is trial 686 with value: 0.3864838010352342.\u001b[0m\n",
      "\u001b[32m[I 2022-04-28 16:27:05,607]\u001b[0m Trial 858 finished with value: 0.38920124956730234 and parameters: {'iterations': 204, 'learning_rate': 0.0010844586815071243, 'l2_leaf_reg': 0.30032757899925067, 'min_data_in_leaf': 58, 'random_strength': 7.553299518771676, 'bootstrap_type': 'Bayesian', 'grow_policy': 'Depthwise', 'leaf_estimation_method': 'Gradient', 'leaf_estimation_iterations': 4, 'fold_permutation_block': 4, 'depth': 1, 'bagging_temperature': 7.2587793624274735}. Best is trial 686 with value: 0.3864838010352342.\u001b[0m\n",
      "\u001b[32m[I 2022-04-28 16:27:07,155]\u001b[0m Trial 859 finished with value: 0.5413801487122002 and parameters: {'iterations': 234, 'learning_rate': 0.0010855442770967697, 'l2_leaf_reg': 1.1280240584082957, 'min_data_in_leaf': 48, 'random_strength': 8.246898793709958, 'bootstrap_type': 'Bernoulli', 'grow_policy': 'Depthwise', 'leaf_estimation_method': 'Gradient', 'leaf_estimation_iterations': 4, 'fold_permutation_block': 5, 'depth': 8, 'subsample': 0.7251718090101316}. Best is trial 686 with value: 0.3864838010352342.\u001b[0m\n",
      "\u001b[32m[I 2022-04-28 16:27:07,750]\u001b[0m Trial 860 finished with value: 0.39588681879375365 and parameters: {'iterations': 215, 'learning_rate': 0.006125224976160873, 'l2_leaf_reg': 1.7927382246591796, 'min_data_in_leaf': 54, 'random_strength': 6.6923115669433, 'bootstrap_type': 'Bayesian', 'grow_policy': 'Depthwise', 'leaf_estimation_method': 'Gradient', 'leaf_estimation_iterations': 3, 'fold_permutation_block': 4, 'depth': 1, 'bagging_temperature': 7.585151038425192}. Best is trial 686 with value: 0.3864838010352342.\u001b[0m\n",
      "\u001b[32m[I 2022-04-28 16:27:08,435]\u001b[0m Trial 861 finished with value: 0.3880523843084435 and parameters: {'iterations': 227, 'learning_rate': 0.0010557203773495036, 'l2_leaf_reg': 0.6175838415540311, 'min_data_in_leaf': 37, 'random_strength': 7.044081767786244, 'bootstrap_type': 'Bayesian', 'grow_policy': 'Depthwise', 'leaf_estimation_method': 'Gradient', 'leaf_estimation_iterations': 4, 'fold_permutation_block': 6, 'depth': 1, 'bagging_temperature': 6.973977699735745}. Best is trial 686 with value: 0.3864838010352342.\u001b[0m\n",
      "\u001b[32m[I 2022-04-28 16:27:09,031]\u001b[0m Trial 862 finished with value: 0.38888729023832286 and parameters: {'iterations': 219, 'learning_rate': 0.00292795180043369, 'l2_leaf_reg': 1.3465656406436242, 'min_data_in_leaf': 51, 'random_strength': 6.890820221267914, 'bootstrap_type': 'Bayesian', 'grow_policy': 'Depthwise', 'leaf_estimation_method': 'Gradient', 'leaf_estimation_iterations': 4, 'fold_permutation_block': 4, 'depth': 1, 'bagging_temperature': 7.438922665579898}. Best is trial 686 with value: 0.3864838010352342.\u001b[0m\n",
      "\u001b[32m[I 2022-04-28 16:27:09,632]\u001b[0m Trial 863 finished with value: 0.3895601980556775 and parameters: {'iterations': 207, 'learning_rate': 0.0010010239393963766, 'l2_leaf_reg': 0.9574203369938352, 'min_data_in_leaf': 56, 'random_strength': 7.194772977190242, 'bootstrap_type': 'Bayesian', 'grow_policy': 'Depthwise', 'leaf_estimation_method': 'Gradient', 'leaf_estimation_iterations': 4, 'fold_permutation_block': 4, 'depth': 1, 'bagging_temperature': 6.756337692554314}. Best is trial 686 with value: 0.3864838010352342.\u001b[0m\n",
      "\u001b[32m[I 2022-04-28 16:27:10,369]\u001b[0m Trial 864 finished with value: 0.4392366205481522 and parameters: {'iterations': 230, 'learning_rate': 0.004467324721126917, 'l2_leaf_reg': 0.721864980475986, 'min_data_in_leaf': 59, 'random_strength': 6.629770283135319, 'bootstrap_type': 'Bayesian', 'grow_policy': 'Depthwise', 'leaf_estimation_method': 'Gradient', 'leaf_estimation_iterations': 4, 'fold_permutation_block': 4, 'depth': 2, 'bagging_temperature': 9.085439607315044}. Best is trial 686 with value: 0.3864838010352342.\u001b[0m\n",
      "\u001b[32m[I 2022-04-28 16:27:10,969]\u001b[0m Trial 865 finished with value: 0.39186427113034455 and parameters: {'iterations': 224, 'learning_rate': 0.006600863242911708, 'l2_leaf_reg': 0.009232413472869669, 'min_data_in_leaf': 43, 'random_strength': 7.41572241603021, 'bootstrap_type': 'Bayesian', 'grow_policy': 'Depthwise', 'leaf_estimation_method': 'Gradient', 'leaf_estimation_iterations': 4, 'fold_permutation_block': 5, 'depth': 1, 'bagging_temperature': 7.133390376773925}. Best is trial 686 with value: 0.3864838010352342.\u001b[0m\n",
      "\u001b[32m[I 2022-04-28 16:27:14,366]\u001b[0m Trial 866 finished with value: 0.5790101157975854 and parameters: {'iterations': 197, 'learning_rate': 0.0028867206243400933, 'l2_leaf_reg': 0.42369031419712766, 'min_data_in_leaf': 53, 'random_strength': 6.346675762109987, 'bootstrap_type': 'Bayesian', 'grow_policy': 'Lossguide', 'leaf_estimation_method': 'Gradient', 'leaf_estimation_iterations': 4, 'fold_permutation_block': 4, 'max_leaves': 156, 'depth': 20, 'bagging_temperature': 7.302357075817502}. Best is trial 686 with value: 0.3864838010352342.\u001b[0m\n",
      "\u001b[32m[I 2022-04-28 16:27:15,041]\u001b[0m Trial 867 finished with value: 0.3881174563767233 and parameters: {'iterations': 238, 'learning_rate': 0.0010368969356877188, 'l2_leaf_reg': 1.5821883699890704, 'min_data_in_leaf': 46, 'random_strength': 6.802941665057228, 'bootstrap_type': 'Bayesian', 'grow_policy': 'Depthwise', 'leaf_estimation_method': 'Gradient', 'leaf_estimation_iterations': 4, 'fold_permutation_block': 5, 'depth': 1, 'bagging_temperature': 7.6012774137030314}. Best is trial 686 with value: 0.3864838010352342.\u001b[0m\n",
      "\u001b[32m[I 2022-04-28 16:27:15,666]\u001b[0m Trial 868 finished with value: 0.3881199639273792 and parameters: {'iterations': 212, 'learning_rate': 0.0010325407617308036, 'l2_leaf_reg': 0.1811535774004079, 'min_data_in_leaf': 50, 'random_strength': 7.055162831323367, 'bootstrap_type': 'Bayesian', 'grow_policy': 'Depthwise', 'leaf_estimation_method': 'Gradient', 'leaf_estimation_iterations': 4, 'fold_permutation_block': 4, 'depth': 1, 'bagging_temperature': 6.945215567601811}. Best is trial 686 with value: 0.3864838010352342.\u001b[0m\n",
      "\u001b[32m[I 2022-04-28 16:27:16,296]\u001b[0m Trial 869 finished with value: 0.39143135754227737 and parameters: {'iterations': 221, 'learning_rate': 0.008560863542181031, 'l2_leaf_reg': 1.2571242232981021, 'min_data_in_leaf': 58, 'random_strength': 6.57396121085566, 'bootstrap_type': 'Bayesian', 'grow_policy': 'Depthwise', 'leaf_estimation_method': 'Gradient', 'leaf_estimation_iterations': 4, 'fold_permutation_block': 4, 'depth': 1, 'bagging_temperature': 7.265497804505591}. Best is trial 686 with value: 0.3864838010352342.\u001b[0m\n",
      "\u001b[32m[I 2022-04-28 16:27:16,959]\u001b[0m Trial 870 finished with value: 0.3881678943759057 and parameters: {'iterations': 231, 'learning_rate': 0.0010131234102502514, 'l2_leaf_reg': 0.8796906872858294, 'min_data_in_leaf': 35, 'random_strength': 5.967839716947689, 'bootstrap_type': 'Bayesian', 'grow_policy': 'Depthwise', 'leaf_estimation_method': 'Gradient', 'leaf_estimation_iterations': 4, 'fold_permutation_block': 5, 'depth': 1, 'bagging_temperature': 6.751784328871926}. Best is trial 686 with value: 0.3864838010352342.\u001b[0m\n",
      "\u001b[32m[I 2022-04-28 16:27:17,597]\u001b[0m Trial 871 finished with value: 0.38997691526401473 and parameters: {'iterations': 215, 'learning_rate': 0.005230358175497703, 'l2_leaf_reg': 4.129112215528554, 'min_data_in_leaf': 55, 'random_strength': 7.6414755241667205, 'bootstrap_type': 'Bayesian', 'grow_policy': 'Depthwise', 'leaf_estimation_method': 'Gradient', 'leaf_estimation_iterations': 4, 'fold_permutation_block': 4, 'depth': 1, 'bagging_temperature': 7.417409839124924}. Best is trial 686 with value: 0.3864838010352342.\u001b[0m\n",
      "\u001b[32m[I 2022-04-28 16:27:18,321]\u001b[0m Trial 872 finished with value: 0.40548257353330924 and parameters: {'iterations': 243, 'learning_rate': 0.0029320821946656173, 'l2_leaf_reg': 1.1668779093655632, 'min_data_in_leaf': 52, 'random_strength': 7.258313476477041, 'bootstrap_type': 'Bayesian', 'grow_policy': 'Depthwise', 'leaf_estimation_method': 'Gradient', 'leaf_estimation_iterations': 6, 'fold_permutation_block': 4, 'depth': 1, 'bagging_temperature': 7.012871615036216}. Best is trial 686 with value: 0.3864838010352342.\u001b[0m\n",
      "\u001b[32m[I 2022-04-28 16:27:19,009]\u001b[0m Trial 873 finished with value: 0.3901240758171569 and parameters: {'iterations': 208, 'learning_rate': 0.004439591241917732, 'l2_leaf_reg': 1.0185636249185634, 'min_data_in_leaf': 49, 'random_strength': 6.253941343870078, 'bootstrap_type': 'Bayesian', 'grow_policy': 'Depthwise', 'leaf_estimation_method': 'Gradient', 'leaf_estimation_iterations': 4, 'fold_permutation_block': 5, 'depth': 1, 'bagging_temperature': 7.161988989589918}. Best is trial 686 with value: 0.3864838010352342.\u001b[0m\n",
      "\u001b[32m[I 2022-04-28 16:27:19,631]\u001b[0m Trial 874 finished with value: 0.3884777447468844 and parameters: {'iterations': 223, 'learning_rate': 0.0010298457236890687, 'l2_leaf_reg': 1.3957032791940183, 'min_data_in_leaf': 55, 'random_strength': 6.927895045030798, 'bootstrap_type': 'Bayesian', 'grow_policy': 'Depthwise', 'leaf_estimation_method': 'Gradient', 'leaf_estimation_iterations': 4, 'fold_permutation_block': 4, 'depth': 1, 'bagging_temperature': 7.542317588867436}. Best is trial 686 with value: 0.3864838010352342.\u001b[0m\n",
      "\u001b[32m[I 2022-04-28 16:27:20,453]\u001b[0m Trial 875 finished with value: 0.4462588896154129 and parameters: {'iterations': 232, 'learning_rate': 0.0030235764496425155, 'l2_leaf_reg': 0.5711936621058544, 'min_data_in_leaf': 58, 'random_strength': 8.036916530142271, 'bootstrap_type': 'Bayesian', 'grow_policy': 'Depthwise', 'leaf_estimation_method': 'Gradient', 'leaf_estimation_iterations': 4, 'fold_permutation_block': 4, 'depth': 2, 'bagging_temperature': 6.920018120597701}. Best is trial 686 with value: 0.3864838010352342.\u001b[0m\n",
      "\u001b[32m[I 2022-04-28 16:27:21,032]\u001b[0m Trial 876 finished with value: 0.3890990418558548 and parameters: {'iterations': 202, 'learning_rate': 0.0010126053794876748, 'l2_leaf_reg': 0.7081563442600778, 'min_data_in_leaf': 53, 'random_strength': 6.621175015513404, 'bootstrap_type': 'Bayesian', 'grow_policy': 'Depthwise', 'leaf_estimation_method': 'Gradient', 'leaf_estimation_iterations': 4, 'fold_permutation_block': 5, 'depth': 1, 'bagging_temperature': 7.643931293314413}. Best is trial 686 with value: 0.3864838010352342.\u001b[0m\n",
      "\u001b[32m[I 2022-04-28 16:27:21,643]\u001b[0m Trial 877 finished with value: 0.38886554883486096 and parameters: {'iterations': 216, 'learning_rate': 0.004465825771725641, 'l2_leaf_reg': 4.9165137133540675, 'min_data_in_leaf': 47, 'random_strength': 6.818977682310817, 'bootstrap_type': 'Bayesian', 'grow_policy': 'Depthwise', 'leaf_estimation_method': 'Gradient', 'leaf_estimation_iterations': 4, 'fold_permutation_block': 6, 'depth': 1, 'bagging_temperature': 7.234623389778828}. Best is trial 686 with value: 0.3864838010352342.\u001b[0m\n",
      "\u001b[32m[I 2022-04-28 16:27:22,249]\u001b[0m Trial 878 finished with value: 0.39299295078078483 and parameters: {'iterations': 225, 'learning_rate': 0.007317997872847662, 'l2_leaf_reg': 1.802932848578155, 'min_data_in_leaf': 56, 'random_strength': 7.397550348842168, 'bootstrap_type': 'Bayesian', 'grow_policy': 'Depthwise', 'leaf_estimation_method': 'Gradient', 'leaf_estimation_iterations': 4, 'fold_permutation_block': 4, 'depth': 1, 'bagging_temperature': 6.769614441766491}. Best is trial 686 with value: 0.3864838010352342.\u001b[0m\n",
      "\u001b[32m[I 2022-04-28 16:27:22,940]\u001b[0m Trial 879 finished with value: 0.38990787134301025 and parameters: {'iterations': 251, 'learning_rate': 0.0010133268570973787, 'l2_leaf_reg': 0.37500668157347494, 'min_data_in_leaf': 51, 'random_strength': 7.067419912950754, 'bootstrap_type': 'Bayesian', 'grow_policy': 'Depthwise', 'leaf_estimation_method': 'Gradient', 'leaf_estimation_iterations': 4, 'fold_permutation_block': 4, 'depth': 1, 'bagging_temperature': 7.401640025488022}. Best is trial 686 with value: 0.3864838010352342.\u001b[0m\n",
      "\u001b[32m[I 2022-04-28 16:27:23,662]\u001b[0m Trial 880 finished with value: 0.3869985697284269 and parameters: {'iterations': 235, 'learning_rate': 0.0010000233021748095, 'l2_leaf_reg': 0.8546706820645987, 'min_data_in_leaf': 59, 'random_strength': 6.407645016353216, 'bootstrap_type': 'Bayesian', 'grow_policy': 'Depthwise', 'leaf_estimation_method': 'Gradient', 'leaf_estimation_iterations': 4, 'fold_permutation_block': 5, 'depth': 1, 'bagging_temperature': 7.123511677034452}. Best is trial 686 with value: 0.3864838010352342.\u001b[0m\n",
      "\u001b[32m[I 2022-04-28 16:27:25,386]\u001b[0m Trial 881 finished with value: 0.5573026075077515 and parameters: {'iterations': 242, 'learning_rate': 0.003142674935041218, 'l2_leaf_reg': 0.18182840036553483, 'min_data_in_leaf': 59, 'random_strength': 6.008864065074819, 'bootstrap_type': 'Bayesian', 'grow_policy': 'Depthwise', 'leaf_estimation_method': 'Gradient', 'leaf_estimation_iterations': 4, 'fold_permutation_block': 5, 'depth': 7, 'bagging_temperature': 7.619450571582276}. Best is trial 686 with value: 0.3864838010352342.\u001b[0m\n",
      "\u001b[32m[I 2022-04-28 16:27:26,030]\u001b[0m Trial 882 finished with value: 0.39137409771953346 and parameters: {'iterations': 235, 'learning_rate': 0.005751994723523878, 'l2_leaf_reg': 0.8177280210512909, 'min_data_in_leaf': 59, 'random_strength': 6.256470975370564, 'bootstrap_type': 'Bayesian', 'grow_policy': 'Depthwise', 'leaf_estimation_method': 'Gradient', 'leaf_estimation_iterations': 4, 'fold_permutation_block': 5, 'depth': 1, 'bagging_temperature': 7.384872649657193}. Best is trial 686 with value: 0.3864838010352342.\u001b[0m\n",
      "\u001b[32m[I 2022-04-28 16:27:26,699]\u001b[0m Trial 883 finished with value: 0.40544770780679135 and parameters: {'iterations': 245, 'learning_rate': 0.010598069519086935, 'l2_leaf_reg': 4.502596407071346, 'min_data_in_leaf': 59, 'random_strength': 6.336224301766166, 'bootstrap_type': 'Bayesian', 'grow_policy': 'Depthwise', 'leaf_estimation_method': 'Gradient', 'leaf_estimation_iterations': 5, 'fold_permutation_block': 5, 'depth': 1, 'bagging_temperature': 7.104871224010125}. Best is trial 686 with value: 0.3864838010352342.\u001b[0m\n",
      "\u001b[32m[I 2022-04-28 16:27:27,392]\u001b[0m Trial 884 finished with value: 0.44449434161001666 and parameters: {'iterations': 214, 'learning_rate': 0.0042345414554724285, 'l2_leaf_reg': 0.656864643343679, 'min_data_in_leaf': 57, 'random_strength': 5.987272281120031, 'bootstrap_type': 'Bayesian', 'grow_policy': 'Depthwise', 'leaf_estimation_method': 'Gradient', 'leaf_estimation_iterations': 4, 'fold_permutation_block': 5, 'depth': 2, 'bagging_temperature': 7.241382415703584}. Best is trial 686 with value: 0.3864838010352342.\u001b[0m\n",
      "\u001b[32m[I 2022-04-28 16:27:28,042]\u001b[0m Trial 885 finished with value: 0.38836235605867325 and parameters: {'iterations': 236, 'learning_rate': 0.0010261710207032206, 'l2_leaf_reg': 0.5340164007095151, 'min_data_in_leaf': 59, 'random_strength': 6.428348847601965, 'bootstrap_type': 'Bayesian', 'grow_policy': 'Depthwise', 'leaf_estimation_method': 'Gradient', 'leaf_estimation_iterations': 4, 'fold_permutation_block': 5, 'depth': 1, 'bagging_temperature': 7.436309498488293}. Best is trial 686 with value: 0.3864838010352342.\u001b[0m\n",
      "\u001b[32m[I 2022-04-28 16:27:28,654]\u001b[0m Trial 886 finished with value: 0.3888375919054139 and parameters: {'iterations': 223, 'learning_rate': 0.0027959877779968724, 'l2_leaf_reg': 0.009199975181135245, 'min_data_in_leaf': 60, 'random_strength': 6.194899587539208, 'bootstrap_type': 'Bayesian', 'grow_policy': 'Depthwise', 'leaf_estimation_method': 'Gradient', 'leaf_estimation_iterations': 4, 'fold_permutation_block': 5, 'depth': 1, 'bagging_temperature': 7.643619165869411}. Best is trial 686 with value: 0.3864838010352342.\u001b[0m\n",
      "\u001b[32m[I 2022-04-28 16:27:29,207]\u001b[0m Trial 887 finished with value: 0.5113675554485766 and parameters: {'iterations': 206, 'learning_rate': 0.08404326302342975, 'l2_leaf_reg': 0.840430247436005, 'min_data_in_leaf': 57, 'random_strength': 6.5555674800013115, 'bootstrap_type': 'Bernoulli', 'grow_policy': 'Depthwise', 'leaf_estimation_method': 'Gradient', 'leaf_estimation_iterations': 4, 'fold_permutation_block': 5, 'depth': 1, 'subsample': 0.9560620851939643}. Best is trial 686 with value: 0.3864838010352342.\u001b[0m\n",
      "\u001b[32m[I 2022-04-28 16:27:29,868]\u001b[0m Trial 888 finished with value: 0.388813947683098 and parameters: {'iterations': 227, 'learning_rate': 0.0027272312638262726, 'l2_leaf_reg': 0.4107852315553977, 'min_data_in_leaf': 57, 'random_strength': 6.22378275146248, 'bootstrap_type': 'Bayesian', 'grow_policy': 'Depthwise', 'leaf_estimation_method': 'Gradient', 'leaf_estimation_iterations': 4, 'fold_permutation_block': 5, 'depth': 1, 'bagging_temperature': 7.144025811321792}. Best is trial 686 with value: 0.3864838010352342.\u001b[0m\n",
      "\u001b[32m[I 2022-04-28 16:27:30,543]\u001b[0m Trial 889 finished with value: 0.3910390509836094 and parameters: {'iterations': 254, 'learning_rate': 0.002836300998532211, 'l2_leaf_reg': 9.454345492230622, 'min_data_in_leaf': 60, 'random_strength': 6.603264130717419, 'bootstrap_type': 'Bayesian', 'grow_policy': 'Depthwise', 'leaf_estimation_method': 'Gradient', 'leaf_estimation_iterations': 4, 'fold_permutation_block': 5, 'depth': 1, 'bagging_temperature': 7.418668261368688}. Best is trial 686 with value: 0.3864838010352342.\u001b[0m\n",
      "\u001b[32m[I 2022-04-28 16:27:31,132]\u001b[0m Trial 890 finished with value: 0.3894994876130587 and parameters: {'iterations': 198, 'learning_rate': 0.0010168328252878837, 'l2_leaf_reg': 0.9882732575352139, 'min_data_in_leaf': 55, 'random_strength': 6.355230598905869, 'bootstrap_type': 'Bayesian', 'grow_policy': 'Depthwise', 'leaf_estimation_method': 'Gradient', 'leaf_estimation_iterations': 4, 'fold_permutation_block': 5, 'depth': 1, 'bagging_temperature': 6.968072306921322}. Best is trial 686 with value: 0.3864838010352342.\u001b[0m\n",
      "\u001b[32m[I 2022-04-28 16:27:32,347]\u001b[0m Trial 891 finished with value: 0.5341307807037557 and parameters: {'iterations': 216, 'learning_rate': 0.005767180786838787, 'l2_leaf_reg': 0.2250087149118545, 'min_data_in_leaf': 58, 'random_strength': 6.416396609496189, 'bootstrap_type': 'Bayesian', 'grow_policy': 'Lossguide', 'leaf_estimation_method': 'Gradient', 'leaf_estimation_iterations': 4, 'fold_permutation_block': 6, 'max_leaves': 16, 'depth': 23, 'bagging_temperature': 7.228531790758479}. Best is trial 686 with value: 0.3864838010352342.\u001b[0m\n",
      "\u001b[32m[I 2022-04-28 16:27:32,977]\u001b[0m Trial 892 finished with value: 0.3896691894483662 and parameters: {'iterations': 239, 'learning_rate': 0.0043318604194679654, 'l2_leaf_reg': 1.393603969380171, 'min_data_in_leaf': 42, 'random_strength': 7.693947867231352, 'bootstrap_type': 'Bayesian', 'grow_policy': 'Depthwise', 'leaf_estimation_method': 'Gradient', 'leaf_estimation_iterations': 4, 'fold_permutation_block': 5, 'depth': 1, 'bagging_temperature': 7.677519179506996}. Best is trial 686 with value: 0.3864838010352342.\u001b[0m\n",
      "\u001b[32m[I 2022-04-28 16:27:33,595]\u001b[0m Trial 893 finished with value: 0.38878408941005466 and parameters: {'iterations': 223, 'learning_rate': 0.002847685328142809, 'l2_leaf_reg': 1.1705255348036596, 'min_data_in_leaf': 56, 'random_strength': 6.691068116257381, 'bootstrap_type': 'Bayesian', 'grow_policy': 'Depthwise', 'leaf_estimation_method': 'Gradient', 'leaf_estimation_iterations': 4, 'fold_permutation_block': 5, 'depth': 1, 'bagging_temperature': 7.093729091077265}. Best is trial 686 with value: 0.3864838010352342.\u001b[0m\n",
      "\u001b[32m[I 2022-04-28 16:27:34,174]\u001b[0m Trial 894 finished with value: 0.3888662613938694 and parameters: {'iterations': 208, 'learning_rate': 0.0010490865016315057, 'l2_leaf_reg': 0.6968509732925703, 'min_data_in_leaf': 54, 'random_strength': 6.0304330810149835, 'bootstrap_type': 'Bayesian', 'grow_policy': 'Depthwise', 'leaf_estimation_method': 'Gradient', 'leaf_estimation_iterations': 4, 'fold_permutation_block': 5, 'depth': 1, 'bagging_temperature': 7.379910074065843}. Best is trial 686 with value: 0.3864838010352342.\u001b[0m\n",
      "\u001b[32m[I 2022-04-28 16:27:34,814]\u001b[0m Trial 895 finished with value: 0.38799765054139174 and parameters: {'iterations': 232, 'learning_rate': 0.0010765021003911073, 'l2_leaf_reg': 0.4732647448722812, 'min_data_in_leaf': 60, 'random_strength': 7.920669047996081, 'bootstrap_type': 'Bayesian', 'grow_policy': 'Depthwise', 'leaf_estimation_method': 'Gradient', 'leaf_estimation_iterations': 4, 'fold_permutation_block': 5, 'depth': 1, 'bagging_temperature': 6.767963830916284}. Best is trial 686 with value: 0.3864838010352342.\u001b[0m\n",
      "\u001b[32m[I 2022-04-28 16:27:35,490]\u001b[0m Trial 896 finished with value: 0.4399459092277584 and parameters: {'iterations': 218, 'learning_rate': 0.0010335433495353937, 'l2_leaf_reg': 8.82027088582696, 'min_data_in_leaf': 45, 'random_strength': 6.45548524181202, 'bootstrap_type': 'Bayesian', 'grow_policy': 'Depthwise', 'leaf_estimation_method': 'Gradient', 'leaf_estimation_iterations': 4, 'fold_permutation_block': 5, 'depth': 2, 'bagging_temperature': 7.0089672366844}. Best is trial 686 with value: 0.3864838010352342.\u001b[0m\n",
      "\u001b[32m[I 2022-04-28 16:27:36,103]\u001b[0m Trial 897 finished with value: 0.41541815160269197 and parameters: {'iterations': 213, 'learning_rate': 0.06863997069759561, 'l2_leaf_reg': 1.5684960895587632, 'min_data_in_leaf': 57, 'random_strength': 7.5044778121266855, 'bootstrap_type': 'Bayesian', 'grow_policy': 'Depthwise', 'leaf_estimation_method': 'Gradient', 'leaf_estimation_iterations': 4, 'fold_permutation_block': 6, 'depth': 1, 'bagging_temperature': 7.2593210350950805}. Best is trial 686 with value: 0.3864838010352342.\u001b[0m\n",
      "\u001b[32m[I 2022-04-28 16:27:36,748]\u001b[0m Trial 898 finished with value: 0.3916561702325796 and parameters: {'iterations': 228, 'learning_rate': 0.0065844182204067995, 'l2_leaf_reg': 0.8982333064620531, 'min_data_in_leaf': 55, 'random_strength': 6.686100535082754, 'bootstrap_type': 'Bayesian', 'grow_policy': 'Depthwise', 'leaf_estimation_method': 'Gradient', 'leaf_estimation_iterations': 4, 'fold_permutation_block': 5, 'depth': 1, 'bagging_temperature': 7.6072181577184}. Best is trial 686 with value: 0.3864838010352342.\u001b[0m\n",
      "\u001b[32m[I 2022-04-28 16:27:37,393]\u001b[0m Trial 899 finished with value: 0.38767336655056966 and parameters: {'iterations': 237, 'learning_rate': 0.001052539834431066, 'l2_leaf_reg': 1.0370386359210289, 'min_data_in_leaf': 58, 'random_strength': 7.222707785347556, 'bootstrap_type': 'Bayesian', 'grow_policy': 'Depthwise', 'leaf_estimation_method': 'Gradient', 'leaf_estimation_iterations': 4, 'fold_permutation_block': 4, 'depth': 1, 'bagging_temperature': 6.774519041707511}. Best is trial 686 with value: 0.3864838010352342.\u001b[0m\n",
      "\u001b[32m[I 2022-04-28 16:27:38,008]\u001b[0m Trial 900 finished with value: 0.3883859440639832 and parameters: {'iterations': 220, 'learning_rate': 0.004475774095628862, 'l2_leaf_reg': 1.8342564410243032, 'min_data_in_leaf': 48, 'random_strength': 6.145299770717345, 'bootstrap_type': 'Bayesian', 'grow_policy': 'Depthwise', 'leaf_estimation_method': 'Gradient', 'leaf_estimation_iterations': 4, 'fold_permutation_block': 4, 'depth': 1, 'bagging_temperature': 7.161514024747236}. Best is trial 686 with value: 0.3864838010352342.\u001b[0m\n",
      "\u001b[32m[I 2022-04-28 16:27:38,650]\u001b[0m Trial 901 finished with value: 0.48808864146501546 and parameters: {'iterations': 204, 'learning_rate': 0.0010612725276349397, 'l2_leaf_reg': 1.307794735779424, 'min_data_in_leaf': 54, 'random_strength': 6.532725277651355, 'bootstrap_type': 'Bayesian', 'grow_policy': 'Depthwise', 'leaf_estimation_method': 'Gradient', 'leaf_estimation_iterations': 4, 'fold_permutation_block': 5, 'depth': 2, 'bagging_temperature': 1.07695691780622}. Best is trial 686 with value: 0.3864838010352342.\u001b[0m\n",
      "\u001b[32m[I 2022-04-28 16:27:39,173]\u001b[0m Trial 902 finished with value: 0.397633387595075 and parameters: {'iterations': 192, 'learning_rate': 0.0028594625282698876, 'l2_leaf_reg': 0.6374394846810654, 'min_data_in_leaf': 60, 'random_strength': 6.862602643206852, 'bootstrap_type': 'Bayesian', 'grow_policy': 'Depthwise', 'leaf_estimation_method': 'Gradient', 'leaf_estimation_iterations': 3, 'fold_permutation_block': 4, 'depth': 1, 'bagging_temperature': 7.447811988438703}. Best is trial 686 with value: 0.3864838010352342.\u001b[0m\n",
      "\u001b[32m[I 2022-04-28 16:27:39,828]\u001b[0m Trial 903 finished with value: 0.3905428115782372 and parameters: {'iterations': 247, 'learning_rate': 0.004512618342785913, 'l2_leaf_reg': 0.818672196378315, 'min_data_in_leaf': 56, 'random_strength': 6.4026375185748465, 'bootstrap_type': 'Bayesian', 'grow_policy': 'Depthwise', 'leaf_estimation_method': 'Gradient', 'leaf_estimation_iterations': 4, 'fold_permutation_block': 5, 'depth': 1, 'bagging_temperature': 6.89715251802564}. Best is trial 686 with value: 0.3864838010352342.\u001b[0m\n",
      "\u001b[32m[I 2022-04-28 16:27:40,447]\u001b[0m Trial 904 finished with value: 0.39157528982022755 and parameters: {'iterations': 227, 'learning_rate': 0.007408656945945297, 'l2_leaf_reg': 0.35183037598962175, 'min_data_in_leaf': 43, 'random_strength': 7.090499701460626, 'bootstrap_type': 'Bayesian', 'grow_policy': 'Depthwise', 'leaf_estimation_method': 'Gradient', 'leaf_estimation_iterations': 4, 'fold_permutation_block': 4, 'depth': 1, 'bagging_temperature': 7.2900390472061485}. Best is trial 686 with value: 0.3864838010352342.\u001b[0m\n",
      "\u001b[32m[I 2022-04-28 16:27:41,141]\u001b[0m Trial 905 finished with value: 0.38730303512128644 and parameters: {'iterations': 214, 'learning_rate': 0.001009981022711908, 'l2_leaf_reg': 1.192172845747634, 'min_data_in_leaf': 53, 'random_strength': 6.7393817051264815, 'bootstrap_type': 'Bayesian', 'grow_policy': 'Depthwise', 'leaf_estimation_method': 'Gradient', 'leaf_estimation_iterations': 4, 'fold_permutation_block': 4, 'depth': 1, 'bagging_temperature': 7.700325529366618}. Best is trial 686 with value: 0.3864838010352342.\u001b[0m\n",
      "\u001b[32m[I 2022-04-28 16:27:41,710]\u001b[0m Trial 906 finished with value: 0.3876327395408769 and parameters: {'iterations': 208, 'learning_rate': 0.0010481071193811108, 'l2_leaf_reg': 1.2188572800995945, 'min_data_in_leaf': 39, 'random_strength': 6.847664085232598, 'bootstrap_type': 'Bayesian', 'grow_policy': 'Depthwise', 'leaf_estimation_method': 'Gradient', 'leaf_estimation_iterations': 4, 'fold_permutation_block': 4, 'depth': 1, 'bagging_temperature': 7.754072455053514}. Best is trial 686 with value: 0.3864838010352342.\u001b[0m\n",
      "\u001b[32m[I 2022-04-28 16:27:42,293]\u001b[0m Trial 907 finished with value: 0.39039716215905335 and parameters: {'iterations': 200, 'learning_rate': 0.0027832885329762466, 'l2_leaf_reg': 1.5040074138773685, 'min_data_in_leaf': 50, 'random_strength': 7.272323379553894, 'bootstrap_type': 'Bayesian', 'grow_policy': 'Depthwise', 'leaf_estimation_method': 'Gradient', 'leaf_estimation_iterations': 4, 'fold_permutation_block': 4, 'depth': 1, 'bagging_temperature': 7.646350331511897}. Best is trial 686 with value: 0.3864838010352342.\u001b[0m\n",
      "\u001b[32m[I 2022-04-28 16:27:42,884]\u001b[0m Trial 908 finished with value: 0.3882630086575704 and parameters: {'iterations': 213, 'learning_rate': 0.0010502890248512827, 'l2_leaf_reg': 1.0616411842007305, 'min_data_in_leaf': 52, 'random_strength': 7.019955395422965, 'bootstrap_type': 'Bayesian', 'grow_policy': 'Depthwise', 'leaf_estimation_method': 'Gradient', 'leaf_estimation_iterations': 4, 'fold_permutation_block': 4, 'depth': 1, 'bagging_temperature': 7.544159630788605}. Best is trial 686 with value: 0.3864838010352342.\u001b[0m\n",
      "\u001b[32m[I 2022-04-28 16:27:43,529]\u001b[0m Trial 909 finished with value: 0.3990223914028089 and parameters: {'iterations': 223, 'learning_rate': 0.020995558548152448, 'l2_leaf_reg': 1.5940484570966396, 'min_data_in_leaf': 49, 'random_strength': 6.706448996717704, 'bootstrap_type': 'Bayesian', 'grow_policy': 'Depthwise', 'leaf_estimation_method': 'Gradient', 'leaf_estimation_iterations': 4, 'fold_permutation_block': 4, 'depth': 1, 'bagging_temperature': 7.68250671973521}. Best is trial 686 with value: 0.3864838010352342.\u001b[0m\n",
      "\u001b[32m[I 2022-04-28 16:27:44,173]\u001b[0m Trial 910 finished with value: 0.3894093011130117 and parameters: {'iterations': 237, 'learning_rate': 0.004358305070792945, 'l2_leaf_reg': 1.2348585354039396, 'min_data_in_leaf': 47, 'random_strength': 7.745102884416898, 'bootstrap_type': 'Bayesian', 'grow_policy': 'Depthwise', 'leaf_estimation_method': 'Gradient', 'leaf_estimation_iterations': 4, 'fold_permutation_block': 4, 'depth': 1, 'bagging_temperature': 7.69127058423573}. Best is trial 686 with value: 0.3864838010352342.\u001b[0m\n",
      "\u001b[32m[I 2022-04-28 16:27:44,793]\u001b[0m Trial 911 finished with value: 0.38960111222928817 and parameters: {'iterations': 230, 'learning_rate': 0.0030531443793977717, 'l2_leaf_reg': 0.9246959485977695, 'min_data_in_leaf': 53, 'random_strength': 7.501282727753022, 'bootstrap_type': 'Bayesian', 'grow_policy': 'Depthwise', 'leaf_estimation_method': 'Gradient', 'leaf_estimation_iterations': 4, 'fold_permutation_block': 4, 'depth': 1, 'bagging_temperature': 7.439594650796008}. Best is trial 686 with value: 0.3864838010352342.\u001b[0m\n",
      "\u001b[32m[I 2022-04-28 16:27:45,420]\u001b[0m Trial 912 finished with value: 0.3976251985267935 and parameters: {'iterations': 217, 'learning_rate': 0.0053170328912868475, 'l2_leaf_reg': 1.3715755035668677, 'min_data_in_leaf': 50, 'random_strength': 6.91609411938074, 'bootstrap_type': 'Bayesian', 'grow_policy': 'Depthwise', 'leaf_estimation_method': 'Gradient', 'leaf_estimation_iterations': 5, 'fold_permutation_block': 4, 'depth': 1, 'bagging_temperature': 7.712396153191381}. Best is trial 686 with value: 0.3864838010352342.\u001b[0m\n",
      "\u001b[32m[I 2022-04-28 16:27:46,266]\u001b[0m Trial 913 finished with value: 0.44410621421510194 and parameters: {'iterations': 268, 'learning_rate': 0.0026975636793857036, 'l2_leaf_reg': 1.048691616220269, 'min_data_in_leaf': 54, 'random_strength': 7.267945396631693, 'bootstrap_type': 'Bayesian', 'grow_policy': 'Depthwise', 'leaf_estimation_method': 'Gradient', 'leaf_estimation_iterations': 4, 'fold_permutation_block': 4, 'depth': 2, 'bagging_temperature': 7.492146360273489}. Best is trial 686 with value: 0.3864838010352342.\u001b[0m\n",
      "\u001b[32m[I 2022-04-28 16:27:46,873]\u001b[0m Trial 914 finished with value: 0.3884909832412313 and parameters: {'iterations': 209, 'learning_rate': 0.001011215561705286, 'l2_leaf_reg': 0.0008525702978914168, 'min_data_in_leaf': 52, 'random_strength': 6.667345042377323, 'bootstrap_type': 'Bayesian', 'grow_policy': 'Depthwise', 'leaf_estimation_method': 'Gradient', 'leaf_estimation_iterations': 4, 'fold_permutation_block': 4, 'depth': 1, 'bagging_temperature': 7.3079819358687335}. Best is trial 686 with value: 0.3864838010352342.\u001b[0m\n",
      "\u001b[32m[I 2022-04-28 16:27:47,509]\u001b[0m Trial 915 finished with value: 0.38836788596458643 and parameters: {'iterations': 221, 'learning_rate': 0.0027075975604943167, 'l2_leaf_reg': 0.7974568448516345, 'min_data_in_leaf': 46, 'random_strength': 6.970143947585658, 'bootstrap_type': 'Bayesian', 'grow_policy': 'Depthwise', 'leaf_estimation_method': 'Gradient', 'leaf_estimation_iterations': 4, 'fold_permutation_block': 5, 'depth': 1, 'bagging_temperature': 7.53737517280973}. Best is trial 686 with value: 0.3864838010352342.\u001b[0m\n",
      "\u001b[32m[I 2022-04-28 16:27:49,222]\u001b[0m Trial 916 finished with value: 0.5663178517632929 and parameters: {'iterations': 198, 'learning_rate': 0.0010261647965257078, 'l2_leaf_reg': 1.7115082619462205, 'min_data_in_leaf': 49, 'random_strength': 7.132457493152231, 'bootstrap_type': 'Bayesian', 'grow_policy': 'Depthwise', 'leaf_estimation_method': 'Gradient', 'leaf_estimation_iterations': 4, 'fold_permutation_block': 4, 'depth': 9, 'bagging_temperature': 7.147893327204213}. Best is trial 686 with value: 0.3864838010352342.\u001b[0m\n",
      "\u001b[32m[I 2022-04-28 16:27:49,871]\u001b[0m Trial 917 finished with value: 0.46789286689974285 and parameters: {'iterations': 241, 'learning_rate': 0.017648781656711028, 'l2_leaf_reg': 1.264188343417661, 'min_data_in_leaf': 58, 'random_strength': 6.702734115444842, 'bootstrap_type': 'Bernoulli', 'grow_policy': 'Depthwise', 'leaf_estimation_method': 'Gradient', 'leaf_estimation_iterations': 4, 'fold_permutation_block': 4, 'depth': 1, 'subsample': 0.4747882467439031}. Best is trial 686 with value: 0.3864838010352342.\u001b[0m\n",
      "\u001b[32m[I 2022-04-28 16:27:50,494]\u001b[0m Trial 918 finished with value: 0.39226260050092204 and parameters: {'iterations': 230, 'learning_rate': 0.008263351781452365, 'l2_leaf_reg': 0.5561856534644363, 'min_data_in_leaf': 54, 'random_strength': 7.376059860635103, 'bootstrap_type': 'Bayesian', 'grow_policy': 'Depthwise', 'leaf_estimation_method': 'Gradient', 'leaf_estimation_iterations': 4, 'fold_permutation_block': 5, 'depth': 1, 'bagging_temperature': 7.325972719609388}. Best is trial 686 with value: 0.3864838010352342.\u001b[0m\n",
      "\u001b[32m[I 2022-04-28 16:27:51,079]\u001b[0m Trial 919 finished with value: 0.3911650095281663 and parameters: {'iterations': 211, 'learning_rate': 0.006232583948318025, 'l2_leaf_reg': 1.4104074031443783, 'min_data_in_leaf': 44, 'random_strength': 8.417446297479675, 'bootstrap_type': 'Bayesian', 'grow_policy': 'Depthwise', 'leaf_estimation_method': 'Gradient', 'leaf_estimation_iterations': 4, 'fold_permutation_block': 4, 'depth': 1, 'bagging_temperature': 7.745944552398357}. Best is trial 686 with value: 0.3864838010352342.\u001b[0m\n",
      "\u001b[32m[I 2022-04-28 16:27:51,680]\u001b[0m Trial 920 finished with value: 0.3892472839745851 and parameters: {'iterations': 222, 'learning_rate': 0.004223361739893308, 'l2_leaf_reg': 1.0230952184793358, 'min_data_in_leaf': 51, 'random_strength': 6.7526278947161344, 'bootstrap_type': 'Bayesian', 'grow_policy': 'Depthwise', 'leaf_estimation_method': 'Gradient', 'leaf_estimation_iterations': 4, 'fold_permutation_block': 5, 'depth': 1, 'bagging_temperature': 7.437625495771268}. Best is trial 686 with value: 0.3864838010352342.\u001b[0m\n",
      "\u001b[32m[I 2022-04-28 16:27:52,356]\u001b[0m Trial 921 finished with value: 0.4136986978017112 and parameters: {'iterations': 233, 'learning_rate': 0.049330121304210744, 'l2_leaf_reg': 0.8345218549786257, 'min_data_in_leaf': 56, 'random_strength': 7.103124480675535, 'bootstrap_type': 'Bayesian', 'grow_policy': 'Depthwise', 'leaf_estimation_method': 'Gradient', 'leaf_estimation_iterations': 4, 'fold_permutation_block': 4, 'depth': 1, 'bagging_temperature': 7.089256727755126}. Best is trial 686 with value: 0.3864838010352342.\u001b[0m\n",
      "\u001b[32m[I 2022-04-28 16:27:52,942]\u001b[0m Trial 922 finished with value: 0.3895326821631812 and parameters: {'iterations': 204, 'learning_rate': 0.002871599255605428, 'l2_leaf_reg': 0.23089266982892934, 'min_data_in_leaf': 60, 'random_strength': 7.555836645851048, 'bootstrap_type': 'Bayesian', 'grow_policy': 'Depthwise', 'leaf_estimation_method': 'Gradient', 'leaf_estimation_iterations': 4, 'fold_permutation_block': 4, 'depth': 1, 'bagging_temperature': 7.724340806203882}. Best is trial 686 with value: 0.3864838010352342.\u001b[0m\n",
      "\u001b[32m[I 2022-04-28 16:27:53,574]\u001b[0m Trial 923 finished with value: 0.38779013083006153 and parameters: {'iterations': 247, 'learning_rate': 0.001104124613686328, 'l2_leaf_reg': 1.1642453851057808, 'min_data_in_leaf': 48, 'random_strength': 6.554870543790514, 'bootstrap_type': 'Bayesian', 'grow_policy': 'Depthwise', 'leaf_estimation_method': 'Gradient', 'leaf_estimation_iterations': 4, 'fold_permutation_block': 4, 'depth': 1, 'bagging_temperature': 7.243072331365012}. Best is trial 686 with value: 0.3864838010352342.\u001b[0m\n",
      "\u001b[32m[I 2022-04-28 16:27:54,187]\u001b[0m Trial 924 finished with value: 0.38842032479118727 and parameters: {'iterations': 217, 'learning_rate': 0.001031408591865936, 'l2_leaf_reg': 0.6612687204628889, 'min_data_in_leaf': 53, 'random_strength': 6.909921633070044, 'bootstrap_type': 'Bayesian', 'grow_policy': 'Depthwise', 'leaf_estimation_method': 'Gradient', 'leaf_estimation_iterations': 4, 'fold_permutation_block': 4, 'depth': 1, 'bagging_temperature': 7.507793590335882}. Best is trial 686 with value: 0.3864838010352342.\u001b[0m\n",
      "\u001b[32m[I 2022-04-28 16:27:55,107]\u001b[0m Trial 925 finished with value: 0.5199069207180583 and parameters: {'iterations': 226, 'learning_rate': 0.004185626750942727, 'l2_leaf_reg': 1.532362872674432, 'min_data_in_leaf': 99, 'random_strength': 7.83233156564808, 'bootstrap_type': 'Bayesian', 'grow_policy': 'Depthwise', 'leaf_estimation_method': 'Gradient', 'leaf_estimation_iterations': 4, 'fold_permutation_block': 5, 'depth': 4, 'bagging_temperature': 6.976711861742524}. Best is trial 686 with value: 0.3864838010352342.\u001b[0m\n",
      "\u001b[32m[I 2022-04-28 16:27:55,708]\u001b[0m Trial 926 finished with value: 0.4401288108037103 and parameters: {'iterations': 190, 'learning_rate': 0.002655908923125507, 'l2_leaf_reg': 0.46034704055125325, 'min_data_in_leaf': 58, 'random_strength': 6.830249601601167, 'bootstrap_type': 'Bayesian', 'grow_policy': 'Depthwise', 'leaf_estimation_method': 'Gradient', 'leaf_estimation_iterations': 4, 'fold_permutation_block': 5, 'depth': 2, 'bagging_temperature': 7.099248987883222}. Best is trial 686 with value: 0.3864838010352342.\u001b[0m\n",
      "\u001b[32m[I 2022-04-28 16:27:56,316]\u001b[0m Trial 927 finished with value: 0.3883420012815468 and parameters: {'iterations': 215, 'learning_rate': 0.0010676275072416682, 'l2_leaf_reg': 0.9495686467208435, 'min_data_in_leaf': 56, 'random_strength': 7.336711076675057, 'bootstrap_type': 'Bayesian', 'grow_policy': 'Depthwise', 'leaf_estimation_method': 'Gradient', 'leaf_estimation_iterations': 4, 'fold_permutation_block': 4, 'depth': 1, 'bagging_temperature': 7.357268377231958}. Best is trial 686 with value: 0.3864838010352342.\u001b[0m\n",
      "\u001b[32m[I 2022-04-28 16:27:56,969]\u001b[0m Trial 928 finished with value: 0.39143198312777616 and parameters: {'iterations': 240, 'learning_rate': 0.00578732112437481, 'l2_leaf_reg': 1.1701778826426676, 'min_data_in_leaf': 46, 'random_strength': 6.537630453250109, 'bootstrap_type': 'Bayesian', 'grow_policy': 'Depthwise', 'leaf_estimation_method': 'Gradient', 'leaf_estimation_iterations': 4, 'fold_permutation_block': 6, 'depth': 1, 'bagging_temperature': 7.542170369482625}. Best is trial 686 with value: 0.3864838010352342.\u001b[0m\n",
      "\u001b[32m[I 2022-04-28 16:27:57,676]\u001b[0m Trial 929 finished with value: 0.3916694711975009 and parameters: {'iterations': 257, 'learning_rate': 0.0027646073503089464, 'l2_leaf_reg': 1.9037148059211837, 'min_data_in_leaf': 51, 'random_strength': 6.215496177221993, 'bootstrap_type': 'Bayesian', 'grow_policy': 'Depthwise', 'leaf_estimation_method': 'Gradient', 'leaf_estimation_iterations': 4, 'fold_permutation_block': 4, 'depth': 1, 'bagging_temperature': 6.921320653483865}. Best is trial 686 with value: 0.3864838010352342.\u001b[0m\n",
      "\u001b[32m[I 2022-04-28 16:27:59,307]\u001b[0m Trial 930 finished with value: 0.5519772050881605 and parameters: {'iterations': 226, 'learning_rate': 0.0010545617819328122, 'l2_leaf_reg': 0.7320300891520479, 'min_data_in_leaf': 60, 'random_strength': 7.102523050042295, 'bootstrap_type': 'Bayesian', 'grow_policy': 'Lossguide', 'leaf_estimation_method': 'Gradient', 'leaf_estimation_iterations': 4, 'fold_permutation_block': 4, 'max_leaves': 48, 'depth': 6, 'bagging_temperature': 7.2423456342750585}. Best is trial 686 with value: 0.3864838010352342.\u001b[0m\n",
      "\u001b[32m[I 2022-04-28 16:27:59,925]\u001b[0m Trial 931 finished with value: 0.3877796142370303 and parameters: {'iterations': 208, 'learning_rate': 0.0010096678175265652, 'l2_leaf_reg': 0.0022859657874716444, 'min_data_in_leaf': 53, 'random_strength': 6.75528634258091, 'bootstrap_type': 'Bayesian', 'grow_policy': 'Depthwise', 'leaf_estimation_method': 'Gradient', 'leaf_estimation_iterations': 4, 'fold_permutation_block': 5, 'depth': 1, 'bagging_temperature': 7.717995677991475}. Best is trial 686 with value: 0.3864838010352342.\u001b[0m\n",
      "\u001b[32m[I 2022-04-28 16:28:00,530]\u001b[0m Trial 932 finished with value: 0.3867651257133032 and parameters: {'iterations': 234, 'learning_rate': 0.0010067893504088498, 'l2_leaf_reg': 1.413210016111767, 'min_data_in_leaf': 55, 'random_strength': 6.469193488687446, 'bootstrap_type': 'Bayesian', 'grow_policy': 'Depthwise', 'leaf_estimation_method': 'Gradient', 'leaf_estimation_iterations': 4, 'fold_permutation_block': 5, 'depth': 1, 'bagging_temperature': 7.100117489913962}. Best is trial 686 with value: 0.3864838010352342.\u001b[0m\n",
      "\u001b[32m[I 2022-04-28 16:28:01,237]\u001b[0m Trial 933 finished with value: 0.3949179919341513 and parameters: {'iterations': 247, 'learning_rate': 0.00927481055908963, 'l2_leaf_reg': 1.6576706622889246, 'min_data_in_leaf': 57, 'random_strength': 5.923254665411046, 'bootstrap_type': 'Bayesian', 'grow_policy': 'Depthwise', 'leaf_estimation_method': 'Gradient', 'leaf_estimation_iterations': 4, 'fold_permutation_block': 5, 'depth': 1, 'bagging_temperature': 6.761753642364834}. Best is trial 686 with value: 0.3864838010352342.\u001b[0m\n",
      "\u001b[32m[I 2022-04-28 16:28:01,918]\u001b[0m Trial 934 finished with value: 0.41902586133125036 and parameters: {'iterations': 240, 'learning_rate': 0.05481544653929113, 'l2_leaf_reg': 1.832445632980145, 'min_data_in_leaf': 59, 'random_strength': 6.227700578915354, 'bootstrap_type': 'Bayesian', 'grow_policy': 'Depthwise', 'leaf_estimation_method': 'Gradient', 'leaf_estimation_iterations': 4, 'fold_permutation_block': 5, 'depth': 1, 'bagging_temperature': 6.980937675102683}. Best is trial 686 with value: 0.3864838010352342.\u001b[0m\n",
      "\u001b[32m[I 2022-04-28 16:28:02,579]\u001b[0m Trial 935 finished with value: 0.40485229859022137 and parameters: {'iterations': 250, 'learning_rate': 0.027082876894534792, 'l2_leaf_reg': 0.2931931512984814, 'min_data_in_leaf': 56, 'random_strength': 6.4292225319072855, 'bootstrap_type': 'Bayesian', 'grow_policy': 'Depthwise', 'leaf_estimation_method': 'Gradient', 'leaf_estimation_iterations': 4, 'fold_permutation_block': 5, 'depth': 1, 'bagging_temperature': 7.056707638923598}. Best is trial 686 with value: 0.3864838010352342.\u001b[0m\n",
      "\u001b[32m[I 2022-04-28 16:28:03,305]\u001b[0m Trial 936 finished with value: 0.4463342841747306 and parameters: {'iterations': 235, 'learning_rate': 0.004416777900431898, 'l2_leaf_reg': 1.295880217279646, 'min_data_in_leaf': 61, 'random_strength': 6.257617907255448, 'bootstrap_type': 'Bayesian', 'grow_policy': 'Depthwise', 'leaf_estimation_method': 'Gradient', 'leaf_estimation_iterations': 4, 'fold_permutation_block': 5, 'depth': 2, 'bagging_temperature': 7.130146320815828}. Best is trial 686 with value: 0.3864838010352342.\u001b[0m\n",
      "\u001b[32m[I 2022-04-28 16:28:04,020]\u001b[0m Trial 937 finished with value: 0.40404174153498373 and parameters: {'iterations': 235, 'learning_rate': 0.032280308775604186, 'l2_leaf_reg': 1.5706410371356694, 'min_data_in_leaf': 55, 'random_strength': 6.456607999701526, 'bootstrap_type': 'Bayesian', 'grow_policy': 'Depthwise', 'leaf_estimation_method': 'Gradient', 'leaf_estimation_iterations': 4, 'fold_permutation_block': 5, 'depth': 1, 'bagging_temperature': 6.811011330063439}. Best is trial 686 with value: 0.3864838010352342.\u001b[0m\n",
      "\u001b[32m[I 2022-04-28 16:28:04,777]\u001b[0m Trial 938 finished with value: 0.3903692910708672 and parameters: {'iterations': 258, 'learning_rate': 0.0010688553171020606, 'l2_leaf_reg': 1.4709024920874016, 'min_data_in_leaf': 58, 'random_strength': 8.044192187172237, 'bootstrap_type': 'Bayesian', 'grow_policy': 'Depthwise', 'leaf_estimation_method': 'Gradient', 'leaf_estimation_iterations': 4, 'fold_permutation_block': 5, 'depth': 1, 'bagging_temperature': 6.935149878846827}. Best is trial 686 with value: 0.3864838010352342.\u001b[0m\n",
      "\u001b[32m[I 2022-04-28 16:28:05,431]\u001b[0m Trial 939 finished with value: 0.3915312744865538 and parameters: {'iterations': 233, 'learning_rate': 0.006499543540326283, 'l2_leaf_reg': 0.605766052623388, 'min_data_in_leaf': 55, 'random_strength': 5.993101142747964, 'bootstrap_type': 'Bayesian', 'grow_policy': 'Depthwise', 'leaf_estimation_method': 'Gradient', 'leaf_estimation_iterations': 4, 'fold_permutation_block': 5, 'depth': 1, 'bagging_temperature': 6.730714033401162}. Best is trial 686 with value: 0.3864838010352342.\u001b[0m\n",
      "\u001b[32m[I 2022-04-28 16:28:06,126]\u001b[0m Trial 940 finished with value: 0.388743233278069 and parameters: {'iterations': 245, 'learning_rate': 0.002819908744507233, 'l2_leaf_reg': 1.3966601481323804, 'min_data_in_leaf': 58, 'random_strength': 7.69030029780879, 'bootstrap_type': 'Bayesian', 'grow_policy': 'Depthwise', 'leaf_estimation_method': 'Gradient', 'leaf_estimation_iterations': 4, 'fold_permutation_block': 5, 'depth': 1, 'bagging_temperature': 7.1354673800716215}. Best is trial 686 with value: 0.3864838010352342.\u001b[0m\n",
      "\u001b[32m[I 2022-04-28 16:28:06,796]\u001b[0m Trial 941 finished with value: 0.3888273206783906 and parameters: {'iterations': 229, 'learning_rate': 0.004287703193473449, 'l2_leaf_reg': 0.9625736711773352, 'min_data_in_leaf': 41, 'random_strength': 6.541062583799242, 'bootstrap_type': 'Bayesian', 'grow_policy': 'Depthwise', 'leaf_estimation_method': 'Gradient', 'leaf_estimation_iterations': 4, 'fold_permutation_block': 6, 'depth': 1, 'bagging_temperature': 7.250102367888214}. Best is trial 686 with value: 0.3864838010352342.\u001b[0m\n",
      "\u001b[32m[I 2022-04-28 16:28:07,423]\u001b[0m Trial 942 finished with value: 0.38864419102187786 and parameters: {'iterations': 237, 'learning_rate': 0.002819025737564181, 'l2_leaf_reg': 1.7004746658085708, 'min_data_in_leaf': 61, 'random_strength': 6.306633424150976, 'bootstrap_type': 'Bayesian', 'grow_policy': 'Depthwise', 'leaf_estimation_method': 'Gradient', 'leaf_estimation_iterations': 4, 'fold_permutation_block': 5, 'depth': 1, 'bagging_temperature': 6.954820456244011}. Best is trial 686 with value: 0.3864838010352342.\u001b[0m\n",
      "\u001b[32m[I 2022-04-28 16:28:08,044]\u001b[0m Trial 943 finished with value: 0.4553558044370598 and parameters: {'iterations': 226, 'learning_rate': 0.005613751942544121, 'l2_leaf_reg': 0.1379027888898661, 'min_data_in_leaf': 56, 'random_strength': 7.526767201733899, 'bootstrap_type': 'Bernoulli', 'grow_policy': 'Depthwise', 'leaf_estimation_method': 'Gradient', 'leaf_estimation_iterations': 3, 'fold_permutation_block': 5, 'depth': 1, 'subsample': 0.8143982370136414}. Best is trial 686 with value: 0.3864838010352342.\u001b[0m\n",
      "\u001b[32m[I 2022-04-28 16:28:08,704]\u001b[0m Trial 944 finished with value: 0.3877762090579519 and parameters: {'iterations': 241, 'learning_rate': 0.001081656221448465, 'l2_leaf_reg': 0.43394593380966695, 'min_data_in_leaf': 50, 'random_strength': 6.14431326582236, 'bootstrap_type': 'Bayesian', 'grow_policy': 'Depthwise', 'leaf_estimation_method': 'Gradient', 'leaf_estimation_iterations': 4, 'fold_permutation_block': 5, 'depth': 1, 'bagging_temperature': 7.30330510660123}. Best is trial 686 with value: 0.3864838010352342.\u001b[0m\n",
      "\u001b[32m[I 2022-04-28 16:28:09,302]\u001b[0m Trial 945 finished with value: 0.38803276563569294 and parameters: {'iterations': 224, 'learning_rate': 0.0028586122697860207, 'l2_leaf_reg': 0.8152926562173108, 'min_data_in_leaf': 54, 'random_strength': 7.262575583521244, 'bootstrap_type': 'Bayesian', 'grow_policy': 'Depthwise', 'leaf_estimation_method': 'Gradient', 'leaf_estimation_iterations': 4, 'fold_permutation_block': 5, 'depth': 1, 'bagging_temperature': 6.715206353513494}. Best is trial 686 with value: 0.3864838010352342.\u001b[0m\n",
      "\u001b[32m[I 2022-04-28 16:28:09,998]\u001b[0m Trial 946 finished with value: 0.4421718578477693 and parameters: {'iterations': 221, 'learning_rate': 0.004512087333424043, 'l2_leaf_reg': 1.9317549021241474, 'min_data_in_leaf': 59, 'random_strength': 6.578516029067646, 'bootstrap_type': 'Bayesian', 'grow_policy': 'Depthwise', 'leaf_estimation_method': 'Gradient', 'leaf_estimation_iterations': 4, 'fold_permutation_block': 6, 'depth': 2, 'bagging_temperature': 7.1492601818660315}. Best is trial 686 with value: 0.3864838010352342.\u001b[0m\n",
      "\u001b[32m[I 2022-04-28 16:28:10,695]\u001b[0m Trial 947 finished with value: 0.3881274725906012 and parameters: {'iterations': 233, 'learning_rate': 0.0010415892017105106, 'l2_leaf_reg': 1.080219493017578, 'min_data_in_leaf': 45, 'random_strength': 7.0510963966725875, 'bootstrap_type': 'Bayesian', 'grow_policy': 'Depthwise', 'leaf_estimation_method': 'Gradient', 'leaf_estimation_iterations': 4, 'fold_permutation_block': 5, 'depth': 1, 'bagging_temperature': 7.361498231103994}. Best is trial 686 with value: 0.3864838010352342.\u001b[0m\n",
      "\u001b[32m[I 2022-04-28 16:28:11,348]\u001b[0m Trial 948 finished with value: 0.4243676947330734 and parameters: {'iterations': 230, 'learning_rate': 0.06062748283218543, 'l2_leaf_reg': 1.2657085195535214, 'min_data_in_leaf': 57, 'random_strength': 6.871406063970929, 'bootstrap_type': 'Bayesian', 'grow_policy': 'Depthwise', 'leaf_estimation_method': 'Gradient', 'leaf_estimation_iterations': 5, 'fold_permutation_block': 5, 'depth': 1, 'bagging_temperature': 6.969303250465915}. Best is trial 686 with value: 0.3864838010352342.\u001b[0m\n",
      "\u001b[32m[I 2022-04-28 16:28:12,021]\u001b[0m Trial 949 finished with value: 0.39363049978776865 and parameters: {'iterations': 249, 'learning_rate': 0.007411183107228558, 'l2_leaf_reg': 0.5731166593605321, 'min_data_in_leaf': 52, 'random_strength': 6.494098219628935, 'bootstrap_type': 'Bayesian', 'grow_policy': 'Depthwise', 'leaf_estimation_method': 'Gradient', 'leaf_estimation_iterations': 4, 'fold_permutation_block': 5, 'depth': 1, 'bagging_temperature': 7.08949402335966}. Best is trial 686 with value: 0.3864838010352342.\u001b[0m\n",
      "\u001b[32m[I 2022-04-28 16:28:12,648]\u001b[0m Trial 950 finished with value: 0.38786308587049523 and parameters: {'iterations': 221, 'learning_rate': 0.0010144661237077475, 'l2_leaf_reg': 1.3808771249946592, 'min_data_in_leaf': 48, 'random_strength': 7.4826472098405965, 'bootstrap_type': 'Bayesian', 'grow_policy': 'Depthwise', 'leaf_estimation_method': 'Gradient', 'leaf_estimation_iterations': 4, 'fold_permutation_block': 5, 'depth': 1, 'bagging_temperature': 7.431696828330529}. Best is trial 686 with value: 0.3864838010352342.\u001b[0m\n",
      "\u001b[32m[I 2022-04-28 16:28:13,348]\u001b[0m Trial 951 finished with value: 0.38823982980045973 and parameters: {'iterations': 237, 'learning_rate': 0.0029018418891169203, 'l2_leaf_reg': 0.9355495318804077, 'min_data_in_leaf': 60, 'random_strength': 6.345435221853672, 'bootstrap_type': 'Bayesian', 'grow_policy': 'Depthwise', 'leaf_estimation_method': 'Gradient', 'leaf_estimation_iterations': 4, 'fold_permutation_block': 5, 'depth': 1, 'bagging_temperature': 6.746655212922459}. Best is trial 686 with value: 0.3864838010352342.\u001b[0m\n",
      "\u001b[32m[I 2022-04-28 16:28:13,986]\u001b[0m Trial 952 finished with value: 0.3880905584218885 and parameters: {'iterations': 227, 'learning_rate': 0.001067525521747452, 'l2_leaf_reg': 0.3259821868802717, 'min_data_in_leaf': 55, 'random_strength': 6.671578174998526, 'bootstrap_type': 'Bayesian', 'grow_policy': 'Depthwise', 'leaf_estimation_method': 'Gradient', 'leaf_estimation_iterations': 4, 'fold_permutation_block': 5, 'depth': 1, 'bagging_temperature': 7.262386744910979}. Best is trial 686 with value: 0.3864838010352342.\u001b[0m\n",
      "\u001b[32m[I 2022-04-28 16:28:14,603]\u001b[0m Trial 953 finished with value: 0.3892960842455461 and parameters: {'iterations': 219, 'learning_rate': 0.004498197965141657, 'l2_leaf_reg': 3.316011574207358, 'min_data_in_leaf': 51, 'random_strength': 6.992135185981369, 'bootstrap_type': 'Bayesian', 'grow_policy': 'Depthwise', 'leaf_estimation_method': 'Gradient', 'leaf_estimation_iterations': 4, 'fold_permutation_block': 4, 'depth': 1, 'bagging_temperature': 6.975028373421972}. Best is trial 686 with value: 0.3864838010352342.\u001b[0m\n",
      "\u001b[32m[I 2022-04-28 16:28:15,247]\u001b[0m Trial 954 finished with value: 0.3873165808471852 and parameters: {'iterations': 241, 'learning_rate': 0.0010623074552769233, 'l2_leaf_reg': 3.6378773818129893, 'min_data_in_leaf': 43, 'random_strength': 7.312964087062586, 'bootstrap_type': 'Bayesian', 'grow_policy': 'Depthwise', 'leaf_estimation_method': 'Gradient', 'leaf_estimation_iterations': 4, 'fold_permutation_block': 5, 'depth': 1, 'bagging_temperature': 7.162262988544516}. Best is trial 686 with value: 0.3864838010352342.\u001b[0m\n",
      "\u001b[32m[I 2022-04-28 16:28:15,843]\u001b[0m Trial 955 finished with value: 0.3880928183452159 and parameters: {'iterations': 215, 'learning_rate': 0.0010122196667861592, 'l2_leaf_reg': 0.002990466429381944, 'min_data_in_leaf': 57, 'random_strength': 5.969590530551448, 'bootstrap_type': 'Bayesian', 'grow_policy': 'Depthwise', 'leaf_estimation_method': 'Gradient', 'leaf_estimation_iterations': 4, 'fold_permutation_block': 5, 'depth': 1, 'bagging_temperature': 7.443473070084995}. Best is trial 686 with value: 0.3864838010352342.\u001b[0m\n",
      "\u001b[32m[I 2022-04-28 16:28:16,484]\u001b[0m Trial 956 finished with value: 0.3890436569586368 and parameters: {'iterations': 230, 'learning_rate': 0.0010294910001687734, 'l2_leaf_reg': 0.7732443788933236, 'min_data_in_leaf': 54, 'random_strength': 2.7402405167189134, 'bootstrap_type': 'Bayesian', 'grow_policy': 'Depthwise', 'leaf_estimation_method': 'Gradient', 'leaf_estimation_iterations': 4, 'fold_permutation_block': 4, 'depth': 1, 'bagging_temperature': 9.748090563436264}. Best is trial 686 with value: 0.3864838010352342.\u001b[0m\n",
      "\u001b[32m[I 2022-04-28 16:28:19,321]\u001b[0m Trial 957 finished with value: 0.5690646583607557 and parameters: {'iterations': 254, 'learning_rate': 0.0010335167554295342, 'l2_leaf_reg': 1.7275077827033463, 'min_data_in_leaf': 47, 'random_strength': 7.168302549361138, 'bootstrap_type': 'Bayesian', 'grow_policy': 'Lossguide', 'leaf_estimation_method': 'Gradient', 'leaf_estimation_iterations': 4, 'fold_permutation_block': 6, 'max_leaves': 83, 'depth': 15, 'bagging_temperature': 6.832236740755681}. Best is trial 686 with value: 0.3864838010352342.\u001b[0m\n",
      "\u001b[32m[I 2022-04-28 16:28:19,943]\u001b[0m Trial 958 finished with value: 0.3903629749288118 and parameters: {'iterations': 224, 'learning_rate': 0.005770099693536602, 'l2_leaf_reg': 1.424312102415719, 'min_data_in_leaf': 61, 'random_strength': 6.844645201081504, 'bootstrap_type': 'Bayesian', 'grow_policy': 'Depthwise', 'leaf_estimation_method': 'Gradient', 'leaf_estimation_iterations': 4, 'fold_permutation_block': 4, 'depth': 1, 'bagging_temperature': 7.276140864354323}. Best is trial 686 with value: 0.3864838010352342.\u001b[0m\n",
      "\u001b[32m[I 2022-04-28 16:28:20,519]\u001b[0m Trial 959 finished with value: 0.3897912580733762 and parameters: {'iterations': 210, 'learning_rate': 0.0030953803375265163, 'l2_leaf_reg': 1.0544001821874338, 'min_data_in_leaf': 49, 'random_strength': 6.578379257509505, 'bootstrap_type': 'Bayesian', 'grow_policy': 'Depthwise', 'leaf_estimation_method': 'Gradient', 'leaf_estimation_iterations': 4, 'fold_permutation_block': 5, 'depth': 1, 'bagging_temperature': 7.053351565295702}. Best is trial 686 with value: 0.3864838010352342.\u001b[0m\n",
      "\u001b[32m[I 2022-04-28 16:28:21,309]\u001b[0m Trial 960 finished with value: 0.44237562605175734 and parameters: {'iterations': 232, 'learning_rate': 0.002991202729607452, 'l2_leaf_reg': 0.4975448211217557, 'min_data_in_leaf': 59, 'random_strength': 7.703618260867867, 'bootstrap_type': 'Bayesian', 'grow_policy': 'Depthwise', 'leaf_estimation_method': 'Gradient', 'leaf_estimation_iterations': 4, 'fold_permutation_block': 4, 'depth': 2, 'bagging_temperature': 7.486719646681361}. Best is trial 686 with value: 0.3864838010352342.\u001b[0m\n",
      "\u001b[32m[I 2022-04-28 16:28:21,986]\u001b[0m Trial 961 finished with value: 0.39014132404770363 and parameters: {'iterations': 219, 'learning_rate': 0.004285204970819481, 'l2_leaf_reg': 1.136240181326597, 'min_data_in_leaf': 53, 'random_strength': 6.168723054244488, 'bootstrap_type': 'Bayesian', 'grow_policy': 'Depthwise', 'leaf_estimation_method': 'Gradient', 'leaf_estimation_iterations': 4, 'fold_permutation_block': 4, 'depth': 1, 'bagging_temperature': 6.759408019593902}. Best is trial 686 with value: 0.3864838010352342.\u001b[0m\n",
      "\u001b[32m[I 2022-04-28 16:28:22,680]\u001b[0m Trial 962 finished with value: 0.3926222745826602 and parameters: {'iterations': 243, 'learning_rate': 0.007701210099873647, 'l2_leaf_reg': 1.568803298484668, 'min_data_in_leaf': 57, 'random_strength': 6.405936441463782, 'bootstrap_type': 'Bayesian', 'grow_policy': 'Depthwise', 'leaf_estimation_method': 'Gradient', 'leaf_estimation_iterations': 4, 'fold_permutation_block': 5, 'depth': 1, 'bagging_temperature': 6.9137656256496465}. Best is trial 686 with value: 0.3864838010352342.\u001b[0m\n",
      "\u001b[32m[I 2022-04-28 16:28:23,294]\u001b[0m Trial 963 finished with value: 0.389353392291273 and parameters: {'iterations': 205, 'learning_rate': 0.0028106917398571666, 'l2_leaf_reg': 0.16282624295400405, 'min_data_in_leaf': 39, 'random_strength': 7.897854833769632, 'bootstrap_type': 'Bayesian', 'grow_policy': 'Depthwise', 'leaf_estimation_method': 'Gradient', 'leaf_estimation_iterations': 4, 'fold_permutation_block': 4, 'depth': 1, 'bagging_temperature': 7.2207623955060765}. Best is trial 686 with value: 0.3864838010352342.\u001b[0m\n",
      "\u001b[32m[I 2022-04-28 16:28:24,570]\u001b[0m Trial 964 finished with value: 0.533745082747062 and parameters: {'iterations': 223, 'learning_rate': 0.0010075384405111402, 'l2_leaf_reg': 0.7028580157056429, 'min_data_in_leaf': 55, 'random_strength': 6.961154547083165, 'bootstrap_type': 'Bayesian', 'grow_policy': 'Depthwise', 'leaf_estimation_method': 'Gradient', 'leaf_estimation_iterations': 4, 'fold_permutation_block': 5, 'depth': 5, 'bagging_temperature': 7.392008677059939}. Best is trial 686 with value: 0.3864838010352342.\u001b[0m\n",
      "\u001b[32m[I 2022-04-28 16:28:25,166]\u001b[0m Trial 965 finished with value: 0.3872711716760399 and parameters: {'iterations': 214, 'learning_rate': 0.0010334294309881779, 'l2_leaf_reg': 0.8958683849064709, 'min_data_in_leaf': 52, 'random_strength': 6.696990182102743, 'bootstrap_type': 'Bayesian', 'grow_policy': 'Depthwise', 'leaf_estimation_method': 'Gradient', 'leaf_estimation_iterations': 4, 'fold_permutation_block': 4, 'depth': 1, 'bagging_temperature': 7.049202118365659}. Best is trial 686 with value: 0.3864838010352342.\u001b[0m\n",
      "\u001b[32m[I 2022-04-28 16:28:26,061]\u001b[0m Trial 966 finished with value: 0.39460772285835216 and parameters: {'iterations': 335, 'learning_rate': 0.00101149822625168, 'l2_leaf_reg': 1.2258511758745996, 'min_data_in_leaf': 58, 'random_strength': 7.365645269981759, 'bootstrap_type': 'Bayesian', 'grow_policy': 'Depthwise', 'leaf_estimation_method': 'Gradient', 'leaf_estimation_iterations': 4, 'fold_permutation_block': 4, 'depth': 1, 'bagging_temperature': 7.499224777401851}. Best is trial 686 with value: 0.3864838010352342.\u001b[0m\n",
      "\u001b[32m[I 2022-04-28 16:28:26,703]\u001b[0m Trial 967 finished with value: 0.3895457666939788 and parameters: {'iterations': 234, 'learning_rate': 0.005647205478980342, 'l2_leaf_reg': 1.9073523317309027, 'min_data_in_leaf': 50, 'random_strength': 7.109279287660776, 'bootstrap_type': 'Bayesian', 'grow_policy': 'Depthwise', 'leaf_estimation_method': 'Gradient', 'leaf_estimation_iterations': 4, 'fold_permutation_block': 5, 'depth': 1, 'bagging_temperature': 7.178252554813908}. Best is trial 686 with value: 0.3864838010352342.\u001b[0m\n",
      "\u001b[32m[I 2022-04-28 16:28:27,402]\u001b[0m Trial 968 finished with value: 0.3893094420356797 and parameters: {'iterations': 264, 'learning_rate': 0.0010175803871733306, 'l2_leaf_reg': 3.2114349968851426, 'min_data_in_leaf': 45, 'random_strength': 6.789655063311816, 'bootstrap_type': 'Bayesian', 'grow_policy': 'Depthwise', 'leaf_estimation_method': 'Gradient', 'leaf_estimation_iterations': 4, 'fold_permutation_block': 4, 'depth': 1, 'bagging_temperature': 6.926717640660277}. Best is trial 686 with value: 0.3864838010352342.\u001b[0m\n",
      "\u001b[32m[I 2022-04-28 16:28:28,115]\u001b[0m Trial 969 finished with value: 0.4480344557284175 and parameters: {'iterations': 228, 'learning_rate': 0.011240250072812787, 'l2_leaf_reg': 0.4820928039417256, 'min_data_in_leaf': 55, 'random_strength': 6.424528148189765, 'bootstrap_type': 'Bayesian', 'grow_policy': 'Depthwise', 'leaf_estimation_method': 'Gradient', 'leaf_estimation_iterations': 4, 'fold_permutation_block': 5, 'depth': 2, 'bagging_temperature': 7.573884093696673}. Best is trial 686 with value: 0.3864838010352342.\u001b[0m\n",
      "\u001b[32m[I 2022-04-28 16:28:28,654]\u001b[0m Trial 970 finished with value: 0.45109973134303916 and parameters: {'iterations': 199, 'learning_rate': 0.0029998974207505807, 'l2_leaf_reg': 0.7731899987226823, 'min_data_in_leaf': 61, 'random_strength': 6.641010525484199, 'bootstrap_type': 'Bernoulli', 'grow_policy': 'Depthwise', 'leaf_estimation_method': 'Gradient', 'leaf_estimation_iterations': 4, 'fold_permutation_block': 4, 'depth': 1, 'subsample': 0.40736755871264096}. Best is trial 686 with value: 0.3864838010352342.\u001b[0m\n",
      "\u001b[32m[I 2022-04-28 16:28:29,267]\u001b[0m Trial 971 finished with value: 0.3881360270225762 and parameters: {'iterations': 219, 'learning_rate': 0.004124855793924147, 'l2_leaf_reg': 1.000200879041049, 'min_data_in_leaf': 48, 'random_strength': 6.20693499230911, 'bootstrap_type': 'Bayesian', 'grow_policy': 'Depthwise', 'leaf_estimation_method': 'Gradient', 'leaf_estimation_iterations': 4, 'fold_permutation_block': 6, 'depth': 1, 'bagging_temperature': 7.3150443580597075}. Best is trial 686 with value: 0.3864838010352342.\u001b[0m\n",
      "\u001b[32m[I 2022-04-28 16:28:29,859]\u001b[0m Trial 972 finished with value: 0.3890237195857535 and parameters: {'iterations': 211, 'learning_rate': 0.0028523259099102966, 'l2_leaf_reg': 1.4699720691528422, 'min_data_in_leaf': 52, 'random_strength': 7.57352729483858, 'bootstrap_type': 'Bayesian', 'grow_policy': 'Depthwise', 'leaf_estimation_method': 'Gradient', 'leaf_estimation_iterations': 4, 'fold_permutation_block': 4, 'depth': 1, 'bagging_temperature': 7.103310469430806}. Best is trial 686 with value: 0.3864838010352342.\u001b[0m\n",
      "\u001b[32m[I 2022-04-28 16:28:30,700]\u001b[0m Trial 973 finished with value: 0.4215343652959926 and parameters: {'iterations': 293, 'learning_rate': 0.04490227486367145, 'l2_leaf_reg': 0.1935893322889579, 'min_data_in_leaf': 57, 'random_strength': 7.197753051069127, 'bootstrap_type': 'Bayesian', 'grow_policy': 'Depthwise', 'leaf_estimation_method': 'Gradient', 'leaf_estimation_iterations': 4, 'fold_permutation_block': 5, 'depth': 1, 'bagging_temperature': 6.67049749031945}. Best is trial 686 with value: 0.3864838010352342.\u001b[0m\n",
      "\u001b[32m[I 2022-04-28 16:28:31,344]\u001b[0m Trial 974 finished with value: 0.3920117043346167 and parameters: {'iterations': 244, 'learning_rate': 0.006174638395113919, 'l2_leaf_reg': 1.227388420087677, 'min_data_in_leaf': 56, 'random_strength': 6.940037208627426, 'bootstrap_type': 'Bayesian', 'grow_policy': 'Depthwise', 'leaf_estimation_method': 'Gradient', 'leaf_estimation_iterations': 4, 'fold_permutation_block': 4, 'depth': 1, 'bagging_temperature': 6.909624604363417}. Best is trial 686 with value: 0.3864838010352342.\u001b[0m\n",
      "\u001b[32m[I 2022-04-28 16:28:31,975]\u001b[0m Trial 975 finished with value: 0.3877024700395209 and parameters: {'iterations': 227, 'learning_rate': 0.0010547331368493142, 'l2_leaf_reg': 0.6418669254973667, 'min_data_in_leaf': 54, 'random_strength': 6.55647236110611, 'bootstrap_type': 'Bayesian', 'grow_policy': 'Depthwise', 'leaf_estimation_method': 'Gradient', 'leaf_estimation_iterations': 4, 'fold_permutation_block': 4, 'depth': 1, 'bagging_temperature': 7.295429845402878}. Best is trial 686 with value: 0.3864838010352342.\u001b[0m\n",
      "\u001b[32m[I 2022-04-28 16:28:32,675]\u001b[0m Trial 976 finished with value: 0.3891854748492602 and parameters: {'iterations': 236, 'learning_rate': 0.0041953341923758455, 'l2_leaf_reg': 0.3430786877525154, 'min_data_in_leaf': 59, 'random_strength': 6.832532495517127, 'bootstrap_type': 'Bayesian', 'grow_policy': 'Depthwise', 'leaf_estimation_method': 'Gradient', 'leaf_estimation_iterations': 4, 'fold_permutation_block': 5, 'depth': 1, 'bagging_temperature': 7.623458748726287}. Best is trial 686 with value: 0.3864838010352342.\u001b[0m\n",
      "\u001b[32m[I 2022-04-28 16:28:33,369]\u001b[0m Trial 977 finished with value: 0.44048768439536307 and parameters: {'iterations': 219, 'learning_rate': 0.001063705225121804, 'l2_leaf_reg': 0.831624304914911, 'min_data_in_leaf': 50, 'random_strength': 6.016465154668203, 'bootstrap_type': 'Bayesian', 'grow_policy': 'Depthwise', 'leaf_estimation_method': 'Gradient', 'leaf_estimation_iterations': 4, 'fold_permutation_block': 4, 'depth': 2, 'bagging_temperature': 7.091909886592662}. Best is trial 686 with value: 0.3864838010352342.\u001b[0m\n",
      "\u001b[32m[I 2022-04-28 16:28:33,946]\u001b[0m Trial 978 finished with value: 0.41669925410138986 and parameters: {'iterations': 203, 'learning_rate': 0.06356522308175776, 'l2_leaf_reg': 1.0720936361234488, 'min_data_in_leaf': 53, 'random_strength': 7.397609450485359, 'bootstrap_type': 'Bayesian', 'grow_policy': 'Depthwise', 'leaf_estimation_method': 'Gradient', 'leaf_estimation_iterations': 4, 'fold_permutation_block': 5, 'depth': 1, 'bagging_temperature': 7.287955579104375}. Best is trial 686 with value: 0.3864838010352342.\u001b[0m\n",
      "\u001b[32m[I 2022-04-28 16:28:34,535]\u001b[0m Trial 979 finished with value: 0.38997219870468464 and parameters: {'iterations': 212, 'learning_rate': 0.0028699879208628387, 'l2_leaf_reg': 1.4005252934128727, 'min_data_in_leaf': 61, 'random_strength': 8.224205413877778, 'bootstrap_type': 'Bayesian', 'grow_policy': 'Depthwise', 'leaf_estimation_method': 'Gradient', 'leaf_estimation_iterations': 4, 'fold_permutation_block': 4, 'depth': 1, 'bagging_temperature': 6.713129185116763}. Best is trial 686 with value: 0.3864838010352342.\u001b[0m\n",
      "\u001b[32m[I 2022-04-28 16:28:35,206]\u001b[0m Trial 980 finished with value: 0.3901218640294722 and parameters: {'iterations': 230, 'learning_rate': 0.005664232306067385, 'l2_leaf_reg': 0.5449292361704, 'min_data_in_leaf': 46, 'random_strength': 6.3327661755508, 'bootstrap_type': 'Bayesian', 'grow_policy': 'Depthwise', 'leaf_estimation_method': 'Gradient', 'leaf_estimation_iterations': 4, 'fold_permutation_block': 5, 'depth': 1, 'bagging_temperature': 7.501203668094289}. Best is trial 686 with value: 0.3864838010352342.\u001b[0m\n",
      "\u001b[32m[I 2022-04-28 16:28:35,811]\u001b[0m Trial 981 finished with value: 0.39185854798948966 and parameters: {'iterations': 221, 'learning_rate': 0.008675367508503583, 'l2_leaf_reg': 1.6812743604900802, 'min_data_in_leaf': 58, 'random_strength': 7.048080611779792, 'bootstrap_type': 'Bayesian', 'grow_policy': 'Depthwise', 'leaf_estimation_method': 'Gradient', 'leaf_estimation_iterations': 4, 'fold_permutation_block': 4, 'depth': 1, 'bagging_temperature': 6.959480790865738}. Best is trial 686 with value: 0.3864838010352342.\u001b[0m\n",
      "\u001b[32m[I 2022-04-28 16:28:37,282]\u001b[0m Trial 982 finished with value: 0.5723070478469078 and parameters: {'iterations': 237, 'learning_rate': 0.03604939194596432, 'l2_leaf_reg': 0.010321212270413604, 'min_data_in_leaf': 55, 'random_strength': 6.728074546132312, 'bootstrap_type': 'Bayesian', 'grow_policy': 'Lossguide', 'leaf_estimation_method': 'Gradient', 'leaf_estimation_iterations': 4, 'fold_permutation_block': 5, 'max_leaves': 20, 'depth': 14, 'bagging_temperature': 7.187705577967079}. Best is trial 686 with value: 0.3864838010352342.\u001b[0m\n",
      "\u001b[32m[I 2022-04-28 16:28:37,940]\u001b[0m Trial 983 finished with value: 0.3962481565787299 and parameters: {'iterations': 253, 'learning_rate': 0.004486082153937407, 'l2_leaf_reg': 1.053003276474224, 'min_data_in_leaf': 51, 'random_strength': 7.191819766719786, 'bootstrap_type': 'Bayesian', 'grow_policy': 'Depthwise', 'leaf_estimation_method': 'Gradient', 'leaf_estimation_iterations': 3, 'fold_permutation_block': 4, 'depth': 1, 'bagging_temperature': 7.807652903316832}. Best is trial 686 with value: 0.3864838010352342.\u001b[0m\n",
      "\u001b[32m[I 2022-04-28 16:28:38,529]\u001b[0m Trial 984 finished with value: 0.38927613531674204 and parameters: {'iterations': 209, 'learning_rate': 0.0026430812435242392, 'l2_leaf_reg': 1.2872043808504214, 'min_data_in_leaf': 43, 'random_strength': 7.802631901824973, 'bootstrap_type': 'Bayesian', 'grow_policy': 'Depthwise', 'leaf_estimation_method': 'Gradient', 'leaf_estimation_iterations': 4, 'fold_permutation_block': 5, 'depth': 1, 'bagging_temperature': 7.405872765733085}. Best is trial 686 with value: 0.3864838010352342.\u001b[0m\n",
      "\u001b[32m[I 2022-04-28 16:28:39,166]\u001b[0m Trial 985 finished with value: 0.3891146697341432 and parameters: {'iterations': 227, 'learning_rate': 0.0026681937780829515, 'l2_leaf_reg': 3.1038665445505607, 'min_data_in_leaf': 49, 'random_strength': 6.477539994942728, 'bootstrap_type': 'Bayesian', 'grow_policy': 'Depthwise', 'leaf_estimation_method': 'Gradient', 'leaf_estimation_iterations': 4, 'fold_permutation_block': 6, 'depth': 1, 'bagging_temperature': 6.850354709243317}. Best is trial 686 with value: 0.3864838010352342.\u001b[0m\n",
      "\u001b[32m[I 2022-04-28 16:28:39,788]\u001b[0m Trial 986 finished with value: 0.38759551805327197 and parameters: {'iterations': 217, 'learning_rate': 0.0010992951518441056, 'l2_leaf_reg': 0.8659201730849855, 'min_data_in_leaf': 56, 'random_strength': 6.937685113262054, 'bootstrap_type': 'Bayesian', 'grow_policy': 'Depthwise', 'leaf_estimation_method': 'Gradient', 'leaf_estimation_iterations': 4, 'fold_permutation_block': 4, 'depth': 1, 'bagging_temperature': 7.689021608553358}. Best is trial 686 with value: 0.3864838010352342.\u001b[0m\n",
      "\u001b[32m[I 2022-04-28 16:28:40,384]\u001b[0m Trial 987 finished with value: 0.38966143437422845 and parameters: {'iterations': 224, 'learning_rate': 0.004483944225632976, 'l2_leaf_reg': 1.533238598359015, 'min_data_in_leaf': 60, 'random_strength': 7.440994978414934, 'bootstrap_type': 'Bayesian', 'grow_policy': 'Depthwise', 'leaf_estimation_method': 'Gradient', 'leaf_estimation_iterations': 4, 'fold_permutation_block': 4, 'depth': 1, 'bagging_temperature': 7.120177197890502}. Best is trial 686 with value: 0.3864838010352342.\u001b[0m\n",
      "\u001b[32m[I 2022-04-28 16:28:40,949]\u001b[0m Trial 988 finished with value: 0.3900442793190539 and parameters: {'iterations': 195, 'learning_rate': 0.0028210331370398366, 'l2_leaf_reg': 3.4873835741644874, 'min_data_in_leaf': 53, 'random_strength': 6.209365531917927, 'bootstrap_type': 'Bayesian', 'grow_policy': 'Depthwise', 'leaf_estimation_method': 'Gradient', 'leaf_estimation_iterations': 4, 'fold_permutation_block': 5, 'depth': 1, 'bagging_temperature': 8.058538537739377}. Best is trial 686 with value: 0.3864838010352342.\u001b[0m\n",
      "\u001b[32m[I 2022-04-28 16:28:41,654]\u001b[0m Trial 989 finished with value: 0.38869530891160614 and parameters: {'iterations': 242, 'learning_rate': 0.0010544671457586644, 'l2_leaf_reg': 0.6239131243507211, 'min_data_in_leaf': 47, 'random_strength': 6.649486083726251, 'bootstrap_type': 'Bayesian', 'grow_policy': 'Depthwise', 'leaf_estimation_method': 'Gradient', 'leaf_estimation_iterations': 4, 'fold_permutation_block': 4, 'depth': 1, 'bagging_temperature': 7.412634801563262}. Best is trial 686 with value: 0.3864838010352342.\u001b[0m\n",
      "\u001b[32m[I 2022-04-28 16:28:42,294]\u001b[0m Trial 990 finished with value: 0.38719994846113287 and parameters: {'iterations': 234, 'learning_rate': 0.0010337769484806384, 'l2_leaf_reg': 1.160540458315318, 'min_data_in_leaf': 54, 'random_strength': 7.219408962201388, 'bootstrap_type': 'Bayesian', 'grow_policy': 'Depthwise', 'leaf_estimation_method': 'Gradient', 'leaf_estimation_iterations': 4, 'fold_permutation_block': 5, 'depth': 1, 'bagging_temperature': 6.909757115239026}. Best is trial 686 with value: 0.3864838010352342.\u001b[0m\n",
      "\u001b[32m[I 2022-04-28 16:28:42,964]\u001b[0m Trial 991 finished with value: 0.3918515922731887 and parameters: {'iterations': 239, 'learning_rate': 0.006826369728922745, 'l2_leaf_reg': 1.3377316039941094, 'min_data_in_leaf': 55, 'random_strength': 7.435082646298081, 'bootstrap_type': 'Bayesian', 'grow_policy': 'Depthwise', 'leaf_estimation_method': 'Gradient', 'leaf_estimation_iterations': 4, 'fold_permutation_block': 5, 'depth': 1, 'bagging_temperature': 6.776518278221166}. Best is trial 686 with value: 0.3864838010352342.\u001b[0m\n",
      "\u001b[32m[I 2022-04-28 16:28:43,789]\u001b[0m Trial 992 finished with value: 0.45073848930213023 and parameters: {'iterations': 250, 'learning_rate': 0.0027551839625257015, 'l2_leaf_reg': 1.7127329481204643, 'min_data_in_leaf': 57, 'random_strength': 7.591800536870228, 'bootstrap_type': 'Bayesian', 'grow_policy': 'Depthwise', 'leaf_estimation_method': 'Gradient', 'leaf_estimation_iterations': 5, 'fold_permutation_block': 5, 'depth': 2, 'bagging_temperature': 7.265840669138825}. Best is trial 686 with value: 0.3864838010352342.\u001b[0m\n",
      "\u001b[32m[I 2022-04-28 16:28:44,436]\u001b[0m Trial 993 finished with value: 0.4056173030281292 and parameters: {'iterations': 235, 'learning_rate': 0.0010727795030252363, 'l2_leaf_reg': 1.1865250410286228, 'min_data_in_leaf': 54, 'random_strength': 7.683058563808241, 'bootstrap_type': 'Bayesian', 'grow_policy': 'Depthwise', 'leaf_estimation_method': 'Gradient', 'leaf_estimation_iterations': 4, 'fold_permutation_block': 5, 'depth': 1, 'bagging_temperature': 4.77313997974529}. Best is trial 686 with value: 0.3864838010352342.\u001b[0m\n",
      "\u001b[32m[I 2022-04-28 16:28:45,016]\u001b[0m Trial 994 finished with value: 0.3901545906068833 and parameters: {'iterations': 206, 'learning_rate': 0.004656259286899198, 'l2_leaf_reg': 1.5138822004958241, 'min_data_in_leaf': 58, 'random_strength': 7.2420825660961, 'bootstrap_type': 'Bayesian', 'grow_policy': 'Depthwise', 'leaf_estimation_method': 'Gradient', 'leaf_estimation_iterations': 4, 'fold_permutation_block': 5, 'depth': 1, 'bagging_temperature': 7.5575411225577405}. Best is trial 686 with value: 0.3864838010352342.\u001b[0m\n",
      "\u001b[32m[I 2022-04-28 16:28:45,617]\u001b[0m Trial 995 finished with value: 0.38902680449892535 and parameters: {'iterations': 218, 'learning_rate': 0.0026341832635962273, 'l2_leaf_reg': 1.3194944833235933, 'min_data_in_leaf': 54, 'random_strength': 8.088653079650257, 'bootstrap_type': 'Bayesian', 'grow_policy': 'Depthwise', 'leaf_estimation_method': 'Gradient', 'leaf_estimation_iterations': 4, 'fold_permutation_block': 5, 'depth': 1, 'bagging_temperature': 7.058322024614492}. Best is trial 686 with value: 0.3864838010352342.\u001b[0m\n",
      "\u001b[32m[I 2022-04-28 16:28:46,361]\u001b[0m Trial 996 finished with value: 0.3978392766146391 and parameters: {'iterations': 225, 'learning_rate': 0.001091468405182452, 'l2_leaf_reg': 2.007545944592142, 'min_data_in_leaf': 56, 'random_strength': 7.3163707767846455, 'bootstrap_type': 'Bayesian', 'grow_policy': 'Depthwise', 'leaf_estimation_method': 'Gradient', 'leaf_estimation_iterations': 7, 'fold_permutation_block': 5, 'depth': 1, 'bagging_temperature': 6.6755944766083495}. Best is trial 686 with value: 0.3864838010352342.\u001b[0m\n",
      "\u001b[32m[I 2022-04-28 16:28:46,924]\u001b[0m Trial 997 finished with value: 0.4530724983287502 and parameters: {'iterations': 212, 'learning_rate': 0.0010270010205183778, 'l2_leaf_reg': 1.0905818247323442, 'min_data_in_leaf': 59, 'random_strength': 7.148720104488452, 'bootstrap_type': 'Bernoulli', 'grow_policy': 'Depthwise', 'leaf_estimation_method': 'Gradient', 'leaf_estimation_iterations': 4, 'fold_permutation_block': 5, 'depth': 1, 'subsample': 0.6386008009418258}. Best is trial 686 with value: 0.3864838010352342.\u001b[0m\n",
      "\u001b[32m[I 2022-04-28 16:28:47,572]\u001b[0m Trial 998 finished with value: 0.3882712065059379 and parameters: {'iterations': 243, 'learning_rate': 0.0010359525954922988, 'l2_leaf_reg': 1.6576101086593555, 'min_data_in_leaf': 53, 'random_strength': 7.535717448170209, 'bootstrap_type': 'Bayesian', 'grow_policy': 'Depthwise', 'leaf_estimation_method': 'Gradient', 'leaf_estimation_iterations': 4, 'fold_permutation_block': 6, 'depth': 1, 'bagging_temperature': 7.348240661116534}. Best is trial 686 with value: 0.3864838010352342.\u001b[0m\n",
      "\u001b[32m[I 2022-04-28 16:28:48,248]\u001b[0m Trial 999 finished with value: 0.39104068506259276 and parameters: {'iterations': 233, 'learning_rate': 0.005581563764108332, 'l2_leaf_reg': 1.2669709168159322, 'min_data_in_leaf': 56, 'random_strength': 7.850185364978548, 'bootstrap_type': 'Bayesian', 'grow_policy': 'Depthwise', 'leaf_estimation_method': 'Gradient', 'leaf_estimation_iterations': 4, 'fold_permutation_block': 5, 'depth': 1, 'bagging_temperature': 6.922087518327313}. Best is trial 686 with value: 0.3864838010352342.\u001b[0m\n"
     ]
    }
   ],
   "source": [
    "study = optuna.create_study(direction='minimize')\n",
    "study.optimize(objective, n_trials=1000)"
   ]
  },
  {
   "cell_type": "code",
   "execution_count": 153,
   "id": "8cb3dbb9-9abe-4996-a0b5-73f95b27305c",
   "metadata": {},
   "outputs": [
    {
     "data": {
      "text/plain": [
       "{'iterations': 220,\n",
       " 'learning_rate': 0.0011349065965394146,\n",
       " 'l2_leaf_reg': 0.9871521315917045,\n",
       " 'min_data_in_leaf': 54,\n",
       " 'random_strength': 6.919783626740396,\n",
       " 'bootstrap_type': 'Bayesian',\n",
       " 'grow_policy': 'Depthwise',\n",
       " 'leaf_estimation_method': 'Gradient',\n",
       " 'leaf_estimation_iterations': 4,\n",
       " 'fold_permutation_block': 4,\n",
       " 'depth': 1,\n",
       " 'bagging_temperature': 7.119951584701868}"
      ]
     },
     "execution_count": 153,
     "metadata": {},
     "output_type": "execute_result"
    }
   ],
   "source": [
    "study.best_params"
   ]
  },
  {
   "cell_type": "code",
   "execution_count": 154,
   "id": "43fd7e9c-641a-4c72-92a0-8f47f3d435e1",
   "metadata": {
    "collapsed": true,
    "jupyter": {
     "outputs_hidden": true
    },
    "tags": []
   },
   "outputs": [
    {
     "name": "stdout",
     "output_type": "stream",
     "text": [
      "0:\tlearn: 0.6929118\ttotal: 2.77ms\tremaining: 608ms\n",
      "1:\tlearn: 0.6926546\ttotal: 5.57ms\tremaining: 607ms\n",
      "2:\tlearn: 0.6924101\ttotal: 8.32ms\tremaining: 602ms\n",
      "3:\tlearn: 0.6921758\ttotal: 10.9ms\tremaining: 587ms\n",
      "4:\tlearn: 0.6919293\ttotal: 13.3ms\tremaining: 574ms\n",
      "5:\tlearn: 0.6916977\ttotal: 15.8ms\tremaining: 565ms\n",
      "6:\tlearn: 0.6914422\ttotal: 18.3ms\tremaining: 558ms\n",
      "7:\tlearn: 0.6911871\ttotal: 21ms\tremaining: 557ms\n",
      "8:\tlearn: 0.6909597\ttotal: 23.6ms\tremaining: 553ms\n",
      "9:\tlearn: 0.6907084\ttotal: 26.1ms\tremaining: 548ms\n",
      "10:\tlearn: 0.6904641\ttotal: 28.8ms\tremaining: 547ms\n",
      "11:\tlearn: 0.6902327\ttotal: 31.3ms\tremaining: 542ms\n",
      "12:\tlearn: 0.6900067\ttotal: 34.1ms\tremaining: 543ms\n",
      "13:\tlearn: 0.6897767\ttotal: 37ms\tremaining: 545ms\n",
      "14:\tlearn: 0.6895512\ttotal: 39.5ms\tremaining: 539ms\n",
      "15:\tlearn: 0.6893193\ttotal: 42.1ms\tremaining: 536ms\n",
      "16:\tlearn: 0.6890952\ttotal: 44.5ms\tremaining: 531ms\n",
      "17:\tlearn: 0.6888707\ttotal: 47.1ms\tremaining: 529ms\n",
      "18:\tlearn: 0.6886226\ttotal: 49.5ms\tremaining: 524ms\n",
      "19:\tlearn: 0.6883995\ttotal: 52ms\tremaining: 520ms\n",
      "20:\tlearn: 0.6881587\ttotal: 54.4ms\tremaining: 515ms\n",
      "21:\tlearn: 0.6879281\ttotal: 56.8ms\tremaining: 512ms\n",
      "22:\tlearn: 0.6876880\ttotal: 59.3ms\tremaining: 508ms\n",
      "23:\tlearn: 0.6874626\ttotal: 61.7ms\tremaining: 504ms\n",
      "24:\tlearn: 0.6872142\ttotal: 64.2ms\tremaining: 501ms\n",
      "25:\tlearn: 0.6869836\ttotal: 66.6ms\tremaining: 497ms\n",
      "26:\tlearn: 0.6867538\ttotal: 69.1ms\tremaining: 494ms\n",
      "27:\tlearn: 0.6865330\ttotal: 71.5ms\tremaining: 490ms\n",
      "28:\tlearn: 0.6863130\ttotal: 73.9ms\tremaining: 487ms\n",
      "29:\tlearn: 0.6860780\ttotal: 76.5ms\tremaining: 485ms\n",
      "30:\tlearn: 0.6858496\ttotal: 79ms\tremaining: 482ms\n",
      "31:\tlearn: 0.6856303\ttotal: 81.4ms\tremaining: 478ms\n",
      "32:\tlearn: 0.6853963\ttotal: 84.1ms\tremaining: 477ms\n",
      "33:\tlearn: 0.6851719\ttotal: 86.5ms\tremaining: 473ms\n",
      "34:\tlearn: 0.6849350\ttotal: 88.9ms\tremaining: 470ms\n",
      "35:\tlearn: 0.6846985\ttotal: 91.3ms\tremaining: 467ms\n",
      "36:\tlearn: 0.6844780\ttotal: 93.8ms\tremaining: 464ms\n",
      "37:\tlearn: 0.6842562\ttotal: 96.5ms\tremaining: 462ms\n",
      "38:\tlearn: 0.6840391\ttotal: 98.9ms\tremaining: 459ms\n",
      "39:\tlearn: 0.6838048\ttotal: 101ms\tremaining: 456ms\n",
      "40:\tlearn: 0.6835709\ttotal: 104ms\tremaining: 452ms\n",
      "41:\tlearn: 0.6833471\ttotal: 106ms\tremaining: 449ms\n",
      "42:\tlearn: 0.6831259\ttotal: 108ms\tremaining: 446ms\n",
      "43:\tlearn: 0.6829069\ttotal: 111ms\tremaining: 444ms\n",
      "44:\tlearn: 0.6826743\ttotal: 113ms\tremaining: 441ms\n",
      "45:\tlearn: 0.6824596\ttotal: 116ms\tremaining: 438ms\n",
      "46:\tlearn: 0.6822361\ttotal: 118ms\tremaining: 435ms\n",
      "47:\tlearn: 0.6820072\ttotal: 121ms\tremaining: 432ms\n",
      "48:\tlearn: 0.6817896\ttotal: 123ms\tremaining: 429ms\n",
      "49:\tlearn: 0.6815491\ttotal: 125ms\tremaining: 426ms\n",
      "50:\tlearn: 0.6813094\ttotal: 128ms\tremaining: 423ms\n",
      "51:\tlearn: 0.6810966\ttotal: 130ms\tremaining: 421ms\n",
      "52:\tlearn: 0.6808845\ttotal: 133ms\tremaining: 418ms\n",
      "53:\tlearn: 0.6806549\ttotal: 135ms\tremaining: 416ms\n",
      "54:\tlearn: 0.6804394\ttotal: 138ms\tremaining: 413ms\n",
      "55:\tlearn: 0.6802251\ttotal: 140ms\tremaining: 410ms\n",
      "56:\tlearn: 0.6800137\ttotal: 142ms\tremaining: 407ms\n",
      "57:\tlearn: 0.6797952\ttotal: 145ms\tremaining: 404ms\n",
      "58:\tlearn: 0.6795575\ttotal: 147ms\tremaining: 402ms\n",
      "59:\tlearn: 0.6793397\ttotal: 150ms\tremaining: 399ms\n",
      "60:\tlearn: 0.6791124\ttotal: 152ms\tremaining: 396ms\n",
      "61:\tlearn: 0.6788959\ttotal: 155ms\tremaining: 394ms\n",
      "62:\tlearn: 0.6786693\ttotal: 157ms\tremaining: 391ms\n",
      "63:\tlearn: 0.6784591\ttotal: 159ms\tremaining: 388ms\n",
      "64:\tlearn: 0.6782234\ttotal: 162ms\tremaining: 386ms\n",
      "65:\tlearn: 0.6779957\ttotal: 164ms\tremaining: 383ms\n",
      "66:\tlearn: 0.6777704\ttotal: 167ms\tremaining: 380ms\n",
      "67:\tlearn: 0.6775542\ttotal: 169ms\tremaining: 378ms\n",
      "68:\tlearn: 0.6773198\ttotal: 171ms\tremaining: 375ms\n",
      "69:\tlearn: 0.6771132\ttotal: 174ms\tremaining: 372ms\n",
      "70:\tlearn: 0.6768892\ttotal: 176ms\tremaining: 369ms\n",
      "71:\tlearn: 0.6766656\ttotal: 178ms\tremaining: 367ms\n",
      "72:\tlearn: 0.6764510\ttotal: 181ms\tremaining: 364ms\n",
      "73:\tlearn: 0.6762214\ttotal: 183ms\tremaining: 362ms\n",
      "74:\tlearn: 0.6760091\ttotal: 186ms\tremaining: 359ms\n",
      "75:\tlearn: 0.6758014\ttotal: 188ms\tremaining: 357ms\n",
      "76:\tlearn: 0.6755696\ttotal: 191ms\tremaining: 354ms\n",
      "77:\tlearn: 0.6753562\ttotal: 193ms\tremaining: 351ms\n",
      "78:\tlearn: 0.6751348\ttotal: 195ms\tremaining: 349ms\n",
      "79:\tlearn: 0.6749072\ttotal: 198ms\tremaining: 346ms\n",
      "80:\tlearn: 0.6746768\ttotal: 200ms\tremaining: 344ms\n",
      "81:\tlearn: 0.6744564\ttotal: 203ms\tremaining: 341ms\n",
      "82:\tlearn: 0.6742459\ttotal: 205ms\tremaining: 338ms\n",
      "83:\tlearn: 0.6740348\ttotal: 207ms\tremaining: 336ms\n",
      "84:\tlearn: 0.6738256\ttotal: 210ms\tremaining: 333ms\n",
      "85:\tlearn: 0.6736168\ttotal: 212ms\tremaining: 331ms\n",
      "86:\tlearn: 0.6734140\ttotal: 215ms\tremaining: 328ms\n",
      "87:\tlearn: 0.6731942\ttotal: 217ms\tremaining: 326ms\n",
      "88:\tlearn: 0.6729896\ttotal: 219ms\tremaining: 323ms\n",
      "89:\tlearn: 0.6727695\ttotal: 222ms\tremaining: 321ms\n",
      "90:\tlearn: 0.6725602\ttotal: 224ms\tremaining: 318ms\n",
      "91:\tlearn: 0.6723429\ttotal: 227ms\tremaining: 316ms\n",
      "92:\tlearn: 0.6721412\ttotal: 229ms\tremaining: 313ms\n",
      "93:\tlearn: 0.6719224\ttotal: 232ms\tremaining: 311ms\n",
      "94:\tlearn: 0.6717147\ttotal: 234ms\tremaining: 308ms\n",
      "95:\tlearn: 0.6715156\ttotal: 236ms\tremaining: 305ms\n",
      "96:\tlearn: 0.6712999\ttotal: 239ms\tremaining: 303ms\n",
      "97:\tlearn: 0.6710927\ttotal: 241ms\tremaining: 300ms\n",
      "98:\tlearn: 0.6708755\ttotal: 244ms\tremaining: 298ms\n",
      "99:\tlearn: 0.6706710\ttotal: 246ms\tremaining: 295ms\n",
      "100:\tlearn: 0.6704591\ttotal: 249ms\tremaining: 293ms\n",
      "101:\tlearn: 0.6702552\ttotal: 251ms\tremaining: 290ms\n",
      "102:\tlearn: 0.6700583\ttotal: 253ms\tremaining: 288ms\n",
      "103:\tlearn: 0.6698434\ttotal: 256ms\tremaining: 285ms\n",
      "104:\tlearn: 0.6696236\ttotal: 258ms\tremaining: 283ms\n",
      "105:\tlearn: 0.6694270\ttotal: 261ms\tremaining: 280ms\n",
      "106:\tlearn: 0.6692258\ttotal: 263ms\tremaining: 278ms\n",
      "107:\tlearn: 0.6690309\ttotal: 266ms\tremaining: 276ms\n",
      "108:\tlearn: 0.6688167\ttotal: 268ms\tremaining: 273ms\n",
      "109:\tlearn: 0.6685985\ttotal: 270ms\tremaining: 270ms\n",
      "110:\tlearn: 0.6684022\ttotal: 273ms\tremaining: 268ms\n",
      "111:\tlearn: 0.6682006\ttotal: 275ms\tremaining: 265ms\n",
      "112:\tlearn: 0.6680013\ttotal: 278ms\tremaining: 263ms\n",
      "113:\tlearn: 0.6678011\ttotal: 280ms\tremaining: 261ms\n",
      "114:\tlearn: 0.6676023\ttotal: 283ms\tremaining: 258ms\n",
      "115:\tlearn: 0.6674098\ttotal: 285ms\tremaining: 256ms\n",
      "116:\tlearn: 0.6672176\ttotal: 288ms\tremaining: 253ms\n",
      "117:\tlearn: 0.6669993\ttotal: 290ms\tremaining: 251ms\n",
      "118:\tlearn: 0.6667838\ttotal: 292ms\tremaining: 248ms\n",
      "119:\tlearn: 0.6665866\ttotal: 295ms\tremaining: 246ms\n",
      "120:\tlearn: 0.6663876\ttotal: 297ms\tremaining: 243ms\n",
      "121:\tlearn: 0.6661731\ttotal: 300ms\tremaining: 241ms\n",
      "122:\tlearn: 0.6659822\ttotal: 302ms\tremaining: 238ms\n",
      "123:\tlearn: 0.6657917\ttotal: 304ms\tremaining: 236ms\n",
      "124:\tlearn: 0.6655965\ttotal: 307ms\tremaining: 233ms\n",
      "125:\tlearn: 0.6653800\ttotal: 309ms\tremaining: 231ms\n",
      "126:\tlearn: 0.6651669\ttotal: 312ms\tremaining: 228ms\n",
      "127:\tlearn: 0.6649742\ttotal: 314ms\tremaining: 226ms\n",
      "128:\tlearn: 0.6647618\ttotal: 316ms\tremaining: 223ms\n",
      "129:\tlearn: 0.6645497\ttotal: 319ms\tremaining: 221ms\n",
      "130:\tlearn: 0.6643422\ttotal: 321ms\tremaining: 218ms\n",
      "131:\tlearn: 0.6641307\ttotal: 324ms\tremaining: 216ms\n",
      "132:\tlearn: 0.6639166\ttotal: 326ms\tremaining: 213ms\n",
      "133:\tlearn: 0.6637288\ttotal: 328ms\tremaining: 211ms\n",
      "134:\tlearn: 0.6635383\ttotal: 331ms\tremaining: 208ms\n",
      "135:\tlearn: 0.6633471\ttotal: 333ms\tremaining: 206ms\n",
      "136:\tlearn: 0.6631535\ttotal: 335ms\tremaining: 203ms\n",
      "137:\tlearn: 0.6629582\ttotal: 338ms\tremaining: 201ms\n",
      "138:\tlearn: 0.6627721\ttotal: 340ms\tremaining: 198ms\n",
      "139:\tlearn: 0.6625865\ttotal: 343ms\tremaining: 196ms\n",
      "140:\tlearn: 0.6624012\ttotal: 345ms\tremaining: 193ms\n",
      "141:\tlearn: 0.6622163\ttotal: 347ms\tremaining: 191ms\n",
      "142:\tlearn: 0.6620244\ttotal: 350ms\tremaining: 188ms\n",
      "143:\tlearn: 0.6618329\ttotal: 352ms\tremaining: 186ms\n",
      "144:\tlearn: 0.6616315\ttotal: 355ms\tremaining: 183ms\n",
      "145:\tlearn: 0.6614477\ttotal: 357ms\tremaining: 181ms\n",
      "146:\tlearn: 0.6612641\ttotal: 359ms\tremaining: 178ms\n",
      "147:\tlearn: 0.6610806\ttotal: 362ms\tremaining: 176ms\n",
      "148:\tlearn: 0.6608830\ttotal: 364ms\tremaining: 174ms\n",
      "149:\tlearn: 0.6606736\ttotal: 367ms\tremaining: 171ms\n",
      "150:\tlearn: 0.6604718\ttotal: 369ms\tremaining: 169ms\n",
      "151:\tlearn: 0.6602850\ttotal: 371ms\tremaining: 166ms\n",
      "152:\tlearn: 0.6600984\ttotal: 374ms\tremaining: 164ms\n",
      "153:\tlearn: 0.6599089\ttotal: 376ms\tremaining: 161ms\n",
      "154:\tlearn: 0.6597185\ttotal: 379ms\tremaining: 159ms\n",
      "155:\tlearn: 0.6595303\ttotal: 381ms\tremaining: 156ms\n",
      "156:\tlearn: 0.6593409\ttotal: 383ms\tremaining: 154ms\n",
      "157:\tlearn: 0.6591533\ttotal: 386ms\tremaining: 151ms\n",
      "158:\tlearn: 0.6589728\ttotal: 388ms\tremaining: 149ms\n",
      "159:\tlearn: 0.6587741\ttotal: 391ms\tremaining: 147ms\n",
      "160:\tlearn: 0.6585710\ttotal: 394ms\tremaining: 144ms\n",
      "161:\tlearn: 0.6583652\ttotal: 396ms\tremaining: 142ms\n",
      "162:\tlearn: 0.6581814\ttotal: 398ms\tremaining: 139ms\n",
      "163:\tlearn: 0.6579996\ttotal: 401ms\tremaining: 137ms\n",
      "164:\tlearn: 0.6577977\ttotal: 403ms\tremaining: 134ms\n",
      "165:\tlearn: 0.6576171\ttotal: 406ms\tremaining: 132ms\n",
      "166:\tlearn: 0.6574278\ttotal: 408ms\tremaining: 129ms\n",
      "167:\tlearn: 0.6572309\ttotal: 410ms\tremaining: 127ms\n",
      "168:\tlearn: 0.6570500\ttotal: 413ms\tremaining: 125ms\n",
      "169:\tlearn: 0.6568637\ttotal: 415ms\tremaining: 122ms\n",
      "170:\tlearn: 0.6566777\ttotal: 418ms\tremaining: 120ms\n",
      "171:\tlearn: 0.6564981\ttotal: 420ms\tremaining: 117ms\n",
      "172:\tlearn: 0.6563164\ttotal: 422ms\tremaining: 115ms\n",
      "173:\tlearn: 0.6561388\ttotal: 425ms\tremaining: 112ms\n",
      "174:\tlearn: 0.6559599\ttotal: 427ms\tremaining: 110ms\n",
      "175:\tlearn: 0.6557803\ttotal: 430ms\tremaining: 107ms\n",
      "176:\tlearn: 0.6555980\ttotal: 432ms\tremaining: 105ms\n",
      "177:\tlearn: 0.6554159\ttotal: 434ms\tremaining: 103ms\n",
      "178:\tlearn: 0.6552342\ttotal: 437ms\tremaining: 100ms\n",
      "179:\tlearn: 0.6550452\ttotal: 439ms\tremaining: 97.6ms\n",
      "180:\tlearn: 0.6548538\ttotal: 442ms\tremaining: 95.2ms\n",
      "181:\tlearn: 0.6546728\ttotal: 444ms\tremaining: 92.8ms\n",
      "182:\tlearn: 0.6544962\ttotal: 447ms\tremaining: 90.3ms\n",
      "183:\tlearn: 0.6543137\ttotal: 449ms\tremaining: 87.9ms\n",
      "184:\tlearn: 0.6541143\ttotal: 452ms\tremaining: 85.5ms\n",
      "185:\tlearn: 0.6539411\ttotal: 454ms\tremaining: 83ms\n",
      "186:\tlearn: 0.6537572\ttotal: 457ms\tremaining: 80.6ms\n",
      "187:\tlearn: 0.6535583\ttotal: 459ms\tremaining: 78.1ms\n",
      "188:\tlearn: 0.6533857\ttotal: 461ms\tremaining: 75.7ms\n",
      "189:\tlearn: 0.6531906\ttotal: 464ms\tremaining: 73.2ms\n",
      "190:\tlearn: 0.6530120\ttotal: 466ms\tremaining: 70.8ms\n",
      "191:\tlearn: 0.6528399\ttotal: 469ms\tremaining: 68.3ms\n",
      "192:\tlearn: 0.6526671\ttotal: 471ms\tremaining: 65.9ms\n",
      "193:\tlearn: 0.6524960\ttotal: 473ms\tremaining: 63.4ms\n",
      "194:\tlearn: 0.6523185\ttotal: 476ms\tremaining: 61ms\n",
      "195:\tlearn: 0.6521479\ttotal: 478ms\tremaining: 58.5ms\n",
      "196:\tlearn: 0.6519709\ttotal: 481ms\tremaining: 56.1ms\n",
      "197:\tlearn: 0.6517954\ttotal: 483ms\tremaining: 53.7ms\n",
      "198:\tlearn: 0.6516259\ttotal: 485ms\tremaining: 51.2ms\n",
      "199:\tlearn: 0.6514514\ttotal: 488ms\tremaining: 48.8ms\n",
      "200:\tlearn: 0.6512563\ttotal: 490ms\tremaining: 46.3ms\n",
      "201:\tlearn: 0.6510644\ttotal: 493ms\tremaining: 43.9ms\n",
      "202:\tlearn: 0.6508914\ttotal: 495ms\tremaining: 41.5ms\n",
      "203:\tlearn: 0.6507089\ttotal: 497ms\tremaining: 39ms\n",
      "204:\tlearn: 0.6505320\ttotal: 500ms\tremaining: 36.6ms\n",
      "205:\tlearn: 0.6503640\ttotal: 502ms\tremaining: 34.1ms\n",
      "206:\tlearn: 0.6501794\ttotal: 505ms\tremaining: 31.7ms\n",
      "207:\tlearn: 0.6500105\ttotal: 507ms\tremaining: 29.3ms\n",
      "208:\tlearn: 0.6498175\ttotal: 511ms\tremaining: 26.9ms\n",
      "209:\tlearn: 0.6496439\ttotal: 514ms\tremaining: 24.5ms\n",
      "210:\tlearn: 0.6494633\ttotal: 516ms\tremaining: 22ms\n",
      "211:\tlearn: 0.6492967\ttotal: 519ms\tremaining: 19.6ms\n",
      "212:\tlearn: 0.6491048\ttotal: 521ms\tremaining: 17.1ms\n",
      "213:\tlearn: 0.6489220\ttotal: 524ms\tremaining: 14.7ms\n",
      "214:\tlearn: 0.6487425\ttotal: 526ms\tremaining: 12.2ms\n",
      "215:\tlearn: 0.6485770\ttotal: 529ms\tremaining: 9.79ms\n",
      "216:\tlearn: 0.6484110\ttotal: 531ms\tremaining: 7.34ms\n",
      "217:\tlearn: 0.6482464\ttotal: 533ms\tremaining: 4.89ms\n",
      "218:\tlearn: 0.6480731\ttotal: 536ms\tremaining: 2.45ms\n",
      "219:\tlearn: 0.6479012\ttotal: 538ms\tremaining: 0us\n"
     ]
    },
    {
     "data": {
      "text/plain": [
       "<catboost.core.CatBoostClassifier at 0x7fa961be3198>"
      ]
     },
     "execution_count": 154,
     "metadata": {},
     "output_type": "execute_result"
    }
   ],
   "source": [
    "cb_model = cb.CatBoostClassifier(**study.best_params, random_seed=0)\n",
    "cb_model.fit(encoded_train_x, train_y)"
   ]
  },
  {
   "cell_type": "code",
   "execution_count": 158,
   "id": "a377164b-f0ca-4b23-bc6d-1327c034b371",
   "metadata": {},
   "outputs": [
    {
     "data": {
      "text/plain": [
       "0.379404042079732"
      ]
     },
     "execution_count": 158,
     "metadata": {},
     "output_type": "execute_result"
    }
   ],
   "source": [
    "make_scorer(gini_score, needs_proba=True)(cb_model, encoded_oot_x, oot_y)"
   ]
  },
  {
   "cell_type": "code",
   "execution_count": 159,
   "id": "34f3fb29-cf82-4fb0-8487-a78e79ca5301",
   "metadata": {},
   "outputs": [
    {
     "data": {
      "text/plain": [
       "0.43533486781827535"
      ]
     },
     "execution_count": 159,
     "metadata": {},
     "output_type": "execute_result"
    }
   ],
   "source": [
    "make_scorer(gini_score, needs_proba=True)(cb_model, encoded_oos_x, oos_y)"
   ]
  },
  {
   "cell_type": "code",
   "execution_count": 157,
   "id": "cde4e531-1d20-4150-a944-6eacdeed89d2",
   "metadata": {},
   "outputs": [
    {
     "data": {
      "text/plain": [
       "<catboost.core.CatBoostClassifier at 0x7fa961be3198>"
      ]
     },
     "execution_count": 157,
     "metadata": {},
     "output_type": "execute_result"
    }
   ],
   "source": [
    "cb_model"
   ]
  },
  {
   "cell_type": "code",
   "execution_count": null,
   "id": "276df578-6bf0-4f5a-83ed-0635291b6bb5",
   "metadata": {},
   "outputs": [],
   "source": []
  }
 ],
 "metadata": {
  "kernelspec": {
   "display_name": "Python 3 (ipykernel)",
   "language": "python",
   "name": "python3"
  },
  "language_info": {
   "codemirror_mode": {
    "name": "ipython",
    "version": 3
   },
   "file_extension": ".py",
   "mimetype": "text/x-python",
   "name": "python",
   "nbconvert_exporter": "python",
   "pygments_lexer": "ipython3",
   "version": "3.7.12"
  }
 },
 "nbformat": 4,
 "nbformat_minor": 5
}
